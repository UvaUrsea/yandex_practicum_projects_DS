{
 "cells": [
  {
   "cell_type": "markdown",
   "metadata": {
    "toc": true
   },
   "source": [
    "<h1>Содержание<span class=\"tocSkip\"></span></h1>\n",
    "<div class=\"toc\"><ul class=\"toc-item\"><li><span><a href=\"#Подготовка-данных\" data-toc-modified-id=\"Подготовка-данных-1\"><span class=\"toc-item-num\">1&nbsp;&nbsp;</span>Подготовка данных</a></span><ul class=\"toc-item\"><li><span><a href=\"#Открытие-датафрейма,-подключение-библиотек\" data-toc-modified-id=\"Открытие-датафрейма,-подключение-библиотек-1.1\"><span class=\"toc-item-num\">1.1&nbsp;&nbsp;</span>Открытие датафрейма, подключение библиотек</a></span></li><li><span><a href=\"#Описание-данных\" data-toc-modified-id=\"Описание-данных-1.2\"><span class=\"toc-item-num\">1.2&nbsp;&nbsp;</span>Описание данных</a></span></li></ul></li><li><span><a href=\"#Исследование-задачи\" data-toc-modified-id=\"Исследование-задачи-2\"><span class=\"toc-item-num\">2&nbsp;&nbsp;</span>Исследование задачи</a></span><ul class=\"toc-item\"><li><span><a href=\"#DecisionTreeClassifier-(Дерево-решений)\" data-toc-modified-id=\"DecisionTreeClassifier-(Дерево-решений)-2.1\"><span class=\"toc-item-num\">2.1&nbsp;&nbsp;</span>DecisionTreeClassifier (Дерево решений)</a></span></li><li><span><a href=\"#RandomForestClassifier-(Случайный-лес)\" data-toc-modified-id=\"RandomForestClassifier-(Случайный-лес)-2.2\"><span class=\"toc-item-num\">2.2&nbsp;&nbsp;</span>RandomForestClassifier (Случайный лес)</a></span></li><li><span><a href=\"#LogisticRegression-(Логистическая-регрессия)\" data-toc-modified-id=\"LogisticRegression-(Логистическая-регрессия)-2.3\"><span class=\"toc-item-num\">2.3&nbsp;&nbsp;</span>LogisticRegression (Логистическая регрессия)</a></span></li></ul></li><li><span><a href=\"#Борьба-с-дисбалансом\" data-toc-modified-id=\"Борьба-с-дисбалансом-3\"><span class=\"toc-item-num\">3&nbsp;&nbsp;</span>Борьба с дисбалансом</a></span><ul class=\"toc-item\"><li><span><a href=\"#Увеличение-выборки\" data-toc-modified-id=\"Увеличение-выборки-3.1\"><span class=\"toc-item-num\">3.1&nbsp;&nbsp;</span>Увеличение выборки</a></span><ul class=\"toc-item\"><li><span><a href=\"#DecisionTreeClassifier-(Дерево-решений)\" data-toc-modified-id=\"DecisionTreeClassifier-(Дерево-решений)-3.1.1\"><span class=\"toc-item-num\">3.1.1&nbsp;&nbsp;</span>DecisionTreeClassifier (Дерево решений)</a></span></li><li><span><a href=\"#RandomForestClassifier-(Случайный-лес)\" data-toc-modified-id=\"RandomForestClassifier-(Случайный-лес)-3.1.2\"><span class=\"toc-item-num\">3.1.2&nbsp;&nbsp;</span>RandomForestClassifier (Случайный лес)</a></span></li><li><span><a href=\"#LogisticRegression-(Логистическая-регрессия)\" data-toc-modified-id=\"LogisticRegression-(Логистическая-регрессия)-3.1.3\"><span class=\"toc-item-num\">3.1.3&nbsp;&nbsp;</span>LogisticRegression (Логистическая регрессия)</a></span></li></ul></li><li><span><a href=\"#Уменьшение-выборки\" data-toc-modified-id=\"Уменьшение-выборки-3.2\"><span class=\"toc-item-num\">3.2&nbsp;&nbsp;</span>Уменьшение выборки</a></span><ul class=\"toc-item\"><li><span><a href=\"#DecisionTreeClassifier-(Дерево-решений)\" data-toc-modified-id=\"DecisionTreeClassifier-(Дерево-решений)-3.2.1\"><span class=\"toc-item-num\">3.2.1&nbsp;&nbsp;</span>DecisionTreeClassifier (Дерево решений)</a></span></li><li><span><a href=\"#RandomForestClassifier-(Случайный-лес)\" data-toc-modified-id=\"RandomForestClassifier-(Случайный-лес)-3.2.2\"><span class=\"toc-item-num\">3.2.2&nbsp;&nbsp;</span>RandomForestClassifier (Случайный лес)</a></span></li><li><span><a href=\"#LogisticRegression-(Логистическая-регрессия)\" data-toc-modified-id=\"LogisticRegression-(Логистическая-регрессия)-3.2.3\"><span class=\"toc-item-num\">3.2.3&nbsp;&nbsp;</span>LogisticRegression (Логистическая регрессия)</a></span></li></ul></li><li><span><a href=\"#Взвешивание-классов\" data-toc-modified-id=\"Взвешивание-классов-3.3\"><span class=\"toc-item-num\">3.3&nbsp;&nbsp;</span>Взвешивание классов</a></span><ul class=\"toc-item\"><li><span><a href=\"#DecisionTreeClassifier-(Дерево-решений)\" data-toc-modified-id=\"DecisionTreeClassifier-(Дерево-решений)-3.3.1\"><span class=\"toc-item-num\">3.3.1&nbsp;&nbsp;</span>DecisionTreeClassifier (Дерево решений)</a></span></li><li><span><a href=\"#RandomForestClassifier-(Случайный-лес)\" data-toc-modified-id=\"RandomForestClassifier-(Случайный-лес)-3.3.2\"><span class=\"toc-item-num\">3.3.2&nbsp;&nbsp;</span>RandomForestClassifier (Случайный лес)</a></span></li><li><span><a href=\"#LogisticRegression-(Логистическая-регрессия)\" data-toc-modified-id=\"LogisticRegression-(Логистическая-регрессия)-3.3.3\"><span class=\"toc-item-num\">3.3.3&nbsp;&nbsp;</span>LogisticRegression (Логистическая регрессия)</a></span></li></ul></li></ul></li><li><span><a href=\"#Тестирование-модели\" data-toc-modified-id=\"Тестирование-модели-4\"><span class=\"toc-item-num\">4&nbsp;&nbsp;</span>Тестирование модели</a></span></li><li><span><a "
   ]
  },
  {
   "cell_type": "markdown",
   "metadata": {},
   "source": [
    "# Отток клиентов"
   ]
  },
  {
   "cell_type": "markdown",
   "metadata": {},
   "source": [
    "Из «Бета-Банка» стали уходить клиенты. Каждый месяц. Немного, но заметно. Банковские маркетологи посчитали: сохранять текущих клиентов дешевле, чем привлекать новых.\n",
    "\n",
    "Нужно спрогнозировать, уйдёт клиент из банка в ближайшее время или нет. Вам предоставлены исторические данные о поведении клиентов и расторжении договоров с банком. \n",
    "\n",
    "Предоставленные данные:\n",
    "\n",
    "RowNumber — индекс строки в данных  \n",
    "CustomerId — уникальный идентификатор клиента  \n",
    "Surname — фамилия  \n",
    "CreditScore — кредитный рейтинг  \n",
    "Geography — страна проживания  \n",
    "Gender — пол  \n",
    "Age — возраст  \n",
    "Tenure — сколько лет человек является клиентом банка  \n",
    "Balance — баланс на счёте  \n",
    "NumOfProducts — количество продуктов банка, используемых клиентом  \n",
    "HasCrCard — наличие кредитной карты  \n",
    "IsActiveMember — активность клиента  \n",
    "EstimatedSalary — предполагаемая зарплата  \n",
    "\n",
    "Целевой признак:\n",
    "\n",
    "Exited — факт ухода клиента\n",
    "\n",
    "Необходимо построить модель со значением F1-меры не менее 0.59 на тестовой выборке. Дополнительно для сравнения необходимо измерять AUC-ROC. \n",
    "Источник данных: [https://www.kaggle.com/barelydedicated/bank-customer-churn-modeling](https://www.kaggle.com/barelydedicated/bank-customer-churn-modeling)"
   ]
  },
  {
   "cell_type": "markdown",
   "metadata": {},
   "source": [
    "## Подготовка данных"
   ]
  },
  {
   "cell_type": "markdown",
   "metadata": {},
   "source": [
    "### Открытие датафрейма, подключение библиотек"
   ]
  },
  {
   "cell_type": "code",
   "execution_count": 1,
   "metadata": {},
   "outputs": [],
   "source": [
    "# импорт библиотек\n",
    "import pandas as pd\n",
    "import matplotlib.pyplot as plt\n",
    "import seaborn as sns"
   ]
  },
  {
   "cell_type": "code",
   "execution_count": 2,
   "metadata": {},
   "outputs": [],
   "source": [
    "# импорт из библиотеки sklearn\n",
    "# импорт моделей\n",
    "from sklearn.linear_model import LogisticRegression\n",
    "from sklearn.tree import DecisionTreeClassifier\n",
    "from sklearn.ensemble import RandomForestClassifier\n",
    "from sklearn.dummy import DummyClassifier\n",
    "\n",
    "# импорт метрик\n",
    "from sklearn.metrics import accuracy_score\n",
    "from sklearn.metrics import confusion_matrix\n",
    "from sklearn.metrics import recall_score\n",
    "from sklearn.metrics import precision_score\n",
    "from sklearn.metrics import f1_score\n",
    "from sklearn.metrics import precision_recall_curve\n",
    "from sklearn.metrics import roc_auc_score\n",
    "from sklearn.metrics import roc_curve\n",
    "\n",
    "# импорт утилит\n",
    "from sklearn.model_selection import train_test_split\n",
    "from sklearn.utils import shuffle\n",
    "\n",
    "# импорт классов\n",
    "from sklearn.preprocessing import StandardScaler, OneHotEncoder"
   ]
  },
  {
   "cell_type": "code",
   "execution_count": 3,
   "metadata": {},
   "outputs": [],
   "source": [
    "# чтение файла с данными и сохранение в переменной df\n",
    "df = pd.read_csv('/Churn.csv')"
   ]
  },
  {
   "cell_type": "markdown",
   "metadata": {},
   "source": [
    "### Описание данных "
   ]
  },
  {
   "cell_type": "code",
   "execution_count": 4,
   "metadata": {},
   "outputs": [
    {
     "data": {
      "text/html": [
       "<div>\n",
       "<style scoped>\n",
       "    .dataframe tbody tr th:only-of-type {\n",
       "        vertical-align: middle;\n",
       "    }\n",
       "\n",
       "    .dataframe tbody tr th {\n",
       "        vertical-align: top;\n",
       "    }\n",
       "\n",
       "    .dataframe thead th {\n",
       "        text-align: right;\n",
       "    }\n",
       "</style>\n",
       "<table border=\"1\" class=\"dataframe\">\n",
       "  <thead>\n",
       "    <tr style=\"text-align: right;\">\n",
       "      <th></th>\n",
       "      <th>RowNumber</th>\n",
       "      <th>CustomerId</th>\n",
       "      <th>Surname</th>\n",
       "      <th>CreditScore</th>\n",
       "      <th>Geography</th>\n",
       "      <th>Gender</th>\n",
       "      <th>Age</th>\n",
       "      <th>Tenure</th>\n",
       "      <th>Balance</th>\n",
       "      <th>NumOfProducts</th>\n",
       "      <th>HasCrCard</th>\n",
       "      <th>IsActiveMember</th>\n",
       "      <th>EstimatedSalary</th>\n",
       "      <th>Exited</th>\n",
       "    </tr>\n",
       "  </thead>\n",
       "  <tbody>\n",
       "    <tr>\n",
       "      <th>5371</th>\n",
       "      <td>5372</td>\n",
       "      <td>15580701</td>\n",
       "      <td>Ma</td>\n",
       "      <td>712</td>\n",
       "      <td>France</td>\n",
       "      <td>Male</td>\n",
       "      <td>33</td>\n",
       "      <td>3.0</td>\n",
       "      <td>153819.58</td>\n",
       "      <td>1</td>\n",
       "      <td>1</td>\n",
       "      <td>0</td>\n",
       "      <td>79176.09</td>\n",
       "      <td>1</td>\n",
       "    </tr>\n",
       "    <tr>\n",
       "      <th>5794</th>\n",
       "      <td>5795</td>\n",
       "      <td>15694125</td>\n",
       "      <td>McElhone</td>\n",
       "      <td>669</td>\n",
       "      <td>France</td>\n",
       "      <td>Male</td>\n",
       "      <td>57</td>\n",
       "      <td>5.0</td>\n",
       "      <td>0.00</td>\n",
       "      <td>2</td>\n",
       "      <td>1</td>\n",
       "      <td>1</td>\n",
       "      <td>56875.76</td>\n",
       "      <td>0</td>\n",
       "    </tr>\n",
       "    <tr>\n",
       "      <th>3034</th>\n",
       "      <td>3035</td>\n",
       "      <td>15668504</td>\n",
       "      <td>Lucchesi</td>\n",
       "      <td>770</td>\n",
       "      <td>France</td>\n",
       "      <td>Male</td>\n",
       "      <td>36</td>\n",
       "      <td>2.0</td>\n",
       "      <td>89800.14</td>\n",
       "      <td>1</td>\n",
       "      <td>1</td>\n",
       "      <td>1</td>\n",
       "      <td>105922.69</td>\n",
       "      <td>0</td>\n",
       "    </tr>\n",
       "    <tr>\n",
       "      <th>6531</th>\n",
       "      <td>6532</td>\n",
       "      <td>15675231</td>\n",
       "      <td>Nwankwo</td>\n",
       "      <td>518</td>\n",
       "      <td>France</td>\n",
       "      <td>Female</td>\n",
       "      <td>45</td>\n",
       "      <td>8.0</td>\n",
       "      <td>0.00</td>\n",
       "      <td>2</td>\n",
       "      <td>1</td>\n",
       "      <td>1</td>\n",
       "      <td>36193.07</td>\n",
       "      <td>0</td>\n",
       "    </tr>\n",
       "    <tr>\n",
       "      <th>4783</th>\n",
       "      <td>4784</td>\n",
       "      <td>15729224</td>\n",
       "      <td>Jennings</td>\n",
       "      <td>710</td>\n",
       "      <td>France</td>\n",
       "      <td>Female</td>\n",
       "      <td>37</td>\n",
       "      <td>5.0</td>\n",
       "      <td>0.00</td>\n",
       "      <td>2</td>\n",
       "      <td>1</td>\n",
       "      <td>0</td>\n",
       "      <td>115403.31</td>\n",
       "      <td>0</td>\n",
       "    </tr>\n",
       "    <tr>\n",
       "      <th>3772</th>\n",
       "      <td>3773</td>\n",
       "      <td>15699486</td>\n",
       "      <td>Johnson</td>\n",
       "      <td>745</td>\n",
       "      <td>Spain</td>\n",
       "      <td>Male</td>\n",
       "      <td>34</td>\n",
       "      <td>7.0</td>\n",
       "      <td>132944.53</td>\n",
       "      <td>1</td>\n",
       "      <td>1</td>\n",
       "      <td>1</td>\n",
       "      <td>31802.92</td>\n",
       "      <td>0</td>\n",
       "    </tr>\n",
       "    <tr>\n",
       "      <th>5825</th>\n",
       "      <td>5826</td>\n",
       "      <td>15753888</td>\n",
       "      <td>Johnston</td>\n",
       "      <td>607</td>\n",
       "      <td>Spain</td>\n",
       "      <td>Female</td>\n",
       "      <td>62</td>\n",
       "      <td>8.0</td>\n",
       "      <td>108004.64</td>\n",
       "      <td>1</td>\n",
       "      <td>1</td>\n",
       "      <td>1</td>\n",
       "      <td>23386.77</td>\n",
       "      <td>1</td>\n",
       "    </tr>\n",
       "  </tbody>\n",
       "</table>\n",
       "</div>"
      ],
      "text/plain": [
       "      RowNumber  CustomerId   Surname  CreditScore Geography  Gender  Age  \\\n",
       "5371       5372    15580701        Ma          712    France    Male   33   \n",
       "5794       5795    15694125  McElhone          669    France    Male   57   \n",
       "3034       3035    15668504  Lucchesi          770    France    Male   36   \n",
       "6531       6532    15675231   Nwankwo          518    France  Female   45   \n",
       "4783       4784    15729224  Jennings          710    France  Female   37   \n",
       "3772       3773    15699486   Johnson          745     Spain    Male   34   \n",
       "5825       5826    15753888  Johnston          607     Spain  Female   62   \n",
       "\n",
       "      Tenure    Balance  NumOfProducts  HasCrCard  IsActiveMember  \\\n",
       "5371     3.0  153819.58              1          1               0   \n",
       "5794     5.0       0.00              2          1               1   \n",
       "3034     2.0   89800.14              1          1               1   \n",
       "6531     8.0       0.00              2          1               1   \n",
       "4783     5.0       0.00              2          1               0   \n",
       "3772     7.0  132944.53              1          1               1   \n",
       "5825     8.0  108004.64              1          1               1   \n",
       "\n",
       "      EstimatedSalary  Exited  \n",
       "5371         79176.09       1  \n",
       "5794         56875.76       0  \n",
       "3034        105922.69       0  \n",
       "6531         36193.07       0  \n",
       "4783        115403.31       0  \n",
       "3772         31802.92       0  \n",
       "5825         23386.77       1  "
      ]
     },
     "execution_count": 4,
     "metadata": {},
     "output_type": "execute_result"
    }
   ],
   "source": [
    "# просмотр общей информации по датафрейму\n",
    "df.sample(7)"
   ]
  },
  {
   "cell_type": "code",
   "execution_count": 5,
   "metadata": {},
   "outputs": [
    {
     "name": "stdout",
     "output_type": "stream",
     "text": [
      "<class 'pandas.core.frame.DataFrame'>\n",
      "RangeIndex: 10000 entries, 0 to 9999\n",
      "Data columns (total 14 columns):\n",
      " #   Column           Non-Null Count  Dtype  \n",
      "---  ------           --------------  -----  \n",
      " 0   RowNumber        10000 non-null  int64  \n",
      " 1   CustomerId       10000 non-null  int64  \n",
      " 2   Surname          10000 non-null  object \n",
      " 3   CreditScore      10000 non-null  int64  \n",
      " 4   Geography        10000 non-null  object \n",
      " 5   Gender           10000 non-null  object \n",
      " 6   Age              10000 non-null  int64  \n",
      " 7   Tenure           9091 non-null   float64\n",
      " 8   Balance          10000 non-null  float64\n",
      " 9   NumOfProducts    10000 non-null  int64  \n",
      " 10  HasCrCard        10000 non-null  int64  \n",
      " 11  IsActiveMember   10000 non-null  int64  \n",
      " 12  EstimatedSalary  10000 non-null  float64\n",
      " 13  Exited           10000 non-null  int64  \n",
      "dtypes: float64(3), int64(8), object(3)\n",
      "memory usage: 1.1+ MB\n"
     ]
    }
   ],
   "source": [
    "df.info()"
   ]
  },
  {
   "cell_type": "code",
   "execution_count": 6,
   "metadata": {},
   "outputs": [
    {
     "data": {
      "text/plain": [
       "0"
      ]
     },
     "execution_count": 6,
     "metadata": {},
     "output_type": "execute_result"
    }
   ],
   "source": [
    "# явные дубликаты\n",
    "df.duplicated().sum()"
   ]
  },
  {
   "cell_type": "code",
   "execution_count": 7,
   "metadata": {},
   "outputs": [
    {
     "data": {
      "text/html": [
       "<div>\n",
       "<style scoped>\n",
       "    .dataframe tbody tr th:only-of-type {\n",
       "        vertical-align: middle;\n",
       "    }\n",
       "\n",
       "    .dataframe tbody tr th {\n",
       "        vertical-align: top;\n",
       "    }\n",
       "\n",
       "    .dataframe thead th {\n",
       "        text-align: right;\n",
       "    }\n",
       "</style>\n",
       "<table border=\"1\" class=\"dataframe\">\n",
       "  <thead>\n",
       "    <tr style=\"text-align: right;\">\n",
       "      <th></th>\n",
       "      <th>RowNumber</th>\n",
       "      <th>CustomerId</th>\n",
       "      <th>CreditScore</th>\n",
       "      <th>Age</th>\n",
       "      <th>Tenure</th>\n",
       "      <th>Balance</th>\n",
       "      <th>NumOfProducts</th>\n",
       "      <th>HasCrCard</th>\n",
       "      <th>IsActiveMember</th>\n",
       "      <th>EstimatedSalary</th>\n",
       "      <th>Exited</th>\n",
       "    </tr>\n",
       "  </thead>\n",
       "  <tbody>\n",
       "    <tr>\n",
       "      <th>count</th>\n",
       "      <td>10000.00000</td>\n",
       "      <td>1.000000e+04</td>\n",
       "      <td>10000.000000</td>\n",
       "      <td>10000.000000</td>\n",
       "      <td>9091.000000</td>\n",
       "      <td>10000.000000</td>\n",
       "      <td>10000.000000</td>\n",
       "      <td>10000.00000</td>\n",
       "      <td>10000.000000</td>\n",
       "      <td>10000.000000</td>\n",
       "      <td>10000.000000</td>\n",
       "    </tr>\n",
       "    <tr>\n",
       "      <th>mean</th>\n",
       "      <td>5000.50000</td>\n",
       "      <td>1.569094e+07</td>\n",
       "      <td>650.528800</td>\n",
       "      <td>38.921800</td>\n",
       "      <td>4.997690</td>\n",
       "      <td>76485.889288</td>\n",
       "      <td>1.530200</td>\n",
       "      <td>0.70550</td>\n",
       "      <td>0.515100</td>\n",
       "      <td>100090.239881</td>\n",
       "      <td>0.203700</td>\n",
       "    </tr>\n",
       "    <tr>\n",
       "      <th>std</th>\n",
       "      <td>2886.89568</td>\n",
       "      <td>7.193619e+04</td>\n",
       "      <td>96.653299</td>\n",
       "      <td>10.487806</td>\n",
       "      <td>2.894723</td>\n",
       "      <td>62397.405202</td>\n",
       "      <td>0.581654</td>\n",
       "      <td>0.45584</td>\n",
       "      <td>0.499797</td>\n",
       "      <td>57510.492818</td>\n",
       "      <td>0.402769</td>\n",
       "    </tr>\n",
       "    <tr>\n",
       "      <th>min</th>\n",
       "      <td>1.00000</td>\n",
       "      <td>1.556570e+07</td>\n",
       "      <td>350.000000</td>\n",
       "      <td>18.000000</td>\n",
       "      <td>0.000000</td>\n",
       "      <td>0.000000</td>\n",
       "      <td>1.000000</td>\n",
       "      <td>0.00000</td>\n",
       "      <td>0.000000</td>\n",
       "      <td>11.580000</td>\n",
       "      <td>0.000000</td>\n",
       "    </tr>\n",
       "    <tr>\n",
       "      <th>25%</th>\n",
       "      <td>2500.75000</td>\n",
       "      <td>1.562853e+07</td>\n",
       "      <td>584.000000</td>\n",
       "      <td>32.000000</td>\n",
       "      <td>2.000000</td>\n",
       "      <td>0.000000</td>\n",
       "      <td>1.000000</td>\n",
       "      <td>0.00000</td>\n",
       "      <td>0.000000</td>\n",
       "      <td>51002.110000</td>\n",
       "      <td>0.000000</td>\n",
       "    </tr>\n",
       "    <tr>\n",
       "      <th>50%</th>\n",
       "      <td>5000.50000</td>\n",
       "      <td>1.569074e+07</td>\n",
       "      <td>652.000000</td>\n",
       "      <td>37.000000</td>\n",
       "      <td>5.000000</td>\n",
       "      <td>97198.540000</td>\n",
       "      <td>1.000000</td>\n",
       "      <td>1.00000</td>\n",
       "      <td>1.000000</td>\n",
       "      <td>100193.915000</td>\n",
       "      <td>0.000000</td>\n",
       "    </tr>\n",
       "    <tr>\n",
       "      <th>75%</th>\n",
       "      <td>7500.25000</td>\n",
       "      <td>1.575323e+07</td>\n",
       "      <td>718.000000</td>\n",
       "      <td>44.000000</td>\n",
       "      <td>7.000000</td>\n",
       "      <td>127644.240000</td>\n",
       "      <td>2.000000</td>\n",
       "      <td>1.00000</td>\n",
       "      <td>1.000000</td>\n",
       "      <td>149388.247500</td>\n",
       "      <td>0.000000</td>\n",
       "    </tr>\n",
       "    <tr>\n",
       "      <th>max</th>\n",
       "      <td>10000.00000</td>\n",
       "      <td>1.581569e+07</td>\n",
       "      <td>850.000000</td>\n",
       "      <td>92.000000</td>\n",
       "      <td>10.000000</td>\n",
       "      <td>250898.090000</td>\n",
       "      <td>4.000000</td>\n",
       "      <td>1.00000</td>\n",
       "      <td>1.000000</td>\n",
       "      <td>199992.480000</td>\n",
       "      <td>1.000000</td>\n",
       "    </tr>\n",
       "  </tbody>\n",
       "</table>\n",
       "</div>"
      ],
      "text/plain": [
       "         RowNumber    CustomerId   CreditScore           Age       Tenure  \\\n",
       "count  10000.00000  1.000000e+04  10000.000000  10000.000000  9091.000000   \n",
       "mean    5000.50000  1.569094e+07    650.528800     38.921800     4.997690   \n",
       "std     2886.89568  7.193619e+04     96.653299     10.487806     2.894723   \n",
       "min        1.00000  1.556570e+07    350.000000     18.000000     0.000000   \n",
       "25%     2500.75000  1.562853e+07    584.000000     32.000000     2.000000   \n",
       "50%     5000.50000  1.569074e+07    652.000000     37.000000     5.000000   \n",
       "75%     7500.25000  1.575323e+07    718.000000     44.000000     7.000000   \n",
       "max    10000.00000  1.581569e+07    850.000000     92.000000    10.000000   \n",
       "\n",
       "             Balance  NumOfProducts    HasCrCard  IsActiveMember  \\\n",
       "count   10000.000000   10000.000000  10000.00000    10000.000000   \n",
       "mean    76485.889288       1.530200      0.70550        0.515100   \n",
       "std     62397.405202       0.581654      0.45584        0.499797   \n",
       "min         0.000000       1.000000      0.00000        0.000000   \n",
       "25%         0.000000       1.000000      0.00000        0.000000   \n",
       "50%     97198.540000       1.000000      1.00000        1.000000   \n",
       "75%    127644.240000       2.000000      1.00000        1.000000   \n",
       "max    250898.090000       4.000000      1.00000        1.000000   \n",
       "\n",
       "       EstimatedSalary        Exited  \n",
       "count     10000.000000  10000.000000  \n",
       "mean     100090.239881      0.203700  \n",
       "std       57510.492818      0.402769  \n",
       "min          11.580000      0.000000  \n",
       "25%       51002.110000      0.000000  \n",
       "50%      100193.915000      0.000000  \n",
       "75%      149388.247500      0.000000  \n",
       "max      199992.480000      1.000000  "
      ]
     },
     "execution_count": 7,
     "metadata": {},
     "output_type": "execute_result"
    }
   ],
   "source": [
    "df.describe()"
   ]
  },
  {
   "cell_type": "code",
   "execution_count": 8,
   "metadata": {},
   "outputs": [
    {
     "data": {
      "image/png": "[encoded data removed]",
      "text/plain": [
       "<Figure size 1440x720 with 12 Axes>"
      ]
     },
     "metadata": {
      "needs_background": "light"
     },
     "output_type": "display_data"
    }
   ],
   "source": [
    "df.hist(bins=50, figsize=(20,10), color='pink', edgecolor='black', linewidth=1)\n",
    "plt.show();"
   ]
  },
  {
   "cell_type": "code",
   "execution_count": 9,
   "metadata": {},
   "outputs": [
    {
     "data": {
      "image/png": "[encoded data removed]",
      "text/plain": [
       "<Figure size 1080x360 with 2 Axes>"
      ]
     },
     "metadata": {
      "needs_background": "light"
     },
     "output_type": "display_data"
    }
   ],
   "source": [
    "# проверка мультиколлинеарность между признаками\n",
    "correlation = df.corr()\n",
    "plt.figure(figsize = (15,5))\n",
    "sns.heatmap(correlation, annot = True, cmap='coolwarm');"
   ]
  },
  {
   "cell_type": "code",
   "execution_count": 10,
   "metadata": {},
   "outputs": [
    {
     "data": {
      "text/plain": [
       "array(['Female', 'Male'], dtype=object)"
      ]
     },
     "execution_count": 10,
     "metadata": {},
     "output_type": "execute_result"
    }
   ],
   "source": [
    "df.Gender.unique()"
   ]
  },
  {
   "cell_type": "code",
   "execution_count": 11,
   "metadata": {},
   "outputs": [
    {
     "data": {
      "text/plain": [
       "array(['France', 'Spain', 'Germany'], dtype=object)"
      ]
     },
     "execution_count": 11,
     "metadata": {},
     "output_type": "execute_result"
    }
   ],
   "source": [
    "df.Geography.unique()"
   ]
  },
  {
   "cell_type": "markdown",
   "metadata": {},
   "source": [
    "Корреляции признаков с целевым нет"
   ]
  },
  {
   "cell_type": "markdown",
   "metadata": {},
   "source": [
    "Исходный датафрейм содержит 10000 строк и 14 стобцов.  \n",
    "Среди них 11 числовых признаков и 3 категориальных признака.\n",
    "\n",
    "Планируемая предобработка:\n",
    "\n",
    "1. Привести к змеиному стилю названия столбцов.  \n",
    "2. Удалить столбцы RowNumber, CustomerId, Surname - не понадобятся для исследования и построения модели, 'RowNumber' - дублирует индексы, 'CustomerId', 'Surname' являются индивидуальными характеристиками клиентов и не должны повлиять на предсказание поведения.\n",
    "3. Tenure - строк с пропусками 9% от датафрейма, не так уж мало, но не критично; не будем заполнять, строки с пропусками удалим. Изменим тип с float на int.\n",
    "4. One-Hot Encoding для категориальных признаков Geography, Gender.\n",
    "5. Разделение данных на обучающую, валидационную и тестовую выборки.\n",
    "5. Масштабирование для количественных признаков CreditScore, Age, Balance, NumOfProducts, EstimatedSalary, Tenure."
   ]
  },
  {
   "cell_type": "code",
   "execution_count": 12,
   "metadata": {},
   "outputs": [],
   "source": [
    "# df.columns = df.columns.str.lower()"
   ]
  },
  {
   "cell_type": "code",
   "execution_count": 13,
   "metadata": {},
   "outputs": [
    {
     "data": {
      "text/plain": [
       "Index(['row_number', 'customer_id', 'surname', 'credit_score', 'geography',\n",
       "       'gender', 'age', 'tenure', 'balance', 'num_of_products', 'has_cr_card',\n",
       "       'is_active_member', 'estimated_salary', 'exited'],\n",
       "      dtype='object')"
      ]
     },
     "execution_count": 13,
     "metadata": {},
     "output_type": "execute_result"
    }
   ],
   "source": [
    "# змеиный стиль для названия столбцов\n",
    "df.columns = df.columns.str.replace('(?<=[a-z])(?=[A-Z])', '_', regex=True).str.lower()\n",
    "df.columns"
   ]
  },
  {
   "cell_type": "code",
   "execution_count": 14,
   "metadata": {},
   "outputs": [
    {
     "data": {
      "text/plain": [
       "(10000, 11)"
      ]
     },
     "execution_count": 14,
     "metadata": {},
     "output_type": "execute_result"
    }
   ],
   "source": [
    "# удаление столбцов\n",
    "df = df.drop(['row_number', 'customer_id', 'surname'], axis=1)\n",
    "df.shape"
   ]
  },
  {
   "cell_type": "code",
   "execution_count": 15,
   "metadata": {},
   "outputs": [
    {
     "name": "stdout",
     "output_type": "stream",
     "text": [
      "<class 'pandas.core.frame.DataFrame'>\n",
      "Int64Index: 9091 entries, 0 to 9998\n",
      "Data columns (total 11 columns):\n",
      " #   Column            Non-Null Count  Dtype  \n",
      "---  ------            --------------  -----  \n",
      " 0   credit_score      9091 non-null   int64  \n",
      " 1   geography         9091 non-null   object \n",
      " 2   gender            9091 non-null   object \n",
      " 3   age               9091 non-null   int64  \n",
      " 4   tenure            9091 non-null   float64\n",
      " 5   balance           9091 non-null   float64\n",
      " 6   num_of_products   9091 non-null   int64  \n",
      " 7   has_cr_card       9091 non-null   int64  \n",
      " 8   is_active_member  9091 non-null   int64  \n",
      " 9   estimated_salary  9091 non-null   float64\n",
      " 10  exited            9091 non-null   int64  \n",
      "dtypes: float64(3), int64(6), object(2)\n",
      "memory usage: 852.3+ KB\n"
     ]
    }
   ],
   "source": [
    "# удаление пропусков, приведение к целочисленному типу\n",
    "df.dropna(subset=['tenure'], inplace=True, axis=0)\n",
    "df.info()\n",
    "# df['tenure'].fillna(df['tenure'].median(), inplace=True)"
   ]
  },
  {
   "cell_type": "code",
   "execution_count": 16,
   "metadata": {},
   "outputs": [
    {
     "data": {
      "text/plain": [
       "452"
      ]
     },
     "execution_count": 16,
     "metadata": {},
     "output_type": "execute_result"
    }
   ],
   "source": [
    "df.query('balance == 0 and exited == 1')['credit_score'].count()"
   ]
  },
  {
   "cell_type": "code",
   "execution_count": 17,
   "metadata": {},
   "outputs": [
    {
     "data": {
      "text/plain": [
       "count      9091.000000\n",
       "mean      76522.740015\n",
       "std       62329.528576\n",
       "min           0.000000\n",
       "25%           0.000000\n",
       "50%       97318.250000\n",
       "75%      127561.890000\n",
       "max      250898.090000\n",
       "Name: balance, dtype: float64"
      ]
     },
     "execution_count": 17,
     "metadata": {},
     "output_type": "execute_result"
    }
   ],
   "source": [
    "df['balance'].describe()"
   ]
  },
  {
   "cell_type": "code",
   "execution_count": 18,
   "metadata": {},
   "outputs": [
    {
     "data": {
      "text/plain": [
       "0.00         3283\n",
       "105473.74       2\n",
       "130170.82       2\n",
       "104088.59       1\n",
       "99836.47        1\n",
       "104267.70       1\n",
       "153366.13       1\n",
       "104356.94       1\n",
       "160485.16       1\n",
       "61691.45        1\n",
       "Name: balance, dtype: int64"
      ]
     },
     "execution_count": 18,
     "metadata": {},
     "output_type": "execute_result"
    }
   ],
   "source": [
    "df['balance'].value_counts().head(10)"
   ]
  },
  {
   "cell_type": "code",
   "execution_count": 19,
   "metadata": {},
   "outputs": [
    {
     "data": {
      "text/plain": [
       "geography\n",
       "France     733\n",
       "Germany    751\n",
       "Spain      370\n",
       "Name: exited, dtype: int64"
      ]
     },
     "execution_count": 19,
     "metadata": {},
     "output_type": "execute_result"
    }
   ],
   "source": [
    "df[df['exited'] == 1].groupby('geography')['exited'].sum()"
   ]
  },
  {
   "cell_type": "markdown",
   "metadata": {},
   "source": [
    "В столбце представлены данные о балансе средств на счетах клиентов. 30% клиентов имеют на счету нулевую сумму, из-за чего на значение 0 наблюдается резкий всплеск."
   ]
  },
  {
   "cell_type": "code",
   "execution_count": 20,
   "metadata": {},
   "outputs": [],
   "source": [
    "df_ohe = pd.get_dummies(df, drop_first=True)"
   ]
  },
  {
   "cell_type": "code",
   "execution_count": 21,
   "metadata": {},
   "outputs": [],
   "source": [
    "# разделение признаков и таргета\n",
    "features = df_ohe.drop(['exited'], axis=1) \n",
    "target = df_ohe['exited'] "
   ]
  },
  {
   "cell_type": "code",
   "execution_count": 22,
   "metadata": {},
   "outputs": [
    {
     "name": "stdout",
     "output_type": "stream",
     "text": [
      "(5454, 11) (1818, 11) (1819, 11)\n",
      "(5454,) (1818,) (1819,)\n"
     ]
    }
   ],
   "source": [
    "# разделение на обучающую и тестовую выборки (60/40)\n",
    "features_train, features_valid, target_train, target_valid = train_test_split(features, target, test_size=.4, \n",
    "                                                                              random_state=23456)\n",
    "\n",
    "# разделение на обучающую и тестовую выборки (по 20% от датафрейма)\n",
    "features_valid, features_test, target_valid, target_test = train_test_split(features_valid, target_valid, test_size=.5, \n",
    "                                                                              random_state=23456)\n",
    "print(features_train.shape, features_valid.shape, features_test.shape)\n",
    "print(target_train.shape, target_valid.shape, target_test.shape)"
   ]
  },
  {
   "cell_type": "code",
   "execution_count": 23,
   "metadata": {},
   "outputs": [],
   "source": [
    "import warnings\n",
    "warnings.filterwarnings('ignore')"
   ]
  },
  {
   "cell_type": "code",
   "execution_count": 24,
   "metadata": {},
   "outputs": [
    {
     "data": {
      "text/html": [
       "<div>\n",
       "<style scoped>\n",
       "    .dataframe tbody tr th:only-of-type {\n",
       "        vertical-align: middle;\n",
       "    }\n",
       "\n",
       "    .dataframe tbody tr th {\n",
       "        vertical-align: top;\n",
       "    }\n",
       "\n",
       "    .dataframe thead th {\n",
       "        text-align: right;\n",
       "    }\n",
       "</style>\n",
       "<table border=\"1\" class=\"dataframe\">\n",
       "  <thead>\n",
       "    <tr style=\"text-align: right;\">\n",
       "      <th></th>\n",
       "      <th>credit_score</th>\n",
       "      <th>age</th>\n",
       "      <th>tenure</th>\n",
       "      <th>balance</th>\n",
       "      <th>num_of_products</th>\n",
       "      <th>has_cr_card</th>\n",
       "      <th>is_active_member</th>\n",
       "      <th>estimated_salary</th>\n",
       "      <th>geography_Germany</th>\n",
       "      <th>geography_Spain</th>\n",
       "      <th>gender_Male</th>\n",
       "    </tr>\n",
       "  </thead>\n",
       "  <tbody>\n",
       "    <tr>\n",
       "      <th>107</th>\n",
       "      <td>1.382049</td>\n",
       "      <td>-0.286992</td>\n",
       "      <td>-1.032681</td>\n",
       "      <td>0.367470</td>\n",
       "      <td>-0.906728</td>\n",
       "      <td>0</td>\n",
       "      <td>1</td>\n",
       "      <td>-1.105722</td>\n",
       "      <td>1</td>\n",
       "      <td>0</td>\n",
       "      <td>0</td>\n",
       "    </tr>\n",
       "    <tr>\n",
       "      <th>7814</th>\n",
       "      <td>-0.045439</td>\n",
       "      <td>-0.572189</td>\n",
       "      <td>-0.689231</td>\n",
       "      <td>1.473962</td>\n",
       "      <td>0.804447</td>\n",
       "      <td>0</td>\n",
       "      <td>0</td>\n",
       "      <td>-0.180542</td>\n",
       "      <td>1</td>\n",
       "      <td>0</td>\n",
       "      <td>0</td>\n",
       "    </tr>\n",
       "    <tr>\n",
       "      <th>9</th>\n",
       "      <td>0.337293</td>\n",
       "      <td>-1.142583</td>\n",
       "      <td>-1.032681</td>\n",
       "      <td>0.927479</td>\n",
       "      <td>-0.906728</td>\n",
       "      <td>1</td>\n",
       "      <td>1</td>\n",
       "      <td>-0.502474</td>\n",
       "      <td>0</td>\n",
       "      <td>0</td>\n",
       "      <td>1</td>\n",
       "    </tr>\n",
       "    <tr>\n",
       "      <th>7900</th>\n",
       "      <td>1.382049</td>\n",
       "      <td>1.424189</td>\n",
       "      <td>-1.376131</td>\n",
       "      <td>-1.238780</td>\n",
       "      <td>0.804447</td>\n",
       "      <td>1</td>\n",
       "      <td>0</td>\n",
       "      <td>-0.964456</td>\n",
       "      <td>0</td>\n",
       "      <td>1</td>\n",
       "      <td>0</td>\n",
       "    </tr>\n",
       "    <tr>\n",
       "      <th>6949</th>\n",
       "      <td>1.185511</td>\n",
       "      <td>-0.191927</td>\n",
       "      <td>-1.032681</td>\n",
       "      <td>0.365109</td>\n",
       "      <td>0.804447</td>\n",
       "      <td>0</td>\n",
       "      <td>1</td>\n",
       "      <td>0.816456</td>\n",
       "      <td>1</td>\n",
       "      <td>0</td>\n",
       "      <td>1</td>\n",
       "    </tr>\n",
       "  </tbody>\n",
       "</table>\n",
       "</div>"
      ],
      "text/plain": [
       "      credit_score       age    tenure   balance  num_of_products  \\\n",
       "107       1.382049 -0.286992 -1.032681  0.367470        -0.906728   \n",
       "7814     -0.045439 -0.572189 -0.689231  1.473962         0.804447   \n",
       "9         0.337293 -1.142583 -1.032681  0.927479        -0.906728   \n",
       "7900      1.382049  1.424189 -1.376131 -1.238780         0.804447   \n",
       "6949      1.185511 -0.191927 -1.032681  0.365109         0.804447   \n",
       "\n",
       "      has_cr_card  is_active_member  estimated_salary  geography_Germany  \\\n",
       "107             0                 1         -1.105722                  1   \n",
       "7814            0                 0         -0.180542                  1   \n",
       "9               1                 1         -0.502474                  0   \n",
       "7900            1                 0         -0.964456                  0   \n",
       "6949            0                 1          0.816456                  1   \n",
       "\n",
       "      geography_Spain  gender_Male  \n",
       "107                 0            0  \n",
       "7814                0            0  \n",
       "9                   0            1  \n",
       "7900                1            0  \n",
       "6949                0            1  "
      ]
     },
     "execution_count": 24,
     "metadata": {},
     "output_type": "execute_result"
    }
   ],
   "source": [
    "# масштабирование признаков\n",
    "scale_features = ['credit_score', 'age', 'tenure', 'balance', 'num_of_products', 'estimated_salary']\n",
    "scaler = StandardScaler()\n",
    "scaler.fit(features_train[scale_features])\n",
    "\n",
    "features_train[scale_features] = scaler.transform(features_train[scale_features])\n",
    "features_valid[scale_features] = scaler.transform(features_valid[scale_features])\n",
    "features_test[scale_features] = scaler.transform(features_test[scale_features])\n",
    "features_train.head()"
   ]
  },
  {
   "cell_type": "markdown",
   "metadata": {},
   "source": [
    "**Целевой признак**"
   ]
  },
  {
   "cell_type": "code",
   "execution_count": 25,
   "metadata": {},
   "outputs": [
    {
     "data": {
      "text/plain": [
       "0    0.796062\n",
       "1    0.203938\n",
       "Name: exited, dtype: float64"
      ]
     },
     "execution_count": 25,
     "metadata": {},
     "output_type": "execute_result"
    }
   ],
   "source": [
    "#оценка баланса классов\n",
    "target.value_counts(normalize=True)"
   ]
  },
  {
   "cell_type": "markdown",
   "metadata": {},
   "source": [
    "В целевом признаке наблюдается сильный дисбаланс классов -  20% данных отражают факт ухода клиента."
   ]
  },
  {
   "cell_type": "markdown",
   "metadata": {},
   "source": [
    "## Исследование задачи"
   ]
  },
  {
   "cell_type": "markdown",
   "metadata": {},
   "source": [
    "**Исследование моделей без учёта дисбаланка классов целевого признака**"
   ]
  },
  {
   "cell_type": "code",
   "execution_count": 26,
   "metadata": {},
   "outputs": [],
   "source": [
    "random_state = 23456"
   ]
  },
  {
   "cell_type": "markdown",
   "metadata": {},
   "source": [
    "### DecisionTreeClassifier (Дерево решений)"
   ]
  },
  {
   "cell_type": "markdown",
   "metadata": {},
   "source": [
    "Подбор гиперпараметров"
   ]
  },
  {
   "cell_type": "code",
   "execution_count": 27,
   "metadata": {},
   "outputs": [
    {
     "name": "stdout",
     "output_type": "stream",
     "text": [
      "Лучший результат: 0.5874799357945425\n",
      "Гиперпараметры: max_depth: 10 , min_samples_leaf: 23\n"
     ]
    }
   ],
   "source": [
    "best_dt_model = None\n",
    "best_dt_model_depth = 0\n",
    "best_dt_model_leaf = 0\n",
    "best_dt_result = 0\n",
    "for depth in range(1, 20):\n",
    "    for i in range(1, 50):       \n",
    "            model_dt = DecisionTreeClassifier(random_state=random_state, max_depth = depth, min_samples_leaf = i) \n",
    "            model_dt.fit(features_train, target_train) \n",
    "            predictions_dt = model_dt.predict(features_valid) \n",
    "            result_dt = f1_score(target_valid, predictions_dt)\n",
    "            if result_dt > best_dt_result:\n",
    "                best_dt_model = model_dt\n",
    "                best_dt_model_depth = depth\n",
    "                best_dt_model_leaf = i\n",
    "                best_dt_result = result_dt\n",
    "print('Лучший результат:', best_dt_result) \n",
    "print('Гиперпараметры:', 'max_depth:', best_dt_model_depth, ', min_samples_leaf:', best_dt_model_leaf)"
   ]
  },
  {
   "cell_type": "markdown",
   "metadata": {},
   "source": [
    " Обучение модели с подобранными гиперпараметрами"
   ]
  },
  {
   "cell_type": "code",
   "execution_count": 28,
   "metadata": {},
   "outputs": [
    {
     "name": "stdout",
     "output_type": "stream",
     "text": [
      "Recall полнота дерева решений: 0.49728260869565216\n",
      "Precision точность дерева решений: 0.7176470588235294\n",
      "F1-мера дерева решений: 0.5874799357945425\n"
     ]
    },
    {
     "data": {
      "image/png": "[encoded data removed]",
      "text/plain": [
       "<Figure size 432x288 with 2 Axes>"
      ]
     },
     "metadata": {
      "needs_background": "light"
     },
     "output_type": "display_data"
    },
    {
     "name": "stdout",
     "output_type": "stream",
     "text": [
      "AUC-ROC DecisionTreeClassifier 0.8363511994002999\n"
     ]
    },
    {
     "data": {
      "image/png": "[encoded data removed]",
      "text/plain": [
       "<Figure size 432x288 with 1 Axes>"
      ]
     },
     "metadata": {
      "needs_background": "light"
     },
     "output_type": "display_data"
    }
   ],
   "source": [
    "# модель:\n",
    "model_dt = DecisionTreeClassifier(random_state = random_state, \n",
    "                                  max_depth = best_dt_model_depth, min_samples_leaf = best_dt_model_leaf)\n",
    "model_dt.fit(features_train, target_train)\n",
    "predictions_dt = model_dt.predict(features_valid)\n",
    "\n",
    "# метрики:\n",
    "dt_recall = recall_score(target_valid, predictions_dt)\n",
    "dt_precision = precision_score(target_valid, predictions_dt)\n",
    "dt_f1 = f1_score(target_valid, predictions_dt)\n",
    "\n",
    "print('Recall полнота дерева решений:', dt_recall)\n",
    "print('Precision точность дерева решений:', dt_precision)\n",
    "print('F1-мера дерева решений:', dt_f1)\n",
    "\n",
    "# графики:\n",
    "plt.figure(figsize=(6, 4))\n",
    "sns.heatmap(confusion_matrix(target_valid, predictions_dt), annot=True, fmt='g', linewidths=1, linecolor='white', cmap='coolwarm');\n",
    "plt.title(f'Матрица ошибок\\n[TN, FP]\\n[FN, TP]', fontsize=15)\n",
    "plt.xlabel('Предсказанные значения', fontsize=15)\n",
    "plt.ylabel('Истинные значения', fontsize=15)\n",
    "plt.show()\n",
    "\n",
    "probabilities_valid = model_dt.predict_proba(features_valid)\n",
    "probabilities_one_valid = probabilities_valid[:, 1]\n",
    "fpr, tpr, thresholds = roc_curve(target_valid, probabilities_one_valid)\n",
    "auc_roc_dt = roc_auc_score(target_valid, probabilities_one_valid)\n",
    "print('AUC-ROC DecisionTreeClassifier',auc_roc_dt)\n",
    "plt.plot(fpr, tpr, label='DecisionTreeClassifier');\n",
    "plt.plot([0, 1], [0, 1], linestyle='--');"
   ]
  },
  {
   "cell_type": "markdown",
   "metadata": {},
   "source": [
    "### RandomForestClassifier (Случайный лес)"
   ]
  },
  {
   "cell_type": "markdown",
   "metadata": {},
   "source": [
    "Подбор гиперпараметров"
   ]
  },
  {
   "cell_type": "code",
   "execution_count": 29,
   "metadata": {},
   "outputs": [
    {
     "name": "stdout",
     "output_type": "stream",
     "text": [
      "Лучший результат: 0.6029654036243822\n",
      "Гиперпараметры: n_estimators: 25 , max_depth: 15\n"
     ]
    }
   ],
   "source": [
    "best_rf_model = None\n",
    "best_rf_model_est = 0\n",
    "best_rf_model_depth = 0\n",
    "best_rf_result = 0\n",
    "for est in range(5, 101, 5):\n",
    "    for depth in range(1, 20):\n",
    "        model_rf = RandomForestClassifier(random_state=random_state, n_estimators=est, max_depth = depth) \n",
    "        model_rf.fit(features_train, target_train) \n",
    "        predictions_rf = model_rf.predict(features_valid) \n",
    "        result_rf = f1_score(target_valid, predictions_rf)\n",
    "        if result_rf > best_rf_result:\n",
    "            best_rf_model = model_rf\n",
    "            best_rf_result = result_rf\n",
    "            best_rf_model_est = est\n",
    "            best_rf_model_depth = depth\n",
    "print('Лучший результат:', best_rf_result) \n",
    "print('Гиперпараметры:', 'n_estimators:', best_rf_model_est, ', max_depth:', best_rf_model_depth)"
   ]
  },
  {
   "cell_type": "markdown",
   "metadata": {},
   "source": [
    "Обучение модели с подобранными гиперпараметрами"
   ]
  },
  {
   "cell_type": "code",
   "execution_count": 30,
   "metadata": {},
   "outputs": [
    {
     "name": "stdout",
     "output_type": "stream",
     "text": [
      "Полнота (recall) случайного леса: 0.49728260869565216\n",
      "Точность (precision) случайного леса: 0.7656903765690377\n",
      "F1-мера случайного леса: 0.6029654036243822\n"
     ]
    },
    {
     "data": {
      "image/png": "[encoded data removed]",
      "text/plain": [
       "<Figure size 432x288 with 2 Axes>"
      ]
     },
     "metadata": {
      "needs_background": "light"
     },
     "output_type": "display_data"
    },
    {
     "name": "stdout",
     "output_type": "stream",
     "text": [
      "AUC-ROC RandomForestClassifier 0.8517850449775113\n"
     ]
    },
    {
     "data": {
      "image/png": "[encoded data removed]",
      "text/plain": [
       "<Figure size 432x288 with 1 Axes>"
      ]
     },
     "metadata": {
      "needs_background": "light"
     },
     "output_type": "display_data"
    }
   ],
   "source": [
    "# модель:\n",
    "model_rf = RandomForestClassifier(random_state = random_state, \n",
    "                                  n_estimators=best_rf_model_est, max_depth=best_rf_model_depth)\n",
    "model_rf.fit(features_train, target_train)\n",
    "predictions_rf = model_rf.predict(features_valid)\n",
    "\n",
    "# метрики:\n",
    "rf_recall = recall_score(target_valid, predictions_rf)\n",
    "rf_precision = precision_score(target_valid, predictions_rf)\n",
    "rf_f1 = f1_score(target_valid, predictions_rf)\n",
    "\n",
    "print('Полнота (recall) случайного леса:', rf_recall)\n",
    "print('Точность (precision) случайного леса:', rf_precision)\n",
    "print('F1-мера случайного леса:', rf_f1)\n",
    "\n",
    "# графики:\n",
    "plt.figure(figsize=(6, 4))\n",
    "sns.heatmap(confusion_matrix(target_valid, predictions_rf), annot=True, fmt='g', linewidths=1, linecolor='white', cmap='coolwarm');\n",
    "plt.title(f'Матрица ошибок\\n[TN, FP]\\n[FN, TP]', fontsize=15)\n",
    "plt.xlabel('Предсказанные значения', fontsize=15)\n",
    "plt.ylabel('Истинные значения', fontsize=15)\n",
    "plt.show()\n",
    "\n",
    "probabilities_valid = model_rf.predict_proba(features_valid)\n",
    "probabilities_one_valid = probabilities_valid[:, 1]\n",
    "fpr, tpr, thresholds = roc_curve(target_valid, probabilities_one_valid)\n",
    "auc_roc_rf = roc_auc_score(target_valid, probabilities_one_valid)\n",
    "print('AUC-ROC RandomForestClassifier',auc_roc_rf)\n",
    "plt.plot(fpr, tpr, label='RandomForestClassifier');\n",
    "plt.plot([0, 1], [0, 1], linestyle='--');"
   ]
  },
  {
   "cell_type": "markdown",
   "metadata": {},
   "source": [
    "### LogisticRegression (Логистическая регрессия)"
   ]
  },
  {
   "cell_type": "markdown",
   "metadata": {},
   "source": [
    "Подбор гиперпараметров"
   ]
  },
  {
   "cell_type": "code",
   "execution_count": 31,
   "metadata": {},
   "outputs": [
    {
     "name": "stdout",
     "output_type": "stream",
     "text": [
      "Лучший результат: 0.29508196721311475\n",
      "Гиперпараметры: n_estimators: 100\n"
     ]
    }
   ],
   "source": [
    "best_lr_model = None\n",
    "best_lr_model_iter = 0\n",
    "best_lr_result = 0\n",
    "for i in range(100, 10000, 50):\n",
    "    model_lr = LogisticRegression(solver='liblinear', random_state=random_state, max_iter = i) \n",
    "    model_lr.fit(features_train, target_train) \n",
    "    predictions_lr = model_lr.predict(features_valid) \n",
    "    result_lr = f1_score(target_valid, predictions_lr)\n",
    "    if result_lr > best_lr_result:\n",
    "        best_lr_model = model_lr\n",
    "        best_lr_result = result_lr\n",
    "        best_lr_model_iter = i\n",
    "print('Лучший результат:', best_lr_result) \n",
    "print('Гиперпараметры:', 'n_estimators:', best_lr_model_iter)"
   ]
  },
  {
   "cell_type": "markdown",
   "metadata": {},
   "source": [
    "Обучение модели с подобранными гиперпараметрами"
   ]
  },
  {
   "cell_type": "code",
   "execution_count": 32,
   "metadata": {},
   "outputs": [
    {
     "name": "stdout",
     "output_type": "stream",
     "text": [
      "Полнота (recall) логистической регрессии: 0.1956521739130435\n",
      "Точность (precision) логистической регрессии: 0.6\n",
      "F1-мера логистической регрессии: 0.29508196721311475\n"
     ]
    },
    {
     "data": {
      "image/png": "[encoded data removed]",
      "text/plain": [
       "<Figure size 432x288 with 2 Axes>"
      ]
     },
     "metadata": {
      "needs_background": "light"
     },
     "output_type": "display_data"
    },
    {
     "name": "stdout",
     "output_type": "stream",
     "text": [
      "AUC-ROC LogisticRegression 0.7791341829085456\n"
     ]
    },
    {
     "data": {
      "image/png": "[encoded data removed]",
      "text/plain": [
       "<Figure size 432x288 with 1 Axes>"
      ]
     },
     "metadata": {
      "needs_background": "light"
     },
     "output_type": "display_data"
    }
   ],
   "source": [
    "# модель:\n",
    "model_lr = LogisticRegression(random_state=random_state, solver='liblinear', max_iter = best_lr_model_iter)\n",
    "model_lr.fit(features_train, target_train)\n",
    "predictions_lr = model_lr.predict(features_valid)\n",
    "\n",
    "# метрики:\n",
    "lr_recall = recall_score(target_valid, predictions_lr)\n",
    "lr_precision = precision_score(target_valid, predictions_lr)\n",
    "lr_f1 = f1_score(target_valid, predictions_lr)\n",
    "\n",
    "print('Полнота (recall) логистической регрессии:', lr_recall)\n",
    "print('Точность (precision) логистической регрессии:', lr_precision)\n",
    "print('F1-мера логистической регрессии:', lr_f1)\n",
    "\n",
    "# графики:\n",
    "plt.figure(figsize=(6, 4))\n",
    "sns.heatmap(confusion_matrix(target_valid, predictions_lr), annot=True, fmt='g', linewidths=1, linecolor='white', cmap='coolwarm');\n",
    "plt.title(f'Матрица ошибок\\n[TN, FP]\\n[FN, TP]', fontsize=15)\n",
    "plt.xlabel('Предсказанные значения', fontsize=15)\n",
    "plt.ylabel('Истинные значения', fontsize=15)\n",
    "plt.show()\n",
    "\n",
    "probabilities_valid = model_lr.predict_proba(features_valid)\n",
    "probabilities_one_valid = probabilities_valid[:, 1]\n",
    "fpr, tpr, thresholds = roc_curve(target_valid, probabilities_one_valid)\n",
    "auc_roc_lr = roc_auc_score(target_valid, probabilities_one_valid)\n",
    "print('AUC-ROC LogisticRegression',auc_roc_lr)\n",
    "plt.plot(fpr, tpr, label='LogisticRegression');\n",
    "plt.plot([0, 1], [0, 1], linestyle='--');"
   ]
  },
  {
   "cell_type": "code",
   "execution_count": 33,
   "metadata": {},
   "outputs": [
    {
     "data": {
      "text/html": [
       "<div>\n",
       "<style scoped>\n",
       "    .dataframe tbody tr th:only-of-type {\n",
       "        vertical-align: middle;\n",
       "    }\n",
       "\n",
       "    .dataframe tbody tr th {\n",
       "        vertical-align: top;\n",
       "    }\n",
       "\n",
       "    .dataframe thead th {\n",
       "        text-align: right;\n",
       "    }\n",
       "</style>\n",
       "<table border=\"1\" class=\"dataframe\">\n",
       "  <thead>\n",
       "    <tr style=\"text-align: right;\">\n",
       "      <th></th>\n",
       "      <th>Recall</th>\n",
       "      <th>Precision</th>\n",
       "      <th>F1</th>\n",
       "      <th>AUC-ROC</th>\n",
       "    </tr>\n",
       "  </thead>\n",
       "  <tbody>\n",
       "    <tr>\n",
       "      <th>DecisionTreeClassifier (Дерево решений) disbalance</th>\n",
       "      <td>0.497283</td>\n",
       "      <td>0.717647</td>\n",
       "      <td>0.587480</td>\n",
       "      <td>0.836351</td>\n",
       "    </tr>\n",
       "    <tr>\n",
       "      <th>RandomForestClassifier (Случайный лес) disbalance</th>\n",
       "      <td>0.497283</td>\n",
       "      <td>0.765690</td>\n",
       "      <td>0.602965</td>\n",
       "      <td>0.851785</td>\n",
       "    </tr>\n",
       "    <tr>\n",
       "      <th>LogisticRegression (Логистическая регрессия) disbalance</th>\n",
       "      <td>0.195652</td>\n",
       "      <td>0.600000</td>\n",
       "      <td>0.295082</td>\n",
       "      <td>0.779134</td>\n",
       "    </tr>\n",
       "  </tbody>\n",
       "</table>\n",
       "</div>"
      ],
      "text/plain": [
       "                                                      Recall  Precision  \\\n",
       "DecisionTreeClassifier (Дерево решений) disbalance  0.497283   0.717647   \n",
       "RandomForestClassifier (Случайный лес) disbalance   0.497283   0.765690   \n",
       "LogisticRegression (Логистическая регрессия) di...  0.195652   0.600000   \n",
       "\n",
       "                                                          F1   AUC-ROC  \n",
       "DecisionTreeClassifier (Дерево решений) disbalance  0.587480  0.836351  \n",
       "RandomForestClassifier (Случайный лес) disbalance   0.602965  0.851785  \n",
       "LogisticRegression (Логистическая регрессия) di...  0.295082  0.779134  "
      ]
     },
     "execution_count": 33,
     "metadata": {},
     "output_type": "execute_result"
    }
   ],
   "source": [
    "disbalance_data = [{'Recall': dt_recall, 'Precision': dt_precision, 'F1': dt_f1, 'AUC-ROC': auc_roc_dt}, \n",
    "                  {'Recall': rf_recall, 'Precision': rf_precision, 'F1': rf_f1, 'AUC-ROC': auc_roc_rf},\n",
    "                  {'Recall': lr_recall, 'Precision': lr_precision, 'F1': lr_f1, 'AUC-ROC': auc_roc_lr}] \n",
    "disbalance_result = pd.DataFrame(disbalance_data, index=['DecisionTreeClassifier (Дерево решений) disbalance', \n",
    "                                             'RandomForestClassifier (Случайный лес) disbalance', \n",
    "                                             'LogisticRegression (Логистическая регрессия) disbalance']) \n",
    "disbalance_result"
   ]
  },
  {
   "cell_type": "markdown",
   "metadata": {},
   "source": [
    "По результатам обучения моделей без учета дисбаланса классов случайный лес в F1-мере показывает лучший результат. "
   ]
  },
  {
   "cell_type": "markdown",
   "metadata": {},
   "source": [
    "## Борьба с дисбалансом"
   ]
  },
  {
   "cell_type": "markdown",
   "metadata": {},
   "source": [
    "Для борьбы с дисбалансом классов будет рассмотрены три метода:\n",
    "\n",
    "Увеличение выборки (upsampling)\n",
    "Уменьшение выборки (downsampling)\n",
    "Взвешивание классов"
   ]
  },
  {
   "cell_type": "markdown",
   "metadata": {},
   "source": [
    "### Увеличение выборки"
   ]
  },
  {
   "cell_type": "code",
   "execution_count": 34,
   "metadata": {},
   "outputs": [
    {
     "name": "stdout",
     "output_type": "stream",
     "text": [
      "1    4420\n",
      "0    4349\n",
      "Name: exited, dtype: int64\n"
     ]
    }
   ],
   "source": [
    "# увеличение выборки\n",
    "def upsample(features, target, repeat):\n",
    "    features_zeros = features[target == 0]\n",
    "    features_ones = features[target == 1]\n",
    "    target_zeros = target[target == 0]\n",
    "    target_ones = target[target == 1]\n",
    "\n",
    "    features_upsampled = pd.concat([features_zeros] + [features_ones] * repeat)\n",
    "    target_upsampled = pd.concat([target_zeros] + [target_ones] * repeat)\n",
    "    \n",
    "    features_upsampled, target_upsampled = shuffle(\n",
    "        features_upsampled, target_upsampled, random_state=random_state)\n",
    "    \n",
    "    return features_upsampled, target_upsampled\n",
    "\n",
    "features_upsampled, target_upsampled = upsample(features_train, target_train, 4)\n",
    "\n",
    "print(target_upsampled.value_counts())"
   ]
  },
  {
   "cell_type": "markdown",
   "metadata": {},
   "source": [
    "#### DecisionTreeClassifier (Дерево решений)"
   ]
  },
  {
   "cell_type": "markdown",
   "metadata": {},
   "source": [
    "Подбор гиперпараметров"
   ]
  },
  {
   "cell_type": "code",
   "execution_count": 35,
   "metadata": {},
   "outputs": [
    {
     "name": "stdout",
     "output_type": "stream",
     "text": [
      "Оптимальная глубина дерева: 6\n",
      "Качество модели: 0.5429769392033543\n"
     ]
    }
   ],
   "source": [
    "best_model = None\n",
    "best_depth = 0\n",
    "best_f1 = 0\n",
    "for depth in range(1, 10):\n",
    "    model_us_dt = DecisionTreeClassifier(random_state=random_state,\n",
    "                                        max_depth=depth)\n",
    "    model_us_dt.fit(features_upsampled, target_upsampled)\n",
    "    predictions_us_dt = model_us_dt.predict(features_valid)\n",
    "    f1_us_dt = f1_score(target_valid, predictions_us_dt)\n",
    "    if f1_us_dt > best_f1:\n",
    "        best_model = model_us_dt\n",
    "        best_depth = depth\n",
    "        best_f1 = f1_us_dt\n",
    "\n",
    "print('Оптимальная глубина дерева:', best_depth) \n",
    "print('Качество модели:', f1_us_dt)"
   ]
  },
  {
   "cell_type": "markdown",
   "metadata": {},
   "source": [
    "Обучение модели с подобранными гиперпараметрами"
   ]
  },
  {
   "cell_type": "code",
   "execution_count": 36,
   "metadata": {},
   "outputs": [
    {
     "name": "stdout",
     "output_type": "stream",
     "text": [
      "Полнота (recall) дерева решений: 0.7934782608695652\n",
      "Точность (precision) дерева решений: 0.46129541864139023\n",
      "F1-мера дерева решений: 0.5834165834165834\n"
     ]
    },
    {
     "data": {
      "image/png": "[encoded data removed]",
      "text/plain": [
       "<Figure size 432x288 with 2 Axes>"
      ]
     },
     "metadata": {
      "needs_background": "light"
     },
     "output_type": "display_data"
    },
    {
     "name": "stdout",
     "output_type": "stream",
     "text": [
      "AUC-ROC DecisionTreeClassifier 0.8406484257871065\n"
     ]
    },
    {
     "data": {
      "image/png": "[encoded data removed]",
      "text/plain": [
       "<Figure size 432x288 with 1 Axes>"
      ]
     },
     "metadata": {
      "needs_background": "light"
     },
     "output_type": "display_data"
    }
   ],
   "source": [
    "# модель\n",
    "model_us_dt = DecisionTreeClassifier(random_state=random_state,\n",
    "                                    max_depth=best_depth)\n",
    "model_us_dt.fit(features_upsampled, target_upsampled)\n",
    "predictions_us_dt = model_us_dt.predict(features_valid)\n",
    "\n",
    "# метрики:\n",
    "us_dt_recall = recall_score(target_valid, predictions_us_dt)\n",
    "us_dt_precision = precision_score(target_valid, predictions_us_dt)\n",
    "us_dt_f1 = f1_score(target_valid, predictions_us_dt)\n",
    "\n",
    "print('Полнота (recall) дерева решений:', us_dt_recall)\n",
    "print('Точность (precision) дерева решений:', us_dt_precision)\n",
    "print('F1-мера дерева решений:', us_dt_f1)\n",
    "\n",
    "# графики:\n",
    "plt.figure(figsize=(6, 4))\n",
    "sns.heatmap(confusion_matrix(target_valid, predictions_us_dt), annot=True, fmt='g', linewidths=1, linecolor='white', cmap='coolwarm');\n",
    "plt.title(f'Матрица ошибок\\n[TN, FP]\\n[FN, TP]', fontsize=15)\n",
    "plt.xlabel('Предсказанные значения', fontsize=15)\n",
    "plt.ylabel('Истинные значения', fontsize=15)\n",
    "plt.show()\n",
    "\n",
    "probabilities_valid = model_us_dt.predict_proba(features_valid)\n",
    "probabilities_one_valid = probabilities_valid[:, 1]\n",
    "fpr, tpr, thresholds = roc_curve(target_valid, probabilities_one_valid)\n",
    "auc_roc_us_dt = roc_auc_score(target_valid, probabilities_one_valid)\n",
    "print('AUC-ROC DecisionTreeClassifier',auc_roc_us_dt)\n",
    "plt.plot(fpr, tpr, label='DecisionTreeClassifier');\n",
    "plt.plot([0, 1], [0, 1], linestyle='--');"
   ]
  },
  {
   "cell_type": "markdown",
   "metadata": {},
   "source": [
    "#### RandomForestClassifier (Случайный лес)"
   ]
  },
  {
   "cell_type": "markdown",
   "metadata": {},
   "source": [
    "Подбор гиперпараметров"
   ]
  },
  {
   "cell_type": "code",
   "execution_count": 37,
   "metadata": {},
   "outputs": [
    {
     "name": "stdout",
     "output_type": "stream",
     "text": [
      "n_estimators: 95\n",
      "max_depth: 9\n"
     ]
    }
   ],
   "source": [
    "best_model = None\n",
    "best_f1 = 0\n",
    "best_est = 0\n",
    "best_depth = 0\n",
    "for est in range(10, 101, 5):\n",
    "    for depth in range(1, 20):\n",
    "        model_us_rf = RandomForestClassifier(random_state=random_state,\n",
    "                                              n_estimators=est, \n",
    "                                              max_depth=depth)\n",
    "        model_us_rf.fit(features_upsampled, target_upsampled)\n",
    "        predictions_us_rf = model_us_rf.predict(features_valid)\n",
    "        f1_us_rf = f1_score(target_valid, predictions_us_rf)\n",
    "        if f1_us_rf > best_f1:\n",
    "            best_model = model_us_rf\n",
    "            best_est = est\n",
    "            best_depth = depth\n",
    "            best_f1 = f1_us_rf\n",
    "\n",
    "print('n_estimators:', best_est)\n",
    "print('max_depth:', best_depth)\n"
   ]
  },
  {
   "cell_type": "markdown",
   "metadata": {},
   "source": [
    "Обучение модели с подобранными гиперпараметрами"
   ]
  },
  {
   "cell_type": "code",
   "execution_count": 38,
   "metadata": {},
   "outputs": [
    {
     "name": "stdout",
     "output_type": "stream",
     "text": [
      "Полнота (recall) случайного леса: 0.720108695652174\n",
      "Точность (precision) случайного леса: 0.5824175824175825\n",
      "F1-мера случайного леса: 0.643985419198056\n"
     ]
    },
    {
     "data": {
      "image/png": "[encoded data removed]",
      "text/plain": [
       "<Figure size 432x288 with 2 Axes>"
      ]
     },
     "metadata": {
      "needs_background": "light"
     },
     "output_type": "display_data"
    },
    {
     "name": "stdout",
     "output_type": "stream",
     "text": [
      "AUC-ROC RandomForestClassifier 0.869389055472264\n"
     ]
    },
    {
     "data": {
      "image/png": "[encoded data removed]",
      "text/plain": [
       "<Figure size 432x288 with 1 Axes>"
      ]
     },
     "metadata": {
      "needs_background": "light"
     },
     "output_type": "display_data"
    }
   ],
   "source": [
    "# модель\n",
    "model_us_rf = RandomForestClassifier(random_state=random_state, \n",
    "                                      n_estimators=best_est, \n",
    "                                      max_depth=best_depth)\n",
    "model_us_rf.fit(features_upsampled, target_upsampled)\n",
    "predictions_us_rf = model_us_rf.predict(features_valid)\n",
    "\n",
    "# метрики:\n",
    "us_rf_recall = recall_score(target_valid, predictions_us_rf)\n",
    "us_rf_precision = precision_score(target_valid, predictions_us_rf)\n",
    "us_rf_f1 = f1_score(target_valid, predictions_us_rf)\n",
    "\n",
    "print('Полнота (recall) случайного леса:', us_rf_recall)\n",
    "print('Точность (precision) случайного леса:', us_rf_precision)\n",
    "print('F1-мера случайного леса:', us_rf_f1)\n",
    "\n",
    "# графики:\n",
    "plt.figure(figsize=(6, 4))\n",
    "sns.heatmap(confusion_matrix(target_valid, predictions_us_rf), annot=True, fmt='g', linewidths=1, linecolor='white', cmap='coolwarm');\n",
    "plt.title(f'Матрица ошибок\\n[TN, FP]\\n[FN, TP]', fontsize=15)\n",
    "plt.xlabel('Предсказанные значения', fontsize=15)\n",
    "plt.ylabel('Истинные значения', fontsize=15)\n",
    "plt.show()\n",
    "\n",
    "probabilities_valid = model_us_rf.predict_proba(features_valid)\n",
    "probabilities_one_valid = probabilities_valid[:, 1]\n",
    "fpr, tpr, thresholds = roc_curve(target_valid, probabilities_one_valid)\n",
    "auc_roc_us_rf = roc_auc_score(target_valid, probabilities_one_valid)\n",
    "print('AUC-ROC RandomForestClassifier',auc_roc_us_rf)\n",
    "plt.plot(fpr, tpr, label='RandomForestClassifier');\n",
    "plt.plot([0, 1], [0, 1], linestyle='--');"
   ]
  },
  {
   "cell_type": "markdown",
   "metadata": {},
   "source": [
    "#### LogisticRegression (Логистическая регрессия)"
   ]
  },
  {
   "cell_type": "markdown",
   "metadata": {},
   "source": [
    "Подбор гиперпараметров"
   ]
  },
  {
   "cell_type": "code",
   "execution_count": 39,
   "metadata": {},
   "outputs": [
    {
     "name": "stdout",
     "output_type": "stream",
     "text": [
      "Полнота (recall) логистической регрессии: 0.6983695652173914\n",
      "Точность (precision) логистической регрессии: 0.3953846153846154\n",
      "F1-мера логистической регрессии: 0.5049115913555992\n"
     ]
    },
    {
     "data": {
      "image/png": "[encoded data removed]",
      "text/plain": [
       "<Figure size 576x432 with 2 Axes>"
      ]
     },
     "metadata": {
      "needs_background": "light"
     },
     "output_type": "display_data"
    },
    {
     "name": "stdout",
     "output_type": "stream",
     "text": [
      "AUC-ROC  LogisticRegression 0.7839186656671664\n"
     ]
    },
    {
     "data": {
      "image/png": "[encoded data removed]",
      "text/plain": [
       "<Figure size 432x288 with 1 Axes>"
      ]
     },
     "metadata": {
      "needs_background": "light"
     },
     "output_type": "display_data"
    }
   ],
   "source": [
    "# модель\n",
    "model_us_lr = LogisticRegression(random_state=random_state,\n",
    "                               solver='liblinear')\n",
    "model_us_lr.fit(features_upsampled, target_upsampled)\n",
    "predictions_us_lr = model_us_lr.predict(features_valid)\n",
    "\n",
    "# метрики:\n",
    "us_lr_recall = recall_score(target_valid, predictions_us_lr)\n",
    "us_lr_precision = precision_score(target_valid, predictions_us_lr)\n",
    "us_lr_f1 = f1_score(target_valid, predictions_us_lr)\n",
    "\n",
    "print('Полнота (recall) логистической регрессии:', us_lr_recall)\n",
    "print('Точность (precision) логистической регрессии:', us_lr_precision)\n",
    "print('F1-мера логистической регрессии:', us_lr_f1)\n",
    "\n",
    "# графики:\n",
    "plt.figure(figsize=(8, 6))\n",
    "sns.heatmap(confusion_matrix(target_valid, predictions_us_lr), annot=True, fmt='g', linewidths=1, linecolor='white', cmap='coolwarm');\n",
    "plt.title(f'Матрица ошибок\\n[TN, FP]\\n[FN, TP]', fontsize=15)\n",
    "plt.xlabel('Предсказанные значения', fontsize=15)\n",
    "plt.ylabel('Истинные значения', fontsize=15)\n",
    "plt.show()\n",
    "\n",
    "probabilities_valid = model_us_lr.predict_proba(features_valid)\n",
    "probabilities_one_valid = probabilities_valid[:, 1]\n",
    "fpr, tpr, thresholds = roc_curve(target_valid, probabilities_one_valid)\n",
    "auc_roc_us_lr = roc_auc_score(target_valid, probabilities_one_valid)\n",
    "print('AUC-ROC  LogisticRegression',auc_roc_us_lr)\n",
    "plt.plot(fpr, tpr, label=' LogisticRegression');\n",
    "plt.plot([0, 1], [0, 1], linestyle='--');"
   ]
  },
  {
   "cell_type": "code",
   "execution_count": 40,
   "metadata": {},
   "outputs": [
    {
     "data": {
      "text/html": [
       "<div>\n",
       "<style scoped>\n",
       "    .dataframe tbody tr th:only-of-type {\n",
       "        vertical-align: middle;\n",
       "    }\n",
       "\n",
       "    .dataframe tbody tr th {\n",
       "        vertical-align: top;\n",
       "    }\n",
       "\n",
       "    .dataframe thead th {\n",
       "        text-align: right;\n",
       "    }\n",
       "</style>\n",
       "<table border=\"1\" class=\"dataframe\">\n",
       "  <thead>\n",
       "    <tr style=\"text-align: right;\">\n",
       "      <th></th>\n",
       "      <th>Recall</th>\n",
       "      <th>Precision</th>\n",
       "      <th>F1</th>\n",
       "      <th>AUC-ROC</th>\n",
       "    </tr>\n",
       "  </thead>\n",
       "  <tbody>\n",
       "    <tr>\n",
       "      <th>DecisionTreeClassifier (Дерево решений) upsampled</th>\n",
       "      <td>0.793478</td>\n",
       "      <td>0.461295</td>\n",
       "      <td>0.583417</td>\n",
       "      <td>0.840648</td>\n",
       "    </tr>\n",
       "    <tr>\n",
       "      <th>RandomForestClassifier (Случайный лес) upsampled</th>\n",
       "      <td>0.720109</td>\n",
       "      <td>0.582418</td>\n",
       "      <td>0.643985</td>\n",
       "      <td>0.869389</td>\n",
       "    </tr>\n",
       "    <tr>\n",
       "      <th>LogisticRegression (Логистическая регрессия) upsampled</th>\n",
       "      <td>0.698370</td>\n",
       "      <td>0.395385</td>\n",
       "      <td>0.504912</td>\n",
       "      <td>0.783919</td>\n",
       "    </tr>\n",
       "  </tbody>\n",
       "</table>\n",
       "</div>"
      ],
      "text/plain": [
       "                                                      Recall  Precision  \\\n",
       "DecisionTreeClassifier (Дерево решений) upsampled   0.793478   0.461295   \n",
       "RandomForestClassifier (Случайный лес) upsampled    0.720109   0.582418   \n",
       "LogisticRegression (Логистическая регрессия) up...  0.698370   0.395385   \n",
       "\n",
       "                                                          F1   AUC-ROC  \n",
       "DecisionTreeClassifier (Дерево решений) upsampled   0.583417  0.840648  \n",
       "RandomForestClassifier (Случайный лес) upsampled    0.643985  0.869389  \n",
       "LogisticRegression (Логистическая регрессия) up...  0.504912  0.783919  "
      ]
     },
     "execution_count": 40,
     "metadata": {},
     "output_type": "execute_result"
    }
   ],
   "source": [
    "us_balance_data = [{'Recall': us_dt_recall, 'Precision': us_dt_precision, 'F1': us_dt_f1, 'AUC-ROC': auc_roc_us_dt}, \n",
    "                  {'Recall': us_rf_recall, 'Precision': us_rf_precision, 'F1': us_rf_f1, 'AUC-ROC': auc_roc_us_rf},\n",
    "                  {'Recall': us_lr_recall, 'Precision': us_lr_precision, 'F1': us_lr_f1, 'AUC-ROC': auc_roc_us_lr}] \n",
    "us_balance_data_result = pd.DataFrame(us_balance_data, index=['DecisionTreeClassifier (Дерево решений) upsampled', \n",
    "                                             'RandomForestClassifier (Случайный лес) upsampled', \n",
    "                                             'LogisticRegression (Логистическая регрессия) upsampled']) \n",
    "us_balance_data_result"
   ]
  },
  {
   "cell_type": "markdown",
   "metadata": {},
   "source": [
    "### Уменьшение выборки"
   ]
  },
  {
   "cell_type": "code",
   "execution_count": 41,
   "metadata": {},
   "outputs": [
    {
     "name": "stdout",
     "output_type": "stream",
     "text": [
      "(2192, 11)\n",
      "(2192,)\n"
     ]
    }
   ],
   "source": [
    "# уменьшение выборки\n",
    "def downsample(features, target, fraction):\n",
    "    features_zeros = features[target == 0]\n",
    "    features_ones = features[target == 1]\n",
    "    target_zeros = target[target == 0]\n",
    "    target_ones = target[target == 1]\n",
    "\n",
    "    # fractioning samples\n",
    "    features_downsampled = pd.concat([features_zeros.sample(frac=fraction, random_state=random_state)] +\n",
    "                                     [features_ones])\n",
    "    target_downsampled = pd.concat([target_zeros.sample(frac=fraction, random_state=random_state)] +\n",
    "                                   [target_ones])\n",
    "    \n",
    "    features_downsampled = shuffle(features_downsampled, random_state=random_state)\n",
    "    target_downsampled = shuffle(target_downsampled, random_state=random_state)\n",
    "\n",
    "    return features_downsampled, target_downsampled\n",
    "\n",
    "features_downsampled, target_downsampled = downsample(features_train, target_train, 0.25)\n",
    "\n",
    "print(features_downsampled.shape)\n",
    "print(target_downsampled.shape)"
   ]
  },
  {
   "cell_type": "markdown",
   "metadata": {},
   "source": [
    "#### DecisionTreeClassifier (Дерево решений)"
   ]
  },
  {
   "cell_type": "markdown",
   "metadata": {},
   "source": [
    "Подбор гиперпараметров"
   ]
  },
  {
   "cell_type": "code",
   "execution_count": 42,
   "metadata": {},
   "outputs": [
    {
     "name": "stdout",
     "output_type": "stream",
     "text": [
      "Оптимальная глубина дерева: 6\n"
     ]
    }
   ],
   "source": [
    "best_model = None\n",
    "best_f1 = 0\n",
    "best_depth = 0\n",
    "for depth in range(1, 10):\n",
    "    model_ds_dt = DecisionTreeClassifier(random_state=random_state,\n",
    "                                        max_depth=depth)\n",
    "    model_ds_dt.fit(features_downsampled, target_downsampled)\n",
    "    predictions_ds_dt = model_ds_dt.predict(features_valid)\n",
    "    f1_ds_dt = f1_score(target_valid, predictions_ds_dt)\n",
    "    if f1_ds_dt > best_f1:\n",
    "        best_model = model_ds_dt\n",
    "        best_depth = depth\n",
    "        best_f1 =f1_ds_dt\n",
    "\n",
    "print('Оптимальная глубина дерева:', best_depth) "
   ]
  },
  {
   "cell_type": "markdown",
   "metadata": {},
   "source": [
    "Обучение модели с подобранными гиперпараметрами"
   ]
  },
  {
   "cell_type": "code",
   "execution_count": 43,
   "metadata": {},
   "outputs": [
    {
     "name": "stdout",
     "output_type": "stream",
     "text": [
      "Полнота (recall) дерева решений: 0.7228260869565217\n",
      "Точность (precision) дерева решений: 0.49812734082397003\n",
      "F1-мера дерева решений: 0.5898004434589801\n"
     ]
    },
    {
     "data": {
      "image/png": "[encoded data removed]",
      "text/plain": [
       "<Figure size 432x288 with 2 Axes>"
      ]
     },
     "metadata": {
      "needs_background": "light"
     },
     "output_type": "display_data"
    },
    {
     "name": "stdout",
     "output_type": "stream",
     "text": [
      "AUC-ROC  DecisionTreeClassifier 0.8449915667166418\n"
     ]
    },
    {
     "data": {
      "image/png": "[encoded data removed]",
      "text/plain": [
       "<Figure size 432x288 with 1 Axes>"
      ]
     },
     "metadata": {
      "needs_background": "light"
     },
     "output_type": "display_data"
    }
   ],
   "source": [
    "# модель\n",
    "model_ds_dt = DecisionTreeClassifier(random_state=random_state,\n",
    "                                    max_depth=best_depth)\n",
    "model_ds_dt.fit(features_downsampled, target_downsampled)\n",
    "predictions_ds_dt = model_ds_dt.predict(features_valid)\n",
    "\n",
    "# метрики:\n",
    "ds_dt_recall = recall_score(target_valid, predictions_ds_dt)\n",
    "ds_dt_precision = precision_score(target_valid, predictions_ds_dt)\n",
    "ds_dt_f1 = f1_score(target_valid, predictions_ds_dt)\n",
    "\n",
    "print('Полнота (recall) дерева решений:', ds_dt_recall)\n",
    "print('Точность (precision) дерева решений:', ds_dt_precision)\n",
    "print('F1-мера дерева решений:', ds_dt_f1)\n",
    "\n",
    "# графики:\n",
    "plt.figure(figsize=(6, 4))\n",
    "sns.heatmap(confusion_matrix(target_valid, predictions_ds_dt), annot=True, fmt='g', linewidths=1, linecolor='white', cmap='coolwarm');\n",
    "plt.title(f'Матрица ошибок\\n[TN, FP]\\n[FN, TP]', fontsize=15)\n",
    "plt.xlabel('Предсказанные значения', fontsize=15)\n",
    "plt.ylabel('Истинные значения', fontsize=15)\n",
    "plt.show()\n",
    "\n",
    "probabilities_valid = model_ds_dt.predict_proba(features_valid)\n",
    "probabilities_one_valid = probabilities_valid[:, 1]\n",
    "fpr, tpr, thresholds = roc_curve(target_valid, probabilities_one_valid)\n",
    "auc_roc_ds_dt = roc_auc_score(target_valid, probabilities_one_valid)\n",
    "print('AUC-ROC  DecisionTreeClassifier',auc_roc_ds_dt)\n",
    "plt.plot(fpr, tpr, label='DecisionTreeClassifiern');\n",
    "plt.plot([0, 1], [0, 1], linestyle='--');"
   ]
  },
  {
   "cell_type": "markdown",
   "metadata": {},
   "source": [
    "#### RandomForestClassifier (Случайный лес)"
   ]
  },
  {
   "cell_type": "markdown",
   "metadata": {},
   "source": [
    "Подбор гиперпараметров"
   ]
  },
  {
   "cell_type": "code",
   "execution_count": 44,
   "metadata": {
    "scrolled": true
   },
   "outputs": [
    {
     "name": "stdout",
     "output_type": "stream",
     "text": [
      "n_estimators: 60\n",
      "max_depth: 8\n"
     ]
    }
   ],
   "source": [
    "best_model = None\n",
    "best_est = 0\n",
    "best_depth = 0\n",
    "best_f1 = 0\n",
    "for est in range(10, 101, 10):\n",
    "    for depth in range(1, 10):\n",
    "        model_ds_rf = RandomForestClassifier(random_state=random_state,\n",
    "                                              n_estimators=est, \n",
    "                                              max_depth=depth)\n",
    "        model_ds_rf.fit(features_downsampled, target_downsampled)\n",
    "        predictions_ds_rf = model_ds_rf.predict(features_valid)\n",
    "        f1_ds_rf = f1_score(target_valid, predictions_ds_rf)\n",
    "        if f1_ds_rf > best_f1:\n",
    "            best_model = model_ds_rf\n",
    "            best_est = est\n",
    "            best_depth = depth\n",
    "            best_f1 = f1_ds_rf\n",
    "\n",
    "print('n_estimators:', best_est)\n",
    "print('max_depth:', best_depth)"
   ]
  },
  {
   "cell_type": "markdown",
   "metadata": {},
   "source": [
    "Обучение модели с подобранными гиперпараметрами"
   ]
  },
  {
   "cell_type": "code",
   "execution_count": 45,
   "metadata": {},
   "outputs": [
    {
     "name": "stdout",
     "output_type": "stream",
     "text": [
      "Полнота (recall) случайного леса: 0.7880434782608695\n",
      "Точность (precision) случайного леса: 0.4974271012006861\n",
      "F1-мера случайного леса: 0.6098843322818085\n"
     ]
    },
    {
     "data": {
      "image/png": "[encoded data removed]",
      "text/plain": [
       "<Figure size 432x288 with 2 Axes>"
      ]
     },
     "metadata": {
      "needs_background": "light"
     },
     "output_type": "display_data"
    },
    {
     "name": "stdout",
     "output_type": "stream",
     "text": [
      "AUC-ROC  RandomForestClassifier 0.8678635682158921\n"
     ]
    },
    {
     "data": {
      "image/png": "[encoded data removed]",
      "text/plain": [
       "<Figure size 432x288 with 1 Axes>"
      ]
     },
     "metadata": {
      "needs_background": "light"
     },
     "output_type": "display_data"
    }
   ],
   "source": [
    "# модель\n",
    "model_ds_rf = RandomForestClassifier(random_state=random_state, \n",
    "                                      n_estimators=best_est, \n",
    "                                      max_depth=best_depth)\n",
    "model_ds_rf.fit(features_downsampled, target_downsampled)\n",
    "predictions_ds_rf = model_ds_rf.predict(features_valid)\n",
    "\n",
    "# метрики:\n",
    "ds_rf_recall = recall_score(target_valid, predictions_ds_rf)\n",
    "ds_rf_precision = precision_score(target_valid, predictions_ds_rf)\n",
    "ds_rf_f1 = f1_score(target_valid, predictions_ds_rf)\n",
    "\n",
    "print('Полнота (recall) случайного леса:', ds_rf_recall)\n",
    "print('Точность (precision) случайного леса:', ds_rf_precision)\n",
    "print('F1-мера случайного леса:', ds_rf_f1)\n",
    "\n",
    "# графики:\n",
    "plt.figure(figsize=(6, 4))\n",
    "sns.heatmap(confusion_matrix(target_valid, predictions_ds_rf), annot=True, fmt='g', linewidths=1, linecolor='white', cmap='coolwarm');\n",
    "plt.title(f'Матрица ошибок\\n[TN, FP]\\n[FN, TP]', fontsize=15)\n",
    "plt.xlabel('Предсказанные значения', fontsize=15)\n",
    "plt.ylabel('Истинные значения', fontsize=15)\n",
    "plt.show()\n",
    "\n",
    "probabilities_valid = model_ds_rf.predict_proba(features_valid)\n",
    "probabilities_one_valid = probabilities_valid[:, 1]\n",
    "fpr, tpr, thresholds = roc_curve(target_valid, probabilities_one_valid)\n",
    "auc_roc_ds_rf = roc_auc_score(target_valid, probabilities_one_valid)\n",
    "print('AUC-ROC  RandomForestClassifier',auc_roc_ds_rf)\n",
    "plt.plot(fpr, tpr, label='RandomForestClassifier');\n",
    "plt.plot([0, 1], [0, 1], linestyle='--');"
   ]
  },
  {
   "cell_type": "markdown",
   "metadata": {},
   "source": [
    "#### LogisticRegression (Логистическая регрессия)"
   ]
  },
  {
   "cell_type": "markdown",
   "metadata": {},
   "source": [
    "Обучение модели с подобранными гиперпараметрами"
   ]
  },
  {
   "cell_type": "code",
   "execution_count": 46,
   "metadata": {},
   "outputs": [
    {
     "name": "stdout",
     "output_type": "stream",
     "text": [
      "Полнота (recall) логистической регрессии: 0.7092391304347826\n",
      "Точность (precision) логистической регрессии: 0.3972602739726027\n",
      "F1-мера логистической регрессии: 0.5092682926829268\n"
     ]
    },
    {
     "data": {
      "image/png": "[encoded data removed]",
      "text/plain": [
       "<Figure size 432x288 with 2 Axes>"
      ]
     },
     "metadata": {
      "needs_background": "light"
     },
     "output_type": "display_data"
    },
    {
     "name": "stdout",
     "output_type": "stream",
     "text": [
      "AUC-ROC  LogisticRegressionr 0.7837443778110944\n"
     ]
    },
    {
     "data": {
      "image/png": "[encoded data removed]",
      "text/plain": [
       "<Figure size 432x288 with 1 Axes>"
      ]
     },
     "metadata": {
      "needs_background": "light"
     },
     "output_type": "display_data"
    }
   ],
   "source": [
    "# модель\n",
    "model_ds_lr = LogisticRegression(random_state=random_state,\n",
    "                               solver='liblinear')\n",
    "\n",
    "model_ds_lr.fit(features_downsampled, target_downsampled)\n",
    "predictions_ds_lr = model_ds_lr.predict(features_valid)\n",
    "\n",
    "# метрики:\n",
    "ds_lr_recall = recall_score(target_valid, predictions_ds_lr)\n",
    "ds_lr_precision = precision_score(target_valid, predictions_ds_lr)\n",
    "ds_lr_f1 = f1_score(target_valid, predictions_ds_lr)\n",
    "\n",
    "print('Полнота (recall) логистической регрессии:', ds_lr_recall)\n",
    "print('Точность (precision) логистической регрессии:', ds_lr_precision)\n",
    "print('F1-мера логистической регрессии:', ds_lr_f1)\n",
    "\n",
    "# графики:\n",
    "plt.figure(figsize=(6, 4))\n",
    "sns.heatmap(confusion_matrix(target_valid, predictions_ds_lr), annot=True, fmt='g', linewidths=1, linecolor='white', cmap='coolwarm');\n",
    "plt.title(f'Матрица ошибок\\n[TN, FP]\\n[FN, TP]', fontsize=15)\n",
    "plt.xlabel('Предсказанные значения', fontsize=15)\n",
    "plt.ylabel('Истинные значения', fontsize=15)\n",
    "plt.show()\n",
    "\n",
    "probabilities_valid = model_ds_lr.predict_proba(features_valid)\n",
    "probabilities_one_valid = probabilities_valid[:, 1]\n",
    "fpr, tpr, thresholds = roc_curve(target_valid, probabilities_one_valid)\n",
    "auc_roc_ds_lr = roc_auc_score(target_valid, probabilities_one_valid)\n",
    "print('AUC-ROC  LogisticRegressionr',auc_roc_ds_lr)\n",
    "plt.plot(fpr, tpr, label='LogisticRegression');\n",
    "plt.plot([0, 1], [0, 1], linestyle='--');"
   ]
  },
  {
   "cell_type": "code",
   "execution_count": 47,
   "metadata": {},
   "outputs": [
    {
     "data": {
      "text/html": [
       "<div>\n",
       "<style scoped>\n",
       "    .dataframe tbody tr th:only-of-type {\n",
       "        vertical-align: middle;\n",
       "    }\n",
       "\n",
       "    .dataframe tbody tr th {\n",
       "        vertical-align: top;\n",
       "    }\n",
       "\n",
       "    .dataframe thead th {\n",
       "        text-align: right;\n",
       "    }\n",
       "</style>\n",
       "<table border=\"1\" class=\"dataframe\">\n",
       "  <thead>\n",
       "    <tr style=\"text-align: right;\">\n",
       "      <th></th>\n",
       "      <th>Recall</th>\n",
       "      <th>Precision</th>\n",
       "      <th>F1</th>\n",
       "      <th>AUC-ROC</th>\n",
       "    </tr>\n",
       "  </thead>\n",
       "  <tbody>\n",
       "    <tr>\n",
       "      <th>DecisionTreeClassifier (Дерево решений) downsampled</th>\n",
       "      <td>0.722826</td>\n",
       "      <td>0.498127</td>\n",
       "      <td>0.589800</td>\n",
       "      <td>0.844992</td>\n",
       "    </tr>\n",
       "    <tr>\n",
       "      <th>RandomForestClassifier (Случайный лес) downsampled</th>\n",
       "      <td>0.788043</td>\n",
       "      <td>0.497427</td>\n",
       "      <td>0.609884</td>\n",
       "      <td>0.867864</td>\n",
       "    </tr>\n",
       "    <tr>\n",
       "      <th>LogisticRegression (Логистическая регрессия) downsampled</th>\n",
       "      <td>0.709239</td>\n",
       "      <td>0.397260</td>\n",
       "      <td>0.509268</td>\n",
       "      <td>0.783744</td>\n",
       "    </tr>\n",
       "  </tbody>\n",
       "</table>\n",
       "</div>"
      ],
      "text/plain": [
       "                                                      Recall  Precision  \\\n",
       "DecisionTreeClassifier (Дерево решений) downsam...  0.722826   0.498127   \n",
       "RandomForestClassifier (Случайный лес) downsampled  0.788043   0.497427   \n",
       "LogisticRegression (Логистическая регрессия) do...  0.709239   0.397260   \n",
       "\n",
       "                                                          F1   AUC-ROC  \n",
       "DecisionTreeClassifier (Дерево решений) downsam...  0.589800  0.844992  \n",
       "RandomForestClassifier (Случайный лес) downsampled  0.609884  0.867864  \n",
       "LogisticRegression (Логистическая регрессия) do...  0.509268  0.783744  "
      ]
     },
     "execution_count": 47,
     "metadata": {},
     "output_type": "execute_result"
    }
   ],
   "source": [
    "ds_balance_data = [{'Recall': ds_dt_recall, 'Precision': ds_dt_precision, 'F1': ds_dt_f1, 'AUC-ROC': auc_roc_ds_dt}, \n",
    "                  {'Recall': ds_rf_recall, 'Precision': ds_rf_precision, 'F1': ds_rf_f1, 'AUC-ROC': auc_roc_ds_rf},\n",
    "                  {'Recall': ds_lr_recall, 'Precision': ds_lr_precision, 'F1': ds_lr_f1, 'AUC-ROC': auc_roc_ds_lr}] \n",
    "ds_balance_data_result = pd.DataFrame(ds_balance_data, index=['DecisionTreeClassifier (Дерево решений) downsampled', \n",
    "                                             'RandomForestClassifier (Случайный лес) downsampled', \n",
    "                                             'LogisticRegression (Логистическая регрессия) downsampled']) \n",
    "ds_balance_data_result"
   ]
  },
  {
   "cell_type": "markdown",
   "metadata": {},
   "source": [
    "### Взвешивание классов"
   ]
  },
  {
   "cell_type": "markdown",
   "metadata": {},
   "source": [
    "#### DecisionTreeClassifier (Дерево решений)"
   ]
  },
  {
   "cell_type": "markdown",
   "metadata": {},
   "source": [
    "Подбор гиперпараметров"
   ]
  },
  {
   "cell_type": "code",
   "execution_count": 48,
   "metadata": {},
   "outputs": [
    {
     "name": "stdout",
     "output_type": "stream",
     "text": [
      "Оптимальная глубина дерева: 6\n"
     ]
    }
   ],
   "source": [
    "best_model = None\n",
    "best_f1 = 0\n",
    "best_depth = 0\n",
    "for depth in range(1, 10):\n",
    "    model_cw_dt = DecisionTreeClassifier(random_state=random_state,\n",
    "                                        max_depth=depth,\n",
    "                                        class_weight='balanced')\n",
    "    model_cw_dt.fit(features_train, target_train)\n",
    "    predictions_cw_dt = model_cw_dt.predict(features_valid)\n",
    "    f1_cw_dt = f1_score(target_valid, predictions_cw_dt)\n",
    "    if f1_cw_dt > best_f1:\n",
    "        best_model = model_cw_dt\n",
    "        best_depth = depth\n",
    "        best_f1 = f1_cw_dt\n",
    "\n",
    "print('Оптимальная глубина дерева:', best_depth) "
   ]
  },
  {
   "cell_type": "markdown",
   "metadata": {},
   "source": [
    "Обучение модели с подобранными гиперпараметрами"
   ]
  },
  {
   "cell_type": "code",
   "execution_count": 49,
   "metadata": {},
   "outputs": [
    {
     "name": "stdout",
     "output_type": "stream",
     "text": [
      "Полнота (recall) дерева решений: 0.7934782608695652\n",
      "Точность (precision) дерева решений: 0.46129541864139023\n",
      "F1-мера дерева решений: 0.5834165834165834\n"
     ]
    },
    {
     "data": {
      "image/png": "[encoded data removed]",
      "text/plain": [
       "<Figure size 432x288 with 2 Axes>"
      ]
     },
     "metadata": {
      "needs_background": "light"
     },
     "output_type": "display_data"
    },
    {
     "name": "stdout",
     "output_type": "stream",
     "text": [
      "AUC-ROC  DecisionTreeClassifier 0.8403579460269867\n"
     ]
    },
    {
     "data": {
      "image/png": "[encoded data removed]",
      "text/plain": [
       "<Figure size 432x288 with 1 Axes>"
      ]
     },
     "metadata": {
      "needs_background": "light"
     },
     "output_type": "display_data"
    }
   ],
   "source": [
    "# модель\n",
    "model_cw_dt = DecisionTreeClassifier(random_state=random_state,\n",
    "                                    max_depth=best_depth,\n",
    "                                    class_weight='balanced')\n",
    "model_cw_dt.fit(features_train, target_train)\n",
    "predictions_cw_dt = model_cw_dt.predict(features_valid)\n",
    "\n",
    "# метрики:\n",
    "cw_dt_recall = recall_score(target_valid, predictions_cw_dt)\n",
    "cw_dt_precision = precision_score(target_valid, predictions_cw_dt)\n",
    "cw_dt_f1 = f1_score(target_valid, predictions_cw_dt)\n",
    "\n",
    "print('Полнота (recall) дерева решений:', cw_dt_recall)\n",
    "print('Точность (precision) дерева решений:', cw_dt_precision)\n",
    "print('F1-мера дерева решений:', cw_dt_f1)\n",
    "\n",
    "# графики:\n",
    "plt.figure(figsize=(6, 4))\n",
    "sns.heatmap(confusion_matrix(target_valid, predictions_cw_dt), annot=True, fmt='g', linewidths=1, linecolor='white', cmap='coolwarm');\n",
    "plt.title(f'Матрица ошибок\\n[TN, FP]\\n[FN, TP]', fontsize=15)\n",
    "plt.xlabel('Предсказанные значения', fontsize=15)\n",
    "plt.ylabel('Истинные значения', fontsize=15)\n",
    "plt.show()\n",
    "\n",
    "probabilities_valid = model_cw_dt.predict_proba(features_valid)\n",
    "probabilities_one_valid = probabilities_valid[:, 1]\n",
    "fpr, tpr, thresholds = roc_curve(target_valid, probabilities_one_valid)\n",
    "auc_roc_cw_dt = roc_auc_score(target_valid, probabilities_one_valid)\n",
    "print('AUC-ROC  DecisionTreeClassifier',auc_roc_cw_dt)\n",
    "plt.plot(fpr, tpr, label='DecisionTreeClassifier');\n",
    "plt.plot([0, 1], [0, 1], linestyle='--');"
   ]
  },
  {
   "cell_type": "markdown",
   "metadata": {},
   "source": [
    "#### RandomForestClassifier (Случайный лес)"
   ]
  },
  {
   "cell_type": "markdown",
   "metadata": {},
   "source": [
    "Подбор гиперпараметров"
   ]
  },
  {
   "cell_type": "code",
   "execution_count": 50,
   "metadata": {},
   "outputs": [
    {
     "name": "stdout",
     "output_type": "stream",
     "text": [
      "n_estimators: 60\n",
      "max_depth: 8\n"
     ]
    }
   ],
   "source": [
    "best_model = None\n",
    "best_est = 0\n",
    "best_depth = 0\n",
    "best_f1 = 0\n",
    "for est in range(10, 101, 10):\n",
    "    for depth in range(1, 10):\n",
    "        model_cw_rf = RandomForestClassifier(random_state=12345,\n",
    "                                              n_estimators=est, \n",
    "                                              max_depth=depth,\n",
    "                                              class_weight='balanced')\n",
    "        model_cw_rf.fit(features_train, target_train)\n",
    "        predictions_cw_rf = model_cw_rf.predict(features_valid)\n",
    "        f1_cw_rf = f1_score(target_valid, predictions_cw_rf)\n",
    "        if f1_cw_rf > best_f1:\n",
    "            best_model = model_cw_rf\n",
    "            best_est = est\n",
    "            best_depth = depth\n",
    "            best_f1 = f1_cw_rf\n",
    "\n",
    "print('n_estimators:', best_est)\n",
    "print('max_depth:', best_depth)"
   ]
  },
  {
   "cell_type": "markdown",
   "metadata": {},
   "source": [
    "Обучение модели с подобранными гиперпараметрами"
   ]
  },
  {
   "cell_type": "code",
   "execution_count": 51,
   "metadata": {},
   "outputs": [
    {
     "name": "stdout",
     "output_type": "stream",
     "text": [
      "Полнота (recall) случайного леса: 0.1956521739130435\n",
      "Точность (precision) случайного леса: 0.6\n",
      "F1-мера случайного леса: 0.29508196721311475\n"
     ]
    },
    {
     "data": {
      "image/png": "[encoded data removed]",
      "text/plain": [
       "<Figure size 432x288 with 2 Axes>"
      ]
     },
     "metadata": {
      "needs_background": "light"
     },
     "output_type": "display_data"
    },
    {
     "name": "stdout",
     "output_type": "stream",
     "text": [
      "AUC-ROC  RandomForestClassifier 0.8673969265367317\n"
     ]
    },
    {
     "data": {
      "image/png": "[encoded data removed]",
      "text/plain": [
       "<Figure size 432x288 with 1 Axes>"
      ]
     },
     "metadata": {
      "needs_background": "light"
     },
     "output_type": "display_data"
    }
   ],
   "source": [
    "# модель\n",
    "model_cw_rf = RandomForestClassifier(random_state=random_state, \n",
    "                                      n_estimators=best_est, \n",
    "                                      max_depth=best_depth,\n",
    "                                      class_weight='balanced')\n",
    "model_cw_rf.fit(features_train, target_train)\n",
    "predictions_cw_rf = model_cw_rf.predict(features_valid)\n",
    "\n",
    "# метрики:\n",
    "cw_rf_recall = recall_score(target_valid, predictions_cw_rf)\n",
    "cw_rf_precision = precision_score(target_valid, predictions_cw_rf)\n",
    "cw_rf_f1 = f1_score(target_valid, predictions_cw_rf)\n",
    "\n",
    "print('Полнота (recall) случайного леса:', lr_recall)\n",
    "print('Точность (precision) случайного леса:', lr_precision)\n",
    "print('F1-мера случайного леса:', lr_f1)\n",
    "\n",
    "# графики:\n",
    "plt.figure(figsize=(6, 4))\n",
    "sns.heatmap(confusion_matrix(target_valid, predictions_cw_rf), annot=True, fmt='g', linewidths=1, linecolor='white', cmap='coolwarm');\n",
    "plt.title(f'Матрица ошибок\\n[TN, FP]\\n[FN, TP]', fontsize=15)\n",
    "plt.xlabel('Предсказанные значения', fontsize=15)\n",
    "plt.ylabel('Истинные значения', fontsize=15)\n",
    "plt.show()\n",
    "\n",
    "probabilities_valid = model_cw_rf.predict_proba(features_valid)\n",
    "probabilities_one_valid = probabilities_valid[:, 1]\n",
    "fpr, tpr, thresholds = roc_curve(target_valid, probabilities_one_valid)\n",
    "auc_roc_cw_rf = roc_auc_score(target_valid, probabilities_one_valid)\n",
    "print('AUC-ROC  RandomForestClassifier',auc_roc_cw_rf)\n",
    "plt.plot(fpr, tpr, label='RandomForestClassifier');\n",
    "plt.plot([0, 1], [0, 1], linestyle='--');"
   ]
  },
  {
   "cell_type": "markdown",
   "metadata": {},
   "source": [
    "#### LogisticRegression (Логистическая регрессия)"
   ]
  },
  {
   "cell_type": "markdown",
   "metadata": {},
   "source": [
    "Обучение модели с подобранными гиперпараметрами"
   ]
  },
  {
   "cell_type": "code",
   "execution_count": 52,
   "metadata": {},
   "outputs": [
    {
     "name": "stdout",
     "output_type": "stream",
     "text": [
      "Полнота (recall) логистической регрессии: 0.6875\n",
      "Точность (precision) логистической регрессии: 0.39346811819595645\n",
      "F1-мера логистической регрессии: 0.5004945598417407\n"
     ]
    },
    {
     "data": {
      "image/png": "[encoded data removed]",
      "text/plain": [
       "<Figure size 432x288 with 2 Axes>"
      ]
     },
     "metadata": {
      "needs_background": "light"
     },
     "output_type": "display_data"
    },
    {
     "name": "stdout",
     "output_type": "stream",
     "text": [
      "AUC-ROC  LogisticRegression 0.7839017991004498\n"
     ]
    },
    {
     "data": {
      "image/png": "[encoded data removed]",
      "text/plain": [
       "<Figure size 432x288 with 1 Axes>"
      ]
     },
     "metadata": {
      "needs_background": "light"
     },
     "output_type": "display_data"
    }
   ],
   "source": [
    "# модель\n",
    "model_cw_lr = LogisticRegression(random_state=random_state,\n",
    "                               solver='liblinear',\n",
    "                               class_weight='balanced')\n",
    "\n",
    "model_cw_lr.fit(features_train, target_train)\n",
    "predictions_cw_lr = model_cw_lr.predict(features_valid)\n",
    "\n",
    "# метрики:\n",
    "cw_lr_recall = recall_score(target_valid, predictions_cw_lr)\n",
    "cw_lr_precision = precision_score(target_valid, predictions_cw_lr)\n",
    "cw_lr_f1 = f1_score(target_valid, predictions_cw_lr)\n",
    "\n",
    "print('Полнота (recall) логистической регрессии:', cw_lr_recall)\n",
    "print('Точность (precision) логистической регрессии:', cw_lr_precision)\n",
    "print('F1-мера логистической регрессии:', cw_lr_f1)\n",
    "\n",
    "# графики:\n",
    "plt.figure(figsize=(6, 4))\n",
    "sns.heatmap(confusion_matrix(target_valid, predictions_cw_lr), annot=True, fmt='g', linewidths=1, linecolor='white', cmap='coolwarm');\n",
    "plt.title(f'Матрица ошибок\\n[TN, FP]\\n[FN, TP]', fontsize=15)\n",
    "plt.xlabel('Предсказанные значения', fontsize=15)\n",
    "plt.ylabel('Истинные значения', fontsize=15)\n",
    "plt.show()\n",
    "\n",
    "probabilities_valid = model_cw_lr.predict_proba(features_valid)\n",
    "probabilities_one_valid = probabilities_valid[:, 1]\n",
    "fpr, tpr, thresholds = roc_curve(target_valid, probabilities_one_valid)\n",
    "auc_roc_cw_lr = roc_auc_score(target_valid, probabilities_one_valid)\n",
    "print('AUC-ROC  LogisticRegression',auc_roc_cw_lr)\n",
    "plt.plot(fpr, tpr, label='LogisticRegression');\n",
    "plt.plot([0, 1], [0, 1], linestyle='--');"
   ]
  },
  {
   "cell_type": "code",
   "execution_count": 53,
   "metadata": {},
   "outputs": [
    {
     "data": {
      "text/html": [
       "<div>\n",
       "<style scoped>\n",
       "    .dataframe tbody tr th:only-of-type {\n",
       "        vertical-align: middle;\n",
       "    }\n",
       "\n",
       "    .dataframe tbody tr th {\n",
       "        vertical-align: top;\n",
       "    }\n",
       "\n",
       "    .dataframe thead th {\n",
       "        text-align: right;\n",
       "    }\n",
       "</style>\n",
       "<table border=\"1\" class=\"dataframe\">\n",
       "  <thead>\n",
       "    <tr style=\"text-align: right;\">\n",
       "      <th></th>\n",
       "      <th>Recall</th>\n",
       "      <th>Precision</th>\n",
       "      <th>F1</th>\n",
       "      <th>AUC-ROC</th>\n",
       "    </tr>\n",
       "  </thead>\n",
       "  <tbody>\n",
       "    <tr>\n",
       "      <th>DecisionTreeClassifier (Дерево решений) weight</th>\n",
       "      <td>0.793478</td>\n",
       "      <td>0.461295</td>\n",
       "      <td>0.583417</td>\n",
       "      <td>0.840358</td>\n",
       "    </tr>\n",
       "    <tr>\n",
       "      <th>RandomForestClassifier (Случайный лес) weight</th>\n",
       "      <td>0.690217</td>\n",
       "      <td>0.590698</td>\n",
       "      <td>0.636591</td>\n",
       "      <td>0.867397</td>\n",
       "    </tr>\n",
       "    <tr>\n",
       "      <th>LogisticRegression (Логистическая регрессия) weight</th>\n",
       "      <td>0.687500</td>\n",
       "      <td>0.393468</td>\n",
       "      <td>0.500495</td>\n",
       "      <td>0.783902</td>\n",
       "    </tr>\n",
       "  </tbody>\n",
       "</table>\n",
       "</div>"
      ],
      "text/plain": [
       "                                                      Recall  Precision  \\\n",
       "DecisionTreeClassifier (Дерево решений) weight      0.793478   0.461295   \n",
       "RandomForestClassifier (Случайный лес) weight       0.690217   0.590698   \n",
       "LogisticRegression (Логистическая регрессия) we...  0.687500   0.393468   \n",
       "\n",
       "                                                          F1   AUC-ROC  \n",
       "DecisionTreeClassifier (Дерево решений) weight      0.583417  0.840358  \n",
       "RandomForestClassifier (Случайный лес) weight       0.636591  0.867397  \n",
       "LogisticRegression (Логистическая регрессия) we...  0.500495  0.783902  "
      ]
     },
     "execution_count": 53,
     "metadata": {},
     "output_type": "execute_result"
    }
   ],
   "source": [
    "cw_balance_data = [{'Recall': cw_dt_recall, 'Precision': cw_dt_precision, 'F1': cw_dt_f1, 'AUC-ROC': auc_roc_cw_dt}, \n",
    "                  {'Recall': cw_rf_recall, 'Precision': cw_rf_precision, 'F1': cw_rf_f1, 'AUC-ROC': auc_roc_cw_rf},\n",
    "                  {'Recall': cw_lr_recall, 'Precision': cw_lr_precision, 'F1': cw_lr_f1, 'AUC-ROC': auc_roc_cw_lr}] \n",
    "cw_balance_data_result = pd.DataFrame(cw_balance_data, index=['DecisionTreeClassifier (Дерево решений) weight', \n",
    "                                             'RandomForestClassifier (Случайный лес) weight', \n",
    "                                             'LogisticRegression (Логистическая регрессия) weight']) \n",
    "cw_balance_data_result"
   ]
  },
  {
   "cell_type": "code",
   "execution_count": 54,
   "metadata": {
    "scrolled": false
   },
   "outputs": [
    {
     "data": {
      "text/html": [
       "<div>\n",
       "<style scoped>\n",
       "    .dataframe tbody tr th:only-of-type {\n",
       "        vertical-align: middle;\n",
       "    }\n",
       "\n",
       "    .dataframe tbody tr th {\n",
       "        vertical-align: top;\n",
       "    }\n",
       "\n",
       "    .dataframe thead th {\n",
       "        text-align: right;\n",
       "    }\n",
       "</style>\n",
       "<table border=\"1\" class=\"dataframe\">\n",
       "  <thead>\n",
       "    <tr style=\"text-align: right;\">\n",
       "      <th></th>\n",
       "      <th>Recall</th>\n",
       "      <th>Precision</th>\n",
       "      <th>F1</th>\n",
       "      <th>AUC-ROC</th>\n",
       "    </tr>\n",
       "  </thead>\n",
       "  <tbody>\n",
       "    <tr>\n",
       "      <th>RandomForestClassifier (Случайный лес) upsampled</th>\n",
       "      <td>0.720109</td>\n",
       "      <td>0.582418</td>\n",
       "      <td>0.643985</td>\n",
       "      <td>0.869389</td>\n",
       "    </tr>\n",
       "    <tr>\n",
       "      <th>RandomForestClassifier (Случайный лес) weight</th>\n",
       "      <td>0.690217</td>\n",
       "      <td>0.590698</td>\n",
       "      <td>0.636591</td>\n",
       "      <td>0.867397</td>\n",
       "    </tr>\n",
       "    <tr>\n",
       "      <th>RandomForestClassifier (Случайный лес) downsampled</th>\n",
       "      <td>0.788043</td>\n",
       "      <td>0.497427</td>\n",
       "      <td>0.609884</td>\n",
       "      <td>0.867864</td>\n",
       "    </tr>\n",
       "    <tr>\n",
       "      <th>RandomForestClassifier (Случайный лес) disbalance</th>\n",
       "      <td>0.497283</td>\n",
       "      <td>0.765690</td>\n",
       "      <td>0.602965</td>\n",
       "      <td>0.851785</td>\n",
       "    </tr>\n",
       "    <tr>\n",
       "      <th>DecisionTreeClassifier (Дерево решений) downsampled</th>\n",
       "      <td>0.722826</td>\n",
       "      <td>0.498127</td>\n",
       "      <td>0.589800</td>\n",
       "      <td>0.844992</td>\n",
       "    </tr>\n",
       "    <tr>\n",
       "      <th>DecisionTreeClassifier (Дерево решений) disbalance</th>\n",
       "      <td>0.497283</td>\n",
       "      <td>0.717647</td>\n",
       "      <td>0.587480</td>\n",
       "      <td>0.836351</td>\n",
       "    </tr>\n",
       "    <tr>\n",
       "      <th>DecisionTreeClassifier (Дерево решений) upsampled</th>\n",
       "      <td>0.793478</td>\n",
       "      <td>0.461295</td>\n",
       "      <td>0.583417</td>\n",
       "      <td>0.840648</td>\n",
       "    </tr>\n",
       "    <tr>\n",
       "      <th>DecisionTreeClassifier (Дерево решений) weight</th>\n",
       "      <td>0.793478</td>\n",
       "      <td>0.461295</td>\n",
       "      <td>0.583417</td>\n",
       "      <td>0.840358</td>\n",
       "    </tr>\n",
       "    <tr>\n",
       "      <th>LogisticRegression (Логистическая регрессия) downsampled</th>\n",
       "      <td>0.709239</td>\n",
       "      <td>0.397260</td>\n",
       "      <td>0.509268</td>\n",
       "      <td>0.783744</td>\n",
       "    </tr>\n",
       "    <tr>\n",
       "      <th>LogisticRegression (Логистическая регрессия) upsampled</th>\n",
       "      <td>0.698370</td>\n",
       "      <td>0.395385</td>\n",
       "      <td>0.504912</td>\n",
       "      <td>0.783919</td>\n",
       "    </tr>\n",
       "    <tr>\n",
       "      <th>LogisticRegression (Логистическая регрессия) weight</th>\n",
       "      <td>0.687500</td>\n",
       "      <td>0.393468</td>\n",
       "      <td>0.500495</td>\n",
       "      <td>0.783902</td>\n",
       "    </tr>\n",
       "    <tr>\n",
       "      <th>LogisticRegression (Логистическая регрессия) disbalance</th>\n",
       "      <td>0.195652</td>\n",
       "      <td>0.600000</td>\n",
       "      <td>0.295082</td>\n",
       "      <td>0.779134</td>\n",
       "    </tr>\n",
       "  </tbody>\n",
       "</table>\n",
       "</div>"
      ],
      "text/plain": [
       "                                                      Recall  Precision  \\\n",
       "RandomForestClassifier (Случайный лес) upsampled    0.720109   0.582418   \n",
       "RandomForestClassifier (Случайный лес) weight       0.690217   0.590698   \n",
       "RandomForestClassifier (Случайный лес) downsampled  0.788043   0.497427   \n",
       "RandomForestClassifier (Случайный лес) disbalance   0.497283   0.765690   \n",
       "DecisionTreeClassifier (Дерево решений) downsam...  0.722826   0.498127   \n",
       "DecisionTreeClassifier (Дерево решений) disbalance  0.497283   0.717647   \n",
       "DecisionTreeClassifier (Дерево решений) upsampled   0.793478   0.461295   \n",
       "DecisionTreeClassifier (Дерево решений) weight      0.793478   0.461295   \n",
       "LogisticRegression (Логистическая регрессия) do...  0.709239   0.397260   \n",
       "LogisticRegression (Логистическая регрессия) up...  0.698370   0.395385   \n",
       "LogisticRegression (Логистическая регрессия) we...  0.687500   0.393468   \n",
       "LogisticRegression (Логистическая регрессия) di...  0.195652   0.600000   \n",
       "\n",
       "                                                          F1   AUC-ROC  \n",
       "RandomForestClassifier (Случайный лес) upsampled    0.643985  0.869389  \n",
       "RandomForestClassifier (Случайный лес) weight       0.636591  0.867397  \n",
       "RandomForestClassifier (Случайный лес) downsampled  0.609884  0.867864  \n",
       "RandomForestClassifier (Случайный лес) disbalance   0.602965  0.851785  \n",
       "DecisionTreeClassifier (Дерево решений) downsam...  0.589800  0.844992  \n",
       "DecisionTreeClassifier (Дерево решений) disbalance  0.587480  0.836351  \n",
       "DecisionTreeClassifier (Дерево решений) upsampled   0.583417  0.840648  \n",
       "DecisionTreeClassifier (Дерево решений) weight      0.583417  0.840358  \n",
       "LogisticRegression (Логистическая регрессия) do...  0.509268  0.783744  \n",
       "LogisticRegression (Логистическая регрессия) up...  0.504912  0.783919  \n",
       "LogisticRegression (Логистическая регрессия) we...  0.500495  0.783902  \n",
       "LogisticRegression (Логистическая регрессия) di...  0.295082  0.779134  "
      ]
     },
     "execution_count": 54,
     "metadata": {},
     "output_type": "execute_result"
    }
   ],
   "source": [
    "total_result = pd.concat([disbalance_result, us_balance_data_result, ds_balance_data_result, cw_balance_data_result], \n",
    "                              axis=0).sort_values('F1', ascending=False)\n",
    "total_result"
   ]
  },
  {
   "cell_type": "markdown",
   "metadata": {},
   "source": [
    "Наибольшее значение F1-меры получено на модели Случайный лес с увеличением выборки. Для тестирования будет использована эта модель."
   ]
  },
  {
   "cell_type": "markdown",
   "metadata": {},
   "source": [
    "## Тестирование модели"
   ]
  },
  {
   "cell_type": "code",
   "execution_count": 55,
   "metadata": {},
   "outputs": [
    {
     "name": "stdout",
     "output_type": "stream",
     "text": [
      "Полнота (recall) случайного леса: 0.6561679790026247\n",
      "Точность (precision) случайного леса: 0.5506607929515418\n",
      "F1-мера случайного леса: 0.5988023952095807\n",
      "AUC-ROC  RandomForestClassifier 0.8435582374178193\n"
     ]
    },
    {
     "data": {
      "image/png": "[encoded data removed]",
      "text/plain": [
       "<Figure size 432x288 with 1 Axes>"
      ]
     },
     "metadata": {
      "needs_background": "light"
     },
     "output_type": "display_data"
    }
   ],
   "source": [
    "model_us_rf = RandomForestClassifier(random_state=random_state, \n",
    "                                      n_estimators=95, \n",
    "                                      max_depth=9)\n",
    "model_us_rf.fit(features_upsampled, target_upsampled)\n",
    "predictions_test_forest = model_us_rf.predict(features_test)\n",
    "\n",
    "forest_recall = recall_score(target_test, predictions_test_forest)\n",
    "forest_precision = precision_score(target_test, predictions_test_forest)\n",
    "forest_f1 = f1_score(target_test, predictions_test_forest)\n",
    "\n",
    "print('Полнота (recall) случайного леса:', forest_recall)\n",
    "print('Точность (precision) случайного леса:', forest_precision)\n",
    "print('F1-мера случайного леса:', forest_f1)\n",
    "\n",
    "probabilities_test = model_us_rf.predict_proba(features_test)\n",
    "probabilities_one_test = probabilities_test[:, 1]\n",
    "fpr, tpr, thresholds = roc_curve(target_test, probabilities_one_test)\n",
    "auc_roc_forest = roc_auc_score(target_test, probabilities_one_test)\n",
    "print('AUC-ROC  RandomForestClassifier',auc_roc_forest)\n",
    "plt.plot(fpr, tpr, label='RandomForestClassifier');\n",
    "plt.plot([0, 1], [0, 1], linestyle='--');"
   ]
  },
  {
   "cell_type": "code",
   "execution_count": 56,
   "metadata": {},
   "outputs": [
    {
     "name": "stdout",
     "output_type": "stream",
     "text": [
      "F1 констанстной модели: 0.35\n",
      "Accurcy констанстной модели: 1.00\n"
     ]
    }
   ],
   "source": [
    "# проверка модели на адекватность\n",
    "from sklearn.dummy import DummyClassifier\n",
    "dummy_clf = DummyClassifier(strategy=\"most_frequent\",random_state=random_state)\n",
    "dummy_clf.fit(features_upsampled,target_upsampled)\n",
    "\n",
    "predict_dummy = dummy_clf.predict(features_test)\n",
    "f1_dummy = f1_score(target_test,predict_dummy)\n",
    "accurcy_dummy = dummy_clf.score(target_test,predict_dummy)\n",
    "print('F1 констанстной модели: {:.2f}'.format(f1_dummy))\n",
    "print('Accurcy констанстной модели: {:.2f}'.format(accurcy_dummy))"
   ]
  },
  {
   "cell_type": "markdown",
   "metadata": {},
   "source": [
    "**Описание проделанной работы**\n",
    "\n",
    "**При подготовке к исследованию:**  \n",
    "загружены необходимые библиотеки;  \n",
    "проведена подготовка данных  \n",
    "- приведение к змеиному стилю имен столбцов\n",
    "- удаление ненужных для обучения признаков row_number, customer_id и surname\n",
    "- удалили 9% строк датафрейма с пропусками в признаке tenure\n",
    "- One-Hot Encoding катагориальных признаков\n",
    "- разделение датафрейма на 3 части в соотношении 3:1:1 (60% обучающая выборка, 20% валидационная и 20% тестовая).\n",
    "- масштабирование количественных признаков\n",
    "\n",
    "**Исследование**  \n",
    "Целевой признак exited имеет сильный дисбаланс классов - 20% отражают факт ухода клиента.\n",
    "Проведены исследование без учёта дисбаланса класов и с учётом дисбаланса на каждой модели (DecisionTreeClassifier, RandomForestClassifier , LogisticRegression).\n",
    "\n",
    "**Результаты без учета дисбаланса**  \n",
    "Случайный лес в F1-мере показывает лучший результат. Матрицы ошибок показывают сильный дисбаланс классов.\n",
    "\n",
    "**Результаты с учетом дисбаланса**  \n",
    "RandomForestClassifier в F1-мере показывает лучший результат как для на всех методах устранение дисбаланса.\n",
    "\n",
    "AUC-ROC колеблется от 78% до 87%\n",
    "\n",
    "Проведено тестирование самой успешной модели.\n",
    "Проведена проверка модели на адекватности.\n",
    "\n",
    "**Выводы**  \n",
    "Метрики самой успешной модели RandomForestClassifier c использованием увеличенной выборки(Upsampling) на тестовой выборке:   \n",
    "Полнота (recall) случайного леса: 0.6561679790026247  \n",
    "Точность (precision) случайного леса: 0.5506607929515418  \n",
    "F1-мера случайного леса: 0.5988023952095807  \n",
    "AUC-ROC  RandomForestClassifier 0.8435582374178193   \n",
    "Цель проекта - достижение F1-меры не менее 0.59 - выполнена.  "
   ]
  }
 ],
 "metadata": {
  "ExecuteTimeLog": [
   {
    "duration": 1426,
    "start_time": "2023-05-01T12:22:21.730Z"
   },
   {
    "duration": 91,
    "start_time": "2023-05-01T12:22:24.489Z"
   },
   {
    "duration": 17,
    "start_time": "2023-05-01T12:22:26.775Z"
   },
   {
    "duration": 15,
    "start_time": "2023-05-01T12:22:29.529Z"
   },
   {
    "duration": 12,
    "start_time": "2023-05-01T12:22:31.988Z"
   },
   {
    "duration": 42,
    "start_time": "2023-05-01T12:22:33.632Z"
   },
   {
    "duration": 1657,
    "start_time": "2023-05-01T12:22:35.695Z"
   },
   {
    "duration": 14,
    "start_time": "2023-05-01T12:24:41.227Z"
   },
   {
    "duration": 1423,
    "start_time": "2023-05-03T19:05:12.111Z"
   },
   {
    "duration": 272,
    "start_time": "2023-05-03T19:05:13.536Z"
   },
   {
    "duration": 74,
    "start_time": "2023-05-03T19:05:13.810Z"
   },
   {
    "duration": 21,
    "start_time": "2023-05-03T19:05:13.886Z"
   },
   {
    "duration": 14,
    "start_time": "2023-05-03T19:05:13.909Z"
   },
   {
    "duration": 12,
    "start_time": "2023-05-03T19:05:13.925Z"
   },
   {
    "duration": 68,
    "start_time": "2023-05-03T19:05:13.938Z"
   },
   {
    "duration": 2132,
    "start_time": "2023-05-03T19:05:14.009Z"
   },
   {
    "duration": 1193,
    "start_time": "2023-05-03T19:05:16.144Z"
   },
   {
    "duration": 120,
    "start_time": "2023-05-03T19:05:17.341Z"
   },
   {
    "duration": 0,
    "start_time": "2023-05-03T19:05:17.464Z"
   },
   {
    "duration": 0,
    "start_time": "2023-05-03T19:05:17.466Z"
   },
   {
    "duration": 0,
    "start_time": "2023-05-03T19:05:17.467Z"
   },
   {
    "duration": 0,
    "start_time": "2023-05-03T19:05:17.468Z"
   },
   {
    "duration": 0,
    "start_time": "2023-05-03T19:05:17.469Z"
   },
   {
    "duration": 0,
    "start_time": "2023-05-03T19:05:17.470Z"
   },
   {
    "duration": 0,
    "start_time": "2023-05-03T19:05:17.471Z"
   },
   {
    "duration": 0,
    "start_time": "2023-05-03T19:05:17.472Z"
   },
   {
    "duration": 0,
    "start_time": "2023-05-03T19:05:17.473Z"
   },
   {
    "duration": 0,
    "start_time": "2023-05-03T19:05:17.475Z"
   },
   {
    "duration": 0,
    "start_time": "2023-05-03T19:05:17.476Z"
   },
   {
    "duration": 0,
    "start_time": "2023-05-03T19:05:17.494Z"
   },
   {
    "duration": 0,
    "start_time": "2023-05-03T19:05:17.495Z"
   },
   {
    "duration": 0,
    "start_time": "2023-05-03T19:05:17.496Z"
   },
   {
    "duration": 0,
    "start_time": "2023-05-03T19:05:17.496Z"
   },
   {
    "duration": 0,
    "start_time": "2023-05-03T19:05:17.497Z"
   },
   {
    "duration": 0,
    "start_time": "2023-05-03T19:05:17.498Z"
   },
   {
    "duration": 0,
    "start_time": "2023-05-03T19:05:17.499Z"
   },
   {
    "duration": 0,
    "start_time": "2023-05-03T19:05:17.500Z"
   },
   {
    "duration": 0,
    "start_time": "2023-05-03T19:05:17.501Z"
   },
   {
    "duration": 0,
    "start_time": "2023-05-03T19:05:17.502Z"
   },
   {
    "duration": 0,
    "start_time": "2023-05-03T19:05:17.503Z"
   },
   {
    "duration": 0,
    "start_time": "2023-05-03T19:05:17.504Z"
   },
   {
    "duration": 0,
    "start_time": "2023-05-03T19:05:17.504Z"
   },
   {
    "duration": 0,
    "start_time": "2023-05-03T19:05:17.505Z"
   },
   {
    "duration": 0,
    "start_time": "2023-05-03T19:05:17.506Z"
   },
   {
    "duration": 0,
    "start_time": "2023-05-03T19:05:17.507Z"
   },
   {
    "duration": 0,
    "start_time": "2023-05-03T19:05:17.508Z"
   },
   {
    "duration": 0,
    "start_time": "2023-05-03T19:05:17.509Z"
   },
   {
    "duration": 0,
    "start_time": "2023-05-03T19:05:17.510Z"
   },
   {
    "duration": 0,
    "start_time": "2023-05-03T19:05:17.511Z"
   },
   {
    "duration": 0,
    "start_time": "2023-05-03T19:05:17.512Z"
   },
   {
    "duration": 0,
    "start_time": "2023-05-03T19:05:17.513Z"
   },
   {
    "duration": 0,
    "start_time": "2023-05-03T19:05:17.514Z"
   },
   {
    "duration": 0,
    "start_time": "2023-05-03T19:05:17.515Z"
   },
   {
    "duration": 0,
    "start_time": "2023-05-03T19:05:17.516Z"
   },
   {
    "duration": 0,
    "start_time": "2023-05-03T19:05:17.518Z"
   },
   {
    "duration": 0,
    "start_time": "2023-05-03T19:05:17.519Z"
   },
   {
    "duration": 0,
    "start_time": "2023-05-03T19:05:17.520Z"
   },
   {
    "duration": 0,
    "start_time": "2023-05-03T19:05:17.521Z"
   },
   {
    "duration": 0,
    "start_time": "2023-05-03T19:05:17.522Z"
   },
   {
    "duration": 0,
    "start_time": "2023-05-03T19:05:17.523Z"
   },
   {
    "duration": 0,
    "start_time": "2023-05-03T19:05:17.524Z"
   },
   {
    "duration": 0,
    "start_time": "2023-05-03T19:05:17.525Z"
   },
   {
    "duration": 0,
    "start_time": "2023-05-03T19:05:17.526Z"
   },
   {
    "duration": 0,
    "start_time": "2023-05-03T19:05:17.527Z"
   },
   {
    "duration": 0,
    "start_time": "2023-05-03T19:05:17.528Z"
   },
   {
    "duration": 0,
    "start_time": "2023-05-03T19:05:17.529Z"
   },
   {
    "duration": 0,
    "start_time": "2023-05-03T19:05:17.530Z"
   },
   {
    "duration": 0,
    "start_time": "2023-05-03T19:05:17.531Z"
   },
   {
    "duration": 0,
    "start_time": "2023-05-03T19:05:17.532Z"
   },
   {
    "duration": 0,
    "start_time": "2023-05-03T19:05:17.533Z"
   },
   {
    "duration": 0,
    "start_time": "2023-05-03T19:05:17.534Z"
   },
   {
    "duration": 8,
    "start_time": "2023-05-03T19:15:41.227Z"
   },
   {
    "duration": 4,
    "start_time": "2023-05-03T19:15:54.062Z"
   },
   {
    "duration": 5,
    "start_time": "2023-05-03T19:16:10.869Z"
   },
   {
    "duration": 5,
    "start_time": "2023-05-03T19:16:12.093Z"
   },
   {
    "duration": 1316,
    "start_time": "2023-05-03T19:16:23.398Z"
   },
   {
    "duration": 405,
    "start_time": "2023-05-03T19:16:24.716Z"
   },
   {
    "duration": 37,
    "start_time": "2023-05-03T19:16:25.123Z"
   },
   {
    "duration": 20,
    "start_time": "2023-05-03T19:16:25.163Z"
   },
   {
    "duration": 29,
    "start_time": "2023-05-03T19:16:25.185Z"
   },
   {
    "duration": 14,
    "start_time": "2023-05-03T19:16:25.216Z"
   },
   {
    "duration": 42,
    "start_time": "2023-05-03T19:16:25.232Z"
   },
   {
    "duration": 2315,
    "start_time": "2023-05-03T19:16:25.276Z"
   },
   {
    "duration": 1147,
    "start_time": "2023-05-03T19:16:27.594Z"
   },
   {
    "duration": 5,
    "start_time": "2023-05-03T19:16:28.744Z"
   },
   {
    "duration": 12,
    "start_time": "2023-05-03T19:16:28.750Z"
   },
   {
    "duration": 19,
    "start_time": "2023-05-03T19:16:28.763Z"
   },
   {
    "duration": 23,
    "start_time": "2023-05-03T19:16:28.785Z"
   },
   {
    "duration": 10,
    "start_time": "2023-05-03T19:16:28.810Z"
   },
   {
    "duration": 124,
    "start_time": "2023-05-03T19:16:28.822Z"
   },
   {
    "duration": 0,
    "start_time": "2023-05-03T19:16:28.949Z"
   },
   {
    "duration": 0,
    "start_time": "2023-05-03T19:16:28.951Z"
   },
   {
    "duration": 0,
    "start_time": "2023-05-03T19:16:28.952Z"
   },
   {
    "duration": 0,
    "start_time": "2023-05-03T19:16:28.955Z"
   },
   {
    "duration": 0,
    "start_time": "2023-05-03T19:16:28.956Z"
   },
   {
    "duration": 0,
    "start_time": "2023-05-03T19:16:28.957Z"
   },
   {
    "duration": 0,
    "start_time": "2023-05-03T19:16:28.959Z"
   },
   {
    "duration": 0,
    "start_time": "2023-05-03T19:16:28.961Z"
   },
   {
    "duration": 0,
    "start_time": "2023-05-03T19:16:28.962Z"
   },
   {
    "duration": 0,
    "start_time": "2023-05-03T19:16:28.963Z"
   },
   {
    "duration": 0,
    "start_time": "2023-05-03T19:16:28.965Z"
   },
   {
    "duration": 0,
    "start_time": "2023-05-03T19:16:28.966Z"
   },
   {
    "duration": 0,
    "start_time": "2023-05-03T19:16:28.967Z"
   },
   {
    "duration": 0,
    "start_time": "2023-05-03T19:16:28.999Z"
   },
   {
    "duration": 0,
    "start_time": "2023-05-03T19:16:29.000Z"
   },
   {
    "duration": 0,
    "start_time": "2023-05-03T19:16:29.001Z"
   },
   {
    "duration": 0,
    "start_time": "2023-05-03T19:16:29.002Z"
   },
   {
    "duration": 0,
    "start_time": "2023-05-03T19:16:29.003Z"
   },
   {
    "duration": 0,
    "start_time": "2023-05-03T19:16:29.004Z"
   },
   {
    "duration": 0,
    "start_time": "2023-05-03T19:16:29.005Z"
   },
   {
    "duration": 0,
    "start_time": "2023-05-03T19:16:29.006Z"
   },
   {
    "duration": 0,
    "start_time": "2023-05-03T19:16:29.007Z"
   },
   {
    "duration": 0,
    "start_time": "2023-05-03T19:16:29.008Z"
   },
   {
    "duration": 0,
    "start_time": "2023-05-03T19:16:29.009Z"
   },
   {
    "duration": 0,
    "start_time": "2023-05-03T19:16:29.010Z"
   },
   {
    "duration": 0,
    "start_time": "2023-05-03T19:16:29.011Z"
   },
   {
    "duration": 0,
    "start_time": "2023-05-03T19:16:29.012Z"
   },
   {
    "duration": 0,
    "start_time": "2023-05-03T19:16:29.013Z"
   },
   {
    "duration": 0,
    "start_time": "2023-05-03T19:16:29.014Z"
   },
   {
    "duration": 0,
    "start_time": "2023-05-03T19:16:29.015Z"
   },
   {
    "duration": 0,
    "start_time": "2023-05-03T19:16:29.016Z"
   },
   {
    "duration": 0,
    "start_time": "2023-05-03T19:16:29.017Z"
   },
   {
    "duration": 0,
    "start_time": "2023-05-03T19:16:29.018Z"
   },
   {
    "duration": 0,
    "start_time": "2023-05-03T19:16:29.019Z"
   },
   {
    "duration": 1,
    "start_time": "2023-05-03T19:16:29.020Z"
   },
   {
    "duration": 0,
    "start_time": "2023-05-03T19:16:29.022Z"
   },
   {
    "duration": 0,
    "start_time": "2023-05-03T19:16:29.023Z"
   },
   {
    "duration": 0,
    "start_time": "2023-05-03T19:16:29.024Z"
   },
   {
    "duration": 0,
    "start_time": "2023-05-03T19:16:29.025Z"
   },
   {
    "duration": 0,
    "start_time": "2023-05-03T19:16:29.026Z"
   },
   {
    "duration": 0,
    "start_time": "2023-05-03T19:16:29.028Z"
   },
   {
    "duration": 0,
    "start_time": "2023-05-03T19:16:29.029Z"
   },
   {
    "duration": 0,
    "start_time": "2023-05-03T19:16:29.030Z"
   },
   {
    "duration": 0,
    "start_time": "2023-05-03T19:16:29.031Z"
   },
   {
    "duration": 0,
    "start_time": "2023-05-03T19:16:29.032Z"
   },
   {
    "duration": 0,
    "start_time": "2023-05-03T19:16:29.033Z"
   },
   {
    "duration": 0,
    "start_time": "2023-05-03T19:16:29.035Z"
   },
   {
    "duration": 15,
    "start_time": "2023-05-03T19:17:20.094Z"
   },
   {
    "duration": 16,
    "start_time": "2023-05-03T19:20:06.189Z"
   },
   {
    "duration": 17,
    "start_time": "2023-05-03T19:20:37.465Z"
   },
   {
    "duration": 14,
    "start_time": "2023-05-03T19:20:46.338Z"
   },
   {
    "duration": 9,
    "start_time": "2023-05-03T19:21:05.786Z"
   },
   {
    "duration": 19,
    "start_time": "2023-05-03T19:21:05.796Z"
   },
   {
    "duration": 0,
    "start_time": "2023-05-03T19:21:05.817Z"
   },
   {
    "duration": 0,
    "start_time": "2023-05-03T19:21:05.818Z"
   },
   {
    "duration": 0,
    "start_time": "2023-05-03T19:21:05.819Z"
   },
   {
    "duration": 16,
    "start_time": "2023-05-03T19:21:05.823Z"
   },
   {
    "duration": 8,
    "start_time": "2023-05-03T19:21:05.841Z"
   },
   {
    "duration": 0,
    "start_time": "2023-05-03T19:21:05.851Z"
   },
   {
    "duration": 0,
    "start_time": "2023-05-03T19:21:05.852Z"
   },
   {
    "duration": 38,
    "start_time": "2023-05-03T19:21:05.858Z"
   },
   {
    "duration": 0,
    "start_time": "2023-05-03T19:21:05.897Z"
   },
   {
    "duration": 0,
    "start_time": "2023-05-03T19:21:05.898Z"
   },
   {
    "duration": 18,
    "start_time": "2023-05-03T19:21:05.906Z"
   },
   {
    "duration": 0,
    "start_time": "2023-05-03T19:21:05.925Z"
   },
   {
    "duration": 13,
    "start_time": "2023-05-03T19:21:05.927Z"
   },
   {
    "duration": 12,
    "start_time": "2023-05-03T19:21:05.945Z"
   },
   {
    "duration": 0,
    "start_time": "2023-05-03T19:21:05.958Z"
   },
   {
    "duration": 60,
    "start_time": "2023-05-03T19:21:05.963Z"
   },
   {
    "duration": 0,
    "start_time": "2023-05-03T19:21:06.024Z"
   },
   {
    "duration": 0,
    "start_time": "2023-05-03T19:21:06.026Z"
   },
   {
    "duration": 0,
    "start_time": "2023-05-03T19:21:06.027Z"
   },
   {
    "duration": 0,
    "start_time": "2023-05-03T19:21:06.028Z"
   },
   {
    "duration": 0,
    "start_time": "2023-05-03T19:21:06.029Z"
   },
   {
    "duration": 11,
    "start_time": "2023-05-03T19:21:06.042Z"
   },
   {
    "duration": 0,
    "start_time": "2023-05-03T19:21:06.055Z"
   },
   {
    "duration": 51,
    "start_time": "2023-05-03T19:21:06.057Z"
   },
   {
    "duration": 0,
    "start_time": "2023-05-03T19:21:06.110Z"
   },
   {
    "duration": 0,
    "start_time": "2023-05-03T19:21:06.112Z"
   },
   {
    "duration": 0,
    "start_time": "2023-05-03T19:21:06.112Z"
   },
   {
    "duration": 0,
    "start_time": "2023-05-03T19:21:06.114Z"
   },
   {
    "duration": 12,
    "start_time": "2023-05-03T19:21:06.121Z"
   },
   {
    "duration": 0,
    "start_time": "2023-05-03T19:21:06.134Z"
   },
   {
    "duration": 10,
    "start_time": "2023-05-03T19:21:06.144Z"
   },
   {
    "duration": 0,
    "start_time": "2023-05-03T19:21:06.155Z"
   },
   {
    "duration": 11,
    "start_time": "2023-05-03T19:21:06.189Z"
   },
   {
    "duration": 0,
    "start_time": "2023-05-03T19:21:06.201Z"
   },
   {
    "duration": 0,
    "start_time": "2023-05-03T19:21:06.202Z"
   },
   {
    "duration": 11,
    "start_time": "2023-05-03T19:21:06.214Z"
   },
   {
    "duration": 0,
    "start_time": "2023-05-03T19:21:06.226Z"
   },
   {
    "duration": 11,
    "start_time": "2023-05-03T19:21:06.244Z"
   },
   {
    "duration": 0,
    "start_time": "2023-05-03T19:21:06.256Z"
   },
   {
    "duration": 11,
    "start_time": "2023-05-03T19:21:06.262Z"
   },
   {
    "duration": 10,
    "start_time": "2023-05-03T19:21:06.289Z"
   },
   {
    "duration": 0,
    "start_time": "2023-05-03T19:21:06.301Z"
   },
   {
    "duration": 11,
    "start_time": "2023-05-03T19:21:06.316Z"
   },
   {
    "duration": 9,
    "start_time": "2023-05-03T19:21:06.330Z"
   },
   {
    "duration": 52,
    "start_time": "2023-05-03T19:21:06.343Z"
   },
   {
    "duration": 1025,
    "start_time": "2023-05-03T19:21:46.852Z"
   },
   {
    "duration": 1212,
    "start_time": "2023-05-03T19:23:06.902Z"
   },
   {
    "duration": 264,
    "start_time": "2023-05-03T19:23:08.116Z"
   },
   {
    "duration": 36,
    "start_time": "2023-05-03T19:23:08.382Z"
   },
   {
    "duration": 20,
    "start_time": "2023-05-03T19:23:08.420Z"
   },
   {
    "duration": 13,
    "start_time": "2023-05-03T19:23:08.441Z"
   },
   {
    "duration": 11,
    "start_time": "2023-05-03T19:23:08.456Z"
   },
   {
    "duration": 62,
    "start_time": "2023-05-03T19:23:08.469Z"
   },
   {
    "duration": 2061,
    "start_time": "2023-05-03T19:23:08.533Z"
   },
   {
    "duration": 1105,
    "start_time": "2023-05-03T19:23:10.596Z"
   },
   {
    "duration": 5,
    "start_time": "2023-05-03T19:23:11.704Z"
   },
   {
    "duration": 17,
    "start_time": "2023-05-03T19:23:11.710Z"
   },
   {
    "duration": 11,
    "start_time": "2023-05-03T19:23:11.729Z"
   },
   {
    "duration": 39,
    "start_time": "2023-05-03T19:23:11.742Z"
   },
   {
    "duration": 30,
    "start_time": "2023-05-03T19:23:11.783Z"
   },
   {
    "duration": 23,
    "start_time": "2023-05-03T19:23:11.815Z"
   },
   {
    "duration": 9,
    "start_time": "2023-05-03T19:23:11.841Z"
   },
   {
    "duration": 961,
    "start_time": "2023-05-03T19:23:11.852Z"
   },
   {
    "duration": 1209,
    "start_time": "2023-05-03T19:24:09.938Z"
   },
   {
    "duration": 325,
    "start_time": "2023-05-03T19:24:11.149Z"
   },
   {
    "duration": 36,
    "start_time": "2023-05-03T19:24:11.476Z"
   },
   {
    "duration": 20,
    "start_time": "2023-05-03T19:24:11.514Z"
   },
   {
    "duration": 22,
    "start_time": "2023-05-03T19:24:11.536Z"
   },
   {
    "duration": 15,
    "start_time": "2023-05-03T19:24:11.559Z"
   },
   {
    "duration": 57,
    "start_time": "2023-05-03T19:24:11.576Z"
   },
   {
    "duration": 2160,
    "start_time": "2023-05-03T19:24:11.635Z"
   },
   {
    "duration": 1080,
    "start_time": "2023-05-03T19:24:13.797Z"
   },
   {
    "duration": 5,
    "start_time": "2023-05-03T19:24:14.880Z"
   },
   {
    "duration": 19,
    "start_time": "2023-05-03T19:24:14.886Z"
   },
   {
    "duration": 13,
    "start_time": "2023-05-03T19:24:14.907Z"
   },
   {
    "duration": 18,
    "start_time": "2023-05-03T19:24:14.921Z"
   },
   {
    "duration": 18,
    "start_time": "2023-05-03T19:24:14.941Z"
   },
   {
    "duration": 19,
    "start_time": "2023-05-03T19:24:14.961Z"
   },
   {
    "duration": 9,
    "start_time": "2023-05-03T19:24:14.982Z"
   },
   {
    "duration": 16,
    "start_time": "2023-05-03T19:24:14.992Z"
   },
   {
    "duration": 33,
    "start_time": "2023-05-03T19:24:15.010Z"
   },
   {
    "duration": 33,
    "start_time": "2023-05-03T19:24:15.044Z"
   },
   {
    "duration": 9,
    "start_time": "2023-05-03T19:24:15.079Z"
   },
   {
    "duration": 26,
    "start_time": "2023-05-03T19:24:15.090Z"
   },
   {
    "duration": 36,
    "start_time": "2023-05-03T19:24:15.118Z"
   },
   {
    "duration": 6,
    "start_time": "2023-05-03T19:24:15.156Z"
   },
   {
    "duration": 129,
    "start_time": "2023-05-03T19:24:15.164Z"
   },
   {
    "duration": 0,
    "start_time": "2023-05-03T19:24:15.296Z"
   },
   {
    "duration": 0,
    "start_time": "2023-05-03T19:24:15.297Z"
   },
   {
    "duration": 0,
    "start_time": "2023-05-03T19:24:15.298Z"
   },
   {
    "duration": 0,
    "start_time": "2023-05-03T19:24:15.299Z"
   },
   {
    "duration": 0,
    "start_time": "2023-05-03T19:24:15.301Z"
   },
   {
    "duration": 0,
    "start_time": "2023-05-03T19:24:15.302Z"
   },
   {
    "duration": 0,
    "start_time": "2023-05-03T19:24:15.303Z"
   },
   {
    "duration": 0,
    "start_time": "2023-05-03T19:24:15.304Z"
   },
   {
    "duration": 0,
    "start_time": "2023-05-03T19:24:15.306Z"
   },
   {
    "duration": 0,
    "start_time": "2023-05-03T19:24:15.306Z"
   },
   {
    "duration": 0,
    "start_time": "2023-05-03T19:24:15.308Z"
   },
   {
    "duration": 0,
    "start_time": "2023-05-03T19:24:15.309Z"
   },
   {
    "duration": 0,
    "start_time": "2023-05-03T19:24:15.310Z"
   },
   {
    "duration": 0,
    "start_time": "2023-05-03T19:24:15.311Z"
   },
   {
    "duration": 0,
    "start_time": "2023-05-03T19:24:15.312Z"
   },
   {
    "duration": 0,
    "start_time": "2023-05-03T19:24:15.313Z"
   },
   {
    "duration": 0,
    "start_time": "2023-05-03T19:24:15.314Z"
   },
   {
    "duration": 0,
    "start_time": "2023-05-03T19:24:15.315Z"
   },
   {
    "duration": 0,
    "start_time": "2023-05-03T19:24:15.317Z"
   },
   {
    "duration": 0,
    "start_time": "2023-05-03T19:24:15.317Z"
   },
   {
    "duration": 0,
    "start_time": "2023-05-03T19:24:15.319Z"
   },
   {
    "duration": 0,
    "start_time": "2023-05-03T19:24:15.320Z"
   },
   {
    "duration": 0,
    "start_time": "2023-05-03T19:24:15.321Z"
   },
   {
    "duration": 0,
    "start_time": "2023-05-03T19:24:15.322Z"
   },
   {
    "duration": 0,
    "start_time": "2023-05-03T19:24:15.323Z"
   },
   {
    "duration": 0,
    "start_time": "2023-05-03T19:24:15.324Z"
   },
   {
    "duration": 0,
    "start_time": "2023-05-03T19:24:15.326Z"
   },
   {
    "duration": 0,
    "start_time": "2023-05-03T19:24:15.326Z"
   },
   {
    "duration": 0,
    "start_time": "2023-05-03T19:24:15.327Z"
   },
   {
    "duration": 0,
    "start_time": "2023-05-03T19:24:15.328Z"
   },
   {
    "duration": 0,
    "start_time": "2023-05-03T19:24:15.329Z"
   },
   {
    "duration": 0,
    "start_time": "2023-05-03T19:24:15.330Z"
   },
   {
    "duration": 0,
    "start_time": "2023-05-03T19:24:15.332Z"
   },
   {
    "duration": 0,
    "start_time": "2023-05-03T19:24:15.332Z"
   },
   {
    "duration": 0,
    "start_time": "2023-05-03T19:24:15.393Z"
   },
   {
    "duration": 0,
    "start_time": "2023-05-03T19:24:15.394Z"
   },
   {
    "duration": 2,
    "start_time": "2023-05-03T19:27:44.566Z"
   },
   {
    "duration": 34,
    "start_time": "2023-05-03T19:27:46.837Z"
   },
   {
    "duration": 1241,
    "start_time": "2023-05-03T19:28:12.772Z"
   },
   {
    "duration": 258,
    "start_time": "2023-05-03T19:28:14.015Z"
   },
   {
    "duration": 36,
    "start_time": "2023-05-03T19:28:14.279Z"
   },
   {
    "duration": 27,
    "start_time": "2023-05-03T19:28:14.317Z"
   },
   {
    "duration": 22,
    "start_time": "2023-05-03T19:28:14.346Z"
   },
   {
    "duration": 34,
    "start_time": "2023-05-03T19:28:14.370Z"
   },
   {
    "duration": 45,
    "start_time": "2023-05-03T19:28:14.406Z"
   },
   {
    "duration": 2118,
    "start_time": "2023-05-03T19:28:14.454Z"
   },
   {
    "duration": 1121,
    "start_time": "2023-05-03T19:28:16.576Z"
   },
   {
    "duration": 4,
    "start_time": "2023-05-03T19:28:17.699Z"
   },
   {
    "duration": 18,
    "start_time": "2023-05-03T19:28:17.705Z"
   },
   {
    "duration": 27,
    "start_time": "2023-05-03T19:28:17.725Z"
   },
   {
    "duration": 6,
    "start_time": "2023-05-03T19:28:17.754Z"
   },
   {
    "duration": 6,
    "start_time": "2023-05-03T19:28:17.762Z"
   },
   {
    "duration": 16,
    "start_time": "2023-05-03T19:28:17.769Z"
   },
   {
    "duration": 8,
    "start_time": "2023-05-03T19:28:17.786Z"
   },
   {
    "duration": 8,
    "start_time": "2023-05-03T19:28:17.796Z"
   },
   {
    "duration": 6,
    "start_time": "2023-05-03T19:28:17.806Z"
   },
   {
    "duration": 16,
    "start_time": "2023-05-03T19:28:17.814Z"
   },
   {
    "duration": 4,
    "start_time": "2023-05-03T19:28:17.832Z"
   },
   {
    "duration": 16,
    "start_time": "2023-05-03T19:28:17.838Z"
   },
   {
    "duration": 5,
    "start_time": "2023-05-03T19:28:17.856Z"
   },
   {
    "duration": 62,
    "start_time": "2023-05-03T19:28:17.863Z"
   },
   {
    "duration": 6,
    "start_time": "2023-05-03T19:28:17.927Z"
   },
   {
    "duration": 123,
    "start_time": "2023-05-03T19:28:17.934Z"
   },
   {
    "duration": 0,
    "start_time": "2023-05-03T19:28:18.060Z"
   },
   {
    "duration": 0,
    "start_time": "2023-05-03T19:28:18.061Z"
   },
   {
    "duration": 0,
    "start_time": "2023-05-03T19:28:18.062Z"
   },
   {
    "duration": 0,
    "start_time": "2023-05-03T19:28:18.063Z"
   },
   {
    "duration": 0,
    "start_time": "2023-05-03T19:28:18.064Z"
   },
   {
    "duration": 0,
    "start_time": "2023-05-03T19:28:18.065Z"
   },
   {
    "duration": 0,
    "start_time": "2023-05-03T19:28:18.066Z"
   },
   {
    "duration": 0,
    "start_time": "2023-05-03T19:28:18.067Z"
   },
   {
    "duration": 0,
    "start_time": "2023-05-03T19:28:18.069Z"
   },
   {
    "duration": 0,
    "start_time": "2023-05-03T19:28:18.070Z"
   },
   {
    "duration": 0,
    "start_time": "2023-05-03T19:28:18.071Z"
   },
   {
    "duration": 0,
    "start_time": "2023-05-03T19:28:18.072Z"
   },
   {
    "duration": 0,
    "start_time": "2023-05-03T19:28:18.093Z"
   },
   {
    "duration": 0,
    "start_time": "2023-05-03T19:28:18.094Z"
   },
   {
    "duration": 0,
    "start_time": "2023-05-03T19:28:18.095Z"
   },
   {
    "duration": 0,
    "start_time": "2023-05-03T19:28:18.096Z"
   },
   {
    "duration": 0,
    "start_time": "2023-05-03T19:28:18.097Z"
   },
   {
    "duration": 0,
    "start_time": "2023-05-03T19:28:18.098Z"
   },
   {
    "duration": 0,
    "start_time": "2023-05-03T19:28:18.099Z"
   },
   {
    "duration": 0,
    "start_time": "2023-05-03T19:28:18.100Z"
   },
   {
    "duration": 0,
    "start_time": "2023-05-03T19:28:18.101Z"
   },
   {
    "duration": 0,
    "start_time": "2023-05-03T19:28:18.102Z"
   },
   {
    "duration": 0,
    "start_time": "2023-05-03T19:28:18.104Z"
   },
   {
    "duration": 0,
    "start_time": "2023-05-03T19:28:18.105Z"
   },
   {
    "duration": 0,
    "start_time": "2023-05-03T19:28:18.106Z"
   },
   {
    "duration": 0,
    "start_time": "2023-05-03T19:28:18.107Z"
   },
   {
    "duration": 0,
    "start_time": "2023-05-03T19:28:18.108Z"
   },
   {
    "duration": 0,
    "start_time": "2023-05-03T19:28:18.109Z"
   },
   {
    "duration": 0,
    "start_time": "2023-05-03T19:28:18.110Z"
   },
   {
    "duration": 0,
    "start_time": "2023-05-03T19:28:18.111Z"
   },
   {
    "duration": 0,
    "start_time": "2023-05-03T19:28:18.112Z"
   },
   {
    "duration": 0,
    "start_time": "2023-05-03T19:28:18.113Z"
   },
   {
    "duration": 0,
    "start_time": "2023-05-03T19:28:18.114Z"
   },
   {
    "duration": 0,
    "start_time": "2023-05-03T19:28:18.115Z"
   },
   {
    "duration": 0,
    "start_time": "2023-05-03T19:28:18.116Z"
   },
   {
    "duration": 0,
    "start_time": "2023-05-03T19:28:18.117Z"
   },
   {
    "duration": 17612,
    "start_time": "2023-05-03T19:31:06.132Z"
   },
   {
    "duration": 311,
    "start_time": "2023-05-03T19:32:42.796Z"
   },
   {
    "duration": 520,
    "start_time": "2023-05-03T19:33:09.085Z"
   },
   {
    "duration": 349,
    "start_time": "2023-05-03T19:34:59.015Z"
   },
   {
    "duration": 453,
    "start_time": "2023-05-03T19:35:13.344Z"
   },
   {
    "duration": 449,
    "start_time": "2023-05-03T19:36:41.158Z"
   },
   {
    "duration": 429,
    "start_time": "2023-05-03T19:36:59.578Z"
   },
   {
    "duration": 439,
    "start_time": "2023-05-03T19:39:59.780Z"
   },
   {
    "duration": 546,
    "start_time": "2023-05-03T19:40:16.215Z"
   },
   {
    "duration": 416,
    "start_time": "2023-05-03T19:40:39.697Z"
   },
   {
    "duration": 432,
    "start_time": "2023-05-03T19:40:47.811Z"
   },
   {
    "duration": 443,
    "start_time": "2023-05-03T19:40:56.650Z"
   },
   {
    "duration": 102936,
    "start_time": "2023-05-03T19:41:32.194Z"
   },
   {
    "duration": 1182,
    "start_time": "2023-05-03T19:44:01.738Z"
   },
   {
    "duration": 307,
    "start_time": "2023-05-03T19:44:02.922Z"
   },
   {
    "duration": 37,
    "start_time": "2023-05-03T19:44:03.231Z"
   },
   {
    "duration": 19,
    "start_time": "2023-05-03T19:44:03.270Z"
   },
   {
    "duration": 14,
    "start_time": "2023-05-03T19:44:03.291Z"
   },
   {
    "duration": 13,
    "start_time": "2023-05-03T19:44:03.306Z"
   },
   {
    "duration": 44,
    "start_time": "2023-05-03T19:44:03.320Z"
   },
   {
    "duration": 2127,
    "start_time": "2023-05-03T19:44:03.366Z"
   },
   {
    "duration": 1138,
    "start_time": "2023-05-03T19:44:05.495Z"
   },
   {
    "duration": 5,
    "start_time": "2023-05-03T19:44:06.636Z"
   },
   {
    "duration": 7,
    "start_time": "2023-05-03T19:44:06.643Z"
   },
   {
    "duration": 3,
    "start_time": "2023-05-03T19:44:06.652Z"
   },
   {
    "duration": 7,
    "start_time": "2023-05-03T19:44:06.656Z"
   },
   {
    "duration": 7,
    "start_time": "2023-05-03T19:44:06.665Z"
   },
   {
    "duration": 18,
    "start_time": "2023-05-03T19:44:06.673Z"
   },
   {
    "duration": 7,
    "start_time": "2023-05-03T19:44:06.693Z"
   },
   {
    "duration": 9,
    "start_time": "2023-05-03T19:44:06.702Z"
   },
   {
    "duration": 6,
    "start_time": "2023-05-03T19:44:06.712Z"
   },
   {
    "duration": 16,
    "start_time": "2023-05-03T19:44:06.720Z"
   },
   {
    "duration": 5,
    "start_time": "2023-05-03T19:44:06.738Z"
   },
   {
    "duration": 9,
    "start_time": "2023-05-03T19:44:06.744Z"
   },
   {
    "duration": 39,
    "start_time": "2023-05-03T19:44:06.754Z"
   },
   {
    "duration": 37,
    "start_time": "2023-05-03T19:44:06.795Z"
   },
   {
    "duration": 6,
    "start_time": "2023-05-03T19:44:06.833Z"
   },
   {
    "duration": 17134,
    "start_time": "2023-05-03T19:44:06.841Z"
   },
   {
    "duration": 565,
    "start_time": "2023-05-03T19:44:23.977Z"
   },
   {
    "duration": 102145,
    "start_time": "2023-05-03T19:44:24.544Z"
   },
   {
    "duration": 121,
    "start_time": "2023-05-03T19:46:06.694Z"
   },
   {
    "duration": 0,
    "start_time": "2023-05-03T19:46:06.817Z"
   },
   {
    "duration": 0,
    "start_time": "2023-05-03T19:46:06.818Z"
   },
   {
    "duration": 0,
    "start_time": "2023-05-03T19:46:06.819Z"
   },
   {
    "duration": 0,
    "start_time": "2023-05-03T19:46:06.821Z"
   },
   {
    "duration": 0,
    "start_time": "2023-05-03T19:46:06.821Z"
   },
   {
    "duration": 0,
    "start_time": "2023-05-03T19:46:06.822Z"
   },
   {
    "duration": 0,
    "start_time": "2023-05-03T19:46:06.824Z"
   },
   {
    "duration": 0,
    "start_time": "2023-05-03T19:46:06.825Z"
   },
   {
    "duration": 0,
    "start_time": "2023-05-03T19:46:06.826Z"
   },
   {
    "duration": 0,
    "start_time": "2023-05-03T19:46:06.827Z"
   },
   {
    "duration": 0,
    "start_time": "2023-05-03T19:46:06.828Z"
   },
   {
    "duration": 0,
    "start_time": "2023-05-03T19:46:06.829Z"
   },
   {
    "duration": 0,
    "start_time": "2023-05-03T19:46:06.830Z"
   },
   {
    "duration": 0,
    "start_time": "2023-05-03T19:46:06.831Z"
   },
   {
    "duration": 0,
    "start_time": "2023-05-03T19:46:06.832Z"
   },
   {
    "duration": 0,
    "start_time": "2023-05-03T19:46:06.833Z"
   },
   {
    "duration": 0,
    "start_time": "2023-05-03T19:46:06.834Z"
   },
   {
    "duration": 0,
    "start_time": "2023-05-03T19:46:06.835Z"
   },
   {
    "duration": 0,
    "start_time": "2023-05-03T19:46:06.836Z"
   },
   {
    "duration": 0,
    "start_time": "2023-05-03T19:46:06.837Z"
   },
   {
    "duration": 0,
    "start_time": "2023-05-03T19:46:06.838Z"
   },
   {
    "duration": 0,
    "start_time": "2023-05-03T19:46:06.839Z"
   },
   {
    "duration": 0,
    "start_time": "2023-05-03T19:46:06.840Z"
   },
   {
    "duration": 0,
    "start_time": "2023-05-03T19:46:06.841Z"
   },
   {
    "duration": 0,
    "start_time": "2023-05-03T19:46:06.842Z"
   },
   {
    "duration": 0,
    "start_time": "2023-05-03T19:46:06.843Z"
   },
   {
    "duration": 0,
    "start_time": "2023-05-03T19:46:06.844Z"
   },
   {
    "duration": 0,
    "start_time": "2023-05-03T19:46:06.893Z"
   },
   {
    "duration": 0,
    "start_time": "2023-05-03T19:46:06.895Z"
   },
   {
    "duration": 0,
    "start_time": "2023-05-03T19:46:06.896Z"
   },
   {
    "duration": 0,
    "start_time": "2023-05-03T19:46:06.896Z"
   },
   {
    "duration": 0,
    "start_time": "2023-05-03T19:46:06.897Z"
   },
   {
    "duration": 0,
    "start_time": "2023-05-03T19:46:06.898Z"
   },
   {
    "duration": 0,
    "start_time": "2023-05-03T19:46:06.899Z"
   },
   {
    "duration": 1160,
    "start_time": "2023-05-03T19:50:09.784Z"
   },
   {
    "duration": 260,
    "start_time": "2023-05-03T19:50:10.946Z"
   },
   {
    "duration": 43,
    "start_time": "2023-05-03T19:50:11.208Z"
   },
   {
    "duration": 18,
    "start_time": "2023-05-03T19:50:11.253Z"
   },
   {
    "duration": 14,
    "start_time": "2023-05-03T19:50:11.273Z"
   },
   {
    "duration": 12,
    "start_time": "2023-05-03T19:50:11.288Z"
   },
   {
    "duration": 41,
    "start_time": "2023-05-03T19:50:11.302Z"
   },
   {
    "duration": 2097,
    "start_time": "2023-05-03T19:50:11.345Z"
   },
   {
    "duration": 1102,
    "start_time": "2023-05-03T19:50:13.443Z"
   },
   {
    "duration": 4,
    "start_time": "2023-05-03T19:50:14.548Z"
   },
   {
    "duration": 13,
    "start_time": "2023-05-03T19:50:14.554Z"
   },
   {
    "duration": 5,
    "start_time": "2023-05-03T19:50:14.569Z"
   },
   {
    "duration": 13,
    "start_time": "2023-05-03T19:50:14.576Z"
   },
   {
    "duration": 17,
    "start_time": "2023-05-03T19:50:14.590Z"
   },
   {
    "duration": 29,
    "start_time": "2023-05-03T19:50:14.609Z"
   },
   {
    "duration": 7,
    "start_time": "2023-05-03T19:50:14.639Z"
   },
   {
    "duration": 11,
    "start_time": "2023-05-03T19:50:14.648Z"
   },
   {
    "duration": 11,
    "start_time": "2023-05-03T19:50:14.660Z"
   },
   {
    "duration": 24,
    "start_time": "2023-05-03T19:50:14.673Z"
   },
   {
    "duration": 6,
    "start_time": "2023-05-03T19:50:14.699Z"
   },
   {
    "duration": 9,
    "start_time": "2023-05-03T19:50:14.707Z"
   },
   {
    "duration": 2,
    "start_time": "2023-05-03T19:50:14.718Z"
   },
   {
    "duration": 35,
    "start_time": "2023-05-03T19:50:14.722Z"
   },
   {
    "duration": 36,
    "start_time": "2023-05-03T19:50:14.758Z"
   },
   {
    "duration": 16698,
    "start_time": "2023-05-03T19:50:14.796Z"
   },
   {
    "duration": 6,
    "start_time": "2023-05-03T19:50:31.496Z"
   },
   {
    "duration": 0,
    "start_time": "2023-05-03T19:50:31.505Z"
   },
   {
    "duration": 0,
    "start_time": "2023-05-03T19:50:31.506Z"
   },
   {
    "duration": 0,
    "start_time": "2023-05-03T19:50:31.507Z"
   },
   {
    "duration": 0,
    "start_time": "2023-05-03T19:50:31.508Z"
   },
   {
    "duration": 0,
    "start_time": "2023-05-03T19:50:31.509Z"
   },
   {
    "duration": 0,
    "start_time": "2023-05-03T19:50:31.510Z"
   },
   {
    "duration": 0,
    "start_time": "2023-05-03T19:50:31.511Z"
   },
   {
    "duration": 0,
    "start_time": "2023-05-03T19:50:31.512Z"
   },
   {
    "duration": 0,
    "start_time": "2023-05-03T19:50:31.513Z"
   },
   {
    "duration": 0,
    "start_time": "2023-05-03T19:50:31.514Z"
   },
   {
    "duration": 0,
    "start_time": "2023-05-03T19:50:31.515Z"
   },
   {
    "duration": 0,
    "start_time": "2023-05-03T19:50:31.516Z"
   },
   {
    "duration": 0,
    "start_time": "2023-05-03T19:50:31.517Z"
   },
   {
    "duration": 0,
    "start_time": "2023-05-03T19:50:31.518Z"
   },
   {
    "duration": 0,
    "start_time": "2023-05-03T19:50:31.519Z"
   },
   {
    "duration": 0,
    "start_time": "2023-05-03T19:50:31.520Z"
   },
   {
    "duration": 0,
    "start_time": "2023-05-03T19:50:31.522Z"
   },
   {
    "duration": 0,
    "start_time": "2023-05-03T19:50:31.522Z"
   },
   {
    "duration": 0,
    "start_time": "2023-05-03T19:50:31.523Z"
   },
   {
    "duration": 0,
    "start_time": "2023-05-03T19:50:31.525Z"
   },
   {
    "duration": 0,
    "start_time": "2023-05-03T19:50:31.526Z"
   },
   {
    "duration": 0,
    "start_time": "2023-05-03T19:50:31.527Z"
   },
   {
    "duration": 0,
    "start_time": "2023-05-03T19:50:31.528Z"
   },
   {
    "duration": 0,
    "start_time": "2023-05-03T19:50:31.529Z"
   },
   {
    "duration": 0,
    "start_time": "2023-05-03T19:50:31.530Z"
   },
   {
    "duration": 0,
    "start_time": "2023-05-03T19:50:31.531Z"
   },
   {
    "duration": 0,
    "start_time": "2023-05-03T19:50:31.532Z"
   },
   {
    "duration": 0,
    "start_time": "2023-05-03T19:50:31.533Z"
   },
   {
    "duration": 0,
    "start_time": "2023-05-03T19:50:31.535Z"
   },
   {
    "duration": 0,
    "start_time": "2023-05-03T19:50:31.536Z"
   },
   {
    "duration": 0,
    "start_time": "2023-05-03T19:50:31.593Z"
   },
   {
    "duration": 0,
    "start_time": "2023-05-03T19:50:31.594Z"
   },
   {
    "duration": 0,
    "start_time": "2023-05-03T19:50:31.596Z"
   },
   {
    "duration": 0,
    "start_time": "2023-05-03T19:50:31.597Z"
   },
   {
    "duration": 0,
    "start_time": "2023-05-03T19:50:31.598Z"
   },
   {
    "duration": 609,
    "start_time": "2023-05-03T19:52:27.530Z"
   },
   {
    "duration": 447,
    "start_time": "2023-05-03T19:52:34.956Z"
   },
   {
    "duration": 103621,
    "start_time": "2023-05-03T19:52:50.874Z"
   },
   {
    "duration": 6,
    "start_time": "2023-05-03T19:54:41.593Z"
   },
   {
    "duration": 118,
    "start_time": "2023-05-03T19:54:54.172Z"
   },
   {
    "duration": 978,
    "start_time": "2023-05-03T19:55:04.681Z"
   },
   {
    "duration": 149,
    "start_time": "2023-05-03T19:55:35.646Z"
   },
   {
    "duration": 22696,
    "start_time": "2023-05-03T19:55:42.705Z"
   },
   {
    "duration": 47,
    "start_time": "2023-05-04T06:00:32.034Z"
   },
   {
    "duration": 1333,
    "start_time": "2023-05-04T06:00:50.949Z"
   },
   {
    "duration": 238,
    "start_time": "2023-05-04T06:00:52.284Z"
   },
   {
    "duration": 73,
    "start_time": "2023-05-04T06:00:52.523Z"
   },
   {
    "duration": 20,
    "start_time": "2023-05-04T06:00:52.599Z"
   },
   {
    "duration": 35,
    "start_time": "2023-05-04T06:00:52.621Z"
   },
   {
    "duration": 12,
    "start_time": "2023-05-04T06:00:52.658Z"
   },
   {
    "duration": 39,
    "start_time": "2023-05-04T06:00:52.671Z"
   },
   {
    "duration": 2001,
    "start_time": "2023-05-04T06:00:52.712Z"
   },
   {
    "duration": 164,
    "start_time": "2023-05-04T06:00:54.716Z"
   },
   {
    "duration": 0,
    "start_time": "2023-05-04T06:00:54.883Z"
   },
   {
    "duration": 0,
    "start_time": "2023-05-04T06:00:54.884Z"
   },
   {
    "duration": 0,
    "start_time": "2023-05-04T06:00:54.885Z"
   },
   {
    "duration": 0,
    "start_time": "2023-05-04T06:00:54.886Z"
   },
   {
    "duration": 0,
    "start_time": "2023-05-04T06:00:54.888Z"
   },
   {
    "duration": 0,
    "start_time": "2023-05-04T06:00:54.889Z"
   },
   {
    "duration": 0,
    "start_time": "2023-05-04T06:00:54.890Z"
   },
   {
    "duration": 0,
    "start_time": "2023-05-04T06:00:54.891Z"
   },
   {
    "duration": 0,
    "start_time": "2023-05-04T06:00:54.892Z"
   },
   {
    "duration": 0,
    "start_time": "2023-05-04T06:00:54.894Z"
   },
   {
    "duration": 0,
    "start_time": "2023-05-04T06:00:54.895Z"
   },
   {
    "duration": 0,
    "start_time": "2023-05-04T06:00:54.896Z"
   },
   {
    "duration": 0,
    "start_time": "2023-05-04T06:00:54.897Z"
   },
   {
    "duration": 0,
    "start_time": "2023-05-04T06:00:54.898Z"
   },
   {
    "duration": 0,
    "start_time": "2023-05-04T06:00:54.899Z"
   },
   {
    "duration": 0,
    "start_time": "2023-05-04T06:00:54.900Z"
   },
   {
    "duration": 0,
    "start_time": "2023-05-04T06:00:54.902Z"
   },
   {
    "duration": 0,
    "start_time": "2023-05-04T06:00:54.903Z"
   },
   {
    "duration": 0,
    "start_time": "2023-05-04T06:00:54.904Z"
   },
   {
    "duration": 0,
    "start_time": "2023-05-04T06:00:54.905Z"
   },
   {
    "duration": 0,
    "start_time": "2023-05-04T06:00:54.906Z"
   },
   {
    "duration": 0,
    "start_time": "2023-05-04T06:00:54.908Z"
   },
   {
    "duration": 0,
    "start_time": "2023-05-04T06:00:54.909Z"
   },
   {
    "duration": 0,
    "start_time": "2023-05-04T06:00:54.910Z"
   },
   {
    "duration": 0,
    "start_time": "2023-05-04T06:00:54.911Z"
   },
   {
    "duration": 0,
    "start_time": "2023-05-04T06:00:54.956Z"
   },
   {
    "duration": 0,
    "start_time": "2023-05-04T06:00:54.957Z"
   },
   {
    "duration": 0,
    "start_time": "2023-05-04T06:00:54.958Z"
   },
   {
    "duration": 0,
    "start_time": "2023-05-04T06:00:54.960Z"
   },
   {
    "duration": 0,
    "start_time": "2023-05-04T06:00:54.961Z"
   },
   {
    "duration": 0,
    "start_time": "2023-05-04T06:00:54.962Z"
   },
   {
    "duration": 0,
    "start_time": "2023-05-04T06:00:54.963Z"
   },
   {
    "duration": 0,
    "start_time": "2023-05-04T06:00:54.964Z"
   },
   {
    "duration": 0,
    "start_time": "2023-05-04T06:00:54.966Z"
   },
   {
    "duration": 0,
    "start_time": "2023-05-04T06:00:54.966Z"
   },
   {
    "duration": 0,
    "start_time": "2023-05-04T06:00:54.967Z"
   },
   {
    "duration": 1,
    "start_time": "2023-05-04T06:00:54.968Z"
   },
   {
    "duration": 0,
    "start_time": "2023-05-04T06:00:54.970Z"
   },
   {
    "duration": 0,
    "start_time": "2023-05-04T06:00:54.971Z"
   },
   {
    "duration": 0,
    "start_time": "2023-05-04T06:00:54.972Z"
   },
   {
    "duration": 0,
    "start_time": "2023-05-04T06:00:54.973Z"
   },
   {
    "duration": 0,
    "start_time": "2023-05-04T06:00:54.974Z"
   },
   {
    "duration": 0,
    "start_time": "2023-05-04T06:00:54.975Z"
   },
   {
    "duration": 0,
    "start_time": "2023-05-04T06:00:54.976Z"
   },
   {
    "duration": 0,
    "start_time": "2023-05-04T06:00:54.978Z"
   },
   {
    "duration": 0,
    "start_time": "2023-05-04T06:00:54.979Z"
   },
   {
    "duration": 0,
    "start_time": "2023-05-04T06:00:54.980Z"
   },
   {
    "duration": 0,
    "start_time": "2023-05-04T06:00:54.982Z"
   },
   {
    "duration": 0,
    "start_time": "2023-05-04T06:00:54.983Z"
   },
   {
    "duration": 1,
    "start_time": "2023-05-04T06:00:54.983Z"
   },
   {
    "duration": 0,
    "start_time": "2023-05-04T06:00:54.985Z"
   },
   {
    "duration": 0,
    "start_time": "2023-05-04T06:00:54.985Z"
   },
   {
    "duration": 0,
    "start_time": "2023-05-04T06:00:54.986Z"
   },
   {
    "duration": 1122,
    "start_time": "2023-05-04T06:02:03.908Z"
   },
   {
    "duration": 1206,
    "start_time": "2023-05-04T06:02:10.812Z"
   },
   {
    "duration": 6,
    "start_time": "2023-05-04T06:02:29.895Z"
   },
   {
    "duration": 6,
    "start_time": "2023-05-04T06:02:30.831Z"
   },
   {
    "duration": 6,
    "start_time": "2023-05-04T06:02:36.699Z"
   },
   {
    "duration": 6,
    "start_time": "2023-05-04T06:02:38.611Z"
   },
   {
    "duration": 26,
    "start_time": "2023-05-04T06:02:40.117Z"
   },
   {
    "duration": 12,
    "start_time": "2023-05-04T06:02:42.895Z"
   },
   {
    "duration": 12,
    "start_time": "2023-05-04T06:02:47.380Z"
   },
   {
    "duration": 11,
    "start_time": "2023-05-04T06:02:50.423Z"
   },
   {
    "duration": 18,
    "start_time": "2023-05-04T06:02:55.227Z"
   },
   {
    "duration": 5,
    "start_time": "2023-05-04T06:02:59.263Z"
   },
   {
    "duration": 13,
    "start_time": "2023-05-04T06:03:02.569Z"
   },
   {
    "duration": 3,
    "start_time": "2023-05-04T06:03:06.299Z"
   },
   {
    "duration": 57,
    "start_time": "2023-05-04T06:03:10.683Z"
   },
   {
    "duration": 8,
    "start_time": "2023-05-04T06:03:14.630Z"
   },
   {
    "duration": 3,
    "start_time": "2023-05-04T06:03:17.596Z"
   },
   {
    "duration": 16979,
    "start_time": "2023-05-04T06:04:32.795Z"
   },
   {
    "duration": 443,
    "start_time": "2023-05-04T06:05:11.045Z"
   },
   {
    "duration": 100881,
    "start_time": "2023-05-04T06:05:15.853Z"
   },
   {
    "duration": 1050,
    "start_time": "2023-05-04T06:08:01.833Z"
   },
   {
    "duration": 1004,
    "start_time": "2023-05-04T06:08:39.774Z"
   },
   {
    "duration": 10960,
    "start_time": "2023-05-04T06:08:49.503Z"
   },
   {
    "duration": 8,
    "start_time": "2023-05-04T06:09:39.177Z"
   },
   {
    "duration": 568,
    "start_time": "2023-05-04T06:09:54.571Z"
   },
   {
    "duration": 11,
    "start_time": "2023-05-04T06:10:38.244Z"
   },
   {
    "duration": 12,
    "start_time": "2023-05-04T06:10:47.262Z"
   },
   {
    "duration": 13,
    "start_time": "2023-05-04T06:11:07.918Z"
   },
   {
    "duration": 143,
    "start_time": "2023-05-04T06:13:29.634Z"
   },
   {
    "duration": 213,
    "start_time": "2023-05-04T06:13:33.912Z"
   },
   {
    "duration": 163,
    "start_time": "2023-05-04T06:13:49.567Z"
   },
   {
    "duration": 511,
    "start_time": "2023-05-04T06:14:39.733Z"
   },
   {
    "duration": 1135,
    "start_time": "2023-05-04T08:04:17.419Z"
   },
   {
    "duration": 265,
    "start_time": "2023-05-04T08:04:18.557Z"
   },
   {
    "duration": 63,
    "start_time": "2023-05-04T08:04:18.824Z"
   },
   {
    "duration": 20,
    "start_time": "2023-05-04T08:04:18.889Z"
   },
   {
    "duration": 26,
    "start_time": "2023-05-04T08:04:18.910Z"
   },
   {
    "duration": 15,
    "start_time": "2023-05-04T08:04:18.938Z"
   },
   {
    "duration": 41,
    "start_time": "2023-05-04T08:04:18.954Z"
   },
   {
    "duration": 1777,
    "start_time": "2023-05-04T08:04:18.997Z"
   },
   {
    "duration": 1037,
    "start_time": "2023-05-04T08:04:20.776Z"
   },
   {
    "duration": 7,
    "start_time": "2023-05-04T08:04:21.816Z"
   },
   {
    "duration": 6,
    "start_time": "2023-05-04T08:04:21.825Z"
   },
   {
    "duration": 3,
    "start_time": "2023-05-04T08:04:21.856Z"
   },
   {
    "duration": 27,
    "start_time": "2023-05-04T08:04:21.862Z"
   },
   {
    "duration": 20,
    "start_time": "2023-05-04T08:04:21.891Z"
   },
   {
    "duration": 66,
    "start_time": "2023-05-04T08:04:21.913Z"
   },
   {
    "duration": 14,
    "start_time": "2023-05-04T08:04:21.981Z"
   },
   {
    "duration": 18,
    "start_time": "2023-05-04T08:04:21.997Z"
   },
   {
    "duration": 19,
    "start_time": "2023-05-04T08:04:22.017Z"
   },
   {
    "duration": 22,
    "start_time": "2023-05-04T08:04:22.038Z"
   },
   {
    "duration": 139,
    "start_time": "2023-05-04T08:04:22.062Z"
   },
   {
    "duration": 0,
    "start_time": "2023-05-04T08:04:22.204Z"
   },
   {
    "duration": 0,
    "start_time": "2023-05-04T08:04:22.205Z"
   },
   {
    "duration": 0,
    "start_time": "2023-05-04T08:04:22.206Z"
   },
   {
    "duration": 0,
    "start_time": "2023-05-04T08:04:22.209Z"
   },
   {
    "duration": 0,
    "start_time": "2023-05-04T08:04:22.211Z"
   },
   {
    "duration": 0,
    "start_time": "2023-05-04T08:04:22.212Z"
   },
   {
    "duration": 0,
    "start_time": "2023-05-04T08:04:22.215Z"
   },
   {
    "duration": 0,
    "start_time": "2023-05-04T08:04:22.217Z"
   },
   {
    "duration": 0,
    "start_time": "2023-05-04T08:04:22.219Z"
   },
   {
    "duration": 1,
    "start_time": "2023-05-04T08:04:22.220Z"
   },
   {
    "duration": 0,
    "start_time": "2023-05-04T08:04:22.222Z"
   },
   {
    "duration": 0,
    "start_time": "2023-05-04T08:04:22.223Z"
   },
   {
    "duration": 0,
    "start_time": "2023-05-04T08:04:22.225Z"
   },
   {
    "duration": 0,
    "start_time": "2023-05-04T08:04:22.227Z"
   },
   {
    "duration": 0,
    "start_time": "2023-05-04T08:04:22.255Z"
   },
   {
    "duration": 0,
    "start_time": "2023-05-04T08:04:22.257Z"
   },
   {
    "duration": 0,
    "start_time": "2023-05-04T08:04:22.258Z"
   },
   {
    "duration": 0,
    "start_time": "2023-05-04T08:04:22.260Z"
   },
   {
    "duration": 0,
    "start_time": "2023-05-04T08:04:22.261Z"
   },
   {
    "duration": 0,
    "start_time": "2023-05-04T08:04:22.263Z"
   },
   {
    "duration": 0,
    "start_time": "2023-05-04T08:04:22.264Z"
   },
   {
    "duration": 0,
    "start_time": "2023-05-04T08:04:22.267Z"
   },
   {
    "duration": 0,
    "start_time": "2023-05-04T08:04:22.269Z"
   },
   {
    "duration": 0,
    "start_time": "2023-05-04T08:04:22.271Z"
   },
   {
    "duration": 0,
    "start_time": "2023-05-04T08:04:22.272Z"
   },
   {
    "duration": 0,
    "start_time": "2023-05-04T08:04:22.274Z"
   },
   {
    "duration": 0,
    "start_time": "2023-05-04T08:04:22.275Z"
   },
   {
    "duration": 0,
    "start_time": "2023-05-04T08:04:22.276Z"
   },
   {
    "duration": 0,
    "start_time": "2023-05-04T08:04:22.278Z"
   },
   {
    "duration": 0,
    "start_time": "2023-05-04T08:04:22.280Z"
   },
   {
    "duration": 0,
    "start_time": "2023-05-04T08:04:22.282Z"
   },
   {
    "duration": 0,
    "start_time": "2023-05-04T08:04:22.285Z"
   },
   {
    "duration": 0,
    "start_time": "2023-05-04T08:04:22.286Z"
   },
   {
    "duration": 0,
    "start_time": "2023-05-04T08:04:22.288Z"
   },
   {
    "duration": 0,
    "start_time": "2023-05-04T08:04:22.289Z"
   },
   {
    "duration": 0,
    "start_time": "2023-05-04T08:04:22.291Z"
   },
   {
    "duration": 0,
    "start_time": "2023-05-04T08:04:22.292Z"
   },
   {
    "duration": 0,
    "start_time": "2023-05-04T08:04:22.295Z"
   },
   {
    "duration": 0,
    "start_time": "2023-05-04T08:04:22.296Z"
   },
   {
    "duration": 0,
    "start_time": "2023-05-04T08:04:22.356Z"
   },
   {
    "duration": 9,
    "start_time": "2023-05-04T08:11:49.338Z"
   },
   {
    "duration": 1169,
    "start_time": "2023-05-04T08:12:10.008Z"
   },
   {
    "duration": 278,
    "start_time": "2023-05-04T08:12:11.180Z"
   },
   {
    "duration": 34,
    "start_time": "2023-05-04T08:12:11.460Z"
   },
   {
    "duration": 21,
    "start_time": "2023-05-04T08:12:11.497Z"
   },
   {
    "duration": 16,
    "start_time": "2023-05-04T08:12:11.520Z"
   },
   {
    "duration": 23,
    "start_time": "2023-05-04T08:12:11.538Z"
   },
   {
    "duration": 51,
    "start_time": "2023-05-04T08:12:11.563Z"
   },
   {
    "duration": 2198,
    "start_time": "2023-05-04T08:12:11.616Z"
   },
   {
    "duration": 1344,
    "start_time": "2023-05-04T08:12:13.816Z"
   },
   {
    "duration": 7,
    "start_time": "2023-05-04T08:12:15.164Z"
   },
   {
    "duration": 41,
    "start_time": "2023-05-04T08:12:15.174Z"
   },
   {
    "duration": 24,
    "start_time": "2023-05-04T08:12:15.217Z"
   },
   {
    "duration": 37,
    "start_time": "2023-05-04T08:12:15.243Z"
   },
   {
    "duration": 29,
    "start_time": "2023-05-04T08:12:15.283Z"
   },
   {
    "duration": 29,
    "start_time": "2023-05-04T08:12:15.315Z"
   },
   {
    "duration": 10,
    "start_time": "2023-05-04T08:12:15.346Z"
   },
   {
    "duration": 27,
    "start_time": "2023-05-04T08:12:15.359Z"
   },
   {
    "duration": 27,
    "start_time": "2023-05-04T08:12:15.388Z"
   },
   {
    "duration": 21,
    "start_time": "2023-05-04T08:12:15.419Z"
   },
   {
    "duration": 142,
    "start_time": "2023-05-04T08:12:15.442Z"
   },
   {
    "duration": 0,
    "start_time": "2023-05-04T08:12:15.587Z"
   },
   {
    "duration": 0,
    "start_time": "2023-05-04T08:12:15.589Z"
   },
   {
    "duration": 0,
    "start_time": "2023-05-04T08:12:15.590Z"
   },
   {
    "duration": 0,
    "start_time": "2023-05-04T08:12:15.591Z"
   },
   {
    "duration": 0,
    "start_time": "2023-05-04T08:12:15.593Z"
   },
   {
    "duration": 0,
    "start_time": "2023-05-04T08:12:15.594Z"
   },
   {
    "duration": 0,
    "start_time": "2023-05-04T08:12:15.595Z"
   },
   {
    "duration": 0,
    "start_time": "2023-05-04T08:12:15.597Z"
   },
   {
    "duration": 0,
    "start_time": "2023-05-04T08:12:15.598Z"
   },
   {
    "duration": 0,
    "start_time": "2023-05-04T08:12:15.600Z"
   },
   {
    "duration": 0,
    "start_time": "2023-05-04T08:12:15.601Z"
   },
   {
    "duration": 0,
    "start_time": "2023-05-04T08:12:15.602Z"
   },
   {
    "duration": 0,
    "start_time": "2023-05-04T08:12:15.604Z"
   },
   {
    "duration": 0,
    "start_time": "2023-05-04T08:12:15.605Z"
   },
   {
    "duration": 0,
    "start_time": "2023-05-04T08:12:15.606Z"
   },
   {
    "duration": 0,
    "start_time": "2023-05-04T08:12:15.608Z"
   },
   {
    "duration": 0,
    "start_time": "2023-05-04T08:12:15.609Z"
   },
   {
    "duration": 0,
    "start_time": "2023-05-04T08:12:15.610Z"
   },
   {
    "duration": 0,
    "start_time": "2023-05-04T08:12:15.611Z"
   },
   {
    "duration": 0,
    "start_time": "2023-05-04T08:12:15.613Z"
   },
   {
    "duration": 0,
    "start_time": "2023-05-04T08:12:15.614Z"
   },
   {
    "duration": 0,
    "start_time": "2023-05-04T08:12:15.615Z"
   },
   {
    "duration": 1,
    "start_time": "2023-05-04T08:12:15.616Z"
   },
   {
    "duration": 0,
    "start_time": "2023-05-04T08:12:15.656Z"
   },
   {
    "duration": 0,
    "start_time": "2023-05-04T08:12:15.657Z"
   },
   {
    "duration": 0,
    "start_time": "2023-05-04T08:12:15.658Z"
   },
   {
    "duration": 0,
    "start_time": "2023-05-04T08:12:15.659Z"
   },
   {
    "duration": 0,
    "start_time": "2023-05-04T08:12:15.661Z"
   },
   {
    "duration": 0,
    "start_time": "2023-05-04T08:12:15.662Z"
   },
   {
    "duration": 0,
    "start_time": "2023-05-04T08:12:15.663Z"
   },
   {
    "duration": 0,
    "start_time": "2023-05-04T08:12:15.664Z"
   },
   {
    "duration": 0,
    "start_time": "2023-05-04T08:12:15.666Z"
   },
   {
    "duration": 0,
    "start_time": "2023-05-04T08:12:15.667Z"
   },
   {
    "duration": 0,
    "start_time": "2023-05-04T08:12:15.668Z"
   },
   {
    "duration": 0,
    "start_time": "2023-05-04T08:12:15.670Z"
   },
   {
    "duration": 0,
    "start_time": "2023-05-04T08:12:15.671Z"
   },
   {
    "duration": 0,
    "start_time": "2023-05-04T08:12:15.672Z"
   },
   {
    "duration": 0,
    "start_time": "2023-05-04T08:12:15.674Z"
   },
   {
    "duration": 0,
    "start_time": "2023-05-04T08:12:15.675Z"
   },
   {
    "duration": 0,
    "start_time": "2023-05-04T08:12:15.676Z"
   },
   {
    "duration": 0,
    "start_time": "2023-05-04T08:12:15.677Z"
   },
   {
    "duration": 13,
    "start_time": "2023-05-04T08:13:22.628Z"
   },
   {
    "duration": 6,
    "start_time": "2023-05-04T08:13:25.564Z"
   },
   {
    "duration": 11,
    "start_time": "2023-05-04T08:13:26.853Z"
   },
   {
    "duration": 3,
    "start_time": "2023-05-04T08:13:29.444Z"
   },
   {
    "duration": 38,
    "start_time": "2023-05-04T08:13:29.989Z"
   },
   {
    "duration": 8,
    "start_time": "2023-05-04T08:13:33.155Z"
   },
   {
    "duration": 4,
    "start_time": "2023-05-04T08:13:35.372Z"
   },
   {
    "duration": 15916,
    "start_time": "2023-05-04T08:13:37.859Z"
   },
   {
    "duration": 468,
    "start_time": "2023-05-04T08:15:51.680Z"
   },
   {
    "duration": 103420,
    "start_time": "2023-05-04T08:15:52.155Z"
   },
   {
    "duration": 598,
    "start_time": "2023-05-04T08:17:35.577Z"
   },
   {
    "duration": 19086,
    "start_time": "2023-05-04T08:17:36.176Z"
   },
   {
    "duration": 897,
    "start_time": "2023-05-04T08:17:55.268Z"
   },
   {
    "duration": 13,
    "start_time": "2023-05-04T08:17:56.170Z"
   },
   {
    "duration": 43,
    "start_time": "2023-05-04T08:17:56.184Z"
   },
   {
    "duration": 0,
    "start_time": "2023-05-04T08:17:56.231Z"
   },
   {
    "duration": 0,
    "start_time": "2023-05-04T08:17:56.233Z"
   },
   {
    "duration": 0,
    "start_time": "2023-05-04T08:17:56.235Z"
   },
   {
    "duration": 0,
    "start_time": "2023-05-04T08:17:56.236Z"
   },
   {
    "duration": 0,
    "start_time": "2023-05-04T08:17:56.237Z"
   },
   {
    "duration": 0,
    "start_time": "2023-05-04T08:17:56.239Z"
   },
   {
    "duration": 0,
    "start_time": "2023-05-04T08:17:56.240Z"
   },
   {
    "duration": 0,
    "start_time": "2023-05-04T08:17:56.241Z"
   },
   {
    "duration": 0,
    "start_time": "2023-05-04T08:17:56.242Z"
   },
   {
    "duration": 0,
    "start_time": "2023-05-04T08:17:56.244Z"
   },
   {
    "duration": 0,
    "start_time": "2023-05-04T08:17:56.245Z"
   },
   {
    "duration": 0,
    "start_time": "2023-05-04T08:17:56.247Z"
   },
   {
    "duration": 0,
    "start_time": "2023-05-04T08:17:56.248Z"
   },
   {
    "duration": 0,
    "start_time": "2023-05-04T08:17:56.250Z"
   },
   {
    "duration": 0,
    "start_time": "2023-05-04T08:17:56.251Z"
   },
   {
    "duration": 0,
    "start_time": "2023-05-04T08:17:56.253Z"
   },
   {
    "duration": 0,
    "start_time": "2023-05-04T08:17:56.255Z"
   },
   {
    "duration": 0,
    "start_time": "2023-05-04T08:17:56.256Z"
   },
   {
    "duration": 0,
    "start_time": "2023-05-04T08:17:56.258Z"
   },
   {
    "duration": 0,
    "start_time": "2023-05-04T08:17:56.260Z"
   },
   {
    "duration": 0,
    "start_time": "2023-05-04T08:17:56.261Z"
   },
   {
    "duration": 0,
    "start_time": "2023-05-04T08:17:56.263Z"
   },
   {
    "duration": 0,
    "start_time": "2023-05-04T08:17:56.264Z"
   },
   {
    "duration": 0,
    "start_time": "2023-05-04T08:17:56.265Z"
   },
   {
    "duration": 0,
    "start_time": "2023-05-04T08:17:56.266Z"
   },
   {
    "duration": 0,
    "start_time": "2023-05-04T08:17:56.267Z"
   },
   {
    "duration": 0,
    "start_time": "2023-05-04T08:17:56.268Z"
   },
   {
    "duration": 22,
    "start_time": "2023-05-04T08:18:20.755Z"
   },
   {
    "duration": 240,
    "start_time": "2023-05-04T08:18:23.894Z"
   },
   {
    "duration": 364,
    "start_time": "2023-05-04T08:18:27.118Z"
   },
   {
    "duration": 452,
    "start_time": "2023-05-04T08:18:40.875Z"
   },
   {
    "duration": 24271,
    "start_time": "2023-05-04T08:18:45.093Z"
   },
   {
    "duration": 1176,
    "start_time": "2023-05-04T08:19:39.610Z"
   },
   {
    "duration": 955,
    "start_time": "2023-05-04T08:19:50.109Z"
   },
   {
    "duration": 11,
    "start_time": "2023-05-04T08:20:07.116Z"
   },
   {
    "duration": 14,
    "start_time": "2023-05-04T08:20:12.078Z"
   },
   {
    "duration": 19,
    "start_time": "2023-05-04T08:20:16.679Z"
   },
   {
    "duration": 87,
    "start_time": "2023-05-04T08:20:26.450Z"
   },
   {
    "duration": 16,
    "start_time": "2023-05-04T08:20:29.541Z"
   },
   {
    "duration": 499,
    "start_time": "2023-05-04T08:20:39.700Z"
   },
   {
    "duration": 12444,
    "start_time": "2023-05-04T08:20:49.033Z"
   },
   {
    "duration": 819,
    "start_time": "2023-05-04T08:21:01.479Z"
   },
   {
    "duration": 744,
    "start_time": "2023-05-04T08:21:32.885Z"
   },
   {
    "duration": 11,
    "start_time": "2023-05-04T08:21:38.706Z"
   },
   {
    "duration": 768,
    "start_time": "2023-05-04T08:22:10.584Z"
   },
   {
    "duration": 770,
    "start_time": "2023-05-04T08:22:14.606Z"
   },
   {
    "duration": 16,
    "start_time": "2023-05-04T08:22:24.222Z"
   },
   {
    "duration": 11,
    "start_time": "2023-05-04T08:22:40.016Z"
   },
   {
    "duration": 22,
    "start_time": "2023-05-04T08:22:47.154Z"
   },
   {
    "duration": 147,
    "start_time": "2023-05-04T08:23:02.782Z"
   },
   {
    "duration": 553,
    "start_time": "2023-05-04T08:23:06.429Z"
   },
   {
    "duration": 45,
    "start_time": "2023-05-04T08:23:11.329Z"
   },
   {
    "duration": 19300,
    "start_time": "2023-05-04T08:23:20.950Z"
   },
   {
    "duration": 967,
    "start_time": "2023-05-04T08:23:52.652Z"
   },
   {
    "duration": 769,
    "start_time": "2023-05-04T08:24:04.374Z"
   },
   {
    "duration": 13,
    "start_time": "2023-05-04T08:24:09.380Z"
   },
   {
    "duration": 11,
    "start_time": "2023-05-04T08:24:21.443Z"
   },
   {
    "duration": 11,
    "start_time": "2023-05-04T08:24:36.268Z"
   },
   {
    "duration": 10,
    "start_time": "2023-05-04T08:26:36.550Z"
   },
   {
    "duration": 10,
    "start_time": "2023-05-04T08:27:09.121Z"
   },
   {
    "duration": 11,
    "start_time": "2023-05-04T08:28:58.180Z"
   },
   {
    "duration": 13,
    "start_time": "2023-05-04T08:35:55.973Z"
   },
   {
    "duration": 24208,
    "start_time": "2023-05-04T08:36:03.535Z"
   },
   {
    "duration": 807,
    "start_time": "2023-05-04T08:36:40.927Z"
   },
   {
    "duration": 14,
    "start_time": "2023-05-04T08:36:55.394Z"
   },
   {
    "duration": 8,
    "start_time": "2023-05-04T08:37:25.976Z"
   },
   {
    "duration": 1186,
    "start_time": "2023-05-04T08:38:10.258Z"
   },
   {
    "duration": 249,
    "start_time": "2023-05-04T08:38:11.447Z"
   },
   {
    "duration": 35,
    "start_time": "2023-05-04T08:38:11.698Z"
   },
   {
    "duration": 20,
    "start_time": "2023-05-04T08:38:11.734Z"
   },
   {
    "duration": 15,
    "start_time": "2023-05-04T08:38:11.756Z"
   },
   {
    "duration": 26,
    "start_time": "2023-05-04T08:38:11.772Z"
   },
   {
    "duration": 43,
    "start_time": "2023-05-04T08:38:11.799Z"
   },
   {
    "duration": 2331,
    "start_time": "2023-05-04T08:38:11.844Z"
   },
   {
    "duration": 1137,
    "start_time": "2023-05-04T08:38:14.177Z"
   },
   {
    "duration": 5,
    "start_time": "2023-05-04T08:38:15.316Z"
   },
   {
    "duration": 18,
    "start_time": "2023-05-04T08:38:15.323Z"
   },
   {
    "duration": 24,
    "start_time": "2023-05-04T08:38:15.343Z"
   },
   {
    "duration": 44,
    "start_time": "2023-05-04T08:38:15.368Z"
   },
   {
    "duration": 23,
    "start_time": "2023-05-04T08:38:15.417Z"
   },
   {
    "duration": 29,
    "start_time": "2023-05-04T08:38:15.442Z"
   },
   {
    "duration": 35,
    "start_time": "2023-05-04T08:38:15.473Z"
   },
   {
    "duration": 22,
    "start_time": "2023-05-04T08:38:15.509Z"
   },
   {
    "duration": 18,
    "start_time": "2023-05-04T08:38:15.532Z"
   },
   {
    "duration": 12,
    "start_time": "2023-05-04T08:38:15.551Z"
   },
   {
    "duration": 41,
    "start_time": "2023-05-04T08:38:15.565Z"
   },
   {
    "duration": 11,
    "start_time": "2023-05-04T08:38:15.608Z"
   },
   {
    "duration": 22,
    "start_time": "2023-05-04T08:38:15.621Z"
   },
   {
    "duration": 4,
    "start_time": "2023-05-04T08:38:15.645Z"
   },
   {
    "duration": 54,
    "start_time": "2023-05-04T08:38:15.650Z"
   },
   {
    "duration": 6,
    "start_time": "2023-05-04T08:38:15.705Z"
   },
   {
    "duration": 18,
    "start_time": "2023-05-04T08:38:15.713Z"
   },
   {
    "duration": 16039,
    "start_time": "2023-05-04T08:38:15.733Z"
   },
   {
    "duration": 545,
    "start_time": "2023-05-04T08:38:31.774Z"
   },
   {
    "duration": 97082,
    "start_time": "2023-05-04T08:38:32.321Z"
   },
   {
    "duration": 539,
    "start_time": "2023-05-04T08:40:09.404Z"
   },
   {
    "duration": 22116,
    "start_time": "2023-05-04T08:40:09.944Z"
   },
   {
    "duration": 872,
    "start_time": "2023-05-04T08:40:32.062Z"
   },
   {
    "duration": 22,
    "start_time": "2023-05-04T08:40:32.935Z"
   },
   {
    "duration": 13,
    "start_time": "2023-05-04T08:40:32.958Z"
   },
   {
    "duration": 172,
    "start_time": "2023-05-04T08:40:32.973Z"
   },
   {
    "duration": 403,
    "start_time": "2023-05-04T08:40:33.147Z"
   },
   {
    "duration": 22802,
    "start_time": "2023-05-04T08:40:33.555Z"
   },
   {
    "duration": 1108,
    "start_time": "2023-05-04T08:40:56.359Z"
   },
   {
    "duration": 825,
    "start_time": "2023-05-04T08:40:57.469Z"
   },
   {
    "duration": 10,
    "start_time": "2023-05-04T08:40:58.296Z"
   },
   {
    "duration": 31,
    "start_time": "2023-05-04T08:40:58.310Z"
   },
   {
    "duration": 92,
    "start_time": "2023-05-04T08:40:58.343Z"
   },
   {
    "duration": 408,
    "start_time": "2023-05-04T08:40:58.436Z"
   },
   {
    "duration": 11648,
    "start_time": "2023-05-04T08:40:58.846Z"
   },
   {
    "duration": 687,
    "start_time": "2023-05-04T08:41:10.496Z"
   },
   {
    "duration": 742,
    "start_time": "2023-05-04T08:41:11.184Z"
   },
   {
    "duration": 12,
    "start_time": "2023-05-04T08:41:11.928Z"
   },
   {
    "duration": 170,
    "start_time": "2023-05-04T08:41:11.956Z"
   },
   {
    "duration": 497,
    "start_time": "2023-05-04T08:41:12.128Z"
   },
   {
    "duration": 19282,
    "start_time": "2023-05-04T08:41:12.627Z"
   },
   {
    "duration": 1079,
    "start_time": "2023-05-04T08:41:31.912Z"
   },
   {
    "duration": 698,
    "start_time": "2023-05-04T08:41:32.993Z"
   },
   {
    "duration": 13,
    "start_time": "2023-05-04T08:41:33.693Z"
   },
   {
    "duration": 45,
    "start_time": "2023-05-04T08:41:33.708Z"
   },
   {
    "duration": 0,
    "start_time": "2023-05-04T08:41:33.755Z"
   },
   {
    "duration": 0,
    "start_time": "2023-05-04T08:41:33.757Z"
   },
   {
    "duration": 0,
    "start_time": "2023-05-04T08:41:33.758Z"
   },
   {
    "duration": 0,
    "start_time": "2023-05-04T08:41:33.759Z"
   },
   {
    "duration": 0,
    "start_time": "2023-05-04T08:41:33.761Z"
   },
   {
    "duration": 13,
    "start_time": "2023-05-04T08:42:22.264Z"
   },
   {
    "duration": 24360,
    "start_time": "2023-05-04T08:42:28.110Z"
   },
   {
    "duration": 815,
    "start_time": "2023-05-04T08:42:52.472Z"
   },
   {
    "duration": 9,
    "start_time": "2023-05-04T08:42:53.289Z"
   },
   {
    "duration": 52,
    "start_time": "2023-05-04T08:53:48.687Z"
   },
   {
    "duration": 1177,
    "start_time": "2023-05-04T09:01:02.089Z"
   },
   {
    "duration": 246,
    "start_time": "2023-05-04T09:01:03.268Z"
   },
   {
    "duration": 35,
    "start_time": "2023-05-04T09:01:03.515Z"
   },
   {
    "duration": 18,
    "start_time": "2023-05-04T09:01:03.552Z"
   },
   {
    "duration": 15,
    "start_time": "2023-05-04T09:01:03.572Z"
   },
   {
    "duration": 31,
    "start_time": "2023-05-04T09:01:03.588Z"
   },
   {
    "duration": 51,
    "start_time": "2023-05-04T09:01:03.620Z"
   },
   {
    "duration": 2034,
    "start_time": "2023-05-04T09:01:03.673Z"
   },
   {
    "duration": 1073,
    "start_time": "2023-05-04T09:01:05.709Z"
   },
   {
    "duration": 4,
    "start_time": "2023-05-04T09:01:06.785Z"
   },
   {
    "duration": 20,
    "start_time": "2023-05-04T09:01:06.790Z"
   },
   {
    "duration": 26,
    "start_time": "2023-05-04T09:01:06.811Z"
   },
   {
    "duration": 18,
    "start_time": "2023-05-04T09:01:06.838Z"
   },
   {
    "duration": 9,
    "start_time": "2023-05-04T09:01:06.858Z"
   },
   {
    "duration": 18,
    "start_time": "2023-05-04T09:01:06.868Z"
   },
   {
    "duration": 7,
    "start_time": "2023-05-04T09:01:06.887Z"
   },
   {
    "duration": 18,
    "start_time": "2023-05-04T09:01:06.895Z"
   },
   {
    "duration": 13,
    "start_time": "2023-05-04T09:01:06.915Z"
   },
   {
    "duration": 10,
    "start_time": "2023-05-04T09:01:06.930Z"
   },
   {
    "duration": 18,
    "start_time": "2023-05-04T09:01:06.942Z"
   },
   {
    "duration": 12,
    "start_time": "2023-05-04T09:01:06.962Z"
   },
   {
    "duration": 9,
    "start_time": "2023-05-04T09:01:06.976Z"
   },
   {
    "duration": 3,
    "start_time": "2023-05-04T09:01:06.987Z"
   },
   {
    "duration": 64,
    "start_time": "2023-05-04T09:01:06.991Z"
   },
   {
    "duration": 7,
    "start_time": "2023-05-04T09:01:07.056Z"
   },
   {
    "duration": 12,
    "start_time": "2023-05-04T09:01:07.064Z"
   },
   {
    "duration": 15950,
    "start_time": "2023-05-04T09:01:07.078Z"
   },
   {
    "duration": 559,
    "start_time": "2023-05-04T09:01:23.032Z"
   },
   {
    "duration": 96368,
    "start_time": "2023-05-04T09:01:23.593Z"
   },
   {
    "duration": 597,
    "start_time": "2023-05-04T09:02:59.963Z"
   },
   {
    "duration": 21098,
    "start_time": "2023-05-04T09:03:00.562Z"
   },
   {
    "duration": 961,
    "start_time": "2023-05-04T09:03:21.661Z"
   },
   {
    "duration": 11,
    "start_time": "2023-05-04T09:03:22.623Z"
   },
   {
    "duration": 32,
    "start_time": "2023-05-04T09:03:22.636Z"
   },
   {
    "duration": 169,
    "start_time": "2023-05-04T09:03:22.669Z"
   },
   {
    "duration": 411,
    "start_time": "2023-05-04T09:03:22.840Z"
   },
   {
    "duration": 23698,
    "start_time": "2023-05-04T09:03:23.256Z"
   },
   {
    "duration": 1075,
    "start_time": "2023-05-04T09:03:46.956Z"
   },
   {
    "duration": 886,
    "start_time": "2023-05-04T09:03:48.033Z"
   },
   {
    "duration": 11,
    "start_time": "2023-05-04T09:03:48.921Z"
   },
   {
    "duration": 26,
    "start_time": "2023-05-04T09:03:48.934Z"
   },
   {
    "duration": 80,
    "start_time": "2023-05-04T09:03:48.962Z"
   },
   {
    "duration": 396,
    "start_time": "2023-05-04T09:03:49.055Z"
   },
   {
    "duration": 11834,
    "start_time": "2023-05-04T09:03:49.456Z"
   },
   {
    "duration": 728,
    "start_time": "2023-05-04T09:04:01.292Z"
   },
   {
    "duration": 720,
    "start_time": "2023-05-04T09:04:02.022Z"
   },
   {
    "duration": 20,
    "start_time": "2023-05-04T09:04:02.744Z"
   },
   {
    "duration": 155,
    "start_time": "2023-05-04T09:04:02.766Z"
   },
   {
    "duration": 430,
    "start_time": "2023-05-04T09:04:02.922Z"
   },
   {
    "duration": 18155,
    "start_time": "2023-05-04T09:04:03.355Z"
   },
   {
    "duration": 1063,
    "start_time": "2023-05-04T09:04:21.512Z"
   },
   {
    "duration": 663,
    "start_time": "2023-05-04T09:04:22.576Z"
   },
   {
    "duration": 21,
    "start_time": "2023-05-04T09:04:23.241Z"
   },
   {
    "duration": 33,
    "start_time": "2023-05-04T09:04:23.263Z"
   },
   {
    "duration": 23707,
    "start_time": "2023-05-04T09:04:23.298Z"
   },
   {
    "duration": 827,
    "start_time": "2023-05-04T09:04:47.007Z"
   },
   {
    "duration": 7,
    "start_time": "2023-05-04T09:04:47.836Z"
   },
   {
    "duration": 12,
    "start_time": "2023-05-04T09:11:26.553Z"
   },
   {
    "duration": 1165,
    "start_time": "2023-05-04T09:11:39.371Z"
   },
   {
    "duration": 244,
    "start_time": "2023-05-04T09:11:40.538Z"
   },
   {
    "duration": 42,
    "start_time": "2023-05-04T09:11:40.784Z"
   },
   {
    "duration": 21,
    "start_time": "2023-05-04T09:11:40.828Z"
   },
   {
    "duration": 15,
    "start_time": "2023-05-04T09:11:40.851Z"
   },
   {
    "duration": 12,
    "start_time": "2023-05-04T09:11:40.868Z"
   },
   {
    "duration": 51,
    "start_time": "2023-05-04T09:11:40.882Z"
   },
   {
    "duration": 1995,
    "start_time": "2023-05-04T09:11:40.935Z"
   },
   {
    "duration": 1086,
    "start_time": "2023-05-04T09:11:42.932Z"
   },
   {
    "duration": 8,
    "start_time": "2023-05-04T09:11:44.020Z"
   },
   {
    "duration": 27,
    "start_time": "2023-05-04T09:11:44.030Z"
   },
   {
    "duration": 17,
    "start_time": "2023-05-04T09:11:44.060Z"
   },
   {
    "duration": 45,
    "start_time": "2023-05-04T09:11:44.079Z"
   },
   {
    "duration": 19,
    "start_time": "2023-05-04T09:11:44.128Z"
   },
   {
    "duration": 31,
    "start_time": "2023-05-04T09:11:44.150Z"
   },
   {
    "duration": 24,
    "start_time": "2023-05-04T09:11:44.184Z"
   },
   {
    "duration": 17,
    "start_time": "2023-05-04T09:11:44.210Z"
   },
   {
    "duration": 9,
    "start_time": "2023-05-04T09:11:44.229Z"
   },
   {
    "duration": 9,
    "start_time": "2023-05-04T09:11:44.240Z"
   },
   {
    "duration": 13,
    "start_time": "2023-05-04T09:11:44.251Z"
   },
   {
    "duration": 8,
    "start_time": "2023-05-04T09:11:44.266Z"
   },
   {
    "duration": 19,
    "start_time": "2023-05-04T09:11:44.277Z"
   },
   {
    "duration": 12,
    "start_time": "2023-05-04T09:11:44.298Z"
   },
   {
    "duration": 42,
    "start_time": "2023-05-04T09:11:44.311Z"
   },
   {
    "duration": 8,
    "start_time": "2023-05-04T09:11:44.357Z"
   },
   {
    "duration": 10,
    "start_time": "2023-05-04T09:11:44.368Z"
   },
   {
    "duration": 16150,
    "start_time": "2023-05-04T09:11:44.381Z"
   },
   {
    "duration": 630,
    "start_time": "2023-05-04T09:12:00.533Z"
   },
   {
    "duration": 100938,
    "start_time": "2023-05-04T09:12:01.166Z"
   },
   {
    "duration": 644,
    "start_time": "2023-05-04T09:13:42.106Z"
   },
   {
    "duration": 22706,
    "start_time": "2023-05-04T09:13:42.751Z"
   },
   {
    "duration": 822,
    "start_time": "2023-05-04T09:14:05.459Z"
   },
   {
    "duration": 11,
    "start_time": "2023-05-04T09:14:06.283Z"
   },
   {
    "duration": 41,
    "start_time": "2023-05-04T09:14:06.295Z"
   },
   {
    "duration": 190,
    "start_time": "2023-05-04T09:14:06.338Z"
   },
   {
    "duration": 418,
    "start_time": "2023-05-04T09:14:06.530Z"
   },
   {
    "duration": 25229,
    "start_time": "2023-05-04T09:14:06.955Z"
   },
   {
    "duration": 1176,
    "start_time": "2023-05-04T09:14:32.187Z"
   },
   {
    "duration": 901,
    "start_time": "2023-05-04T09:14:33.365Z"
   },
   {
    "duration": 11,
    "start_time": "2023-05-04T09:14:34.268Z"
   },
   {
    "duration": 13,
    "start_time": "2023-05-04T09:14:34.282Z"
   },
   {
    "duration": 104,
    "start_time": "2023-05-04T09:14:34.296Z"
   },
   {
    "duration": 429,
    "start_time": "2023-05-04T09:14:34.402Z"
   },
   {
    "duration": 11614,
    "start_time": "2023-05-04T09:14:34.833Z"
   },
   {
    "duration": 728,
    "start_time": "2023-05-04T09:14:46.449Z"
   },
   {
    "duration": 686,
    "start_time": "2023-05-04T09:14:47.179Z"
   },
   {
    "duration": 12,
    "start_time": "2023-05-04T09:14:47.869Z"
   },
   {
    "duration": 156,
    "start_time": "2023-05-04T09:14:47.883Z"
   },
   {
    "duration": 419,
    "start_time": "2023-05-04T09:14:48.041Z"
   },
   {
    "duration": 18251,
    "start_time": "2023-05-04T09:14:48.462Z"
   },
   {
    "duration": 1037,
    "start_time": "2023-05-04T09:15:06.715Z"
   },
   {
    "duration": 774,
    "start_time": "2023-05-04T09:15:07.754Z"
   },
   {
    "duration": 10,
    "start_time": "2023-05-04T09:15:08.530Z"
   },
   {
    "duration": 22,
    "start_time": "2023-05-04T09:15:08.541Z"
   },
   {
    "duration": 24472,
    "start_time": "2023-05-04T09:15:08.565Z"
   },
   {
    "duration": 827,
    "start_time": "2023-05-04T09:15:33.038Z"
   },
   {
    "duration": 8,
    "start_time": "2023-05-04T09:15:33.867Z"
   },
   {
    "duration": 25028,
    "start_time": "2023-05-04T09:15:50.880Z"
   },
   {
    "duration": 892,
    "start_time": "2023-05-04T09:16:21.884Z"
   },
   {
    "duration": 70,
    "start_time": "2023-05-04T13:25:02.800Z"
   },
   {
    "duration": 1481,
    "start_time": "2023-05-04T13:43:33.998Z"
   },
   {
    "duration": 334,
    "start_time": "2023-05-04T13:43:35.489Z"
   },
   {
    "duration": 103,
    "start_time": "2023-05-04T13:43:35.825Z"
   },
   {
    "duration": 19,
    "start_time": "2023-05-04T13:43:35.929Z"
   },
   {
    "duration": 31,
    "start_time": "2023-05-04T13:43:35.950Z"
   },
   {
    "duration": 43,
    "start_time": "2023-05-04T13:43:35.983Z"
   },
   {
    "duration": 59,
    "start_time": "2023-05-04T13:43:36.028Z"
   },
   {
    "duration": 2239,
    "start_time": "2023-05-04T13:43:36.091Z"
   },
   {
    "duration": 1250,
    "start_time": "2023-05-04T13:43:38.333Z"
   },
   {
    "duration": 6,
    "start_time": "2023-05-04T13:43:39.586Z"
   },
   {
    "duration": 14,
    "start_time": "2023-05-04T13:43:39.594Z"
   },
   {
    "duration": 10,
    "start_time": "2023-05-04T13:43:39.610Z"
   },
   {
    "duration": 35,
    "start_time": "2023-05-04T13:43:39.622Z"
   },
   {
    "duration": 24,
    "start_time": "2023-05-04T13:43:39.661Z"
   },
   {
    "duration": 48,
    "start_time": "2023-05-04T13:43:39.688Z"
   },
   {
    "duration": 10,
    "start_time": "2023-05-04T13:43:39.739Z"
   },
   {
    "duration": 20,
    "start_time": "2023-05-04T13:43:39.752Z"
   },
   {
    "duration": 23,
    "start_time": "2023-05-04T13:43:39.781Z"
   },
   {
    "duration": 11,
    "start_time": "2023-05-04T13:43:39.807Z"
   },
   {
    "duration": 26,
    "start_time": "2023-05-04T13:43:39.820Z"
   },
   {
    "duration": 46,
    "start_time": "2023-05-04T13:43:39.848Z"
   },
   {
    "duration": 34,
    "start_time": "2023-05-04T13:43:39.896Z"
   },
   {
    "duration": 26,
    "start_time": "2023-05-04T13:43:39.932Z"
   },
   {
    "duration": 76,
    "start_time": "2023-05-04T13:43:39.960Z"
   },
   {
    "duration": 8,
    "start_time": "2023-05-04T13:43:40.039Z"
   },
   {
    "duration": 33,
    "start_time": "2023-05-04T13:43:40.049Z"
   },
   {
    "duration": 19209,
    "start_time": "2023-05-04T13:43:40.086Z"
   },
   {
    "duration": 695,
    "start_time": "2023-05-04T13:43:59.296Z"
   },
   {
    "duration": 116332,
    "start_time": "2023-05-04T13:43:59.993Z"
   },
   {
    "duration": 664,
    "start_time": "2023-05-04T13:45:56.327Z"
   },
   {
    "duration": 22383,
    "start_time": "2023-05-04T13:45:56.993Z"
   },
   {
    "duration": 1000,
    "start_time": "2023-05-04T13:46:19.378Z"
   },
   {
    "duration": 12,
    "start_time": "2023-05-04T13:46:20.389Z"
   },
   {
    "duration": 18,
    "start_time": "2023-05-04T13:46:20.404Z"
   },
   {
    "duration": 190,
    "start_time": "2023-05-04T13:46:20.424Z"
   },
   {
    "duration": 475,
    "start_time": "2023-05-04T13:46:20.616Z"
   },
   {
    "duration": 27880,
    "start_time": "2023-05-04T13:46:21.093Z"
   },
   {
    "duration": 1319,
    "start_time": "2023-05-04T13:46:48.983Z"
   },
   {
    "duration": 813,
    "start_time": "2023-05-04T13:46:50.304Z"
   },
   {
    "duration": 11,
    "start_time": "2023-05-04T13:46:51.119Z"
   },
   {
    "duration": 43,
    "start_time": "2023-05-04T13:46:51.134Z"
   },
   {
    "duration": 101,
    "start_time": "2023-05-04T13:46:51.179Z"
   },
   {
    "duration": 433,
    "start_time": "2023-05-04T13:46:51.285Z"
   },
   {
    "duration": 13804,
    "start_time": "2023-05-04T13:46:51.720Z"
   },
   {
    "duration": 823,
    "start_time": "2023-05-04T13:47:05.527Z"
   },
   {
    "duration": 801,
    "start_time": "2023-05-04T13:47:06.353Z"
   },
   {
    "duration": 18,
    "start_time": "2023-05-04T13:47:07.156Z"
   },
   {
    "duration": 182,
    "start_time": "2023-05-04T13:47:07.177Z"
   },
   {
    "duration": 454,
    "start_time": "2023-05-04T13:47:07.362Z"
   },
   {
    "duration": 21453,
    "start_time": "2023-05-04T13:47:07.818Z"
   },
   {
    "duration": 1229,
    "start_time": "2023-05-04T13:47:29.274Z"
   },
   {
    "duration": 733,
    "start_time": "2023-05-04T13:47:30.505Z"
   },
   {
    "duration": 44,
    "start_time": "2023-05-04T13:47:31.241Z"
   },
   {
    "duration": 99,
    "start_time": "2023-05-04T13:47:31.291Z"
   },
   {
    "duration": 976,
    "start_time": "2023-05-04T13:47:31.392Z"
   },
   {
    "duration": 0,
    "start_time": "2023-05-04T13:47:32.370Z"
   },
   {
    "duration": 748,
    "start_time": "2023-05-04T13:48:58.140Z"
   },
   {
    "duration": 902,
    "start_time": "2023-05-04T13:49:23.406Z"
   },
   {
    "duration": 1257,
    "start_time": "2023-05-04T19:16:51.384Z"
   },
   {
    "duration": 254,
    "start_time": "2023-05-04T19:16:52.642Z"
   },
   {
    "duration": 168,
    "start_time": "2023-05-04T19:16:52.898Z"
   },
   {
    "duration": 18,
    "start_time": "2023-05-04T19:16:53.069Z"
   },
   {
    "duration": 13,
    "start_time": "2023-05-04T19:16:53.088Z"
   },
   {
    "duration": 24,
    "start_time": "2023-05-04T19:16:53.102Z"
   },
   {
    "duration": 31,
    "start_time": "2023-05-04T19:16:53.127Z"
   },
   {
    "duration": 1553,
    "start_time": "2023-05-04T19:16:53.159Z"
   },
   {
    "duration": 926,
    "start_time": "2023-05-04T19:16:54.713Z"
   },
   {
    "duration": 5,
    "start_time": "2023-05-04T19:16:55.642Z"
   },
   {
    "duration": 20,
    "start_time": "2023-05-04T19:16:55.648Z"
   },
   {
    "duration": 5,
    "start_time": "2023-05-04T19:16:55.669Z"
   },
   {
    "duration": 23,
    "start_time": "2023-05-04T19:16:55.676Z"
   },
   {
    "duration": 15,
    "start_time": "2023-05-04T19:16:55.700Z"
   },
   {
    "duration": 28,
    "start_time": "2023-05-04T19:16:55.716Z"
   },
   {
    "duration": 7,
    "start_time": "2023-05-04T19:16:55.746Z"
   },
   {
    "duration": 17,
    "start_time": "2023-05-04T19:16:55.755Z"
   },
   {
    "duration": 6,
    "start_time": "2023-05-04T19:16:55.774Z"
   },
   {
    "duration": 12,
    "start_time": "2023-05-04T19:16:55.781Z"
   },
   {
    "duration": 9,
    "start_time": "2023-05-04T19:16:55.795Z"
   },
   {
    "duration": 9,
    "start_time": "2023-05-04T19:16:55.806Z"
   },
   {
    "duration": 115,
    "start_time": "2023-05-04T19:16:55.817Z"
   },
   {
    "duration": 0,
    "start_time": "2023-05-04T19:16:55.934Z"
   },
   {
    "duration": 0,
    "start_time": "2023-05-04T19:16:55.935Z"
   },
   {
    "duration": 0,
    "start_time": "2023-05-04T19:16:55.937Z"
   },
   {
    "duration": 0,
    "start_time": "2023-05-04T19:16:55.937Z"
   },
   {
    "duration": 0,
    "start_time": "2023-05-04T19:16:55.938Z"
   },
   {
    "duration": 0,
    "start_time": "2023-05-04T19:16:55.939Z"
   },
   {
    "duration": 0,
    "start_time": "2023-05-04T19:16:55.940Z"
   },
   {
    "duration": 0,
    "start_time": "2023-05-04T19:16:55.940Z"
   },
   {
    "duration": 0,
    "start_time": "2023-05-04T19:16:55.941Z"
   },
   {
    "duration": 0,
    "start_time": "2023-05-04T19:16:55.942Z"
   },
   {
    "duration": 0,
    "start_time": "2023-05-04T19:16:55.942Z"
   },
   {
    "duration": 0,
    "start_time": "2023-05-04T19:16:55.943Z"
   },
   {
    "duration": 0,
    "start_time": "2023-05-04T19:16:55.944Z"
   },
   {
    "duration": 0,
    "start_time": "2023-05-04T19:16:55.945Z"
   },
   {
    "duration": 0,
    "start_time": "2023-05-04T19:16:55.946Z"
   },
   {
    "duration": 0,
    "start_time": "2023-05-04T19:16:55.972Z"
   },
   {
    "duration": 0,
    "start_time": "2023-05-04T19:16:55.973Z"
   },
   {
    "duration": 0,
    "start_time": "2023-05-04T19:16:55.974Z"
   },
   {
    "duration": 0,
    "start_time": "2023-05-04T19:16:55.974Z"
   },
   {
    "duration": 0,
    "start_time": "2023-05-04T19:16:55.975Z"
   },
   {
    "duration": 0,
    "start_time": "2023-05-04T19:16:55.976Z"
   },
   {
    "duration": 0,
    "start_time": "2023-05-04T19:16:55.977Z"
   },
   {
    "duration": 0,
    "start_time": "2023-05-04T19:16:55.977Z"
   },
   {
    "duration": 0,
    "start_time": "2023-05-04T19:16:55.978Z"
   },
   {
    "duration": 0,
    "start_time": "2023-05-04T19:16:55.979Z"
   },
   {
    "duration": 0,
    "start_time": "2023-05-04T19:16:55.979Z"
   },
   {
    "duration": 0,
    "start_time": "2023-05-04T19:16:55.980Z"
   },
   {
    "duration": 0,
    "start_time": "2023-05-04T19:16:55.981Z"
   },
   {
    "duration": 0,
    "start_time": "2023-05-04T19:16:55.982Z"
   },
   {
    "duration": 0,
    "start_time": "2023-05-04T19:16:55.982Z"
   },
   {
    "duration": 0,
    "start_time": "2023-05-04T19:16:55.983Z"
   },
   {
    "duration": 0,
    "start_time": "2023-05-04T19:16:55.984Z"
   },
   {
    "duration": 0,
    "start_time": "2023-05-04T19:16:55.984Z"
   },
   {
    "duration": 0,
    "start_time": "2023-05-04T19:16:55.985Z"
   },
   {
    "duration": 1164,
    "start_time": "2023-05-04T19:18:29.203Z"
   },
   {
    "duration": 275,
    "start_time": "2023-05-04T19:18:30.369Z"
   },
   {
    "duration": 41,
    "start_time": "2023-05-04T19:18:30.646Z"
   },
   {
    "duration": 17,
    "start_time": "2023-05-04T19:18:30.689Z"
   },
   {
    "duration": 38,
    "start_time": "2023-05-04T19:18:30.708Z"
   },
   {
    "duration": 44,
    "start_time": "2023-05-04T19:18:30.748Z"
   },
   {
    "duration": 97,
    "start_time": "2023-05-04T19:18:30.794Z"
   },
   {
    "duration": 1664,
    "start_time": "2023-05-04T19:18:30.893Z"
   },
   {
    "duration": 936,
    "start_time": "2023-05-04T19:18:32.559Z"
   },
   {
    "duration": 4,
    "start_time": "2023-05-04T19:18:33.498Z"
   },
   {
    "duration": 6,
    "start_time": "2023-05-04T19:18:33.503Z"
   },
   {
    "duration": 8,
    "start_time": "2023-05-04T19:18:33.510Z"
   },
   {
    "duration": 9,
    "start_time": "2023-05-04T19:18:33.520Z"
   },
   {
    "duration": 18,
    "start_time": "2023-05-04T19:18:33.530Z"
   },
   {
    "duration": 18,
    "start_time": "2023-05-04T19:18:33.549Z"
   },
   {
    "duration": 8,
    "start_time": "2023-05-04T19:18:33.568Z"
   },
   {
    "duration": 15,
    "start_time": "2023-05-04T19:18:33.578Z"
   },
   {
    "duration": 8,
    "start_time": "2023-05-04T19:18:33.595Z"
   },
   {
    "duration": 7,
    "start_time": "2023-05-04T19:18:33.604Z"
   },
   {
    "duration": 11,
    "start_time": "2023-05-04T19:18:33.612Z"
   },
   {
    "duration": 19,
    "start_time": "2023-05-04T19:18:33.624Z"
   },
   {
    "duration": 9,
    "start_time": "2023-05-04T19:18:33.645Z"
   },
   {
    "duration": 2,
    "start_time": "2023-05-04T19:18:33.656Z"
   },
   {
    "duration": 39,
    "start_time": "2023-05-04T19:18:33.659Z"
   },
   {
    "duration": 5,
    "start_time": "2023-05-04T19:18:33.700Z"
   },
   {
    "duration": 18,
    "start_time": "2023-05-04T19:18:33.706Z"
   },
   {
    "duration": 16772,
    "start_time": "2023-05-04T19:18:33.726Z"
   },
   {
    "duration": 461,
    "start_time": "2023-05-04T19:18:50.501Z"
   },
   {
    "duration": 95082,
    "start_time": "2023-05-04T19:18:50.963Z"
   },
   {
    "duration": 586,
    "start_time": "2023-05-04T19:20:26.047Z"
   },
   {
    "duration": 22941,
    "start_time": "2023-05-04T19:20:26.635Z"
   },
   {
    "duration": 766,
    "start_time": "2023-05-04T19:20:49.577Z"
   },
   {
    "duration": 9,
    "start_time": "2023-05-04T19:20:50.344Z"
   },
   {
    "duration": 12,
    "start_time": "2023-05-04T19:20:50.373Z"
   },
   {
    "duration": 160,
    "start_time": "2023-05-04T19:20:50.387Z"
   },
   {
    "duration": 362,
    "start_time": "2023-05-04T19:20:50.548Z"
   },
   {
    "duration": 22804,
    "start_time": "2023-05-04T19:20:50.911Z"
   },
   {
    "duration": 1036,
    "start_time": "2023-05-04T19:21:13.716Z"
   },
   {
    "duration": 763,
    "start_time": "2023-05-04T19:21:14.754Z"
   },
   {
    "duration": 9,
    "start_time": "2023-05-04T19:21:15.519Z"
   },
   {
    "duration": 13,
    "start_time": "2023-05-04T19:21:15.529Z"
   },
   {
    "duration": 98,
    "start_time": "2023-05-04T19:21:15.543Z"
   },
   {
    "duration": 370,
    "start_time": "2023-05-04T19:21:15.643Z"
   },
   {
    "duration": 10722,
    "start_time": "2023-05-04T19:21:16.014Z"
   },
   {
    "duration": 714,
    "start_time": "2023-05-04T19:21:26.738Z"
   },
   {
    "duration": 692,
    "start_time": "2023-05-04T19:21:27.453Z"
   },
   {
    "duration": 9,
    "start_time": "2023-05-04T19:21:28.146Z"
   },
   {
    "duration": 163,
    "start_time": "2023-05-04T19:21:28.157Z"
   },
   {
    "duration": 409,
    "start_time": "2023-05-04T19:21:28.321Z"
   },
   {
    "duration": 17247,
    "start_time": "2023-05-04T19:21:28.732Z"
   },
   {
    "duration": 986,
    "start_time": "2023-05-04T19:21:45.981Z"
   },
   {
    "duration": 678,
    "start_time": "2023-05-04T19:21:46.971Z"
   },
   {
    "duration": 22,
    "start_time": "2023-05-04T19:21:47.651Z"
   },
   {
    "duration": 16,
    "start_time": "2023-05-04T19:21:47.674Z"
   },
   {
    "duration": 787,
    "start_time": "2023-05-04T19:21:47.691Z"
   },
   {
    "duration": 7,
    "start_time": "2023-05-04T19:21:48.479Z"
   },
   {
    "duration": 1342,
    "start_time": "2023-05-06T09:49:04.360Z"
   },
   {
    "duration": 330,
    "start_time": "2023-05-06T09:49:05.704Z"
   },
   {
    "duration": 532,
    "start_time": "2023-05-06T09:49:06.035Z"
   },
   {
    "duration": 36,
    "start_time": "2023-05-06T09:49:06.569Z"
   },
   {
    "duration": 25,
    "start_time": "2023-05-06T09:49:06.606Z"
   },
   {
    "duration": 10,
    "start_time": "2023-05-06T09:49:06.633Z"
   },
   {
    "duration": 57,
    "start_time": "2023-05-06T09:49:06.644Z"
   },
   {
    "duration": 1707,
    "start_time": "2023-05-06T09:49:06.710Z"
   },
   {
    "duration": 1001,
    "start_time": "2023-05-06T09:49:08.418Z"
   },
   {
    "duration": 5,
    "start_time": "2023-05-06T09:49:09.421Z"
   },
   {
    "duration": 5,
    "start_time": "2023-05-06T09:49:09.427Z"
   },
   {
    "duration": 2,
    "start_time": "2023-05-06T09:49:09.434Z"
   },
   {
    "duration": 8,
    "start_time": "2023-05-06T09:49:09.437Z"
   },
   {
    "duration": 8,
    "start_time": "2023-05-06T09:49:09.447Z"
   },
   {
    "duration": 13,
    "start_time": "2023-05-06T09:49:09.456Z"
   },
   {
    "duration": 53,
    "start_time": "2023-05-06T09:49:09.471Z"
   },
   {
    "duration": 7,
    "start_time": "2023-05-06T09:49:09.525Z"
   },
   {
    "duration": 6,
    "start_time": "2023-05-06T09:49:09.534Z"
   },
   {
    "duration": 9,
    "start_time": "2023-05-06T09:49:09.542Z"
   },
   {
    "duration": 11,
    "start_time": "2023-05-06T09:49:09.553Z"
   },
   {
    "duration": 23,
    "start_time": "2023-05-06T09:49:09.566Z"
   },
   {
    "duration": 38,
    "start_time": "2023-05-06T09:49:09.597Z"
   },
   {
    "duration": 4,
    "start_time": "2023-05-06T09:49:09.637Z"
   },
   {
    "duration": 52,
    "start_time": "2023-05-06T09:49:09.643Z"
   },
   {
    "duration": 9,
    "start_time": "2023-05-06T09:49:09.706Z"
   },
   {
    "duration": 5,
    "start_time": "2023-05-06T09:49:09.717Z"
   },
   {
    "duration": 17420,
    "start_time": "2023-05-06T09:49:09.724Z"
   },
   {
    "duration": 503,
    "start_time": "2023-05-06T09:49:27.148Z"
   },
   {
    "duration": 104479,
    "start_time": "2023-05-06T09:49:27.652Z"
   },
   {
    "duration": 516,
    "start_time": "2023-05-06T09:51:12.132Z"
   },
   {
    "duration": 18449,
    "start_time": "2023-05-06T09:51:12.650Z"
   },
   {
    "duration": 697,
    "start_time": "2023-05-06T09:51:31.103Z"
   },
   {
    "duration": 17,
    "start_time": "2023-05-06T09:51:31.808Z"
   },
   {
    "duration": 21,
    "start_time": "2023-05-06T09:51:31.826Z"
   },
   {
    "duration": 194,
    "start_time": "2023-05-06T09:51:31.848Z"
   },
   {
    "duration": 382,
    "start_time": "2023-05-06T09:51:32.043Z"
   },
   {
    "duration": 24937,
    "start_time": "2023-05-06T09:51:32.426Z"
   },
   {
    "duration": 1102,
    "start_time": "2023-05-06T09:51:57.365Z"
   },
   {
    "duration": 813,
    "start_time": "2023-05-06T09:51:58.469Z"
   },
   {
    "duration": 14,
    "start_time": "2023-05-06T09:51:59.283Z"
   },
   {
    "duration": 44,
    "start_time": "2023-05-06T09:51:59.299Z"
   },
   {
    "duration": 103,
    "start_time": "2023-05-06T09:51:59.344Z"
   },
   {
    "duration": 386,
    "start_time": "2023-05-06T09:51:59.449Z"
   },
   {
    "duration": 12275,
    "start_time": "2023-05-06T09:51:59.836Z"
   },
   {
    "duration": 681,
    "start_time": "2023-05-06T09:52:12.119Z"
   },
   {
    "duration": 642,
    "start_time": "2023-05-06T09:52:12.809Z"
   },
   {
    "duration": 10,
    "start_time": "2023-05-06T09:52:13.453Z"
   },
   {
    "duration": 158,
    "start_time": "2023-05-06T09:52:13.465Z"
   },
   {
    "duration": 462,
    "start_time": "2023-05-06T09:52:13.627Z"
   },
   {
    "duration": 19760,
    "start_time": "2023-05-06T09:52:14.090Z"
   },
   {
    "duration": 757,
    "start_time": "2023-05-06T09:52:33.852Z"
   },
   {
    "duration": 788,
    "start_time": "2023-05-06T09:52:34.612Z"
   },
   {
    "duration": 31,
    "start_time": "2023-05-06T09:52:35.402Z"
   },
   {
    "duration": 19,
    "start_time": "2023-05-06T09:52:35.435Z"
   },
   {
    "duration": 946,
    "start_time": "2023-05-06T09:52:35.456Z"
   },
   {
    "duration": 10,
    "start_time": "2023-05-06T09:52:36.408Z"
   },
   {
    "duration": 76636,
    "start_time": "2023-05-06T09:53:28.157Z"
   },
   {
    "duration": 1462,
    "start_time": "2023-05-06T10:01:11.622Z"
   },
   {
    "duration": 464,
    "start_time": "2023-05-06T10:01:13.086Z"
   },
   {
    "duration": 86,
    "start_time": "2023-05-06T10:01:13.552Z"
   },
   {
    "duration": 26,
    "start_time": "2023-05-06T10:01:13.641Z"
   },
   {
    "duration": 49,
    "start_time": "2023-05-06T10:01:13.669Z"
   },
   {
    "duration": 34,
    "start_time": "2023-05-06T10:01:13.720Z"
   },
   {
    "duration": 90,
    "start_time": "2023-05-06T10:01:13.755Z"
   },
   {
    "duration": 2081,
    "start_time": "2023-05-06T10:01:13.847Z"
   },
   {
    "duration": 1384,
    "start_time": "2023-05-06T10:01:15.931Z"
   },
   {
    "duration": 15,
    "start_time": "2023-05-06T10:01:17.327Z"
   },
   {
    "duration": 22,
    "start_time": "2023-05-06T10:01:17.344Z"
   },
   {
    "duration": 73,
    "start_time": "2023-05-06T10:01:17.368Z"
   },
   {
    "duration": 41,
    "start_time": "2023-05-06T10:01:17.444Z"
   },
   {
    "duration": 147,
    "start_time": "2023-05-06T10:01:17.486Z"
   },
   {
    "duration": 26,
    "start_time": "2023-05-06T10:01:17.635Z"
   },
   {
    "duration": 84,
    "start_time": "2023-05-06T10:01:17.664Z"
   },
   {
    "duration": 16,
    "start_time": "2023-05-06T10:01:17.750Z"
   },
   {
    "duration": 7,
    "start_time": "2023-05-06T10:01:17.768Z"
   },
   {
    "duration": 73,
    "start_time": "2023-05-06T10:01:17.776Z"
   },
   {
    "duration": 18,
    "start_time": "2023-05-06T10:01:17.850Z"
   },
   {
    "duration": 29,
    "start_time": "2023-05-06T10:01:17.870Z"
   },
   {
    "duration": 44,
    "start_time": "2023-05-06T10:01:17.903Z"
   },
   {
    "duration": 5,
    "start_time": "2023-05-06T10:01:17.948Z"
   },
   {
    "duration": 64,
    "start_time": "2023-05-06T10:01:17.954Z"
   },
   {
    "duration": 14,
    "start_time": "2023-05-06T10:01:18.019Z"
   },
   {
    "duration": 7,
    "start_time": "2023-05-06T10:01:18.037Z"
   },
   {
    "duration": 21672,
    "start_time": "2023-05-06T10:01:18.045Z"
   },
   {
    "duration": 670,
    "start_time": "2023-05-06T10:01:39.721Z"
   },
   {
    "duration": 136398,
    "start_time": "2023-05-06T10:01:40.396Z"
   },
   {
    "duration": 721,
    "start_time": "2023-05-06T10:03:56.801Z"
   },
   {
    "duration": 26342,
    "start_time": "2023-05-06T10:03:57.527Z"
   },
   {
    "duration": 1136,
    "start_time": "2023-05-06T10:04:23.913Z"
   },
   {
    "duration": 26,
    "start_time": "2023-05-06T10:04:25.059Z"
   },
   {
    "duration": 224,
    "start_time": "2023-05-06T10:04:25.091Z"
   },
   {
    "duration": 503,
    "start_time": "2023-05-06T10:04:25.320Z"
   },
   {
    "duration": 516,
    "start_time": "2023-05-06T10:04:25.825Z"
   },
   {
    "duration": 186122,
    "start_time": "2023-05-06T10:04:26.350Z"
   },
   {
    "duration": 226680,
    "start_time": "2023-05-06T10:07:32.479Z"
   },
   {
    "duration": 1644,
    "start_time": "2023-05-06T10:11:19.162Z"
   },
   {
    "duration": 824,
    "start_time": "2023-05-06T10:11:20.808Z"
   },
   {
    "duration": 16,
    "start_time": "2023-05-06T10:11:21.633Z"
   },
   {
    "duration": 27,
    "start_time": "2023-05-06T10:11:21.651Z"
   },
   {
    "duration": 153,
    "start_time": "2023-05-06T10:11:21.680Z"
   },
   {
    "duration": 394,
    "start_time": "2023-05-06T10:11:21.835Z"
   },
   {
    "duration": 14233,
    "start_time": "2023-05-06T10:11:22.233Z"
   },
   {
    "duration": 892,
    "start_time": "2023-05-06T10:11:36.474Z"
   },
   {
    "duration": 768,
    "start_time": "2023-05-06T10:11:37.368Z"
   },
   {
    "duration": 13,
    "start_time": "2023-05-06T10:11:38.138Z"
   },
   {
    "duration": 214,
    "start_time": "2023-05-06T10:11:38.153Z"
   },
   {
    "duration": 464,
    "start_time": "2023-05-06T10:11:38.368Z"
   },
   {
    "duration": 22077,
    "start_time": "2023-05-06T10:11:38.834Z"
   },
   {
    "duration": 983,
    "start_time": "2023-05-06T10:12:00.912Z"
   },
   {
    "duration": 819,
    "start_time": "2023-05-06T10:12:01.897Z"
   },
   {
    "duration": 14,
    "start_time": "2023-05-06T10:12:02.718Z"
   },
   {
    "duration": 95,
    "start_time": "2023-05-06T10:12:02.737Z"
   },
   {
    "duration": 991,
    "start_time": "2023-05-06T10:12:02.834Z"
   },
   {
    "duration": 8,
    "start_time": "2023-05-06T10:12:03.830Z"
   },
   {
    "duration": 1367,
    "start_time": "2023-05-06T10:12:17.295Z"
   },
   {
    "duration": 1042,
    "start_time": "2023-05-06T10:12:34.967Z"
   },
   {
    "duration": 1369,
    "start_time": "2023-05-06T10:13:10.351Z"
   },
   {
    "duration": 1111,
    "start_time": "2023-05-06T10:13:18.222Z"
   },
   {
    "duration": 1010,
    "start_time": "2023-05-06T10:13:25.736Z"
   },
   {
    "duration": 27961,
    "start_time": "2023-05-06T10:13:58.920Z"
   },
   {
    "duration": 1283,
    "start_time": "2023-05-06T10:17:17.312Z"
   },
   {
    "duration": 392,
    "start_time": "2023-05-06T10:17:18.597Z"
   },
   {
    "duration": 43,
    "start_time": "2023-05-06T10:17:19.006Z"
   },
   {
    "duration": 24,
    "start_time": "2023-05-06T10:17:19.051Z"
   },
   {
    "duration": 56,
    "start_time": "2023-05-06T10:17:19.076Z"
   },
   {
    "duration": 26,
    "start_time": "2023-05-06T10:17:19.134Z"
   },
   {
    "duration": 62,
    "start_time": "2023-05-06T10:17:19.162Z"
   },
   {
    "duration": 1803,
    "start_time": "2023-05-06T10:17:19.226Z"
   },
   {
    "duration": 1149,
    "start_time": "2023-05-06T10:17:21.031Z"
   },
   {
    "duration": 5,
    "start_time": "2023-05-06T10:17:22.183Z"
   },
   {
    "duration": 6,
    "start_time": "2023-05-06T10:17:22.190Z"
   },
   {
    "duration": 2,
    "start_time": "2023-05-06T10:17:22.198Z"
   },
   {
    "duration": 26,
    "start_time": "2023-05-06T10:17:22.202Z"
   },
   {
    "duration": 39,
    "start_time": "2023-05-06T10:17:22.230Z"
   },
   {
    "duration": 56,
    "start_time": "2023-05-06T10:17:22.270Z"
   },
   {
    "duration": 38,
    "start_time": "2023-05-06T10:17:22.328Z"
   },
   {
    "duration": 69,
    "start_time": "2023-05-06T10:17:22.368Z"
   },
   {
    "duration": 22,
    "start_time": "2023-05-06T10:17:22.439Z"
   },
   {
    "duration": 74,
    "start_time": "2023-05-06T10:17:22.463Z"
   },
   {
    "duration": 33,
    "start_time": "2023-05-06T10:17:22.539Z"
   },
   {
    "duration": 48,
    "start_time": "2023-05-06T10:17:22.573Z"
   },
   {
    "duration": 27,
    "start_time": "2023-05-06T10:17:22.623Z"
   },
   {
    "duration": 69,
    "start_time": "2023-05-06T10:17:22.652Z"
   },
   {
    "duration": 77,
    "start_time": "2023-05-06T10:17:22.724Z"
   },
   {
    "duration": 8,
    "start_time": "2023-05-06T10:17:22.809Z"
   },
   {
    "duration": 22,
    "start_time": "2023-05-06T10:17:22.818Z"
   },
   {
    "duration": 18909,
    "start_time": "2023-05-06T10:17:22.841Z"
   },
   {
    "duration": 563,
    "start_time": "2023-05-06T10:17:41.755Z"
   },
   {
    "duration": 110240,
    "start_time": "2023-05-06T10:17:42.328Z"
   },
   {
    "duration": 615,
    "start_time": "2023-05-06T10:19:32.570Z"
   },
   {
    "duration": 17312,
    "start_time": "2023-05-06T10:19:33.189Z"
   },
   {
    "duration": 796,
    "start_time": "2023-05-06T10:19:50.503Z"
   },
   {
    "duration": 12,
    "start_time": "2023-05-06T10:19:51.304Z"
   },
   {
    "duration": 40,
    "start_time": "2023-05-06T10:19:51.317Z"
   },
   {
    "duration": 228,
    "start_time": "2023-05-06T10:19:51.358Z"
   },
   {
    "duration": 360,
    "start_time": "2023-05-06T10:19:51.599Z"
   },
   {
    "duration": 24869,
    "start_time": "2023-05-06T10:19:51.961Z"
   },
   {
    "duration": 1173,
    "start_time": "2023-05-06T10:20:16.832Z"
   },
   {
    "duration": 865,
    "start_time": "2023-05-06T10:20:18.020Z"
   },
   {
    "duration": 13,
    "start_time": "2023-05-06T10:20:18.887Z"
   },
   {
    "duration": 21,
    "start_time": "2023-05-06T10:20:18.902Z"
   },
   {
    "duration": 107,
    "start_time": "2023-05-06T10:20:18.924Z"
   },
   {
    "duration": 429,
    "start_time": "2023-05-06T10:20:19.033Z"
   },
   {
    "duration": 12288,
    "start_time": "2023-05-06T10:20:19.464Z"
   },
   {
    "duration": 898,
    "start_time": "2023-05-06T10:20:31.754Z"
   },
   {
    "duration": 743,
    "start_time": "2023-05-06T10:20:32.654Z"
   },
   {
    "duration": 18,
    "start_time": "2023-05-06T10:20:33.402Z"
   },
   {
    "duration": 194,
    "start_time": "2023-05-06T10:20:33.422Z"
   },
   {
    "duration": 418,
    "start_time": "2023-05-06T10:20:33.619Z"
   },
   {
    "duration": 22007,
    "start_time": "2023-05-06T10:20:34.045Z"
   },
   {
    "duration": 783,
    "start_time": "2023-05-06T10:20:56.054Z"
   },
   {
    "duration": 835,
    "start_time": "2023-05-06T10:20:56.842Z"
   },
   {
    "duration": 15,
    "start_time": "2023-05-06T10:20:57.683Z"
   },
   {
    "duration": 44,
    "start_time": "2023-05-06T10:20:57.701Z"
   },
   {
    "duration": 899,
    "start_time": "2023-05-06T10:20:57.747Z"
   },
   {
    "duration": 10,
    "start_time": "2023-05-06T10:20:58.648Z"
   },
   {
    "duration": 11392,
    "start_time": "2023-05-06T10:33:54.020Z"
   },
   {
    "duration": 24804,
    "start_time": "2023-05-06T10:34:19.254Z"
   },
   {
    "duration": 895,
    "start_time": "2023-05-06T10:35:04.514Z"
   },
   {
    "duration": 140763,
    "start_time": "2023-05-06T10:35:25.657Z"
   },
   {
    "duration": 11,
    "start_time": "2023-05-06T10:37:46.421Z"
   },
   {
    "duration": 799,
    "start_time": "2023-05-06T10:38:10.740Z"
   },
   {
    "duration": 838,
    "start_time": "2023-05-06T10:38:26.226Z"
   },
   {
    "duration": 876,
    "start_time": "2023-05-06T10:38:33.852Z"
   },
   {
    "duration": 30,
    "start_time": "2023-05-06T10:39:19.079Z"
   },
   {
    "duration": 1135,
    "start_time": "2023-05-06T10:43:02.050Z"
   },
   {
    "duration": 343,
    "start_time": "2023-05-06T10:43:03.187Z"
   },
   {
    "duration": 39,
    "start_time": "2023-05-06T10:43:03.532Z"
   },
   {
    "duration": 20,
    "start_time": "2023-05-06T10:43:03.590Z"
   },
   {
    "duration": 11,
    "start_time": "2023-05-06T10:43:03.612Z"
   },
   {
    "duration": 19,
    "start_time": "2023-05-06T10:43:03.624Z"
   },
   {
    "duration": 49,
    "start_time": "2023-05-06T10:43:03.644Z"
   },
   {
    "duration": 1653,
    "start_time": "2023-05-06T10:43:03.694Z"
   },
   {
    "duration": 966,
    "start_time": "2023-05-06T10:43:05.349Z"
   },
   {
    "duration": 5,
    "start_time": "2023-05-06T10:43:06.318Z"
   },
   {
    "duration": 27,
    "start_time": "2023-05-06T10:43:06.324Z"
   },
   {
    "duration": 17,
    "start_time": "2023-05-06T10:43:06.352Z"
   },
   {
    "duration": 35,
    "start_time": "2023-05-06T10:43:06.371Z"
   },
   {
    "duration": 14,
    "start_time": "2023-05-06T10:43:06.408Z"
   },
   {
    "duration": 24,
    "start_time": "2023-05-06T10:43:06.424Z"
   },
   {
    "duration": 10,
    "start_time": "2023-05-06T10:43:06.450Z"
   },
   {
    "duration": 56,
    "start_time": "2023-05-06T10:43:06.461Z"
   },
   {
    "duration": 6,
    "start_time": "2023-05-06T10:43:06.519Z"
   },
   {
    "duration": 12,
    "start_time": "2023-05-06T10:43:06.527Z"
   },
   {
    "duration": 17,
    "start_time": "2023-05-06T10:43:06.540Z"
   },
   {
    "duration": 37,
    "start_time": "2023-05-06T10:43:06.560Z"
   },
   {
    "duration": 24,
    "start_time": "2023-05-06T10:43:06.606Z"
   },
   {
    "duration": 8,
    "start_time": "2023-05-06T10:43:06.632Z"
   },
   {
    "duration": 55,
    "start_time": "2023-05-06T10:43:06.642Z"
   },
   {
    "duration": 5,
    "start_time": "2023-05-06T10:43:06.699Z"
   },
   {
    "duration": 15,
    "start_time": "2023-05-06T10:43:06.706Z"
   },
   {
    "duration": 16429,
    "start_time": "2023-05-06T10:43:06.722Z"
   },
   {
    "duration": 462,
    "start_time": "2023-05-06T10:43:23.154Z"
   },
   {
    "duration": 100652,
    "start_time": "2023-05-06T10:43:23.618Z"
   },
   {
    "duration": 538,
    "start_time": "2023-05-06T10:45:04.271Z"
   },
   {
    "duration": 16374,
    "start_time": "2023-05-06T10:45:04.811Z"
   },
   {
    "duration": 845,
    "start_time": "2023-05-06T10:45:21.191Z"
   },
   {
    "duration": 10,
    "start_time": "2023-05-06T10:45:22.038Z"
   },
   {
    "duration": 22,
    "start_time": "2023-05-06T10:45:22.049Z"
   },
   {
    "duration": 227,
    "start_time": "2023-05-06T10:45:22.090Z"
   },
   {
    "duration": 413,
    "start_time": "2023-05-06T10:45:22.319Z"
   },
   {
    "duration": 137552,
    "start_time": "2023-05-06T10:45:22.734Z"
   },
   {
    "duration": 1071,
    "start_time": "2023-05-06T10:47:40.287Z"
   },
   {
    "duration": 775,
    "start_time": "2023-05-06T10:47:41.359Z"
   },
   {
    "duration": 9,
    "start_time": "2023-05-06T10:47:42.136Z"
   },
   {
    "duration": 57,
    "start_time": "2023-05-06T10:47:42.147Z"
   },
   {
    "duration": 93,
    "start_time": "2023-05-06T10:47:42.208Z"
   },
   {
    "duration": 340,
    "start_time": "2023-05-06T10:47:42.307Z"
   },
   {
    "duration": 11381,
    "start_time": "2023-05-06T10:47:42.648Z"
   },
   {
    "duration": 517,
    "start_time": "2023-05-06T10:47:54.031Z"
   },
   {
    "duration": 708,
    "start_time": "2023-05-06T10:47:54.551Z"
   },
   {
    "duration": 16,
    "start_time": "2023-05-06T10:47:55.261Z"
   },
   {
    "duration": 205,
    "start_time": "2023-05-06T10:47:55.279Z"
   },
   {
    "duration": 415,
    "start_time": "2023-05-06T10:47:55.486Z"
   },
   {
    "duration": 18634,
    "start_time": "2023-05-06T10:47:55.907Z"
   },
   {
    "duration": 694,
    "start_time": "2023-05-06T10:48:14.542Z"
   },
   {
    "duration": 731,
    "start_time": "2023-05-06T10:48:15.237Z"
   },
   {
    "duration": 20,
    "start_time": "2023-05-06T10:48:15.970Z"
   },
   {
    "duration": 60,
    "start_time": "2023-05-06T10:48:15.991Z"
   },
   {
    "duration": 924,
    "start_time": "2023-05-06T10:48:16.053Z"
   },
   {
    "duration": 9,
    "start_time": "2023-05-06T10:48:16.978Z"
   }
  ],
  "kernelspec": {
   "display_name": "Python 3 (ipykernel)",
   "language": "python",
   "name": "python3"
  },
  "language_info": {
   "codemirror_mode": {
    "name": "ipython",
    "version": 3
   },
   "file_extension": ".py",
   "mimetype": "text/x-python",
   "name": "python",
   "nbconvert_exporter": "python",
   "pygments_lexer": "ipython3",
   "version": "3.9.5"
  },
  "toc": {
   "base_numbering": 1,
   "nav_menu": {
    "height": "337px",
    "width": "287px"
   },
   "number_sections": true,
   "sideBar": true,
   "skip_h1_title": true,
   "title_cell": "Содержание",
   "title_sidebar": "Contents",
   "toc_cell": true,
   "toc_position": {
    "height": "calc(100% - 180px)",
    "left": "10px",
    "top": "150px",
    "width": "246.989px"
   },
   "toc_section_display": true,
   "toc_window_display": false
  }
 },
 "nbformat": 4,
 "nbformat_minor": 2
}
