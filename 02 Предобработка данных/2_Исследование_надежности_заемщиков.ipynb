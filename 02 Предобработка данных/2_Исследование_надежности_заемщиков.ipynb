{
  "cells": [
    {
      "cell_type": "markdown",
      "id": "6311fbb2",
      "metadata": {
        "deletable": false,
        "editable": false,
        "id": "6311fbb2"
      },
      "source": [
        "# Исследование надежности заемщиков\n"
      ]
    },
    {
      "cell_type": "markdown",
      "source": [
        "**Описание проекта**   \n",
        "Заказчик — кредитный отдел банка. Нужно разобраться, влияет ли семейное положение и количество детей клиента на факт погашения кредита в срок. Входные данные от банка — статистика о платёжеспособности клиентов.  \n",
        "Результаты исследования будут учтены при построении модели кредитного скоринга — специальной системы, которая оценивает способность потенциального заёмщика вернуть кредит банку.  \n",
        "**Описание данных**    \n",
        "*children* — количество детей в семье  \n",
        "*days_employed* — общий трудовой стаж в днях  \n",
        "*dob_years* — возраст клиента в годах  \n",
        "*education* — уровень образования клиента  \n",
        "*education_id* — идентификатор уровня образования  \n",
        "*family_status* — семейное положение  \n",
        "*family_status_id* — идентификатор семейного положения  \n",
        "*gender* — пол клиента  \n",
        "*income_type* — тип занятости  \n",
        "*debt* — имел ли задолженность по возврату кредитов  \n",
        "*total_income* — ежемесячный доход  \n",
        "*purpose* — цель получения кредита  "
      ],
      "metadata": {
        "id": "7MxFVuLApUWr"
      },
      "id": "7MxFVuLApUWr"
    },
    {
      "cell_type": "code",
      "source": [
        "from google.colab import drive\n",
        "drive.mount('/content/drive')"
      ],
      "metadata": {
        "id": "e5MoJEdolSas",
        "outputId": "217982b0-bfcb-4d41-8c66-2b0df32b97c3",
        "colab": {
          "base_uri": "https://localhost:8080/"
        }
      },
      "id": "e5MoJEdolSas",
      "execution_count": 2,
      "outputs": [
        {
          "output_type": "stream",
          "name": "stdout",
          "text": [
            "Drive already mounted at /content/drive; to attempt to forcibly remount, call drive.mount(\"/content/drive\", force_remount=True).\n"
          ]
        }
      ]
    },
    {
      "cell_type": "markdown",
      "id": "2130c28d",
      "metadata": {
        "deletable": false,
        "editable": false,
        "id": "2130c28d"
      },
      "source": [
        "## Откройте таблицу и изучите общую информацию о данных"
      ]
    },
    {
      "cell_type": "markdown",
      "id": "9560e9f3",
      "metadata": {
        "deletable": false,
        "editable": false,
        "id": "9560e9f3"
      },
      "source": [
        "**Задание 1. Импортируйте библиотеку pandas. Считайте данные из csv-файла в датафрейм и сохраните в переменную `data`. Путь к файлу:**\n",
        "\n",
        "`/datasets/data.csv`"
      ]
    },
    {
      "cell_type": "code",
      "execution_count": 3,
      "id": "11e7abac",
      "metadata": {
        "deletable": false,
        "id": "11e7abac"
      },
      "outputs": [],
      "source": [
        "import pandas as pd\n",
        "\n",
        "try:\n",
        "    data = pd.read_csv('/datasets/data.csv')\n",
        "except:\n",
        "    data = pd.read_csv('https://code.s3.yandex.net/datasets/data.csv')"
      ]
    },
    {
      "cell_type": "markdown",
      "id": "788d8d4c",
      "metadata": {
        "deletable": false,
        "editable": false,
        "id": "788d8d4c"
      },
      "source": [
        "**Задание 2. Выведите первые 20 строчек датафрейма `data` на экран.**"
      ]
    },
    {
      "cell_type": "code",
      "execution_count": 4,
      "id": "1051aae5",
      "metadata": {
        "deletable": false,
        "id": "1051aae5",
        "outputId": "1d283dd1-3a0c-4106-b9f2-d89705aaee25",
        "colab": {
          "base_uri": "https://localhost:8080/",
          "height": 1000
        }
      },
      "outputs": [
        {
          "output_type": "execute_result",
          "data": {
            "text/plain": [
              "    children  days_employed  dob_years            education  education_id  \\\n",
              "0          1   -8437.673028         42               высшее             0   \n",
              "1          1   -4024.803754         36              среднее             1   \n",
              "2          0   -5623.422610         33              Среднее             1   \n",
              "3          3   -4124.747207         32              среднее             1   \n",
              "4          0  340266.072047         53              среднее             1   \n",
              "5          0    -926.185831         27               высшее             0   \n",
              "6          0   -2879.202052         43               высшее             0   \n",
              "7          0    -152.779569         50              СРЕДНЕЕ             1   \n",
              "8          2   -6929.865299         35               ВЫСШЕЕ             0   \n",
              "9          0   -2188.756445         41              среднее             1   \n",
              "10         2   -4171.483647         36               высшее             0   \n",
              "11         0    -792.701887         40              среднее             1   \n",
              "12         0            NaN         65              среднее             1   \n",
              "13         0   -1846.641941         54  неоконченное высшее             2   \n",
              "14         0   -1844.956182         56               высшее             0   \n",
              "15         1    -972.364419         26              среднее             1   \n",
              "16         0   -1719.934226         35              среднее             1   \n",
              "17         0   -2369.999720         33               высшее             0   \n",
              "18         0  400281.136913         53              среднее             1   \n",
              "19         0  -10038.818549         48              СРЕДНЕЕ             1   \n",
              "\n",
              "       family_status  family_status_id gender income_type  debt  \\\n",
              "0    женат / замужем                 0      F   сотрудник     0   \n",
              "1    женат / замужем                 0      F   сотрудник     0   \n",
              "2    женат / замужем                 0      M   сотрудник     0   \n",
              "3    женат / замужем                 0      M   сотрудник     0   \n",
              "4   гражданский брак                 1      F   пенсионер     0   \n",
              "5   гражданский брак                 1      M   компаньон     0   \n",
              "6    женат / замужем                 0      F   компаньон     0   \n",
              "7    женат / замужем                 0      M   сотрудник     0   \n",
              "8   гражданский брак                 1      F   сотрудник     0   \n",
              "9    женат / замужем                 0      M   сотрудник     0   \n",
              "10   женат / замужем                 0      M   компаньон     0   \n",
              "11   женат / замужем                 0      F   сотрудник     0   \n",
              "12  гражданский брак                 1      M   пенсионер     0   \n",
              "13   женат / замужем                 0      F   сотрудник     0   \n",
              "14  гражданский брак                 1      F   компаньон     1   \n",
              "15   женат / замужем                 0      F   сотрудник     0   \n",
              "16   женат / замужем                 0      F   сотрудник     0   \n",
              "17  гражданский брак                 1      M   сотрудник     0   \n",
              "18    вдовец / вдова                 2      F   пенсионер     0   \n",
              "19         в разводе                 3      F   сотрудник     0   \n",
              "\n",
              "     total_income                                 purpose  \n",
              "0   253875.639453                           покупка жилья  \n",
              "1   112080.014102                 приобретение автомобиля  \n",
              "2   145885.952297                           покупка жилья  \n",
              "3   267628.550329              дополнительное образование  \n",
              "4   158616.077870                         сыграть свадьбу  \n",
              "5   255763.565419                           покупка жилья  \n",
              "6   240525.971920                       операции с жильем  \n",
              "7   135823.934197                             образование  \n",
              "8    95856.832424                   на проведение свадьбы  \n",
              "9   144425.938277                 покупка жилья для семьи  \n",
              "10  113943.491460                    покупка недвижимости  \n",
              "11   77069.234271       покупка коммерческой недвижимости  \n",
              "12            NaN                         сыграть свадьбу  \n",
              "13  130458.228857                 приобретение автомобиля  \n",
              "14  165127.911772              покупка жилой недвижимости  \n",
              "15  116820.904450  строительство собственной недвижимости  \n",
              "16  289202.704229                            недвижимость  \n",
              "17   90410.586745              строительство недвижимости  \n",
              "18   56823.777243      на покупку подержанного автомобиля  \n",
              "19  242831.107982            на покупку своего автомобиля  "
            ],
            "text/html": [
              "\n",
              "  <div id=\"df-326d36ab-6936-4643-b70c-f317d049aca5\" class=\"colab-df-container\">\n",
              "    <div>\n",
              "<style scoped>\n",
              "    .dataframe tbody tr th:only-of-type {\n",
              "        vertical-align: middle;\n",
              "    }\n",
              "\n",
              "    .dataframe tbody tr th {\n",
              "        vertical-align: top;\n",
              "    }\n",
              "\n",
              "    .dataframe thead th {\n",
              "        text-align: right;\n",
              "    }\n",
              "</style>\n",
              "<table border=\"1\" class=\"dataframe\">\n",
              "  <thead>\n",
              "    <tr style=\"text-align: right;\">\n",
              "      <th></th>\n",
              "      <th>children</th>\n",
              "      <th>days_employed</th>\n",
              "      <th>dob_years</th>\n",
              "      <th>education</th>\n",
              "      <th>education_id</th>\n",
              "      <th>family_status</th>\n",
              "      <th>family_status_id</th>\n",
              "      <th>gender</th>\n",
              "      <th>income_type</th>\n",
              "      <th>debt</th>\n",
              "      <th>total_income</th>\n",
              "      <th>purpose</th>\n",
              "    </tr>\n",
              "  </thead>\n",
              "  <tbody>\n",
              "    <tr>\n",
              "      <th>0</th>\n",
              "      <td>1</td>\n",
              "      <td>-8437.673028</td>\n",
              "      <td>42</td>\n",
              "      <td>высшее</td>\n",
              "      <td>0</td>\n",
              "      <td>женат / замужем</td>\n",
              "      <td>0</td>\n",
              "      <td>F</td>\n",
              "      <td>сотрудник</td>\n",
              "      <td>0</td>\n",
              "      <td>253875.639453</td>\n",
              "      <td>покупка жилья</td>\n",
              "    </tr>\n",
              "    <tr>\n",
              "      <th>1</th>\n",
              "      <td>1</td>\n",
              "      <td>-4024.803754</td>\n",
              "      <td>36</td>\n",
              "      <td>среднее</td>\n",
              "      <td>1</td>\n",
              "      <td>женат / замужем</td>\n",
              "      <td>0</td>\n",
              "      <td>F</td>\n",
              "      <td>сотрудник</td>\n",
              "      <td>0</td>\n",
              "      <td>112080.014102</td>\n",
              "      <td>приобретение автомобиля</td>\n",
              "    </tr>\n",
              "    <tr>\n",
              "      <th>2</th>\n",
              "      <td>0</td>\n",
              "      <td>-5623.422610</td>\n",
              "      <td>33</td>\n",
              "      <td>Среднее</td>\n",
              "      <td>1</td>\n",
              "      <td>женат / замужем</td>\n",
              "      <td>0</td>\n",
              "      <td>M</td>\n",
              "      <td>сотрудник</td>\n",
              "      <td>0</td>\n",
              "      <td>145885.952297</td>\n",
              "      <td>покупка жилья</td>\n",
              "    </tr>\n",
              "    <tr>\n",
              "      <th>3</th>\n",
              "      <td>3</td>\n",
              "      <td>-4124.747207</td>\n",
              "      <td>32</td>\n",
              "      <td>среднее</td>\n",
              "      <td>1</td>\n",
              "      <td>женат / замужем</td>\n",
              "      <td>0</td>\n",
              "      <td>M</td>\n",
              "      <td>сотрудник</td>\n",
              "      <td>0</td>\n",
              "      <td>267628.550329</td>\n",
              "      <td>дополнительное образование</td>\n",
              "    </tr>\n",
              "    <tr>\n",
              "      <th>4</th>\n",
              "      <td>0</td>\n",
              "      <td>340266.072047</td>\n",
              "      <td>53</td>\n",
              "      <td>среднее</td>\n",
              "      <td>1</td>\n",
              "      <td>гражданский брак</td>\n",
              "      <td>1</td>\n",
              "      <td>F</td>\n",
              "      <td>пенсионер</td>\n",
              "      <td>0</td>\n",
              "      <td>158616.077870</td>\n",
              "      <td>сыграть свадьбу</td>\n",
              "    </tr>\n",
              "    <tr>\n",
              "      <th>5</th>\n",
              "      <td>0</td>\n",
              "      <td>-926.185831</td>\n",
              "      <td>27</td>\n",
              "      <td>высшее</td>\n",
              "      <td>0</td>\n",
              "      <td>гражданский брак</td>\n",
              "      <td>1</td>\n",
              "      <td>M</td>\n",
              "      <td>компаньон</td>\n",
              "      <td>0</td>\n",
              "      <td>255763.565419</td>\n",
              "      <td>покупка жилья</td>\n",
              "    </tr>\n",
              "    <tr>\n",
              "      <th>6</th>\n",
              "      <td>0</td>\n",
              "      <td>-2879.202052</td>\n",
              "      <td>43</td>\n",
              "      <td>высшее</td>\n",
              "      <td>0</td>\n",
              "      <td>женат / замужем</td>\n",
              "      <td>0</td>\n",
              "      <td>F</td>\n",
              "      <td>компаньон</td>\n",
              "      <td>0</td>\n",
              "      <td>240525.971920</td>\n",
              "      <td>операции с жильем</td>\n",
              "    </tr>\n",
              "    <tr>\n",
              "      <th>7</th>\n",
              "      <td>0</td>\n",
              "      <td>-152.779569</td>\n",
              "      <td>50</td>\n",
              "      <td>СРЕДНЕЕ</td>\n",
              "      <td>1</td>\n",
              "      <td>женат / замужем</td>\n",
              "      <td>0</td>\n",
              "      <td>M</td>\n",
              "      <td>сотрудник</td>\n",
              "      <td>0</td>\n",
              "      <td>135823.934197</td>\n",
              "      <td>образование</td>\n",
              "    </tr>\n",
              "    <tr>\n",
              "      <th>8</th>\n",
              "      <td>2</td>\n",
              "      <td>-6929.865299</td>\n",
              "      <td>35</td>\n",
              "      <td>ВЫСШЕЕ</td>\n",
              "      <td>0</td>\n",
              "      <td>гражданский брак</td>\n",
              "      <td>1</td>\n",
              "      <td>F</td>\n",
              "      <td>сотрудник</td>\n",
              "      <td>0</td>\n",
              "      <td>95856.832424</td>\n",
              "      <td>на проведение свадьбы</td>\n",
              "    </tr>\n",
              "    <tr>\n",
              "      <th>9</th>\n",
              "      <td>0</td>\n",
              "      <td>-2188.756445</td>\n",
              "      <td>41</td>\n",
              "      <td>среднее</td>\n",
              "      <td>1</td>\n",
              "      <td>женат / замужем</td>\n",
              "      <td>0</td>\n",
              "      <td>M</td>\n",
              "      <td>сотрудник</td>\n",
              "      <td>0</td>\n",
              "      <td>144425.938277</td>\n",
              "      <td>покупка жилья для семьи</td>\n",
              "    </tr>\n",
              "    <tr>\n",
              "      <th>10</th>\n",
              "      <td>2</td>\n",
              "      <td>-4171.483647</td>\n",
              "      <td>36</td>\n",
              "      <td>высшее</td>\n",
              "      <td>0</td>\n",
              "      <td>женат / замужем</td>\n",
              "      <td>0</td>\n",
              "      <td>M</td>\n",
              "      <td>компаньон</td>\n",
              "      <td>0</td>\n",
              "      <td>113943.491460</td>\n",
              "      <td>покупка недвижимости</td>\n",
              "    </tr>\n",
              "    <tr>\n",
              "      <th>11</th>\n",
              "      <td>0</td>\n",
              "      <td>-792.701887</td>\n",
              "      <td>40</td>\n",
              "      <td>среднее</td>\n",
              "      <td>1</td>\n",
              "      <td>женат / замужем</td>\n",
              "      <td>0</td>\n",
              "      <td>F</td>\n",
              "      <td>сотрудник</td>\n",
              "      <td>0</td>\n",
              "      <td>77069.234271</td>\n",
              "      <td>покупка коммерческой недвижимости</td>\n",
              "    </tr>\n",
              "    <tr>\n",
              "      <th>12</th>\n",
              "      <td>0</td>\n",
              "      <td>NaN</td>\n",
              "      <td>65</td>\n",
              "      <td>среднее</td>\n",
              "      <td>1</td>\n",
              "      <td>гражданский брак</td>\n",
              "      <td>1</td>\n",
              "      <td>M</td>\n",
              "      <td>пенсионер</td>\n",
              "      <td>0</td>\n",
              "      <td>NaN</td>\n",
              "      <td>сыграть свадьбу</td>\n",
              "    </tr>\n",
              "    <tr>\n",
              "      <th>13</th>\n",
              "      <td>0</td>\n",
              "      <td>-1846.641941</td>\n",
              "      <td>54</td>\n",
              "      <td>неоконченное высшее</td>\n",
              "      <td>2</td>\n",
              "      <td>женат / замужем</td>\n",
              "      <td>0</td>\n",
              "      <td>F</td>\n",
              "      <td>сотрудник</td>\n",
              "      <td>0</td>\n",
              "      <td>130458.228857</td>\n",
              "      <td>приобретение автомобиля</td>\n",
              "    </tr>\n",
              "    <tr>\n",
              "      <th>14</th>\n",
              "      <td>0</td>\n",
              "      <td>-1844.956182</td>\n",
              "      <td>56</td>\n",
              "      <td>высшее</td>\n",
              "      <td>0</td>\n",
              "      <td>гражданский брак</td>\n",
              "      <td>1</td>\n",
              "      <td>F</td>\n",
              "      <td>компаньон</td>\n",
              "      <td>1</td>\n",
              "      <td>165127.911772</td>\n",
              "      <td>покупка жилой недвижимости</td>\n",
              "    </tr>\n",
              "    <tr>\n",
              "      <th>15</th>\n",
              "      <td>1</td>\n",
              "      <td>-972.364419</td>\n",
              "      <td>26</td>\n",
              "      <td>среднее</td>\n",
              "      <td>1</td>\n",
              "      <td>женат / замужем</td>\n",
              "      <td>0</td>\n",
              "      <td>F</td>\n",
              "      <td>сотрудник</td>\n",
              "      <td>0</td>\n",
              "      <td>116820.904450</td>\n",
              "      <td>строительство собственной недвижимости</td>\n",
              "    </tr>\n",
              "    <tr>\n",
              "      <th>16</th>\n",
              "      <td>0</td>\n",
              "      <td>-1719.934226</td>\n",
              "      <td>35</td>\n",
              "      <td>среднее</td>\n",
              "      <td>1</td>\n",
              "      <td>женат / замужем</td>\n",
              "      <td>0</td>\n",
              "      <td>F</td>\n",
              "      <td>сотрудник</td>\n",
              "      <td>0</td>\n",
              "      <td>289202.704229</td>\n",
              "      <td>недвижимость</td>\n",
              "    </tr>\n",
              "    <tr>\n",
              "      <th>17</th>\n",
              "      <td>0</td>\n",
              "      <td>-2369.999720</td>\n",
              "      <td>33</td>\n",
              "      <td>высшее</td>\n",
              "      <td>0</td>\n",
              "      <td>гражданский брак</td>\n",
              "      <td>1</td>\n",
              "      <td>M</td>\n",
              "      <td>сотрудник</td>\n",
              "      <td>0</td>\n",
              "      <td>90410.586745</td>\n",
              "      <td>строительство недвижимости</td>\n",
              "    </tr>\n",
              "    <tr>\n",
              "      <th>18</th>\n",
              "      <td>0</td>\n",
              "      <td>400281.136913</td>\n",
              "      <td>53</td>\n",
              "      <td>среднее</td>\n",
              "      <td>1</td>\n",
              "      <td>вдовец / вдова</td>\n",
              "      <td>2</td>\n",
              "      <td>F</td>\n",
              "      <td>пенсионер</td>\n",
              "      <td>0</td>\n",
              "      <td>56823.777243</td>\n",
              "      <td>на покупку подержанного автомобиля</td>\n",
              "    </tr>\n",
              "    <tr>\n",
              "      <th>19</th>\n",
              "      <td>0</td>\n",
              "      <td>-10038.818549</td>\n",
              "      <td>48</td>\n",
              "      <td>СРЕДНЕЕ</td>\n",
              "      <td>1</td>\n",
              "      <td>в разводе</td>\n",
              "      <td>3</td>\n",
              "      <td>F</td>\n",
              "      <td>сотрудник</td>\n",
              "      <td>0</td>\n",
              "      <td>242831.107982</td>\n",
              "      <td>на покупку своего автомобиля</td>\n",
              "    </tr>\n",
              "  </tbody>\n",
              "</table>\n",
              "</div>\n",
              "    <div class=\"colab-df-buttons\">\n",
              "\n",
              "  <div class=\"colab-df-container\">\n",
              "    <button class=\"colab-df-convert\" onclick=\"convertToInteractive('df-326d36ab-6936-4643-b70c-f317d049aca5')\"\n",
              "            title=\"Convert this dataframe to an interactive table.\"\n",
              "            style=\"display:none;\">\n",
              "\n",
              "  <svg xmlns=\"http://www.w3.org/2000/svg\" height=\"24px\" viewBox=\"0 -960 960 960\">\n",
              "    <path d=\"M120-120v-720h720v720H120Zm60-500h600v-160H180v160Zm220 220h160v-160H400v160Zm0 220h160v-160H400v160ZM180-400h160v-160H180v160Zm440 0h160v-160H620v160ZM180-180h160v-160H180v160Zm440 0h160v-160H620v160Z\"/>\n",
              "  </svg>\n",
              "    </button>\n",
              "\n",
              "  <style>\n",
              "    .colab-df-container {\n",
              "      display:flex;\n",
              "      gap: 12px;\n",
              "    }\n",
              "\n",
              "    .colab-df-convert {\n",
              "      background-color: #E8F0FE;\n",
              "      border: none;\n",
              "      border-radius: 50%;\n",
              "      cursor: pointer;\n",
              "      display: none;\n",
              "      fill: #1967D2;\n",
              "      height: 32px;\n",
              "      padding: 0 0 0 0;\n",
              "      width: 32px;\n",
              "    }\n",
              "\n",
              "    .colab-df-convert:hover {\n",
              "      background-color: #E2EBFA;\n",
              "      box-shadow: 0px 1px 2px rgba(60, 64, 67, 0.3), 0px 1px 3px 1px rgba(60, 64, 67, 0.15);\n",
              "      fill: #174EA6;\n",
              "    }\n",
              "\n",
              "    .colab-df-buttons div {\n",
              "      margin-bottom: 4px;\n",
              "    }\n",
              "\n",
              "    [theme=dark] .colab-df-convert {\n",
              "      background-color: #3B4455;\n",
              "      fill: #D2E3FC;\n",
              "    }\n",
              "\n",
              "    [theme=dark] .colab-df-convert:hover {\n",
              "      background-color: #434B5C;\n",
              "      box-shadow: 0px 1px 3px 1px rgba(0, 0, 0, 0.15);\n",
              "      filter: drop-shadow(0px 1px 2px rgba(0, 0, 0, 0.3));\n",
              "      fill: #FFFFFF;\n",
              "    }\n",
              "  </style>\n",
              "\n",
              "    <script>\n",
              "      const buttonEl =\n",
              "        document.querySelector('#df-326d36ab-6936-4643-b70c-f317d049aca5 button.colab-df-convert');\n",
              "      buttonEl.style.display =\n",
              "        google.colab.kernel.accessAllowed ? 'block' : 'none';\n",
              "\n",
              "      async function convertToInteractive(key) {\n",
              "        const element = document.querySelector('#df-326d36ab-6936-4643-b70c-f317d049aca5');\n",
              "        const dataTable =\n",
              "          await google.colab.kernel.invokeFunction('convertToInteractive',\n",
              "                                                    [key], {});\n",
              "        if (!dataTable) return;\n",
              "\n",
              "        const docLinkHtml = 'Like what you see? Visit the ' +\n",
              "          '<a target=\"_blank\" href=https://colab.research.google.com/notebooks/data_table.ipynb>data table notebook</a>'\n",
              "          + ' to learn more about interactive tables.';\n",
              "        element.innerHTML = '';\n",
              "        dataTable['output_type'] = 'display_data';\n",
              "        await google.colab.output.renderOutput(dataTable, element);\n",
              "        const docLink = document.createElement('div');\n",
              "        docLink.innerHTML = docLinkHtml;\n",
              "        element.appendChild(docLink);\n",
              "      }\n",
              "    </script>\n",
              "  </div>\n",
              "\n",
              "\n",
              "<div id=\"df-9939ce3f-d521-4969-8145-c01bbaae6531\">\n",
              "  <button class=\"colab-df-quickchart\" onclick=\"quickchart('df-9939ce3f-d521-4969-8145-c01bbaae6531')\"\n",
              "            title=\"Suggest charts\"\n",
              "            style=\"display:none;\">\n",
              "\n",
              "<svg xmlns=\"http://www.w3.org/2000/svg\" height=\"24px\"viewBox=\"0 0 24 24\"\n",
              "     width=\"24px\">\n",
              "    <g>\n",
              "        <path d=\"M19 3H5c-1.1 0-2 .9-2 2v14c0 1.1.9 2 2 2h14c1.1 0 2-.9 2-2V5c0-1.1-.9-2-2-2zM9 17H7v-7h2v7zm4 0h-2V7h2v10zm4 0h-2v-4h2v4z\"/>\n",
              "    </g>\n",
              "</svg>\n",
              "  </button>\n",
              "\n",
              "<style>\n",
              "  .colab-df-quickchart {\n",
              "      --bg-color: #E8F0FE;\n",
              "      --fill-color: #1967D2;\n",
              "      --hover-bg-color: #E2EBFA;\n",
              "      --hover-fill-color: #174EA6;\n",
              "      --disabled-fill-color: #AAA;\n",
              "      --disabled-bg-color: #DDD;\n",
              "  }\n",
              "\n",
              "  [theme=dark] .colab-df-quickchart {\n",
              "      --bg-color: #3B4455;\n",
              "      --fill-color: #D2E3FC;\n",
              "      --hover-bg-color: #434B5C;\n",
              "      --hover-fill-color: #FFFFFF;\n",
              "      --disabled-bg-color: #3B4455;\n",
              "      --disabled-fill-color: #666;\n",
              "  }\n",
              "\n",
              "  .colab-df-quickchart {\n",
              "    background-color: var(--bg-color);\n",
              "    border: none;\n",
              "    border-radius: 50%;\n",
              "    cursor: pointer;\n",
              "    display: none;\n",
              "    fill: var(--fill-color);\n",
              "    height: 32px;\n",
              "    padding: 0;\n",
              "    width: 32px;\n",
              "  }\n",
              "\n",
              "  .colab-df-quickchart:hover {\n",
              "    background-color: var(--hover-bg-color);\n",
              "    box-shadow: 0 1px 2px rgba(60, 64, 67, 0.3), 0 1px 3px 1px rgba(60, 64, 67, 0.15);\n",
              "    fill: var(--button-hover-fill-color);\n",
              "  }\n",
              "\n",
              "  .colab-df-quickchart-complete:disabled,\n",
              "  .colab-df-quickchart-complete:disabled:hover {\n",
              "    background-color: var(--disabled-bg-color);\n",
              "    fill: var(--disabled-fill-color);\n",
              "    box-shadow: none;\n",
              "  }\n",
              "\n",
              "  .colab-df-spinner {\n",
              "    border: 2px solid var(--fill-color);\n",
              "    border-color: transparent;\n",
              "    border-bottom-color: var(--fill-color);\n",
              "    animation:\n",
              "      spin 1s steps(1) infinite;\n",
              "  }\n",
              "\n",
              "  @keyframes spin {\n",
              "    0% {\n",
              "      border-color: transparent;\n",
              "      border-bottom-color: var(--fill-color);\n",
              "      border-left-color: var(--fill-color);\n",
              "    }\n",
              "    20% {\n",
              "      border-color: transparent;\n",
              "      border-left-color: var(--fill-color);\n",
              "      border-top-color: var(--fill-color);\n",
              "    }\n",
              "    30% {\n",
              "      border-color: transparent;\n",
              "      border-left-color: var(--fill-color);\n",
              "      border-top-color: var(--fill-color);\n",
              "      border-right-color: var(--fill-color);\n",
              "    }\n",
              "    40% {\n",
              "      border-color: transparent;\n",
              "      border-right-color: var(--fill-color);\n",
              "      border-top-color: var(--fill-color);\n",
              "    }\n",
              "    60% {\n",
              "      border-color: transparent;\n",
              "      border-right-color: var(--fill-color);\n",
              "    }\n",
              "    80% {\n",
              "      border-color: transparent;\n",
              "      border-right-color: var(--fill-color);\n",
              "      border-bottom-color: var(--fill-color);\n",
              "    }\n",
              "    90% {\n",
              "      border-color: transparent;\n",
              "      border-bottom-color: var(--fill-color);\n",
              "    }\n",
              "  }\n",
              "</style>\n",
              "\n",
              "  <script>\n",
              "    async function quickchart(key) {\n",
              "      const quickchartButtonEl =\n",
              "        document.querySelector('#' + key + ' button');\n",
              "      quickchartButtonEl.disabled = true;  // To prevent multiple clicks.\n",
              "      quickchartButtonEl.classList.add('colab-df-spinner');\n",
              "      try {\n",
              "        const charts = await google.colab.kernel.invokeFunction(\n",
              "            'suggestCharts', [key], {});\n",
              "      } catch (error) {\n",
              "        console.error('Error during call to suggestCharts:', error);\n",
              "      }\n",
              "      quickchartButtonEl.classList.remove('colab-df-spinner');\n",
              "      quickchartButtonEl.classList.add('colab-df-quickchart-complete');\n",
              "    }\n",
              "    (() => {\n",
              "      let quickchartButtonEl =\n",
              "        document.querySelector('#df-9939ce3f-d521-4969-8145-c01bbaae6531 button');\n",
              "      quickchartButtonEl.style.display =\n",
              "        google.colab.kernel.accessAllowed ? 'block' : 'none';\n",
              "    })();\n",
              "  </script>\n",
              "</div>\n",
              "    </div>\n",
              "  </div>\n"
            ]
          },
          "metadata": {},
          "execution_count": 4
        }
      ],
      "source": [
        "data.head(20)"
      ]
    },
    {
      "cell_type": "markdown",
      "id": "83c63b53",
      "metadata": {
        "deletable": false,
        "editable": false,
        "id": "83c63b53"
      },
      "source": [
        "**Задание 3. Выведите основную информацию о датафрейме с помощью метода `info()`.**"
      ]
    },
    {
      "cell_type": "code",
      "execution_count": 5,
      "id": "1d201b72",
      "metadata": {
        "deletable": false,
        "id": "1d201b72",
        "outputId": "57f6a2c8-25d2-4d9e-9c31-1aba8f6e5973",
        "colab": {
          "base_uri": "https://localhost:8080/"
        }
      },
      "outputs": [
        {
          "output_type": "stream",
          "name": "stdout",
          "text": [
            "<class 'pandas.core.frame.DataFrame'>\n",
            "RangeIndex: 21525 entries, 0 to 21524\n",
            "Data columns (total 12 columns):\n",
            " #   Column            Non-Null Count  Dtype  \n",
            "---  ------            --------------  -----  \n",
            " 0   children          21525 non-null  int64  \n",
            " 1   days_employed     19351 non-null  float64\n",
            " 2   dob_years         21525 non-null  int64  \n",
            " 3   education         21525 non-null  object \n",
            " 4   education_id      21525 non-null  int64  \n",
            " 5   family_status     21525 non-null  object \n",
            " 6   family_status_id  21525 non-null  int64  \n",
            " 7   gender            21525 non-null  object \n",
            " 8   income_type       21525 non-null  object \n",
            " 9   debt              21525 non-null  int64  \n",
            " 10  total_income      19351 non-null  float64\n",
            " 11  purpose           21525 non-null  object \n",
            "dtypes: float64(2), int64(5), object(5)\n",
            "memory usage: 2.0+ MB\n"
          ]
        }
      ],
      "source": [
        "data.info()"
      ]
    },
    {
      "cell_type": "markdown",
      "id": "24c689af",
      "metadata": {
        "deletable": false,
        "editable": false,
        "id": "24c689af"
      },
      "source": [
        "## Предобработка данных"
      ]
    },
    {
      "cell_type": "markdown",
      "id": "e6265b6a",
      "metadata": {
        "deletable": false,
        "editable": false,
        "id": "e6265b6a"
      },
      "source": [
        "### Удаление пропусков"
      ]
    },
    {
      "cell_type": "markdown",
      "id": "84a62f8a",
      "metadata": {
        "deletable": false,
        "editable": false,
        "id": "84a62f8a"
      },
      "source": [
        "**Задание 4. Выведите количество пропущенных значений для каждого столбца. Используйте комбинацию двух методов.**"
      ]
    },
    {
      "cell_type": "code",
      "execution_count": 6,
      "id": "80c7af8c",
      "metadata": {
        "deletable": false,
        "id": "80c7af8c",
        "outputId": "42bfa1b5-3019-4b8f-a109-165fde265fed",
        "colab": {
          "base_uri": "https://localhost:8080/"
        }
      },
      "outputs": [
        {
          "output_type": "execute_result",
          "data": {
            "text/plain": [
              "children               0\n",
              "days_employed       2174\n",
              "dob_years              0\n",
              "education              0\n",
              "education_id           0\n",
              "family_status          0\n",
              "family_status_id       0\n",
              "gender                 0\n",
              "income_type            0\n",
              "debt                   0\n",
              "total_income        2174\n",
              "purpose                0\n",
              "dtype: int64"
            ]
          },
          "metadata": {},
          "execution_count": 6
        }
      ],
      "source": [
        "data.isna().sum()"
      ]
    },
    {
      "cell_type": "markdown",
      "id": "20ec50e0",
      "metadata": {
        "deletable": false,
        "editable": false,
        "id": "20ec50e0"
      },
      "source": [
        "**Задание 5. В двух столбцах есть пропущенные значения. Один из них — `days_employed`. Пропуски в этом столбце вы обработаете на следующем этапе. Другой столбец с пропущенными значениями — `total_income` — хранит данные о доходах. На сумму дохода сильнее всего влияет тип занятости, поэтому заполнить пропуски в этом столбце нужно медианным значением по каждому типу из столбца `income_type`. Например, у человека с типом занятости `сотрудник` пропуск в столбце `total_income` должен быть заполнен медианным доходом среди всех записей с тем же типом.**"
      ]
    },
    {
      "cell_type": "code",
      "execution_count": 7,
      "id": "9fb61c96",
      "metadata": {
        "deletable": false,
        "id": "9fb61c96"
      },
      "outputs": [],
      "source": [
        "for t in data['income_type'].unique():\n",
        "    data.loc[(data['income_type'] == t) & (data['total_income'].isna()), 'total_income'] = \\\n",
        "    data.loc[(data['income_type'] == t), 'total_income'].median()"
      ]
    },
    {
      "cell_type": "markdown",
      "id": "97e71930",
      "metadata": {
        "deletable": false,
        "editable": false,
        "id": "97e71930"
      },
      "source": [
        "### Обработка аномальных значений"
      ]
    },
    {
      "cell_type": "markdown",
      "id": "747c3b78",
      "metadata": {
        "deletable": false,
        "editable": false,
        "id": "747c3b78"
      },
      "source": [
        "**Задание 6. В данных могут встречаться артефакты (аномалии) — значения, которые не отражают действительность и появились по какой-то ошибке. таким артефактом будет отрицательное количество дней трудового стажа в столбце `days_employed`. Для реальных данных это нормально. Обработайте значения в этом столбце: замените все отрицательные значения положительными с помощью метода `abs()`.**"
      ]
    },
    {
      "cell_type": "code",
      "execution_count": 8,
      "id": "bd63341c",
      "metadata": {
        "deletable": false,
        "id": "bd63341c"
      },
      "outputs": [],
      "source": [
        "data['days_employed'] = data['days_employed'].abs()"
      ]
    },
    {
      "cell_type": "markdown",
      "id": "8f71982b",
      "metadata": {
        "deletable": false,
        "editable": false,
        "id": "8f71982b"
      },
      "source": [
        "**Задание 7. Для каждого типа занятости выведите медианное значение трудового стажа `days_employed` в днях.**"
      ]
    },
    {
      "cell_type": "code",
      "execution_count": 9,
      "id": "2fd3e407",
      "metadata": {
        "deletable": false,
        "id": "2fd3e407",
        "outputId": "53f3949c-5d5c-4869-a485-29f24cbcf8f4",
        "colab": {
          "base_uri": "https://localhost:8080/"
        }
      },
      "outputs": [
        {
          "output_type": "execute_result",
          "data": {
            "text/plain": [
              "income_type\n",
              "безработный        366413.652744\n",
              "в декрете            3296.759962\n",
              "госслужащий          2689.368353\n",
              "компаньон            1547.382223\n",
              "пенсионер          365213.306266\n",
              "предприниматель       520.848083\n",
              "сотрудник            1574.202821\n",
              "студент               578.751554\n",
              "Name: days_employed, dtype: float64"
            ]
          },
          "metadata": {},
          "execution_count": 9
        }
      ],
      "source": [
        "data.groupby('income_type')['days_employed'].agg('median')"
      ]
    },
    {
      "cell_type": "markdown",
      "id": "b294b881",
      "metadata": {
        "deletable": false,
        "editable": false,
        "id": "b294b881"
      },
      "source": [
        "У двух типов (безработные и пенсионеры) получатся аномально большие значения. Исправить такие значения сложно, поэтому оставьте их как есть. Тем более этот столбец не понадобится вам для исследования."
      ]
    },
    {
      "cell_type": "markdown",
      "id": "7fb5f79d",
      "metadata": {
        "deletable": false,
        "editable": false,
        "id": "7fb5f79d"
      },
      "source": [
        "**Задание 8. Выведите перечень уникальных значений столбца `children`.**"
      ]
    },
    {
      "cell_type": "code",
      "execution_count": 10,
      "id": "08259a30",
      "metadata": {
        "deletable": false,
        "id": "08259a30",
        "outputId": "90d94778-457e-4a98-ba04-e0d8bad1c338",
        "colab": {
          "base_uri": "https://localhost:8080/"
        }
      },
      "outputs": [
        {
          "output_type": "execute_result",
          "data": {
            "text/plain": [
              "array([ 1,  0,  3,  2, -1,  4, 20,  5])"
            ]
          },
          "metadata": {},
          "execution_count": 10
        }
      ],
      "source": [
        "data['children'].unique()"
      ]
    },
    {
      "cell_type": "markdown",
      "id": "9eeefd2d",
      "metadata": {
        "deletable": false,
        "editable": false,
        "id": "9eeefd2d"
      },
      "source": [
        "**Задание 9. В столбце `children` есть два аномальных значения. Удалите строки, в которых встречаются такие аномальные значения из датафрейма `data`.**"
      ]
    },
    {
      "cell_type": "code",
      "execution_count": 11,
      "id": "ffc2fdce",
      "metadata": {
        "deletable": false,
        "id": "ffc2fdce"
      },
      "outputs": [],
      "source": [
        "data = data[(data['children'] != -1) & (data['children'] != 20)]"
      ]
    },
    {
      "cell_type": "markdown",
      "id": "106d3a2d",
      "metadata": {
        "deletable": false,
        "editable": false,
        "id": "106d3a2d"
      },
      "source": [
        "**Задание 10. Ещё раз выведите перечень уникальных значений столбца `children`, чтобы убедиться, что артефакты удалены.**"
      ]
    },
    {
      "cell_type": "code",
      "execution_count": 12,
      "id": "9b0aa6a3",
      "metadata": {
        "deletable": false,
        "id": "9b0aa6a3",
        "outputId": "25ed93ae-f687-4bf2-b291-de175f99c9bc",
        "colab": {
          "base_uri": "https://localhost:8080/"
        }
      },
      "outputs": [
        {
          "output_type": "execute_result",
          "data": {
            "text/plain": [
              "array([1, 0, 3, 2, 4, 5])"
            ]
          },
          "metadata": {},
          "execution_count": 12
        }
      ],
      "source": [
        "data['children'].unique()"
      ]
    },
    {
      "cell_type": "markdown",
      "id": "629aa663",
      "metadata": {
        "deletable": false,
        "editable": false,
        "id": "629aa663"
      },
      "source": [
        "### Удаление пропусков (продолжение)"
      ]
    },
    {
      "cell_type": "markdown",
      "id": "48af5201",
      "metadata": {
        "deletable": false,
        "editable": false,
        "id": "48af5201"
      },
      "source": [
        "**Задание 11. Заполните пропуски в столбце `days_employed` медианными значениями по каждого типа занятости `income_type`.**"
      ]
    },
    {
      "cell_type": "code",
      "execution_count": 13,
      "id": "359e17b4",
      "metadata": {
        "deletable": false,
        "id": "359e17b4"
      },
      "outputs": [],
      "source": [
        "for t in data['income_type'].unique():\n",
        "    data.loc[(data['income_type'] == t) & (data['days_employed'].isna()), 'days_employed'] = \\\n",
        "    data.loc[(data['income_type'] == t), 'days_employed'].median()"
      ]
    },
    {
      "cell_type": "markdown",
      "id": "7bebbb88",
      "metadata": {
        "deletable": false,
        "editable": false,
        "id": "7bebbb88"
      },
      "source": [
        "**Задание 12. Убедитесь, что все пропуски заполнены. Проверьте себя и ещё раз выведите количество пропущенных значений для каждого столбца с помощью двух методов.**"
      ]
    },
    {
      "cell_type": "code",
      "execution_count": 14,
      "id": "38c0f86c",
      "metadata": {
        "deletable": false,
        "id": "38c0f86c",
        "outputId": "921b71ce-aef9-4f2b-daea-5880cd7551d7",
        "colab": {
          "base_uri": "https://localhost:8080/"
        }
      },
      "outputs": [
        {
          "output_type": "execute_result",
          "data": {
            "text/plain": [
              "children            0\n",
              "days_employed       0\n",
              "dob_years           0\n",
              "education           0\n",
              "education_id        0\n",
              "family_status       0\n",
              "family_status_id    0\n",
              "gender              0\n",
              "income_type         0\n",
              "debt                0\n",
              "total_income        0\n",
              "purpose             0\n",
              "dtype: int64"
            ]
          },
          "metadata": {},
          "execution_count": 14
        }
      ],
      "source": [
        "data.isna().sum()"
      ]
    },
    {
      "cell_type": "markdown",
      "id": "b566f4a4",
      "metadata": {
        "deletable": false,
        "editable": false,
        "id": "b566f4a4"
      },
      "source": [
        "### Изменение типов данных"
      ]
    },
    {
      "cell_type": "markdown",
      "id": "6939076b",
      "metadata": {
        "deletable": false,
        "editable": false,
        "id": "6939076b"
      },
      "source": [
        "**Задание 13. Замените вещественный тип данных в столбце `total_income` на целочисленный с помощью метода `astype()`.**"
      ]
    },
    {
      "cell_type": "code",
      "execution_count": 15,
      "id": "001f9245",
      "metadata": {
        "deletable": false,
        "id": "001f9245"
      },
      "outputs": [],
      "source": [
        "data['total_income'] = data['total_income'].astype(int)"
      ]
    },
    {
      "cell_type": "markdown",
      "id": "f45c35c6",
      "metadata": {
        "deletable": false,
        "editable": false,
        "id": "f45c35c6"
      },
      "source": [
        "### Обработка дубликатов"
      ]
    },
    {
      "cell_type": "markdown",
      "id": "5cf6af8a",
      "metadata": {
        "deletable": false,
        "editable": false,
        "id": "5cf6af8a"
      },
      "source": [
        "**Задание 14. Обработайте неявные дубликаты в столбце `education`. В этом столбце есть одни и те же значения, но записанные по-разному: с использованием заглавных и строчных букв. Приведите их к нижнему регистру. Проверьте остальные столбцы.**"
      ]
    },
    {
      "cell_type": "code",
      "execution_count": 16,
      "id": "e4612b51",
      "metadata": {
        "deletable": false,
        "id": "e4612b51"
      },
      "outputs": [],
      "source": [
        "data['education'] = data['education'].str.lower()"
      ]
    },
    {
      "cell_type": "markdown",
      "id": "d97a3130",
      "metadata": {
        "deletable": false,
        "editable": false,
        "id": "d97a3130"
      },
      "source": [
        "**Задание 15. Выведите на экран количество строк-дубликатов в данных. Если такие строки присутствуют, удалите их.**"
      ]
    },
    {
      "cell_type": "code",
      "execution_count": 17,
      "id": "2b1a8149",
      "metadata": {
        "deletable": false,
        "id": "2b1a8149",
        "outputId": "bc8ac135-e3f6-43f1-e070-b8e380ca17a0",
        "colab": {
          "base_uri": "https://localhost:8080/"
        }
      },
      "outputs": [
        {
          "output_type": "execute_result",
          "data": {
            "text/plain": [
              "71"
            ]
          },
          "metadata": {},
          "execution_count": 17
        }
      ],
      "source": [
        "data.duplicated().sum()"
      ]
    },
    {
      "cell_type": "code",
      "execution_count": 18,
      "id": "6356b804",
      "metadata": {
        "deletable": false,
        "id": "6356b804"
      },
      "outputs": [],
      "source": [
        "data = data.drop_duplicates()"
      ]
    },
    {
      "cell_type": "markdown",
      "id": "945d9945",
      "metadata": {
        "deletable": false,
        "editable": false,
        "id": "945d9945"
      },
      "source": [
        "### Категоризация данных"
      ]
    },
    {
      "cell_type": "markdown",
      "id": "3fc14b93",
      "metadata": {
        "deletable": false,
        "editable": false,
        "id": "3fc14b93"
      },
      "source": [
        "**Задание 16. На основании диапазонов, указанных ниже, создайте в датафрейме `data` столбец `total_income_category` с категориями:**\n",
        "\n",
        "- 0–30000 — `'E'`;\n",
        "- 30001–50000 — `'D'`;\n",
        "- 50001–200000 — `'C'`;\n",
        "- 200001–1000000 — `'B'`;\n",
        "- 1000001 и выше — `'A'`.\n",
        "\n",
        "\n",
        "**Например, кредитополучателю с доходом 25000 нужно назначить категорию `'E'`, а клиенту, получающему 235000, — `'B'`. Используйте собственную функцию с именем `categorize_income()` и метод `apply()`.**"
      ]
    },
    {
      "cell_type": "code",
      "execution_count": 19,
      "id": "1b3cdc44",
      "metadata": {
        "deletable": false,
        "id": "1b3cdc44"
      },
      "outputs": [],
      "source": [
        "def categorize_income(income):\n",
        "    try:\n",
        "        if 0 <= income <= 30000:\n",
        "            return 'E'\n",
        "        elif 30001 <= income <= 50000:\n",
        "            return 'D'\n",
        "        elif 50001 <= income <= 200000:\n",
        "            return 'C'\n",
        "        elif 200001 <= income <= 1000000:\n",
        "            return 'B'\n",
        "        elif income >= 1000001:\n",
        "            return 'A'\n",
        "    except:\n",
        "        pass"
      ]
    },
    {
      "cell_type": "code",
      "execution_count": 20,
      "id": "8093aed3",
      "metadata": {
        "deletable": false,
        "id": "8093aed3",
        "colab": {
          "base_uri": "https://localhost:8080/"
        },
        "outputId": "4102a2a3-d806-4826-99f0-a3c605a51bb5"
      },
      "outputs": [
        {
          "output_type": "stream",
          "name": "stderr",
          "text": [
            "<ipython-input-20-0bc713f3049f>:1: SettingWithCopyWarning: \n",
            "A value is trying to be set on a copy of a slice from a DataFrame.\n",
            "Try using .loc[row_indexer,col_indexer] = value instead\n",
            "\n",
            "See the caveats in the documentation: https://pandas.pydata.org/pandas-docs/stable/user_guide/indexing.html#returning-a-view-versus-a-copy\n",
            "  data['total_income_category'] = data['total_income'].apply(categorize_income)\n"
          ]
        }
      ],
      "source": [
        "data['total_income_category'] = data['total_income'].apply(categorize_income)"
      ]
    },
    {
      "cell_type": "markdown",
      "id": "650dbe79",
      "metadata": {
        "deletable": false,
        "editable": false,
        "id": "650dbe79"
      },
      "source": [
        "**Задание 17. Выведите на экран перечень уникальных целей взятия кредита из столбца `purpose`.**"
      ]
    },
    {
      "cell_type": "code",
      "execution_count": 21,
      "id": "027d380f",
      "metadata": {
        "deletable": false,
        "id": "027d380f",
        "outputId": "8021eb5e-2e51-4726-e7fe-31a27e9e5e46",
        "colab": {
          "base_uri": "https://localhost:8080/"
        }
      },
      "outputs": [
        {
          "output_type": "execute_result",
          "data": {
            "text/plain": [
              "array(['покупка жилья', 'приобретение автомобиля',\n",
              "       'дополнительное образование', 'сыграть свадьбу',\n",
              "       'операции с жильем', 'образование', 'на проведение свадьбы',\n",
              "       'покупка жилья для семьи', 'покупка недвижимости',\n",
              "       'покупка коммерческой недвижимости', 'покупка жилой недвижимости',\n",
              "       'строительство собственной недвижимости', 'недвижимость',\n",
              "       'строительство недвижимости', 'на покупку подержанного автомобиля',\n",
              "       'на покупку своего автомобиля',\n",
              "       'операции с коммерческой недвижимостью',\n",
              "       'строительство жилой недвижимости', 'жилье',\n",
              "       'операции со своей недвижимостью', 'автомобили',\n",
              "       'заняться образованием', 'сделка с подержанным автомобилем',\n",
              "       'получение образования', 'автомобиль', 'свадьба',\n",
              "       'получение дополнительного образования', 'покупка своего жилья',\n",
              "       'операции с недвижимостью', 'получение высшего образования',\n",
              "       'свой автомобиль', 'сделка с автомобилем',\n",
              "       'профильное образование', 'высшее образование',\n",
              "       'покупка жилья для сдачи', 'на покупку автомобиля', 'ремонт жилью',\n",
              "       'заняться высшим образованием'], dtype=object)"
            ]
          },
          "metadata": {},
          "execution_count": 21
        }
      ],
      "source": [
        "data['purpose'].unique()"
      ]
    },
    {
      "cell_type": "markdown",
      "id": "9e6074cf",
      "metadata": {
        "deletable": false,
        "editable": false,
        "id": "9e6074cf"
      },
      "source": [
        "**Задание 18. Создайте функцию, которая на основании данных из столбца `purpose` сформирует новый столбец `purpose_category`, в который войдут следующие категории:**\n",
        "\n",
        "- `'операции с автомобилем'`,\n",
        "- `'операции с недвижимостью'`,\n",
        "- `'проведение свадьбы'`,\n",
        "- `'получение образования'`.\n",
        "\n",
        "**Например, если в столбце `purpose` находится подстрока `'на покупку автомобиля'`, то в столбце `purpose_category` должна появиться строка `'операции с автомобилем'`.**\n",
        "\n",
        "**Используйте собственную функцию с именем `categorize_purpose()` и метод `apply()`. Изучите данные в столбце `purpose` и определите, какие подстроки помогут вам правильно определить категорию.**"
      ]
    },
    {
      "cell_type": "code",
      "execution_count": 22,
      "id": "1cc81f97",
      "metadata": {
        "deletable": false,
        "id": "1cc81f97"
      },
      "outputs": [],
      "source": [
        "def categorize_purpose(row):\n",
        "    try:\n",
        "        if 'автом' in row:\n",
        "            return 'операции с автомобилем'\n",
        "        elif 'жил' in row or 'недвиж' in row:\n",
        "            return 'операции с недвижимостью'\n",
        "        elif 'свад' in row:\n",
        "            return 'проведение свадьбы'\n",
        "        elif 'образов' in row:\n",
        "            return 'получение образования'\n",
        "    except:\n",
        "        return 'нет категории'"
      ]
    },
    {
      "cell_type": "code",
      "execution_count": 23,
      "id": "3d70f7e5",
      "metadata": {
        "deletable": false,
        "id": "3d70f7e5"
      },
      "outputs": [],
      "source": [
        "data['purpose_category'] = data['purpose'].apply(categorize_purpose)"
      ]
    },
    {
      "cell_type": "markdown",
      "id": "6e17d009",
      "metadata": {
        "deletable": false,
        "editable": false,
        "id": "6e17d009"
      },
      "source": [
        "### Шаг 3. Исследуйте данные и ответьте на вопросы"
      ]
    },
    {
      "cell_type": "markdown",
      "id": "e0db5804",
      "metadata": {
        "deletable": false,
        "editable": false,
        "id": "e0db5804"
      },
      "source": [
        "#### 3.1 Есть ли зависимость между количеством детей и возвратом кредита в срок?"
      ]
    },
    {
      "cell_type": "markdown",
      "source": [
        "Смотрим, какое количество заемщиков имеют больше трёх детей.\n",
        "Есть предположение, что для выводов будет удобнее объединить 3-4-5 детей в одну группу, т.к. семьи в РФ с тремя и более детьми считаются многодетными"
      ],
      "metadata": {
        "id": "u-9K-Skpq49P"
      },
      "id": "u-9K-Skpq49P"
    },
    {
      "cell_type": "code",
      "execution_count": 24,
      "id": "3b516aed",
      "metadata": {
        "deletable": false,
        "id": "3b516aed",
        "scrolled": false,
        "outputId": "b9ce7b62-747d-4031-836f-8ac833461dde",
        "colab": {
          "base_uri": "https://localhost:8080/"
        }
      },
      "outputs": [
        {
          "output_type": "execute_result",
          "data": {
            "text/plain": [
              "children\n",
              "0    14091\n",
              "1     4808\n",
              "2     2052\n",
              "3      330\n",
              "4       41\n",
              "5        9\n",
              "Name: debt, dtype: int64"
            ]
          },
          "metadata": {},
          "execution_count": 24
        }
      ],
      "source": [
        "\n",
        "data.groupby('children')['debt'].count()"
      ]
    },
    {
      "cell_type": "markdown",
      "id": "fe02d969",
      "metadata": {
        "id": "fe02d969"
      },
      "source": [
        "Смысл объединить есть, т.к. очень немногочисленные категории 4,5 детей. Сформируем новый столбец с категориями по числу детей:"
      ]
    },
    {
      "cell_type": "code",
      "execution_count": 25,
      "id": "716758e3",
      "metadata": {
        "id": "716758e3"
      },
      "outputs": [],
      "source": [
        "#функция, присваивающая категории\n",
        "def categorize_children(row):\n",
        "    if row == 0:\n",
        "        return 'нет детей'\n",
        "    elif row == 1:\n",
        "        return '1 ребенок'\n",
        "    elif row == 2:\n",
        "        return '2 ребенка '\n",
        "    elif row >= 3:\n",
        "        return '3 и более ребенка'\n"
      ]
    },
    {
      "cell_type": "code",
      "execution_count": 26,
      "id": "08061fad",
      "metadata": {
        "id": "08061fad"
      },
      "outputs": [],
      "source": [
        "#создаем новый столбец\n",
        "data['children_category'] = data['children'].apply(categorize_children)"
      ]
    },
    {
      "cell_type": "code",
      "execution_count": 27,
      "id": "e06fc552",
      "metadata": {
        "id": "e06fc552"
      },
      "outputs": [],
      "source": [
        "#создаем сводную таблицу для оценки зависимости\n",
        "correlation_children_debt = data.pivot_table(index = ['children_category'], \\\n",
        "values = 'debt', aggfunc = {'count', 'sum'})"
      ]
    },
    {
      "cell_type": "code",
      "execution_count": 28,
      "id": "d87c770b",
      "metadata": {
        "id": "d87c770b"
      },
      "outputs": [],
      "source": [
        "#переименуем столбцы сводной таблицы, выводящие значения по 'count' и 'sum'\n",
        "correlation_children_debt = correlation_children_debt.rename(\n",
        "    columns={\n",
        "        'count':'amount of credits',\n",
        "        'sum':'amount of debts'\n",
        "    }\n",
        ")"
      ]
    },
    {
      "cell_type": "code",
      "execution_count": 29,
      "id": "6141a854",
      "metadata": {
        "id": "6141a854"
      },
      "outputs": [],
      "source": [
        "#добавим столбец в сводную таблицу с процентом задолженности по кредитам\n",
        "correlation_children_debt['correlation'] = (\n",
        "    correlation_children_debt['amount of debts'] /\n",
        "    correlation_children_debt['amount of credits']\n",
        ").apply(lambda x: format(x, '.2%'))"
      ]
    },
    {
      "cell_type": "code",
      "execution_count": 30,
      "id": "c1015afa",
      "metadata": {
        "scrolled": false,
        "id": "c1015afa",
        "outputId": "bb710dcb-3a69-4e1d-9d19-61d2f1ed3105",
        "colab": {
          "base_uri": "https://localhost:8080/",
          "height": 206
        }
      },
      "outputs": [
        {
          "output_type": "display_data",
          "data": {
            "text/plain": [
              "                   amount of credits  amount of debts correlation\n",
              "children_category                                                \n",
              "1 ребенок                       4808              444       9.23%\n",
              "2 ребенка                       2052              194       9.45%\n",
              "3 и более ребенка                380               31       8.16%\n",
              "нет детей                      14091             1063       7.54%"
            ],
            "text/html": [
              "\n",
              "  <div id=\"df-bd046a69-f9a9-43b8-8ee3-843f2abcb163\" class=\"colab-df-container\">\n",
              "    <div>\n",
              "<style scoped>\n",
              "    .dataframe tbody tr th:only-of-type {\n",
              "        vertical-align: middle;\n",
              "    }\n",
              "\n",
              "    .dataframe tbody tr th {\n",
              "        vertical-align: top;\n",
              "    }\n",
              "\n",
              "    .dataframe thead th {\n",
              "        text-align: right;\n",
              "    }\n",
              "</style>\n",
              "<table border=\"1\" class=\"dataframe\">\n",
              "  <thead>\n",
              "    <tr style=\"text-align: right;\">\n",
              "      <th></th>\n",
              "      <th>amount of credits</th>\n",
              "      <th>amount of debts</th>\n",
              "      <th>correlation</th>\n",
              "    </tr>\n",
              "    <tr>\n",
              "      <th>children_category</th>\n",
              "      <th></th>\n",
              "      <th></th>\n",
              "      <th></th>\n",
              "    </tr>\n",
              "  </thead>\n",
              "  <tbody>\n",
              "    <tr>\n",
              "      <th>1 ребенок</th>\n",
              "      <td>4808</td>\n",
              "      <td>444</td>\n",
              "      <td>9.23%</td>\n",
              "    </tr>\n",
              "    <tr>\n",
              "      <th>2 ребенка</th>\n",
              "      <td>2052</td>\n",
              "      <td>194</td>\n",
              "      <td>9.45%</td>\n",
              "    </tr>\n",
              "    <tr>\n",
              "      <th>3 и более ребенка</th>\n",
              "      <td>380</td>\n",
              "      <td>31</td>\n",
              "      <td>8.16%</td>\n",
              "    </tr>\n",
              "    <tr>\n",
              "      <th>нет детей</th>\n",
              "      <td>14091</td>\n",
              "      <td>1063</td>\n",
              "      <td>7.54%</td>\n",
              "    </tr>\n",
              "  </tbody>\n",
              "</table>\n",
              "</div>\n",
              "    <div class=\"colab-df-buttons\">\n",
              "\n",
              "  <div class=\"colab-df-container\">\n",
              "    <button class=\"colab-df-convert\" onclick=\"convertToInteractive('df-bd046a69-f9a9-43b8-8ee3-843f2abcb163')\"\n",
              "            title=\"Convert this dataframe to an interactive table.\"\n",
              "            style=\"display:none;\">\n",
              "\n",
              "  <svg xmlns=\"http://www.w3.org/2000/svg\" height=\"24px\" viewBox=\"0 -960 960 960\">\n",
              "    <path d=\"M120-120v-720h720v720H120Zm60-500h600v-160H180v160Zm220 220h160v-160H400v160Zm0 220h160v-160H400v160ZM180-400h160v-160H180v160Zm440 0h160v-160H620v160ZM180-180h160v-160H180v160Zm440 0h160v-160H620v160Z\"/>\n",
              "  </svg>\n",
              "    </button>\n",
              "\n",
              "  <style>\n",
              "    .colab-df-container {\n",
              "      display:flex;\n",
              "      gap: 12px;\n",
              "    }\n",
              "\n",
              "    .colab-df-convert {\n",
              "      background-color: #E8F0FE;\n",
              "      border: none;\n",
              "      border-radius: 50%;\n",
              "      cursor: pointer;\n",
              "      display: none;\n",
              "      fill: #1967D2;\n",
              "      height: 32px;\n",
              "      padding: 0 0 0 0;\n",
              "      width: 32px;\n",
              "    }\n",
              "\n",
              "    .colab-df-convert:hover {\n",
              "      background-color: #E2EBFA;\n",
              "      box-shadow: 0px 1px 2px rgba(60, 64, 67, 0.3), 0px 1px 3px 1px rgba(60, 64, 67, 0.15);\n",
              "      fill: #174EA6;\n",
              "    }\n",
              "\n",
              "    .colab-df-buttons div {\n",
              "      margin-bottom: 4px;\n",
              "    }\n",
              "\n",
              "    [theme=dark] .colab-df-convert {\n",
              "      background-color: #3B4455;\n",
              "      fill: #D2E3FC;\n",
              "    }\n",
              "\n",
              "    [theme=dark] .colab-df-convert:hover {\n",
              "      background-color: #434B5C;\n",
              "      box-shadow: 0px 1px 3px 1px rgba(0, 0, 0, 0.15);\n",
              "      filter: drop-shadow(0px 1px 2px rgba(0, 0, 0, 0.3));\n",
              "      fill: #FFFFFF;\n",
              "    }\n",
              "  </style>\n",
              "\n",
              "    <script>\n",
              "      const buttonEl =\n",
              "        document.querySelector('#df-bd046a69-f9a9-43b8-8ee3-843f2abcb163 button.colab-df-convert');\n",
              "      buttonEl.style.display =\n",
              "        google.colab.kernel.accessAllowed ? 'block' : 'none';\n",
              "\n",
              "      async function convertToInteractive(key) {\n",
              "        const element = document.querySelector('#df-bd046a69-f9a9-43b8-8ee3-843f2abcb163');\n",
              "        const dataTable =\n",
              "          await google.colab.kernel.invokeFunction('convertToInteractive',\n",
              "                                                    [key], {});\n",
              "        if (!dataTable) return;\n",
              "\n",
              "        const docLinkHtml = 'Like what you see? Visit the ' +\n",
              "          '<a target=\"_blank\" href=https://colab.research.google.com/notebooks/data_table.ipynb>data table notebook</a>'\n",
              "          + ' to learn more about interactive tables.';\n",
              "        element.innerHTML = '';\n",
              "        dataTable['output_type'] = 'display_data';\n",
              "        await google.colab.output.renderOutput(dataTable, element);\n",
              "        const docLink = document.createElement('div');\n",
              "        docLink.innerHTML = docLinkHtml;\n",
              "        element.appendChild(docLink);\n",
              "      }\n",
              "    </script>\n",
              "  </div>\n",
              "\n",
              "\n",
              "<div id=\"df-3efee496-b959-4bc6-9ff0-ecb4a7d6f33d\">\n",
              "  <button class=\"colab-df-quickchart\" onclick=\"quickchart('df-3efee496-b959-4bc6-9ff0-ecb4a7d6f33d')\"\n",
              "            title=\"Suggest charts\"\n",
              "            style=\"display:none;\">\n",
              "\n",
              "<svg xmlns=\"http://www.w3.org/2000/svg\" height=\"24px\"viewBox=\"0 0 24 24\"\n",
              "     width=\"24px\">\n",
              "    <g>\n",
              "        <path d=\"M19 3H5c-1.1 0-2 .9-2 2v14c0 1.1.9 2 2 2h14c1.1 0 2-.9 2-2V5c0-1.1-.9-2-2-2zM9 17H7v-7h2v7zm4 0h-2V7h2v10zm4 0h-2v-4h2v4z\"/>\n",
              "    </g>\n",
              "</svg>\n",
              "  </button>\n",
              "\n",
              "<style>\n",
              "  .colab-df-quickchart {\n",
              "      --bg-color: #E8F0FE;\n",
              "      --fill-color: #1967D2;\n",
              "      --hover-bg-color: #E2EBFA;\n",
              "      --hover-fill-color: #174EA6;\n",
              "      --disabled-fill-color: #AAA;\n",
              "      --disabled-bg-color: #DDD;\n",
              "  }\n",
              "\n",
              "  [theme=dark] .colab-df-quickchart {\n",
              "      --bg-color: #3B4455;\n",
              "      --fill-color: #D2E3FC;\n",
              "      --hover-bg-color: #434B5C;\n",
              "      --hover-fill-color: #FFFFFF;\n",
              "      --disabled-bg-color: #3B4455;\n",
              "      --disabled-fill-color: #666;\n",
              "  }\n",
              "\n",
              "  .colab-df-quickchart {\n",
              "    background-color: var(--bg-color);\n",
              "    border: none;\n",
              "    border-radius: 50%;\n",
              "    cursor: pointer;\n",
              "    display: none;\n",
              "    fill: var(--fill-color);\n",
              "    height: 32px;\n",
              "    padding: 0;\n",
              "    width: 32px;\n",
              "  }\n",
              "\n",
              "  .colab-df-quickchart:hover {\n",
              "    background-color: var(--hover-bg-color);\n",
              "    box-shadow: 0 1px 2px rgba(60, 64, 67, 0.3), 0 1px 3px 1px rgba(60, 64, 67, 0.15);\n",
              "    fill: var(--button-hover-fill-color);\n",
              "  }\n",
              "\n",
              "  .colab-df-quickchart-complete:disabled,\n",
              "  .colab-df-quickchart-complete:disabled:hover {\n",
              "    background-color: var(--disabled-bg-color);\n",
              "    fill: var(--disabled-fill-color);\n",
              "    box-shadow: none;\n",
              "  }\n",
              "\n",
              "  .colab-df-spinner {\n",
              "    border: 2px solid var(--fill-color);\n",
              "    border-color: transparent;\n",
              "    border-bottom-color: var(--fill-color);\n",
              "    animation:\n",
              "      spin 1s steps(1) infinite;\n",
              "  }\n",
              "\n",
              "  @keyframes spin {\n",
              "    0% {\n",
              "      border-color: transparent;\n",
              "      border-bottom-color: var(--fill-color);\n",
              "      border-left-color: var(--fill-color);\n",
              "    }\n",
              "    20% {\n",
              "      border-color: transparent;\n",
              "      border-left-color: var(--fill-color);\n",
              "      border-top-color: var(--fill-color);\n",
              "    }\n",
              "    30% {\n",
              "      border-color: transparent;\n",
              "      border-left-color: var(--fill-color);\n",
              "      border-top-color: var(--fill-color);\n",
              "      border-right-color: var(--fill-color);\n",
              "    }\n",
              "    40% {\n",
              "      border-color: transparent;\n",
              "      border-right-color: var(--fill-color);\n",
              "      border-top-color: var(--fill-color);\n",
              "    }\n",
              "    60% {\n",
              "      border-color: transparent;\n",
              "      border-right-color: var(--fill-color);\n",
              "    }\n",
              "    80% {\n",
              "      border-color: transparent;\n",
              "      border-right-color: var(--fill-color);\n",
              "      border-bottom-color: var(--fill-color);\n",
              "    }\n",
              "    90% {\n",
              "      border-color: transparent;\n",
              "      border-bottom-color: var(--fill-color);\n",
              "    }\n",
              "  }\n",
              "</style>\n",
              "\n",
              "  <script>\n",
              "    async function quickchart(key) {\n",
              "      const quickchartButtonEl =\n",
              "        document.querySelector('#' + key + ' button');\n",
              "      quickchartButtonEl.disabled = true;  // To prevent multiple clicks.\n",
              "      quickchartButtonEl.classList.add('colab-df-spinner');\n",
              "      try {\n",
              "        const charts = await google.colab.kernel.invokeFunction(\n",
              "            'suggestCharts', [key], {});\n",
              "      } catch (error) {\n",
              "        console.error('Error during call to suggestCharts:', error);\n",
              "      }\n",
              "      quickchartButtonEl.classList.remove('colab-df-spinner');\n",
              "      quickchartButtonEl.classList.add('colab-df-quickchart-complete');\n",
              "    }\n",
              "    (() => {\n",
              "      let quickchartButtonEl =\n",
              "        document.querySelector('#df-3efee496-b959-4bc6-9ff0-ecb4a7d6f33d button');\n",
              "      quickchartButtonEl.style.display =\n",
              "        google.colab.kernel.accessAllowed ? 'block' : 'none';\n",
              "    })();\n",
              "  </script>\n",
              "</div>\n",
              "    </div>\n",
              "  </div>\n"
            ]
          },
          "metadata": {}
        }
      ],
      "source": [
        "display(correlation_children_debt)"
      ]
    },
    {
      "cell_type": "markdown",
      "id": "268e46d7",
      "metadata": {
        "deletable": false,
        "id": "268e46d7"
      },
      "source": [
        "**Вывод:**\n",
        "Зависимость между количеством детей и возвратом кредита срок незначительная, отличия между категориями около 1%.\n",
        "Заёмщики, у которых нет детей, допускают меньшую просрочку по возврату кредита по сравнению с остальными категориями.\n",
        "Можно предположить, что у многодетных заёмщиков процент невозвратов меньше, чем у заёмщиков с 1 или 2 детьми, т.к они получают поддержку от государства, тогда как семьи с 1 или 2 детьми несут финансовую нагрузку сами.\n"
      ]
    },
    {
      "cell_type": "markdown",
      "id": "961498a7",
      "metadata": {
        "deletable": false,
        "editable": false,
        "id": "961498a7"
      },
      "source": [
        "#### 3.2 Есть ли зависимость между семейным положением и возвратом кредита в срок?"
      ]
    },
    {
      "cell_type": "markdown",
      "source": [
        "Посмотрим, какие есть статусы гражданского состояния заёмщиков в нашем датасете"
      ],
      "metadata": {
        "id": "CmDVdE6msqxw"
      },
      "id": "CmDVdE6msqxw"
    },
    {
      "cell_type": "code",
      "execution_count": 31,
      "id": "9da5dd1e",
      "metadata": {
        "id": "9da5dd1e",
        "outputId": "0dca2e0d-bc32-460a-f967-225f2ef17783",
        "colab": {
          "base_uri": "https://localhost:8080/",
          "height": 52
        }
      },
      "outputs": [
        {
          "output_type": "display_data",
          "data": {
            "text/plain": [
              "array(['женат / замужем', 'гражданский брак', 'вдовец / вдова',\n",
              "       'в разводе', 'Не женат / не замужем'], dtype=object)"
            ]
          },
          "metadata": {}
        }
      ],
      "source": [
        "display(data['family_status'].unique())"
      ]
    },
    {
      "cell_type": "markdown",
      "source": [
        "Создадим сводную таблицу по образу и подобию таблицы из предыдущего задания"
      ],
      "metadata": {
        "id": "tRpvK4Zrs7p_"
      },
      "id": "tRpvK4Zrs7p_"
    },
    {
      "cell_type": "code",
      "execution_count": 32,
      "id": "3d7f1514",
      "metadata": {
        "deletable": false,
        "id": "3d7f1514",
        "outputId": "bc4c1fd1-771f-4a7e-8a9c-404b7b91c948",
        "colab": {
          "base_uri": "https://localhost:8080/",
          "height": 238
        }
      },
      "outputs": [
        {
          "output_type": "display_data",
          "data": {
            "text/plain": [
              "                       amount of credits  amount of debts correlation\n",
              "family_status                                                        \n",
              "Не женат / не замужем               2796              273       9.76%\n",
              "гражданский брак                    4134              385       9.31%\n",
              "женат / замужем                    12261              927       7.56%\n",
              "в разводе                           1189               84       7.06%\n",
              "вдовец / вдова                       951               63       6.62%"
            ],
            "text/html": [
              "\n",
              "  <div id=\"df-9079b884-94b1-4a8f-abf7-93ade40ee3b8\" class=\"colab-df-container\">\n",
              "    <div>\n",
              "<style scoped>\n",
              "    .dataframe tbody tr th:only-of-type {\n",
              "        vertical-align: middle;\n",
              "    }\n",
              "\n",
              "    .dataframe tbody tr th {\n",
              "        vertical-align: top;\n",
              "    }\n",
              "\n",
              "    .dataframe thead th {\n",
              "        text-align: right;\n",
              "    }\n",
              "</style>\n",
              "<table border=\"1\" class=\"dataframe\">\n",
              "  <thead>\n",
              "    <tr style=\"text-align: right;\">\n",
              "      <th></th>\n",
              "      <th>amount of credits</th>\n",
              "      <th>amount of debts</th>\n",
              "      <th>correlation</th>\n",
              "    </tr>\n",
              "    <tr>\n",
              "      <th>family_status</th>\n",
              "      <th></th>\n",
              "      <th></th>\n",
              "      <th></th>\n",
              "    </tr>\n",
              "  </thead>\n",
              "  <tbody>\n",
              "    <tr>\n",
              "      <th>Не женат / не замужем</th>\n",
              "      <td>2796</td>\n",
              "      <td>273</td>\n",
              "      <td>9.76%</td>\n",
              "    </tr>\n",
              "    <tr>\n",
              "      <th>гражданский брак</th>\n",
              "      <td>4134</td>\n",
              "      <td>385</td>\n",
              "      <td>9.31%</td>\n",
              "    </tr>\n",
              "    <tr>\n",
              "      <th>женат / замужем</th>\n",
              "      <td>12261</td>\n",
              "      <td>927</td>\n",
              "      <td>7.56%</td>\n",
              "    </tr>\n",
              "    <tr>\n",
              "      <th>в разводе</th>\n",
              "      <td>1189</td>\n",
              "      <td>84</td>\n",
              "      <td>7.06%</td>\n",
              "    </tr>\n",
              "    <tr>\n",
              "      <th>вдовец / вдова</th>\n",
              "      <td>951</td>\n",
              "      <td>63</td>\n",
              "      <td>6.62%</td>\n",
              "    </tr>\n",
              "  </tbody>\n",
              "</table>\n",
              "</div>\n",
              "    <div class=\"colab-df-buttons\">\n",
              "\n",
              "  <div class=\"colab-df-container\">\n",
              "    <button class=\"colab-df-convert\" onclick=\"convertToInteractive('df-9079b884-94b1-4a8f-abf7-93ade40ee3b8')\"\n",
              "            title=\"Convert this dataframe to an interactive table.\"\n",
              "            style=\"display:none;\">\n",
              "\n",
              "  <svg xmlns=\"http://www.w3.org/2000/svg\" height=\"24px\" viewBox=\"0 -960 960 960\">\n",
              "    <path d=\"M120-120v-720h720v720H120Zm60-500h600v-160H180v160Zm220 220h160v-160H400v160Zm0 220h160v-160H400v160ZM180-400h160v-160H180v160Zm440 0h160v-160H620v160ZM180-180h160v-160H180v160Zm440 0h160v-160H620v160Z\"/>\n",
              "  </svg>\n",
              "    </button>\n",
              "\n",
              "  <style>\n",
              "    .colab-df-container {\n",
              "      display:flex;\n",
              "      gap: 12px;\n",
              "    }\n",
              "\n",
              "    .colab-df-convert {\n",
              "      background-color: #E8F0FE;\n",
              "      border: none;\n",
              "      border-radius: 50%;\n",
              "      cursor: pointer;\n",
              "      display: none;\n",
              "      fill: #1967D2;\n",
              "      height: 32px;\n",
              "      padding: 0 0 0 0;\n",
              "      width: 32px;\n",
              "    }\n",
              "\n",
              "    .colab-df-convert:hover {\n",
              "      background-color: #E2EBFA;\n",
              "      box-shadow: 0px 1px 2px rgba(60, 64, 67, 0.3), 0px 1px 3px 1px rgba(60, 64, 67, 0.15);\n",
              "      fill: #174EA6;\n",
              "    }\n",
              "\n",
              "    .colab-df-buttons div {\n",
              "      margin-bottom: 4px;\n",
              "    }\n",
              "\n",
              "    [theme=dark] .colab-df-convert {\n",
              "      background-color: #3B4455;\n",
              "      fill: #D2E3FC;\n",
              "    }\n",
              "\n",
              "    [theme=dark] .colab-df-convert:hover {\n",
              "      background-color: #434B5C;\n",
              "      box-shadow: 0px 1px 3px 1px rgba(0, 0, 0, 0.15);\n",
              "      filter: drop-shadow(0px 1px 2px rgba(0, 0, 0, 0.3));\n",
              "      fill: #FFFFFF;\n",
              "    }\n",
              "  </style>\n",
              "\n",
              "    <script>\n",
              "      const buttonEl =\n",
              "        document.querySelector('#df-9079b884-94b1-4a8f-abf7-93ade40ee3b8 button.colab-df-convert');\n",
              "      buttonEl.style.display =\n",
              "        google.colab.kernel.accessAllowed ? 'block' : 'none';\n",
              "\n",
              "      async function convertToInteractive(key) {\n",
              "        const element = document.querySelector('#df-9079b884-94b1-4a8f-abf7-93ade40ee3b8');\n",
              "        const dataTable =\n",
              "          await google.colab.kernel.invokeFunction('convertToInteractive',\n",
              "                                                    [key], {});\n",
              "        if (!dataTable) return;\n",
              "\n",
              "        const docLinkHtml = 'Like what you see? Visit the ' +\n",
              "          '<a target=\"_blank\" href=https://colab.research.google.com/notebooks/data_table.ipynb>data table notebook</a>'\n",
              "          + ' to learn more about interactive tables.';\n",
              "        element.innerHTML = '';\n",
              "        dataTable['output_type'] = 'display_data';\n",
              "        await google.colab.output.renderOutput(dataTable, element);\n",
              "        const docLink = document.createElement('div');\n",
              "        docLink.innerHTML = docLinkHtml;\n",
              "        element.appendChild(docLink);\n",
              "      }\n",
              "    </script>\n",
              "  </div>\n",
              "\n",
              "\n",
              "<div id=\"df-a5982e21-2ac9-46f3-abd0-dabb2cc76c84\">\n",
              "  <button class=\"colab-df-quickchart\" onclick=\"quickchart('df-a5982e21-2ac9-46f3-abd0-dabb2cc76c84')\"\n",
              "            title=\"Suggest charts\"\n",
              "            style=\"display:none;\">\n",
              "\n",
              "<svg xmlns=\"http://www.w3.org/2000/svg\" height=\"24px\"viewBox=\"0 0 24 24\"\n",
              "     width=\"24px\">\n",
              "    <g>\n",
              "        <path d=\"M19 3H5c-1.1 0-2 .9-2 2v14c0 1.1.9 2 2 2h14c1.1 0 2-.9 2-2V5c0-1.1-.9-2-2-2zM9 17H7v-7h2v7zm4 0h-2V7h2v10zm4 0h-2v-4h2v4z\"/>\n",
              "    </g>\n",
              "</svg>\n",
              "  </button>\n",
              "\n",
              "<style>\n",
              "  .colab-df-quickchart {\n",
              "      --bg-color: #E8F0FE;\n",
              "      --fill-color: #1967D2;\n",
              "      --hover-bg-color: #E2EBFA;\n",
              "      --hover-fill-color: #174EA6;\n",
              "      --disabled-fill-color: #AAA;\n",
              "      --disabled-bg-color: #DDD;\n",
              "  }\n",
              "\n",
              "  [theme=dark] .colab-df-quickchart {\n",
              "      --bg-color: #3B4455;\n",
              "      --fill-color: #D2E3FC;\n",
              "      --hover-bg-color: #434B5C;\n",
              "      --hover-fill-color: #FFFFFF;\n",
              "      --disabled-bg-color: #3B4455;\n",
              "      --disabled-fill-color: #666;\n",
              "  }\n",
              "\n",
              "  .colab-df-quickchart {\n",
              "    background-color: var(--bg-color);\n",
              "    border: none;\n",
              "    border-radius: 50%;\n",
              "    cursor: pointer;\n",
              "    display: none;\n",
              "    fill: var(--fill-color);\n",
              "    height: 32px;\n",
              "    padding: 0;\n",
              "    width: 32px;\n",
              "  }\n",
              "\n",
              "  .colab-df-quickchart:hover {\n",
              "    background-color: var(--hover-bg-color);\n",
              "    box-shadow: 0 1px 2px rgba(60, 64, 67, 0.3), 0 1px 3px 1px rgba(60, 64, 67, 0.15);\n",
              "    fill: var(--button-hover-fill-color);\n",
              "  }\n",
              "\n",
              "  .colab-df-quickchart-complete:disabled,\n",
              "  .colab-df-quickchart-complete:disabled:hover {\n",
              "    background-color: var(--disabled-bg-color);\n",
              "    fill: var(--disabled-fill-color);\n",
              "    box-shadow: none;\n",
              "  }\n",
              "\n",
              "  .colab-df-spinner {\n",
              "    border: 2px solid var(--fill-color);\n",
              "    border-color: transparent;\n",
              "    border-bottom-color: var(--fill-color);\n",
              "    animation:\n",
              "      spin 1s steps(1) infinite;\n",
              "  }\n",
              "\n",
              "  @keyframes spin {\n",
              "    0% {\n",
              "      border-color: transparent;\n",
              "      border-bottom-color: var(--fill-color);\n",
              "      border-left-color: var(--fill-color);\n",
              "    }\n",
              "    20% {\n",
              "      border-color: transparent;\n",
              "      border-left-color: var(--fill-color);\n",
              "      border-top-color: var(--fill-color);\n",
              "    }\n",
              "    30% {\n",
              "      border-color: transparent;\n",
              "      border-left-color: var(--fill-color);\n",
              "      border-top-color: var(--fill-color);\n",
              "      border-right-color: var(--fill-color);\n",
              "    }\n",
              "    40% {\n",
              "      border-color: transparent;\n",
              "      border-right-color: var(--fill-color);\n",
              "      border-top-color: var(--fill-color);\n",
              "    }\n",
              "    60% {\n",
              "      border-color: transparent;\n",
              "      border-right-color: var(--fill-color);\n",
              "    }\n",
              "    80% {\n",
              "      border-color: transparent;\n",
              "      border-right-color: var(--fill-color);\n",
              "      border-bottom-color: var(--fill-color);\n",
              "    }\n",
              "    90% {\n",
              "      border-color: transparent;\n",
              "      border-bottom-color: var(--fill-color);\n",
              "    }\n",
              "  }\n",
              "</style>\n",
              "\n",
              "  <script>\n",
              "    async function quickchart(key) {\n",
              "      const quickchartButtonEl =\n",
              "        document.querySelector('#' + key + ' button');\n",
              "      quickchartButtonEl.disabled = true;  // To prevent multiple clicks.\n",
              "      quickchartButtonEl.classList.add('colab-df-spinner');\n",
              "      try {\n",
              "        const charts = await google.colab.kernel.invokeFunction(\n",
              "            'suggestCharts', [key], {});\n",
              "      } catch (error) {\n",
              "        console.error('Error during call to suggestCharts:', error);\n",
              "      }\n",
              "      quickchartButtonEl.classList.remove('colab-df-spinner');\n",
              "      quickchartButtonEl.classList.add('colab-df-quickchart-complete');\n",
              "    }\n",
              "    (() => {\n",
              "      let quickchartButtonEl =\n",
              "        document.querySelector('#df-a5982e21-2ac9-46f3-abd0-dabb2cc76c84 button');\n",
              "      quickchartButtonEl.style.display =\n",
              "        google.colab.kernel.accessAllowed ? 'block' : 'none';\n",
              "    })();\n",
              "  </script>\n",
              "</div>\n",
              "    </div>\n",
              "  </div>\n"
            ]
          },
          "metadata": {}
        }
      ],
      "source": [
        "correlation_status_debt = data.pivot_table(\n",
        "    index=['family_status'],\n",
        "    values='debt',\n",
        "    aggfunc={'count', 'sum'}\n",
        ")\n",
        "correlation_status_debt = correlation_status_debt.rename(\n",
        "    columns={'count':'amount of credits', 'sum':'amount of debts'}\n",
        ")\n",
        "correlation_status_debt['correlation'] = (\n",
        "    correlation_status_debt['amount of debts'] /\n",
        "    correlation_status_debt['amount of credits']\n",
        ").apply(lambda x: format(x, '.2%'))\n",
        "\n",
        "display(correlation_status_debt.sort_values(by='correlation', ascending=False))"
      ]
    },
    {
      "cell_type": "markdown",
      "id": "02d0e465",
      "metadata": {
        "deletable": false,
        "id": "02d0e465"
      },
      "source": [
        "**Вывод:**\n",
        "Люди, не состоящие в браке, или состоящие в незарегистрированном браке, имеют бОльшую долю невозвратов.\n",
        "Заёмщика, состоящие или состоявшие в браке, имеют меньший процент невозврата. Возможно это связано с более стабильной финансовой ситуацией, чувством ответственности и т.д."
      ]
    },
    {
      "cell_type": "markdown",
      "id": "21d107ed",
      "metadata": {
        "deletable": false,
        "editable": false,
        "id": "21d107ed"
      },
      "source": [
        "#### 3.3 Есть ли зависимость между уровнем дохода и возвратом кредита в срок?"
      ]
    },
    {
      "cell_type": "markdown",
      "source": [
        "Создадим ещё одну сводную таблицу."
      ],
      "metadata": {
        "id": "xGkHtoGYtVCU"
      },
      "id": "xGkHtoGYtVCU"
    },
    {
      "cell_type": "code",
      "execution_count": 33,
      "id": "13307090",
      "metadata": {
        "deletable": false,
        "id": "13307090",
        "scrolled": true,
        "outputId": "7c6ea0d7-60bc-4a85-8f9f-b1cdf34cc905",
        "colab": {
          "base_uri": "https://localhost:8080/",
          "height": 238
        }
      },
      "outputs": [
        {
          "output_type": "display_data",
          "data": {
            "text/plain": [
              "                       amount of credits  amount of debts correlation\n",
              "total_income_category                                                \n",
              "E                                     22                2       9.09%\n",
              "C                                  15921             1353       8.50%\n",
              "A                                     25                2       8.00%\n",
              "B                                   5014              354       7.06%\n",
              "D                                    349               21       6.02%"
            ],
            "text/html": [
              "\n",
              "  <div id=\"df-82b474e7-ce40-4563-8ce2-7f652998b02e\" class=\"colab-df-container\">\n",
              "    <div>\n",
              "<style scoped>\n",
              "    .dataframe tbody tr th:only-of-type {\n",
              "        vertical-align: middle;\n",
              "    }\n",
              "\n",
              "    .dataframe tbody tr th {\n",
              "        vertical-align: top;\n",
              "    }\n",
              "\n",
              "    .dataframe thead th {\n",
              "        text-align: right;\n",
              "    }\n",
              "</style>\n",
              "<table border=\"1\" class=\"dataframe\">\n",
              "  <thead>\n",
              "    <tr style=\"text-align: right;\">\n",
              "      <th></th>\n",
              "      <th>amount of credits</th>\n",
              "      <th>amount of debts</th>\n",
              "      <th>correlation</th>\n",
              "    </tr>\n",
              "    <tr>\n",
              "      <th>total_income_category</th>\n",
              "      <th></th>\n",
              "      <th></th>\n",
              "      <th></th>\n",
              "    </tr>\n",
              "  </thead>\n",
              "  <tbody>\n",
              "    <tr>\n",
              "      <th>E</th>\n",
              "      <td>22</td>\n",
              "      <td>2</td>\n",
              "      <td>9.09%</td>\n",
              "    </tr>\n",
              "    <tr>\n",
              "      <th>C</th>\n",
              "      <td>15921</td>\n",
              "      <td>1353</td>\n",
              "      <td>8.50%</td>\n",
              "    </tr>\n",
              "    <tr>\n",
              "      <th>A</th>\n",
              "      <td>25</td>\n",
              "      <td>2</td>\n",
              "      <td>8.00%</td>\n",
              "    </tr>\n",
              "    <tr>\n",
              "      <th>B</th>\n",
              "      <td>5014</td>\n",
              "      <td>354</td>\n",
              "      <td>7.06%</td>\n",
              "    </tr>\n",
              "    <tr>\n",
              "      <th>D</th>\n",
              "      <td>349</td>\n",
              "      <td>21</td>\n",
              "      <td>6.02%</td>\n",
              "    </tr>\n",
              "  </tbody>\n",
              "</table>\n",
              "</div>\n",
              "    <div class=\"colab-df-buttons\">\n",
              "\n",
              "  <div class=\"colab-df-container\">\n",
              "    <button class=\"colab-df-convert\" onclick=\"convertToInteractive('df-82b474e7-ce40-4563-8ce2-7f652998b02e')\"\n",
              "            title=\"Convert this dataframe to an interactive table.\"\n",
              "            style=\"display:none;\">\n",
              "\n",
              "  <svg xmlns=\"http://www.w3.org/2000/svg\" height=\"24px\" viewBox=\"0 -960 960 960\">\n",
              "    <path d=\"M120-120v-720h720v720H120Zm60-500h600v-160H180v160Zm220 220h160v-160H400v160Zm0 220h160v-160H400v160ZM180-400h160v-160H180v160Zm440 0h160v-160H620v160ZM180-180h160v-160H180v160Zm440 0h160v-160H620v160Z\"/>\n",
              "  </svg>\n",
              "    </button>\n",
              "\n",
              "  <style>\n",
              "    .colab-df-container {\n",
              "      display:flex;\n",
              "      gap: 12px;\n",
              "    }\n",
              "\n",
              "    .colab-df-convert {\n",
              "      background-color: #E8F0FE;\n",
              "      border: none;\n",
              "      border-radius: 50%;\n",
              "      cursor: pointer;\n",
              "      display: none;\n",
              "      fill: #1967D2;\n",
              "      height: 32px;\n",
              "      padding: 0 0 0 0;\n",
              "      width: 32px;\n",
              "    }\n",
              "\n",
              "    .colab-df-convert:hover {\n",
              "      background-color: #E2EBFA;\n",
              "      box-shadow: 0px 1px 2px rgba(60, 64, 67, 0.3), 0px 1px 3px 1px rgba(60, 64, 67, 0.15);\n",
              "      fill: #174EA6;\n",
              "    }\n",
              "\n",
              "    .colab-df-buttons div {\n",
              "      margin-bottom: 4px;\n",
              "    }\n",
              "\n",
              "    [theme=dark] .colab-df-convert {\n",
              "      background-color: #3B4455;\n",
              "      fill: #D2E3FC;\n",
              "    }\n",
              "\n",
              "    [theme=dark] .colab-df-convert:hover {\n",
              "      background-color: #434B5C;\n",
              "      box-shadow: 0px 1px 3px 1px rgba(0, 0, 0, 0.15);\n",
              "      filter: drop-shadow(0px 1px 2px rgba(0, 0, 0, 0.3));\n",
              "      fill: #FFFFFF;\n",
              "    }\n",
              "  </style>\n",
              "\n",
              "    <script>\n",
              "      const buttonEl =\n",
              "        document.querySelector('#df-82b474e7-ce40-4563-8ce2-7f652998b02e button.colab-df-convert');\n",
              "      buttonEl.style.display =\n",
              "        google.colab.kernel.accessAllowed ? 'block' : 'none';\n",
              "\n",
              "      async function convertToInteractive(key) {\n",
              "        const element = document.querySelector('#df-82b474e7-ce40-4563-8ce2-7f652998b02e');\n",
              "        const dataTable =\n",
              "          await google.colab.kernel.invokeFunction('convertToInteractive',\n",
              "                                                    [key], {});\n",
              "        if (!dataTable) return;\n",
              "\n",
              "        const docLinkHtml = 'Like what you see? Visit the ' +\n",
              "          '<a target=\"_blank\" href=https://colab.research.google.com/notebooks/data_table.ipynb>data table notebook</a>'\n",
              "          + ' to learn more about interactive tables.';\n",
              "        element.innerHTML = '';\n",
              "        dataTable['output_type'] = 'display_data';\n",
              "        await google.colab.output.renderOutput(dataTable, element);\n",
              "        const docLink = document.createElement('div');\n",
              "        docLink.innerHTML = docLinkHtml;\n",
              "        element.appendChild(docLink);\n",
              "      }\n",
              "    </script>\n",
              "  </div>\n",
              "\n",
              "\n",
              "<div id=\"df-3ec000e7-424e-4798-849c-9f490eca8a20\">\n",
              "  <button class=\"colab-df-quickchart\" onclick=\"quickchart('df-3ec000e7-424e-4798-849c-9f490eca8a20')\"\n",
              "            title=\"Suggest charts\"\n",
              "            style=\"display:none;\">\n",
              "\n",
              "<svg xmlns=\"http://www.w3.org/2000/svg\" height=\"24px\"viewBox=\"0 0 24 24\"\n",
              "     width=\"24px\">\n",
              "    <g>\n",
              "        <path d=\"M19 3H5c-1.1 0-2 .9-2 2v14c0 1.1.9 2 2 2h14c1.1 0 2-.9 2-2V5c0-1.1-.9-2-2-2zM9 17H7v-7h2v7zm4 0h-2V7h2v10zm4 0h-2v-4h2v4z\"/>\n",
              "    </g>\n",
              "</svg>\n",
              "  </button>\n",
              "\n",
              "<style>\n",
              "  .colab-df-quickchart {\n",
              "      --bg-color: #E8F0FE;\n",
              "      --fill-color: #1967D2;\n",
              "      --hover-bg-color: #E2EBFA;\n",
              "      --hover-fill-color: #174EA6;\n",
              "      --disabled-fill-color: #AAA;\n",
              "      --disabled-bg-color: #DDD;\n",
              "  }\n",
              "\n",
              "  [theme=dark] .colab-df-quickchart {\n",
              "      --bg-color: #3B4455;\n",
              "      --fill-color: #D2E3FC;\n",
              "      --hover-bg-color: #434B5C;\n",
              "      --hover-fill-color: #FFFFFF;\n",
              "      --disabled-bg-color: #3B4455;\n",
              "      --disabled-fill-color: #666;\n",
              "  }\n",
              "\n",
              "  .colab-df-quickchart {\n",
              "    background-color: var(--bg-color);\n",
              "    border: none;\n",
              "    border-radius: 50%;\n",
              "    cursor: pointer;\n",
              "    display: none;\n",
              "    fill: var(--fill-color);\n",
              "    height: 32px;\n",
              "    padding: 0;\n",
              "    width: 32px;\n",
              "  }\n",
              "\n",
              "  .colab-df-quickchart:hover {\n",
              "    background-color: var(--hover-bg-color);\n",
              "    box-shadow: 0 1px 2px rgba(60, 64, 67, 0.3), 0 1px 3px 1px rgba(60, 64, 67, 0.15);\n",
              "    fill: var(--button-hover-fill-color);\n",
              "  }\n",
              "\n",
              "  .colab-df-quickchart-complete:disabled,\n",
              "  .colab-df-quickchart-complete:disabled:hover {\n",
              "    background-color: var(--disabled-bg-color);\n",
              "    fill: var(--disabled-fill-color);\n",
              "    box-shadow: none;\n",
              "  }\n",
              "\n",
              "  .colab-df-spinner {\n",
              "    border: 2px solid var(--fill-color);\n",
              "    border-color: transparent;\n",
              "    border-bottom-color: var(--fill-color);\n",
              "    animation:\n",
              "      spin 1s steps(1) infinite;\n",
              "  }\n",
              "\n",
              "  @keyframes spin {\n",
              "    0% {\n",
              "      border-color: transparent;\n",
              "      border-bottom-color: var(--fill-color);\n",
              "      border-left-color: var(--fill-color);\n",
              "    }\n",
              "    20% {\n",
              "      border-color: transparent;\n",
              "      border-left-color: var(--fill-color);\n",
              "      border-top-color: var(--fill-color);\n",
              "    }\n",
              "    30% {\n",
              "      border-color: transparent;\n",
              "      border-left-color: var(--fill-color);\n",
              "      border-top-color: var(--fill-color);\n",
              "      border-right-color: var(--fill-color);\n",
              "    }\n",
              "    40% {\n",
              "      border-color: transparent;\n",
              "      border-right-color: var(--fill-color);\n",
              "      border-top-color: var(--fill-color);\n",
              "    }\n",
              "    60% {\n",
              "      border-color: transparent;\n",
              "      border-right-color: var(--fill-color);\n",
              "    }\n",
              "    80% {\n",
              "      border-color: transparent;\n",
              "      border-right-color: var(--fill-color);\n",
              "      border-bottom-color: var(--fill-color);\n",
              "    }\n",
              "    90% {\n",
              "      border-color: transparent;\n",
              "      border-bottom-color: var(--fill-color);\n",
              "    }\n",
              "  }\n",
              "</style>\n",
              "\n",
              "  <script>\n",
              "    async function quickchart(key) {\n",
              "      const quickchartButtonEl =\n",
              "        document.querySelector('#' + key + ' button');\n",
              "      quickchartButtonEl.disabled = true;  // To prevent multiple clicks.\n",
              "      quickchartButtonEl.classList.add('colab-df-spinner');\n",
              "      try {\n",
              "        const charts = await google.colab.kernel.invokeFunction(\n",
              "            'suggestCharts', [key], {});\n",
              "      } catch (error) {\n",
              "        console.error('Error during call to suggestCharts:', error);\n",
              "      }\n",
              "      quickchartButtonEl.classList.remove('colab-df-spinner');\n",
              "      quickchartButtonEl.classList.add('colab-df-quickchart-complete');\n",
              "    }\n",
              "    (() => {\n",
              "      let quickchartButtonEl =\n",
              "        document.querySelector('#df-3ec000e7-424e-4798-849c-9f490eca8a20 button');\n",
              "      quickchartButtonEl.style.display =\n",
              "        google.colab.kernel.accessAllowed ? 'block' : 'none';\n",
              "    })();\n",
              "  </script>\n",
              "</div>\n",
              "    </div>\n",
              "  </div>\n"
            ]
          },
          "metadata": {}
        }
      ],
      "source": [
        "correlation_incom_debt = data.pivot_table(\n",
        "    index=['total_income_category'],\n",
        "    values='debt',\n",
        "    aggfunc={'count', 'sum'}\n",
        ")\n",
        "correlation_incom_debt = correlation_incom_debt.rename(\n",
        "    columns={'count':'amount of credits', 'sum':'amount of debts'}\n",
        ")\n",
        "correlation_incom_debt['correlation'] = (\n",
        "    correlation_incom_debt['amount of debts'] /\n",
        "    correlation_incom_debt['amount of credits']\n",
        ").apply(lambda x: format(x, '.2%'))\n",
        "\n",
        "display(correlation_incom_debt.sort_values(by='correlation', ascending=False))"
      ]
    },
    {
      "cell_type": "markdown",
      "id": "ce1b5fab",
      "metadata": {
        "deletable": false,
        "id": "ce1b5fab"
      },
      "source": [
        "**Вывод:**   \n",
        "Зависимость уровня дохода заёмщика и возврата кредита в срок нелинейная. Больший доход не гарантирует возврата кредита в срок.  \n",
        "\"Группа риска\" в данном случае - люди с доходом менее 30 тысяч рублей.  \n",
        "Самая надёжная группа - заёмщики с доходом 30-50 тысяч.  \n",
        "\n",
        "А вот категория С, доход от 50 до 200 тысяч, занимает второе место по невозвратам. Можно предположить, что как раз эта категория получает имеет \"серый доход\", потеря \"чёрной\" части которого на экономических спадах может привести к проблемам с обслуживанием кредита. Здесь интересно было бы увидеть данные, заявлен подтвержденный доход или нет.  \n"
      ]
    },
    {
      "cell_type": "markdown",
      "id": "3f3a9297",
      "metadata": {
        "editable": false,
        "id": "3f3a9297"
      },
      "source": [
        "#### 3.4 Как разные цели кредита влияют на его возврат в срок?"
      ]
    },
    {
      "cell_type": "markdown",
      "id": "34ba205e",
      "metadata": {
        "deletable": false,
        "editable": false,
        "id": "34ba205e"
      },
      "source": [
        "#### 3.4 Как разные цели кредита влияют на его возврат в срок?"
      ]
    },
    {
      "cell_type": "code",
      "execution_count": 34,
      "id": "59c99872",
      "metadata": {
        "deletable": false,
        "id": "59c99872",
        "outputId": "192ded66-7ddb-4c94-f990-c51395d2855c",
        "colab": {
          "base_uri": "https://localhost:8080/",
          "height": 206
        }
      },
      "outputs": [
        {
          "output_type": "display_data",
          "data": {
            "text/plain": [
              "                          amount of credits  amount of debts correlation\n",
              "purpose_category                                                        \n",
              "операции с автомобилем                 4279              400       9.35%\n",
              "получение образования                  3988              369       9.25%\n",
              "проведение свадьбы                     2313              183       7.91%\n",
              "операции с недвижимостью              10751              780       7.26%"
            ],
            "text/html": [
              "\n",
              "  <div id=\"df-89053358-5f11-44f6-b36e-ffad7f126de0\" class=\"colab-df-container\">\n",
              "    <div>\n",
              "<style scoped>\n",
              "    .dataframe tbody tr th:only-of-type {\n",
              "        vertical-align: middle;\n",
              "    }\n",
              "\n",
              "    .dataframe tbody tr th {\n",
              "        vertical-align: top;\n",
              "    }\n",
              "\n",
              "    .dataframe thead th {\n",
              "        text-align: right;\n",
              "    }\n",
              "</style>\n",
              "<table border=\"1\" class=\"dataframe\">\n",
              "  <thead>\n",
              "    <tr style=\"text-align: right;\">\n",
              "      <th></th>\n",
              "      <th>amount of credits</th>\n",
              "      <th>amount of debts</th>\n",
              "      <th>correlation</th>\n",
              "    </tr>\n",
              "    <tr>\n",
              "      <th>purpose_category</th>\n",
              "      <th></th>\n",
              "      <th></th>\n",
              "      <th></th>\n",
              "    </tr>\n",
              "  </thead>\n",
              "  <tbody>\n",
              "    <tr>\n",
              "      <th>операции с автомобилем</th>\n",
              "      <td>4279</td>\n",
              "      <td>400</td>\n",
              "      <td>9.35%</td>\n",
              "    </tr>\n",
              "    <tr>\n",
              "      <th>получение образования</th>\n",
              "      <td>3988</td>\n",
              "      <td>369</td>\n",
              "      <td>9.25%</td>\n",
              "    </tr>\n",
              "    <tr>\n",
              "      <th>проведение свадьбы</th>\n",
              "      <td>2313</td>\n",
              "      <td>183</td>\n",
              "      <td>7.91%</td>\n",
              "    </tr>\n",
              "    <tr>\n",
              "      <th>операции с недвижимостью</th>\n",
              "      <td>10751</td>\n",
              "      <td>780</td>\n",
              "      <td>7.26%</td>\n",
              "    </tr>\n",
              "  </tbody>\n",
              "</table>\n",
              "</div>\n",
              "    <div class=\"colab-df-buttons\">\n",
              "\n",
              "  <div class=\"colab-df-container\">\n",
              "    <button class=\"colab-df-convert\" onclick=\"convertToInteractive('df-89053358-5f11-44f6-b36e-ffad7f126de0')\"\n",
              "            title=\"Convert this dataframe to an interactive table.\"\n",
              "            style=\"display:none;\">\n",
              "\n",
              "  <svg xmlns=\"http://www.w3.org/2000/svg\" height=\"24px\" viewBox=\"0 -960 960 960\">\n",
              "    <path d=\"M120-120v-720h720v720H120Zm60-500h600v-160H180v160Zm220 220h160v-160H400v160Zm0 220h160v-160H400v160ZM180-400h160v-160H180v160Zm440 0h160v-160H620v160ZM180-180h160v-160H180v160Zm440 0h160v-160H620v160Z\"/>\n",
              "  </svg>\n",
              "    </button>\n",
              "\n",
              "  <style>\n",
              "    .colab-df-container {\n",
              "      display:flex;\n",
              "      gap: 12px;\n",
              "    }\n",
              "\n",
              "    .colab-df-convert {\n",
              "      background-color: #E8F0FE;\n",
              "      border: none;\n",
              "      border-radius: 50%;\n",
              "      cursor: pointer;\n",
              "      display: none;\n",
              "      fill: #1967D2;\n",
              "      height: 32px;\n",
              "      padding: 0 0 0 0;\n",
              "      width: 32px;\n",
              "    }\n",
              "\n",
              "    .colab-df-convert:hover {\n",
              "      background-color: #E2EBFA;\n",
              "      box-shadow: 0px 1px 2px rgba(60, 64, 67, 0.3), 0px 1px 3px 1px rgba(60, 64, 67, 0.15);\n",
              "      fill: #174EA6;\n",
              "    }\n",
              "\n",
              "    .colab-df-buttons div {\n",
              "      margin-bottom: 4px;\n",
              "    }\n",
              "\n",
              "    [theme=dark] .colab-df-convert {\n",
              "      background-color: #3B4455;\n",
              "      fill: #D2E3FC;\n",
              "    }\n",
              "\n",
              "    [theme=dark] .colab-df-convert:hover {\n",
              "      background-color: #434B5C;\n",
              "      box-shadow: 0px 1px 3px 1px rgba(0, 0, 0, 0.15);\n",
              "      filter: drop-shadow(0px 1px 2px rgba(0, 0, 0, 0.3));\n",
              "      fill: #FFFFFF;\n",
              "    }\n",
              "  </style>\n",
              "\n",
              "    <script>\n",
              "      const buttonEl =\n",
              "        document.querySelector('#df-89053358-5f11-44f6-b36e-ffad7f126de0 button.colab-df-convert');\n",
              "      buttonEl.style.display =\n",
              "        google.colab.kernel.accessAllowed ? 'block' : 'none';\n",
              "\n",
              "      async function convertToInteractive(key) {\n",
              "        const element = document.querySelector('#df-89053358-5f11-44f6-b36e-ffad7f126de0');\n",
              "        const dataTable =\n",
              "          await google.colab.kernel.invokeFunction('convertToInteractive',\n",
              "                                                    [key], {});\n",
              "        if (!dataTable) return;\n",
              "\n",
              "        const docLinkHtml = 'Like what you see? Visit the ' +\n",
              "          '<a target=\"_blank\" href=https://colab.research.google.com/notebooks/data_table.ipynb>data table notebook</a>'\n",
              "          + ' to learn more about interactive tables.';\n",
              "        element.innerHTML = '';\n",
              "        dataTable['output_type'] = 'display_data';\n",
              "        await google.colab.output.renderOutput(dataTable, element);\n",
              "        const docLink = document.createElement('div');\n",
              "        docLink.innerHTML = docLinkHtml;\n",
              "        element.appendChild(docLink);\n",
              "      }\n",
              "    </script>\n",
              "  </div>\n",
              "\n",
              "\n",
              "<div id=\"df-f83001f0-c58c-4833-bddf-9fe12740d085\">\n",
              "  <button class=\"colab-df-quickchart\" onclick=\"quickchart('df-f83001f0-c58c-4833-bddf-9fe12740d085')\"\n",
              "            title=\"Suggest charts\"\n",
              "            style=\"display:none;\">\n",
              "\n",
              "<svg xmlns=\"http://www.w3.org/2000/svg\" height=\"24px\"viewBox=\"0 0 24 24\"\n",
              "     width=\"24px\">\n",
              "    <g>\n",
              "        <path d=\"M19 3H5c-1.1 0-2 .9-2 2v14c0 1.1.9 2 2 2h14c1.1 0 2-.9 2-2V5c0-1.1-.9-2-2-2zM9 17H7v-7h2v7zm4 0h-2V7h2v10zm4 0h-2v-4h2v4z\"/>\n",
              "    </g>\n",
              "</svg>\n",
              "  </button>\n",
              "\n",
              "<style>\n",
              "  .colab-df-quickchart {\n",
              "      --bg-color: #E8F0FE;\n",
              "      --fill-color: #1967D2;\n",
              "      --hover-bg-color: #E2EBFA;\n",
              "      --hover-fill-color: #174EA6;\n",
              "      --disabled-fill-color: #AAA;\n",
              "      --disabled-bg-color: #DDD;\n",
              "  }\n",
              "\n",
              "  [theme=dark] .colab-df-quickchart {\n",
              "      --bg-color: #3B4455;\n",
              "      --fill-color: #D2E3FC;\n",
              "      --hover-bg-color: #434B5C;\n",
              "      --hover-fill-color: #FFFFFF;\n",
              "      --disabled-bg-color: #3B4455;\n",
              "      --disabled-fill-color: #666;\n",
              "  }\n",
              "\n",
              "  .colab-df-quickchart {\n",
              "    background-color: var(--bg-color);\n",
              "    border: none;\n",
              "    border-radius: 50%;\n",
              "    cursor: pointer;\n",
              "    display: none;\n",
              "    fill: var(--fill-color);\n",
              "    height: 32px;\n",
              "    padding: 0;\n",
              "    width: 32px;\n",
              "  }\n",
              "\n",
              "  .colab-df-quickchart:hover {\n",
              "    background-color: var(--hover-bg-color);\n",
              "    box-shadow: 0 1px 2px rgba(60, 64, 67, 0.3), 0 1px 3px 1px rgba(60, 64, 67, 0.15);\n",
              "    fill: var(--button-hover-fill-color);\n",
              "  }\n",
              "\n",
              "  .colab-df-quickchart-complete:disabled,\n",
              "  .colab-df-quickchart-complete:disabled:hover {\n",
              "    background-color: var(--disabled-bg-color);\n",
              "    fill: var(--disabled-fill-color);\n",
              "    box-shadow: none;\n",
              "  }\n",
              "\n",
              "  .colab-df-spinner {\n",
              "    border: 2px solid var(--fill-color);\n",
              "    border-color: transparent;\n",
              "    border-bottom-color: var(--fill-color);\n",
              "    animation:\n",
              "      spin 1s steps(1) infinite;\n",
              "  }\n",
              "\n",
              "  @keyframes spin {\n",
              "    0% {\n",
              "      border-color: transparent;\n",
              "      border-bottom-color: var(--fill-color);\n",
              "      border-left-color: var(--fill-color);\n",
              "    }\n",
              "    20% {\n",
              "      border-color: transparent;\n",
              "      border-left-color: var(--fill-color);\n",
              "      border-top-color: var(--fill-color);\n",
              "    }\n",
              "    30% {\n",
              "      border-color: transparent;\n",
              "      border-left-color: var(--fill-color);\n",
              "      border-top-color: var(--fill-color);\n",
              "      border-right-color: var(--fill-color);\n",
              "    }\n",
              "    40% {\n",
              "      border-color: transparent;\n",
              "      border-right-color: var(--fill-color);\n",
              "      border-top-color: var(--fill-color);\n",
              "    }\n",
              "    60% {\n",
              "      border-color: transparent;\n",
              "      border-right-color: var(--fill-color);\n",
              "    }\n",
              "    80% {\n",
              "      border-color: transparent;\n",
              "      border-right-color: var(--fill-color);\n",
              "      border-bottom-color: var(--fill-color);\n",
              "    }\n",
              "    90% {\n",
              "      border-color: transparent;\n",
              "      border-bottom-color: var(--fill-color);\n",
              "    }\n",
              "  }\n",
              "</style>\n",
              "\n",
              "  <script>\n",
              "    async function quickchart(key) {\n",
              "      const quickchartButtonEl =\n",
              "        document.querySelector('#' + key + ' button');\n",
              "      quickchartButtonEl.disabled = true;  // To prevent multiple clicks.\n",
              "      quickchartButtonEl.classList.add('colab-df-spinner');\n",
              "      try {\n",
              "        const charts = await google.colab.kernel.invokeFunction(\n",
              "            'suggestCharts', [key], {});\n",
              "      } catch (error) {\n",
              "        console.error('Error during call to suggestCharts:', error);\n",
              "      }\n",
              "      quickchartButtonEl.classList.remove('colab-df-spinner');\n",
              "      quickchartButtonEl.classList.add('colab-df-quickchart-complete');\n",
              "    }\n",
              "    (() => {\n",
              "      let quickchartButtonEl =\n",
              "        document.querySelector('#df-f83001f0-c58c-4833-bddf-9fe12740d085 button');\n",
              "      quickchartButtonEl.style.display =\n",
              "        google.colab.kernel.accessAllowed ? 'block' : 'none';\n",
              "    })();\n",
              "  </script>\n",
              "</div>\n",
              "    </div>\n",
              "  </div>\n"
            ]
          },
          "metadata": {}
        }
      ],
      "source": [
        "correlation_purpose_debt = data.pivot_table(\n",
        "    index=['purpose_category'],\n",
        "    values='debt',\n",
        "    aggfunc={'count', 'sum'}\n",
        ")\n",
        "correlation_purpose_debt = correlation_purpose_debt.rename(\n",
        "    columns={'count':'amount of credits', 'sum':'amount of debts'}\n",
        ")\n",
        "correlation_purpose_debt['correlation'] = (\n",
        "    correlation_purpose_debt['amount of debts'] /\n",
        "    correlation_purpose_debt['amount of credits']\n",
        ").apply(lambda x: format(x, '.2%'))\n",
        "\n",
        "display(correlation_purpose_debt.sort_values(by='correlation', ascending=False))"
      ]
    },
    {
      "cell_type": "code",
      "execution_count": 35,
      "id": "75ef359e",
      "metadata": {
        "id": "75ef359e"
      },
      "outputs": [],
      "source": [
        "amount_purpose = data.pivot_table(index = ['purpose_category'], values = 'debt', aggfunc = {'count', 'sum'})"
      ]
    },
    {
      "cell_type": "markdown",
      "id": "1d019ef0",
      "metadata": {
        "deletable": false,
        "id": "1d019ef0"
      },
      "source": [
        "**Вывод:**  \n",
        "Кредит на операции с недвижимостью будет возвращен в срок с большей вероятностью. Чаще всего это кредиты на большую сумму, заёмщики готовятся заранее к получению жилищных кредитов и заранее просчитывают риски.  \n",
        "Кредит на проведение свадьбы так же имеет более высокую вероятность возврата, видимо, молодожены не хотят начинать семейную жизнь с долгов.  \n",
        "Автокредиты имеют бОльшую долю невозвратов, возможно это связано с тем, что заёмщик покупает автомобиль, обслуживание которого ему не по карману (кредит, страховки, ТО и т.д.).  \n",
        "Кредит на образование так же имеет риски не быть возвращенным в срок, скорее всего связано с нестабильным финансовым положением заёмщмка после окончания обучения.  "
      ]
    },
    {
      "cell_type": "markdown",
      "id": "10f7a90d",
      "metadata": {
        "deletable": false,
        "editable": false,
        "id": "10f7a90d"
      },
      "source": [
        "#### 3.5 Приведите возможные причины появления пропусков в исходных данных."
      ]
    },
    {
      "cell_type": "markdown",
      "id": "ce609408",
      "metadata": {
        "deletable": false,
        "id": "ce609408"
      },
      "source": [
        "Число пропусков в 'total_income' и 'days_employed' было одинаковым, возможно одно значение завязано на другом технологически.  \n",
        "\n",
        "Причинами могут быть:  \n",
        "-технические сбои при выгрузке информации;  \n",
        "\n",
        "-сбои при заполнении информации, скажем, при заполнении значений онлайн: заполнение данных полей не было обязательным и заёмщики их просто не заполнили;  \n",
        "\n",
        "-ошибки при переносе данных из анкеты в датасет вручную;  \n",
        "\n",
        "-или, предположим, в одной итерации таблицы не было предусмотрено указанных столбцов, в другой итерации эти столбцы со значениями появились, при их объединении двух таблиц часть значений в столбцах осталась пропущенной.  \n",
        "\n"
      ]
    },
    {
      "cell_type": "markdown",
      "id": "1e079c54",
      "metadata": {
        "deletable": false,
        "editable": false,
        "id": "1e079c54"
      },
      "source": [
        "#### 3.6 Объясните, почему заполнить пропуски медианным значением — лучшее решение для количественных переменных."
      ]
    },
    {
      "cell_type": "markdown",
      "id": "02a167fd",
      "metadata": {
        "deletable": false,
        "id": "02a167fd"
      },
      "source": [
        "Медиана лучше отражает выборку, когда распределение имеет сдвиг или имеет выбросы значений"
      ]
    },
    {
      "cell_type": "markdown",
      "id": "e5a156c3",
      "metadata": {
        "deletable": false,
        "editable": false,
        "id": "e5a156c3"
      },
      "source": [
        "### Шаг 4: общий вывод."
      ]
    },
    {
      "cell_type": "markdown",
      "id": "d0da0605",
      "metadata": {
        "deletable": false,
        "id": "d0da0605"
      },
      "source": [
        "В ходе исследование были проверены гипотезы о влиянии на факт погашения кредита в срок:  \n",
        "-семейного положения заёмщика,  \n",
        "-количества детей заёмщика,  \n",
        "-уровня дохода заёмщика,  \n",
        "-цели кредита.  \n",
        "\n",
        "По результатам исследование однозначной взаимосвязи указанных факторов с фактом погашения кредита в срок не выявлено.  \n",
        "\n",
        "На основе полученных данных можно составить портрет заёмщика, который допустит просрочку по кредиту с наибольшей вероятностью при совпадении нескольких факторов:  \n",
        "-не состоящий или состоящий в гражданском браке;  \n",
        "-имеющий 2-х детей;  \n",
        "-с доходом менее 30 тысяч;  \n",
        "-заявленная цель кредита - операции с автомобилем, оплата образования.  \n",
        "\n",
        "Наиболее надёжный заемщик:  \n",
        "вдовец без детей с доходом от 30 до 50 тысяч, покупающий недвижимость в кредит.  \n"
      ]
    }
  ],
  "metadata": {
    "ExecuteTimeLog": [
      {
        "duration": 52,
        "start_time": "2023-02-07T10:54:02.796Z"
      },
      {
        "duration": 644,
        "start_time": "2023-02-07T10:54:09.306Z"
      },
      {
        "duration": 20,
        "start_time": "2023-02-07T10:54:09.952Z"
      },
      {
        "duration": 13,
        "start_time": "2023-02-07T10:54:09.974Z"
      },
      {
        "duration": 10,
        "start_time": "2023-02-07T10:54:09.989Z"
      },
      {
        "duration": 51,
        "start_time": "2023-02-07T10:54:10.000Z"
      },
      {
        "duration": 3,
        "start_time": "2023-02-07T10:54:10.053Z"
      },
      {
        "duration": 11,
        "start_time": "2023-02-07T10:54:10.057Z"
      },
      {
        "duration": 4,
        "start_time": "2023-02-07T10:54:10.069Z"
      },
      {
        "duration": 13,
        "start_time": "2023-02-07T10:54:10.075Z"
      },
      {
        "duration": 5,
        "start_time": "2023-02-07T10:54:10.091Z"
      },
      {
        "duration": 63,
        "start_time": "2023-02-07T10:54:10.099Z"
      },
      {
        "duration": 9,
        "start_time": "2023-02-07T10:54:10.163Z"
      },
      {
        "duration": 3,
        "start_time": "2023-02-07T10:54:10.174Z"
      },
      {
        "duration": 12,
        "start_time": "2023-02-07T10:54:10.178Z"
      },
      {
        "duration": 20,
        "start_time": "2023-02-07T10:54:10.192Z"
      },
      {
        "duration": 38,
        "start_time": "2023-02-07T10:54:10.214Z"
      },
      {
        "duration": 5,
        "start_time": "2023-02-07T10:54:10.253Z"
      },
      {
        "duration": 11,
        "start_time": "2023-02-07T10:54:10.259Z"
      },
      {
        "duration": 10,
        "start_time": "2023-02-07T10:54:10.272Z"
      },
      {
        "duration": 4,
        "start_time": "2023-02-07T10:54:10.283Z"
      },
      {
        "duration": 14,
        "start_time": "2023-02-07T10:54:10.289Z"
      },
      {
        "duration": 5,
        "start_time": "2023-02-07T10:54:10.305Z"
      },
      {
        "duration": 5,
        "start_time": "2023-02-07T10:54:10.312Z"
      },
      {
        "duration": 30,
        "start_time": "2023-02-07T10:54:10.319Z"
      },
      {
        "duration": 5,
        "start_time": "2023-02-07T10:54:10.351Z"
      },
      {
        "duration": 119,
        "start_time": "2023-02-07T11:09:30.053Z"
      },
      {
        "duration": 3,
        "start_time": "2023-02-07T11:10:32.981Z"
      },
      {
        "duration": 4,
        "start_time": "2023-02-07T11:10:41.184Z"
      },
      {
        "duration": 3,
        "start_time": "2023-02-07T11:11:13.903Z"
      },
      {
        "duration": 6,
        "start_time": "2023-02-07T11:11:20.193Z"
      },
      {
        "duration": 3,
        "start_time": "2023-02-07T11:55:17.723Z"
      },
      {
        "duration": 7,
        "start_time": "2023-02-07T11:55:18.841Z"
      },
      {
        "duration": 42,
        "start_time": "2023-02-07T11:55:20.445Z"
      },
      {
        "duration": 13,
        "start_time": "2023-02-07T11:57:01.348Z"
      },
      {
        "duration": 7,
        "start_time": "2023-02-07T11:57:05.622Z"
      },
      {
        "duration": 4,
        "start_time": "2023-02-07T11:57:17.543Z"
      },
      {
        "duration": 10,
        "start_time": "2023-02-07T11:57:19.972Z"
      },
      {
        "duration": 5,
        "start_time": "2023-02-07T11:57:38.696Z"
      },
      {
        "duration": 9,
        "start_time": "2023-02-07T11:58:13.488Z"
      },
      {
        "duration": 4,
        "start_time": "2023-02-07T12:11:07.553Z"
      },
      {
        "duration": 5,
        "start_time": "2023-02-07T12:11:24.820Z"
      },
      {
        "duration": 84,
        "start_time": "2023-02-07T12:18:25.663Z"
      },
      {
        "duration": 80,
        "start_time": "2023-02-07T12:18:42.231Z"
      },
      {
        "duration": 85,
        "start_time": "2023-02-07T12:18:53.162Z"
      },
      {
        "duration": 21,
        "start_time": "2023-02-07T12:19:30.305Z"
      },
      {
        "duration": 19,
        "start_time": "2023-02-07T12:19:56.812Z"
      },
      {
        "duration": 21,
        "start_time": "2023-02-07T12:20:12.182Z"
      },
      {
        "duration": 20,
        "start_time": "2023-02-07T12:47:03.594Z"
      },
      {
        "duration": 74,
        "start_time": "2023-02-07T12:59:32.487Z"
      },
      {
        "duration": 38,
        "start_time": "2023-02-07T12:59:41.735Z"
      },
      {
        "duration": 1415,
        "start_time": "2023-02-07T13:01:31.449Z"
      },
      {
        "duration": 1604,
        "start_time": "2023-02-07T13:01:36.246Z"
      },
      {
        "duration": 32,
        "start_time": "2023-02-07T13:02:51.086Z"
      },
      {
        "duration": 21,
        "start_time": "2023-02-07T13:05:22.072Z"
      },
      {
        "duration": 24,
        "start_time": "2023-02-07T13:05:45.595Z"
      },
      {
        "duration": 21,
        "start_time": "2023-02-07T13:05:58.687Z"
      },
      {
        "duration": 82,
        "start_time": "2023-02-07T13:06:42.218Z"
      },
      {
        "duration": 4,
        "start_time": "2023-02-07T13:06:52.916Z"
      },
      {
        "duration": 18,
        "start_time": "2023-02-07T13:37:56.192Z"
      },
      {
        "duration": 5,
        "start_time": "2023-02-07T15:00:24.074Z"
      },
      {
        "duration": 7,
        "start_time": "2023-02-07T15:00:37.255Z"
      },
      {
        "duration": 20,
        "start_time": "2023-02-07T15:01:19.838Z"
      },
      {
        "duration": 19,
        "start_time": "2023-02-07T15:01:31.660Z"
      },
      {
        "duration": 20,
        "start_time": "2023-02-07T15:01:42.182Z"
      },
      {
        "duration": 22,
        "start_time": "2023-02-07T15:13:28.608Z"
      },
      {
        "duration": 117,
        "start_time": "2023-02-07T15:13:50.605Z"
      },
      {
        "duration": 20,
        "start_time": "2023-02-07T15:14:09.997Z"
      },
      {
        "duration": 21,
        "start_time": "2023-02-07T15:14:48.011Z"
      },
      {
        "duration": 434,
        "start_time": "2023-02-08T12:22:47.744Z"
      },
      {
        "duration": 22,
        "start_time": "2023-02-08T12:22:48.180Z"
      },
      {
        "duration": 13,
        "start_time": "2023-02-08T12:22:48.203Z"
      },
      {
        "duration": 8,
        "start_time": "2023-02-08T12:22:48.218Z"
      },
      {
        "duration": 32,
        "start_time": "2023-02-08T12:22:48.228Z"
      },
      {
        "duration": 3,
        "start_time": "2023-02-08T12:22:48.261Z"
      },
      {
        "duration": 9,
        "start_time": "2023-02-08T12:22:48.266Z"
      },
      {
        "duration": 6,
        "start_time": "2023-02-08T12:22:48.276Z"
      },
      {
        "duration": 28,
        "start_time": "2023-02-08T12:22:48.284Z"
      },
      {
        "duration": 4,
        "start_time": "2023-02-08T12:22:48.313Z"
      },
      {
        "duration": 34,
        "start_time": "2023-02-08T12:22:48.318Z"
      },
      {
        "duration": 8,
        "start_time": "2023-02-08T12:22:48.354Z"
      },
      {
        "duration": 3,
        "start_time": "2023-02-08T12:22:48.364Z"
      },
      {
        "duration": 10,
        "start_time": "2023-02-08T12:22:48.369Z"
      },
      {
        "duration": 45,
        "start_time": "2023-02-08T12:22:48.380Z"
      },
      {
        "duration": 15,
        "start_time": "2023-02-08T12:22:48.426Z"
      },
      {
        "duration": 3,
        "start_time": "2023-02-08T12:22:48.443Z"
      },
      {
        "duration": 16,
        "start_time": "2023-02-08T12:22:48.447Z"
      },
      {
        "duration": 5,
        "start_time": "2023-02-08T12:22:48.465Z"
      },
      {
        "duration": 10,
        "start_time": "2023-02-08T12:22:48.472Z"
      },
      {
        "duration": 28,
        "start_time": "2023-02-08T12:22:48.483Z"
      },
      {
        "duration": 5,
        "start_time": "2023-02-08T12:22:48.513Z"
      },
      {
        "duration": 9,
        "start_time": "2023-02-08T12:22:48.519Z"
      },
      {
        "duration": 11,
        "start_time": "2023-02-08T12:22:48.529Z"
      },
      {
        "duration": 35,
        "start_time": "2023-02-08T12:22:48.541Z"
      },
      {
        "duration": 3,
        "start_time": "2023-02-08T12:22:48.577Z"
      },
      {
        "duration": 7,
        "start_time": "2023-02-08T12:22:48.581Z"
      },
      {
        "duration": 9,
        "start_time": "2023-02-08T12:22:48.589Z"
      },
      {
        "duration": 17,
        "start_time": "2023-02-08T12:22:48.600Z"
      },
      {
        "duration": 20,
        "start_time": "2023-02-08T12:22:48.618Z"
      },
      {
        "duration": 18,
        "start_time": "2023-02-08T12:22:48.639Z"
      },
      {
        "duration": 19,
        "start_time": "2023-02-08T12:22:48.658Z"
      },
      {
        "duration": 32,
        "start_time": "2023-02-08T12:22:48.678Z"
      },
      {
        "duration": 48,
        "start_time": "2023-02-08T19:12:28.644Z"
      },
      {
        "duration": 539,
        "start_time": "2023-02-08T19:12:37.035Z"
      },
      {
        "duration": 24,
        "start_time": "2023-02-08T19:12:37.576Z"
      },
      {
        "duration": 20,
        "start_time": "2023-02-08T19:12:37.602Z"
      },
      {
        "duration": 13,
        "start_time": "2023-02-08T19:12:37.625Z"
      },
      {
        "duration": 42,
        "start_time": "2023-02-08T19:12:37.640Z"
      },
      {
        "duration": 22,
        "start_time": "2023-02-08T19:12:37.683Z"
      },
      {
        "duration": 10,
        "start_time": "2023-02-08T19:12:37.707Z"
      },
      {
        "duration": 5,
        "start_time": "2023-02-08T19:12:37.719Z"
      },
      {
        "duration": 10,
        "start_time": "2023-02-08T19:12:37.726Z"
      },
      {
        "duration": 4,
        "start_time": "2023-02-08T19:12:37.738Z"
      },
      {
        "duration": 66,
        "start_time": "2023-02-08T19:12:37.744Z"
      },
      {
        "duration": 9,
        "start_time": "2023-02-08T19:12:37.811Z"
      },
      {
        "duration": 4,
        "start_time": "2023-02-08T19:12:37.822Z"
      },
      {
        "duration": 15,
        "start_time": "2023-02-08T19:12:37.827Z"
      },
      {
        "duration": 34,
        "start_time": "2023-02-08T19:12:37.844Z"
      },
      {
        "duration": 29,
        "start_time": "2023-02-08T19:12:37.879Z"
      },
      {
        "duration": 4,
        "start_time": "2023-02-08T19:12:37.910Z"
      },
      {
        "duration": 13,
        "start_time": "2023-02-08T19:12:37.916Z"
      },
      {
        "duration": 9,
        "start_time": "2023-02-08T19:12:37.930Z"
      },
      {
        "duration": 5,
        "start_time": "2023-02-08T19:12:37.941Z"
      },
      {
        "duration": 15,
        "start_time": "2023-02-08T19:12:37.948Z"
      },
      {
        "duration": 11,
        "start_time": "2023-02-08T19:12:37.965Z"
      },
      {
        "duration": 27,
        "start_time": "2023-02-08T19:12:37.977Z"
      },
      {
        "duration": 12,
        "start_time": "2023-02-08T19:12:38.006Z"
      },
      {
        "duration": 20,
        "start_time": "2023-02-08T19:12:38.020Z"
      },
      {
        "duration": 4,
        "start_time": "2023-02-08T19:12:38.042Z"
      },
      {
        "duration": 12,
        "start_time": "2023-02-08T19:12:38.048Z"
      },
      {
        "duration": 8,
        "start_time": "2023-02-08T19:12:38.064Z"
      },
      {
        "duration": 9,
        "start_time": "2023-02-08T19:12:38.074Z"
      },
      {
        "duration": 38,
        "start_time": "2023-02-08T19:12:38.085Z"
      },
      {
        "duration": 20,
        "start_time": "2023-02-08T19:12:38.125Z"
      },
      {
        "duration": 23,
        "start_time": "2023-02-08T19:12:38.147Z"
      },
      {
        "duration": 45,
        "start_time": "2023-02-08T19:12:38.172Z"
      },
      {
        "duration": 490,
        "start_time": "2023-02-08T22:01:08.189Z"
      },
      {
        "duration": 27,
        "start_time": "2023-02-08T22:01:08.680Z"
      },
      {
        "duration": 16,
        "start_time": "2023-02-08T22:01:08.709Z"
      },
      {
        "duration": 11,
        "start_time": "2023-02-08T22:01:08.727Z"
      },
      {
        "duration": 33,
        "start_time": "2023-02-08T22:01:08.739Z"
      },
      {
        "duration": 25,
        "start_time": "2023-02-08T22:01:08.774Z"
      },
      {
        "duration": 22,
        "start_time": "2023-02-08T22:01:08.800Z"
      },
      {
        "duration": 4,
        "start_time": "2023-02-08T22:01:08.823Z"
      },
      {
        "duration": 14,
        "start_time": "2023-02-08T22:01:08.829Z"
      },
      {
        "duration": 4,
        "start_time": "2023-02-08T22:01:08.847Z"
      },
      {
        "duration": 50,
        "start_time": "2023-02-08T22:01:08.853Z"
      },
      {
        "duration": 15,
        "start_time": "2023-02-08T22:01:08.905Z"
      },
      {
        "duration": 6,
        "start_time": "2023-02-08T22:01:08.921Z"
      },
      {
        "duration": 37,
        "start_time": "2023-02-08T22:01:08.928Z"
      },
      {
        "duration": 21,
        "start_time": "2023-02-08T22:01:08.967Z"
      },
      {
        "duration": 32,
        "start_time": "2023-02-08T22:01:08.990Z"
      },
      {
        "duration": 4,
        "start_time": "2023-02-08T22:01:09.023Z"
      },
      {
        "duration": 13,
        "start_time": "2023-02-08T22:01:09.029Z"
      },
      {
        "duration": 8,
        "start_time": "2023-02-08T22:01:09.044Z"
      },
      {
        "duration": 4,
        "start_time": "2023-02-08T22:01:09.053Z"
      },
      {
        "duration": 10,
        "start_time": "2023-02-08T22:01:09.058Z"
      },
      {
        "duration": 5,
        "start_time": "2023-02-08T22:01:09.069Z"
      },
      {
        "duration": 29,
        "start_time": "2023-02-08T22:01:09.075Z"
      },
      {
        "duration": 9,
        "start_time": "2023-02-08T22:01:09.106Z"
      },
      {
        "duration": 21,
        "start_time": "2023-02-08T22:01:09.117Z"
      },
      {
        "duration": 2,
        "start_time": "2023-02-08T22:01:09.140Z"
      },
      {
        "duration": 7,
        "start_time": "2023-02-08T22:01:09.144Z"
      },
      {
        "duration": 7,
        "start_time": "2023-02-08T22:01:09.153Z"
      },
      {
        "duration": 7,
        "start_time": "2023-02-08T22:01:09.161Z"
      },
      {
        "duration": 33,
        "start_time": "2023-02-08T22:01:09.169Z"
      },
      {
        "duration": 20,
        "start_time": "2023-02-08T22:01:09.205Z"
      },
      {
        "duration": 19,
        "start_time": "2023-02-08T22:01:09.226Z"
      },
      {
        "duration": 13,
        "start_time": "2023-02-08T22:01:09.246Z"
      },
      {
        "duration": 133,
        "start_time": "2023-02-08T22:01:57.750Z"
      },
      {
        "duration": 46,
        "start_time": "2023-03-11T11:35:46.397Z"
      },
      {
        "duration": 565,
        "start_time": "2023-03-11T11:35:51.226Z"
      },
      {
        "duration": 25,
        "start_time": "2023-03-11T11:35:51.793Z"
      },
      {
        "duration": 17,
        "start_time": "2023-03-11T11:35:51.819Z"
      },
      {
        "duration": 18,
        "start_time": "2023-03-11T11:35:51.839Z"
      },
      {
        "duration": 37,
        "start_time": "2023-03-11T11:35:51.859Z"
      },
      {
        "duration": 4,
        "start_time": "2023-03-11T11:35:51.898Z"
      },
      {
        "duration": 11,
        "start_time": "2023-03-11T11:35:51.904Z"
      },
      {
        "duration": 5,
        "start_time": "2023-03-11T11:35:51.917Z"
      },
      {
        "duration": 9,
        "start_time": "2023-03-11T11:35:51.954Z"
      },
      {
        "duration": 15,
        "start_time": "2023-03-11T11:35:51.966Z"
      },
      {
        "duration": 37,
        "start_time": "2023-03-11T11:35:51.983Z"
      },
      {
        "duration": 32,
        "start_time": "2023-03-11T11:35:52.022Z"
      },
      {
        "duration": 3,
        "start_time": "2023-03-11T11:35:52.056Z"
      },
      {
        "duration": 21,
        "start_time": "2023-03-11T11:35:52.061Z"
      },
      {
        "duration": 22,
        "start_time": "2023-03-11T11:35:52.083Z"
      },
      {
        "duration": 19,
        "start_time": "2023-03-11T11:35:52.107Z"
      },
      {
        "duration": 7,
        "start_time": "2023-03-11T11:35:52.128Z"
      },
      {
        "duration": 11,
        "start_time": "2023-03-11T11:35:52.154Z"
      },
      {
        "duration": 10,
        "start_time": "2023-03-11T11:35:52.166Z"
      },
      {
        "duration": 8,
        "start_time": "2023-03-11T11:35:52.178Z"
      },
      {
        "duration": 25,
        "start_time": "2023-03-11T11:35:52.188Z"
      },
      {
        "duration": 9,
        "start_time": "2023-03-11T11:35:52.215Z"
      },
      {
        "duration": 5,
        "start_time": "2023-03-11T11:35:52.226Z"
      },
      {
        "duration": 22,
        "start_time": "2023-03-11T11:35:52.233Z"
      },
      {
        "duration": 23,
        "start_time": "2023-03-11T11:35:52.257Z"
      },
      {
        "duration": 4,
        "start_time": "2023-03-11T11:35:52.281Z"
      },
      {
        "duration": 11,
        "start_time": "2023-03-11T11:35:52.287Z"
      },
      {
        "duration": 18,
        "start_time": "2023-03-11T11:35:52.303Z"
      },
      {
        "duration": 7,
        "start_time": "2023-03-11T11:35:52.323Z"
      },
      {
        "duration": 40,
        "start_time": "2023-03-11T11:35:52.331Z"
      },
      {
        "duration": 21,
        "start_time": "2023-03-11T11:35:52.372Z"
      },
      {
        "duration": 22,
        "start_time": "2023-03-11T11:35:52.395Z"
      },
      {
        "duration": 39,
        "start_time": "2023-03-11T11:35:52.419Z"
      }
    ],
    "colab": {
      "provenance": []
    },
    "kernelspec": {
      "display_name": "Python 3 (ipykernel)",
      "language": "python",
      "name": "python3"
    },
    "language_info": {
      "codemirror_mode": {
        "name": "ipython",
        "version": 3
      },
      "file_extension": ".py",
      "mimetype": "text/x-python",
      "name": "python",
      "nbconvert_exporter": "python",
      "pygments_lexer": "ipython3",
      "version": "3.9.5"
    },
    "toc": {
      "base_numbering": 1,
      "nav_menu": {},
      "number_sections": true,
      "sideBar": true,
      "skip_h1_title": true,
      "title_cell": "Table of Contents",
      "title_sidebar": "Contents",
      "toc_cell": false,
      "toc_position": {
        "height": "calc(100% - 180px)",
        "left": "10px",
        "top": "150px",
        "width": "291.534px"
      },
      "toc_section_display": true,
      "toc_window_display": true
    }
  },
  "nbformat": 4,
  "nbformat_minor": 5
}