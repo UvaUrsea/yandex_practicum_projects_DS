{
 "cells": [
  {
   "cell_type": "markdown",
   "metadata": {},
   "source": [
    "# Выбор локации для скважины"
   ]
  },
  {
   "cell_type": "markdown",
   "metadata": {},
   "source": [
    "Добывающей компании «ГлавРосГосНефть» необходимо решить задачу по определению локации (в данном случае региона)  для бурения новой скважины.  \n",
    "Параметры отбора региона: выроятность убытков в регионе - менее 2,5%, средняя прибыль среди рассматриваемых регионов - наибольшая.\n",
    "\n",
    "Аглоритм выбора локации:  \n",
    "\n",
    "1. Сбор характеристик для скважин в избранном регионе: качество нефти и объём её запасов.   \n",
    "У нас есть три датасета с характеристиками скважин по трём регионам, содержащие следующие признаки:  \n",
    "*id — уникальный идентификатор скважины;  \n",
    "*f0, f1, f2 — три признака точек;  \n",
    "*product — объём запасов в скважине (тыс. баррелей).  \n",
    "Данные синтетические.  \n",
    "\n",
    "2. Построение модели и оценка объём запасов.  \n",
    "В нашем случае будет использованиа линейная регресии.\n",
    "При разведке региона исследуют 500 точек, из которых с помощью машинного обучения выбирают 200 лучших для разработки.  \n",
    "\n",
    "3. Выбор месторождения с самым высокими оценками значений. Количество месторождений зависит от бюджета компании и стоимости разработки одной скважины. \n",
    "\n",
    "4. Определение региона с максимальной суммарной прибылью отобранных скважин. \n",
    "\n",
    "\n",
    "Бизнес-показатели, на которые следует ориентироваться:  \n",
    "Бюджет на разработку скважин в регионе — 10 млрд рублей.  \n",
    "Один баррель сырья приносит 450 рублей дохода.  \n",
    "Доход с каждой единицы продукта составляет 450 тыс. рублей, поскольку объём указан в тысячах баррелей."
   ]
  },
  {
   "cell_type": "markdown",
   "metadata": {},
   "source": [
    "## Загрузка и подготовка данных"
   ]
  },
  {
   "cell_type": "code",
   "execution_count": 8,
   "metadata": {},
   "outputs": [],
   "source": [
    "# загрузка библиотек\n",
    "import matplotlib.pyplot as plt\n",
    "import numpy as np\n",
    "import pandas as pd\n",
    "import seaborn as sns\n",
    "from sklearn.model_selection import train_test_split\n",
    "from sklearn.linear_model import LinearRegression\n",
    "from sklearn.metrics import mean_squared_error\n",
    "from sklearn.preprocessing import RobustScaler\n",
    "from sklearn.utils import shuffle\n",
    "import warnings\n",
    "warnings.filterwarnings('ignore')"
   ]
  },
  {
   "cell_type": "code",
   "execution_count": 9,
   "metadata": {},
   "outputs": [
    {
     "data": {
      "text/html": [
       "<style>.container { width:90% !important; }</style>"
      ],
      "text/plain": [
       "<IPython.core.display.HTML object>"
      ]
     },
     "metadata": {},
     "output_type": "display_data"
    }
   ],
   "source": [
    "from IPython.core.display import display, HTML\n",
    "display(HTML(\"<style>.container { width:90% !important; }</style>\"))"
   ]
  },
  {
   "cell_type": "code",
   "execution_count": 10,
   "metadata": {},
   "outputs": [],
   "source": [
    "#задание глобальных переменных\n",
    "STATE = 12335"
   ]
  },
  {
   "cell_type": "code",
   "execution_count": 11,
   "metadata": {},
   "outputs": [],
   "source": [
    "# чтение датафреймов\n",
    "df_list = []\n",
    "for i in range(3):\n",
    "    df = pd.read_csv(f'geo_data_{i}.csv')\n",
    "    df_list.append(df)\n",
    "df_1, df_2, df_3 = df_list\n",
    "df_1.name, df_2.name, df_3.name = 'регион_1', 'регион_2', 'регион_3'"
   ]
  },
  {
   "cell_type": "code",
   "execution_count": 12,
   "metadata": {},
   "outputs": [
    {
     "data": {
      "text/plain": [
       "'регион_1'"
      ]
     },
     "metadata": {},
     "output_type": "display_data"
    },
    {
     "name": "stdout",
     "output_type": "stream",
     "text": [
      "\n",
      "Общая информация:\n",
      "<class 'pandas.core.frame.DataFrame'>\n",
      "RangeIndex: 100000 entries, 0 to 99999\n",
      "Data columns (total 5 columns):\n",
      " #   Column   Non-Null Count   Dtype  \n",
      "---  ------   --------------   -----  \n",
      " 0   id       100000 non-null  object \n",
      " 1   f0       100000 non-null  float64\n",
      " 2   f1       100000 non-null  float64\n",
      " 3   f2       100000 non-null  float64\n",
      " 4   product  100000 non-null  float64\n",
      "dtypes: float64(4), object(1)\n",
      "memory usage: 3.8+ MB\n"
     ]
    },
    {
     "data": {
      "text/plain": [
       "None"
      ]
     },
     "metadata": {},
     "output_type": "display_data"
    },
    {
     "data": {
      "text/html": [
       "<div>\n",
       "<style scoped>\n",
       "    .dataframe tbody tr th:only-of-type {\n",
       "        vertical-align: middle;\n",
       "    }\n",
       "\n",
       "    .dataframe tbody tr th {\n",
       "        vertical-align: top;\n",
       "    }\n",
       "\n",
       "    .dataframe thead th {\n",
       "        text-align: right;\n",
       "    }\n",
       "</style>\n",
       "<table border=\"1\" class=\"dataframe\">\n",
       "  <thead>\n",
       "    <tr style=\"text-align: right;\">\n",
       "      <th></th>\n",
       "      <th>id</th>\n",
       "      <th>f0</th>\n",
       "      <th>f1</th>\n",
       "      <th>f2</th>\n",
       "      <th>product</th>\n",
       "    </tr>\n",
       "  </thead>\n",
       "  <tbody>\n",
       "    <tr>\n",
       "      <th>16305</th>\n",
       "      <td>ePCSf</td>\n",
       "      <td>-0.742405</td>\n",
       "      <td>0.527503</td>\n",
       "      <td>3.667881</td>\n",
       "      <td>80.814574</td>\n",
       "    </tr>\n",
       "    <tr>\n",
       "      <th>38580</th>\n",
       "      <td>ZEqbe</td>\n",
       "      <td>0.776399</td>\n",
       "      <td>0.601258</td>\n",
       "      <td>6.961289</td>\n",
       "      <td>102.031893</td>\n",
       "    </tr>\n",
       "    <tr>\n",
       "      <th>28282</th>\n",
       "      <td>iLfPm</td>\n",
       "      <td>0.152969</td>\n",
       "      <td>-0.208423</td>\n",
       "      <td>0.940379</td>\n",
       "      <td>23.747368</td>\n",
       "    </tr>\n",
       "    <tr>\n",
       "      <th>53239</th>\n",
       "      <td>A658z</td>\n",
       "      <td>0.101906</td>\n",
       "      <td>0.130093</td>\n",
       "      <td>5.286574</td>\n",
       "      <td>79.107194</td>\n",
       "    </tr>\n",
       "    <tr>\n",
       "      <th>19371</th>\n",
       "      <td>mImrC</td>\n",
       "      <td>-0.082059</td>\n",
       "      <td>1.068062</td>\n",
       "      <td>-5.766613</td>\n",
       "      <td>21.695812</td>\n",
       "    </tr>\n",
       "    <tr>\n",
       "      <th>78997</th>\n",
       "      <td>GSij0</td>\n",
       "      <td>0.015777</td>\n",
       "      <td>0.474101</td>\n",
       "      <td>5.778886</td>\n",
       "      <td>106.536188</td>\n",
       "    </tr>\n",
       "    <tr>\n",
       "      <th>13291</th>\n",
       "      <td>SpFxs</td>\n",
       "      <td>-0.485006</td>\n",
       "      <td>0.782445</td>\n",
       "      <td>-3.792290</td>\n",
       "      <td>113.282658</td>\n",
       "    </tr>\n",
       "  </tbody>\n",
       "</table>\n",
       "</div>"
      ],
      "text/plain": [
       "          id        f0        f1        f2     product\n",
       "16305  ePCSf -0.742405  0.527503  3.667881   80.814574\n",
       "38580  ZEqbe  0.776399  0.601258  6.961289  102.031893\n",
       "28282  iLfPm  0.152969 -0.208423  0.940379   23.747368\n",
       "53239  A658z  0.101906  0.130093  5.286574   79.107194\n",
       "19371  mImrC -0.082059  1.068062 -5.766613   21.695812\n",
       "78997  GSij0  0.015777  0.474101  5.778886  106.536188\n",
       "13291  SpFxs -0.485006  0.782445 -3.792290  113.282658"
      ]
     },
     "metadata": {},
     "output_type": "display_data"
    },
    {
     "name": "stdout",
     "output_type": "stream",
     "text": [
      "\n",
      "Пропуски:\n"
     ]
    },
    {
     "data": {
      "text/plain": [
       "id         0\n",
       "f0         0\n",
       "f1         0\n",
       "f2         0\n",
       "product    0\n",
       "dtype: int64"
      ]
     },
     "metadata": {},
     "output_type": "display_data"
    },
    {
     "name": "stdout",
     "output_type": "stream",
     "text": [
      "\n",
      "Описание датафрейма:\n"
     ]
    },
    {
     "data": {
      "text/html": [
       "<div>\n",
       "<style scoped>\n",
       "    .dataframe tbody tr th:only-of-type {\n",
       "        vertical-align: middle;\n",
       "    }\n",
       "\n",
       "    .dataframe tbody tr th {\n",
       "        vertical-align: top;\n",
       "    }\n",
       "\n",
       "    .dataframe thead th {\n",
       "        text-align: right;\n",
       "    }\n",
       "</style>\n",
       "<table border=\"1\" class=\"dataframe\">\n",
       "  <thead>\n",
       "    <tr style=\"text-align: right;\">\n",
       "      <th></th>\n",
       "      <th>f0</th>\n",
       "      <th>f1</th>\n",
       "      <th>f2</th>\n",
       "      <th>product</th>\n",
       "    </tr>\n",
       "  </thead>\n",
       "  <tbody>\n",
       "    <tr>\n",
       "      <th>count</th>\n",
       "      <td>100000.000000</td>\n",
       "      <td>100000.000000</td>\n",
       "      <td>100000.000000</td>\n",
       "      <td>100000.000000</td>\n",
       "    </tr>\n",
       "    <tr>\n",
       "      <th>mean</th>\n",
       "      <td>0.500419</td>\n",
       "      <td>0.250143</td>\n",
       "      <td>2.502647</td>\n",
       "      <td>92.500000</td>\n",
       "    </tr>\n",
       "    <tr>\n",
       "      <th>std</th>\n",
       "      <td>0.871832</td>\n",
       "      <td>0.504433</td>\n",
       "      <td>3.248248</td>\n",
       "      <td>44.288691</td>\n",
       "    </tr>\n",
       "    <tr>\n",
       "      <th>min</th>\n",
       "      <td>-1.408605</td>\n",
       "      <td>-0.848218</td>\n",
       "      <td>-12.088328</td>\n",
       "      <td>0.000000</td>\n",
       "    </tr>\n",
       "    <tr>\n",
       "      <th>25%</th>\n",
       "      <td>-0.072580</td>\n",
       "      <td>-0.200881</td>\n",
       "      <td>0.287748</td>\n",
       "      <td>56.497507</td>\n",
       "    </tr>\n",
       "    <tr>\n",
       "      <th>50%</th>\n",
       "      <td>0.502360</td>\n",
       "      <td>0.250252</td>\n",
       "      <td>2.515969</td>\n",
       "      <td>91.849972</td>\n",
       "    </tr>\n",
       "    <tr>\n",
       "      <th>75%</th>\n",
       "      <td>1.073581</td>\n",
       "      <td>0.700646</td>\n",
       "      <td>4.715088</td>\n",
       "      <td>128.564089</td>\n",
       "    </tr>\n",
       "    <tr>\n",
       "      <th>max</th>\n",
       "      <td>2.362331</td>\n",
       "      <td>1.343769</td>\n",
       "      <td>16.003790</td>\n",
       "      <td>185.364347</td>\n",
       "    </tr>\n",
       "  </tbody>\n",
       "</table>\n",
       "</div>"
      ],
      "text/plain": [
       "                  f0             f1             f2        product\n",
       "count  100000.000000  100000.000000  100000.000000  100000.000000\n",
       "mean        0.500419       0.250143       2.502647      92.500000\n",
       "std         0.871832       0.504433       3.248248      44.288691\n",
       "min        -1.408605      -0.848218     -12.088328       0.000000\n",
       "25%        -0.072580      -0.200881       0.287748      56.497507\n",
       "50%         0.502360       0.250252       2.515969      91.849972\n",
       "75%         1.073581       0.700646       4.715088     128.564089\n",
       "max         2.362331       1.343769      16.003790     185.364347"
      ]
     },
     "metadata": {},
     "output_type": "display_data"
    },
    {
     "name": "stdout",
     "output_type": "stream",
     "text": [
      "\n",
      "Дубликаты:\n"
     ]
    },
    {
     "data": {
      "text/plain": [
       "0"
      ]
     },
     "metadata": {},
     "output_type": "display_data"
    },
    {
     "name": "stdout",
     "output_type": "stream",
     "text": [
      "\n",
      "Распределение признаков:\n"
     ]
    },
    {
     "data": {
      "image/png": "[encoded data removed]",
      "text/plain": [
       "<Figure size 1500x1000 with 4 Axes>"
      ]
     },
     "metadata": {},
     "output_type": "display_data"
    },
    {
     "name": "stdout",
     "output_type": "stream",
     "text": [
      "\n",
      "Корреляция признаков:\n"
     ]
    },
    {
     "data": {
      "image/png": "[encoded data removed]",
      "text/plain": [
       "<Figure size 640x480 with 2 Axes>"
      ]
     },
     "metadata": {},
     "output_type": "display_data"
    },
    {
     "data": {
      "text/plain": [
       "'регион_2'"
      ]
     },
     "metadata": {},
     "output_type": "display_data"
    },
    {
     "name": "stdout",
     "output_type": "stream",
     "text": [
      "\n",
      "Общая информация:\n",
      "<class 'pandas.core.frame.DataFrame'>\n",
      "RangeIndex: 100000 entries, 0 to 99999\n",
      "Data columns (total 5 columns):\n",
      " #   Column   Non-Null Count   Dtype  \n",
      "---  ------   --------------   -----  \n",
      " 0   id       100000 non-null  object \n",
      " 1   f0       100000 non-null  float64\n",
      " 2   f1       100000 non-null  float64\n",
      " 3   f2       100000 non-null  float64\n",
      " 4   product  100000 non-null  float64\n",
      "dtypes: float64(4), object(1)\n",
      "memory usage: 3.8+ MB\n"
     ]
    },
    {
     "data": {
      "text/plain": [
       "None"
      ]
     },
     "metadata": {},
     "output_type": "display_data"
    },
    {
     "data": {
      "text/html": [
       "<div>\n",
       "<style scoped>\n",
       "    .dataframe tbody tr th:only-of-type {\n",
       "        vertical-align: middle;\n",
       "    }\n",
       "\n",
       "    .dataframe tbody tr th {\n",
       "        vertical-align: top;\n",
       "    }\n",
       "\n",
       "    .dataframe thead th {\n",
       "        text-align: right;\n",
       "    }\n",
       "</style>\n",
       "<table border=\"1\" class=\"dataframe\">\n",
       "  <thead>\n",
       "    <tr style=\"text-align: right;\">\n",
       "      <th></th>\n",
       "      <th>id</th>\n",
       "      <th>f0</th>\n",
       "      <th>f1</th>\n",
       "      <th>f2</th>\n",
       "      <th>product</th>\n",
       "    </tr>\n",
       "  </thead>\n",
       "  <tbody>\n",
       "    <tr>\n",
       "      <th>71093</th>\n",
       "      <td>uw57o</td>\n",
       "      <td>6.372502</td>\n",
       "      <td>-6.596419</td>\n",
       "      <td>0.991733</td>\n",
       "      <td>26.953261</td>\n",
       "    </tr>\n",
       "    <tr>\n",
       "      <th>84389</th>\n",
       "      <td>G7wYy</td>\n",
       "      <td>7.863387</td>\n",
       "      <td>-6.559021</td>\n",
       "      <td>2.000091</td>\n",
       "      <td>57.085625</td>\n",
       "    </tr>\n",
       "    <tr>\n",
       "      <th>76951</th>\n",
       "      <td>BBfVn</td>\n",
       "      <td>7.216736</td>\n",
       "      <td>-1.609846</td>\n",
       "      <td>3.998263</td>\n",
       "      <td>107.813044</td>\n",
       "    </tr>\n",
       "    <tr>\n",
       "      <th>65728</th>\n",
       "      <td>SfVN4</td>\n",
       "      <td>6.066444</td>\n",
       "      <td>-1.432303</td>\n",
       "      <td>1.006322</td>\n",
       "      <td>26.953261</td>\n",
       "    </tr>\n",
       "    <tr>\n",
       "      <th>39799</th>\n",
       "      <td>KmgPX</td>\n",
       "      <td>4.356108</td>\n",
       "      <td>-10.973023</td>\n",
       "      <td>1.001809</td>\n",
       "      <td>26.953261</td>\n",
       "    </tr>\n",
       "    <tr>\n",
       "      <th>12504</th>\n",
       "      <td>TeRmo</td>\n",
       "      <td>-5.938612</td>\n",
       "      <td>-7.185551</td>\n",
       "      <td>1.999710</td>\n",
       "      <td>57.085625</td>\n",
       "    </tr>\n",
       "    <tr>\n",
       "      <th>11015</th>\n",
       "      <td>FW3en</td>\n",
       "      <td>1.115304</td>\n",
       "      <td>-3.782392</td>\n",
       "      <td>1.001442</td>\n",
       "      <td>26.953261</td>\n",
       "    </tr>\n",
       "  </tbody>\n",
       "</table>\n",
       "</div>"
      ],
      "text/plain": [
       "          id        f0         f1        f2     product\n",
       "71093  uw57o  6.372502  -6.596419  0.991733   26.953261\n",
       "84389  G7wYy  7.863387  -6.559021  2.000091   57.085625\n",
       "76951  BBfVn  7.216736  -1.609846  3.998263  107.813044\n",
       "65728  SfVN4  6.066444  -1.432303  1.006322   26.953261\n",
       "39799  KmgPX  4.356108 -10.973023  1.001809   26.953261\n",
       "12504  TeRmo -5.938612  -7.185551  1.999710   57.085625\n",
       "11015  FW3en  1.115304  -3.782392  1.001442   26.953261"
      ]
     },
     "metadata": {},
     "output_type": "display_data"
    },
    {
     "name": "stdout",
     "output_type": "stream",
     "text": [
      "\n",
      "Пропуски:\n"
     ]
    },
    {
     "data": {
      "text/plain": [
       "id         0\n",
       "f0         0\n",
       "f1         0\n",
       "f2         0\n",
       "product    0\n",
       "dtype: int64"
      ]
     },
     "metadata": {},
     "output_type": "display_data"
    },
    {
     "name": "stdout",
     "output_type": "stream",
     "text": [
      "\n",
      "Описание датафрейма:\n"
     ]
    },
    {
     "data": {
      "text/html": [
       "<div>\n",
       "<style scoped>\n",
       "    .dataframe tbody tr th:only-of-type {\n",
       "        vertical-align: middle;\n",
       "    }\n",
       "\n",
       "    .dataframe tbody tr th {\n",
       "        vertical-align: top;\n",
       "    }\n",
       "\n",
       "    .dataframe thead th {\n",
       "        text-align: right;\n",
       "    }\n",
       "</style>\n",
       "<table border=\"1\" class=\"dataframe\">\n",
       "  <thead>\n",
       "    <tr style=\"text-align: right;\">\n",
       "      <th></th>\n",
       "      <th>f0</th>\n",
       "      <th>f1</th>\n",
       "      <th>f2</th>\n",
       "      <th>product</th>\n",
       "    </tr>\n",
       "  </thead>\n",
       "  <tbody>\n",
       "    <tr>\n",
       "      <th>count</th>\n",
       "      <td>100000.000000</td>\n",
       "      <td>100000.000000</td>\n",
       "      <td>100000.000000</td>\n",
       "      <td>100000.000000</td>\n",
       "    </tr>\n",
       "    <tr>\n",
       "      <th>mean</th>\n",
       "      <td>1.141296</td>\n",
       "      <td>-4.796579</td>\n",
       "      <td>2.494541</td>\n",
       "      <td>68.825000</td>\n",
       "    </tr>\n",
       "    <tr>\n",
       "      <th>std</th>\n",
       "      <td>8.965932</td>\n",
       "      <td>5.119872</td>\n",
       "      <td>1.703572</td>\n",
       "      <td>45.944423</td>\n",
       "    </tr>\n",
       "    <tr>\n",
       "      <th>min</th>\n",
       "      <td>-31.609576</td>\n",
       "      <td>-26.358598</td>\n",
       "      <td>-0.018144</td>\n",
       "      <td>0.000000</td>\n",
       "    </tr>\n",
       "    <tr>\n",
       "      <th>25%</th>\n",
       "      <td>-6.298551</td>\n",
       "      <td>-8.267985</td>\n",
       "      <td>1.000021</td>\n",
       "      <td>26.953261</td>\n",
       "    </tr>\n",
       "    <tr>\n",
       "      <th>50%</th>\n",
       "      <td>1.153055</td>\n",
       "      <td>-4.813172</td>\n",
       "      <td>2.011479</td>\n",
       "      <td>57.085625</td>\n",
       "    </tr>\n",
       "    <tr>\n",
       "      <th>75%</th>\n",
       "      <td>8.621015</td>\n",
       "      <td>-1.332816</td>\n",
       "      <td>3.999904</td>\n",
       "      <td>107.813044</td>\n",
       "    </tr>\n",
       "    <tr>\n",
       "      <th>max</th>\n",
       "      <td>29.421755</td>\n",
       "      <td>18.734063</td>\n",
       "      <td>5.019721</td>\n",
       "      <td>137.945408</td>\n",
       "    </tr>\n",
       "  </tbody>\n",
       "</table>\n",
       "</div>"
      ],
      "text/plain": [
       "                  f0             f1             f2        product\n",
       "count  100000.000000  100000.000000  100000.000000  100000.000000\n",
       "mean        1.141296      -4.796579       2.494541      68.825000\n",
       "std         8.965932       5.119872       1.703572      45.944423\n",
       "min       -31.609576     -26.358598      -0.018144       0.000000\n",
       "25%        -6.298551      -8.267985       1.000021      26.953261\n",
       "50%         1.153055      -4.813172       2.011479      57.085625\n",
       "75%         8.621015      -1.332816       3.999904     107.813044\n",
       "max        29.421755      18.734063       5.019721     137.945408"
      ]
     },
     "metadata": {},
     "output_type": "display_data"
    },
    {
     "name": "stdout",
     "output_type": "stream",
     "text": [
      "\n",
      "Дубликаты:\n"
     ]
    },
    {
     "data": {
      "text/plain": [
       "0"
      ]
     },
     "metadata": {},
     "output_type": "display_data"
    },
    {
     "name": "stdout",
     "output_type": "stream",
     "text": [
      "\n",
      "Распределение признаков:\n"
     ]
    },
    {
     "data": {
      "image/png": "[encoded data removed]",
      "text/plain": [
       "<Figure size 1500x1000 with 4 Axes>"
      ]
     },
     "metadata": {},
     "output_type": "display_data"
    },
    {
     "name": "stdout",
     "output_type": "stream",
     "text": [
      "\n",
      "Корреляция признаков:\n"
     ]
    },
    {
     "data": {
      "image/png": "[encoded data removed]",
      "text/plain": [
       "<Figure size 640x480 with 2 Axes>"
      ]
     },
     "metadata": {},
     "output_type": "display_data"
    },
    {
     "data": {
      "text/plain": [
       "'регион_3'"
      ]
     },
     "metadata": {},
     "output_type": "display_data"
    },
    {
     "name": "stdout",
     "output_type": "stream",
     "text": [
      "\n",
      "Общая информация:\n",
      "<class 'pandas.core.frame.DataFrame'>\n",
      "RangeIndex: 100000 entries, 0 to 99999\n",
      "Data columns (total 5 columns):\n",
      " #   Column   Non-Null Count   Dtype  \n",
      "---  ------   --------------   -----  \n",
      " 0   id       100000 non-null  object \n",
      " 1   f0       100000 non-null  float64\n",
      " 2   f1       100000 non-null  float64\n",
      " 3   f2       100000 non-null  float64\n",
      " 4   product  100000 non-null  float64\n",
      "dtypes: float64(4), object(1)\n",
      "memory usage: 3.8+ MB\n"
     ]
    },
    {
     "data": {
      "text/plain": [
       "None"
      ]
     },
     "metadata": {},
     "output_type": "display_data"
    },
    {
     "data": {
      "text/html": [
       "<div>\n",
       "<style scoped>\n",
       "    .dataframe tbody tr th:only-of-type {\n",
       "        vertical-align: middle;\n",
       "    }\n",
       "\n",
       "    .dataframe tbody tr th {\n",
       "        vertical-align: top;\n",
       "    }\n",
       "\n",
       "    .dataframe thead th {\n",
       "        text-align: right;\n",
       "    }\n",
       "</style>\n",
       "<table border=\"1\" class=\"dataframe\">\n",
       "  <thead>\n",
       "    <tr style=\"text-align: right;\">\n",
       "      <th></th>\n",
       "      <th>id</th>\n",
       "      <th>f0</th>\n",
       "      <th>f1</th>\n",
       "      <th>f2</th>\n",
       "      <th>product</th>\n",
       "    </tr>\n",
       "  </thead>\n",
       "  <tbody>\n",
       "    <tr>\n",
       "      <th>30959</th>\n",
       "      <td>9ABsK</td>\n",
       "      <td>-0.911590</td>\n",
       "      <td>0.806552</td>\n",
       "      <td>2.202393</td>\n",
       "      <td>78.608655</td>\n",
       "    </tr>\n",
       "    <tr>\n",
       "      <th>80695</th>\n",
       "      <td>2ADXh</td>\n",
       "      <td>1.443657</td>\n",
       "      <td>-3.029949</td>\n",
       "      <td>5.308687</td>\n",
       "      <td>125.664374</td>\n",
       "    </tr>\n",
       "    <tr>\n",
       "      <th>26872</th>\n",
       "      <td>lV6kK</td>\n",
       "      <td>-0.884725</td>\n",
       "      <td>-2.009223</td>\n",
       "      <td>3.542445</td>\n",
       "      <td>186.311008</td>\n",
       "    </tr>\n",
       "    <tr>\n",
       "      <th>92258</th>\n",
       "      <td>97eoV</td>\n",
       "      <td>-0.586867</td>\n",
       "      <td>-0.222725</td>\n",
       "      <td>0.311477</td>\n",
       "      <td>57.428070</td>\n",
       "    </tr>\n",
       "    <tr>\n",
       "      <th>56208</th>\n",
       "      <td>7hJBx</td>\n",
       "      <td>-0.190025</td>\n",
       "      <td>1.165648</td>\n",
       "      <td>1.784632</td>\n",
       "      <td>39.609748</td>\n",
       "    </tr>\n",
       "    <tr>\n",
       "      <th>88601</th>\n",
       "      <td>cfN5F</td>\n",
       "      <td>-1.140038</td>\n",
       "      <td>1.792992</td>\n",
       "      <td>-1.533673</td>\n",
       "      <td>57.930708</td>\n",
       "    </tr>\n",
       "    <tr>\n",
       "      <th>52339</th>\n",
       "      <td>Do1xB</td>\n",
       "      <td>-1.275190</td>\n",
       "      <td>2.392184</td>\n",
       "      <td>-1.255773</td>\n",
       "      <td>54.271631</td>\n",
       "    </tr>\n",
       "  </tbody>\n",
       "</table>\n",
       "</div>"
      ],
      "text/plain": [
       "          id        f0        f1        f2     product\n",
       "30959  9ABsK -0.911590  0.806552  2.202393   78.608655\n",
       "80695  2ADXh  1.443657 -3.029949  5.308687  125.664374\n",
       "26872  lV6kK -0.884725 -2.009223  3.542445  186.311008\n",
       "92258  97eoV -0.586867 -0.222725  0.311477   57.428070\n",
       "56208  7hJBx -0.190025  1.165648  1.784632   39.609748\n",
       "88601  cfN5F -1.140038  1.792992 -1.533673   57.930708\n",
       "52339  Do1xB -1.275190  2.392184 -1.255773   54.271631"
      ]
     },
     "metadata": {},
     "output_type": "display_data"
    },
    {
     "name": "stdout",
     "output_type": "stream",
     "text": [
      "\n",
      "Пропуски:\n"
     ]
    },
    {
     "data": {
      "text/plain": [
       "id         0\n",
       "f0         0\n",
       "f1         0\n",
       "f2         0\n",
       "product    0\n",
       "dtype: int64"
      ]
     },
     "metadata": {},
     "output_type": "display_data"
    },
    {
     "name": "stdout",
     "output_type": "stream",
     "text": [
      "\n",
      "Описание датафрейма:\n"
     ]
    },
    {
     "data": {
      "text/html": [
       "<div>\n",
       "<style scoped>\n",
       "    .dataframe tbody tr th:only-of-type {\n",
       "        vertical-align: middle;\n",
       "    }\n",
       "\n",
       "    .dataframe tbody tr th {\n",
       "        vertical-align: top;\n",
       "    }\n",
       "\n",
       "    .dataframe thead th {\n",
       "        text-align: right;\n",
       "    }\n",
       "</style>\n",
       "<table border=\"1\" class=\"dataframe\">\n",
       "  <thead>\n",
       "    <tr style=\"text-align: right;\">\n",
       "      <th></th>\n",
       "      <th>f0</th>\n",
       "      <th>f1</th>\n",
       "      <th>f2</th>\n",
       "      <th>product</th>\n",
       "    </tr>\n",
       "  </thead>\n",
       "  <tbody>\n",
       "    <tr>\n",
       "      <th>count</th>\n",
       "      <td>100000.000000</td>\n",
       "      <td>100000.000000</td>\n",
       "      <td>100000.000000</td>\n",
       "      <td>100000.000000</td>\n",
       "    </tr>\n",
       "    <tr>\n",
       "      <th>mean</th>\n",
       "      <td>0.002023</td>\n",
       "      <td>-0.002081</td>\n",
       "      <td>2.495128</td>\n",
       "      <td>95.000000</td>\n",
       "    </tr>\n",
       "    <tr>\n",
       "      <th>std</th>\n",
       "      <td>1.732045</td>\n",
       "      <td>1.730417</td>\n",
       "      <td>3.473445</td>\n",
       "      <td>44.749921</td>\n",
       "    </tr>\n",
       "    <tr>\n",
       "      <th>min</th>\n",
       "      <td>-8.760004</td>\n",
       "      <td>-7.084020</td>\n",
       "      <td>-11.970335</td>\n",
       "      <td>0.000000</td>\n",
       "    </tr>\n",
       "    <tr>\n",
       "      <th>25%</th>\n",
       "      <td>-1.162288</td>\n",
       "      <td>-1.174820</td>\n",
       "      <td>0.130359</td>\n",
       "      <td>59.450441</td>\n",
       "    </tr>\n",
       "    <tr>\n",
       "      <th>50%</th>\n",
       "      <td>0.009424</td>\n",
       "      <td>-0.009482</td>\n",
       "      <td>2.484236</td>\n",
       "      <td>94.925613</td>\n",
       "    </tr>\n",
       "    <tr>\n",
       "      <th>75%</th>\n",
       "      <td>1.158535</td>\n",
       "      <td>1.163678</td>\n",
       "      <td>4.858794</td>\n",
       "      <td>130.595027</td>\n",
       "    </tr>\n",
       "    <tr>\n",
       "      <th>max</th>\n",
       "      <td>7.238262</td>\n",
       "      <td>7.844801</td>\n",
       "      <td>16.739402</td>\n",
       "      <td>190.029838</td>\n",
       "    </tr>\n",
       "  </tbody>\n",
       "</table>\n",
       "</div>"
      ],
      "text/plain": [
       "                  f0             f1             f2        product\n",
       "count  100000.000000  100000.000000  100000.000000  100000.000000\n",
       "mean        0.002023      -0.002081       2.495128      95.000000\n",
       "std         1.732045       1.730417       3.473445      44.749921\n",
       "min        -8.760004      -7.084020     -11.970335       0.000000\n",
       "25%        -1.162288      -1.174820       0.130359      59.450441\n",
       "50%         0.009424      -0.009482       2.484236      94.925613\n",
       "75%         1.158535       1.163678       4.858794     130.595027\n",
       "max         7.238262       7.844801      16.739402     190.029838"
      ]
     },
     "metadata": {},
     "output_type": "display_data"
    },
    {
     "name": "stdout",
     "output_type": "stream",
     "text": [
      "\n",
      "Дубликаты:\n"
     ]
    },
    {
     "data": {
      "text/plain": [
       "0"
      ]
     },
     "metadata": {},
     "output_type": "display_data"
    },
    {
     "name": "stdout",
     "output_type": "stream",
     "text": [
      "\n",
      "Распределение признаков:\n"
     ]
    },
    {
     "data": {
      "image/png": "[encoded data removed]",
      "text/plain": [
       "<Figure size 1500x1000 with 4 Axes>"
      ]
     },
     "metadata": {},
     "output_type": "display_data"
    },
    {
     "name": "stdout",
     "output_type": "stream",
     "text": [
      "\n",
      "Корреляция признаков:\n"
     ]
    },
    {
     "data": {
      "image/png": "[encoded data removed]",
      "text/plain": [
       "<Figure size 640x480 with 2 Axes>"
      ]
     },
     "metadata": {},
     "output_type": "display_data"
    }
   ],
   "source": [
    "# просмотр информации о данных\n",
    "for df in df_list:\n",
    "        display(df.name)\n",
    "        print('\\nОбщая информация:')\n",
    "        display(df.info())\n",
    "        display(df.sample(7))\n",
    "        print('\\nПропуски:')\n",
    "        display(df.isnull().sum().sort_values(ascending=False))\n",
    "        print('\\nОписание датафрейма:')\n",
    "        display(df.describe())\n",
    "        print('\\nДубликаты:')\n",
    "        display(df.duplicated().sum())\n",
    "        print('\\nРаспределение признаков:')\n",
    "        df.hist(bins=50, figsize=(15, 10),color = 'pink')\n",
    "        plt.show()\n",
    "        print('\\nКорреляция признаков:')\n",
    "        corr = df.corr()\n",
    "        maska = np.triu(df.corr())\n",
    "        sns.heatmap(df.corr(), vmin = -1, vmax = +1, annot = True, cmap = 'coolwarm', mask =  maska)\n",
    "        plt.show()    "
   ]
  },
  {
   "cell_type": "markdown",
   "metadata": {},
   "source": [
    "Все три датафрейма содержат 10000 строк и 5 столбцов.\n",
    "Пропусков в данных по всем регионам нет.\n",
    "Явных дубликатов нет.\n",
    "\n",
    "Во втором датафрейме df_2 в признаке \"product\" уникальных значений всего 12, все данные распределены по ним.\n",
    "Наблюдается корреляция признака f2 с признаком \"product\" во всех датафреймах. Во втором датафрей между признаками прямая зависимость.\n",
    "\n",
    "Для масштабировани признаков применим робастное масштабирование RobustScaler, так как оно более устойчиво к возможным выбросам в данных. \n",
    "\n",
    "Столбец id удалим, для исследования не пригодится.\n",
    "\n",
    "Наш таргетный признак - \"product\"."
   ]
  },
  {
   "cell_type": "code",
   "execution_count": 13,
   "metadata": {},
   "outputs": [
    {
     "name": "stdout",
     "output_type": "stream",
     "text": [
      "регион_1:\n",
      "id          99990\n",
      "f0         100000\n",
      "f1         100000\n",
      "f2         100000\n",
      "product    100000\n",
      "dtype: int64\n",
      "\n",
      "регион_2:\n",
      "id          99996\n",
      "f0         100000\n",
      "f1         100000\n",
      "f2         100000\n",
      "product        12\n",
      "dtype: int64\n",
      "\n",
      "регион_3:\n",
      "id          99996\n",
      "f0         100000\n",
      "f1         100000\n",
      "f2         100000\n",
      "product    100000\n",
      "dtype: int64\n",
      "\n"
     ]
    }
   ],
   "source": [
    "for df in df_list:\n",
    "    print(f'{df.name}:\\n{df.nunique()}\\n')"
   ]
  },
  {
   "cell_type": "code",
   "execution_count": 14,
   "metadata": {},
   "outputs": [],
   "source": [
    "# удалим стобцы \"id\" из всех датафреймов\n",
    "for df in df_list:\n",
    "    df.drop('id', axis=1, inplace=True)"
   ]
  },
  {
   "cell_type": "markdown",
   "metadata": {},
   "source": [
    "## Обучение и проверка модели"
   ]
  },
  {
   "cell_type": "markdown",
   "metadata": {},
   "source": [
    "Функция для разделения датафрейма на обучающую и валидационную выборки в соотношении 3:1, масштабирует признаки, возвращает предказания, таргет, RMSE"
   ]
  },
  {
   "cell_type": "code",
   "execution_count": 15,
   "metadata": {},
   "outputs": [],
   "source": [
    "def split_and_fit(df):\n",
    " \n",
    "    features = df.drop('product', axis=1)\n",
    "    target = df['product']\n",
    "    features_train, features_valid, target_train, target_valid = train_test_split(\n",
    "        features, target, test_size=0.25, random_state=STATE)\n",
    "    \n",
    "    scaler = RobustScaler()\n",
    "    features_train = scaler.fit_transform(features_train)\n",
    "    features_valid = scaler.transform(features_valid)\n",
    "    \n",
    "    model = LinearRegression(normalize=False)\n",
    "    model.fit(features_train, target_train)\n",
    "    prediction = model.predict(features_valid)\n",
    "    prediction = pd.Series(prediction)\n",
    "    avg_product_pred = np.mean(prediction)\n",
    "    avg_product_true = np.mean(target_valid)\n",
    "    rmse = (mean_squared_error(prediction, target_valid))**(0.5)\n",
    "    \n",
    "    print('Cредний предсказанные запас: {0:.2f}'.format(avg_product_pred))\n",
    "    print('Средний истинный запас: {0:.2f}'.format(avg_product_true))\n",
    "    print('RMSE: {0:.2f}'.format(rmse))\n",
    "    print('Размеры выборок', features_train.shape, features_valid.shape, target_train.shape, target_valid.shape)\n",
    "    \n",
    "    return (target_valid.reset_index(drop=True), prediction,rmse, avg_product_pred, avg_product_true)"
   ]
  },
  {
   "cell_type": "code",
   "execution_count": 16,
   "metadata": {
    "scrolled": true
   },
   "outputs": [
    {
     "data": {
      "text/plain": [
       "'регион_1'"
      ]
     },
     "metadata": {},
     "output_type": "display_data"
    },
    {
     "name": "stdout",
     "output_type": "stream",
     "text": [
      "Cредний предсказанные запас: 92.64\n",
      "Средний истинный запас: 91.98\n",
      "RMSE: 37.65\n",
      "Размеры выборок (75000, 3) (25000, 3) (75000,) (25000,)\n"
     ]
    },
    {
     "data": {
      "text/plain": [
       "'регион_2'"
      ]
     },
     "metadata": {},
     "output_type": "display_data"
    },
    {
     "name": "stdout",
     "output_type": "stream",
     "text": [
      "Cредний предсказанные запас: 68.77\n",
      "Средний истинный запас: 68.77\n",
      "RMSE: 0.89\n",
      "Размеры выборок (75000, 3) (25000, 3) (75000,) (25000,)\n"
     ]
    },
    {
     "data": {
      "text/plain": [
       "'регион_3'"
      ]
     },
     "metadata": {},
     "output_type": "display_data"
    },
    {
     "name": "stdout",
     "output_type": "stream",
     "text": [
      "Cредний предсказанные запас: 94.76\n",
      "Средний истинный запас: 95.12\n",
      "RMSE: 40.00\n",
      "Размеры выборок (75000, 3) (25000, 3) (75000,) (25000,)\n"
     ]
    }
   ],
   "source": [
    "display(df_1.name)\n",
    "target_1, prediction_1, rmse_1, avg_1, avg_true_1 = split_and_fit(df_1)\n",
    "display(df_2.name)\n",
    "target_2, prediction_2, rmse_2, avg_2, avg_true_2 = split_and_fit(df_2)\n",
    "display(df_3.name)\n",
    "target_3, prediction_3, rmse_3, avg_3, avg_true_3 = split_and_fit(df_3)"
   ]
  },
  {
   "cell_type": "code",
   "execution_count": 17,
   "metadata": {
    "scrolled": true
   },
   "outputs": [
    {
     "data": {
      "text/html": [
       "<div>\n",
       "<style scoped>\n",
       "    .dataframe tbody tr th:only-of-type {\n",
       "        vertical-align: middle;\n",
       "    }\n",
       "\n",
       "    .dataframe tbody tr th {\n",
       "        vertical-align: top;\n",
       "    }\n",
       "\n",
       "    .dataframe thead th {\n",
       "        text-align: right;\n",
       "    }\n",
       "</style>\n",
       "<table border=\"1\" class=\"dataframe\">\n",
       "  <thead>\n",
       "    <tr style=\"text-align: right;\">\n",
       "      <th></th>\n",
       "      <th>Регион</th>\n",
       "      <th>RMSE</th>\n",
       "      <th>Предсказанный средний запас сырья</th>\n",
       "      <th>Истинный средний запас сырья</th>\n",
       "    </tr>\n",
       "  </thead>\n",
       "  <tbody>\n",
       "    <tr>\n",
       "      <th>0</th>\n",
       "      <td>регион_1</td>\n",
       "      <td>37.65</td>\n",
       "      <td>92.64</td>\n",
       "      <td>91.98</td>\n",
       "    </tr>\n",
       "    <tr>\n",
       "      <th>1</th>\n",
       "      <td>регион_2</td>\n",
       "      <td>0.89</td>\n",
       "      <td>68.77</td>\n",
       "      <td>68.77</td>\n",
       "    </tr>\n",
       "    <tr>\n",
       "      <th>2</th>\n",
       "      <td>регион_3</td>\n",
       "      <td>40.00</td>\n",
       "      <td>94.76</td>\n",
       "      <td>95.12</td>\n",
       "    </tr>\n",
       "  </tbody>\n",
       "</table>\n",
       "</div>"
      ],
      "text/plain": [
       "     Регион  RMSE  Предсказанный средний запас сырья  \\\n",
       "0  регион_1 37.65                              92.64   \n",
       "1  регион_2  0.89                              68.77   \n",
       "2  регион_3 40.00                              94.76   \n",
       "\n",
       "   Истинный средний запас сырья  \n",
       "0                         91.98  \n",
       "1                         68.77  \n",
       "2                         95.12  "
      ]
     },
     "metadata": {},
     "output_type": "display_data"
    }
   ],
   "source": [
    "# таблица для визуализации вывода:\n",
    "result = pd.DataFrame({\n",
    "    'Регион': [df_list[0].name, df_list[1].name, df_list[2].name], \n",
    "    'RMSE': [rmse_1, rmse_2, rmse_3], \n",
    "    'Предсказанный средний запас сырья': [avg_1, avg_2, avg_3], \n",
    "    'Истинный средний запас сырья': [avg_true_1, avg_true_2, avg_true_3],\n",
    "    \n",
    "})\n",
    "pd.set_option('display.float_format', '{:.2f}'.format)\n",
    "display(result)"
   ]
  },
  {
   "cell_type": "markdown",
   "metadata": {},
   "source": [
    "Для каждого региона обучена модель.  \n",
    "Предсказанные средние значения запасов почти равны истинным по трем регионам.  \n",
    "Прогнозируемые объемы запасов во втором регионе ниже, чем в первом и третьем.  \n",
    "При этом значение RMSE для второго региона низкое, что возможно связано с прямой зависимостью признаков product и f2 в исходных данных.\n",
    "Регионы 1 и 3 могут представлять больший интерес, т.к. запасы в них больше, чем во втором регионе."
   ]
  },
  {
   "cell_type": "markdown",
   "metadata": {},
   "source": [
    "## Подготовка к расчёту прибыли"
   ]
  },
  {
   "cell_type": "markdown",
   "metadata": {},
   "source": [
    "Сохраним ключевые данные для расчёта в отдельных переменных"
   ]
  },
  {
   "cell_type": "code",
   "execution_count": 18,
   "metadata": {},
   "outputs": [],
   "source": [
    "# количество точек при разведке региона\n",
    "POINTS = 500\n",
    "\n",
    "# количество лучших точек для разработки\n",
    "BEST_POINTS = 200\n",
    "\n",
    "# бюджет на разработку скважин в регионе\n",
    "DEVELOPMENT_BUDGET = 1e10\n",
    "\n",
    "# доход с одного барреля сырья в рублях\n",
    "BARREL_REVENUE = 450\n",
    "\n",
    "# доход с каждой единицы продукта составляет 450 тыс. рублей, поскольку объём указан в тысячах баррелей\n",
    "PRODUCT_REVENUE = BARREL_REVENUE * 1000\n",
    "\n",
    "# вероятность убытков меньше 2.5%\n",
    "LOSS_PROBABILITY = 2.5"
   ]
  },
  {
   "cell_type": "markdown",
   "metadata": {},
   "source": [
    "Рассчитаем достаточный объём сырья для безубыточной разработки новой скважины и сравним полученный объём сырья со средним запасом в каждом регионе, полученном в предсказании."
   ]
  },
  {
   "cell_type": "code",
   "execution_count": 19,
   "metadata": {},
   "outputs": [
    {
     "name": "stdout",
     "output_type": "stream",
     "text": [
      "Объём нефти в регионе для безубыточной разработки: 22222.22 тыс. баррелей\n"
     ]
    }
   ],
   "source": [
    "# необходимый объем нефти в регионе для безубыточной разработки\n",
    "sufficient_volume_region = DEVELOPMENT_BUDGET / PRODUCT_REVENUE\n",
    "print(f'Объём нефти в регионе для безубыточной разработки: {sufficient_volume_region:.2f} тыс. баррелей')"
   ]
  },
  {
   "cell_type": "code",
   "execution_count": 20,
   "metadata": {},
   "outputs": [
    {
     "name": "stdout",
     "output_type": "stream",
     "text": [
      "Объём одной скажины для её безубыточной разработки: 111.11 тыс. баррелей\n"
     ]
    }
   ],
   "source": [
    "# объем запасов одной скажины для безубыточной разработки 200 точек\n",
    "break_even_volume = sufficient_volume_region / BEST_POINTS\n",
    "print(f'Объём одной скажины для её безубыточной разработки: {break_even_volume:.2f} тыс. баррелей')"
   ]
  },
  {
   "cell_type": "code",
   "execution_count": 21,
   "metadata": {},
   "outputs": [
    {
     "name": "stdout",
     "output_type": "stream",
     "text": [
      "Средняя прибыль для скважины 50000000.0 руб.\n"
     ]
    }
   ],
   "source": [
    "point_average_revenue = DEVELOPMENT_BUDGET / BEST_POINTS\n",
    "print('Средняя прибыль для скважины', point_average_revenue, 'руб.')\n"
   ]
  },
  {
   "cell_type": "code",
   "execution_count": 22,
   "metadata": {},
   "outputs": [
    {
     "data": {
      "text/html": [
       "<div>\n",
       "<style scoped>\n",
       "    .dataframe tbody tr th:only-of-type {\n",
       "        vertical-align: middle;\n",
       "    }\n",
       "\n",
       "    .dataframe tbody tr th {\n",
       "        vertical-align: top;\n",
       "    }\n",
       "\n",
       "    .dataframe thead th {\n",
       "        text-align: right;\n",
       "    }\n",
       "</style>\n",
       "<table border=\"1\" class=\"dataframe\">\n",
       "  <thead>\n",
       "    <tr style=\"text-align: right;\">\n",
       "      <th></th>\n",
       "      <th>Регион</th>\n",
       "      <th>Истинный средний объём запасов</th>\n",
       "      <th>Необходимый расчётный объём запасов</th>\n",
       "    </tr>\n",
       "  </thead>\n",
       "  <tbody>\n",
       "    <tr>\n",
       "      <th>0</th>\n",
       "      <td>регион_1</td>\n",
       "      <td>91.98</td>\n",
       "      <td>111.11</td>\n",
       "    </tr>\n",
       "    <tr>\n",
       "      <th>1</th>\n",
       "      <td>регион_2</td>\n",
       "      <td>68.77</td>\n",
       "      <td>111.11</td>\n",
       "    </tr>\n",
       "    <tr>\n",
       "      <th>2</th>\n",
       "      <td>регион_3</td>\n",
       "      <td>95.12</td>\n",
       "      <td>111.11</td>\n",
       "    </tr>\n",
       "  </tbody>\n",
       "</table>\n",
       "</div>"
      ],
      "text/plain": [
       "     Регион  Истинный средний объём запасов  \\\n",
       "0  регион_1                           91.98   \n",
       "1  регион_2                           68.77   \n",
       "2  регион_3                           95.12   \n",
       "\n",
       "   Необходимый расчётный объём запасов  \n",
       "0                               111.11  \n",
       "1                               111.11  \n",
       "2                               111.11  "
      ]
     },
     "execution_count": 22,
     "metadata": {},
     "output_type": "execute_result"
    }
   ],
   "source": [
    "pd.DataFrame({\n",
    "    'Регион': [df_list[0].name, df_list[1].name, df_list[2].name], \n",
    "    'Истинный средний объём запасов': [avg_true_1, avg_true_2, avg_true_3], \n",
    "    'Необходимый расчётный объём запасов': [break_even_volume]*3    \n",
    "})"
   ]
  },
  {
   "cell_type": "markdown",
   "metadata": {},
   "source": [
    "Cредние значения запасов для всех регионов ниже необходимого расчётного объема, что говорит о том, что при разработки скважин, выбранных случайно, высок риск не окупить затраты на разработку.   \n",
    "Поэтому возьмем не 200 случайных, а 200 скважин с максимальными предсказанными значениями. Далее посчитаем выручку, полученную с этих скважин, вычтем бюджетные расходы и получим ожидемый доход."
   ]
  },
  {
   "cell_type": "markdown",
   "metadata": {},
   "source": [
    "## Расчёт прибыли и рисков "
   ]
  },
  {
   "cell_type": "code",
   "execution_count": 23,
   "metadata": {},
   "outputs": [],
   "source": [
    "def revenue(target, predicted, count):  \n",
    "    # скважины с максимальными значениями предсказаний:\n",
    "    predicted_sorted = predicted.sort_values(ascending=False)\n",
    "    # целевое значение объёмов, соответствующее этим предсказаниям:\n",
    "    selected = target[predicted_sorted.index][:count]\n",
    "    return (sum(selected) * PRODUCT_REVENUE) - DEVELOPMENT_BUDGET\n",
    "\n",
    "#print(revenue(target_1, prediction_1, BEST_POINTS))\n",
    "#print(revenue(target_2, prediction_2, BEST_POINTS))\n",
    "#print(revenue(target_3, prediction_3, BEST_POINTS))"
   ]
  },
  {
   "cell_type": "markdown",
   "metadata": {},
   "source": [
    "Для нахождения распределения прибыли будем использовать технику Bootstrap на 1000 выборок. Найдём среднюю прибыль, 95%-й доверительный интервал и риск убытков."
   ]
  },
  {
   "cell_type": "code",
   "execution_count": 24,
   "metadata": {},
   "outputs": [
    {
     "data": {
      "text/plain": [
       "'регион_1'"
      ]
     },
     "metadata": {},
     "output_type": "display_data"
    },
    {
     "name": "stdout",
     "output_type": "stream",
     "text": [
      "Средняя прибыль в регионе: 410.23 млн.руб\n",
      "Доверительный интервал от -106.14 млн.руб. до 972.73 млн.руб\n",
      "Риск: 0.062\n"
     ]
    },
    {
     "data": {
      "image/png": "[encoded data removed]",
      "text/plain": [
       "<Figure size 500x500 with 1 Axes>"
      ]
     },
     "metadata": {},
     "output_type": "display_data"
    },
    {
     "data": {
      "text/plain": [
       "'регион_2'"
      ]
     },
     "metadata": {},
     "output_type": "display_data"
    },
    {
     "name": "stdout",
     "output_type": "stream",
     "text": [
      "Средняя прибыль в регионе: 526.8 млн.руб\n",
      "Доверительный интервал от 134.48 млн.руб. до 930.07 млн.руб\n",
      "Риск: 0.005\n"
     ]
    },
    {
     "data": {
      "image/png": "[encoded data removed]",
      "text/plain": [
       "<Figure size 500x500 with 1 Axes>"
      ]
     },
     "metadata": {},
     "output_type": "display_data"
    },
    {
     "data": {
      "text/plain": [
       "'регион_3'"
      ]
     },
     "metadata": {},
     "output_type": "display_data"
    },
    {
     "name": "stdout",
     "output_type": "stream",
     "text": [
      "Средняя прибыль в регионе: 388.53 млн.руб\n",
      "Доверительный интервал от -156.44 млн.руб. до 953.37 млн.руб\n",
      "Риск: 0.086\n"
     ]
    },
    {
     "data": {
      "image/png": "[encoded data removed]",
      "text/plain": [
       "<Figure size 500x500 with 1 Axes>"
      ]
     },
     "metadata": {},
     "output_type": "display_data"
    },
    {
     "data": {
      "text/plain": [
       "(0     -69860437.96\n",
       " 1     698772890.84\n",
       " 2     551332435.37\n",
       " 3     471648608.92\n",
       " 4     407617112.33\n",
       "           ...     \n",
       " 995   364719454.34\n",
       " 996   538390861.41\n",
       " 997   529201525.14\n",
       " 998   206647823.15\n",
       " 999   704500058.67\n",
       " Length: 1000, dtype: float64,\n",
       " -156442921.45935696,\n",
       " 953365790.1368148,\n",
       " 0.086)"
      ]
     },
     "execution_count": 24,
     "metadata": {},
     "output_type": "execute_result"
    }
   ],
   "source": [
    "def best_region(target, prediction):\n",
    "    random_state = np.random.RandomState(seed=12345)\n",
    "    values = []\n",
    "    for i in range(1000):\n",
    "        target_subsample = target.sample(POINTS, replace = True, random_state = random_state)\n",
    "        preds_subsample = prediction[target_subsample.index]\n",
    "\n",
    "        values.append(revenue(target_subsample, preds_subsample, BEST_POINTS))\n",
    "\n",
    "    values = pd.Series(values)\n",
    "    lower = values.quantile(0.025)\n",
    "    upper = values.quantile(0.975)\n",
    "    #risk = values[values < 0].count()/values.count()*100\n",
    "    risk = (values < 0).mean()\n",
    "    mean = values.mean()\n",
    "    print('Средняя прибыль в регионе:', round(mean/10**6, 2), 'млн.руб')\n",
    "    print('Доверительный интервал от', round(lower/10**6, 2),'млн.руб.', 'до', round(upper/10**6, 2),'млн.руб')\n",
    "    print('Риск:', round(risk, 3))\n",
    "    values.hist(bins=30, figsize=(5, 5), color='pink')\n",
    "    plt.axvline(lower, color='g', linestyle='--')\n",
    "    plt.axvline(upper, color='r', linestyle='--')\n",
    "    plt.axvline(mean, color='black', linestyle='--')\n",
    "    plt.title('Распределение прибыли')\n",
    "    plt.xlabel('Прибыль')\n",
    "    plt.ylabel('Количество скважин')\n",
    "    plt.show()\n",
    "    return values, lower, upper, risk\n",
    "\n",
    "\n",
    "display(df_1.name)\n",
    "best_region(target_1, prediction_1)\n",
    "display(df_2.name)\n",
    "best_region(target_2, prediction_2)\n",
    "display(df_3.name)\n",
    "best_region(target_3, prediction_3)"
   ]
  },
  {
   "cell_type": "markdown",
   "metadata": {},
   "source": [
    "## Вывод:\n",
    "\n",
    "Задача исследования - помочь компании «ГлавРосГосНефть» определиться с выбором региона для разработки месторождения нефти. \n",
    "Компанией предоставлены данные с характеристиками скважин в трёх регионах.\n",
    "Данные прочитаны и сохранены в трёх датасетах, с которыми и велась работа: регион_1, регион_2, регион_3.\n",
    "По каждому региону была собрана информация о 10000 месторождениях, качестве нефти в них и объёмах её запасов.\n",
    "\n",
    "Для нахождения наилучшего для разработки региона сделано следующее:\n",
    "\n",
    "1. Подготовлены данные для машинного обучения\n",
    "2. Обучены модели для каждого региона.\n",
    "3. Определен лучший регион для разработки месторождений.\n",
    "\n",
    "Лучший регион для начала разработки по прогнозам - регион_2. \n",
    "Согласно проведенной оценки у него:\n",
    " - высокая прогнозируемая средняя прибыль (526,8 млн.руб.)\n",
    " - доверительный интервал содержит только положительные значения, и по сравнению с другими регионами он более узкий (от 134,48-930,07 млн.руб.)\n",
    " - подходящий критерий оценки рисков, согласно которому рассматриваются только те регионы, в которых вероятность убытков меньше 2.5% (0,5%).\n",
    " \n",
    "Однако, если бы данные не были синтетическими, стоило бы озаботится их корректностью, т.к. распределения данных в датафреймах по признаку 'product' для 1 и 3 регионов мультимодальное, что не очень хорошо сказывается на предсказаниях моделей, а для второго региона - это частокол из 12 уникальных значений объемов, что наоборот облегчило модели задачу. \n",
    "\n",
    "Компании «ГлавРосГосНефть» для разработки можно рекомендовать месторождения региона 2."
   ]
  }
 ],
 "metadata": {
  "ExecuteTimeLog": [
   {
    "duration": 1457,
    "start_time": "2023-06-12T07:02:33.403Z"
   },
   {
    "duration": 485,
    "start_time": "2023-06-12T07:02:36.034Z"
   },
   {
    "duration": 546,
    "start_time": "2023-06-12T07:02:47.552Z"
   },
   {
    "duration": 399,
    "start_time": "2023-06-12T07:03:08.210Z"
   },
   {
    "duration": 4,
    "start_time": "2023-06-12T07:03:13.998Z"
   },
   {
    "duration": 20,
    "start_time": "2023-06-12T07:03:39.786Z"
   },
   {
    "duration": 40,
    "start_time": "2023-06-12T07:03:58.005Z"
   },
   {
    "duration": 31,
    "start_time": "2023-06-12T07:04:07.996Z"
   },
   {
    "duration": 1924,
    "start_time": "2023-06-12T07:10:16.012Z"
   },
   {
    "duration": 387,
    "start_time": "2023-06-12T07:10:19.524Z"
   },
   {
    "duration": 152,
    "start_time": "2023-06-12T07:10:24.265Z"
   },
   {
    "duration": 3180,
    "start_time": "2023-06-12T07:14:32.186Z"
   },
   {
    "duration": 130,
    "start_time": "2023-06-12T07:18:54.969Z"
   },
   {
    "duration": 20,
    "start_time": "2023-06-12T07:19:29.604Z"
   },
   {
    "duration": 3,
    "start_time": "2023-06-12T07:32:03.365Z"
   },
   {
    "duration": 9,
    "start_time": "2023-06-12T07:32:08.057Z"
   },
   {
    "duration": 10,
    "start_time": "2023-06-12T07:32:59.464Z"
   },
   {
    "duration": 3,
    "start_time": "2023-06-12T07:37:22.438Z"
   },
   {
    "duration": 14,
    "start_time": "2023-06-12T07:37:23.113Z"
   },
   {
    "duration": 8,
    "start_time": "2023-06-12T07:37:24.129Z"
   },
   {
    "duration": 4,
    "start_time": "2023-06-12T07:42:07.684Z"
   },
   {
    "duration": 7,
    "start_time": "2023-06-12T07:44:52.880Z"
   },
   {
    "duration": 9,
    "start_time": "2023-06-12T07:44:54.830Z"
   },
   {
    "duration": 23,
    "start_time": "2023-06-12T07:45:13.957Z"
   },
   {
    "duration": 6,
    "start_time": "2023-06-12T07:45:42.743Z"
   },
   {
    "duration": 1349,
    "start_time": "2023-06-12T07:46:03.438Z"
   },
   {
    "duration": 367,
    "start_time": "2023-06-12T07:46:04.789Z"
   },
   {
    "duration": 3358,
    "start_time": "2023-06-12T07:46:07.242Z"
   },
   {
    "duration": 24,
    "start_time": "2023-06-12T07:46:18.311Z"
   },
   {
    "duration": 5,
    "start_time": "2023-06-12T07:46:20.946Z"
   },
   {
    "duration": 416,
    "start_time": "2023-06-12T07:46:22.342Z"
   },
   {
    "duration": 6,
    "start_time": "2023-06-12T07:46:44.320Z"
   },
   {
    "duration": 439,
    "start_time": "2023-06-12T07:46:47.655Z"
   },
   {
    "duration": 5,
    "start_time": "2023-06-12T07:48:30.885Z"
   },
   {
    "duration": 5,
    "start_time": "2023-06-12T07:48:37.414Z"
   },
   {
    "duration": 9,
    "start_time": "2023-06-12T07:48:53.731Z"
   },
   {
    "duration": 121,
    "start_time": "2023-06-12T07:50:17.335Z"
   },
   {
    "duration": 98,
    "start_time": "2023-06-12T07:50:25.359Z"
   },
   {
    "duration": 9,
    "start_time": "2023-06-12T07:52:39.324Z"
   },
   {
    "duration": 51,
    "start_time": "2023-06-12T07:53:45.824Z"
   },
   {
    "duration": 10,
    "start_time": "2023-06-12T07:54:00.034Z"
   },
   {
    "duration": 11,
    "start_time": "2023-06-12T07:54:26.389Z"
   },
   {
    "duration": 427,
    "start_time": "2023-06-12T07:56:15.484Z"
   },
   {
    "duration": 9,
    "start_time": "2023-06-12T07:56:22.305Z"
   },
   {
    "duration": 6,
    "start_time": "2023-06-12T08:14:30.664Z"
   },
   {
    "duration": 136,
    "start_time": "2023-06-12T08:14:31.945Z"
   },
   {
    "duration": 86,
    "start_time": "2023-06-12T08:14:56.496Z"
   },
   {
    "duration": 5,
    "start_time": "2023-06-12T08:15:08.659Z"
   },
   {
    "duration": 349,
    "start_time": "2023-06-12T08:15:09.530Z"
   },
   {
    "duration": 7,
    "start_time": "2023-06-12T08:15:43.143Z"
   },
   {
    "duration": 385,
    "start_time": "2023-06-12T08:15:43.703Z"
   },
   {
    "duration": 5,
    "start_time": "2023-06-12T08:16:50.963Z"
   },
   {
    "duration": 369,
    "start_time": "2023-06-12T08:16:51.515Z"
   },
   {
    "duration": 79,
    "start_time": "2023-06-12T08:18:09.699Z"
   },
   {
    "duration": 5,
    "start_time": "2023-06-12T08:18:27.047Z"
   },
   {
    "duration": 435,
    "start_time": "2023-06-12T08:18:28.649Z"
   },
   {
    "duration": 9,
    "start_time": "2023-06-12T08:30:33.626Z"
   },
   {
    "duration": 9,
    "start_time": "2023-06-12T08:30:38.365Z"
   },
   {
    "duration": 3,
    "start_time": "2023-06-12T08:30:47.340Z"
   },
   {
    "duration": 2,
    "start_time": "2023-06-12T08:30:49.901Z"
   },
   {
    "duration": 9,
    "start_time": "2023-06-12T08:31:05.597Z"
   },
   {
    "duration": 4,
    "start_time": "2023-06-12T08:31:15.889Z"
   },
   {
    "duration": 3,
    "start_time": "2023-06-12T08:36:49.600Z"
   },
   {
    "duration": 11,
    "start_time": "2023-06-12T08:39:47.338Z"
   },
   {
    "duration": 17,
    "start_time": "2023-06-12T11:09:15.757Z"
   },
   {
    "duration": 4,
    "start_time": "2023-06-12T11:11:27.246Z"
   },
   {
    "duration": 23,
    "start_time": "2023-06-12T11:20:48.264Z"
   },
   {
    "duration": 15,
    "start_time": "2023-06-12T11:22:55.293Z"
   },
   {
    "duration": 23,
    "start_time": "2023-06-12T11:23:20.060Z"
   },
   {
    "duration": 11,
    "start_time": "2023-06-12T11:23:41.418Z"
   },
   {
    "duration": 11,
    "start_time": "2023-06-12T11:30:25.370Z"
   },
   {
    "duration": 4,
    "start_time": "2023-06-12T11:36:49.848Z"
   },
   {
    "duration": 10,
    "start_time": "2023-06-12T11:39:11.590Z"
   },
   {
    "duration": 105,
    "start_time": "2023-06-12T11:44:13.404Z"
   },
   {
    "duration": 9,
    "start_time": "2023-06-12T11:44:21.451Z"
   },
   {
    "duration": 12,
    "start_time": "2023-06-12T11:44:53.004Z"
   },
   {
    "duration": 1383,
    "start_time": "2023-06-12T11:46:44.464Z"
   },
   {
    "duration": 406,
    "start_time": "2023-06-12T11:46:45.850Z"
   },
   {
    "duration": 3499,
    "start_time": "2023-06-12T11:46:46.258Z"
   },
   {
    "duration": 25,
    "start_time": "2023-06-12T11:46:50.810Z"
   },
   {
    "duration": 8,
    "start_time": "2023-06-12T11:46:53.292Z"
   },
   {
    "duration": 529,
    "start_time": "2023-06-12T11:46:55.360Z"
   },
   {
    "duration": 10,
    "start_time": "2023-06-12T11:46:56.073Z"
   },
   {
    "duration": 4,
    "start_time": "2023-06-12T11:48:15.653Z"
   },
   {
    "duration": 3,
    "start_time": "2023-06-12T11:48:18.078Z"
   },
   {
    "duration": 4,
    "start_time": "2023-06-12T11:48:20.924Z"
   },
   {
    "duration": 104,
    "start_time": "2023-06-12T11:48:23.301Z"
   },
   {
    "duration": 9,
    "start_time": "2023-06-12T11:48:36.660Z"
   },
   {
    "duration": 3,
    "start_time": "2023-06-12T11:48:40.277Z"
   },
   {
    "duration": 12,
    "start_time": "2023-06-12T11:48:43.860Z"
   },
   {
    "duration": 9,
    "start_time": "2023-06-12T11:51:13.802Z"
   },
   {
    "duration": 10,
    "start_time": "2023-06-12T11:55:12.515Z"
   },
   {
    "duration": 10,
    "start_time": "2023-06-12T11:55:25.800Z"
   },
   {
    "duration": 14,
    "start_time": "2023-06-12T11:55:51.824Z"
   },
   {
    "duration": 74,
    "start_time": "2023-06-12T11:56:14.787Z"
   },
   {
    "duration": 13,
    "start_time": "2023-06-12T11:56:24.147Z"
   },
   {
    "duration": 18,
    "start_time": "2023-06-12T11:57:44.711Z"
   },
   {
    "duration": 3,
    "start_time": "2023-06-12T11:57:54.096Z"
   },
   {
    "duration": 18,
    "start_time": "2023-06-12T11:57:55.224Z"
   },
   {
    "duration": 3,
    "start_time": "2023-06-12T11:58:55.222Z"
   },
   {
    "duration": 16,
    "start_time": "2023-06-12T11:58:56.117Z"
   },
   {
    "duration": 10,
    "start_time": "2023-06-12T11:59:12.474Z"
   },
   {
    "duration": 10,
    "start_time": "2023-06-12T11:59:39.655Z"
   },
   {
    "duration": 3,
    "start_time": "2023-06-12T11:59:42.069Z"
   },
   {
    "duration": 12,
    "start_time": "2023-06-12T11:59:43.320Z"
   },
   {
    "duration": 9,
    "start_time": "2023-06-12T12:00:34.658Z"
   },
   {
    "duration": 10,
    "start_time": "2023-06-12T12:00:57.055Z"
   },
   {
    "duration": 15,
    "start_time": "2023-06-12T12:03:15.459Z"
   },
   {
    "duration": 10,
    "start_time": "2023-06-12T12:04:04.919Z"
   },
   {
    "duration": 10,
    "start_time": "2023-06-12T12:04:37.874Z"
   },
   {
    "duration": 22,
    "start_time": "2023-06-12T12:04:45.162Z"
   },
   {
    "duration": 18,
    "start_time": "2023-06-12T12:10:14.687Z"
   },
   {
    "duration": 10,
    "start_time": "2023-06-12T12:10:25.757Z"
   },
   {
    "duration": 4,
    "start_time": "2023-06-12T12:12:35.949Z"
   },
   {
    "duration": 9,
    "start_time": "2023-06-12T12:12:36.571Z"
   },
   {
    "duration": 2,
    "start_time": "2023-06-12T12:14:32.391Z"
   },
   {
    "duration": 16,
    "start_time": "2023-06-12T12:14:44.053Z"
   },
   {
    "duration": 19,
    "start_time": "2023-06-12T12:15:11.262Z"
   },
   {
    "duration": 17,
    "start_time": "2023-06-12T12:15:58.581Z"
   },
   {
    "duration": 4447,
    "start_time": "2023-06-12T12:16:52.399Z"
   },
   {
    "duration": 3355,
    "start_time": "2023-06-12T12:24:29.588Z"
   },
   {
    "duration": 3305,
    "start_time": "2023-06-12T12:28:20.615Z"
   },
   {
    "duration": 13,
    "start_time": "2023-06-12T12:45:34.394Z"
   },
   {
    "duration": 10,
    "start_time": "2023-06-12T12:49:29.347Z"
   },
   {
    "duration": 3361,
    "start_time": "2023-06-12T13:00:11.825Z"
   },
   {
    "duration": 3423,
    "start_time": "2023-06-12T13:01:07.287Z"
   },
   {
    "duration": 3568,
    "start_time": "2023-06-12T13:01:46.246Z"
   },
   {
    "duration": 3284,
    "start_time": "2023-06-12T13:02:37.323Z"
   },
   {
    "duration": 20,
    "start_time": "2023-06-12T13:03:36.961Z"
   },
   {
    "duration": 1276,
    "start_time": "2023-06-12T13:04:26.122Z"
   },
   {
    "duration": 462,
    "start_time": "2023-06-12T13:04:28.323Z"
   },
   {
    "duration": 402,
    "start_time": "2023-06-12T13:04:47.374Z"
   },
   {
    "duration": 3584,
    "start_time": "2023-06-12T13:04:52.163Z"
   },
   {
    "duration": 14,
    "start_time": "2023-06-12T13:05:07.960Z"
   },
   {
    "duration": 82,
    "start_time": "2023-06-12T13:19:49.417Z"
   },
   {
    "duration": 10,
    "start_time": "2023-06-12T13:20:43.982Z"
   },
   {
    "duration": 614,
    "start_time": "2023-06-12T13:20:46.465Z"
   },
   {
    "duration": 371,
    "start_time": "2023-06-12T13:20:59.921Z"
   },
   {
    "duration": 11,
    "start_time": "2023-06-12T13:21:51.796Z"
   },
   {
    "duration": 176,
    "start_time": "2023-06-12T13:40:01.495Z"
   },
   {
    "duration": 3,
    "start_time": "2023-06-12T13:41:55.087Z"
   },
   {
    "duration": 48,
    "start_time": "2023-06-12T18:15:27.085Z"
   },
   {
    "duration": 1568,
    "start_time": "2023-06-12T18:16:04.033Z"
   },
   {
    "duration": 3,
    "start_time": "2023-06-12T18:16:05.603Z"
   },
   {
    "duration": 1957,
    "start_time": "2023-06-12T18:16:05.607Z"
   },
   {
    "duration": 3498,
    "start_time": "2023-06-12T18:16:07.567Z"
   },
   {
    "duration": 16,
    "start_time": "2023-06-12T18:16:11.067Z"
   },
   {
    "duration": 12,
    "start_time": "2023-06-12T18:16:11.084Z"
   },
   {
    "duration": 478,
    "start_time": "2023-06-12T18:16:11.097Z"
   },
   {
    "duration": 81,
    "start_time": "2023-06-12T18:16:11.576Z"
   },
   {
    "duration": 4,
    "start_time": "2023-06-12T18:16:11.659Z"
   },
   {
    "duration": 111,
    "start_time": "2023-06-12T18:16:11.755Z"
   },
   {
    "duration": 0,
    "start_time": "2023-06-12T18:16:11.867Z"
   },
   {
    "duration": 0,
    "start_time": "2023-06-12T18:16:11.869Z"
   },
   {
    "duration": 0,
    "start_time": "2023-06-12T18:16:11.870Z"
   },
   {
    "duration": 0,
    "start_time": "2023-06-12T18:16:11.871Z"
   },
   {
    "duration": 0,
    "start_time": "2023-06-12T18:16:11.872Z"
   },
   {
    "duration": 0,
    "start_time": "2023-06-12T18:16:11.873Z"
   },
   {
    "duration": 0,
    "start_time": "2023-06-12T18:16:11.874Z"
   },
   {
    "duration": 4,
    "start_time": "2023-06-12T18:16:26.692Z"
   },
   {
    "duration": 3,
    "start_time": "2023-06-12T18:16:35.020Z"
   },
   {
    "duration": 4,
    "start_time": "2023-06-12T18:16:43.853Z"
   },
   {
    "duration": 3,
    "start_time": "2023-06-12T18:17:58.630Z"
   },
   {
    "duration": 3,
    "start_time": "2023-06-12T18:18:38.782Z"
   },
   {
    "duration": 3,
    "start_time": "2023-06-12T18:20:35.007Z"
   },
   {
    "duration": 3,
    "start_time": "2023-06-12T18:20:38.590Z"
   },
   {
    "duration": 3,
    "start_time": "2023-06-12T18:20:54.947Z"
   },
   {
    "duration": 9,
    "start_time": "2023-06-12T18:21:14.714Z"
   },
   {
    "duration": 8,
    "start_time": "2023-06-12T18:21:37.819Z"
   },
   {
    "duration": 9,
    "start_time": "2023-06-12T18:30:02.180Z"
   },
   {
    "duration": 60,
    "start_time": "2023-06-12T18:31:26.997Z"
   },
   {
    "duration": 5,
    "start_time": "2023-06-12T18:31:53.035Z"
   },
   {
    "duration": 235,
    "start_time": "2023-06-12T18:31:55.126Z"
   },
   {
    "duration": 9,
    "start_time": "2023-06-12T18:32:29.576Z"
   },
   {
    "duration": 281,
    "start_time": "2023-06-12T18:32:30.383Z"
   },
   {
    "duration": 346,
    "start_time": "2023-06-12T18:33:15.608Z"
   },
   {
    "duration": 553,
    "start_time": "2023-06-12T18:34:01.102Z"
   },
   {
    "duration": 11,
    "start_time": "2023-06-12T18:37:26.086Z"
   },
   {
    "duration": 8,
    "start_time": "2023-06-12T18:38:54.589Z"
   },
   {
    "duration": 406,
    "start_time": "2023-06-12T18:40:01.032Z"
   },
   {
    "duration": 4,
    "start_time": "2023-06-12T18:41:05.400Z"
   },
   {
    "duration": 691,
    "start_time": "2023-06-12T18:41:09.834Z"
   },
   {
    "duration": 4,
    "start_time": "2023-06-12T19:04:49.826Z"
   },
   {
    "duration": 12,
    "start_time": "2023-06-12T19:04:50.620Z"
   },
   {
    "duration": 74,
    "start_time": "2023-06-12T19:06:00.131Z"
   },
   {
    "duration": 5,
    "start_time": "2023-06-12T20:40:11.105Z"
   },
   {
    "duration": 41,
    "start_time": "2023-06-12T20:40:12.967Z"
   },
   {
    "duration": 6,
    "start_time": "2023-06-12T20:40:25.710Z"
   },
   {
    "duration": 9,
    "start_time": "2023-06-12T20:41:16.149Z"
   },
   {
    "duration": 1376,
    "start_time": "2023-06-12T20:41:29.449Z"
   },
   {
    "duration": 2,
    "start_time": "2023-06-12T20:41:30.827Z"
   },
   {
    "duration": 475,
    "start_time": "2023-06-12T20:41:30.831Z"
   },
   {
    "duration": 3733,
    "start_time": "2023-06-12T20:41:31.309Z"
   },
   {
    "duration": 31,
    "start_time": "2023-06-12T20:41:35.045Z"
   },
   {
    "duration": 7,
    "start_time": "2023-06-12T20:41:35.078Z"
   },
   {
    "duration": 569,
    "start_time": "2023-06-12T20:41:35.087Z"
   },
   {
    "duration": 103,
    "start_time": "2023-06-12T20:41:35.658Z"
   },
   {
    "duration": 3,
    "start_time": "2023-06-12T20:41:35.763Z"
   },
   {
    "duration": 11,
    "start_time": "2023-06-12T20:41:35.772Z"
   },
   {
    "duration": 4,
    "start_time": "2023-06-12T20:41:35.785Z"
   },
   {
    "duration": 4,
    "start_time": "2023-06-12T20:41:35.791Z"
   },
   {
    "duration": 14,
    "start_time": "2023-06-12T20:41:35.796Z"
   },
   {
    "duration": 4,
    "start_time": "2023-06-12T20:41:35.811Z"
   },
   {
    "duration": 64,
    "start_time": "2023-06-12T20:41:35.816Z"
   },
   {
    "duration": 0,
    "start_time": "2023-06-12T20:41:35.883Z"
   },
   {
    "duration": 124,
    "start_time": "2023-06-12T20:43:15.078Z"
   },
   {
    "duration": 4269,
    "start_time": "2023-06-12T20:43:36.239Z"
   },
   {
    "duration": 17,
    "start_time": "2023-06-12T20:44:25.084Z"
   },
   {
    "duration": 30,
    "start_time": "2023-06-12T20:45:07.448Z"
   },
   {
    "duration": 4614,
    "start_time": "2023-06-12T20:45:29.983Z"
   },
   {
    "duration": 1455,
    "start_time": "2023-06-12T20:50:22.834Z"
   },
   {
    "duration": 3,
    "start_time": "2023-06-12T20:50:24.291Z"
   },
   {
    "duration": 425,
    "start_time": "2023-06-12T20:50:24.296Z"
   },
   {
    "duration": 3808,
    "start_time": "2023-06-12T20:50:24.723Z"
   },
   {
    "duration": 34,
    "start_time": "2023-06-12T20:50:28.533Z"
   },
   {
    "duration": 7,
    "start_time": "2023-06-12T20:50:28.573Z"
   },
   {
    "duration": 674,
    "start_time": "2023-06-12T20:50:28.582Z"
   },
   {
    "duration": 22,
    "start_time": "2023-06-12T20:50:29.259Z"
   },
   {
    "duration": 4,
    "start_time": "2023-06-12T20:50:29.355Z"
   },
   {
    "duration": 5,
    "start_time": "2023-06-12T20:50:29.369Z"
   },
   {
    "duration": 5,
    "start_time": "2023-06-12T20:50:29.376Z"
   },
   {
    "duration": 3,
    "start_time": "2023-06-12T20:50:29.384Z"
   },
   {
    "duration": 11,
    "start_time": "2023-06-12T20:50:29.389Z"
   },
   {
    "duration": 4,
    "start_time": "2023-06-12T20:50:29.402Z"
   },
   {
    "duration": 4511,
    "start_time": "2023-06-12T20:50:29.407Z"
   },
   {
    "duration": 4,
    "start_time": "2023-06-12T20:50:57.021Z"
   },
   {
    "duration": 4013,
    "start_time": "2023-06-12T20:50:59.170Z"
   },
   {
    "duration": 30,
    "start_time": "2023-06-12T21:00:26.632Z"
   },
   {
    "duration": 21,
    "start_time": "2023-06-12T21:00:44.431Z"
   },
   {
    "duration": 3941,
    "start_time": "2023-06-12T21:03:07.436Z"
   },
   {
    "duration": 3731,
    "start_time": "2023-06-12T21:06:27.702Z"
   },
   {
    "duration": 3,
    "start_time": "2023-06-12T21:09:11.534Z"
   },
   {
    "duration": 4330,
    "start_time": "2023-06-12T21:09:15.432Z"
   },
   {
    "duration": 4175,
    "start_time": "2023-06-12T21:10:05.671Z"
   },
   {
    "duration": 60,
    "start_time": "2023-06-13T07:33:46.575Z"
   },
   {
    "duration": 1597,
    "start_time": "2023-06-13T07:33:57.032Z"
   },
   {
    "duration": 3,
    "start_time": "2023-06-13T07:33:58.631Z"
   },
   {
    "duration": 831,
    "start_time": "2023-06-13T07:33:58.636Z"
   },
   {
    "duration": 3738,
    "start_time": "2023-06-13T07:33:59.470Z"
   },
   {
    "duration": 18,
    "start_time": "2023-06-13T07:34:03.212Z"
   },
   {
    "duration": 35,
    "start_time": "2023-06-13T07:34:03.232Z"
   },
   {
    "duration": 543,
    "start_time": "2023-06-13T07:34:03.269Z"
   },
   {
    "duration": 104,
    "start_time": "2023-06-13T07:34:03.814Z"
   },
   {
    "duration": 33,
    "start_time": "2023-06-13T07:34:04.000Z"
   },
   {
    "duration": 25,
    "start_time": "2023-06-13T07:34:04.035Z"
   },
   {
    "duration": 19,
    "start_time": "2023-06-13T07:34:04.062Z"
   },
   {
    "duration": 29,
    "start_time": "2023-06-13T07:34:04.083Z"
   },
   {
    "duration": 23,
    "start_time": "2023-06-13T07:34:04.113Z"
   },
   {
    "duration": 24,
    "start_time": "2023-06-13T07:34:04.138Z"
   },
   {
    "duration": 3966,
    "start_time": "2023-06-13T07:34:04.164Z"
   },
   {
    "duration": 7,
    "start_time": "2023-06-13T07:35:50.088Z"
   },
   {
    "duration": 4,
    "start_time": "2023-06-13T07:36:22.123Z"
   },
   {
    "duration": 4394,
    "start_time": "2023-06-13T07:36:24.676Z"
   },
   {
    "duration": 10,
    "start_time": "2023-06-13T07:37:28.812Z"
   },
   {
    "duration": 3299,
    "start_time": "2023-06-13T07:38:35.453Z"
   },
   {
    "duration": 4074,
    "start_time": "2023-06-13T07:39:00.445Z"
   },
   {
    "duration": 328,
    "start_time": "2023-06-13T07:40:22.644Z"
   },
   {
    "duration": 4,
    "start_time": "2023-06-13T07:40:43.839Z"
   },
   {
    "duration": 5,
    "start_time": "2023-06-13T07:40:50.070Z"
   },
   {
    "duration": 526,
    "start_time": "2023-06-13T07:40:51.280Z"
   },
   {
    "duration": 20,
    "start_time": "2023-06-13T07:41:00.388Z"
   },
   {
    "duration": 10,
    "start_time": "2023-06-13T07:41:23.146Z"
   },
   {
    "duration": 3888,
    "start_time": "2023-06-13T07:41:26.477Z"
   },
   {
    "duration": 23,
    "start_time": "2023-06-13T07:44:10.801Z"
   },
   {
    "duration": 3849,
    "start_time": "2023-06-13T07:44:33.906Z"
   },
   {
    "duration": 4227,
    "start_time": "2023-06-13T07:51:00.228Z"
   },
   {
    "duration": 3948,
    "start_time": "2023-06-13T07:52:12.868Z"
   },
   {
    "duration": 1454,
    "start_time": "2023-06-13T08:00:31.567Z"
   },
   {
    "duration": 3,
    "start_time": "2023-06-13T08:00:33.024Z"
   },
   {
    "duration": 393,
    "start_time": "2023-06-13T08:00:33.029Z"
   },
   {
    "duration": 3655,
    "start_time": "2023-06-13T08:00:33.425Z"
   },
   {
    "duration": 31,
    "start_time": "2023-06-13T08:00:37.082Z"
   },
   {
    "duration": 31,
    "start_time": "2023-06-13T08:00:37.115Z"
   },
   {
    "duration": 473,
    "start_time": "2023-06-13T08:00:37.147Z"
   },
   {
    "duration": 85,
    "start_time": "2023-06-13T08:00:37.622Z"
   },
   {
    "duration": 114,
    "start_time": "2023-06-13T08:00:37.709Z"
   },
   {
    "duration": 30,
    "start_time": "2023-06-13T08:00:37.825Z"
   },
   {
    "duration": 28,
    "start_time": "2023-06-13T08:00:37.857Z"
   },
   {
    "duration": 51,
    "start_time": "2023-06-13T08:00:37.886Z"
   },
   {
    "duration": 21,
    "start_time": "2023-06-13T08:00:37.939Z"
   },
   {
    "duration": 47,
    "start_time": "2023-06-13T08:00:37.962Z"
   },
   {
    "duration": 3978,
    "start_time": "2023-06-13T08:00:38.010Z"
   },
   {
    "duration": 5710,
    "start_time": "2023-06-13T09:24:59.149Z"
   },
   {
    "duration": 19,
    "start_time": "2023-06-13T09:25:04.861Z"
   },
   {
    "duration": 1022,
    "start_time": "2023-06-13T09:25:04.888Z"
   },
   {
    "duration": 8107,
    "start_time": "2023-06-13T09:25:05.917Z"
   },
   {
    "duration": 28,
    "start_time": "2023-06-13T09:25:14.032Z"
   },
   {
    "duration": 212,
    "start_time": "2023-06-13T09:25:14.068Z"
   },
   {
    "duration": 1525,
    "start_time": "2023-06-13T09:25:14.302Z"
   },
   {
    "duration": 50,
    "start_time": "2023-06-13T09:25:15.849Z"
   },
   {
    "duration": 155,
    "start_time": "2023-06-13T09:25:15.912Z"
   },
   {
    "duration": 245,
    "start_time": "2023-06-13T09:25:16.080Z"
   },
   {
    "duration": 174,
    "start_time": "2023-06-13T09:25:16.341Z"
   },
   {
    "duration": 202,
    "start_time": "2023-06-13T09:25:16.520Z"
   },
   {
    "duration": 201,
    "start_time": "2023-06-13T09:25:16.731Z"
   },
   {
    "duration": 164,
    "start_time": "2023-06-13T09:25:16.951Z"
   },
   {
    "duration": 7187,
    "start_time": "2023-06-13T09:25:17.128Z"
   },
   {
    "duration": 49,
    "start_time": "2023-06-13T09:38:28.837Z"
   },
   {
    "duration": 1577,
    "start_time": "2023-06-13T09:38:39.684Z"
   },
   {
    "duration": 33,
    "start_time": "2023-06-13T09:38:41.264Z"
   },
   {
    "duration": 2,
    "start_time": "2023-06-13T09:39:41.428Z"
   },
   {
    "duration": 42,
    "start_time": "2023-06-13T09:40:00.624Z"
   },
   {
    "duration": 35,
    "start_time": "2023-06-13T09:40:15.192Z"
   },
   {
    "duration": 104,
    "start_time": "2023-06-13T09:44:40.816Z"
   },
   {
    "duration": 1361,
    "start_time": "2023-06-13T09:44:54.932Z"
   },
   {
    "duration": 43,
    "start_time": "2023-06-13T09:44:56.295Z"
   },
   {
    "duration": 2,
    "start_time": "2023-06-13T09:44:56.339Z"
   },
   {
    "duration": 1598,
    "start_time": "2023-06-13T09:44:56.343Z"
   },
   {
    "duration": 3431,
    "start_time": "2023-06-13T09:44:57.943Z"
   },
   {
    "duration": 120,
    "start_time": "2023-06-13T09:45:01.376Z"
   },
   {
    "duration": 18,
    "start_time": "2023-06-13T09:45:01.498Z"
   },
   {
    "duration": 139,
    "start_time": "2023-06-13T09:45:01.518Z"
   },
   {
    "duration": 509,
    "start_time": "2023-06-13T09:45:01.659Z"
   },
   {
    "duration": 91,
    "start_time": "2023-06-13T09:45:02.172Z"
   },
   {
    "duration": 94,
    "start_time": "2023-06-13T09:45:02.265Z"
   },
   {
    "duration": 53,
    "start_time": "2023-06-13T09:45:02.360Z"
   },
   {
    "duration": 55,
    "start_time": "2023-06-13T09:45:02.415Z"
   },
   {
    "duration": 41,
    "start_time": "2023-06-13T09:45:02.472Z"
   },
   {
    "duration": 55,
    "start_time": "2023-06-13T09:45:02.515Z"
   },
   {
    "duration": 24,
    "start_time": "2023-06-13T09:45:02.571Z"
   },
   {
    "duration": 3737,
    "start_time": "2023-06-13T09:45:02.597Z"
   },
   {
    "duration": 4101,
    "start_time": "2023-06-13T10:13:45.985Z"
   },
   {
    "duration": 4151,
    "start_time": "2023-06-13T10:15:53.380Z"
   },
   {
    "duration": 3923,
    "start_time": "2023-06-13T10:21:23.308Z"
   },
   {
    "duration": 3938,
    "start_time": "2023-06-13T10:21:40.485Z"
   },
   {
    "duration": 69,
    "start_time": "2023-06-13T10:28:05.610Z"
   },
   {
    "duration": 67,
    "start_time": "2023-06-13T10:28:28.741Z"
   },
   {
    "duration": 5685,
    "start_time": "2023-06-13T10:29:00.351Z"
   },
   {
    "duration": 5520,
    "start_time": "2023-06-13T10:29:52.988Z"
   },
   {
    "duration": 4582,
    "start_time": "2023-06-13T10:30:27.199Z"
   },
   {
    "duration": 5080,
    "start_time": "2023-06-13T10:30:50.296Z"
   },
   {
    "duration": 1584,
    "start_time": "2023-06-13T10:31:52.769Z"
   },
   {
    "duration": 35,
    "start_time": "2023-06-13T10:31:54.355Z"
   },
   {
    "duration": 2,
    "start_time": "2023-06-13T10:31:54.392Z"
   },
   {
    "duration": 383,
    "start_time": "2023-06-13T10:31:54.397Z"
   },
   {
    "duration": 3677,
    "start_time": "2023-06-13T10:31:54.782Z"
   },
   {
    "duration": 131,
    "start_time": "2023-06-13T10:31:58.460Z"
   },
   {
    "duration": 18,
    "start_time": "2023-06-13T10:31:58.593Z"
   },
   {
    "duration": 139,
    "start_time": "2023-06-13T10:31:58.613Z"
   },
   {
    "duration": 503,
    "start_time": "2023-06-13T10:31:58.754Z"
   },
   {
    "duration": 96,
    "start_time": "2023-06-13T10:31:59.262Z"
   },
   {
    "duration": 18,
    "start_time": "2023-06-13T10:31:59.360Z"
   },
   {
    "duration": 10,
    "start_time": "2023-06-13T10:31:59.379Z"
   },
   {
    "duration": 20,
    "start_time": "2023-06-13T10:31:59.390Z"
   },
   {
    "duration": 17,
    "start_time": "2023-06-13T10:31:59.412Z"
   },
   {
    "duration": 12,
    "start_time": "2023-06-13T10:31:59.431Z"
   },
   {
    "duration": 5,
    "start_time": "2023-06-13T10:31:59.445Z"
   },
   {
    "duration": 5175,
    "start_time": "2023-06-13T10:31:59.452Z"
   },
   {
    "duration": 4874,
    "start_time": "2023-06-13T10:32:25.210Z"
   },
   {
    "duration": 1541,
    "start_time": "2023-06-13T10:33:01.224Z"
   },
   {
    "duration": 36,
    "start_time": "2023-06-13T10:33:02.767Z"
   },
   {
    "duration": 8,
    "start_time": "2023-06-13T10:33:02.805Z"
   },
   {
    "duration": 378,
    "start_time": "2023-06-13T10:33:02.815Z"
   },
   {
    "duration": 3870,
    "start_time": "2023-06-13T10:33:03.195Z"
   },
   {
    "duration": 116,
    "start_time": "2023-06-13T10:33:07.067Z"
   },
   {
    "duration": 16,
    "start_time": "2023-06-13T10:33:07.184Z"
   },
   {
    "duration": 135,
    "start_time": "2023-06-13T10:33:07.202Z"
   },
   {
    "duration": 449,
    "start_time": "2023-06-13T10:33:07.339Z"
   },
   {
    "duration": 22,
    "start_time": "2023-06-13T10:33:07.856Z"
   },
   {
    "duration": 4,
    "start_time": "2023-06-13T10:33:07.958Z"
   },
   {
    "duration": 8,
    "start_time": "2023-06-13T10:33:07.964Z"
   },
   {
    "duration": 9,
    "start_time": "2023-06-13T10:33:07.974Z"
   },
   {
    "duration": 18,
    "start_time": "2023-06-13T10:33:07.986Z"
   },
   {
    "duration": 18,
    "start_time": "2023-06-13T10:33:08.006Z"
   },
   {
    "duration": 5,
    "start_time": "2023-06-13T10:33:08.027Z"
   },
   {
    "duration": 4939,
    "start_time": "2023-06-13T10:33:08.034Z"
   },
   {
    "duration": 5043,
    "start_time": "2023-06-13T10:33:46.036Z"
   },
   {
    "duration": 1559,
    "start_time": "2023-06-13T10:34:01.321Z"
   },
   {
    "duration": 54,
    "start_time": "2023-06-13T10:34:02.883Z"
   },
   {
    "duration": 3,
    "start_time": "2023-06-13T10:34:02.939Z"
   },
   {
    "duration": 397,
    "start_time": "2023-06-13T10:34:02.944Z"
   },
   {
    "duration": 3818,
    "start_time": "2023-06-13T10:34:03.344Z"
   },
   {
    "duration": 128,
    "start_time": "2023-06-13T10:34:07.163Z"
   },
   {
    "duration": 24,
    "start_time": "2023-06-13T10:34:07.294Z"
   },
   {
    "duration": 129,
    "start_time": "2023-06-13T10:34:07.320Z"
   },
   {
    "duration": 415,
    "start_time": "2023-06-13T10:34:07.458Z"
   },
   {
    "duration": 94,
    "start_time": "2023-06-13T10:34:07.875Z"
   },
   {
    "duration": 87,
    "start_time": "2023-06-13T10:34:07.971Z"
   },
   {
    "duration": 10,
    "start_time": "2023-06-13T10:34:08.060Z"
   },
   {
    "duration": 5,
    "start_time": "2023-06-13T10:34:08.072Z"
   },
   {
    "duration": 13,
    "start_time": "2023-06-13T10:34:08.080Z"
   },
   {
    "duration": 27,
    "start_time": "2023-06-13T10:34:08.095Z"
   },
   {
    "duration": 16,
    "start_time": "2023-06-13T10:34:08.124Z"
   },
   {
    "duration": 4953,
    "start_time": "2023-06-13T10:34:08.142Z"
   },
   {
    "duration": 5365,
    "start_time": "2023-06-13T14:25:41.316Z"
   },
   {
    "duration": 2596,
    "start_time": "2023-06-13T14:25:51.117Z"
   },
   {
    "duration": 96,
    "start_time": "2023-06-13T14:25:53.718Z"
   },
   {
    "duration": 3,
    "start_time": "2023-06-13T14:25:53.815Z"
   },
   {
    "duration": 999,
    "start_time": "2023-06-13T14:25:53.821Z"
   },
   {
    "duration": 3981,
    "start_time": "2023-06-13T14:25:54.822Z"
   },
   {
    "duration": 130,
    "start_time": "2023-06-13T14:25:58.806Z"
   },
   {
    "duration": 19,
    "start_time": "2023-06-13T14:25:58.937Z"
   },
   {
    "duration": 161,
    "start_time": "2023-06-13T14:25:58.958Z"
   },
   {
    "duration": 457,
    "start_time": "2023-06-13T14:25:59.121Z"
   },
   {
    "duration": 79,
    "start_time": "2023-06-13T14:25:59.597Z"
   },
   {
    "duration": 31,
    "start_time": "2023-06-13T14:25:59.690Z"
   },
   {
    "duration": 24,
    "start_time": "2023-06-13T14:25:59.723Z"
   },
   {
    "duration": 9,
    "start_time": "2023-06-13T14:25:59.749Z"
   },
   {
    "duration": 10,
    "start_time": "2023-06-13T14:25:59.759Z"
   },
   {
    "duration": 56,
    "start_time": "2023-06-13T14:25:59.771Z"
   },
   {
    "duration": 16,
    "start_time": "2023-06-13T14:25:59.829Z"
   },
   {
    "duration": 5395,
    "start_time": "2023-06-13T14:25:59.847Z"
   },
   {
    "duration": 1976,
    "start_time": "2023-06-13T14:26:05.244Z"
   }
  ],
  "kernelspec": {
   "display_name": "Python 3 (ipykernel)",
   "language": "python",
   "name": "python3"
  },
  "language_info": {
   "codemirror_mode": {
    "name": "ipython",
    "version": 3
   },
   "file_extension": ".py",
   "mimetype": "text/x-python",
   "name": "python",
   "nbconvert_exporter": "python",
   "pygments_lexer": "ipython3",
   "version": "3.9.13"
  },
  "toc": {
   "base_numbering": 1,
   "nav_menu": {},
   "number_sections": true,
   "sideBar": true,
   "skip_h1_title": true,
   "title_cell": "Table of Contents",
   "title_sidebar": "Contents",
   "toc_cell": false,
   "toc_position": {},
   "toc_section_display": true,
   "toc_window_display": false
  }
 },
 "nbformat": 4,
 "nbformat_minor": 2
}
