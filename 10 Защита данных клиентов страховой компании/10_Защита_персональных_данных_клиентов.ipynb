{
 "cells": [
  {
   "cell_type": "markdown",
   "metadata": {
    "toc": true
   },
   "source": [
    "<h1>Содержание<span class=\"tocSkip\"></span></h1>\n",
    "<div class=\"toc\"><ul class=\"toc-item\"><li><span><a href=\"#Загрузка-данных\" data-toc-modified-id=\"Загрузка-данных-1\"><span class=\"toc-item-num\">1&nbsp;&nbsp;</span>Загрузка данных</a></span></li><li><span><a href=\"#Умножение-матриц\" data-toc-modified-id=\"Умножение-матриц-2\"><span class=\"toc-item-num\">2&nbsp;&nbsp;</span>Умножение матриц</a></span></li><li><span><a href=\"#Алгоритм-преобразования\" data-toc-modified-id=\"Алгоритм-преобразования-3\"><span class=\"toc-item-num\">3&nbsp;&nbsp;</span>Алгоритм преобразования</a></span></li><li><span><a href=\"#Проверка-алгоритма\" data-toc-modified-id=\"Проверка-алгоритма-4\"><span class=\"toc-item-num\">4&nbsp;&nbsp;</span>Проверка алгоритма</a></span>"
   ]
  },
  {
   "cell_type": "markdown",
   "metadata": {},
   "source": [
    "# Защита персональных данных клиентов"
   ]
  },
  {
   "cell_type": "markdown",
   "metadata": {},
   "source": [
    "Нам нужно защитить данные клиентов страховой компании «Хоть потоп» и разработать такой метод преобразования данных, чтобы по ним было сложно восстановить персональную информацию, а также обосновать корректность его работы.\n",
    "\n",
    "При этом нужно защитить данные так, чтобы при преобразовании качество моделей машинного обучения не ухудшилось. В качестве алгоритма машинного обучения будет использоваться линейная регрессия.\n",
    "\n",
    "Для решения задачи мы будем применять матричные операции к данным, а именно умножение имеющихся признаков на некую матрицу. Данный подход должен трансформировать персональную информацию так, что простая интерпретация её станет невозможной.\n",
    "\n",
    "План достижения цели:\n",
    "\n",
    " - загрузить и изучить данные;\n",
    " - проверить, на какой тип матрицы можно умножить данные так, чтоб потом их   можно было без потери информации восстановить;\n",
    " - написать алгоритм шифрования данных, убедиться в его работоспособности; проверить, что качество линейной регрессии из sklearn не отличается до и после преобразования. Применить метрику R2\n",
    " - подвести итоги."
   ]
  },
  {
   "cell_type": "markdown",
   "metadata": {},
   "source": [
    "## Загрузка данных"
   ]
  },
  {
   "cell_type": "markdown",
   "metadata": {},
   "source": [
    "Импортируем необходимые для работы библиотеки и модули:"
   ]
  },
  {
   "cell_type": "code",
   "execution_count": 1,
   "metadata": {},
   "outputs": [],
   "source": [
    "import pandas as pd\n",
    "import numpy as np\n",
    "import matplotlib.pyplot as plt\n",
    "import seaborn as sns\n",
    "\n",
    "from sklearn.linear_model import LinearRegression\n",
    "from sklearn.model_selection import train_test_split\n",
    "from sklearn.pipeline import Pipeline\n",
    "from sklearn.preprocessing import StandardScaler\n",
    "from sklearn.metrics import r2_score\n",
    "\n",
    "import warnings\n",
    "warnings.filterwarnings('ignore')\n",
    "\n",
    "STATE = 12345"
   ]
  },
  {
   "cell_type": "code",
   "execution_count": 2,
   "metadata": {},
   "outputs": [],
   "source": [
    "def df_info(dataframe):\n",
    "    print('Общая информация по датафрейму:')\n",
    "    display(dataframe.info())\n",
    "    print('\\nПервые 10 строк:')\n",
    "    display(dataframe.head(10))\n",
    "    print('\\nПоследние 10 строк:')\n",
    "    display(dataframe.tail(10))\n",
    "    print('\\nПропуски:')\n",
    "    display(dataframe.isnull().sum().sort_values(ascending=False))\n",
    "    print('\\nОписание датафрейма:')\n",
    "    display(dataframe.describe())\n",
    "    print('\\nКоличество дубликатов:')\n",
    "    display(dataframe.duplicated().sum())    "
   ]
  },
  {
   "cell_type": "code",
   "execution_count": 3,
   "metadata": {},
   "outputs": [
    {
     "name": "stdout",
     "output_type": "stream",
     "text": [
      "Общая информация по датафрейму:\n",
      "<class 'pandas.core.frame.DataFrame'>\n",
      "RangeIndex: 5000 entries, 0 to 4999\n",
      "Data columns (total 5 columns):\n",
      " #   Column             Non-Null Count  Dtype  \n",
      "---  ------             --------------  -----  \n",
      " 0   Пол                5000 non-null   int64  \n",
      " 1   Возраст            5000 non-null   float64\n",
      " 2   Зарплата           5000 non-null   float64\n",
      " 3   Члены семьи        5000 non-null   int64  \n",
      " 4   Страховые выплаты  5000 non-null   int64  \n",
      "dtypes: float64(2), int64(3)\n",
      "memory usage: 195.4 KB\n"
     ]
    },
    {
     "data": {
      "text/plain": [
       "None"
      ]
     },
     "metadata": {},
     "output_type": "display_data"
    },
    {
     "name": "stdout",
     "output_type": "stream",
     "text": [
      "\n",
      "Первые 10 строк:\n"
     ]
    },
    {
     "data": {
      "text/html": [
       "<div>\n",
       "<style scoped>\n",
       "    .dataframe tbody tr th:only-of-type {\n",
       "        vertical-align: middle;\n",
       "    }\n",
       "\n",
       "    .dataframe tbody tr th {\n",
       "        vertical-align: top;\n",
       "    }\n",
       "\n",
       "    .dataframe thead th {\n",
       "        text-align: right;\n",
       "    }\n",
       "</style>\n",
       "<table border=\"1\" class=\"dataframe\">\n",
       "  <thead>\n",
       "    <tr style=\"text-align: right;\">\n",
       "      <th></th>\n",
       "      <th>Пол</th>\n",
       "      <th>Возраст</th>\n",
       "      <th>Зарплата</th>\n",
       "      <th>Члены семьи</th>\n",
       "      <th>Страховые выплаты</th>\n",
       "    </tr>\n",
       "  </thead>\n",
       "  <tbody>\n",
       "    <tr>\n",
       "      <th>0</th>\n",
       "      <td>1</td>\n",
       "      <td>41.0</td>\n",
       "      <td>49600.0</td>\n",
       "      <td>1</td>\n",
       "      <td>0</td>\n",
       "    </tr>\n",
       "    <tr>\n",
       "      <th>1</th>\n",
       "      <td>0</td>\n",
       "      <td>46.0</td>\n",
       "      <td>38000.0</td>\n",
       "      <td>1</td>\n",
       "      <td>1</td>\n",
       "    </tr>\n",
       "    <tr>\n",
       "      <th>2</th>\n",
       "      <td>0</td>\n",
       "      <td>29.0</td>\n",
       "      <td>21000.0</td>\n",
       "      <td>0</td>\n",
       "      <td>0</td>\n",
       "    </tr>\n",
       "    <tr>\n",
       "      <th>3</th>\n",
       "      <td>0</td>\n",
       "      <td>21.0</td>\n",
       "      <td>41700.0</td>\n",
       "      <td>2</td>\n",
       "      <td>0</td>\n",
       "    </tr>\n",
       "    <tr>\n",
       "      <th>4</th>\n",
       "      <td>1</td>\n",
       "      <td>28.0</td>\n",
       "      <td>26100.0</td>\n",
       "      <td>0</td>\n",
       "      <td>0</td>\n",
       "    </tr>\n",
       "    <tr>\n",
       "      <th>5</th>\n",
       "      <td>1</td>\n",
       "      <td>43.0</td>\n",
       "      <td>41000.0</td>\n",
       "      <td>2</td>\n",
       "      <td>1</td>\n",
       "    </tr>\n",
       "    <tr>\n",
       "      <th>6</th>\n",
       "      <td>1</td>\n",
       "      <td>39.0</td>\n",
       "      <td>39700.0</td>\n",
       "      <td>2</td>\n",
       "      <td>0</td>\n",
       "    </tr>\n",
       "    <tr>\n",
       "      <th>7</th>\n",
       "      <td>1</td>\n",
       "      <td>25.0</td>\n",
       "      <td>38600.0</td>\n",
       "      <td>4</td>\n",
       "      <td>0</td>\n",
       "    </tr>\n",
       "    <tr>\n",
       "      <th>8</th>\n",
       "      <td>1</td>\n",
       "      <td>36.0</td>\n",
       "      <td>49700.0</td>\n",
       "      <td>1</td>\n",
       "      <td>0</td>\n",
       "    </tr>\n",
       "    <tr>\n",
       "      <th>9</th>\n",
       "      <td>1</td>\n",
       "      <td>32.0</td>\n",
       "      <td>51700.0</td>\n",
       "      <td>1</td>\n",
       "      <td>0</td>\n",
       "    </tr>\n",
       "  </tbody>\n",
       "</table>\n",
       "</div>"
      ],
      "text/plain": [
       "   Пол  Возраст  Зарплата  Члены семьи  Страховые выплаты\n",
       "0    1     41.0   49600.0            1                  0\n",
       "1    0     46.0   38000.0            1                  1\n",
       "2    0     29.0   21000.0            0                  0\n",
       "3    0     21.0   41700.0            2                  0\n",
       "4    1     28.0   26100.0            0                  0\n",
       "5    1     43.0   41000.0            2                  1\n",
       "6    1     39.0   39700.0            2                  0\n",
       "7    1     25.0   38600.0            4                  0\n",
       "8    1     36.0   49700.0            1                  0\n",
       "9    1     32.0   51700.0            1                  0"
      ]
     },
     "metadata": {},
     "output_type": "display_data"
    },
    {
     "name": "stdout",
     "output_type": "stream",
     "text": [
      "\n",
      "Последние 10 строк:\n"
     ]
    },
    {
     "data": {
      "text/html": [
       "<div>\n",
       "<style scoped>\n",
       "    .dataframe tbody tr th:only-of-type {\n",
       "        vertical-align: middle;\n",
       "    }\n",
       "\n",
       "    .dataframe tbody tr th {\n",
       "        vertical-align: top;\n",
       "    }\n",
       "\n",
       "    .dataframe thead th {\n",
       "        text-align: right;\n",
       "    }\n",
       "</style>\n",
       "<table border=\"1\" class=\"dataframe\">\n",
       "  <thead>\n",
       "    <tr style=\"text-align: right;\">\n",
       "      <th></th>\n",
       "      <th>Пол</th>\n",
       "      <th>Возраст</th>\n",
       "      <th>Зарплата</th>\n",
       "      <th>Члены семьи</th>\n",
       "      <th>Страховые выплаты</th>\n",
       "    </tr>\n",
       "  </thead>\n",
       "  <tbody>\n",
       "    <tr>\n",
       "      <th>4990</th>\n",
       "      <td>0</td>\n",
       "      <td>22.0</td>\n",
       "      <td>56800.0</td>\n",
       "      <td>1</td>\n",
       "      <td>0</td>\n",
       "    </tr>\n",
       "    <tr>\n",
       "      <th>4991</th>\n",
       "      <td>0</td>\n",
       "      <td>21.0</td>\n",
       "      <td>38300.0</td>\n",
       "      <td>3</td>\n",
       "      <td>0</td>\n",
       "    </tr>\n",
       "    <tr>\n",
       "      <th>4992</th>\n",
       "      <td>0</td>\n",
       "      <td>45.0</td>\n",
       "      <td>54600.0</td>\n",
       "      <td>0</td>\n",
       "      <td>1</td>\n",
       "    </tr>\n",
       "    <tr>\n",
       "      <th>4993</th>\n",
       "      <td>1</td>\n",
       "      <td>32.0</td>\n",
       "      <td>36000.0</td>\n",
       "      <td>1</td>\n",
       "      <td>0</td>\n",
       "    </tr>\n",
       "    <tr>\n",
       "      <th>4994</th>\n",
       "      <td>1</td>\n",
       "      <td>26.0</td>\n",
       "      <td>51400.0</td>\n",
       "      <td>0</td>\n",
       "      <td>0</td>\n",
       "    </tr>\n",
       "    <tr>\n",
       "      <th>4995</th>\n",
       "      <td>0</td>\n",
       "      <td>28.0</td>\n",
       "      <td>35700.0</td>\n",
       "      <td>2</td>\n",
       "      <td>0</td>\n",
       "    </tr>\n",
       "    <tr>\n",
       "      <th>4996</th>\n",
       "      <td>0</td>\n",
       "      <td>34.0</td>\n",
       "      <td>52400.0</td>\n",
       "      <td>1</td>\n",
       "      <td>0</td>\n",
       "    </tr>\n",
       "    <tr>\n",
       "      <th>4997</th>\n",
       "      <td>0</td>\n",
       "      <td>20.0</td>\n",
       "      <td>33900.0</td>\n",
       "      <td>2</td>\n",
       "      <td>0</td>\n",
       "    </tr>\n",
       "    <tr>\n",
       "      <th>4998</th>\n",
       "      <td>1</td>\n",
       "      <td>22.0</td>\n",
       "      <td>32700.0</td>\n",
       "      <td>3</td>\n",
       "      <td>0</td>\n",
       "    </tr>\n",
       "    <tr>\n",
       "      <th>4999</th>\n",
       "      <td>1</td>\n",
       "      <td>28.0</td>\n",
       "      <td>40600.0</td>\n",
       "      <td>1</td>\n",
       "      <td>0</td>\n",
       "    </tr>\n",
       "  </tbody>\n",
       "</table>\n",
       "</div>"
      ],
      "text/plain": [
       "      Пол  Возраст  Зарплата  Члены семьи  Страховые выплаты\n",
       "4990    0     22.0   56800.0            1                  0\n",
       "4991    0     21.0   38300.0            3                  0\n",
       "4992    0     45.0   54600.0            0                  1\n",
       "4993    1     32.0   36000.0            1                  0\n",
       "4994    1     26.0   51400.0            0                  0\n",
       "4995    0     28.0   35700.0            2                  0\n",
       "4996    0     34.0   52400.0            1                  0\n",
       "4997    0     20.0   33900.0            2                  0\n",
       "4998    1     22.0   32700.0            3                  0\n",
       "4999    1     28.0   40600.0            1                  0"
      ]
     },
     "metadata": {},
     "output_type": "display_data"
    },
    {
     "name": "stdout",
     "output_type": "stream",
     "text": [
      "\n",
      "Пропуски:\n"
     ]
    },
    {
     "data": {
      "text/plain": [
       "Пол                  0\n",
       "Возраст              0\n",
       "Зарплата             0\n",
       "Члены семьи          0\n",
       "Страховые выплаты    0\n",
       "dtype: int64"
      ]
     },
     "metadata": {},
     "output_type": "display_data"
    },
    {
     "name": "stdout",
     "output_type": "stream",
     "text": [
      "\n",
      "Описание датафрейма:\n"
     ]
    },
    {
     "data": {
      "text/html": [
       "<div>\n",
       "<style scoped>\n",
       "    .dataframe tbody tr th:only-of-type {\n",
       "        vertical-align: middle;\n",
       "    }\n",
       "\n",
       "    .dataframe tbody tr th {\n",
       "        vertical-align: top;\n",
       "    }\n",
       "\n",
       "    .dataframe thead th {\n",
       "        text-align: right;\n",
       "    }\n",
       "</style>\n",
       "<table border=\"1\" class=\"dataframe\">\n",
       "  <thead>\n",
       "    <tr style=\"text-align: right;\">\n",
       "      <th></th>\n",
       "      <th>Пол</th>\n",
       "      <th>Возраст</th>\n",
       "      <th>Зарплата</th>\n",
       "      <th>Члены семьи</th>\n",
       "      <th>Страховые выплаты</th>\n",
       "    </tr>\n",
       "  </thead>\n",
       "  <tbody>\n",
       "    <tr>\n",
       "      <th>count</th>\n",
       "      <td>5000.000000</td>\n",
       "      <td>5000.000000</td>\n",
       "      <td>5000.000000</td>\n",
       "      <td>5000.000000</td>\n",
       "      <td>5000.000000</td>\n",
       "    </tr>\n",
       "    <tr>\n",
       "      <th>mean</th>\n",
       "      <td>0.499000</td>\n",
       "      <td>30.952800</td>\n",
       "      <td>39916.360000</td>\n",
       "      <td>1.194200</td>\n",
       "      <td>0.148000</td>\n",
       "    </tr>\n",
       "    <tr>\n",
       "      <th>std</th>\n",
       "      <td>0.500049</td>\n",
       "      <td>8.440807</td>\n",
       "      <td>9900.083569</td>\n",
       "      <td>1.091387</td>\n",
       "      <td>0.463183</td>\n",
       "    </tr>\n",
       "    <tr>\n",
       "      <th>min</th>\n",
       "      <td>0.000000</td>\n",
       "      <td>18.000000</td>\n",
       "      <td>5300.000000</td>\n",
       "      <td>0.000000</td>\n",
       "      <td>0.000000</td>\n",
       "    </tr>\n",
       "    <tr>\n",
       "      <th>25%</th>\n",
       "      <td>0.000000</td>\n",
       "      <td>24.000000</td>\n",
       "      <td>33300.000000</td>\n",
       "      <td>0.000000</td>\n",
       "      <td>0.000000</td>\n",
       "    </tr>\n",
       "    <tr>\n",
       "      <th>50%</th>\n",
       "      <td>0.000000</td>\n",
       "      <td>30.000000</td>\n",
       "      <td>40200.000000</td>\n",
       "      <td>1.000000</td>\n",
       "      <td>0.000000</td>\n",
       "    </tr>\n",
       "    <tr>\n",
       "      <th>75%</th>\n",
       "      <td>1.000000</td>\n",
       "      <td>37.000000</td>\n",
       "      <td>46600.000000</td>\n",
       "      <td>2.000000</td>\n",
       "      <td>0.000000</td>\n",
       "    </tr>\n",
       "    <tr>\n",
       "      <th>max</th>\n",
       "      <td>1.000000</td>\n",
       "      <td>65.000000</td>\n",
       "      <td>79000.000000</td>\n",
       "      <td>6.000000</td>\n",
       "      <td>5.000000</td>\n",
       "    </tr>\n",
       "  </tbody>\n",
       "</table>\n",
       "</div>"
      ],
      "text/plain": [
       "               Пол      Возраст      Зарплата  Члены семьи  Страховые выплаты\n",
       "count  5000.000000  5000.000000   5000.000000  5000.000000        5000.000000\n",
       "mean      0.499000    30.952800  39916.360000     1.194200           0.148000\n",
       "std       0.500049     8.440807   9900.083569     1.091387           0.463183\n",
       "min       0.000000    18.000000   5300.000000     0.000000           0.000000\n",
       "25%       0.000000    24.000000  33300.000000     0.000000           0.000000\n",
       "50%       0.000000    30.000000  40200.000000     1.000000           0.000000\n",
       "75%       1.000000    37.000000  46600.000000     2.000000           0.000000\n",
       "max       1.000000    65.000000  79000.000000     6.000000           5.000000"
      ]
     },
     "metadata": {},
     "output_type": "display_data"
    },
    {
     "name": "stdout",
     "output_type": "stream",
     "text": [
      "\n",
      "Количество дубликатов:\n"
     ]
    },
    {
     "data": {
      "text/plain": [
       "153"
      ]
     },
     "metadata": {},
     "output_type": "display_data"
    }
   ],
   "source": [
    "df= pd.read_csv('insurance.csv')\n",
    "    \n",
    "df_info(df)"
   ]
  },
  {
   "cell_type": "markdown",
   "metadata": {},
   "source": [
    " Удалим явные дубликаты"
   ]
  },
  {
   "cell_type": "code",
   "execution_count": 4,
   "metadata": {},
   "outputs": [],
   "source": [
    "df.drop_duplicates(inplace=True)"
   ]
  },
  {
   "cell_type": "code",
   "execution_count": 5,
   "metadata": {},
   "outputs": [
    {
     "data": {
      "image/png": "[encoded data removed]",
      "text/plain": [
       "<Figure size 2000x400 with 5 Axes>"
      ]
     },
     "metadata": {},
     "output_type": "display_data"
    }
   ],
   "source": [
    "fig, axs = plt.subplots(1, 5, figsize=(20, 4))\n",
    "fig.suptitle('Раcпределение признаков', fontsize=18)\n",
    "for i, col in enumerate(df.columns):\n",
    "    unique_values = df[col].nunique()\n",
    "    if unique_values > 10:\n",
    "        axs[i].hist(df[col], alpha=0.5, edgecolor='black')\n",
    "    elif unique_values < 10:\n",
    "        value_counts = df[col].value_counts()\n",
    "        axs[i].pie(value_counts.values, labels=value_counts.index)\n",
    "    axs[i].set_title(col, fontsize=16)\n",
    "fig.tight_layout()\n",
    "plt.show()"
   ]
  },
  {
   "cell_type": "markdown",
   "metadata": {},
   "source": [
    "Промежуточные выводы по результатам изучения данных:  \n",
    "Имеем 5000 объектов, 4 признака и 1 таргет.   \n",
    "Все признаки, числовые, значения и распределение не вызывают сомнений.  \n",
    "Пропусков в данных нет, 153 явных дубликата удалили.  "
   ]
  },
  {
   "cell_type": "markdown",
   "metadata": {},
   "source": [
    "## Умножение матриц"
   ]
  },
  {
   "cell_type": "markdown",
   "metadata": {},
   "source": [
    "Проведём исследование, изменится ли качество линейной регрессии при умножении признаков на обратимую матрицу и как изменяется матрица признаков после умножения её на обратимую. Если умножение на обратимую матрицу не меняет количество признаков и сохраняет линейную независимость между признаками, то качество линейной регрессии не изменится.  \n",
    "\n",
    "Можно умножить матрицу признаков на некую обратимую матрицу и получить новую матрицу признаков.   \n",
    "Докажем, что качество линейной регрессии при умножении признаков на обратимую матрицу не меняется, применяя свойства матриц.  "
   ]
  },
  {
   "cell_type": "markdown",
   "metadata": {},
   "source": [
    "**При умножении признаков на обратимую матрицу качество линейной регрессии неизменно**\n",
    "\n"
   ]
  },
  {
   "cell_type": "markdown",
   "metadata": {},
   "source": [
    "**Обоснование:**\n",
    "Обозначения, используемые в доказательстве:\n",
    "\n",
    "- $X$ — матрица признаков (нулевой столбец состоит из единиц)\n",
    "\n",
    "- $y$ — вектор целевого признака\n",
    "\n",
    "- $P$ — матрица, на которую умножаются признаки\n",
    "\n",
    "- $w$ — вектор весов линейной регрессии (нулевой элемент равен сдвигу)\n",
    "\n",
    "- $a = Xw$ - это вектор предсказаний, он получается путём умножения матрицы признаков \n",
    " на вектор весов \n",
    "\n",
    "- $w = \\arg\\min_w MSE(Xw, y)$ - это метод наименьших квадратов, это задача линейной регрессии  \n",
    "\n",
    "- $w = (X^T X)^{-1} X^T y$ - формула обучения\n",
    "\n",
    "\n",
    "Домножим матрицу $X$ на на обратимую матрицу $A$ и получим следующие формулы для предсказаний и весов:  \n",
    "$a = XAw$     \n",
    "$w′ = ((XA)^TXA)^{-1}(XA)^Ty$    \n",
    "\n",
    "Подставим веса $w′$ в формулу для $a$:  \n",
    "$a = XA((XA)^T)XA^{-1}(XA)^Ty)$  \n",
    "\n",
    "Теперь применим свойство транспонирования матриц, согласно которому транспонированное произведение матриц равно произведению транспонированных матриц $(AB)^T = B^T A^T$:  \n",
    "$a = XA((A^TX^TXA)^{-1}A^TX^Ty)$  \n",
    "\n",
    "Применим свойство произведения обратной матрицы, по которому обратная матрица от произведения двух матриц равна обратной матрице B (второй) к обратной матрице А (первой) $(AB)^{-1} = B^{-1} A^{-1}$. Зная это свойство, вынесем $A$ в два шага:   \n",
    "$a = XA((A^TX^TXA)^{-1}A^TX^Ty)$    \n",
    "$a = XAA^{-1}((X^TX)^{-1}(A^T)^{-1}A^TX^Ty)$    \n",
    "\n",
    "Применим следующее свойство операций над матрицами $AA^{-1}=E$, перепишем уравнение:    \n",
    "$a = XE((X^TX)^{-1}EX^Ty)$  \n",
    "\n",
    "Произведение любой матрицы на единичную матрицу не изменяет саму матрицу, мы можем сократим $E$:  \n",
    "$a = X(X^TX)^{-1}X^Ty$  \n",
    "\n",
    "В тоге мы пришли к исходному виду уравнения:  \n",
    "$a = X(X^TX)^{-1}X^Ty = Xw$  \n",
    "\n",
    "Что означает, что при умножении признаков на обратимую матрицу качество линейной регрессии неизменно. При умножении признаков на обратимую матрицу, мы просто получаем новые веса модели, но сама структура модели остается неизменной. Таким образом, качество линейной регрессии, измеряемое, например, с помощью среднеквадратичной ошибки или коэффициента детерминации, остается неизменным, что нам и остается проверить.  "
   ]
  },
  {
   "cell_type": "markdown",
   "metadata": {},
   "source": [
    "## Алгоритм преобразования"
   ]
  },
  {
   "cell_type": "markdown",
   "metadata": {},
   "source": [
    "**Алгоритм**\n",
    "\n",
    "1. Разделим наш датафрейм на фичи и таргет, выборку сделаем матрицей, а таргет вектором, и то и другое типом array.  \n",
    "2. Генерируем обратимую матрицу  \n",
    "3. Зашифруем данные умножением на нашу матрицу  \n",
    "4. Создадим модель LinearRegression и сверим метрики R2 на зашифрованных и незашифрованных данных. \n",
    "Для оценки моделей мы будем использовать значение метрики R2 (коэффициент детерминации), она применяется для оценки качества модели регрессии и измеряет то, насколько хорошо модель соответствует данным. R2 принимает значения от 0 до 1, чем ближе к единице, тем лучше. Если же значение близко к нулю, то это говорит о том, что модель не уловила закономерностей в данных и не объясняет их вариацию.  \n",
    "5. Расшифруем данные и сверим их с исходными\n",
    "\n",
    "**Обоснование**\n",
    "Для защиты информации на этапе поиска коэффициентов регрессии и предсказаний регрессии будем умножать матрицу признаков на обратимую матрицу, которая будет генерироваться случайным образом.\n",
    "\n",
    "Обратимая матрица должна быть квадраттной невырожденной и иметь необходимую размерность $nХn$, где n - количество признаков для регрессии. Таким образом матрица преобразованных признаков будет иметь туже размерность, что и матрица исходная матрица признаков."
   ]
  },
  {
   "cell_type": "markdown",
   "metadata": {},
   "source": [
    "## Проверка алгоритма"
   ]
  },
  {
   "cell_type": "markdown",
   "metadata": {},
   "source": [
    "Делим датасет на фичи и таргет:"
   ]
  },
  {
   "cell_type": "code",
   "execution_count": 6,
   "metadata": {},
   "outputs": [],
   "source": [
    "features = df.drop('Страховые выплаты', axis=1)\n",
    "target = df['Страховые выплаты']"
   ]
  },
  {
   "cell_type": "markdown",
   "metadata": {},
   "source": [
    "Разбиваем исходные данные на тренировочную и тестовую выборки:"
   ]
  },
  {
   "cell_type": "code",
   "execution_count": 7,
   "metadata": {},
   "outputs": [],
   "source": [
    "features_train, features_test, target_train, target_test = train_test_split(features, target, test_size=0.20, random_state=STATE)"
   ]
  },
  {
   "cell_type": "markdown",
   "metadata": {},
   "source": [
    "Создадим модель линейной регресии:"
   ]
  },
  {
   "cell_type": "code",
   "execution_count": 8,
   "metadata": {},
   "outputs": [],
   "source": [
    "pipeline = Pipeline([('scale', StandardScaler()),\n",
    "                    ('linear', LinearRegression())])"
   ]
  },
  {
   "cell_type": "markdown",
   "metadata": {},
   "source": [
    "Обучим модель и посчитаем метрику R2:"
   ]
  },
  {
   "cell_type": "code",
   "execution_count": 9,
   "metadata": {},
   "outputs": [
    {
     "name": "stdout",
     "output_type": "stream",
     "text": [
      "Метрика R2 для незашифрованных данных: 0.4160549216151216\n"
     ]
    }
   ],
   "source": [
    "pipeline.fit(features_train, target_train)\n",
    "r2 = r2_score(target_test, pipeline.predict(features_test))\n",
    "print('Метрика R2 для незашифрованных данных:', r2)"
   ]
  },
  {
   "cell_type": "markdown",
   "metadata": {},
   "source": [
    "Создадим обратимую матрицу:"
   ]
  },
  {
   "cell_type": "code",
   "execution_count": 10,
   "metadata": {},
   "outputs": [
    {
     "name": "stdout",
     "output_type": "stream",
     "text": [
      "Исходная матрица:\n",
      " [[0.28448699 0.99227694 0.88434431 0.60721012]\n",
      " [0.39789716 0.68882189 0.58729277 0.85811282]\n",
      " [0.60409172 0.76252713 0.34364462 0.54058324]\n",
      " [0.95023421 0.0201075  0.34072943 0.08745805]]\n",
      "Обратная матрица:\n",
      " [[-0.43245699 -0.2700278   0.78570887  0.79541596]\n",
      " [ 0.58575273 -1.60872529  2.02319324 -0.78793847]\n",
      " [ 1.50509984  0.22475791 -2.18386626  0.84362746]\n",
      " [-1.29975934  2.42808376 -0.49373724 -0.31371258]]\n"
     ]
    }
   ],
   "source": [
    "import numpy as np\n",
    "\n",
    "def generate_random_matrix(n):\n",
    "    while True:\n",
    "        matrix = np.random.rand(n, n)\n",
    "        determinant = np.linalg.det(matrix)\n",
    "        if determinant != 0:\n",
    "            inverse_matrix = np.linalg.inv(matrix)\n",
    "            return matrix, inverse_matrix\n",
    "\n",
    "# вызов функции и вывод результатов на экран\n",
    "matrix, inverse_matrix = generate_random_matrix(features.shape[1])\n",
    "\n",
    "print(\"Исходная матрица:\\n\", matrix)\n",
    "print(\"Обратная матрица:\\n\", inverse_matrix)"
   ]
  },
  {
   "cell_type": "markdown",
   "metadata": {},
   "source": [
    "Закодируем фичи:"
   ]
  },
  {
   "cell_type": "code",
   "execution_count": 11,
   "metadata": {},
   "outputs": [
    {
     "data": {
      "text/html": [
       "<div>\n",
       "<style scoped>\n",
       "    .dataframe tbody tr th:only-of-type {\n",
       "        vertical-align: middle;\n",
       "    }\n",
       "\n",
       "    .dataframe tbody tr th {\n",
       "        vertical-align: top;\n",
       "    }\n",
       "\n",
       "    .dataframe thead th {\n",
       "        text-align: right;\n",
       "    }\n",
       "</style>\n",
       "<table border=\"1\" class=\"dataframe\">\n",
       "  <thead>\n",
       "    <tr style=\"text-align: right;\">\n",
       "      <th></th>\n",
       "      <th>0</th>\n",
       "      <th>1</th>\n",
       "      <th>2</th>\n",
       "      <th>3</th>\n",
       "    </tr>\n",
       "  </thead>\n",
       "  <tbody>\n",
       "    <tr>\n",
       "      <th>0</th>\n",
       "      <td>29980.497764</td>\n",
       "      <td>37850.599967</td>\n",
       "      <td>17070.077113</td>\n",
       "      <td>26848.806192</td>\n",
       "    </tr>\n",
       "    <tr>\n",
       "      <th>1</th>\n",
       "      <td>22974.738823</td>\n",
       "      <td>29007.737036</td>\n",
       "      <td>13085.851668</td>\n",
       "      <td>20581.723917</td>\n",
       "    </tr>\n",
       "    <tr>\n",
       "      <th>2</th>\n",
       "      <td>12697.465115</td>\n",
       "      <td>16033.045665</td>\n",
       "      <td>7233.568461</td>\n",
       "      <td>11377.133394</td>\n",
       "    </tr>\n",
       "    <tr>\n",
       "      <th>3</th>\n",
       "      <td>25200.880989</td>\n",
       "      <td>31811.886995</td>\n",
       "      <td>14342.995164</td>\n",
       "      <td>22560.516557</td>\n",
       "    </tr>\n",
       "    <tr>\n",
       "      <th>4</th>\n",
       "      <td>15778.219472</td>\n",
       "      <td>19922.237508</td>\n",
       "      <td>8986.453063</td>\n",
       "      <td>14133.857035</td>\n",
       "    </tr>\n",
       "    <tr>\n",
       "      <th>...</th>\n",
       "      <td>...</td>\n",
       "      <td>...</td>\n",
       "      <td>...</td>\n",
       "      <td>...</td>\n",
       "    </tr>\n",
       "    <tr>\n",
       "      <th>4995</th>\n",
       "      <td>21579.115955</td>\n",
       "      <td>27241.545940</td>\n",
       "      <td>12285.238507</td>\n",
       "      <td>19323.023883</td>\n",
       "    </tr>\n",
       "    <tr>\n",
       "      <th>4996</th>\n",
       "      <td>31668.884810</td>\n",
       "      <td>39979.861914</td>\n",
       "      <td>18027.286649</td>\n",
       "      <td>28355.825275</td>\n",
       "    </tr>\n",
       "    <tr>\n",
       "      <th>4997</th>\n",
       "      <td>20488.567684</td>\n",
       "      <td>25863.486522</td>\n",
       "      <td>11661.979853</td>\n",
       "      <td>18343.109141</td>\n",
       "    </tr>\n",
       "    <tr>\n",
       "      <th>4998</th>\n",
       "      <td>19765.688137</td>\n",
       "      <td>24950.843989</td>\n",
       "      <td>11252.005971</td>\n",
       "      <td>17696.820142</td>\n",
       "    </tr>\n",
       "    <tr>\n",
       "      <th>4999</th>\n",
       "      <td>24538.499631</td>\n",
       "      <td>30978.901070</td>\n",
       "      <td>13969.640748</td>\n",
       "      <td>21972.401530</td>\n",
       "    </tr>\n",
       "  </tbody>\n",
       "</table>\n",
       "<p>4847 rows × 4 columns</p>\n",
       "</div>"
      ],
      "text/plain": [
       "                 0             1             2             3\n",
       "0     29980.497764  37850.599967  17070.077113  26848.806192\n",
       "1     22974.738823  29007.737036  13085.851668  20581.723917\n",
       "2     12697.465115  16033.045665   7233.568461  11377.133394\n",
       "3     25200.880989  31811.886995  14342.995164  22560.516557\n",
       "4     15778.219472  19922.237508   8986.453063  14133.857035\n",
       "...            ...           ...           ...           ...\n",
       "4995  21579.115955  27241.545940  12285.238507  19323.023883\n",
       "4996  31668.884810  39979.861914  18027.286649  28355.825275\n",
       "4997  20488.567684  25863.486522  11661.979853  18343.109141\n",
       "4998  19765.688137  24950.843989  11252.005971  17696.820142\n",
       "4999  24538.499631  30978.901070  13969.640748  21972.401530\n",
       "\n",
       "[4847 rows x 4 columns]"
      ]
     },
     "execution_count": 11,
     "metadata": {},
     "output_type": "execute_result"
    }
   ],
   "source": [
    "features_encrypted = pd.DataFrame(features @ matrix)\n",
    "features_encrypted"
   ]
  },
  {
   "cell_type": "markdown",
   "metadata": {},
   "source": [
    "Разобьем на выборки шифрованные данные, обучим модель и выведем метрику R2:"
   ]
  },
  {
   "cell_type": "code",
   "execution_count": 12,
   "metadata": {},
   "outputs": [
    {
     "name": "stdout",
     "output_type": "stream",
     "text": [
      "Метрика R2 для зашифрованных данных: 0.41605492161514124\n"
     ]
    }
   ],
   "source": [
    "features_encrypted_train, features_encrypted_test, target_encrypted_train, target_encrypted_test = train_test_split(\n",
    "    features_encrypted, target, test_size=0.20, random_state=STATE)\n",
    "\n",
    "pipeline.fit(features_encrypted_train, target_encrypted_train)\n",
    "r2p = r2_score(target_encrypted_test, pipeline.predict(features_encrypted_test))\n",
    "print('Метрика R2 для зашифрованных данных:', r2p)"
   ]
  },
  {
   "cell_type": "markdown",
   "metadata": {},
   "source": [
    "Сверим метрики R2 для шифрованных и исходных данных:"
   ]
  },
  {
   "cell_type": "code",
   "execution_count": 13,
   "metadata": {},
   "outputs": [
    {
     "name": "stdout",
     "output_type": "stream",
     "text": [
      "Метрика R2 для незашифрованных данных: 0.4160549216151216\n",
      "Метрика R2 для зашифрованных данных: 0.41605492161514124\n"
     ]
    }
   ],
   "source": [
    "print('Метрика R2 для незашифрованных данных:', r2)\n",
    "print('Метрика R2 для зашифрованных данных:', r2p)"
   ]
  },
  {
   "cell_type": "markdown",
   "metadata": {},
   "source": [
    "Мы не меняли тип данных float на целочисленный, и он даёт незначительную погрешность в вычислении в n-ом знаке после запятой. В целом значение R2 для зашифрованных и расшифрованных данных совпадают. Это означает то, что и качество алгоритма линейной регрессии от шифрования данных путём преобразования матриц не теряется, зависимости между признаками сохраняются."
   ]
  },
  {
   "cell_type": "markdown",
   "metadata": {},
   "source": [
    "Проверим, как расшифровываются данные:"
   ]
  },
  {
   "cell_type": "code",
   "execution_count": 14,
   "metadata": {},
   "outputs": [
    {
     "data": {
      "text/html": [
       "<div>\n",
       "<style scoped>\n",
       "    .dataframe tbody tr th:only-of-type {\n",
       "        vertical-align: middle;\n",
       "    }\n",
       "\n",
       "    .dataframe tbody tr th {\n",
       "        vertical-align: top;\n",
       "    }\n",
       "\n",
       "    .dataframe thead th {\n",
       "        text-align: right;\n",
       "    }\n",
       "</style>\n",
       "<table border=\"1\" class=\"dataframe\">\n",
       "  <thead>\n",
       "    <tr style=\"text-align: right;\">\n",
       "      <th></th>\n",
       "      <th>0</th>\n",
       "      <th>1</th>\n",
       "      <th>2</th>\n",
       "      <th>3</th>\n",
       "    </tr>\n",
       "  </thead>\n",
       "  <tbody>\n",
       "    <tr>\n",
       "      <th>0</th>\n",
       "      <td>1.0</td>\n",
       "      <td>41.0</td>\n",
       "      <td>49600.0</td>\n",
       "      <td>1.0</td>\n",
       "    </tr>\n",
       "    <tr>\n",
       "      <th>1</th>\n",
       "      <td>0.0</td>\n",
       "      <td>46.0</td>\n",
       "      <td>38000.0</td>\n",
       "      <td>1.0</td>\n",
       "    </tr>\n",
       "    <tr>\n",
       "      <th>2</th>\n",
       "      <td>0.0</td>\n",
       "      <td>29.0</td>\n",
       "      <td>21000.0</td>\n",
       "      <td>0.0</td>\n",
       "    </tr>\n",
       "    <tr>\n",
       "      <th>3</th>\n",
       "      <td>0.0</td>\n",
       "      <td>21.0</td>\n",
       "      <td>41700.0</td>\n",
       "      <td>2.0</td>\n",
       "    </tr>\n",
       "    <tr>\n",
       "      <th>4</th>\n",
       "      <td>1.0</td>\n",
       "      <td>28.0</td>\n",
       "      <td>26100.0</td>\n",
       "      <td>0.0</td>\n",
       "    </tr>\n",
       "  </tbody>\n",
       "</table>\n",
       "</div>"
      ],
      "text/plain": [
       "     0     1        2    3\n",
       "0  1.0  41.0  49600.0  1.0\n",
       "1  0.0  46.0  38000.0  1.0\n",
       "2  0.0  29.0  21000.0  0.0\n",
       "3  0.0  21.0  41700.0  2.0\n",
       "4  1.0  28.0  26100.0  0.0"
      ]
     },
     "metadata": {},
     "output_type": "display_data"
    },
    {
     "data": {
      "text/html": [
       "<div>\n",
       "<style scoped>\n",
       "    .dataframe tbody tr th:only-of-type {\n",
       "        vertical-align: middle;\n",
       "    }\n",
       "\n",
       "    .dataframe tbody tr th {\n",
       "        vertical-align: top;\n",
       "    }\n",
       "\n",
       "    .dataframe thead th {\n",
       "        text-align: right;\n",
       "    }\n",
       "</style>\n",
       "<table border=\"1\" class=\"dataframe\">\n",
       "  <thead>\n",
       "    <tr style=\"text-align: right;\">\n",
       "      <th></th>\n",
       "      <th>Пол</th>\n",
       "      <th>Возраст</th>\n",
       "      <th>Зарплата</th>\n",
       "      <th>Члены семьи</th>\n",
       "    </tr>\n",
       "  </thead>\n",
       "  <tbody>\n",
       "    <tr>\n",
       "      <th>0</th>\n",
       "      <td>1</td>\n",
       "      <td>41.0</td>\n",
       "      <td>49600.0</td>\n",
       "      <td>1</td>\n",
       "    </tr>\n",
       "    <tr>\n",
       "      <th>1</th>\n",
       "      <td>0</td>\n",
       "      <td>46.0</td>\n",
       "      <td>38000.0</td>\n",
       "      <td>1</td>\n",
       "    </tr>\n",
       "    <tr>\n",
       "      <th>2</th>\n",
       "      <td>0</td>\n",
       "      <td>29.0</td>\n",
       "      <td>21000.0</td>\n",
       "      <td>0</td>\n",
       "    </tr>\n",
       "    <tr>\n",
       "      <th>3</th>\n",
       "      <td>0</td>\n",
       "      <td>21.0</td>\n",
       "      <td>41700.0</td>\n",
       "      <td>2</td>\n",
       "    </tr>\n",
       "    <tr>\n",
       "      <th>4</th>\n",
       "      <td>1</td>\n",
       "      <td>28.0</td>\n",
       "      <td>26100.0</td>\n",
       "      <td>0</td>\n",
       "    </tr>\n",
       "  </tbody>\n",
       "</table>\n",
       "</div>"
      ],
      "text/plain": [
       "   Пол  Возраст  Зарплата  Члены семьи\n",
       "0    1     41.0   49600.0            1\n",
       "1    0     46.0   38000.0            1\n",
       "2    0     29.0   21000.0            0\n",
       "3    0     21.0   41700.0            2\n",
       "4    1     28.0   26100.0            0"
      ]
     },
     "metadata": {},
     "output_type": "display_data"
    },
    {
     "name": "stdout",
     "output_type": "stream",
     "text": [
      "Данные идентичны\n"
     ]
    }
   ],
   "source": [
    "features_decrypted = pd.DataFrame(features_encrypted @ inverse_matrix).round()\n",
    "display(features_decrypted.head(5))\n",
    "display(features.head(5))\n",
    "\n",
    "if np.allclose(features.astype(np.float64), features_decrypted.astype(np.float64), rtol=1e-3):\n",
    "    print('Данные идентичны')\n",
    "else:\n",
    "    print('Данные отличаются')"
   ]
  },
  {
   "cell_type": "markdown",
   "metadata": {},
   "source": [
    "# Вывод: "
   ]
  },
  {
   "cell_type": "markdown",
   "metadata": {},
   "source": [
    "В данной работе перед нами стояла задача создания алгоритма преобразования данных, который смог бы скрывать персональную информацию о клиентах страховой компании \"Хоть потоп\". \n",
    "\n",
    "В ходе выполнения проекта были:\n",
    "1. Изучены данные и распределение признаков\n",
    "2. Обоснована неизменность качества линейной регрессии при умножении признаков на обратимую матрицу\n",
    "3. Предложен и обоснован алгоритм преобразования данных для решения задачи.\n",
    "4. Реализован алгоритм в коде, рассчитан коэффициента детерминации R2 для исходных и зашифрованных данных.\n",
    "\n",
    "Значение R2 для зашифрованных и расшифрованных данных совпадают. Качество алгоритма линейной регрессии от шифрования данных путём преобразования матриц не теряется, а значит и зависимость между признаками сохраняется, дешифрованные данные корректны."
   ]
  }
 ],
 "metadata": {
  "ExecuteTimeLog": [
   {
    "duration": 1614,
    "start_time": "2023-09-03T09:32:49.000Z"
   },
   {
    "duration": 175,
    "start_time": "2023-09-03T09:32:50.715Z"
   },
   {
    "duration": 124,
    "start_time": "2023-09-03T09:33:17.615Z"
   },
   {
    "duration": 99,
    "start_time": "2023-09-03T09:33:42.280Z"
   },
   {
    "duration": 46,
    "start_time": "2023-09-03T09:34:30.130Z"
   },
   {
    "duration": 43,
    "start_time": "2023-09-03T09:34:53.522Z"
   },
   {
    "duration": 6,
    "start_time": "2023-09-03T09:35:50.995Z"
   },
   {
    "duration": 795,
    "start_time": "2023-09-03T09:35:51.881Z"
   },
   {
    "duration": 8,
    "start_time": "2023-09-03T09:36:39.665Z"
   },
   {
    "duration": 6,
    "start_time": "2023-09-03T09:36:48.782Z"
   },
   {
    "duration": 7,
    "start_time": "2023-09-03T09:37:05.561Z"
   },
   {
    "duration": 663,
    "start_time": "2023-09-03T09:37:06.278Z"
   },
   {
    "duration": 6,
    "start_time": "2023-09-03T09:43:18.793Z"
   },
   {
    "duration": 176,
    "start_time": "2023-09-03T09:45:36.111Z"
   },
   {
    "duration": 1688,
    "start_time": "2023-09-16T11:13:55.663Z"
   },
   {
    "duration": 6,
    "start_time": "2023-09-16T11:13:57.353Z"
   },
   {
    "duration": 135,
    "start_time": "2023-09-16T11:14:06.307Z"
   },
   {
    "duration": 5,
    "start_time": "2023-09-16T11:14:18.861Z"
   },
   {
    "duration": 81,
    "start_time": "2023-09-16T11:14:31.027Z"
   },
   {
    "duration": 6,
    "start_time": "2023-09-16T11:14:53.968Z"
   },
   {
    "duration": 127,
    "start_time": "2023-09-16T11:17:37.376Z"
   },
   {
    "duration": 2705,
    "start_time": "2023-09-16T11:20:36.989Z"
   },
   {
    "duration": 2439,
    "start_time": "2023-09-16T11:21:09.152Z"
   },
   {
    "duration": 445,
    "start_time": "2023-09-16T11:23:35.070Z"
   },
   {
    "duration": 562,
    "start_time": "2023-09-16T11:23:59.504Z"
   },
   {
    "duration": 83,
    "start_time": "2023-09-16T11:25:13.092Z"
   },
   {
    "duration": 86,
    "start_time": "2023-09-16T11:26:07.267Z"
   },
   {
    "duration": 596,
    "start_time": "2023-09-16T11:27:01.443Z"
   },
   {
    "duration": 709,
    "start_time": "2023-09-16T11:27:23.243Z"
   },
   {
    "duration": 255,
    "start_time": "2023-09-16T12:00:00.257Z"
   },
   {
    "duration": 1850,
    "start_time": "2023-09-16T13:17:08.305Z"
   },
   {
    "duration": 5,
    "start_time": "2023-09-16T13:17:10.159Z"
   },
   {
    "duration": 98,
    "start_time": "2023-09-16T13:17:10.165Z"
   },
   {
    "duration": 5,
    "start_time": "2023-09-16T13:17:10.265Z"
   },
   {
    "duration": 702,
    "start_time": "2023-09-16T13:17:10.271Z"
   },
   {
    "duration": 4,
    "start_time": "2023-09-16T13:17:10.974Z"
   },
   {
    "duration": 8,
    "start_time": "2023-09-16T13:17:10.980Z"
   },
   {
    "duration": 12,
    "start_time": "2023-09-16T13:17:10.990Z"
   },
   {
    "duration": 48,
    "start_time": "2023-09-16T13:17:11.004Z"
   },
   {
    "duration": 23,
    "start_time": "2023-09-16T13:17:11.055Z"
   },
   {
    "duration": 239,
    "start_time": "2023-09-16T13:17:11.081Z"
   },
   {
    "duration": 0,
    "start_time": "2023-09-16T13:17:11.321Z"
   },
   {
    "duration": 0,
    "start_time": "2023-09-16T13:17:11.322Z"
   },
   {
    "duration": 0,
    "start_time": "2023-09-16T13:17:11.324Z"
   },
   {
    "duration": 12,
    "start_time": "2023-09-16T13:20:06.743Z"
   },
   {
    "duration": 15,
    "start_time": "2023-09-16T13:20:15.031Z"
   },
   {
    "duration": 4,
    "start_time": "2023-09-16T13:20:17.127Z"
   },
   {
    "duration": 16,
    "start_time": "2023-09-16T13:23:15.921Z"
   },
   {
    "duration": 32,
    "start_time": "2023-09-16T13:23:29.519Z"
   },
   {
    "duration": 1656,
    "start_time": "2023-09-16T13:31:38.641Z"
   },
   {
    "duration": 11,
    "start_time": "2023-09-16T13:31:40.302Z"
   },
   {
    "duration": 136,
    "start_time": "2023-09-16T13:31:40.315Z"
   },
   {
    "duration": 9,
    "start_time": "2023-09-16T13:31:40.455Z"
   },
   {
    "duration": 787,
    "start_time": "2023-09-16T13:31:40.467Z"
   },
   {
    "duration": 4,
    "start_time": "2023-09-16T13:31:41.256Z"
   },
   {
    "duration": 8,
    "start_time": "2023-09-16T13:31:41.262Z"
   },
   {
    "duration": 11,
    "start_time": "2023-09-16T13:31:41.271Z"
   },
   {
    "duration": 22,
    "start_time": "2023-09-16T13:31:41.303Z"
   },
   {
    "duration": 9,
    "start_time": "2023-09-16T13:31:41.329Z"
   },
   {
    "duration": 160,
    "start_time": "2023-09-16T13:31:41.341Z"
   },
   {
    "duration": 19,
    "start_time": "2023-09-16T13:31:41.503Z"
   },
   {
    "duration": 5,
    "start_time": "2023-09-16T13:31:41.526Z"
   },
   {
    "duration": 24,
    "start_time": "2023-09-16T13:31:52.959Z"
   },
   {
    "duration": 3255,
    "start_time": "2023-09-16T14:09:35.651Z"
   },
   {
    "duration": 6,
    "start_time": "2023-09-16T14:09:38.910Z"
   },
   {
    "duration": 167,
    "start_time": "2023-09-16T14:09:38.918Z"
   },
   {
    "duration": 5,
    "start_time": "2023-09-16T14:09:39.087Z"
   },
   {
    "duration": 714,
    "start_time": "2023-09-16T14:09:39.100Z"
   },
   {
    "duration": 4,
    "start_time": "2023-09-16T14:09:39.815Z"
   },
   {
    "duration": 21,
    "start_time": "2023-09-16T14:09:39.821Z"
   },
   {
    "duration": 30,
    "start_time": "2023-09-16T14:09:39.844Z"
   },
   {
    "duration": 90,
    "start_time": "2023-09-16T14:09:39.876Z"
   },
   {
    "duration": 10,
    "start_time": "2023-09-16T14:09:39.967Z"
   },
   {
    "duration": 29,
    "start_time": "2023-09-16T14:09:39.979Z"
   },
   {
    "duration": 101,
    "start_time": "2023-09-16T14:09:40.010Z"
   },
   {
    "duration": 3,
    "start_time": "2023-09-16T14:09:40.113Z"
   },
   {
    "duration": 36,
    "start_time": "2023-09-16T14:09:40.119Z"
   },
   {
    "duration": 1469,
    "start_time": "2023-09-17T10:51:12.311Z"
   },
   {
    "duration": 4,
    "start_time": "2023-09-17T10:51:13.783Z"
   },
   {
    "duration": 158,
    "start_time": "2023-09-17T10:51:13.789Z"
   },
   {
    "duration": 6,
    "start_time": "2023-09-17T10:51:13.948Z"
   },
   {
    "duration": 659,
    "start_time": "2023-09-17T10:51:13.960Z"
   },
   {
    "duration": 4,
    "start_time": "2023-09-17T10:51:14.620Z"
   },
   {
    "duration": 11,
    "start_time": "2023-09-17T10:51:14.625Z"
   },
   {
    "duration": 28,
    "start_time": "2023-09-17T10:51:14.637Z"
   },
   {
    "duration": 30,
    "start_time": "2023-09-17T10:51:14.667Z"
   },
   {
    "duration": 8,
    "start_time": "2023-09-17T10:51:14.699Z"
   },
   {
    "duration": 230,
    "start_time": "2023-09-17T10:51:14.709Z"
   },
   {
    "duration": 0,
    "start_time": "2023-09-17T10:51:14.940Z"
   },
   {
    "duration": 0,
    "start_time": "2023-09-17T10:51:14.949Z"
   },
   {
    "duration": 0,
    "start_time": "2023-09-17T10:51:14.950Z"
   },
   {
    "duration": 6,
    "start_time": "2023-09-17T10:54:42.683Z"
   },
   {
    "duration": 10,
    "start_time": "2023-09-17T10:54:47.182Z"
   },
   {
    "duration": 9,
    "start_time": "2023-09-17T10:57:02.190Z"
   },
   {
    "duration": 10,
    "start_time": "2023-09-17T10:57:05.623Z"
   },
   {
    "duration": 7,
    "start_time": "2023-09-17T10:58:31.296Z"
   },
   {
    "duration": 11,
    "start_time": "2023-09-17T10:58:33.483Z"
   },
   {
    "duration": 1324,
    "start_time": "2023-09-17T10:59:40.678Z"
   },
   {
    "duration": 4,
    "start_time": "2023-09-17T10:59:42.006Z"
   },
   {
    "duration": 104,
    "start_time": "2023-09-17T10:59:42.011Z"
   },
   {
    "duration": 5,
    "start_time": "2023-09-17T10:59:42.116Z"
   },
   {
    "duration": 640,
    "start_time": "2023-09-17T10:59:42.123Z"
   },
   {
    "duration": 4,
    "start_time": "2023-09-17T10:59:42.766Z"
   },
   {
    "duration": 13,
    "start_time": "2023-09-17T10:59:42.771Z"
   },
   {
    "duration": 9,
    "start_time": "2023-09-17T10:59:42.785Z"
   },
   {
    "duration": 16,
    "start_time": "2023-09-17T10:59:42.796Z"
   },
   {
    "duration": 2,
    "start_time": "2023-09-17T10:59:42.814Z"
   },
   {
    "duration": 7,
    "start_time": "2023-09-17T10:59:42.818Z"
   },
   {
    "duration": 43,
    "start_time": "2023-09-17T10:59:42.826Z"
   },
   {
    "duration": 82,
    "start_time": "2023-09-17T10:59:42.873Z"
   },
   {
    "duration": 8,
    "start_time": "2023-09-17T10:59:42.958Z"
   },
   {
    "duration": 17,
    "start_time": "2023-09-17T10:59:42.968Z"
   }
  ],
  "kernelspec": {
   "display_name": "Python 3 (ipykernel)",
   "language": "python",
   "name": "python3"
  },
  "language_info": {
   "codemirror_mode": {
    "name": "ipython",
    "version": 3
   },
   "file_extension": ".py",
   "mimetype": "text/x-python",
   "name": "python",
   "nbconvert_exporter": "python",
   "pygments_lexer": "ipython3",
   "version": "3.9.13"
  },
  "toc": {
   "base_numbering": 1,
   "nav_menu": {},
   "number_sections": true,
   "sideBar": true,
   "skip_h1_title": true,
   "title_cell": "Содержание",
   "title_sidebar": "Contents",
   "toc_cell": true,
   "toc_position": {
    "height": "calc(100% - 180px)",
    "left": "10px",
    "top": "150px",
    "width": "192.628px"
   },
   "toc_section_display": true,
   "toc_window_display": true
  }
 },
 "nbformat": 4,
 "nbformat_minor": 2
}
