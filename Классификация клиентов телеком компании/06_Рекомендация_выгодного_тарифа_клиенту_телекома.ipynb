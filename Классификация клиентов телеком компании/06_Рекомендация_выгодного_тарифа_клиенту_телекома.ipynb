{
 "cells": [
  {
   "cell_type": "markdown",
   "metadata": {},
   "source": [
    "# Рекомендация тарифов"
   ]
  },
  {
   "cell_type": "markdown",
   "metadata": {},
   "source": [
    "В нашем распоряжении данные о поведении клиентов, которые уже перешли на тарифы, которые хочет рекомендовать своим клиентам заказчик. Предобработка данных уже проведена.\n",
    "\n",
    "Нужно построить модель для задачи классификации со значением *accuracy* 0.75 и выше и проверить её на тестовой выборке. На основании модели клиентам будут предложены оптимальные тарифы."
   ]
  },
  {
   "cell_type": "markdown",
   "metadata": {},
   "source": [
    "## Откроем и изучим файл"
   ]
  },
  {
   "cell_type": "code",
   "execution_count": 4,
   "metadata": {},
   "outputs": [],
   "source": [
    "#импорт библиотек\n",
    "import pandas as pd\n",
    "from sklearn.model_selection import train_test_split\n",
    "from sklearn.linear_model import LogisticRegression\n",
    "from sklearn.ensemble import RandomForestClassifier\n",
    "from sklearn.tree import DecisionTreeClassifier\n",
    "from sklearn.metrics import accuracy_score"
   ]
  },
  {
   "cell_type": "code",
   "execution_count": 5,
   "metadata": {},
   "outputs": [],
   "source": [
    "#открытие датафрейма\n",
    "df = pd.read_csv('users_behavior.csv')"
   ]
  },
  {
   "cell_type": "code",
   "execution_count": 6,
   "metadata": {},
   "outputs": [
    {
     "data": {
      "text/html": [
       "<div>\n",
       "<style scoped>\n",
       "    .dataframe tbody tr th:only-of-type {\n",
       "        vertical-align: middle;\n",
       "    }\n",
       "\n",
       "    .dataframe tbody tr th {\n",
       "        vertical-align: top;\n",
       "    }\n",
       "\n",
       "    .dataframe thead th {\n",
       "        text-align: right;\n",
       "    }\n",
       "</style>\n",
       "<table border=\"1\" class=\"dataframe\">\n",
       "  <thead>\n",
       "    <tr style=\"text-align: right;\">\n",
       "      <th></th>\n",
       "      <th>calls</th>\n",
       "      <th>minutes</th>\n",
       "      <th>messages</th>\n",
       "      <th>mb_used</th>\n",
       "      <th>is_ultra</th>\n",
       "    </tr>\n",
       "  </thead>\n",
       "  <tbody>\n",
       "    <tr>\n",
       "      <th>0</th>\n",
       "      <td>40.0</td>\n",
       "      <td>311.90</td>\n",
       "      <td>83.0</td>\n",
       "      <td>19915.42</td>\n",
       "      <td>0</td>\n",
       "    </tr>\n",
       "    <tr>\n",
       "      <th>1</th>\n",
       "      <td>85.0</td>\n",
       "      <td>516.75</td>\n",
       "      <td>56.0</td>\n",
       "      <td>22696.96</td>\n",
       "      <td>0</td>\n",
       "    </tr>\n",
       "    <tr>\n",
       "      <th>2</th>\n",
       "      <td>77.0</td>\n",
       "      <td>467.66</td>\n",
       "      <td>86.0</td>\n",
       "      <td>21060.45</td>\n",
       "      <td>0</td>\n",
       "    </tr>\n",
       "    <tr>\n",
       "      <th>3</th>\n",
       "      <td>106.0</td>\n",
       "      <td>745.53</td>\n",
       "      <td>81.0</td>\n",
       "      <td>8437.39</td>\n",
       "      <td>1</td>\n",
       "    </tr>\n",
       "    <tr>\n",
       "      <th>4</th>\n",
       "      <td>66.0</td>\n",
       "      <td>418.74</td>\n",
       "      <td>1.0</td>\n",
       "      <td>14502.75</td>\n",
       "      <td>0</td>\n",
       "    </tr>\n",
       "  </tbody>\n",
       "</table>\n",
       "</div>"
      ],
      "text/plain": [
       "   calls  minutes  messages   mb_used  is_ultra\n",
       "0   40.0   311.90      83.0  19915.42         0\n",
       "1   85.0   516.75      56.0  22696.96         0\n",
       "2   77.0   467.66      86.0  21060.45         0\n",
       "3  106.0   745.53      81.0   8437.39         1\n",
       "4   66.0   418.74       1.0  14502.75         0"
      ]
     },
     "execution_count": 6,
     "metadata": {},
     "output_type": "execute_result"
    }
   ],
   "source": [
    "#изучение датафрема\n",
    "df.head()"
   ]
  },
  {
   "cell_type": "code",
   "execution_count": 7,
   "metadata": {},
   "outputs": [
    {
     "name": "stdout",
     "output_type": "stream",
     "text": [
      "<class 'pandas.core.frame.DataFrame'>\n",
      "RangeIndex: 3214 entries, 0 to 3213\n",
      "Data columns (total 5 columns):\n",
      " #   Column    Non-Null Count  Dtype  \n",
      "---  ------    --------------  -----  \n",
      " 0   calls     3214 non-null   float64\n",
      " 1   minutes   3214 non-null   float64\n",
      " 2   messages  3214 non-null   float64\n",
      " 3   mb_used   3214 non-null   float64\n",
      " 4   is_ultra  3214 non-null   int64  \n",
      "dtypes: float64(4), int64(1)\n",
      "memory usage: 125.7 KB\n"
     ]
    }
   ],
   "source": [
    "#изучение датафрема\n",
    "df.info()"
   ]
  },
  {
   "cell_type": "markdown",
   "metadata": {},
   "source": [
    "Описание столбцов:  \n",
    "сalls — количество звонков,  \n",
    "minutes — суммарная длительность звонков в минутах,  \n",
    "messages — количество sms-сообщений,  \n",
    "mb_used — израсходованный интернет-трафик в Мб,  \n",
    "is_ultra — каким тарифом пользовался в течение месяца («Ультра» — 1, «Смарт» — 0).  "
   ]
  },
  {
   "cell_type": "markdown",
   "metadata": {},
   "source": [
    "Предобработка по заданию не требуется, но дробные значения для количества звонков и сообщений некорректно оставлять, переведем в целочисленный тип."
   ]
  },
  {
   "cell_type": "code",
   "execution_count": 8,
   "metadata": {},
   "outputs": [],
   "source": [
    "df[['calls', 'messages']] = df[['calls', 'messages']].astype(int)"
   ]
  },
  {
   "cell_type": "markdown",
   "metadata": {},
   "source": [
    "## Разделим данные на выборки"
   ]
  },
  {
   "cell_type": "code",
   "execution_count": 9,
   "metadata": {},
   "outputs": [],
   "source": [
    "# выделение признаков и обучающего признака\n",
    "features = df.drop(['is_ultra'], axis=1)\n",
    "target = df['is_ultra']"
   ]
  },
  {
   "cell_type": "code",
   "execution_count": 10,
   "metadata": {},
   "outputs": [],
   "source": [
    "# разделение данных на три выборки: обучающую, валидационную и тестовую в соотношении 3:1:1\n",
    "\n",
    "#обучающая выборка и выборка, которая станет тестовой и валидационной\n",
    "features_train, features_test, target_train, target_test = train_test_split(features, target, test_size=0.4, random_state=12345, stratify=target)\n",
    "\n",
    "# валидационная и тестовая выборки\n",
    "features_valid, features_test, target_valid, target_test = train_test_split(features_test, target_test, test_size=0.5, random_state=12345, stratify=target_test)"
   ]
  },
  {
   "cell_type": "markdown",
   "metadata": {},
   "source": [
    "## Исследуем модели"
   ]
  },
  {
   "cell_type": "markdown",
   "metadata": {},
   "source": [
    "**Дерево решений**"
   ]
  },
  {
   "cell_type": "code",
   "execution_count": 11,
   "metadata": {},
   "outputs": [
    {
     "name": "stdout",
     "output_type": "stream",
     "text": [
      "Глубина дерева лучшей модели DT: 8\n",
      "Accuracy лучшей модели DT: 0.80248833592535\n"
     ]
    }
   ],
   "source": [
    "best_model_dt = None\n",
    "best_result_dt = 0\n",
    "best_depth_dt = 0\n",
    "\n",
    "for depth in range(1, 20):\n",
    "    model_dt = DecisionTreeClassifier(random_state=12345, max_depth=depth)\n",
    "    model_dt.fit(features_train, target_train)\n",
    "    predictions_dt = model_dt.predict(features_valid)\n",
    "    result = accuracy_score(predictions_dt, target_valid)\n",
    "    if result > best_result_dt:\n",
    "        best_model_dt = model_dt\n",
    "        best_result_dt = result\n",
    "        best_depth_dt = depth\n",
    "        \n",
    "print(\"Глубина дерева лучшей модели DT:\", best_depth_dt)\n",
    "print(\"Accuracy лучшей модели DT:\", best_result_dt)"
   ]
  },
  {
   "cell_type": "markdown",
   "metadata": {},
   "source": [
    "**Случайный лес**"
   ]
  },
  {
   "cell_type": "code",
   "execution_count": 12,
   "metadata": {},
   "outputs": [
    {
     "name": "stdout",
     "output_type": "stream",
     "text": [
      "Accuracy лучшей модели RF: 0.8227060653188181\n",
      "Глубина лучшей модели RF: 9\n",
      "Количество оценщиков: 39\n"
     ]
    }
   ],
   "source": [
    "best_model_rf = None\n",
    "best_result_rf = 0\n",
    "best_depth_rf = 0\n",
    "best_est_rf = 0\n",
    "\n",
    "for est in range(1, 51, 2):\n",
    "    for depth in range(1, 15):\n",
    "        model_rf = RandomForestClassifier(random_state=12345, n_estimators=est, max_depth=depth)\n",
    "        model_rf.fit(features_train, target_train)\n",
    "        result = model_rf.score(features_valid, target_valid)\n",
    "        if result > best_result_rf:\n",
    "            best_model_rf = model_rf\n",
    "            best_result_rf = result\n",
    "            best_depth_rf = depth\n",
    "            best_est_rf = est\n",
    "                   \n",
    "print(\"Accuracy лучшей модели RF:\", best_result_rf)\n",
    "print(\"Глубина лучшей модели RF:\", best_depth_rf)\n",
    "print(\"Количество оценщиков:\", best_est_rf)"
   ]
  },
  {
   "cell_type": "markdown",
   "metadata": {},
   "source": [
    "Добавлю рандомное значение min_samples_leaf, а затем добавлю его в цикл, посмотрю, как изменяется accuracy"
   ]
  },
  {
   "cell_type": "code",
   "execution_count": 13,
   "metadata": {},
   "outputs": [
    {
     "name": "stderr",
     "output_type": "stream",
     "text": [
      "  0%|          | 0/25 [00:00<?, ?it/s]"
     ]
    },
    {
     "name": "stderr",
     "output_type": "stream",
     "text": [
      "100%|██████████| 25/25 [00:19<00:00,  1.26it/s]"
     ]
    },
    {
     "name": "stdout",
     "output_type": "stream",
     "text": [
      "Accuracy лучшей модели RF: 0.8195956454121306\n",
      "Глубина лучшей модели RF: 9\n",
      "Количество оценщиков: 43\n"
     ]
    },
    {
     "name": "stderr",
     "output_type": "stream",
     "text": [
      "\n"
     ]
    }
   ],
   "source": [
    "from tqdm import tqdm\n",
    "\n",
    "best_model_rf = None\n",
    "best_result_rf = 0\n",
    "best_depth_rf = 0\n",
    "best_est_rf = 0\n",
    "\n",
    "for est in tqdm(range(1, 51, 2)):\n",
    "    for depth in range(1, 15):\n",
    "        model_rf = RandomForestClassifier(random_state=12345, n_estimators=est, max_depth=depth, min_samples_leaf=3)\n",
    "        model_rf.fit(features_train, target_train)\n",
    "        result = model_rf.score(features_valid, target_valid)\n",
    "        if result > best_result_rf:\n",
    "            best_model_rf = model_rf\n",
    "            best_result_rf = result\n",
    "            best_depth_rf = depth\n",
    "            best_est_rf = est\n",
    "                  \n",
    "print(\"Accuracy лучшей модели RF:\", best_result_rf)\n",
    "print(\"Глубина лучшей модели RF:\", best_depth_rf)\n",
    "print(\"Количество оценщиков:\", best_est_rf)"
   ]
  },
  {
   "cell_type": "markdown",
   "metadata": {},
   "source": [
    "**Логистическая регрессия**"
   ]
  },
  {
   "cell_type": "code",
   "execution_count": 14,
   "metadata": {},
   "outputs": [
    {
     "name": "stdout",
     "output_type": "stream",
     "text": [
      "Accuracy лучшей модели LR: 0.7387247278382582\n"
     ]
    }
   ],
   "source": [
    "model_lr = LogisticRegression(random_state=12345)\n",
    "model_lr.fit(features_train, target_train)\n",
    "result_lr = model_lr.score(features_valid, target_valid)\n",
    "\n",
    "print(\"Accuracy лучшей модели LR:\", result_lr)"
   ]
  },
  {
   "cell_type": "markdown",
   "metadata": {},
   "source": [
    "Лучшая модель согласно метрике *accuracy*- RandomForestClassifier, проверим модель RFС с количеством оценщиков 39 и глубиной 9 на тестовой выборке."
   ]
  },
  {
   "cell_type": "markdown",
   "metadata": {},
   "source": [
    "## Проверка лучшей модели на тестовой выборке"
   ]
  },
  {
   "cell_type": "code",
   "execution_count": 15,
   "metadata": {},
   "outputs": [
    {
     "name": "stdout",
     "output_type": "stream",
     "text": [
      "Accuracy RF на тестовой выборке: 0.8118195956454122\n"
     ]
    }
   ],
   "source": [
    "model_rf = RandomForestClassifier(random_state=12345, n_estimators=39, max_depth=9)\n",
    "model_rf.fit(features_train, target_train)\n",
    "predictions_test_rf = model_rf.predict(features_test)\n",
    "result_test_rf = accuracy_score(predictions_test_rf, target_test)\n",
    "\n",
    "print(\"Accuracy RF на тестовой выборке:\", result_test_rf)"
   ]
  },
  {
   "cell_type": "markdown",
   "metadata": {},
   "source": [
    "На тестовой выборке точность модели составляет 0.812. Модель не переобучена, условие для значения точности модели - не менее 0.75 - соблюдено.\n"
   ]
  },
  {
   "cell_type": "markdown",
   "metadata": {},
   "source": [
    "## Проверка модели на адекватность"
   ]
  },
  {
   "cell_type": "code",
   "execution_count": 16,
   "metadata": {},
   "outputs": [
    {
     "name": "stdout",
     "output_type": "stream",
     "text": [
      "Accuracy DC 0.6936236391912908\n"
     ]
    }
   ],
   "source": [
    "from sklearn.dummy import DummyClassifier\n",
    "model_dc = DummyClassifier(strategy='most_frequent', random_state=12345)\n",
    "model_dc.fit(features_train, target_train)\n",
    "result_dc = model_dc.score(features_valid, target_valid)\n",
    "\n",
    "print(\"Accuracy DC\", result_dc)"
   ]
  },
  {
   "cell_type": "markdown",
   "metadata": {},
   "source": [
    "Судя по точности модели DummyClassifier, выбранная модель RandomForestClassifier адекватна."
   ]
  },
  {
   "cell_type": "markdown",
   "metadata": {},
   "source": [
    "## Вывод:\n",
    "\n",
    "В данном исследовании мы рассмотрели работу алгоритмов классификации для определения оптимальной модели, которая будет выбирать подходящий тариф. Мы выбрали для анализа следующие алгоритмы:\n",
    "\n",
    "DecisionTreeClassifier\n",
    "RandomForestClassifier\n",
    "LogisticRegression\n",
    "\n",
    "Метрика, по которой мы оценивали - accuracy.\n",
    "\n",
    "В результате исследования для формирования модели был выбран алгоритм GradientBoostingClassifier(max_depth=9, n_estimators=39). Он показал значения метрики accuracy на test-выборке: 0.8118.\n",
    "\n",
    "Адекватность модели проверена на модели DummyClassifier.\n"
   ]
  }
 ],
 "metadata": {
  "ExecuteTimeLog": [
   {
    "duration": 1243,
    "start_time": "2023-04-05T07:09:34.207Z"
   },
   {
    "duration": 134,
    "start_time": "2023-04-05T07:09:36.361Z"
   },
   {
    "duration": 16,
    "start_time": "2023-04-05T07:09:53.626Z"
   },
   {
    "duration": 11,
    "start_time": "2023-04-05T07:11:34.971Z"
   },
   {
    "duration": 587,
    "start_time": "2023-04-05T08:35:20.648Z"
   },
   {
    "duration": 4,
    "start_time": "2023-04-05T08:39:40.156Z"
   },
   {
    "duration": 12,
    "start_time": "2023-04-05T08:39:47.174Z"
   },
   {
    "duration": 3,
    "start_time": "2023-04-05T08:40:06.159Z"
   },
   {
    "duration": 96,
    "start_time": "2023-04-05T08:54:53.387Z"
   },
   {
    "duration": 5,
    "start_time": "2023-04-05T08:55:02.313Z"
   },
   {
    "duration": 7,
    "start_time": "2023-04-05T08:55:02.987Z"
   },
   {
    "duration": 1264,
    "start_time": "2023-04-05T17:26:40.712Z"
   },
   {
    "duration": 127,
    "start_time": "2023-04-05T17:26:41.979Z"
   },
   {
    "duration": 23,
    "start_time": "2023-04-05T17:26:42.108Z"
   },
   {
    "duration": 12,
    "start_time": "2023-04-05T17:26:42.137Z"
   },
   {
    "duration": 13,
    "start_time": "2023-04-05T17:26:42.151Z"
   },
   {
    "duration": 23,
    "start_time": "2023-04-05T17:26:42.166Z"
   },
   {
    "duration": 24,
    "start_time": "2023-04-05T17:26:42.191Z"
   },
   {
    "duration": 242,
    "start_time": "2023-04-05T17:26:52.531Z"
   },
   {
    "duration": 130,
    "start_time": "2023-04-05T17:27:11.744Z"
   },
   {
    "duration": 73,
    "start_time": "2023-04-05T17:28:25.302Z"
   },
   {
    "duration": 65,
    "start_time": "2023-04-05T17:28:33.210Z"
   },
   {
    "duration": 168,
    "start_time": "2023-04-05T17:28:50.580Z"
   },
   {
    "duration": 163,
    "start_time": "2023-04-05T17:28:56.073Z"
   },
   {
    "duration": 163,
    "start_time": "2023-04-05T17:29:05.262Z"
   },
   {
    "duration": 39801,
    "start_time": "2023-04-05T17:41:27.197Z"
   },
   {
    "duration": 1188,
    "start_time": "2023-04-05T18:01:29.704Z"
   },
   {
    "duration": 41,
    "start_time": "2023-04-05T18:01:30.894Z"
   },
   {
    "duration": 40,
    "start_time": "2023-04-05T18:01:30.937Z"
   },
   {
    "duration": 67,
    "start_time": "2023-04-05T18:01:30.980Z"
   },
   {
    "duration": 43,
    "start_time": "2023-04-05T18:01:31.049Z"
   },
   {
    "duration": 56,
    "start_time": "2023-04-05T18:01:31.094Z"
   },
   {
    "duration": 43,
    "start_time": "2023-04-05T18:01:31.151Z"
   },
   {
    "duration": 292,
    "start_time": "2023-04-05T18:01:31.196Z"
   },
   {
    "duration": 141530,
    "start_time": "2023-04-05T18:01:47.012Z"
   },
   {
    "duration": 101,
    "start_time": "2023-04-05T18:04:08.544Z"
   },
   {
    "duration": 93,
    "start_time": "2023-04-05T18:04:37.883Z"
   },
   {
    "duration": 124,
    "start_time": "2023-04-05T18:04:51.578Z"
   },
   {
    "duration": 234,
    "start_time": "2023-04-05T18:05:02.738Z"
   },
   {
    "duration": 144,
    "start_time": "2023-04-05T18:06:22.842Z"
   },
   {
    "duration": 15432,
    "start_time": "2023-04-05T18:06:57.148Z"
   },
   {
    "duration": 30656,
    "start_time": "2023-04-05T18:09:03.431Z"
   },
   {
    "duration": 15318,
    "start_time": "2023-04-05T18:09:34.089Z"
   },
   {
    "duration": 15081,
    "start_time": "2023-04-05T18:10:16.253Z"
   },
   {
    "duration": 15517,
    "start_time": "2023-04-05T18:10:57.958Z"
   },
   {
    "duration": 16158,
    "start_time": "2023-04-05T18:12:07.305Z"
   },
   {
    "duration": 15238,
    "start_time": "2023-04-05T18:12:24.052Z"
   },
   {
    "duration": 15787,
    "start_time": "2023-04-05T18:14:14.664Z"
   },
   {
    "duration": 28565,
    "start_time": "2023-04-05T18:14:54.895Z"
   },
   {
    "duration": 11033,
    "start_time": "2023-04-05T18:15:52.250Z"
   },
   {
    "duration": 29650,
    "start_time": "2023-04-05T18:25:54.403Z"
   },
   {
    "duration": 28365,
    "start_time": "2023-04-05T18:26:40.610Z"
   },
   {
    "duration": 86214,
    "start_time": "2023-04-05T18:28:15.956Z"
   },
   {
    "duration": 164355,
    "start_time": "2023-04-05T18:33:13.692Z"
   },
   {
    "duration": 32146,
    "start_time": "2023-04-05T18:36:16.784Z"
   },
   {
    "duration": 24,
    "start_time": "2023-04-05T18:39:39.785Z"
   },
   {
    "duration": 155,
    "start_time": "2023-04-05T18:47:13.947Z"
   },
   {
    "duration": 6,
    "start_time": "2023-04-05T18:53:33.579Z"
   },
   {
    "duration": 1226,
    "start_time": "2023-04-05T18:56:59.259Z"
   },
   {
    "duration": 34,
    "start_time": "2023-04-05T18:57:00.488Z"
   },
   {
    "duration": 52,
    "start_time": "2023-04-05T18:57:00.524Z"
   },
   {
    "duration": 69,
    "start_time": "2023-04-05T18:57:00.579Z"
   },
   {
    "duration": 26,
    "start_time": "2023-04-05T18:57:00.650Z"
   },
   {
    "duration": 39,
    "start_time": "2023-04-05T18:57:00.678Z"
   },
   {
    "duration": 77,
    "start_time": "2023-04-05T18:57:00.719Z"
   },
   {
    "duration": 240,
    "start_time": "2023-04-05T18:57:00.798Z"
   },
   {
    "duration": 28759,
    "start_time": "2023-04-05T18:57:01.040Z"
   },
   {
    "duration": 29087,
    "start_time": "2023-04-05T18:57:29.802Z"
   },
   {
    "duration": 142786,
    "start_time": "2023-04-05T18:57:58.891Z"
   },
   {
    "duration": 63,
    "start_time": "2023-04-05T19:00:21.679Z"
   },
   {
    "duration": 168,
    "start_time": "2023-04-05T19:00:21.750Z"
   },
   {
    "duration": 9,
    "start_time": "2023-04-05T19:00:21.920Z"
   },
   {
    "duration": 1205,
    "start_time": "2023-04-05T19:02:25.490Z"
   },
   {
    "duration": 50,
    "start_time": "2023-04-05T19:02:26.697Z"
   },
   {
    "duration": 17,
    "start_time": "2023-04-05T19:02:26.749Z"
   },
   {
    "duration": 25,
    "start_time": "2023-04-05T19:02:26.768Z"
   },
   {
    "duration": 14,
    "start_time": "2023-04-05T19:02:26.795Z"
   },
   {
    "duration": 42,
    "start_time": "2023-04-05T19:02:26.810Z"
   },
   {
    "duration": 14,
    "start_time": "2023-04-05T19:02:26.854Z"
   },
   {
    "duration": 203,
    "start_time": "2023-04-05T19:02:26.870Z"
   },
   {
    "duration": 28964,
    "start_time": "2023-04-05T19:02:27.075Z"
   },
   {
    "duration": 28048,
    "start_time": "2023-04-05T19:02:56.042Z"
   },
   {
    "duration": 139233,
    "start_time": "2023-04-05T19:03:24.091Z"
   },
   {
    "duration": 33,
    "start_time": "2023-04-05T19:05:43.326Z"
   },
   {
    "duration": 157,
    "start_time": "2023-04-05T19:05:43.360Z"
   },
   {
    "duration": 24,
    "start_time": "2023-04-05T19:05:43.522Z"
   },
   {
    "duration": 169157,
    "start_time": "2023-04-05T19:08:16.787Z"
   },
   {
    "duration": 27,
    "start_time": "2023-04-05T19:11:40.046Z"
   },
   {
    "duration": 162,
    "start_time": "2023-04-05T19:12:02.894Z"
   },
   {
    "duration": 25,
    "start_time": "2023-04-05T19:12:14.369Z"
   },
   {
    "duration": 1229,
    "start_time": "2023-04-05T19:27:41.859Z"
   },
   {
    "duration": 36,
    "start_time": "2023-04-05T19:27:43.090Z"
   },
   {
    "duration": 29,
    "start_time": "2023-04-05T19:27:43.133Z"
   },
   {
    "duration": 34,
    "start_time": "2023-04-05T19:27:43.165Z"
   },
   {
    "duration": 50,
    "start_time": "2023-04-05T19:27:43.201Z"
   },
   {
    "duration": 29,
    "start_time": "2023-04-05T19:27:43.253Z"
   },
   {
    "duration": 24,
    "start_time": "2023-04-05T19:27:43.284Z"
   },
   {
    "duration": 222,
    "start_time": "2023-04-05T19:27:43.310Z"
   },
   {
    "duration": 27186,
    "start_time": "2023-04-05T19:27:43.536Z"
   },
   {
    "duration": 26769,
    "start_time": "2023-04-05T19:28:10.728Z"
   },
   {
    "duration": 1142,
    "start_time": "2023-04-05T19:28:39.134Z"
   },
   {
    "duration": 30,
    "start_time": "2023-04-05T19:28:40.278Z"
   },
   {
    "duration": 23,
    "start_time": "2023-04-05T19:28:40.309Z"
   },
   {
    "duration": 22,
    "start_time": "2023-04-05T19:28:40.334Z"
   },
   {
    "duration": 21,
    "start_time": "2023-04-05T19:28:40.360Z"
   },
   {
    "duration": 22,
    "start_time": "2023-04-05T19:28:40.382Z"
   },
   {
    "duration": 36,
    "start_time": "2023-04-05T19:28:40.405Z"
   },
   {
    "duration": 187,
    "start_time": "2023-04-05T19:28:40.443Z"
   },
   {
    "duration": 27677,
    "start_time": "2023-04-05T19:28:40.633Z"
   },
   {
    "duration": 26593,
    "start_time": "2023-04-05T19:29:08.317Z"
   },
   {
    "duration": 165456,
    "start_time": "2023-04-05T19:29:34.912Z"
   },
   {
    "duration": 37,
    "start_time": "2023-04-05T19:32:20.370Z"
   },
   {
    "duration": 134,
    "start_time": "2023-04-05T19:32:20.430Z"
   },
   {
    "duration": 5,
    "start_time": "2023-04-05T19:32:20.568Z"
   },
   {
    "duration": 1122,
    "start_time": "2023-04-05T19:33:53.460Z"
   },
   {
    "duration": 30,
    "start_time": "2023-04-05T19:33:54.584Z"
   },
   {
    "duration": 24,
    "start_time": "2023-04-05T19:33:54.615Z"
   },
   {
    "duration": 40,
    "start_time": "2023-04-05T19:33:54.640Z"
   },
   {
    "duration": 11,
    "start_time": "2023-04-05T19:33:54.682Z"
   },
   {
    "duration": 15,
    "start_time": "2023-04-05T19:33:54.694Z"
   },
   {
    "duration": 29,
    "start_time": "2023-04-05T19:33:54.710Z"
   },
   {
    "duration": 165,
    "start_time": "2023-04-05T19:33:54.741Z"
   },
   {
    "duration": 27049,
    "start_time": "2023-04-05T19:33:54.908Z"
   },
   {
    "duration": 27713,
    "start_time": "2023-04-05T19:34:21.959Z"
   },
   {
    "duration": 4,
    "start_time": "2023-04-05T19:34:49.674Z"
   },
   {
    "duration": 50,
    "start_time": "2023-04-05T19:34:49.680Z"
   },
   {
    "duration": 147,
    "start_time": "2023-04-05T19:34:49.735Z"
   },
   {
    "duration": 8,
    "start_time": "2023-04-05T19:34:49.886Z"
   },
   {
    "duration": 103,
    "start_time": "2023-04-06T19:11:38.763Z"
   },
   {
    "duration": 209,
    "start_time": "2023-04-06T19:12:42.758Z"
   },
   {
    "duration": 195,
    "start_time": "2023-04-06T19:12:57.999Z"
   },
   {
    "duration": 373,
    "start_time": "2023-04-06T19:13:08.118Z"
   },
   {
    "duration": 194,
    "start_time": "2023-04-06T19:15:57.697Z"
   },
   {
    "duration": 42,
    "start_time": "2023-04-06T19:30:54.594Z"
   },
   {
    "duration": 1152,
    "start_time": "2023-04-06T19:31:09.699Z"
   },
   {
    "duration": 89,
    "start_time": "2023-04-06T19:31:10.853Z"
   },
   {
    "duration": 14,
    "start_time": "2023-04-06T19:31:10.944Z"
   },
   {
    "duration": 17,
    "start_time": "2023-04-06T19:31:10.960Z"
   },
   {
    "duration": 16,
    "start_time": "2023-04-06T19:31:10.980Z"
   },
   {
    "duration": 6,
    "start_time": "2023-04-06T19:31:10.998Z"
   },
   {
    "duration": 108,
    "start_time": "2023-04-06T19:31:11.005Z"
   },
   {
    "duration": 0,
    "start_time": "2023-04-06T19:31:11.115Z"
   },
   {
    "duration": 0,
    "start_time": "2023-04-06T19:31:11.116Z"
   },
   {
    "duration": 0,
    "start_time": "2023-04-06T19:31:11.117Z"
   },
   {
    "duration": 0,
    "start_time": "2023-04-06T19:31:11.118Z"
   },
   {
    "duration": 0,
    "start_time": "2023-04-06T19:31:11.119Z"
   },
   {
    "duration": 0,
    "start_time": "2023-04-06T19:31:11.120Z"
   },
   {
    "duration": 0,
    "start_time": "2023-04-06T19:31:11.121Z"
   },
   {
    "duration": 7,
    "start_time": "2023-04-06T19:32:34.649Z"
   },
   {
    "duration": 1284,
    "start_time": "2023-04-06T19:32:51.827Z"
   },
   {
    "duration": 25,
    "start_time": "2023-04-06T19:32:53.113Z"
   },
   {
    "duration": 16,
    "start_time": "2023-04-06T19:32:53.140Z"
   },
   {
    "duration": 30,
    "start_time": "2023-04-06T19:32:53.158Z"
   },
   {
    "duration": 4,
    "start_time": "2023-04-06T19:32:53.191Z"
   },
   {
    "duration": 7,
    "start_time": "2023-04-06T19:32:53.196Z"
   },
   {
    "duration": 10,
    "start_time": "2023-04-06T19:32:53.205Z"
   },
   {
    "duration": 194,
    "start_time": "2023-04-06T19:32:53.217Z"
   },
   {
    "duration": 22950,
    "start_time": "2023-04-06T19:32:53.412Z"
   },
   {
    "duration": 23354,
    "start_time": "2023-04-06T19:33:16.364Z"
   },
   {
    "duration": 2,
    "start_time": "2023-04-06T19:33:39.720Z"
   },
   {
    "duration": 74,
    "start_time": "2023-04-06T19:33:39.724Z"
   },
   {
    "duration": 137,
    "start_time": "2023-04-06T19:33:39.807Z"
   },
   {
    "duration": 5,
    "start_time": "2023-04-06T19:33:39.946Z"
   },
   {
    "duration": 23647,
    "start_time": "2023-04-06T19:49:32.994Z"
   },
   {
    "duration": 113,
    "start_time": "2023-04-06T20:18:56.258Z"
   },
   {
    "duration": 110,
    "start_time": "2023-04-06T20:19:03.522Z"
   },
   {
    "duration": 1507,
    "start_time": "2023-04-06T20:19:59.850Z"
   },
   {
    "duration": 32,
    "start_time": "2023-04-06T20:20:01.358Z"
   },
   {
    "duration": 15,
    "start_time": "2023-04-06T20:20:01.392Z"
   },
   {
    "duration": 51,
    "start_time": "2023-04-06T20:20:01.409Z"
   },
   {
    "duration": 38,
    "start_time": "2023-04-06T20:20:01.463Z"
   },
   {
    "duration": 82,
    "start_time": "2023-04-06T20:20:01.503Z"
   },
   {
    "duration": 35,
    "start_time": "2023-04-06T20:20:01.587Z"
   },
   {
    "duration": 208,
    "start_time": "2023-04-06T20:20:01.624Z"
   },
   {
    "duration": 24559,
    "start_time": "2023-04-06T20:20:01.833Z"
   },
   {
    "duration": 23714,
    "start_time": "2023-04-06T20:20:26.393Z"
   },
   {
    "duration": 3,
    "start_time": "2023-04-06T20:20:50.110Z"
   },
   {
    "duration": 82,
    "start_time": "2023-04-06T20:20:50.116Z"
   },
   {
    "duration": 139,
    "start_time": "2023-04-06T20:20:50.200Z"
   },
   {
    "duration": 5,
    "start_time": "2023-04-06T20:20:50.341Z"
   },
   {
    "duration": 1180,
    "start_time": "2023-04-06T20:21:58.310Z"
   },
   {
    "duration": 26,
    "start_time": "2023-04-06T20:21:59.492Z"
   },
   {
    "duration": 16,
    "start_time": "2023-04-06T20:21:59.520Z"
   },
   {
    "duration": 10,
    "start_time": "2023-04-06T20:21:59.538Z"
   },
   {
    "duration": 3,
    "start_time": "2023-04-06T20:21:59.550Z"
   },
   {
    "duration": 18,
    "start_time": "2023-04-06T20:21:59.554Z"
   },
   {
    "duration": 11,
    "start_time": "2023-04-06T20:21:59.576Z"
   },
   {
    "duration": 202,
    "start_time": "2023-04-06T20:21:59.588Z"
   },
   {
    "duration": 24896,
    "start_time": "2023-04-06T20:21:59.797Z"
   },
   {
    "duration": 23612,
    "start_time": "2023-04-06T20:22:24.696Z"
   },
   {
    "duration": 3,
    "start_time": "2023-04-06T20:22:48.310Z"
   },
   {
    "duration": 38,
    "start_time": "2023-04-06T20:22:48.315Z"
   },
   {
    "duration": 149,
    "start_time": "2023-04-06T20:22:48.355Z"
   },
   {
    "duration": 5,
    "start_time": "2023-04-06T20:22:48.506Z"
   }
  ],
  "kernelspec": {
   "display_name": "Python 3 (ipykernel)",
   "language": "python",
   "name": "python3"
  },
  "language_info": {
   "codemirror_mode": {
    "name": "ipython",
    "version": 3
   },
   "file_extension": ".py",
   "mimetype": "text/x-python",
   "name": "python",
   "nbconvert_exporter": "python",
   "pygments_lexer": "ipython3",
   "version": "3.9.13"
  },
  "toc": {
   "base_numbering": 1,
   "nav_menu": {},
   "number_sections": true,
   "sideBar": true,
   "skip_h1_title": true,
   "title_cell": "Table of Contents",
   "title_sidebar": "Contents",
   "toc_cell": false,
   "toc_position": {},
   "toc_section_display": true,
   "toc_window_display": true
  }
 },
 "nbformat": 4,
 "nbformat_minor": 2
}
