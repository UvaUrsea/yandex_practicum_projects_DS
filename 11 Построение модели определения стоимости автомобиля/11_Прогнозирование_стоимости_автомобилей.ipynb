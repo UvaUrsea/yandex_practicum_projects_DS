{
 "cells": [
  {
   "cell_type": "markdown",
   "metadata": {},
   "source": [
    "# Определение стоимости автомобилей"
   ]
  },
  {
   "cell_type": "markdown",
   "metadata": {},
   "source": [
    "Сервис по продаже автомобилей с пробегом «Не бит, не крашен» разрабатывает приложение для привлечения новых клиентов. В нём можно быстро узнать рыночную стоимость своего автомобиля. В нашем распоряжении исторические данные: технические характеристики, комплектации и цены автомобилей. Нужно построить модель для определения стоимости. \n",
    "\n",
    "Заказчику важны:\n",
    "\n",
    "- качество предсказания;\n",
    "- скорость предсказания;\n",
    "- время обучения.\n",
    "\n",
    "В представленных нам данных содержаться следующие признаки:\n",
    "\n",
    "DateCrawled — дата скачивания анкеты из базы  \n",
    "VehicleType — тип автомобильного кузова  \n",
    "RegistrationYear — год регистрации автомобиля  \n",
    "Gearbox — тип коробки передач  \n",
    "Power — мощность (л. с.)  \n",
    "Model — модель автомобиля  \n",
    "Kilometer— пробег (км)  \n",
    "RegistrationMonth — месяц регистрации автомобиля  \n",
    "FuelType — тип топлива  \n",
    "Brand — марка автомобиля  \n",
    "Repaired — была машина в ремонте или нет  \n",
    "DateCreated — дата создания анкеты  \n",
    "NumberOfPictures — количество фотографий автомобиля  \n",
    "PostalCode — почтовый индекс владельца анкеты (пользователя)  \n",
    "LastSeen — дата последней активности пользователя  \n",
    "Целевой признак:  \n",
    "\n",
    "Price — цена (евро)  \n",
    "\n",
    "Для решения задачи мы будем придерживатья следующих шагов:  \n",
    "\n",
    "Изучим и подготовим для машинного обучения данные  \n",
    " \n",
    "Создадим несколько видов ML-моделей, основанных на разных алгоритмах  \n",
    "\n",
    "Выберем лучший алгоритм по ряду параметров и посчитаем на нём контрольную метрику на тестовых данных  \n",
    "\n",
    "Подведём итог проделанной работе  "
   ]
  },
  {
   "cell_type": "markdown",
   "metadata": {},
   "source": [
    "## Подготовка данных"
   ]
  },
  {
   "cell_type": "markdown",
   "metadata": {},
   "source": [
    "Импортируем библиотеки:"
   ]
  },
  {
   "cell_type": "code",
   "execution_count": 10,
   "metadata": {},
   "outputs": [
    {
     "name": "stdout",
     "output_type": "stream",
     "text": [
      "Defaulting to user installation because normal site-packages is not writeable\n",
      "Requirement already satisfied: pip in c:\\programdata\\anaconda3\\lib\\site-packages (22.2.2)\n",
      "Collecting pip\n",
      "  Using cached pip-24.0-py3-none-any.whl (2.1 MB)\n"
     ]
    },
    {
     "name": "stderr",
     "output_type": "stream",
     "text": [
      "ERROR: To modify pip, please run the following command:\n",
      "C:\\ProgramData\\Anaconda3\\python.exe -m pip install --upgrade pip\n"
     ]
    },
    {
     "name": "stdout",
     "output_type": "stream",
     "text": [
      "Defaulting to user installation because normal site-packages is not writeable\n",
      "Requirement already satisfied: catboost in c:\\users\\алиса\\appdata\\roaming\\python\\python39\\site-packages (1.2.5)\n",
      "Requirement already satisfied: six in c:\\programdata\\anaconda3\\lib\\site-packages (from catboost) (1.16.0)\n",
      "Requirement already satisfied: plotly in c:\\programdata\\anaconda3\\lib\\site-packages (from catboost) (5.9.0)\n",
      "Requirement already satisfied: matplotlib in c:\\programdata\\anaconda3\\lib\\site-packages (from catboost) (3.5.2)\n",
      "Requirement already satisfied: numpy>=1.16.0 in c:\\programdata\\anaconda3\\lib\\site-packages (from catboost) (1.21.5)\n",
      "Requirement already satisfied: graphviz in c:\\users\\алиса\\appdata\\roaming\\python\\python39\\site-packages (from catboost) (0.20.3)\n",
      "Requirement already satisfied: pandas>=0.24 in c:\\programdata\\anaconda3\\lib\\site-packages (from catboost) (1.4.4)\n",
      "Requirement already satisfied: scipy in c:\\programdata\\anaconda3\\lib\\site-packages (from catboost) (1.9.1)\n",
      "Requirement already satisfied: pytz>=2020.1 in c:\\programdata\\anaconda3\\lib\\site-packages (from pandas>=0.24->catboost) (2022.1)\n",
      "Requirement already satisfied: python-dateutil>=2.8.1 in c:\\programdata\\anaconda3\\lib\\site-packages (from pandas>=0.24->catboost) (2.8.2)\n",
      "Requirement already satisfied: packaging>=20.0 in c:\\programdata\\anaconda3\\lib\\site-packages (from matplotlib->catboost) (21.3)\n",
      "Requirement already satisfied: kiwisolver>=1.0.1 in c:\\programdata\\anaconda3\\lib\\site-packages (from matplotlib->catboost) (1.4.2)\n",
      "Requirement already satisfied: fonttools>=4.22.0 in c:\\programdata\\anaconda3\\lib\\site-packages (from matplotlib->catboost) (4.25.0)\n",
      "Requirement already satisfied: cycler>=0.10 in c:\\programdata\\anaconda3\\lib\\site-packages (from matplotlib->catboost) (0.11.0)\n",
      "Requirement already satisfied: pillow>=6.2.0 in c:\\programdata\\anaconda3\\lib\\site-packages (from matplotlib->catboost) (9.2.0)\n",
      "Requirement already satisfied: pyparsing>=2.2.1 in c:\\programdata\\anaconda3\\lib\\site-packages (from matplotlib->catboost) (3.0.9)\n",
      "Requirement already satisfied: tenacity>=6.2.0 in c:\\programdata\\anaconda3\\lib\\site-packages (from plotly->catboost) (8.0.1)\n",
      "Defaulting to user installation because normal site-packages is not writeable\n",
      "Requirement already satisfied: category_encoders in c:\\users\\алиса\\appdata\\roaming\\python\\python39\\site-packages (2.6.3)\n",
      "Requirement already satisfied: pandas>=1.0.5 in c:\\programdata\\anaconda3\\lib\\site-packages (from category_encoders) (1.4.4)\n",
      "Requirement already satisfied: scikit-learn>=0.20.0 in c:\\programdata\\anaconda3\\lib\\site-packages (from category_encoders) (1.0.2)\n",
      "Requirement already satisfied: scipy>=1.0.0 in c:\\programdata\\anaconda3\\lib\\site-packages (from category_encoders) (1.9.1)\n",
      "Requirement already satisfied: statsmodels>=0.9.0 in c:\\programdata\\anaconda3\\lib\\site-packages (from category_encoders) (0.13.2)\n",
      "Requirement already satisfied: numpy>=1.14.0 in c:\\programdata\\anaconda3\\lib\\site-packages (from category_encoders) (1.21.5)\n",
      "Requirement already satisfied: patsy>=0.5.1 in c:\\programdata\\anaconda3\\lib\\site-packages (from category_encoders) (0.5.2)\n",
      "Requirement already satisfied: python-dateutil>=2.8.1 in c:\\programdata\\anaconda3\\lib\\site-packages (from pandas>=1.0.5->category_encoders) (2.8.2)\n",
      "Requirement already satisfied: pytz>=2020.1 in c:\\programdata\\anaconda3\\lib\\site-packages (from pandas>=1.0.5->category_encoders) (2022.1)\n",
      "Requirement already satisfied: six in c:\\programdata\\anaconda3\\lib\\site-packages (from patsy>=0.5.1->category_encoders) (1.16.0)\n",
      "Requirement already satisfied: joblib>=0.11 in c:\\programdata\\anaconda3\\lib\\site-packages (from scikit-learn>=0.20.0->category_encoders) (1.1.0)\n",
      "Requirement already satisfied: threadpoolctl>=2.0.0 in c:\\programdata\\anaconda3\\lib\\site-packages (from scikit-learn>=0.20.0->category_encoders) (2.2.0)\n",
      "Requirement already satisfied: packaging>=21.3 in c:\\programdata\\anaconda3\\lib\\site-packages (from statsmodels>=0.9.0->category_encoders) (21.3)\n",
      "Requirement already satisfied: pyparsing!=3.0.5,>=2.0.2 in c:\\programdata\\anaconda3\\lib\\site-packages (from packaging>=21.3->statsmodels>=0.9.0->category_encoders) (3.0.9)\n"
     ]
    }
   ],
   "source": [
    "#импортируем нужные библиотеки\n",
    "import numpy as np\n",
    "import pandas as pd\n",
    "import matplotlib.pyplot as plt\n",
    "import seaborn as sns\n",
    "import warnings\n",
    "warnings.filterwarnings('ignore')\n",
    "\n",
    "!pip install --upgrade pip\n",
    "\n",
    "!pip install catboost\n",
    "\n",
    "!pip install category_encoders\n",
    "\n",
    "from lightgbm import LGBMRegressor\n",
    "from catboost import CatBoostRegressor\n",
    "from sklearn.compose import ColumnTransformer\n",
    "from sklearn.ensemble import BaggingRegressor\n",
    "from sklearn.linear_model import (\n",
    "                Ridge, \n",
    "                LinearRegression\n",
    ")\n",
    "from sklearn.dummy import DummyRegressor\n",
    "from sklearn.pipeline import (\n",
    "                Pipeline, \n",
    "                make_pipeline\n",
    ")\n",
    "\n",
    "from category_encoders import TargetEncoder\n",
    "from sklearn.preprocessing import StandardScaler\n",
    "from sklearn.model_selection import ( \n",
    "                train_test_split,\n",
    "                GridSearchCV,\n",
    "                cross_val_score\n",
    ")\n",
    "from sklearn.metrics import (\n",
    "    mean_squared_error, \n",
    "    make_scorer\n",
    ")\n",
    "\n",
    "\n",
    "RANDOM_STATE = 666"
   ]
  },
  {
   "cell_type": "markdown",
   "metadata": {},
   "source": [
    "Загрузим датафрейм:"
   ]
  },
  {
   "cell_type": "code",
   "execution_count": 11,
   "metadata": {},
   "outputs": [],
   "source": [
    "df = pd.read_csv('autos.csv')"
   ]
  },
  {
   "cell_type": "markdown",
   "metadata": {},
   "source": [
    "Создадим функцию функцию, которая будет на вход принимает датафрейм, а на выходе выводит необходимые характеристики"
   ]
  },
  {
   "cell_type": "code",
   "execution_count": 12,
   "metadata": {},
   "outputs": [],
   "source": [
    "def df_info(dataframe):\n",
    "    print('Общая информация по датафрейму:')\n",
    "    display(dataframe.info())\n",
    "    print('\\nПервые 10 строк:')\n",
    "    display(dataframe.head(10))\n",
    "    print('\\nПоследние 10 строк:')\n",
    "    display(dataframe.tail(10))\n",
    "    print('\\nПропуски:')\n",
    "    display(dataframe.isnull().sum().sort_values(ascending=False))\n",
    "    print('\\nОписание датафрейма:')\n",
    "    display(dataframe.describe())\n",
    "    print('\\nКоличество дубликатов:')\n",
    "    display(dataframe.duplicated().sum())  \n",
    "    num_columns, cat_columns = [], []\n",
    "    for num, i in enumerate(dataframe.columns):\n",
    "        if pd.api.types.is_numeric_dtype(dataframe[i]):\n",
    "            print(\n",
    "                f'{num+1}. {i} - тип данных int64, уникальных значений: {len(dataframe[i].unique())}')\n",
    "            num_columns.append(i)\n",
    "        elif pd.api.types.is_object_dtype(dataframe[i]):\n",
    "            print(\n",
    "                f'{num+1}. {i} - тип данных object, уникальных значений: {len(dataframe[i].unique())}')\n",
    "            cat_columns.append(i)\n",
    "    print(\n",
    "        f'\\nИтого:\\nпризнаки с типом данных int64: {len(num_columns)}\\nпризнаки с типом данных object: {len(cat_columns)}')"
   ]
  },
  {
   "cell_type": "code",
   "execution_count": 13,
   "metadata": {},
   "outputs": [
    {
     "name": "stdout",
     "output_type": "stream",
     "text": [
      "Общая информация по датафрейму:\n",
      "<class 'pandas.core.frame.DataFrame'>\n",
      "RangeIndex: 354369 entries, 0 to 354368\n",
      "Data columns (total 16 columns):\n",
      " #   Column             Non-Null Count   Dtype \n",
      "---  ------             --------------   ----- \n",
      " 0   DateCrawled        354369 non-null  object\n",
      " 1   Price              354369 non-null  int64 \n",
      " 2   VehicleType        316879 non-null  object\n",
      " 3   RegistrationYear   354369 non-null  int64 \n",
      " 4   Gearbox            334536 non-null  object\n",
      " 5   Power              354369 non-null  int64 \n",
      " 6   Model              334664 non-null  object\n",
      " 7   Kilometer          354369 non-null  int64 \n",
      " 8   RegistrationMonth  354369 non-null  int64 \n",
      " 9   FuelType           321474 non-null  object\n",
      " 10  Brand              354369 non-null  object\n",
      " 11  Repaired           283215 non-null  object\n",
      " 12  DateCreated        354369 non-null  object\n",
      " 13  NumberOfPictures   354369 non-null  int64 \n",
      " 14  PostalCode         354369 non-null  int64 \n",
      " 15  LastSeen           354369 non-null  object\n",
      "dtypes: int64(7), object(9)\n",
      "memory usage: 43.3+ MB\n"
     ]
    },
    {
     "data": {
      "text/plain": [
       "None"
      ]
     },
     "metadata": {},
     "output_type": "display_data"
    },
    {
     "name": "stdout",
     "output_type": "stream",
     "text": [
      "\n",
      "Первые 10 строк:\n"
     ]
    },
    {
     "data": {
      "text/html": [
       "<div>\n",
       "<style scoped>\n",
       "    .dataframe tbody tr th:only-of-type {\n",
       "        vertical-align: middle;\n",
       "    }\n",
       "\n",
       "    .dataframe tbody tr th {\n",
       "        vertical-align: top;\n",
       "    }\n",
       "\n",
       "    .dataframe thead th {\n",
       "        text-align: right;\n",
       "    }\n",
       "</style>\n",
       "<table border=\"1\" class=\"dataframe\">\n",
       "  <thead>\n",
       "    <tr style=\"text-align: right;\">\n",
       "      <th></th>\n",
       "      <th>DateCrawled</th>\n",
       "      <th>Price</th>\n",
       "      <th>VehicleType</th>\n",
       "      <th>RegistrationYear</th>\n",
       "      <th>Gearbox</th>\n",
       "      <th>Power</th>\n",
       "      <th>Model</th>\n",
       "      <th>Kilometer</th>\n",
       "      <th>RegistrationMonth</th>\n",
       "      <th>FuelType</th>\n",
       "      <th>Brand</th>\n",
       "      <th>Repaired</th>\n",
       "      <th>DateCreated</th>\n",
       "      <th>NumberOfPictures</th>\n",
       "      <th>PostalCode</th>\n",
       "      <th>LastSeen</th>\n",
       "    </tr>\n",
       "  </thead>\n",
       "  <tbody>\n",
       "    <tr>\n",
       "      <th>0</th>\n",
       "      <td>2016-03-24 11:52:17</td>\n",
       "      <td>480</td>\n",
       "      <td>NaN</td>\n",
       "      <td>1993</td>\n",
       "      <td>manual</td>\n",
       "      <td>0</td>\n",
       "      <td>golf</td>\n",
       "      <td>150000</td>\n",
       "      <td>0</td>\n",
       "      <td>petrol</td>\n",
       "      <td>volkswagen</td>\n",
       "      <td>NaN</td>\n",
       "      <td>2016-03-24 00:00:00</td>\n",
       "      <td>0</td>\n",
       "      <td>70435</td>\n",
       "      <td>2016-04-07 03:16:57</td>\n",
       "    </tr>\n",
       "    <tr>\n",
       "      <th>1</th>\n",
       "      <td>2016-03-24 10:58:45</td>\n",
       "      <td>18300</td>\n",
       "      <td>coupe</td>\n",
       "      <td>2011</td>\n",
       "      <td>manual</td>\n",
       "      <td>190</td>\n",
       "      <td>NaN</td>\n",
       "      <td>125000</td>\n",
       "      <td>5</td>\n",
       "      <td>gasoline</td>\n",
       "      <td>audi</td>\n",
       "      <td>yes</td>\n",
       "      <td>2016-03-24 00:00:00</td>\n",
       "      <td>0</td>\n",
       "      <td>66954</td>\n",
       "      <td>2016-04-07 01:46:50</td>\n",
       "    </tr>\n",
       "    <tr>\n",
       "      <th>2</th>\n",
       "      <td>2016-03-14 12:52:21</td>\n",
       "      <td>9800</td>\n",
       "      <td>suv</td>\n",
       "      <td>2004</td>\n",
       "      <td>auto</td>\n",
       "      <td>163</td>\n",
       "      <td>grand</td>\n",
       "      <td>125000</td>\n",
       "      <td>8</td>\n",
       "      <td>gasoline</td>\n",
       "      <td>jeep</td>\n",
       "      <td>NaN</td>\n",
       "      <td>2016-03-14 00:00:00</td>\n",
       "      <td>0</td>\n",
       "      <td>90480</td>\n",
       "      <td>2016-04-05 12:47:46</td>\n",
       "    </tr>\n",
       "    <tr>\n",
       "      <th>3</th>\n",
       "      <td>2016-03-17 16:54:04</td>\n",
       "      <td>1500</td>\n",
       "      <td>small</td>\n",
       "      <td>2001</td>\n",
       "      <td>manual</td>\n",
       "      <td>75</td>\n",
       "      <td>golf</td>\n",
       "      <td>150000</td>\n",
       "      <td>6</td>\n",
       "      <td>petrol</td>\n",
       "      <td>volkswagen</td>\n",
       "      <td>no</td>\n",
       "      <td>2016-03-17 00:00:00</td>\n",
       "      <td>0</td>\n",
       "      <td>91074</td>\n",
       "      <td>2016-03-17 17:40:17</td>\n",
       "    </tr>\n",
       "    <tr>\n",
       "      <th>4</th>\n",
       "      <td>2016-03-31 17:25:20</td>\n",
       "      <td>3600</td>\n",
       "      <td>small</td>\n",
       "      <td>2008</td>\n",
       "      <td>manual</td>\n",
       "      <td>69</td>\n",
       "      <td>fabia</td>\n",
       "      <td>90000</td>\n",
       "      <td>7</td>\n",
       "      <td>gasoline</td>\n",
       "      <td>skoda</td>\n",
       "      <td>no</td>\n",
       "      <td>2016-03-31 00:00:00</td>\n",
       "      <td>0</td>\n",
       "      <td>60437</td>\n",
       "      <td>2016-04-06 10:17:21</td>\n",
       "    </tr>\n",
       "    <tr>\n",
       "      <th>5</th>\n",
       "      <td>2016-04-04 17:36:23</td>\n",
       "      <td>650</td>\n",
       "      <td>sedan</td>\n",
       "      <td>1995</td>\n",
       "      <td>manual</td>\n",
       "      <td>102</td>\n",
       "      <td>3er</td>\n",
       "      <td>150000</td>\n",
       "      <td>10</td>\n",
       "      <td>petrol</td>\n",
       "      <td>bmw</td>\n",
       "      <td>yes</td>\n",
       "      <td>2016-04-04 00:00:00</td>\n",
       "      <td>0</td>\n",
       "      <td>33775</td>\n",
       "      <td>2016-04-06 19:17:07</td>\n",
       "    </tr>\n",
       "    <tr>\n",
       "      <th>6</th>\n",
       "      <td>2016-04-01 20:48:51</td>\n",
       "      <td>2200</td>\n",
       "      <td>convertible</td>\n",
       "      <td>2004</td>\n",
       "      <td>manual</td>\n",
       "      <td>109</td>\n",
       "      <td>2_reihe</td>\n",
       "      <td>150000</td>\n",
       "      <td>8</td>\n",
       "      <td>petrol</td>\n",
       "      <td>peugeot</td>\n",
       "      <td>no</td>\n",
       "      <td>2016-04-01 00:00:00</td>\n",
       "      <td>0</td>\n",
       "      <td>67112</td>\n",
       "      <td>2016-04-05 18:18:39</td>\n",
       "    </tr>\n",
       "    <tr>\n",
       "      <th>7</th>\n",
       "      <td>2016-03-21 18:54:38</td>\n",
       "      <td>0</td>\n",
       "      <td>sedan</td>\n",
       "      <td>1980</td>\n",
       "      <td>manual</td>\n",
       "      <td>50</td>\n",
       "      <td>other</td>\n",
       "      <td>40000</td>\n",
       "      <td>7</td>\n",
       "      <td>petrol</td>\n",
       "      <td>volkswagen</td>\n",
       "      <td>no</td>\n",
       "      <td>2016-03-21 00:00:00</td>\n",
       "      <td>0</td>\n",
       "      <td>19348</td>\n",
       "      <td>2016-03-25 16:47:58</td>\n",
       "    </tr>\n",
       "    <tr>\n",
       "      <th>8</th>\n",
       "      <td>2016-04-04 23:42:13</td>\n",
       "      <td>14500</td>\n",
       "      <td>bus</td>\n",
       "      <td>2014</td>\n",
       "      <td>manual</td>\n",
       "      <td>125</td>\n",
       "      <td>c_max</td>\n",
       "      <td>30000</td>\n",
       "      <td>8</td>\n",
       "      <td>petrol</td>\n",
       "      <td>ford</td>\n",
       "      <td>NaN</td>\n",
       "      <td>2016-04-04 00:00:00</td>\n",
       "      <td>0</td>\n",
       "      <td>94505</td>\n",
       "      <td>2016-04-04 23:42:13</td>\n",
       "    </tr>\n",
       "    <tr>\n",
       "      <th>9</th>\n",
       "      <td>2016-03-17 10:53:50</td>\n",
       "      <td>999</td>\n",
       "      <td>small</td>\n",
       "      <td>1998</td>\n",
       "      <td>manual</td>\n",
       "      <td>101</td>\n",
       "      <td>golf</td>\n",
       "      <td>150000</td>\n",
       "      <td>0</td>\n",
       "      <td>NaN</td>\n",
       "      <td>volkswagen</td>\n",
       "      <td>NaN</td>\n",
       "      <td>2016-03-17 00:00:00</td>\n",
       "      <td>0</td>\n",
       "      <td>27472</td>\n",
       "      <td>2016-03-31 17:17:06</td>\n",
       "    </tr>\n",
       "  </tbody>\n",
       "</table>\n",
       "</div>"
      ],
      "text/plain": [
       "           DateCrawled  Price  VehicleType  RegistrationYear Gearbox  Power  \\\n",
       "0  2016-03-24 11:52:17    480          NaN              1993  manual      0   \n",
       "1  2016-03-24 10:58:45  18300        coupe              2011  manual    190   \n",
       "2  2016-03-14 12:52:21   9800          suv              2004    auto    163   \n",
       "3  2016-03-17 16:54:04   1500        small              2001  manual     75   \n",
       "4  2016-03-31 17:25:20   3600        small              2008  manual     69   \n",
       "5  2016-04-04 17:36:23    650        sedan              1995  manual    102   \n",
       "6  2016-04-01 20:48:51   2200  convertible              2004  manual    109   \n",
       "7  2016-03-21 18:54:38      0        sedan              1980  manual     50   \n",
       "8  2016-04-04 23:42:13  14500          bus              2014  manual    125   \n",
       "9  2016-03-17 10:53:50    999        small              1998  manual    101   \n",
       "\n",
       "     Model  Kilometer  RegistrationMonth  FuelType       Brand Repaired  \\\n",
       "0     golf     150000                  0    petrol  volkswagen      NaN   \n",
       "1      NaN     125000                  5  gasoline        audi      yes   \n",
       "2    grand     125000                  8  gasoline        jeep      NaN   \n",
       "3     golf     150000                  6    petrol  volkswagen       no   \n",
       "4    fabia      90000                  7  gasoline       skoda       no   \n",
       "5      3er     150000                 10    petrol         bmw      yes   \n",
       "6  2_reihe     150000                  8    petrol     peugeot       no   \n",
       "7    other      40000                  7    petrol  volkswagen       no   \n",
       "8    c_max      30000                  8    petrol        ford      NaN   \n",
       "9     golf     150000                  0       NaN  volkswagen      NaN   \n",
       "\n",
       "           DateCreated  NumberOfPictures  PostalCode             LastSeen  \n",
       "0  2016-03-24 00:00:00                 0       70435  2016-04-07 03:16:57  \n",
       "1  2016-03-24 00:00:00                 0       66954  2016-04-07 01:46:50  \n",
       "2  2016-03-14 00:00:00                 0       90480  2016-04-05 12:47:46  \n",
       "3  2016-03-17 00:00:00                 0       91074  2016-03-17 17:40:17  \n",
       "4  2016-03-31 00:00:00                 0       60437  2016-04-06 10:17:21  \n",
       "5  2016-04-04 00:00:00                 0       33775  2016-04-06 19:17:07  \n",
       "6  2016-04-01 00:00:00                 0       67112  2016-04-05 18:18:39  \n",
       "7  2016-03-21 00:00:00                 0       19348  2016-03-25 16:47:58  \n",
       "8  2016-04-04 00:00:00                 0       94505  2016-04-04 23:42:13  \n",
       "9  2016-03-17 00:00:00                 0       27472  2016-03-31 17:17:06  "
      ]
     },
     "metadata": {},
     "output_type": "display_data"
    },
    {
     "name": "stdout",
     "output_type": "stream",
     "text": [
      "\n",
      "Последние 10 строк:\n"
     ]
    },
    {
     "data": {
      "text/html": [
       "<div>\n",
       "<style scoped>\n",
       "    .dataframe tbody tr th:only-of-type {\n",
       "        vertical-align: middle;\n",
       "    }\n",
       "\n",
       "    .dataframe tbody tr th {\n",
       "        vertical-align: top;\n",
       "    }\n",
       "\n",
       "    .dataframe thead th {\n",
       "        text-align: right;\n",
       "    }\n",
       "</style>\n",
       "<table border=\"1\" class=\"dataframe\">\n",
       "  <thead>\n",
       "    <tr style=\"text-align: right;\">\n",
       "      <th></th>\n",
       "      <th>DateCrawled</th>\n",
       "      <th>Price</th>\n",
       "      <th>VehicleType</th>\n",
       "      <th>RegistrationYear</th>\n",
       "      <th>Gearbox</th>\n",
       "      <th>Power</th>\n",
       "      <th>Model</th>\n",
       "      <th>Kilometer</th>\n",
       "      <th>RegistrationMonth</th>\n",
       "      <th>FuelType</th>\n",
       "      <th>Brand</th>\n",
       "      <th>Repaired</th>\n",
       "      <th>DateCreated</th>\n",
       "      <th>NumberOfPictures</th>\n",
       "      <th>PostalCode</th>\n",
       "      <th>LastSeen</th>\n",
       "    </tr>\n",
       "  </thead>\n",
       "  <tbody>\n",
       "    <tr>\n",
       "      <th>354359</th>\n",
       "      <td>2016-03-28 13:48:07</td>\n",
       "      <td>7900</td>\n",
       "      <td>sedan</td>\n",
       "      <td>2010</td>\n",
       "      <td>manual</td>\n",
       "      <td>140</td>\n",
       "      <td>golf</td>\n",
       "      <td>150000</td>\n",
       "      <td>7</td>\n",
       "      <td>gasoline</td>\n",
       "      <td>volkswagen</td>\n",
       "      <td>no</td>\n",
       "      <td>2016-03-28 00:00:00</td>\n",
       "      <td>0</td>\n",
       "      <td>75223</td>\n",
       "      <td>2016-04-02 18:16:20</td>\n",
       "    </tr>\n",
       "    <tr>\n",
       "      <th>354360</th>\n",
       "      <td>2016-04-02 20:37:03</td>\n",
       "      <td>3999</td>\n",
       "      <td>wagon</td>\n",
       "      <td>2005</td>\n",
       "      <td>manual</td>\n",
       "      <td>3</td>\n",
       "      <td>3er</td>\n",
       "      <td>150000</td>\n",
       "      <td>5</td>\n",
       "      <td>gasoline</td>\n",
       "      <td>bmw</td>\n",
       "      <td>no</td>\n",
       "      <td>2016-04-02 00:00:00</td>\n",
       "      <td>0</td>\n",
       "      <td>81825</td>\n",
       "      <td>2016-04-06 20:47:12</td>\n",
       "    </tr>\n",
       "    <tr>\n",
       "      <th>354361</th>\n",
       "      <td>2016-03-09 13:37:43</td>\n",
       "      <td>5250</td>\n",
       "      <td>NaN</td>\n",
       "      <td>2016</td>\n",
       "      <td>auto</td>\n",
       "      <td>150</td>\n",
       "      <td>159</td>\n",
       "      <td>150000</td>\n",
       "      <td>12</td>\n",
       "      <td>NaN</td>\n",
       "      <td>alfa_romeo</td>\n",
       "      <td>no</td>\n",
       "      <td>2016-03-09 00:00:00</td>\n",
       "      <td>0</td>\n",
       "      <td>51371</td>\n",
       "      <td>2016-03-13 01:44:13</td>\n",
       "    </tr>\n",
       "    <tr>\n",
       "      <th>354362</th>\n",
       "      <td>2016-03-19 19:53:49</td>\n",
       "      <td>3200</td>\n",
       "      <td>sedan</td>\n",
       "      <td>2004</td>\n",
       "      <td>manual</td>\n",
       "      <td>225</td>\n",
       "      <td>leon</td>\n",
       "      <td>150000</td>\n",
       "      <td>5</td>\n",
       "      <td>petrol</td>\n",
       "      <td>seat</td>\n",
       "      <td>yes</td>\n",
       "      <td>2016-03-19 00:00:00</td>\n",
       "      <td>0</td>\n",
       "      <td>96465</td>\n",
       "      <td>2016-03-19 20:44:43</td>\n",
       "    </tr>\n",
       "    <tr>\n",
       "      <th>354363</th>\n",
       "      <td>2016-03-27 20:36:20</td>\n",
       "      <td>1150</td>\n",
       "      <td>bus</td>\n",
       "      <td>2000</td>\n",
       "      <td>manual</td>\n",
       "      <td>0</td>\n",
       "      <td>zafira</td>\n",
       "      <td>150000</td>\n",
       "      <td>3</td>\n",
       "      <td>petrol</td>\n",
       "      <td>opel</td>\n",
       "      <td>no</td>\n",
       "      <td>2016-03-27 00:00:00</td>\n",
       "      <td>0</td>\n",
       "      <td>26624</td>\n",
       "      <td>2016-03-29 10:17:23</td>\n",
       "    </tr>\n",
       "    <tr>\n",
       "      <th>354364</th>\n",
       "      <td>2016-03-21 09:50:58</td>\n",
       "      <td>0</td>\n",
       "      <td>NaN</td>\n",
       "      <td>2005</td>\n",
       "      <td>manual</td>\n",
       "      <td>0</td>\n",
       "      <td>colt</td>\n",
       "      <td>150000</td>\n",
       "      <td>7</td>\n",
       "      <td>petrol</td>\n",
       "      <td>mitsubishi</td>\n",
       "      <td>yes</td>\n",
       "      <td>2016-03-21 00:00:00</td>\n",
       "      <td>0</td>\n",
       "      <td>2694</td>\n",
       "      <td>2016-03-21 10:42:49</td>\n",
       "    </tr>\n",
       "    <tr>\n",
       "      <th>354365</th>\n",
       "      <td>2016-03-14 17:48:27</td>\n",
       "      <td>2200</td>\n",
       "      <td>NaN</td>\n",
       "      <td>2005</td>\n",
       "      <td>NaN</td>\n",
       "      <td>0</td>\n",
       "      <td>NaN</td>\n",
       "      <td>20000</td>\n",
       "      <td>1</td>\n",
       "      <td>NaN</td>\n",
       "      <td>sonstige_autos</td>\n",
       "      <td>NaN</td>\n",
       "      <td>2016-03-14 00:00:00</td>\n",
       "      <td>0</td>\n",
       "      <td>39576</td>\n",
       "      <td>2016-04-06 00:46:52</td>\n",
       "    </tr>\n",
       "    <tr>\n",
       "      <th>354366</th>\n",
       "      <td>2016-03-05 19:56:21</td>\n",
       "      <td>1199</td>\n",
       "      <td>convertible</td>\n",
       "      <td>2000</td>\n",
       "      <td>auto</td>\n",
       "      <td>101</td>\n",
       "      <td>fortwo</td>\n",
       "      <td>125000</td>\n",
       "      <td>3</td>\n",
       "      <td>petrol</td>\n",
       "      <td>smart</td>\n",
       "      <td>no</td>\n",
       "      <td>2016-03-05 00:00:00</td>\n",
       "      <td>0</td>\n",
       "      <td>26135</td>\n",
       "      <td>2016-03-11 18:17:12</td>\n",
       "    </tr>\n",
       "    <tr>\n",
       "      <th>354367</th>\n",
       "      <td>2016-03-19 18:57:12</td>\n",
       "      <td>9200</td>\n",
       "      <td>bus</td>\n",
       "      <td>1996</td>\n",
       "      <td>manual</td>\n",
       "      <td>102</td>\n",
       "      <td>transporter</td>\n",
       "      <td>150000</td>\n",
       "      <td>3</td>\n",
       "      <td>gasoline</td>\n",
       "      <td>volkswagen</td>\n",
       "      <td>no</td>\n",
       "      <td>2016-03-19 00:00:00</td>\n",
       "      <td>0</td>\n",
       "      <td>87439</td>\n",
       "      <td>2016-04-07 07:15:26</td>\n",
       "    </tr>\n",
       "    <tr>\n",
       "      <th>354368</th>\n",
       "      <td>2016-03-20 19:41:08</td>\n",
       "      <td>3400</td>\n",
       "      <td>wagon</td>\n",
       "      <td>2002</td>\n",
       "      <td>manual</td>\n",
       "      <td>100</td>\n",
       "      <td>golf</td>\n",
       "      <td>150000</td>\n",
       "      <td>6</td>\n",
       "      <td>gasoline</td>\n",
       "      <td>volkswagen</td>\n",
       "      <td>NaN</td>\n",
       "      <td>2016-03-20 00:00:00</td>\n",
       "      <td>0</td>\n",
       "      <td>40764</td>\n",
       "      <td>2016-03-24 12:45:21</td>\n",
       "    </tr>\n",
       "  </tbody>\n",
       "</table>\n",
       "</div>"
      ],
      "text/plain": [
       "                DateCrawled  Price  VehicleType  RegistrationYear Gearbox  \\\n",
       "354359  2016-03-28 13:48:07   7900        sedan              2010  manual   \n",
       "354360  2016-04-02 20:37:03   3999        wagon              2005  manual   \n",
       "354361  2016-03-09 13:37:43   5250          NaN              2016    auto   \n",
       "354362  2016-03-19 19:53:49   3200        sedan              2004  manual   \n",
       "354363  2016-03-27 20:36:20   1150          bus              2000  manual   \n",
       "354364  2016-03-21 09:50:58      0          NaN              2005  manual   \n",
       "354365  2016-03-14 17:48:27   2200          NaN              2005     NaN   \n",
       "354366  2016-03-05 19:56:21   1199  convertible              2000    auto   \n",
       "354367  2016-03-19 18:57:12   9200          bus              1996  manual   \n",
       "354368  2016-03-20 19:41:08   3400        wagon              2002  manual   \n",
       "\n",
       "        Power        Model  Kilometer  RegistrationMonth  FuelType  \\\n",
       "354359    140         golf     150000                  7  gasoline   \n",
       "354360      3          3er     150000                  5  gasoline   \n",
       "354361    150          159     150000                 12       NaN   \n",
       "354362    225         leon     150000                  5    petrol   \n",
       "354363      0       zafira     150000                  3    petrol   \n",
       "354364      0         colt     150000                  7    petrol   \n",
       "354365      0          NaN      20000                  1       NaN   \n",
       "354366    101       fortwo     125000                  3    petrol   \n",
       "354367    102  transporter     150000                  3  gasoline   \n",
       "354368    100         golf     150000                  6  gasoline   \n",
       "\n",
       "                 Brand Repaired          DateCreated  NumberOfPictures  \\\n",
       "354359      volkswagen       no  2016-03-28 00:00:00                 0   \n",
       "354360             bmw       no  2016-04-02 00:00:00                 0   \n",
       "354361      alfa_romeo       no  2016-03-09 00:00:00                 0   \n",
       "354362            seat      yes  2016-03-19 00:00:00                 0   \n",
       "354363            opel       no  2016-03-27 00:00:00                 0   \n",
       "354364      mitsubishi      yes  2016-03-21 00:00:00                 0   \n",
       "354365  sonstige_autos      NaN  2016-03-14 00:00:00                 0   \n",
       "354366           smart       no  2016-03-05 00:00:00                 0   \n",
       "354367      volkswagen       no  2016-03-19 00:00:00                 0   \n",
       "354368      volkswagen      NaN  2016-03-20 00:00:00                 0   \n",
       "\n",
       "        PostalCode             LastSeen  \n",
       "354359       75223  2016-04-02 18:16:20  \n",
       "354360       81825  2016-04-06 20:47:12  \n",
       "354361       51371  2016-03-13 01:44:13  \n",
       "354362       96465  2016-03-19 20:44:43  \n",
       "354363       26624  2016-03-29 10:17:23  \n",
       "354364        2694  2016-03-21 10:42:49  \n",
       "354365       39576  2016-04-06 00:46:52  \n",
       "354366       26135  2016-03-11 18:17:12  \n",
       "354367       87439  2016-04-07 07:15:26  \n",
       "354368       40764  2016-03-24 12:45:21  "
      ]
     },
     "metadata": {},
     "output_type": "display_data"
    },
    {
     "name": "stdout",
     "output_type": "stream",
     "text": [
      "\n",
      "Пропуски:\n"
     ]
    },
    {
     "data": {
      "text/plain": [
       "Repaired             71154\n",
       "VehicleType          37490\n",
       "FuelType             32895\n",
       "Gearbox              19833\n",
       "Model                19705\n",
       "DateCrawled              0\n",
       "Price                    0\n",
       "RegistrationYear         0\n",
       "Power                    0\n",
       "Kilometer                0\n",
       "RegistrationMonth        0\n",
       "Brand                    0\n",
       "DateCreated              0\n",
       "NumberOfPictures         0\n",
       "PostalCode               0\n",
       "LastSeen                 0\n",
       "dtype: int64"
      ]
     },
     "metadata": {},
     "output_type": "display_data"
    },
    {
     "name": "stdout",
     "output_type": "stream",
     "text": [
      "\n",
      "Описание датафрейма:\n"
     ]
    },
    {
     "data": {
      "text/html": [
       "<div>\n",
       "<style scoped>\n",
       "    .dataframe tbody tr th:only-of-type {\n",
       "        vertical-align: middle;\n",
       "    }\n",
       "\n",
       "    .dataframe tbody tr th {\n",
       "        vertical-align: top;\n",
       "    }\n",
       "\n",
       "    .dataframe thead th {\n",
       "        text-align: right;\n",
       "    }\n",
       "</style>\n",
       "<table border=\"1\" class=\"dataframe\">\n",
       "  <thead>\n",
       "    <tr style=\"text-align: right;\">\n",
       "      <th></th>\n",
       "      <th>Price</th>\n",
       "      <th>RegistrationYear</th>\n",
       "      <th>Power</th>\n",
       "      <th>Kilometer</th>\n",
       "      <th>RegistrationMonth</th>\n",
       "      <th>NumberOfPictures</th>\n",
       "      <th>PostalCode</th>\n",
       "    </tr>\n",
       "  </thead>\n",
       "  <tbody>\n",
       "    <tr>\n",
       "      <th>count</th>\n",
       "      <td>354369.000000</td>\n",
       "      <td>354369.000000</td>\n",
       "      <td>354369.000000</td>\n",
       "      <td>354369.000000</td>\n",
       "      <td>354369.000000</td>\n",
       "      <td>354369.0</td>\n",
       "      <td>354369.000000</td>\n",
       "    </tr>\n",
       "    <tr>\n",
       "      <th>mean</th>\n",
       "      <td>4416.656776</td>\n",
       "      <td>2004.234448</td>\n",
       "      <td>110.094337</td>\n",
       "      <td>128211.172535</td>\n",
       "      <td>5.714645</td>\n",
       "      <td>0.0</td>\n",
       "      <td>50508.689087</td>\n",
       "    </tr>\n",
       "    <tr>\n",
       "      <th>std</th>\n",
       "      <td>4514.158514</td>\n",
       "      <td>90.227958</td>\n",
       "      <td>189.850405</td>\n",
       "      <td>37905.341530</td>\n",
       "      <td>3.726421</td>\n",
       "      <td>0.0</td>\n",
       "      <td>25783.096248</td>\n",
       "    </tr>\n",
       "    <tr>\n",
       "      <th>min</th>\n",
       "      <td>0.000000</td>\n",
       "      <td>1000.000000</td>\n",
       "      <td>0.000000</td>\n",
       "      <td>5000.000000</td>\n",
       "      <td>0.000000</td>\n",
       "      <td>0.0</td>\n",
       "      <td>1067.000000</td>\n",
       "    </tr>\n",
       "    <tr>\n",
       "      <th>25%</th>\n",
       "      <td>1050.000000</td>\n",
       "      <td>1999.000000</td>\n",
       "      <td>69.000000</td>\n",
       "      <td>125000.000000</td>\n",
       "      <td>3.000000</td>\n",
       "      <td>0.0</td>\n",
       "      <td>30165.000000</td>\n",
       "    </tr>\n",
       "    <tr>\n",
       "      <th>50%</th>\n",
       "      <td>2700.000000</td>\n",
       "      <td>2003.000000</td>\n",
       "      <td>105.000000</td>\n",
       "      <td>150000.000000</td>\n",
       "      <td>6.000000</td>\n",
       "      <td>0.0</td>\n",
       "      <td>49413.000000</td>\n",
       "    </tr>\n",
       "    <tr>\n",
       "      <th>75%</th>\n",
       "      <td>6400.000000</td>\n",
       "      <td>2008.000000</td>\n",
       "      <td>143.000000</td>\n",
       "      <td>150000.000000</td>\n",
       "      <td>9.000000</td>\n",
       "      <td>0.0</td>\n",
       "      <td>71083.000000</td>\n",
       "    </tr>\n",
       "    <tr>\n",
       "      <th>max</th>\n",
       "      <td>20000.000000</td>\n",
       "      <td>9999.000000</td>\n",
       "      <td>20000.000000</td>\n",
       "      <td>150000.000000</td>\n",
       "      <td>12.000000</td>\n",
       "      <td>0.0</td>\n",
       "      <td>99998.000000</td>\n",
       "    </tr>\n",
       "  </tbody>\n",
       "</table>\n",
       "</div>"
      ],
      "text/plain": [
       "               Price  RegistrationYear          Power      Kilometer  \\\n",
       "count  354369.000000     354369.000000  354369.000000  354369.000000   \n",
       "mean     4416.656776       2004.234448     110.094337  128211.172535   \n",
       "std      4514.158514         90.227958     189.850405   37905.341530   \n",
       "min         0.000000       1000.000000       0.000000    5000.000000   \n",
       "25%      1050.000000       1999.000000      69.000000  125000.000000   \n",
       "50%      2700.000000       2003.000000     105.000000  150000.000000   \n",
       "75%      6400.000000       2008.000000     143.000000  150000.000000   \n",
       "max     20000.000000       9999.000000   20000.000000  150000.000000   \n",
       "\n",
       "       RegistrationMonth  NumberOfPictures     PostalCode  \n",
       "count      354369.000000          354369.0  354369.000000  \n",
       "mean            5.714645               0.0   50508.689087  \n",
       "std             3.726421               0.0   25783.096248  \n",
       "min             0.000000               0.0    1067.000000  \n",
       "25%             3.000000               0.0   30165.000000  \n",
       "50%             6.000000               0.0   49413.000000  \n",
       "75%             9.000000               0.0   71083.000000  \n",
       "max            12.000000               0.0   99998.000000  "
      ]
     },
     "metadata": {},
     "output_type": "display_data"
    },
    {
     "name": "stdout",
     "output_type": "stream",
     "text": [
      "\n",
      "Количество дубликатов:\n"
     ]
    },
    {
     "data": {
      "text/plain": [
       "4"
      ]
     },
     "metadata": {},
     "output_type": "display_data"
    },
    {
     "name": "stdout",
     "output_type": "stream",
     "text": [
      "1. DateCrawled - тип данных object, уникальных значений: 271174\n",
      "2. Price - тип данных int64, уникальных значений: 3731\n",
      "3. VehicleType - тип данных object, уникальных значений: 9\n",
      "4. RegistrationYear - тип данных int64, уникальных значений: 151\n",
      "5. Gearbox - тип данных object, уникальных значений: 3\n",
      "6. Power - тип данных int64, уникальных значений: 712\n",
      "7. Model - тип данных object, уникальных значений: 251\n",
      "8. Kilometer - тип данных int64, уникальных значений: 13\n",
      "9. RegistrationMonth - тип данных int64, уникальных значений: 13\n",
      "10. FuelType - тип данных object, уникальных значений: 8\n",
      "11. Brand - тип данных object, уникальных значений: 40\n",
      "12. Repaired - тип данных object, уникальных значений: 3\n",
      "13. DateCreated - тип данных object, уникальных значений: 109\n",
      "14. NumberOfPictures - тип данных int64, уникальных значений: 1\n",
      "15. PostalCode - тип данных int64, уникальных значений: 8143\n",
      "16. LastSeen - тип данных object, уникальных значений: 179150\n",
      "\n",
      "Итого:\n",
      "признаки с типом данных int64: 7\n",
      "признаки с типом данных object: 9\n"
     ]
    }
   ],
   "source": [
    "df_info(df)"
   ]
  },
  {
   "cell_type": "markdown",
   "metadata": {},
   "source": [
    "В датафрейме 16 признаков и 354369 объектов.    \n",
    "Названия признаков стоит привести к snake_case.  \n",
    "В данный по пяти признакам присутствуют пропущенные значения.  \n",
    "Обнаружено 4 явных дубликата, который будем удалять.  \n",
    "7 признаков имеют тип данных int64, 9 признаков имеют тип данных object.   "
   ]
  },
  {
   "cell_type": "markdown",
   "metadata": {},
   "source": [
    "**Рассмотрим подробнее признаки на предмет наличия аномальных значений и значимость для обучения модели.**"
   ]
  },
  {
   "cell_type": "markdown",
   "metadata": {},
   "source": [
    "Приведем названия признаков к snake_case и удалим явные дубликаты"
   ]
  },
  {
   "cell_type": "code",
   "execution_count": 14,
   "metadata": {},
   "outputs": [
    {
     "name": "stdout",
     "output_type": "stream",
     "text": [
      "теперь дубликатов: 0\n"
     ]
    },
    {
     "data": {
      "text/html": [
       "<div>\n",
       "<style scoped>\n",
       "    .dataframe tbody tr th:only-of-type {\n",
       "        vertical-align: middle;\n",
       "    }\n",
       "\n",
       "    .dataframe tbody tr th {\n",
       "        vertical-align: top;\n",
       "    }\n",
       "\n",
       "    .dataframe thead th {\n",
       "        text-align: right;\n",
       "    }\n",
       "</style>\n",
       "<table border=\"1\" class=\"dataframe\">\n",
       "  <thead>\n",
       "    <tr style=\"text-align: right;\">\n",
       "      <th></th>\n",
       "      <th>date_crawled</th>\n",
       "      <th>price</th>\n",
       "      <th>vehicle_type</th>\n",
       "      <th>registration_year</th>\n",
       "      <th>gearbox</th>\n",
       "      <th>power</th>\n",
       "      <th>model</th>\n",
       "      <th>kilometer</th>\n",
       "      <th>registration_month</th>\n",
       "      <th>fuel_type</th>\n",
       "      <th>brand</th>\n",
       "      <th>repaired</th>\n",
       "      <th>date_created</th>\n",
       "      <th>number_of_pictures</th>\n",
       "      <th>postal_code</th>\n",
       "      <th>last_seen</th>\n",
       "    </tr>\n",
       "  </thead>\n",
       "  <tbody>\n",
       "    <tr>\n",
       "      <th>0</th>\n",
       "      <td>2016-03-24 11:52:17</td>\n",
       "      <td>480</td>\n",
       "      <td>NaN</td>\n",
       "      <td>1993</td>\n",
       "      <td>manual</td>\n",
       "      <td>0</td>\n",
       "      <td>golf</td>\n",
       "      <td>150000</td>\n",
       "      <td>0</td>\n",
       "      <td>petrol</td>\n",
       "      <td>volkswagen</td>\n",
       "      <td>NaN</td>\n",
       "      <td>2016-03-24 00:00:00</td>\n",
       "      <td>0</td>\n",
       "      <td>70435</td>\n",
       "      <td>2016-04-07 03:16:57</td>\n",
       "    </tr>\n",
       "    <tr>\n",
       "      <th>1</th>\n",
       "      <td>2016-03-24 10:58:45</td>\n",
       "      <td>18300</td>\n",
       "      <td>coupe</td>\n",
       "      <td>2011</td>\n",
       "      <td>manual</td>\n",
       "      <td>190</td>\n",
       "      <td>NaN</td>\n",
       "      <td>125000</td>\n",
       "      <td>5</td>\n",
       "      <td>gasoline</td>\n",
       "      <td>audi</td>\n",
       "      <td>yes</td>\n",
       "      <td>2016-03-24 00:00:00</td>\n",
       "      <td>0</td>\n",
       "      <td>66954</td>\n",
       "      <td>2016-04-07 01:46:50</td>\n",
       "    </tr>\n",
       "  </tbody>\n",
       "</table>\n",
       "</div>"
      ],
      "text/plain": [
       "          date_crawled  price vehicle_type  registration_year gearbox  power  \\\n",
       "0  2016-03-24 11:52:17    480          NaN               1993  manual      0   \n",
       "1  2016-03-24 10:58:45  18300        coupe               2011  manual    190   \n",
       "\n",
       "  model  kilometer  registration_month fuel_type       brand repaired  \\\n",
       "0  golf     150000                   0    petrol  volkswagen      NaN   \n",
       "1   NaN     125000                   5  gasoline        audi      yes   \n",
       "\n",
       "          date_created  number_of_pictures  postal_code            last_seen  \n",
       "0  2016-03-24 00:00:00                   0        70435  2016-04-07 03:16:57  \n",
       "1  2016-03-24 00:00:00                   0        66954  2016-04-07 01:46:50  "
      ]
     },
     "execution_count": 14,
     "metadata": {},
     "output_type": "execute_result"
    }
   ],
   "source": [
    "for i, s in enumerate(df.columns):\n",
    "    s = ''.join(['_' + c.lower() if c.isupper() else c for c in s]).lstrip('_')\n",
    "    df = df.rename(columns={df.columns[i]: s})\n",
    "    \n",
    "df[df.select_dtypes(include=['object']).columns] =\\\n",
    "    df[df.select_dtypes(include=['object']).columns].apply(lambda x: x.str.lower())\n",
    "\n",
    "df.drop_duplicates(inplace=True)\n",
    "\n",
    "print(f'теперь дубликатов: {df.duplicated().sum()}')\n",
    "df.head(2)"
   ]
  },
  {
   "cell_type": "markdown",
   "metadata": {},
   "source": [
    "Признак **number_of_pictures'** (количество фотографий автомобиля)\n",
    "Признак неинформативен и содержит одно уникальное значение - 0, поэтому удалим его.  \n",
    "Но перед этим объявим переменную, которая будет отражать исходный размер датафрейма, чтобы можно было контролировать объем удаляемых данных."
   ]
  },
  {
   "cell_type": "code",
   "execution_count": 15,
   "metadata": {},
   "outputs": [],
   "source": [
    "start_size = df.shape"
   ]
  },
  {
   "cell_type": "code",
   "execution_count": 16,
   "metadata": {},
   "outputs": [],
   "source": [
    "df = df.drop(['number_of_pictures'], axis=1)"
   ]
  },
  {
   "cell_type": "markdown",
   "metadata": {},
   "source": [
    "Для  признаков **date_created** - дата создания анкеты\n",
    "**last_seen** - дата последней активности пользователя\n",
    "**date_crawled** - дата скачивания анкеты из базы\n",
    "изменим формат со str на datetime и посмотрим на их распределение"
   ]
  },
  {
   "cell_type": "code",
   "execution_count": 17,
   "metadata": {},
   "outputs": [],
   "source": [
    "# Создадим функцию, которая приводит признаки к типу datetime и выводит графики и сводную таблицу по начальным и конечным датам для каждого признака:\n",
    "\n",
    "def plot_date_columns(data, date_columns):\n",
    "    min_max_dates = pd.DataFrame(columns=['Признак', 'Начальная дата', 'Конечная дата'])\n",
    "    for column in date_columns:\n",
    "        df[column] = pd.to_datetime(df[column])\n",
    "        min_date = df[column].min()\n",
    "        max_date = df[column].max()\n",
    "        min_max_dates = pd.concat([min_max_dates, pd.DataFrame(\n",
    "            {'Признак': [column], 'Начальная дата': [min_date], 'Конечная дата': [max_date]})])\n",
    "        plt.figure(figsize=(12, 5))\n",
    "        df[column].hist(bins=100, grid=True)\n",
    "        plt.title(f'Распределение значений по {column}')\n",
    "        plt.xlabel('Количество наблюдений')\n",
    "        plt.ylabel(column)\n",
    "        plt.show()\n",
    "\n",
    "    return min_max_dates"
   ]
  },
  {
   "cell_type": "code",
   "execution_count": 18,
   "metadata": {},
   "outputs": [
    {
     "data": {
      "image/png": "[encoded data removed]",
      "text/plain": [
       "<Figure size 1200x500 with 1 Axes>"
      ]
     },
     "metadata": {},
     "output_type": "display_data"
    },
    {
     "data": {
      "image/png": "[encoded data removed]",
      "text/plain": [
       "<Figure size 1200x500 with 1 Axes>"
      ]
     },
     "metadata": {},
     "output_type": "display_data"
    },
    {
     "data": {
      "image/png": "[encoded data removed]",
      "text/plain": [
       "<Figure size 1200x500 with 1 Axes>"
      ]
     },
     "metadata": {},
     "output_type": "display_data"
    },
    {
     "data": {
      "text/html": [
       "<div>\n",
       "<style scoped>\n",
       "    .dataframe tbody tr th:only-of-type {\n",
       "        vertical-align: middle;\n",
       "    }\n",
       "\n",
       "    .dataframe tbody tr th {\n",
       "        vertical-align: top;\n",
       "    }\n",
       "\n",
       "    .dataframe thead th {\n",
       "        text-align: right;\n",
       "    }\n",
       "</style>\n",
       "<table border=\"1\" class=\"dataframe\">\n",
       "  <thead>\n",
       "    <tr style=\"text-align: right;\">\n",
       "      <th></th>\n",
       "      <th>Признак</th>\n",
       "      <th>Начальная дата</th>\n",
       "      <th>Конечная дата</th>\n",
       "    </tr>\n",
       "  </thead>\n",
       "  <tbody>\n",
       "    <tr>\n",
       "      <th>0</th>\n",
       "      <td>date_created</td>\n",
       "      <td>2014-03-10 00:00:00</td>\n",
       "      <td>2016-04-07 00:00:00</td>\n",
       "    </tr>\n",
       "    <tr>\n",
       "      <th>0</th>\n",
       "      <td>last_seen</td>\n",
       "      <td>2016-03-05 14:15:08</td>\n",
       "      <td>2016-04-07 14:58:51</td>\n",
       "    </tr>\n",
       "    <tr>\n",
       "      <th>0</th>\n",
       "      <td>date_crawled</td>\n",
       "      <td>2016-03-05 14:06:22</td>\n",
       "      <td>2016-04-07 14:36:58</td>\n",
       "    </tr>\n",
       "  </tbody>\n",
       "</table>\n",
       "</div>"
      ],
      "text/plain": [
       "        Признак      Начальная дата       Конечная дата\n",
       "0  date_created 2014-03-10 00:00:00 2016-04-07 00:00:00\n",
       "0     last_seen 2016-03-05 14:15:08 2016-04-07 14:58:51\n",
       "0  date_crawled 2016-03-05 14:06:22 2016-04-07 14:36:58"
      ]
     },
     "metadata": {},
     "output_type": "display_data"
    }
   ],
   "source": [
    "date_columns = ['date_created', 'last_seen', 'date_crawled']\n",
    "min_max_dates = plot_date_columns(df, date_columns)\n",
    "display(min_max_dates)"
   ]
  },
  {
   "cell_type": "code",
   "execution_count": 19,
   "metadata": {},
   "outputs": [
    {
     "data": {
      "text/html": [
       "<div>\n",
       "<style scoped>\n",
       "    .dataframe tbody tr th:only-of-type {\n",
       "        vertical-align: middle;\n",
       "    }\n",
       "\n",
       "    .dataframe tbody tr th {\n",
       "        vertical-align: top;\n",
       "    }\n",
       "\n",
       "    .dataframe thead th {\n",
       "        text-align: right;\n",
       "    }\n",
       "</style>\n",
       "<table border=\"1\" class=\"dataframe\">\n",
       "  <thead>\n",
       "    <tr style=\"text-align: right;\">\n",
       "      <th></th>\n",
       "      <th>date_created</th>\n",
       "      <th>date_crawled</th>\n",
       "      <th>last_seen</th>\n",
       "    </tr>\n",
       "  </thead>\n",
       "  <tbody>\n",
       "    <tr>\n",
       "      <th>61207</th>\n",
       "      <td>2014-03-10</td>\n",
       "      <td>2016-03-16 11:48:06</td>\n",
       "      <td>2016-04-07 04:46:24</td>\n",
       "    </tr>\n",
       "    <tr>\n",
       "      <th>4001</th>\n",
       "      <td>2015-03-20</td>\n",
       "      <td>2016-03-23 14:42:46</td>\n",
       "      <td>2016-04-07 03:45:01</td>\n",
       "    </tr>\n",
       "    <tr>\n",
       "      <th>342275</th>\n",
       "      <td>2015-06-18</td>\n",
       "      <td>2016-03-05 21:44:26</td>\n",
       "      <td>2016-04-05 17:46:09</td>\n",
       "    </tr>\n",
       "    <tr>\n",
       "      <th>86601</th>\n",
       "      <td>2015-08-07</td>\n",
       "      <td>2016-04-02 19:47:40</td>\n",
       "      <td>2016-04-07 09:15:23</td>\n",
       "    </tr>\n",
       "    <tr>\n",
       "      <th>175103</th>\n",
       "      <td>2015-08-10</td>\n",
       "      <td>2016-03-08 17:57:45</td>\n",
       "      <td>2016-04-05 20:46:54</td>\n",
       "    </tr>\n",
       "    <tr>\n",
       "      <th>75598</th>\n",
       "      <td>2015-09-04</td>\n",
       "      <td>2016-03-14 08:43:53</td>\n",
       "      <td>2016-03-15 14:16:58</td>\n",
       "    </tr>\n",
       "    <tr>\n",
       "      <th>221002</th>\n",
       "      <td>2015-09-04</td>\n",
       "      <td>2016-03-15 01:56:49</td>\n",
       "      <td>2016-03-15 15:49:29</td>\n",
       "    </tr>\n",
       "    <tr>\n",
       "      <th>340616</th>\n",
       "      <td>2015-09-09</td>\n",
       "      <td>2016-03-05 21:51:02</td>\n",
       "      <td>2016-04-05 17:46:04</td>\n",
       "    </tr>\n",
       "    <tr>\n",
       "      <th>9972</th>\n",
       "      <td>2015-11-02</td>\n",
       "      <td>2016-03-05 17:53:53</td>\n",
       "      <td>2016-03-17 15:46:57</td>\n",
       "    </tr>\n",
       "    <tr>\n",
       "      <th>161567</th>\n",
       "      <td>2015-11-08</td>\n",
       "      <td>2016-03-05 14:31:01</td>\n",
       "      <td>2016-04-06 23:15:36</td>\n",
       "    </tr>\n",
       "    <tr>\n",
       "      <th>282938</th>\n",
       "      <td>2015-11-10</td>\n",
       "      <td>2016-03-23 23:37:01</td>\n",
       "      <td>2016-04-07 09:15:21</td>\n",
       "    </tr>\n",
       "    <tr>\n",
       "      <th>75684</th>\n",
       "      <td>2015-11-12</td>\n",
       "      <td>2016-03-14 18:44:30</td>\n",
       "      <td>2016-04-06 03:16:57</td>\n",
       "    </tr>\n",
       "    <tr>\n",
       "      <th>60168</th>\n",
       "      <td>2015-11-17</td>\n",
       "      <td>2016-03-05 20:42:38</td>\n",
       "      <td>2016-04-06 05:46:03</td>\n",
       "    </tr>\n",
       "    <tr>\n",
       "      <th>301180</th>\n",
       "      <td>2015-11-23</td>\n",
       "      <td>2016-03-05 21:49:15</td>\n",
       "      <td>2016-03-23 07:18:38</td>\n",
       "    </tr>\n",
       "    <tr>\n",
       "      <th>153650</th>\n",
       "      <td>2015-11-23</td>\n",
       "      <td>2016-03-19 12:52:26</td>\n",
       "      <td>2016-03-27 17:44:16</td>\n",
       "    </tr>\n",
       "    <tr>\n",
       "      <th>125286</th>\n",
       "      <td>2015-11-24</td>\n",
       "      <td>2016-04-03 21:50:31</td>\n",
       "      <td>2016-04-07 11:25:36</td>\n",
       "    </tr>\n",
       "    <tr>\n",
       "      <th>77378</th>\n",
       "      <td>2015-11-24</td>\n",
       "      <td>2016-03-14 08:27:52</td>\n",
       "      <td>2016-04-05 22:47:33</td>\n",
       "    </tr>\n",
       "    <tr>\n",
       "      <th>226822</th>\n",
       "      <td>2015-12-05</td>\n",
       "      <td>2016-03-07 08:44:05</td>\n",
       "      <td>2016-03-22 20:16:42</td>\n",
       "    </tr>\n",
       "    <tr>\n",
       "      <th>260635</th>\n",
       "      <td>2015-12-05</td>\n",
       "      <td>2016-03-18 10:41:20</td>\n",
       "      <td>2016-03-23 13:56:25</td>\n",
       "    </tr>\n",
       "    <tr>\n",
       "      <th>85505</th>\n",
       "      <td>2015-12-05</td>\n",
       "      <td>2016-03-14 01:41:25</td>\n",
       "      <td>2016-03-22 23:16:25</td>\n",
       "    </tr>\n",
       "    <tr>\n",
       "      <th>29712</th>\n",
       "      <td>2015-12-06</td>\n",
       "      <td>2016-03-28 13:31:25</td>\n",
       "      <td>2016-04-06 14:16:09</td>\n",
       "    </tr>\n",
       "    <tr>\n",
       "      <th>274600</th>\n",
       "      <td>2015-12-17</td>\n",
       "      <td>2016-03-11 12:47:09</td>\n",
       "      <td>2016-04-05 12:45:51</td>\n",
       "    </tr>\n",
       "    <tr>\n",
       "      <th>76459</th>\n",
       "      <td>2015-12-27</td>\n",
       "      <td>2016-03-05 15:50:46</td>\n",
       "      <td>2016-03-27 22:15:37</td>\n",
       "    </tr>\n",
       "    <tr>\n",
       "      <th>244633</th>\n",
       "      <td>2015-12-30</td>\n",
       "      <td>2016-03-15 23:57:10</td>\n",
       "      <td>2016-04-06 15:17:11</td>\n",
       "    </tr>\n",
       "    <tr>\n",
       "      <th>343447</th>\n",
       "      <td>2015-12-30</td>\n",
       "      <td>2016-03-05 21:42:47</td>\n",
       "      <td>2016-04-07 07:15:41</td>\n",
       "    </tr>\n",
       "    <tr>\n",
       "      <th>344287</th>\n",
       "      <td>2015-12-30</td>\n",
       "      <td>2016-03-24 19:49:48</td>\n",
       "      <td>2016-04-05 12:44:49</td>\n",
       "    </tr>\n",
       "  </tbody>\n",
       "</table>\n",
       "</div>"
      ],
      "text/plain": [
       "       date_created        date_crawled           last_seen\n",
       "61207    2014-03-10 2016-03-16 11:48:06 2016-04-07 04:46:24\n",
       "4001     2015-03-20 2016-03-23 14:42:46 2016-04-07 03:45:01\n",
       "342275   2015-06-18 2016-03-05 21:44:26 2016-04-05 17:46:09\n",
       "86601    2015-08-07 2016-04-02 19:47:40 2016-04-07 09:15:23\n",
       "175103   2015-08-10 2016-03-08 17:57:45 2016-04-05 20:46:54\n",
       "75598    2015-09-04 2016-03-14 08:43:53 2016-03-15 14:16:58\n",
       "221002   2015-09-04 2016-03-15 01:56:49 2016-03-15 15:49:29\n",
       "340616   2015-09-09 2016-03-05 21:51:02 2016-04-05 17:46:04\n",
       "9972     2015-11-02 2016-03-05 17:53:53 2016-03-17 15:46:57\n",
       "161567   2015-11-08 2016-03-05 14:31:01 2016-04-06 23:15:36\n",
       "282938   2015-11-10 2016-03-23 23:37:01 2016-04-07 09:15:21\n",
       "75684    2015-11-12 2016-03-14 18:44:30 2016-04-06 03:16:57\n",
       "60168    2015-11-17 2016-03-05 20:42:38 2016-04-06 05:46:03\n",
       "301180   2015-11-23 2016-03-05 21:49:15 2016-03-23 07:18:38\n",
       "153650   2015-11-23 2016-03-19 12:52:26 2016-03-27 17:44:16\n",
       "125286   2015-11-24 2016-04-03 21:50:31 2016-04-07 11:25:36\n",
       "77378    2015-11-24 2016-03-14 08:27:52 2016-04-05 22:47:33\n",
       "226822   2015-12-05 2016-03-07 08:44:05 2016-03-22 20:16:42\n",
       "260635   2015-12-05 2016-03-18 10:41:20 2016-03-23 13:56:25\n",
       "85505    2015-12-05 2016-03-14 01:41:25 2016-03-22 23:16:25\n",
       "29712    2015-12-06 2016-03-28 13:31:25 2016-04-06 14:16:09\n",
       "274600   2015-12-17 2016-03-11 12:47:09 2016-04-05 12:45:51\n",
       "76459    2015-12-27 2016-03-05 15:50:46 2016-03-27 22:15:37\n",
       "244633   2015-12-30 2016-03-15 23:57:10 2016-04-06 15:17:11\n",
       "343447   2015-12-30 2016-03-05 21:42:47 2016-04-07 07:15:41\n",
       "344287   2015-12-30 2016-03-24 19:49:48 2016-04-05 12:44:49"
      ]
     },
     "metadata": {},
     "output_type": "display_data"
    }
   ],
   "source": [
    "# Посмотрим на признаки с датами создания анкет в 2014 - 2015 годах:\n",
    "display(df[df['date_created'].between('2014-01-01', '2015-12-31')\n",
    "             ].sort_values(by='date_created')[['date_created', 'date_crawled', 'last_seen']])"
   ]
  },
  {
   "cell_type": "markdown",
   "metadata": {},
   "source": [
    "Признак **date_created** (дата создания анкеты) - выборка охватывает временной период с 10.03.2014 г. по 07.04.2016 г. Основной массив данных относится к первым четырем месяцам 2016 г., небольшая часть относится к 2015 г. Обнаружена одна анкета с датой создания в 2014 г. и датой последней активности в 2016 г.  \n",
    "Признак **date_crawled** (дата скачивания анкеты из базы) - данные равномерно распределены в промежутке с 05.03.2016 по 09.04.2016.  \n",
    "Признак **last_seen** (дата последней активности пользователя) - данные, как и в признаке **date_crawled** (дата скачивания анкеты из базы) равномерно распределены в промежутке с 05.03.2016 по 09.04.2016.  \n",
    "Вышеупомянутые признаки не влияют на процесс ценообразования и могут помешать нам при обучении модели, поэтому удалим/"
   ]
  },
  {
   "cell_type": "code",
   "execution_count": 20,
   "metadata": {},
   "outputs": [],
   "source": [
    "df = df.sort_values('date_created').reset_index(drop=True)\n",
    "\n",
    "df.drop(columns=date_columns, inplace=True)"
   ]
  },
  {
   "cell_type": "markdown",
   "metadata": {},
   "source": [
    "Признаки **registration_year** - год регистрации автомобиля и **registration_month** - месяц регистрации автомобиля не содержат пропусков в данных. \n",
    "При этом у нас 151 разных значений лет и 13 месяцев, оригинально). Проверим, с какими годами мы имеем дело:"
   ]
  },
  {
   "cell_type": "code",
   "execution_count": 21,
   "metadata": {},
   "outputs": [
    {
     "data": {
      "text/plain": [
       "array([1000, 1001, 1039, 1111, 1200, 1234, 1253, 1255, 1300, 1400, 1500,\n",
       "       1600, 1602, 1688, 1800, 1910, 1915, 1919, 1920, 1923, 1925, 1927,\n",
       "       1928, 1929, 1930, 1931, 1932, 1933, 1934, 1935, 1936, 1937, 1938,\n",
       "       1940, 1941, 1942, 1943, 1944, 1945, 1946, 1947, 1948, 1949, 1950,\n",
       "       1951, 1952, 1953, 1954, 1955, 1956, 1957, 1958, 1959, 1960, 1961,\n",
       "       1962, 1963, 1964, 1965, 1966, 1967, 1968, 1969, 1970, 1971, 1972,\n",
       "       1973, 1974, 1975, 1976, 1977, 1978, 1979, 1980, 1981, 1982, 1983,\n",
       "       1984, 1985, 1986, 1987, 1988, 1989, 1990, 1991, 1992, 1993, 1994,\n",
       "       1995, 1996, 1997, 1998, 1999, 2000, 2001, 2002, 2003, 2004, 2005,\n",
       "       2006, 2007, 2008, 2009, 2010, 2011, 2012, 2013, 2014, 2015, 2016,\n",
       "       2017, 2018, 2019, 2066, 2200, 2222, 2290, 2500, 2800, 2900, 3000,\n",
       "       3200, 3500, 3700, 3800, 4000, 4100, 4500, 4800, 5000, 5300, 5555,\n",
       "       5600, 5900, 5911, 6000, 6500, 7000, 7100, 7500, 7800, 8000, 8200,\n",
       "       8455, 8500, 8888, 9000, 9229, 9450, 9996, 9999], dtype=int64)"
      ]
     },
     "execution_count": 21,
     "metadata": {},
     "output_type": "execute_result"
    }
   ],
   "source": [
    "np.sort(df['registration_year'].unique())"
   ]
  },
  {
   "cell_type": "markdown",
   "metadata": {},
   "source": [
    "Средневековье, возрождение и далёкое будущее в признаке.\n",
    "\n",
    "Все имеющиеся объявления были опубликованы в конкретное время с 2014-й по 2016-й год.\n",
    "Первые серийные автомобили появились около 1914 года, а последняя публикация в выборке датирована 2016-04-07, посмотрим на количество анкет вне этого диапазона и удалим их."
   ]
  },
  {
   "cell_type": "code",
   "execution_count": 22,
   "metadata": {},
   "outputs": [
    {
     "name": "stdout",
     "output_type": "stream",
     "text": [
      "Количество анкет ранее 1910 года: 66\n",
      "Количество анкет позднее 2016 года: 14530\n",
      "Анкет ранее 1910 года осталось: 0\n",
      "Анкет позднее 2016 года осталось: 0\n"
     ]
    }
   ],
   "source": [
    "print('Количество анкет ранее 1910 года:', len(df[df['registration_year'] < 1910]))\n",
    "print('Количество анкет позднее 2016 года:',  len(df[df['registration_year'] > 2016]))\n",
    "\n",
    "df = df[(df['registration_year'] >= 1910) & (df['registration_year'] <= 2016)]\n",
    "\n",
    "print('Анкет ранее 1910 года осталось:', len(df[df['registration_year'] < 1910]))\n",
    "print('Анкет позднее 2016 года осталось:',  len(df[df['registration_year'] > 2016]))"
   ]
  },
  {
   "cell_type": "code",
   "execution_count": 23,
   "metadata": {},
   "outputs": [
    {
     "data": {
      "text/plain": [
       "count    339769.000000\n",
       "mean       2002.482236\n",
       "std           7.091220\n",
       "min        1910.000000\n",
       "25%        1999.000000\n",
       "50%        2003.000000\n",
       "75%        2007.000000\n",
       "max        2016.000000\n",
       "Name: registration_year, dtype: float64"
      ]
     },
     "execution_count": 23,
     "metadata": {},
     "output_type": "execute_result"
    }
   ],
   "source": [
    "df['registration_year'].describe()"
   ]
  },
  {
   "cell_type": "markdown",
   "metadata": {},
   "source": [
    "Распределение анкет по годам на графике:"
   ]
  },
  {
   "cell_type": "code",
   "execution_count": 24,
   "metadata": {},
   "outputs": [],
   "source": [
    "def plot_distribution(x, y, xlabel, ylabel, title, rotation=0, h=False):\n",
    "    if h:\n",
    "        plt.figure(figsize=(15, 8))\n",
    "        plt.barh(x, y)\n",
    "        axis_ = 'x'\n",
    "    else:\n",
    "        plt.figure(figsize=(15,5))\n",
    "        plt.bar(x, y)\n",
    "        axis_ = 'y'\n",
    "    plt.xlabel(xlabel)\n",
    "    plt.ylabel(ylabel)\n",
    "    plt.title(title)\n",
    "    if len(x) <= 14:\n",
    "        plt.xticks(range(len(x)), x, rotation=rotation)\n",
    "    else:\n",
    "        plt.xticks(rotation=rotation)\n",
    "    plt.minorticks_on()\n",
    "    plt.grid(which='major', axis=axis_, linewidth=.5)\n",
    "    plt.grid(which='minor', axis=axis_, linewidth=.25, linestyle='--')\n",
    "    \n",
    "    plt.show()"
   ]
  },
  {
   "cell_type": "code",
   "execution_count": 25,
   "metadata": {},
   "outputs": [
    {
     "data": {
      "image/png": "[encoded data removed]",
      "text/plain": [
       "<Figure size 1500x500 with 1 Axes>"
      ]
     },
     "metadata": {},
     "output_type": "display_data"
    }
   ],
   "source": [
    "inform_hist = df['registration_year'].value_counts().sort_index().reset_index()\n",
    "inform_hist.columns = ['year', 'count']\n",
    "\n",
    "plot_distribution(inform_hist['year'], inform_hist['count'],\n",
    "                  'Год', 'Количество анкет', 'Распределение анкет по годам')"
   ]
  },
  {
   "cell_type": "markdown",
   "metadata": {},
   "source": [
    "На графике длинный хвост слева: регистрация автомобилией в заметном объеме представлена с 1980-1985х годов. Хвост до 1980 года будем считать аномальным. Посмотрим на количество анкет в нем и удалим."
   ]
  },
  {
   "cell_type": "code",
   "execution_count": 26,
   "metadata": {},
   "outputs": [
    {
     "name": "stdout",
     "output_type": "stream",
     "text": [
      "Анкет ранее 1980 года осталось: 3386\n"
     ]
    }
   ],
   "source": [
    "print('Анкет ранее 1980 года осталось:', len(df[df['registration_year'] < 1980]))"
   ]
  },
  {
   "cell_type": "code",
   "execution_count": 27,
   "metadata": {},
   "outputs": [
    {
     "name": "stdout",
     "output_type": "stream",
     "text": [
      "Анкет ранее 1980 года осталось: 0\n"
     ]
    }
   ],
   "source": [
    "df = df[df['registration_year'] > 1980]\n",
    "print('Анкет ранее 1980 года осталось:', len(df[df['registration_year'] < 1980]))"
   ]
  },
  {
   "cell_type": "markdown",
   "metadata": {},
   "source": [
    "Посмотрим, почему в **registration_month** 13 уникальных значений и как распределено количество анкет"
   ]
  },
  {
   "cell_type": "code",
   "execution_count": 28,
   "metadata": {},
   "outputs": [
    {
     "data": {
      "image/png": "[encoded data removed]",
      "text/plain": [
       "<Figure size 1500x500 with 1 Axes>"
      ]
     },
     "metadata": {},
     "output_type": "display_data"
    }
   ],
   "source": [
    "inform_hist = df['registration_month'].value_counts().sort_index().reset_index()\n",
    "inform_hist.columns = ['month', 'count']\n",
    "\n",
    "plot_distribution(inform_hist['month'], inform_hist['count'],\n",
    "                  'Месяц', 'Количество анкет', 'Распределение анкет по месяцам')"
   ]
  },
  {
   "cell_type": "markdown",
   "metadata": {},
   "source": [
    "13й месяц - это месяц под номером 0. Возможно это условное обозначение пропуска в данных. Проверим, на какие года приходится месяц 0"
   ]
  },
  {
   "cell_type": "code",
   "execution_count": 29,
   "metadata": {},
   "outputs": [
    {
     "data": {
      "text/plain": [
       "array([1981, 1982, 1983, 1984, 1985, 1986, 1987, 1988, 1989, 1990, 1991,\n",
       "       1992, 1993, 1994, 1995, 1996, 1997, 1998, 1999, 2000, 2001, 2002,\n",
       "       2003, 2004, 2005, 2006, 2007, 2008, 2009, 2010, 2011, 2012, 2013,\n",
       "       2014, 2015, 2016], dtype=int64)"
      ]
     },
     "execution_count": 29,
     "metadata": {},
     "output_type": "execute_result"
    }
   ],
   "source": [
    "np.sort(df.loc[df['registration_month'] == 0, 'registration_year'].unique())"
   ]
  },
  {
   "cell_type": "markdown",
   "metadata": {},
   "source": [
    "Значение 0 в признаке **registration_month** присутствует во всех годах, точно сказать, что это значение является обозначением пропуска данных, нельзя.  Признак **registration_month** не влияет на ценообразование,  следовательно, удалим его."
   ]
  },
  {
   "cell_type": "code",
   "execution_count": 30,
   "metadata": {},
   "outputs": [],
   "source": [
    "df.drop(columns='registration_month', axis=1, inplace=True)"
   ]
  },
  {
   "cell_type": "markdown",
   "metadata": {},
   "source": [
    "И проверим, какой объем объектов мы удалили к текущему моменту"
   ]
  },
  {
   "cell_type": "code",
   "execution_count": 31,
   "metadata": {},
   "outputs": [
    {
     "data": {
      "text/plain": [
       "'Удалено 18570 строк, что составляет 5.24% от изначального датафрейма'"
      ]
     },
     "execution_count": 31,
     "metadata": {},
     "output_type": "execute_result"
    }
   ],
   "source": [
    "f'Удалено {start_size[0] - df.shape[0]} строк, \\\n",
    "что составляет {1-df.shape[0] / start_size[0]:.2%} от изначального датафрейма'"
   ]
  },
  {
   "cell_type": "markdown",
   "metadata": {},
   "source": [
    "5.24% - приемлемо"
   ]
  },
  {
   "cell_type": "markdown",
   "metadata": {},
   "source": [
    "Вместо года регистрации создадим столбец с возрастом авто, а столбец с годом регистрации удалим. Возрас авто влияет на цену, поэтому для обучения будет неплохо."
   ]
  },
  {
   "cell_type": "code",
   "execution_count": 32,
   "metadata": {},
   "outputs": [
    {
     "data": {
      "text/html": [
       "<div>\n",
       "<style scoped>\n",
       "    .dataframe tbody tr th:only-of-type {\n",
       "        vertical-align: middle;\n",
       "    }\n",
       "\n",
       "    .dataframe tbody tr th {\n",
       "        vertical-align: top;\n",
       "    }\n",
       "\n",
       "    .dataframe thead th {\n",
       "        text-align: right;\n",
       "    }\n",
       "</style>\n",
       "<table border=\"1\" class=\"dataframe\">\n",
       "  <thead>\n",
       "    <tr style=\"text-align: right;\">\n",
       "      <th></th>\n",
       "      <th>price</th>\n",
       "      <th>vehicle_type</th>\n",
       "      <th>gearbox</th>\n",
       "      <th>power</th>\n",
       "      <th>model</th>\n",
       "      <th>kilometer</th>\n",
       "      <th>fuel_type</th>\n",
       "      <th>brand</th>\n",
       "      <th>repaired</th>\n",
       "      <th>postal_code</th>\n",
       "      <th>car_age</th>\n",
       "    </tr>\n",
       "  </thead>\n",
       "  <tbody>\n",
       "    <tr>\n",
       "      <th>0</th>\n",
       "      <td>8999</td>\n",
       "      <td>NaN</td>\n",
       "      <td>NaN</td>\n",
       "      <td>0</td>\n",
       "      <td>147</td>\n",
       "      <td>125000</td>\n",
       "      <td>petrol</td>\n",
       "      <td>alfa_romeo</td>\n",
       "      <td>NaN</td>\n",
       "      <td>79669</td>\n",
       "      <td>11</td>\n",
       "    </tr>\n",
       "    <tr>\n",
       "      <th>1</th>\n",
       "      <td>6000</td>\n",
       "      <td>bus</td>\n",
       "      <td>auto</td>\n",
       "      <td>200</td>\n",
       "      <td>other</td>\n",
       "      <td>150000</td>\n",
       "      <td>petrol</td>\n",
       "      <td>chevrolet</td>\n",
       "      <td>no</td>\n",
       "      <td>24558</td>\n",
       "      <td>21</td>\n",
       "    </tr>\n",
       "    <tr>\n",
       "      <th>2</th>\n",
       "      <td>10400</td>\n",
       "      <td>bus</td>\n",
       "      <td>NaN</td>\n",
       "      <td>0</td>\n",
       "      <td>ducato</td>\n",
       "      <td>30000</td>\n",
       "      <td>gasoline</td>\n",
       "      <td>fiat</td>\n",
       "      <td>NaN</td>\n",
       "      <td>76275</td>\n",
       "      <td>23</td>\n",
       "    </tr>\n",
       "    <tr>\n",
       "      <th>3</th>\n",
       "      <td>14250</td>\n",
       "      <td>convertible</td>\n",
       "      <td>manual</td>\n",
       "      <td>163</td>\n",
       "      <td>slk</td>\n",
       "      <td>150000</td>\n",
       "      <td>petrol</td>\n",
       "      <td>mercedes_benz</td>\n",
       "      <td>no</td>\n",
       "      <td>76228</td>\n",
       "      <td>11</td>\n",
       "    </tr>\n",
       "    <tr>\n",
       "      <th>4</th>\n",
       "      <td>5200</td>\n",
       "      <td>convertible</td>\n",
       "      <td>manual</td>\n",
       "      <td>109</td>\n",
       "      <td>2_reihe</td>\n",
       "      <td>80000</td>\n",
       "      <td>petrol</td>\n",
       "      <td>peugeot</td>\n",
       "      <td>no</td>\n",
       "      <td>26382</td>\n",
       "      <td>10</td>\n",
       "    </tr>\n",
       "  </tbody>\n",
       "</table>\n",
       "</div>"
      ],
      "text/plain": [
       "   price vehicle_type gearbox  power    model  kilometer fuel_type  \\\n",
       "0   8999          NaN     NaN      0      147     125000    petrol   \n",
       "1   6000          bus    auto    200    other     150000    petrol   \n",
       "2  10400          bus     NaN      0   ducato      30000  gasoline   \n",
       "3  14250  convertible  manual    163      slk     150000    petrol   \n",
       "4   5200  convertible  manual    109  2_reihe      80000    petrol   \n",
       "\n",
       "           brand repaired  postal_code  car_age  \n",
       "0     alfa_romeo      NaN        79669       11  \n",
       "1      chevrolet       no        24558       21  \n",
       "2           fiat      NaN        76275       23  \n",
       "3  mercedes_benz       no        76228       11  \n",
       "4        peugeot       no        26382       10  "
      ]
     },
     "execution_count": 32,
     "metadata": {},
     "output_type": "execute_result"
    }
   ],
   "source": [
    "df['car_age'] = 2016 - df['registration_year']\n",
    "df.drop(columns='registration_year', axis=1, inplace=True)\n",
    "df.head(5)"
   ]
  },
  {
   "cell_type": "markdown",
   "metadata": {},
   "source": [
    "Признак **postal_code** так же удалим, он не понадобится."
   ]
  },
  {
   "cell_type": "code",
   "execution_count": 33,
   "metadata": {},
   "outputs": [],
   "source": [
    "df.drop(columns='postal_code', axis=1, inplace=True)"
   ]
  },
  {
   "cell_type": "markdown",
   "metadata": {},
   "source": [
    "Посмотрим на признае **fuel_type**"
   ]
  },
  {
   "cell_type": "code",
   "execution_count": 34,
   "metadata": {},
   "outputs": [
    {
     "data": {
      "text/plain": [
       "petrol      207222\n",
       "gasoline     96144\n",
       "lpg           5134\n",
       "cng            539\n",
       "hybrid         223\n",
       "other          162\n",
       "electric        88\n",
       "Name: fuel_type, dtype: int64"
      ]
     },
     "execution_count": 34,
     "metadata": {},
     "output_type": "execute_result"
    }
   ],
   "source": [
    "df.fuel_type.value_counts()"
   ]
  },
  {
   "cell_type": "markdown",
   "metadata": {},
   "source": [
    "Переименуем gasoline в petrol: оба означают \"бензин\", пропуски заполним позже"
   ]
  },
  {
   "cell_type": "code",
   "execution_count": 35,
   "metadata": {},
   "outputs": [],
   "source": [
    "df['fuel_type'] = df['fuel_type'].replace(['gasoline'],'petrol')"
   ]
  },
  {
   "cell_type": "markdown",
   "metadata": {},
   "source": [
    "Признак **brand** и **model** (марка автомобиля)  \n",
    "В признаке **brand** содержется 40 уникальных значений, пропущенные данные отсутствуют."
   ]
  },
  {
   "cell_type": "code",
   "execution_count": 36,
   "metadata": {},
   "outputs": [
    {
     "data": {
      "image/png": "[encoded data removed]",
      "text/plain": [
       "<Figure size 1500x800 with 1 Axes>"
      ]
     },
     "metadata": {},
     "output_type": "display_data"
    }
   ],
   "source": [
    "inform_hist = df['brand'].value_counts().sort_index().reset_index()\n",
    "inform_hist.columns = ['brand', 'count']\n",
    "inform_hist = inform_hist.sort_values('count')\n",
    "plot_distribution(inform_hist['brand'], inform_hist['count'],\n",
    "                  'Количество анкет', 'Марки автомобилей', 'Распределение анкет по маркам автомобилей', h=True)"
   ]
  },
  {
   "cell_type": "markdown",
   "metadata": {},
   "source": [
    "Клиенты сервиса \"Не бит, не крашен\" предпочитают немецкие автомобили. 'sonstige_autos' означает \"другие автомобили\", т.е. бренды не указаны в принципе, избавимся от этих объектов."
   ]
  },
  {
   "cell_type": "code",
   "execution_count": 37,
   "metadata": {},
   "outputs": [],
   "source": [
    "df = df[df['brand'] != 'sonstige_autos']"
   ]
  },
  {
   "cell_type": "code",
   "execution_count": 38,
   "metadata": {},
   "outputs": [
    {
     "name": "stdout",
     "output_type": "stream",
     "text": [
      "Количество пропущеных значений: 14144\n"
     ]
    }
   ],
   "source": [
    "print('Количество пропущеных значений:', df['model'].isnull().sum())"
   ]
  },
  {
   "cell_type": "markdown",
   "metadata": {},
   "source": [
    "Пропуски в **model** заполним заглушкой"
   ]
  },
  {
   "cell_type": "code",
   "execution_count": 39,
   "metadata": {},
   "outputs": [
    {
     "name": "stdout",
     "output_type": "stream",
     "text": [
      "Количество пропущеных значений: 0\n"
     ]
    }
   ],
   "source": [
    "df['model'] = df['model'].fillna('unknown')\n",
    "print('Количество пропущеных значений:', df['model'].isnull().sum())"
   ]
  },
  {
   "cell_type": "markdown",
   "metadata": {},
   "source": [
    "**vehicle_type** - тип автомобильного кузова  \n",
    "**gearbox** - тип коробки передач  \n",
    "**fuel_type** - тип топлива  \n",
    "Все эти 3 признака относятся к техническим характеристикам автомобилей:"
   ]
  },
  {
   "cell_type": "code",
   "execution_count": 40,
   "metadata": {},
   "outputs": [
    {
     "name": "stdout",
     "output_type": "stream",
     "text": [
      "% пропусков:\n",
      "vehicle_type    6.89\n",
      "gearbox         5.10\n",
      "fuel_type       8.28\n",
      "dtype: float64\n"
     ]
    }
   ],
   "source": [
    "isna_ = df.loc[:, ['vehicle_type', 'gearbox', 'fuel_type']].isna().sum()\n",
    "notnull_ = df.loc[:, ['vehicle_type', 'gearbox', 'fuel_type']].notnull().sum()\n",
    "print(f\"% пропусков:\\n{np.round((isna_ / notnull_)*100, 2)}\")"
   ]
  },
  {
   "cell_type": "markdown",
   "metadata": {},
   "source": [
    "В этих признаках от 5 до 8% пропусков"
   ]
  },
  {
   "cell_type": "markdown",
   "metadata": {},
   "source": [
    "Посмотрим на количество пропущенных значений, которые присутвуют во всех трех признаках:"
   ]
  },
  {
   "cell_type": "code",
   "execution_count": 41,
   "metadata": {},
   "outputs": [
    {
     "data": {
      "text/plain": [
       "4907"
      ]
     },
     "execution_count": 41,
     "metadata": {},
     "output_type": "execute_result"
    }
   ],
   "source": [
    "df[(df['vehicle_type'].isnull()) & (df['gearbox'].isnull()) & (df['fuel_type'].isnull())].shape[0]"
   ]
  },
  {
   "cell_type": "markdown",
   "metadata": {},
   "source": [
    "Эти объекты не будут полезными при обучении модели - удалим их, а остальные пропуски заполним заглушкой"
   ]
  },
  {
   "cell_type": "code",
   "execution_count": 42,
   "metadata": {},
   "outputs": [
    {
     "name": "stdout",
     "output_type": "stream",
     "text": [
      "Для признака 'vehicle_type':\n",
      "Количество пропущенных значений: 0\n",
      "\n",
      "Для признака 'gearbox':\n",
      "Количество пропущенных значений: 0\n",
      "\n",
      "Для признака 'fuel_type':\n",
      "Количество пропущенных значений: 0\n",
      "\n"
     ]
    }
   ],
   "source": [
    "df.dropna(subset=['vehicle_type', 'gearbox', 'fuel_type'], how='all', inplace=True)\n",
    "\n",
    "tech_features = ['vehicle_type', 'gearbox', 'fuel_type']\n",
    "\n",
    "for feature in tech_features:\n",
    "    df[feature] = df[feature].fillna('unknown')\n",
    "    missing_values = df[feature].isnull().sum()\n",
    "    print(f\"Для признака '{feature}':\")\n",
    "    print(f\"Количество пропущенных значений: {missing_values}\")\n",
    "    print()"
   ]
  },
  {
   "cell_type": "markdown",
   "metadata": {},
   "source": [
    "Проверим, сколько данный удалено к этому моменту от изначального размера данных:"
   ]
  },
  {
   "cell_type": "code",
   "execution_count": 43,
   "metadata": {},
   "outputs": [
    {
     "data": {
      "text/plain": [
       "'7.33%'"
      ]
     },
     "execution_count": 43,
     "metadata": {},
     "output_type": "execute_result"
    }
   ],
   "source": [
    "f'{1-df.shape[0] / start_size[0]:.2%}'"
   ]
  },
  {
   "cell_type": "markdown",
   "metadata": {},
   "source": [
    "Пока в пределах нормы, идем дальше по признакам"
   ]
  },
  {
   "cell_type": "markdown",
   "metadata": {},
   "source": [
    "Признак **repaired** (была машина в ремонте или нет)\n",
    "Это категориальный признак, содержащий 2 значения с большим количеством пропусков. Посмотрим на него:"
   ]
  },
  {
   "cell_type": "code",
   "execution_count": 44,
   "metadata": {},
   "outputs": [
    {
     "name": "stdout",
     "output_type": "stream",
     "text": [
      "Количество пропущенных значений: 57830 что составляет 21.37% от количества значений\n"
     ]
    }
   ],
   "source": [
    "print(f\"Количество пропущенных значений: {df['repaired'].isnull().sum()} что составляет \\\n",
    "{df['repaired'].isnull().sum() / df['repaired'].notnull().sum():.2%} от количества значений\")"
   ]
  },
  {
   "cell_type": "markdown",
   "metadata": {},
   "source": [
    "Слишком большой объем для удаления, поэтому заполним заглушкой"
   ]
  },
  {
   "cell_type": "code",
   "execution_count": 45,
   "metadata": {},
   "outputs": [
    {
     "name": "stdout",
     "output_type": "stream",
     "text": [
      "Количество пропущеных значений: 0\n"
     ]
    }
   ],
   "source": [
    "df['repaired'] = df['repaired'].fillna('unknown')\n",
    "print('Количество пропущеных значений:', df['repaired'].isnull().sum())"
   ]
  },
  {
   "cell_type": "markdown",
   "metadata": {},
   "source": [
    "Признак **power** (мощность (л. с.))\n",
    "Это важный признак, влияющий на ценообразование. Посмотрим на него:"
   ]
  },
  {
   "cell_type": "code",
   "execution_count": 46,
   "metadata": {},
   "outputs": [
    {
     "data": {
      "text/plain": [
       "0        29821\n",
       "1           21\n",
       "2            8\n",
       "3            1\n",
       "4            6\n",
       "         ...  \n",
       "17932        1\n",
       "19208        1\n",
       "19211        1\n",
       "19312        1\n",
       "20000        1\n",
       "Name: power, Length: 690, dtype: int64"
      ]
     },
     "execution_count": 46,
     "metadata": {},
     "output_type": "execute_result"
    }
   ],
   "source": [
    "df['power'].value_counts().sort_index()"
   ]
  },
  {
   "cell_type": "markdown",
   "metadata": {},
   "source": [
    "В распределении есть и нули, и огромные значения. Посмотрим на графике:"
   ]
  },
  {
   "cell_type": "code",
   "execution_count": 47,
   "metadata": {},
   "outputs": [],
   "source": [
    "def get_boxplot(df, title, xlim):\n",
    "    plt.figure(figsize=(15, 6))\n",
    "    sns.boxplot(x=df)\n",
    "    plt.title(title)\n",
    "    plt.xlim(xlim)\n",
    "    plt.minorticks_on()\n",
    "    plt.grid(which='major', linewidth=.5)\n",
    "    plt.grid(which='minor', linewidth=.25, linestyle='--')\n",
    "    plt.show()"
   ]
  },
  {
   "cell_type": "code",
   "execution_count": 48,
   "metadata": {},
   "outputs": [
    {
     "data": {
      "image/png": "[encoded data removed]",
      "text/plain": [
       "<Figure size 1500x600 with 1 Axes>"
      ]
     },
     "metadata": {},
     "output_type": "display_data"
    }
   ],
   "source": [
    "get_boxplot(df['power'], 'Распределение значений для power', (-10, 1500))"
   ]
  },
  {
   "cell_type": "markdown",
   "metadata": {},
   "source": [
    "Погуглив самые маломощные автомобили, проверяем машины с морозностью 5, 9, 15 л.с., будем удалять машины с неадекватными значениями мощности по первой \"адекватной\""
   ]
  },
  {
   "cell_type": "code",
   "execution_count": 49,
   "metadata": {},
   "outputs": [
    {
     "data": {
      "text/html": [
       "<div>\n",
       "<style scoped>\n",
       "    .dataframe tbody tr th:only-of-type {\n",
       "        vertical-align: middle;\n",
       "    }\n",
       "\n",
       "    .dataframe tbody tr th {\n",
       "        vertical-align: top;\n",
       "    }\n",
       "\n",
       "    .dataframe thead th {\n",
       "        text-align: right;\n",
       "    }\n",
       "</style>\n",
       "<table border=\"1\" class=\"dataframe\">\n",
       "  <thead>\n",
       "    <tr style=\"text-align: right;\">\n",
       "      <th></th>\n",
       "      <th>model</th>\n",
       "      <th>brand</th>\n",
       "      <th>power</th>\n",
       "      <th>car_age</th>\n",
       "    </tr>\n",
       "  </thead>\n",
       "  <tbody>\n",
       "    <tr>\n",
       "      <th>14597</th>\n",
       "      <td>lupo</td>\n",
       "      <td>volkswagen</td>\n",
       "      <td>5</td>\n",
       "      <td>0</td>\n",
       "    </tr>\n",
       "    <tr>\n",
       "      <th>105975</th>\n",
       "      <td>twingo</td>\n",
       "      <td>renault</td>\n",
       "      <td>5</td>\n",
       "      <td>16</td>\n",
       "    </tr>\n",
       "    <tr>\n",
       "      <th>123606</th>\n",
       "      <td>5_reihe</td>\n",
       "      <td>mazda</td>\n",
       "      <td>5</td>\n",
       "      <td>10</td>\n",
       "    </tr>\n",
       "    <tr>\n",
       "      <th>136864</th>\n",
       "      <td>other</td>\n",
       "      <td>seat</td>\n",
       "      <td>5</td>\n",
       "      <td>22</td>\n",
       "    </tr>\n",
       "    <tr>\n",
       "      <th>144107</th>\n",
       "      <td>polo</td>\n",
       "      <td>volkswagen</td>\n",
       "      <td>5</td>\n",
       "      <td>15</td>\n",
       "    </tr>\n",
       "    <tr>\n",
       "      <th>144332</th>\n",
       "      <td>other</td>\n",
       "      <td>seat</td>\n",
       "      <td>5</td>\n",
       "      <td>21</td>\n",
       "    </tr>\n",
       "    <tr>\n",
       "      <th>181570</th>\n",
       "      <td>twingo</td>\n",
       "      <td>renault</td>\n",
       "      <td>5</td>\n",
       "      <td>17</td>\n",
       "    </tr>\n",
       "    <tr>\n",
       "      <th>194289</th>\n",
       "      <td>corsa</td>\n",
       "      <td>opel</td>\n",
       "      <td>5</td>\n",
       "      <td>14</td>\n",
       "    </tr>\n",
       "    <tr>\n",
       "      <th>215277</th>\n",
       "      <td>fiesta</td>\n",
       "      <td>ford</td>\n",
       "      <td>5</td>\n",
       "      <td>12</td>\n",
       "    </tr>\n",
       "    <tr>\n",
       "      <th>219704</th>\n",
       "      <td>unknown</td>\n",
       "      <td>renault</td>\n",
       "      <td>5</td>\n",
       "      <td>2</td>\n",
       "    </tr>\n",
       "    <tr>\n",
       "      <th>244876</th>\n",
       "      <td>fortwo</td>\n",
       "      <td>smart</td>\n",
       "      <td>5</td>\n",
       "      <td>15</td>\n",
       "    </tr>\n",
       "    <tr>\n",
       "      <th>257837</th>\n",
       "      <td>punto</td>\n",
       "      <td>fiat</td>\n",
       "      <td>5</td>\n",
       "      <td>21</td>\n",
       "    </tr>\n",
       "    <tr>\n",
       "      <th>278351</th>\n",
       "      <td>kangoo</td>\n",
       "      <td>renault</td>\n",
       "      <td>5</td>\n",
       "      <td>18</td>\n",
       "    </tr>\n",
       "    <tr>\n",
       "      <th>320521</th>\n",
       "      <td>other</td>\n",
       "      <td>renault</td>\n",
       "      <td>5</td>\n",
       "      <td>4</td>\n",
       "    </tr>\n",
       "    <tr>\n",
       "      <th>353097</th>\n",
       "      <td>twingo</td>\n",
       "      <td>renault</td>\n",
       "      <td>5</td>\n",
       "      <td>17</td>\n",
       "    </tr>\n",
       "  </tbody>\n",
       "</table>\n",
       "</div>"
      ],
      "text/plain": [
       "          model       brand  power  car_age\n",
       "14597      lupo  volkswagen      5        0\n",
       "105975   twingo     renault      5       16\n",
       "123606  5_reihe       mazda      5       10\n",
       "136864    other        seat      5       22\n",
       "144107     polo  volkswagen      5       15\n",
       "144332    other        seat      5       21\n",
       "181570   twingo     renault      5       17\n",
       "194289    corsa        opel      5       14\n",
       "215277   fiesta        ford      5       12\n",
       "219704  unknown     renault      5        2\n",
       "244876   fortwo       smart      5       15\n",
       "257837    punto        fiat      5       21\n",
       "278351   kangoo     renault      5       18\n",
       "320521    other     renault      5        4\n",
       "353097   twingo     renault      5       17"
      ]
     },
     "execution_count": 49,
     "metadata": {},
     "output_type": "execute_result"
    }
   ],
   "source": [
    "df.loc[df['power'] == 5, ['model','brand', 'power','car_age']].sort_values('power', ascending=True)"
   ]
  },
  {
   "cell_type": "code",
   "execution_count": 50,
   "metadata": {},
   "outputs": [
    {
     "data": {
      "text/html": [
       "<div>\n",
       "<style scoped>\n",
       "    .dataframe tbody tr th:only-of-type {\n",
       "        vertical-align: middle;\n",
       "    }\n",
       "\n",
       "    .dataframe tbody tr th {\n",
       "        vertical-align: top;\n",
       "    }\n",
       "\n",
       "    .dataframe thead th {\n",
       "        text-align: right;\n",
       "    }\n",
       "</style>\n",
       "<table border=\"1\" class=\"dataframe\">\n",
       "  <thead>\n",
       "    <tr style=\"text-align: right;\">\n",
       "      <th></th>\n",
       "      <th>model</th>\n",
       "      <th>brand</th>\n",
       "      <th>power</th>\n",
       "      <th>car_age</th>\n",
       "    </tr>\n",
       "  </thead>\n",
       "  <tbody>\n",
       "    <tr>\n",
       "      <th>201963</th>\n",
       "      <td>other</td>\n",
       "      <td>citroen</td>\n",
       "      <td>9</td>\n",
       "      <td>17</td>\n",
       "    </tr>\n",
       "    <tr>\n",
       "      <th>284484</th>\n",
       "      <td>unknown</td>\n",
       "      <td>fiat</td>\n",
       "      <td>9</td>\n",
       "      <td>25</td>\n",
       "    </tr>\n",
       "  </tbody>\n",
       "</table>\n",
       "</div>"
      ],
      "text/plain": [
       "          model    brand  power  car_age\n",
       "201963    other  citroen      9       17\n",
       "284484  unknown     fiat      9       25"
      ]
     },
     "execution_count": 50,
     "metadata": {},
     "output_type": "execute_result"
    }
   ],
   "source": [
    "df.loc[df['power'] == 9, ['model','brand', 'power', 'car_age']].sort_values('power', ascending=True)"
   ]
  },
  {
   "cell_type": "code",
   "execution_count": 51,
   "metadata": {},
   "outputs": [
    {
     "data": {
      "text/html": [
       "<div>\n",
       "<style scoped>\n",
       "    .dataframe tbody tr th:only-of-type {\n",
       "        vertical-align: middle;\n",
       "    }\n",
       "\n",
       "    .dataframe tbody tr th {\n",
       "        vertical-align: top;\n",
       "    }\n",
       "\n",
       "    .dataframe thead th {\n",
       "        text-align: right;\n",
       "    }\n",
       "</style>\n",
       "<table border=\"1\" class=\"dataframe\">\n",
       "  <thead>\n",
       "    <tr style=\"text-align: right;\">\n",
       "      <th></th>\n",
       "      <th>model</th>\n",
       "      <th>brand</th>\n",
       "      <th>power</th>\n",
       "      <th>car_age</th>\n",
       "    </tr>\n",
       "  </thead>\n",
       "  <tbody>\n",
       "    <tr>\n",
       "      <th>5877</th>\n",
       "      <td>unknown</td>\n",
       "      <td>fiat</td>\n",
       "      <td>15</td>\n",
       "      <td>26</td>\n",
       "    </tr>\n",
       "    <tr>\n",
       "      <th>14797</th>\n",
       "      <td>other</td>\n",
       "      <td>renault</td>\n",
       "      <td>15</td>\n",
       "      <td>2</td>\n",
       "    </tr>\n",
       "    <tr>\n",
       "      <th>65048</th>\n",
       "      <td>unknown</td>\n",
       "      <td>bmw</td>\n",
       "      <td>15</td>\n",
       "      <td>13</td>\n",
       "    </tr>\n",
       "    <tr>\n",
       "      <th>80368</th>\n",
       "      <td>fabia</td>\n",
       "      <td>skoda</td>\n",
       "      <td>15</td>\n",
       "      <td>8</td>\n",
       "    </tr>\n",
       "    <tr>\n",
       "      <th>104166</th>\n",
       "      <td>3er</td>\n",
       "      <td>bmw</td>\n",
       "      <td>15</td>\n",
       "      <td>21</td>\n",
       "    </tr>\n",
       "    <tr>\n",
       "      <th>147193</th>\n",
       "      <td>500</td>\n",
       "      <td>fiat</td>\n",
       "      <td>15</td>\n",
       "      <td>20</td>\n",
       "    </tr>\n",
       "  </tbody>\n",
       "</table>\n",
       "</div>"
      ],
      "text/plain": [
       "          model    brand  power  car_age\n",
       "5877    unknown     fiat     15       26\n",
       "14797     other  renault     15        2\n",
       "65048   unknown      bmw     15       13\n",
       "80368     fabia    skoda     15        8\n",
       "104166      3er      bmw     15       21\n",
       "147193      500     fiat     15       20"
      ]
     },
     "execution_count": 51,
     "metadata": {},
     "output_type": "execute_result"
    }
   ],
   "source": [
    "df.loc[df['power'] == 15, ['model','brand', 'power', 'car_age']].sort_values('power', ascending=True)"
   ]
  },
  {
   "cell_type": "markdown",
   "metadata": {},
   "source": [
    "Самым мощным автомобилем может быть Ford Mustang Shelby GT500 (2007-2014), мощность двигателя - 662 л.с., сымым маломощным Фиат 500. По этим данным и будем резать нашу выборку."
   ]
  },
  {
   "cell_type": "code",
   "execution_count": 52,
   "metadata": {},
   "outputs": [],
   "source": [
    "df = df[(df['power'] >= 15) & (df['power'] <= 662)]"
   ]
  },
  {
   "cell_type": "code",
   "execution_count": 53,
   "metadata": {},
   "outputs": [
    {
     "data": {
      "image/png": "[encoded data removed]",
      "text/plain": [
       "<Figure size 1500x600 with 1 Axes>"
      ]
     },
     "metadata": {},
     "output_type": "display_data"
    }
   ],
   "source": [
    "get_boxplot(df['power'], 'Распределение значений для power', (-10, 700))"
   ]
  },
  {
   "cell_type": "code",
   "execution_count": 54,
   "metadata": {},
   "outputs": [
    {
     "data": {
      "text/plain": [
       "'15.86%'"
      ]
     },
     "execution_count": 54,
     "metadata": {},
     "output_type": "execute_result"
    }
   ],
   "source": [
    "f'{1-df.shape[0] / start_size[0]:.2%}'"
   ]
  },
  {
   "cell_type": "markdown",
   "metadata": {},
   "source": [
    "Немало, но мы избавились от аномальных значений, которые могут мешать обучению модели."
   ]
  },
  {
   "cell_type": "markdown",
   "metadata": {},
   "source": [
    "Признак **kilometer** (пробег (км))\n",
    "Важный числовой признак с малым количеством уникальных значений. Есть вероятность, что это категориальный признак. Посмотрим на него:"
   ]
  },
  {
   "cell_type": "code",
   "execution_count": 55,
   "metadata": {},
   "outputs": [
    {
     "data": {
      "text/plain": [
       "5000        2856\n",
       "10000        871\n",
       "20000       3172\n",
       "30000       3815\n",
       "40000       4415\n",
       "50000       5535\n",
       "60000       6695\n",
       "70000       7643\n",
       "80000       8916\n",
       "90000      10217\n",
       "100000     12603\n",
       "125000     31842\n",
       "150000    199572\n",
       "Name: kilometer, dtype: int64"
      ]
     },
     "execution_count": 55,
     "metadata": {},
     "output_type": "execute_result"
    }
   ],
   "source": [
    "df['kilometer'].value_counts().sort_index()"
   ]
  },
  {
   "cell_type": "code",
   "execution_count": 56,
   "metadata": {},
   "outputs": [],
   "source": [
    "def get_histplot(df, xlabel, rotation=0, kde=True):\n",
    "    plt.figure(figsize=(15,5))\n",
    "    sns.histplot(df, linewidth=5, ec='#0073bb')\n",
    "    plt.xlabel(xlabel)\n",
    "    plt.ylabel('Количество анкет')\n",
    "    plt.title(f'Распределение значений для {df.name}')\n",
    "    plt.xticks(rotation=rotation)\n",
    "    plt.minorticks_on()\n",
    "    plt.grid(which='major', linewidth=.5)\n",
    "    plt.grid(which='minor', linewidth=.25, linestyle='--')\n",
    "    plt.show()"
   ]
  },
  {
   "cell_type": "code",
   "execution_count": 57,
   "metadata": {},
   "outputs": [
    {
     "data": {
      "image/png": "[encoded data removed]",
      "text/plain": [
       "<Figure size 1500x500 with 1 Axes>"
      ]
     },
     "metadata": {},
     "output_type": "display_data"
    }
   ],
   "source": [
    "get_histplot(df['kilometer'], 'Пробег в км')"
   ]
  },
  {
   "cell_type": "markdown",
   "metadata": {},
   "source": [
    "Признак действительно категориальный. Большинство анкет с пробегом 150000 км."
   ]
  },
  {
   "cell_type": "markdown",
   "metadata": {},
   "source": [
    "Целевой признак **price** (цена (евро))\n",
    "Это признак, который будем предсказывать. Посмотрим на него:"
   ]
  },
  {
   "cell_type": "code",
   "execution_count": 58,
   "metadata": {},
   "outputs": [
    {
     "data": {
      "text/plain": [
       "0     6139\n",
       "1      614\n",
       "2        7\n",
       "3        4\n",
       "5        7\n",
       "9        4\n",
       "10      21\n",
       "11       1\n",
       "12       1\n",
       "13       2\n",
       "15       3\n",
       "16       1\n",
       "20       6\n",
       "24       1\n",
       "25       4\n",
       "26       1\n",
       "29       1\n",
       "30      11\n",
       "35       3\n",
       "38       1\n",
       "Name: price, dtype: int64"
      ]
     },
     "execution_count": 58,
     "metadata": {},
     "output_type": "execute_result"
    }
   ],
   "source": [
    "df['price'].value_counts().sort_index().head(20)"
   ]
  },
  {
   "cell_type": "markdown",
   "metadata": {},
   "source": [
    "Есть нули. В реальной жизни они, скорее всего, означают объявления, в которых не указана цена. Много и таких объявлений, в которых указана цена 1 евро. \n",
    "Проверим, много ли объявлений с ценой до 100."
   ]
  },
  {
   "cell_type": "code",
   "execution_count": 59,
   "metadata": {},
   "outputs": [
    {
     "data": {
      "image/png": "[encoded data removed]",
      "text/plain": [
       "<Figure size 1500x500 with 1 Axes>"
      ]
     },
     "metadata": {},
     "output_type": "display_data"
    }
   ],
   "source": [
    "get_histplot(df['price'], 'Цена', kde=False)"
   ]
  },
  {
   "cell_type": "code",
   "execution_count": 60,
   "metadata": {},
   "outputs": [
    {
     "name": "stdout",
     "output_type": "stream",
     "text": [
      "Объявлений дешевле 100 евро 7250 шт., это 2.43%\n"
     ]
    }
   ],
   "source": [
    "print(f\"Объявлений дешевле 100 евро {df[df['price'] < 100].shape[0]} шт., \"\n",
    "      f\"это {df[df['price'] < 100].shape[0]/df.shape[0]:.2%}\")"
   ]
  },
  {
   "cell_type": "markdown",
   "metadata": {},
   "source": [
    "Удалим объекты с ценой меньше 100 евро"
   ]
  },
  {
   "cell_type": "code",
   "execution_count": 61,
   "metadata": {},
   "outputs": [
    {
     "data": {
      "text/plain": [
       "0"
      ]
     },
     "execution_count": 61,
     "metadata": {},
     "output_type": "execute_result"
    }
   ],
   "source": [
    "df = df[df['price'] >= 100]\n",
    "len(df[df['price'] < 100])"
   ]
  },
  {
   "cell_type": "markdown",
   "metadata": {},
   "source": [
    "Разобрались с признаками, избавились от аномальных и пропущенных значений. Посмотрим, что в итоге:"
   ]
  },
  {
   "cell_type": "code",
   "execution_count": 62,
   "metadata": {},
   "outputs": [
    {
     "name": "stdout",
     "output_type": "stream",
     "text": [
      "<class 'pandas.core.frame.DataFrame'>\n",
      "Int64Index: 290902 entries, 1 to 354364\n",
      "Data columns (total 10 columns):\n",
      " #   Column        Non-Null Count   Dtype \n",
      "---  ------        --------------   ----- \n",
      " 0   price         290902 non-null  int64 \n",
      " 1   vehicle_type  290902 non-null  object\n",
      " 2   gearbox       290902 non-null  object\n",
      " 3   power         290902 non-null  int64 \n",
      " 4   model         290902 non-null  object\n",
      " 5   kilometer     290902 non-null  int64 \n",
      " 6   fuel_type     290902 non-null  object\n",
      " 7   brand         290902 non-null  object\n",
      " 8   repaired      290902 non-null  object\n",
      " 9   car_age       290902 non-null  int64 \n",
      "dtypes: int64(4), object(6)\n",
      "memory usage: 24.4+ MB\n"
     ]
    }
   ],
   "source": [
    "df.info()"
   ]
  },
  {
   "cell_type": "code",
   "execution_count": 63,
   "metadata": {},
   "outputs": [
    {
     "data": {
      "text/plain": [
       "'Удалено 63463 строк, что составляет 17.91% от изначального датафрейма'"
      ]
     },
     "execution_count": 63,
     "metadata": {},
     "output_type": "execute_result"
    }
   ],
   "source": [
    "(f'Удалено {start_size[0] - df.shape[0]} строк, '\n",
    "    f'что составляет {1-df.shape[0] /start_size[0]:.2%} от изначального датафрейма')"
   ]
  },
  {
   "cell_type": "markdown",
   "metadata": {},
   "source": [
    "Объединим признаки **brand** и **model**"
   ]
  },
  {
   "cell_type": "markdown",
   "metadata": {},
   "source": [
    "Данные проанализированы и подготовлены к Machine Learning"
   ]
  },
  {
   "cell_type": "markdown",
   "metadata": {},
   "source": [
    "## Обучение моделей"
   ]
  },
  {
   "cell_type": "markdown",
   "metadata": {},
   "source": [
    "Будем обучать следующие модели:\n",
    "\n",
    "LinearRegression  \n",
    "LGBMRegressor  \n",
    "CatBoostRegressor  \n",
    "Ridge  \n",
    "GradientBoostingRegressor  \n",
    "Подбирать гиперпараметры будем при помощи GridSearchCV  \n",
    "\n",
    "Критериями качества моделей будет:  \n",
    "\n",
    "метрика RMSE (Root Mean Squared Error) \n",
    "время затраченное алгоритмами на обучение моделей и предсказания  "
   ]
  },
  {
   "cell_type": "markdown",
   "metadata": {},
   "source": [
    "Подготовка к обучению и тестированию моделей\n",
    "Разобьем датафрейм на выборки с учетом индексации"
   ]
  },
  {
   "cell_type": "markdown",
   "metadata": {},
   "source": [
    "РАзделим на таргеты и признаки и на тестовую и обучающую выборку и разобьем данные сначала на обучающую выборку 75% тестовую 25%"
   ]
  },
  {
   "cell_type": "code",
   "execution_count": 64,
   "metadata": {},
   "outputs": [],
   "source": [
    "y = df['price']\n",
    "X = df.drop('price', axis=1)\n",
    "\n",
    "X_train, X_test, y_train, y_test = train_test_split(\n",
    "    X, y, test_size=0.25, random_state=RANDOM_STATE)"
   ]
  },
  {
   "cell_type": "markdown",
   "metadata": {},
   "source": [
    "Выделим категориальные и числовые признаки"
   ]
  },
  {
   "cell_type": "code",
   "execution_count": 65,
   "metadata": {
    "scrolled": true
   },
   "outputs": [
    {
     "name": "stdout",
     "output_type": "stream",
     "text": [
      "['vehicle_type', 'gearbox', 'model', 'fuel_type', 'brand', 'repaired']\n"
     ]
    },
    {
     "data": {
      "text/plain": [
       "['power', 'kilometer', 'car_age']"
      ]
     },
     "execution_count": 65,
     "metadata": {},
     "output_type": "execute_result"
    }
   ],
   "source": [
    "cat = list(X_train.select_dtypes(include='object').columns)\n",
    "num = list(X_train.select_dtypes(include='int64').columns)\n",
    "print(cat)\n",
    "num"
   ]
  },
  {
   "cell_type": "markdown",
   "metadata": {},
   "source": [
    "Создадим препроцессор для кодировщика и стандартизатора"
   ]
  },
  {
   "cell_type": "code",
   "execution_count": 66,
   "metadata": {},
   "outputs": [],
   "source": [
    "numeric_transformer = Pipeline(steps=[\n",
    "    ('scaler', StandardScaler())\n",
    "])\n",
    "\n",
    "categorical_transformer = Pipeline(steps=[\n",
    "    ('encoder', TargetEncoder(cols=cat))\n",
    "])\n",
    "\n",
    "preprocessor = ColumnTransformer(\n",
    "    transformers=[\n",
    "        ('num', numeric_transformer, num),\n",
    "        ('cat', categorical_transformer, cat)\n",
    "    ])"
   ]
  },
  {
   "cell_type": "markdown",
   "metadata": {},
   "source": [
    "Посмотрим на кросс-валидации какие модели возьмем для поиска гиперпараметров, по значению метрики RMSE"
   ]
  },
  {
   "cell_type": "markdown",
   "metadata": {},
   "source": [
    "**LinearRegression**"
   ]
  },
  {
   "cell_type": "code",
   "execution_count": 67,
   "metadata": {},
   "outputs": [
    {
     "name": "stdout",
     "output_type": "stream",
     "text": [
      "Лучшее значение  линейной регрессии на кросс валидации: 2619.9180991209046\n"
     ]
    }
   ],
   "source": [
    "lr = Pipeline(steps=[\n",
    "    ('encoder', TargetEncoder(cols=cat)),\n",
    "    ('regressor', LinearRegression())\n",
    "])\n",
    "\n",
    "\n",
    "cvs_lr = cross_val_score(lr, X_train, y_train, cv=5, scoring='neg_root_mean_squared_error', n_jobs=-1).mean()\n",
    "print(\"Лучшее значение  линейной регрессии на кросс валидации:\", -cvs_lr)"
   ]
  },
  {
   "cell_type": "markdown",
   "metadata": {},
   "source": [
    "**LGBMRegressor**"
   ]
  },
  {
   "cell_type": "code",
   "execution_count": 68,
   "metadata": {},
   "outputs": [
    {
     "name": "stdout",
     "output_type": "stream",
     "text": [
      "Лучшее значение  LGBM на кросс валидации: 1597.741453297839\n"
     ]
    }
   ],
   "source": [
    "lg = Pipeline(steps=[\n",
    "    ('preprocessor', preprocessor),\n",
    "    ('regressor', LGBMRegressor(random_state=RANDOM_STATE))\n",
    "])\n",
    "\n",
    "cvs_lg = cross_val_score(lg, X_train, y_train, cv=5, scoring='neg_root_mean_squared_error', n_jobs=-1).mean()\n",
    "print(\"Лучшее значение  LGBM на кросс валидации:\", -cvs_lg)"
   ]
  },
  {
   "cell_type": "markdown",
   "metadata": {},
   "source": [
    "**CatBoostRegressor**"
   ]
  },
  {
   "cell_type": "code",
   "execution_count": 69,
   "metadata": {},
   "outputs": [
    {
     "name": "stdout",
     "output_type": "stream",
     "text": [
      "Лучшее значение  CatBoost на кросс валидации: 1525.6680119827865\n"
     ]
    }
   ],
   "source": [
    "ct = Pipeline(steps=[\n",
    "    ('preprocessor', preprocessor),\n",
    "    ('regressor', CatBoostRegressor(random_state=RANDOM_STATE))\n",
    "])\n",
    "\n",
    "cvs_ct = cross_val_score(ct, X_train, y_train, cv=5, scoring='neg_root_mean_squared_error', n_jobs=-1).mean()\n",
    "print(\"Лучшее значение  CatBoost на кросс валидации:\", -cvs_ct)"
   ]
  },
  {
   "cell_type": "markdown",
   "metadata": {},
   "source": [
    "**Ridge**"
   ]
  },
  {
   "cell_type": "code",
   "execution_count": 70,
   "metadata": {},
   "outputs": [
    {
     "name": "stdout",
     "output_type": "stream",
     "text": [
      "Лучшее значение Ridge на кросс валидации: 2619.918099274439\n"
     ]
    }
   ],
   "source": [
    "rg = Pipeline(steps=[\n",
    "    ('encoder', TargetEncoder(cols=cat)),\n",
    "    ('regressor', Ridge())\n",
    "])\n",
    "\n",
    "\n",
    "cvs_rg = cross_val_score(rg, X_train, y_train, cv=5, scoring='neg_root_mean_squared_error', n_jobs=-1).mean()\n",
    "print(\"Лучшее значение Ridge на кросс валидации:\", -cvs_rg)"
   ]
  },
  {
   "cell_type": "markdown",
   "metadata": {},
   "source": [
    "Найдем гиперпараметры с помощью GridSearchCV и время обучения и предсказания для всех моделей"
   ]
  },
  {
   "cell_type": "markdown",
   "metadata": {},
   "source": [
    "**Linear Regression**"
   ]
  },
  {
   "cell_type": "code",
   "execution_count": 71,
   "metadata": {},
   "outputs": [
    {
     "name": "stdout",
     "output_type": "stream",
     "text": [
      "Best cross-validation score:  2619.9180991209046\n"
     ]
    }
   ],
   "source": [
    "pipe_lr = Pipeline(steps=[\n",
    "    ('encoder', TargetEncoder(cols=cat)),\n",
    "    ('regressor', LinearRegression())\n",
    "])\n",
    "\n",
    "#параметры для GridSearch\n",
    "param_grid = { }\n",
    "\n",
    "#объект GridSearchCV\n",
    "grid_search_lr = GridSearchCV(pipe_lr, param_grid=param_grid, cv=5, scoring='neg_root_mean_squared_error', n_jobs=-1)\n",
    "\n",
    "#обучение на трейне\n",
    "grid_search_lr.fit(X_train, y_train)\n",
    "\n",
    "#результаты кросс-валидации\n",
    "print(\"Best cross-validation score: \", -grid_search_lr.best_score_)"
   ]
  },
  {
   "cell_type": "code",
   "execution_count": 72,
   "metadata": {},
   "outputs": [
    {
     "name": "stdout",
     "output_type": "stream",
     "text": [
      "Среднее время обучения LinearRegression: 1.8352877616882324\n",
      "Среднее время предсказания LinearRegression: 0.1429070472717285\n"
     ]
    }
   ],
   "source": [
    "cv_results_lr = grid_search_lr.cv_results_\n",
    "print(\"Среднее время обучения LinearRegression:\", cv_results_lr['mean_fit_time'].mean())\n",
    "print(\"Среднее время предсказания LinearRegression:\", cv_results_lr['mean_score_time'].mean())"
   ]
  },
  {
   "cell_type": "markdown",
   "metadata": {},
   "source": [
    "**CatBoostRegression**"
   ]
  },
  {
   "cell_type": "code",
   "execution_count": 73,
   "metadata": {},
   "outputs": [
    {
     "name": "stdout",
     "output_type": "stream",
     "text": [
      "0:\tlearn: 4273.0340701\ttotal: 87.9ms\tremaining: 26.3s\n",
      "1:\tlearn: 4004.3501174\ttotal: 105ms\tremaining: 15.7s\n",
      "2:\tlearn: 3753.8211454\ttotal: 122ms\tremaining: 12s\n",
      "3:\tlearn: 3534.9173802\ttotal: 139ms\tremaining: 10.3s\n",
      "4:\tlearn: 3336.8331960\ttotal: 155ms\tremaining: 9.13s\n",
      "5:\tlearn: 3168.1822227\ttotal: 171ms\tremaining: 8.37s\n",
      "6:\tlearn: 3014.9264062\ttotal: 186ms\tremaining: 7.79s\n",
      "7:\tlearn: 2878.0268431\ttotal: 203ms\tremaining: 7.43s\n",
      "8:\tlearn: 2760.1606884\ttotal: 219ms\tremaining: 7.07s\n",
      "9:\tlearn: 2656.6702479\ttotal: 234ms\tremaining: 6.77s\n",
      "10:\tlearn: 2558.7186794\ttotal: 249ms\tremaining: 6.54s\n",
      "11:\tlearn: 2475.1365708\ttotal: 265ms\tremaining: 6.37s\n",
      "12:\tlearn: 2403.4173965\ttotal: 281ms\tremaining: 6.2s\n",
      "13:\tlearn: 2339.6057596\ttotal: 298ms\tremaining: 6.08s\n",
      "14:\tlearn: 2282.6447256\ttotal: 315ms\tremaining: 5.98s\n",
      "15:\tlearn: 2231.2200888\ttotal: 332ms\tremaining: 5.89s\n",
      "16:\tlearn: 2187.3061898\ttotal: 349ms\tremaining: 5.8s\n",
      "17:\tlearn: 2146.1770566\ttotal: 365ms\tremaining: 5.72s\n",
      "18:\tlearn: 2108.9935477\ttotal: 384ms\tremaining: 5.67s\n",
      "19:\tlearn: 2078.2636688\ttotal: 403ms\tremaining: 5.64s\n",
      "20:\tlearn: 2050.5867331\ttotal: 424ms\tremaining: 5.63s\n",
      "21:\tlearn: 2026.3104710\ttotal: 445ms\tremaining: 5.62s\n",
      "22:\tlearn: 2005.2194009\ttotal: 461ms\tremaining: 5.55s\n",
      "23:\tlearn: 1983.2527390\ttotal: 476ms\tremaining: 5.47s\n",
      "24:\tlearn: 1965.3476992\ttotal: 491ms\tremaining: 5.4s\n",
      "25:\tlearn: 1950.3087146\ttotal: 508ms\tremaining: 5.35s\n",
      "26:\tlearn: 1935.8753026\ttotal: 524ms\tremaining: 5.3s\n",
      "27:\tlearn: 1923.8539271\ttotal: 542ms\tremaining: 5.26s\n",
      "28:\tlearn: 1912.0038328\ttotal: 560ms\tremaining: 5.23s\n",
      "29:\tlearn: 1902.0163999\ttotal: 575ms\tremaining: 5.18s\n",
      "30:\tlearn: 1893.1856080\ttotal: 590ms\tremaining: 5.12s\n",
      "31:\tlearn: 1884.0425859\ttotal: 606ms\tremaining: 5.07s\n",
      "32:\tlearn: 1875.8770322\ttotal: 620ms\tremaining: 5.02s\n",
      "33:\tlearn: 1865.4701510\ttotal: 635ms\tremaining: 4.97s\n",
      "34:\tlearn: 1858.1153751\ttotal: 649ms\tremaining: 4.91s\n",
      "35:\tlearn: 1851.7816453\ttotal: 662ms\tremaining: 4.86s\n",
      "36:\tlearn: 1843.9148668\ttotal: 678ms\tremaining: 4.82s\n",
      "37:\tlearn: 1838.7758168\ttotal: 692ms\tremaining: 4.77s\n",
      "38:\tlearn: 1828.1952325\ttotal: 709ms\tremaining: 4.75s\n",
      "39:\tlearn: 1822.1592297\ttotal: 725ms\tremaining: 4.71s\n",
      "40:\tlearn: 1817.0623870\ttotal: 741ms\tremaining: 4.68s\n",
      "41:\tlearn: 1812.5094034\ttotal: 758ms\tremaining: 4.66s\n",
      "42:\tlearn: 1809.2668221\ttotal: 773ms\tremaining: 4.62s\n",
      "43:\tlearn: 1804.5236214\ttotal: 790ms\tremaining: 4.6s\n",
      "44:\tlearn: 1797.6982877\ttotal: 807ms\tremaining: 4.57s\n",
      "45:\tlearn: 1792.6454414\ttotal: 823ms\tremaining: 4.54s\n",
      "46:\tlearn: 1786.1892425\ttotal: 838ms\tremaining: 4.51s\n",
      "47:\tlearn: 1782.5978574\ttotal: 852ms\tremaining: 4.47s\n",
      "48:\tlearn: 1778.8294701\ttotal: 866ms\tremaining: 4.43s\n",
      "49:\tlearn: 1775.4770118\ttotal: 880ms\tremaining: 4.4s\n",
      "50:\tlearn: 1769.8550149\ttotal: 897ms\tremaining: 4.38s\n",
      "51:\tlearn: 1767.3979198\ttotal: 913ms\tremaining: 4.35s\n",
      "52:\tlearn: 1764.6418436\ttotal: 927ms\tremaining: 4.32s\n",
      "53:\tlearn: 1760.0382346\ttotal: 945ms\tremaining: 4.3s\n",
      "54:\tlearn: 1757.1233234\ttotal: 961ms\tremaining: 4.28s\n",
      "55:\tlearn: 1754.6489862\ttotal: 976ms\tremaining: 4.25s\n",
      "56:\tlearn: 1751.8174792\ttotal: 991ms\tremaining: 4.23s\n",
      "57:\tlearn: 1750.0079508\ttotal: 1s\tremaining: 4.19s\n",
      "58:\tlearn: 1745.4522225\ttotal: 1.02s\tremaining: 4.17s\n",
      "59:\tlearn: 1742.3796167\ttotal: 1.03s\tremaining: 4.14s\n",
      "60:\tlearn: 1740.5814414\ttotal: 1.05s\tremaining: 4.12s\n",
      "61:\tlearn: 1737.2697228\ttotal: 1.07s\tremaining: 4.1s\n",
      "62:\tlearn: 1733.5266820\ttotal: 1.08s\tremaining: 4.08s\n",
      "63:\tlearn: 1730.7082689\ttotal: 1.1s\tremaining: 4.06s\n",
      "64:\tlearn: 1727.3956333\ttotal: 1.12s\tremaining: 4.04s\n",
      "65:\tlearn: 1724.7389109\ttotal: 1.14s\tremaining: 4.03s\n",
      "66:\tlearn: 1722.3496448\ttotal: 1.15s\tremaining: 4.02s\n",
      "67:\tlearn: 1720.6267559\ttotal: 1.17s\tremaining: 4s\n",
      "68:\tlearn: 1718.6919738\ttotal: 1.19s\tremaining: 3.98s\n",
      "69:\tlearn: 1716.7256526\ttotal: 1.2s\tremaining: 3.96s\n",
      "70:\tlearn: 1715.4078155\ttotal: 1.22s\tremaining: 3.93s\n",
      "71:\tlearn: 1713.2316736\ttotal: 1.24s\tremaining: 3.91s\n",
      "72:\tlearn: 1711.2314981\ttotal: 1.25s\tremaining: 3.88s\n",
      "73:\tlearn: 1709.1273048\ttotal: 1.26s\tremaining: 3.86s\n",
      "74:\tlearn: 1707.4380236\ttotal: 1.28s\tremaining: 3.83s\n",
      "75:\tlearn: 1706.2168991\ttotal: 1.29s\tremaining: 3.81s\n",
      "76:\tlearn: 1703.7178147\ttotal: 1.31s\tremaining: 3.79s\n",
      "77:\tlearn: 1702.4171543\ttotal: 1.32s\tremaining: 3.77s\n",
      "78:\tlearn: 1701.1283035\ttotal: 1.34s\tremaining: 3.75s\n",
      "79:\tlearn: 1699.5331715\ttotal: 1.36s\tremaining: 3.74s\n",
      "80:\tlearn: 1698.8555422\ttotal: 1.37s\tremaining: 3.71s\n",
      "81:\tlearn: 1697.2204615\ttotal: 1.39s\tremaining: 3.69s\n",
      "82:\tlearn: 1695.0205993\ttotal: 1.4s\tremaining: 3.67s\n",
      "83:\tlearn: 1693.3769343\ttotal: 1.42s\tremaining: 3.65s\n",
      "84:\tlearn: 1691.9057833\ttotal: 1.43s\tremaining: 3.63s\n",
      "85:\tlearn: 1690.5412548\ttotal: 1.45s\tremaining: 3.61s\n",
      "86:\tlearn: 1689.4640425\ttotal: 1.46s\tremaining: 3.58s\n",
      "87:\tlearn: 1687.5900506\ttotal: 1.48s\tremaining: 3.56s\n",
      "88:\tlearn: 1686.6143418\ttotal: 1.49s\tremaining: 3.54s\n",
      "89:\tlearn: 1685.0401256\ttotal: 1.51s\tremaining: 3.52s\n",
      "90:\tlearn: 1683.8725271\ttotal: 1.52s\tremaining: 3.5s\n",
      "91:\tlearn: 1682.5839146\ttotal: 1.54s\tremaining: 3.47s\n",
      "92:\tlearn: 1680.7757085\ttotal: 1.55s\tremaining: 3.46s\n",
      "93:\tlearn: 1679.3627838\ttotal: 1.57s\tremaining: 3.45s\n",
      "94:\tlearn: 1678.4687201\ttotal: 1.59s\tremaining: 3.43s\n",
      "95:\tlearn: 1677.3041450\ttotal: 1.6s\tremaining: 3.41s\n",
      "96:\tlearn: 1676.0882585\ttotal: 1.62s\tremaining: 3.39s\n",
      "97:\tlearn: 1674.8340591\ttotal: 1.63s\tremaining: 3.37s\n",
      "98:\tlearn: 1673.2756188\ttotal: 1.65s\tremaining: 3.35s\n",
      "99:\tlearn: 1672.2647347\ttotal: 1.66s\tremaining: 3.33s\n",
      "100:\tlearn: 1671.0649420\ttotal: 1.68s\tremaining: 3.31s\n",
      "101:\tlearn: 1670.0624789\ttotal: 1.69s\tremaining: 3.29s\n",
      "102:\tlearn: 1669.5836229\ttotal: 1.71s\tremaining: 3.27s\n",
      "103:\tlearn: 1668.1245288\ttotal: 1.72s\tremaining: 3.25s\n",
      "104:\tlearn: 1666.8821823\ttotal: 1.74s\tremaining: 3.23s\n",
      "105:\tlearn: 1665.3488026\ttotal: 1.76s\tremaining: 3.21s\n",
      "106:\tlearn: 1664.3427257\ttotal: 1.77s\tremaining: 3.2s\n",
      "107:\tlearn: 1663.4267787\ttotal: 1.79s\tremaining: 3.18s\n",
      "108:\tlearn: 1662.1318152\ttotal: 1.8s\tremaining: 3.16s\n",
      "109:\tlearn: 1661.1375676\ttotal: 1.82s\tremaining: 3.14s\n",
      "110:\tlearn: 1660.1624381\ttotal: 1.83s\tremaining: 3.12s\n",
      "111:\tlearn: 1659.4285747\ttotal: 1.85s\tremaining: 3.1s\n",
      "112:\tlearn: 1658.4618590\ttotal: 1.86s\tremaining: 3.08s\n",
      "113:\tlearn: 1657.5423124\ttotal: 1.88s\tremaining: 3.06s\n",
      "114:\tlearn: 1656.6755574\ttotal: 1.89s\tremaining: 3.04s\n",
      "115:\tlearn: 1655.2067530\ttotal: 1.91s\tremaining: 3.02s\n",
      "116:\tlearn: 1654.3528485\ttotal: 1.92s\tremaining: 3s\n",
      "117:\tlearn: 1653.1041221\ttotal: 1.94s\tremaining: 2.98s\n",
      "118:\tlearn: 1652.3711041\ttotal: 1.95s\tremaining: 2.96s\n",
      "119:\tlearn: 1651.1629291\ttotal: 1.97s\tremaining: 2.95s\n",
      "120:\tlearn: 1650.0159976\ttotal: 1.98s\tremaining: 2.93s\n",
      "121:\tlearn: 1648.6243835\ttotal: 2s\tremaining: 2.92s\n",
      "122:\tlearn: 1647.8314846\ttotal: 2.01s\tremaining: 2.9s\n",
      "123:\tlearn: 1646.8302317\ttotal: 2.03s\tremaining: 2.88s\n",
      "124:\tlearn: 1646.1081831\ttotal: 2.04s\tremaining: 2.86s\n",
      "125:\tlearn: 1645.5129932\ttotal: 2.06s\tremaining: 2.84s\n",
      "126:\tlearn: 1644.9458345\ttotal: 2.08s\tremaining: 2.83s\n",
      "127:\tlearn: 1644.0521028\ttotal: 2.09s\tremaining: 2.81s\n",
      "128:\tlearn: 1643.2074270\ttotal: 2.11s\tremaining: 2.79s\n",
      "129:\tlearn: 1642.4141828\ttotal: 2.12s\tremaining: 2.77s\n",
      "130:\tlearn: 1641.7132876\ttotal: 2.13s\tremaining: 2.75s\n",
      "131:\tlearn: 1640.8817770\ttotal: 2.15s\tremaining: 2.74s\n",
      "132:\tlearn: 1640.0040506\ttotal: 2.17s\tremaining: 2.72s\n",
      "133:\tlearn: 1639.6294714\ttotal: 2.18s\tremaining: 2.7s\n",
      "134:\tlearn: 1638.6724447\ttotal: 2.2s\tremaining: 2.69s\n",
      "135:\tlearn: 1637.5952283\ttotal: 2.22s\tremaining: 2.67s\n",
      "136:\tlearn: 1636.6811658\ttotal: 2.23s\tremaining: 2.65s\n",
      "137:\tlearn: 1636.2613161\ttotal: 2.25s\tremaining: 2.63s\n",
      "138:\tlearn: 1635.4402690\ttotal: 2.26s\tremaining: 2.62s\n",
      "139:\tlearn: 1634.5050399\ttotal: 2.27s\tremaining: 2.6s\n",
      "140:\tlearn: 1633.8773858\ttotal: 2.29s\tremaining: 2.58s\n",
      "141:\tlearn: 1633.1415474\ttotal: 2.3s\tremaining: 2.56s\n",
      "142:\tlearn: 1632.3787365\ttotal: 2.32s\tremaining: 2.54s\n",
      "143:\tlearn: 1631.7868286\ttotal: 2.33s\tremaining: 2.53s\n",
      "144:\tlearn: 1631.2254945\ttotal: 2.35s\tremaining: 2.51s\n",
      "145:\tlearn: 1630.7391688\ttotal: 2.36s\tremaining: 2.49s\n",
      "146:\tlearn: 1629.9831766\ttotal: 2.38s\tremaining: 2.48s\n",
      "147:\tlearn: 1629.5939310\ttotal: 2.39s\tremaining: 2.46s\n",
      "148:\tlearn: 1628.8216871\ttotal: 2.41s\tremaining: 2.44s\n",
      "149:\tlearn: 1628.0579712\ttotal: 2.43s\tremaining: 2.43s\n",
      "150:\tlearn: 1627.6128944\ttotal: 2.44s\tremaining: 2.41s\n",
      "151:\tlearn: 1626.9818510\ttotal: 2.46s\tremaining: 2.4s\n",
      "152:\tlearn: 1625.9933186\ttotal: 2.48s\tremaining: 2.38s\n",
      "153:\tlearn: 1625.5673075\ttotal: 2.49s\tremaining: 2.36s\n",
      "154:\tlearn: 1624.9704260\ttotal: 2.5s\tremaining: 2.34s\n",
      "155:\tlearn: 1624.3110599\ttotal: 2.52s\tremaining: 2.33s\n",
      "156:\tlearn: 1623.3760076\ttotal: 2.53s\tremaining: 2.31s\n",
      "157:\tlearn: 1622.9205656\ttotal: 2.55s\tremaining: 2.29s\n",
      "158:\tlearn: 1622.3331118\ttotal: 2.56s\tremaining: 2.27s\n",
      "159:\tlearn: 1621.5093875\ttotal: 2.58s\tremaining: 2.26s\n",
      "160:\tlearn: 1620.9637793\ttotal: 2.6s\tremaining: 2.24s\n",
      "161:\tlearn: 1620.4861389\ttotal: 2.61s\tremaining: 2.23s\n",
      "162:\tlearn: 1619.8489973\ttotal: 2.63s\tremaining: 2.21s\n",
      "163:\tlearn: 1619.5252130\ttotal: 2.64s\tremaining: 2.19s\n",
      "164:\tlearn: 1618.7213117\ttotal: 2.66s\tremaining: 2.17s\n",
      "165:\tlearn: 1618.0064600\ttotal: 2.67s\tremaining: 2.16s\n",
      "166:\tlearn: 1617.4200256\ttotal: 2.69s\tremaining: 2.14s\n",
      "167:\tlearn: 1616.7855462\ttotal: 2.7s\tremaining: 2.12s\n",
      "168:\tlearn: 1616.3831083\ttotal: 2.72s\tremaining: 2.11s\n",
      "169:\tlearn: 1615.6038033\ttotal: 2.73s\tremaining: 2.09s\n",
      "170:\tlearn: 1615.0421885\ttotal: 2.75s\tremaining: 2.07s\n",
      "171:\tlearn: 1614.2715938\ttotal: 2.76s\tremaining: 2.06s\n",
      "172:\tlearn: 1613.9401574\ttotal: 2.78s\tremaining: 2.04s\n",
      "173:\tlearn: 1613.6286330\ttotal: 2.79s\tremaining: 2.02s\n",
      "174:\tlearn: 1613.2419086\ttotal: 2.81s\tremaining: 2s\n",
      "175:\tlearn: 1612.5983237\ttotal: 2.82s\tremaining: 1.99s\n",
      "176:\tlearn: 1612.1346558\ttotal: 2.84s\tremaining: 1.97s\n",
      "177:\tlearn: 1611.8418427\ttotal: 2.85s\tremaining: 1.96s\n",
      "178:\tlearn: 1611.2649376\ttotal: 2.87s\tremaining: 1.94s\n",
      "179:\tlearn: 1610.9889417\ttotal: 2.88s\tremaining: 1.92s\n",
      "180:\tlearn: 1610.3526289\ttotal: 2.9s\tremaining: 1.91s\n",
      "181:\tlearn: 1609.7091669\ttotal: 2.92s\tremaining: 1.89s\n",
      "182:\tlearn: 1609.0264101\ttotal: 2.93s\tremaining: 1.87s\n",
      "183:\tlearn: 1608.4807359\ttotal: 2.94s\tremaining: 1.86s\n",
      "184:\tlearn: 1607.9694740\ttotal: 2.96s\tremaining: 1.84s\n",
      "185:\tlearn: 1607.5845115\ttotal: 2.97s\tremaining: 1.82s\n",
      "186:\tlearn: 1607.1515962\ttotal: 2.99s\tremaining: 1.8s\n",
      "187:\tlearn: 1606.6119242\ttotal: 3s\tremaining: 1.79s\n",
      "188:\tlearn: 1606.1422606\ttotal: 3.02s\tremaining: 1.77s\n",
      "189:\tlearn: 1605.5461608\ttotal: 3.03s\tremaining: 1.76s\n",
      "190:\tlearn: 1604.8282064\ttotal: 3.05s\tremaining: 1.74s\n",
      "191:\tlearn: 1604.1876905\ttotal: 3.07s\tremaining: 1.73s\n",
      "192:\tlearn: 1603.7037127\ttotal: 3.08s\tremaining: 1.71s\n",
      "193:\tlearn: 1603.2573448\ttotal: 3.1s\tremaining: 1.69s\n",
      "194:\tlearn: 1602.7277555\ttotal: 3.11s\tremaining: 1.68s\n",
      "195:\tlearn: 1602.0839360\ttotal: 3.13s\tremaining: 1.66s\n",
      "196:\tlearn: 1601.6747322\ttotal: 3.14s\tremaining: 1.64s\n",
      "197:\tlearn: 1600.9601936\ttotal: 3.16s\tremaining: 1.63s\n",
      "198:\tlearn: 1600.5391676\ttotal: 3.17s\tremaining: 1.61s\n",
      "199:\tlearn: 1600.1830390\ttotal: 3.19s\tremaining: 1.59s\n",
      "200:\tlearn: 1599.7438076\ttotal: 3.2s\tremaining: 1.58s\n",
      "201:\tlearn: 1599.4808388\ttotal: 3.22s\tremaining: 1.56s\n",
      "202:\tlearn: 1598.8750384\ttotal: 3.24s\tremaining: 1.55s\n",
      "203:\tlearn: 1598.3811203\ttotal: 3.25s\tremaining: 1.53s\n",
      "204:\tlearn: 1598.0979309\ttotal: 3.27s\tremaining: 1.51s\n",
      "205:\tlearn: 1597.6432167\ttotal: 3.28s\tremaining: 1.5s\n",
      "206:\tlearn: 1597.2510219\ttotal: 3.3s\tremaining: 1.48s\n",
      "207:\tlearn: 1596.7238943\ttotal: 3.31s\tremaining: 1.47s\n",
      "208:\tlearn: 1596.3374294\ttotal: 3.33s\tremaining: 1.45s\n",
      "209:\tlearn: 1595.9355364\ttotal: 3.35s\tremaining: 1.43s\n",
      "210:\tlearn: 1595.5310418\ttotal: 3.36s\tremaining: 1.42s\n",
      "211:\tlearn: 1595.1575129\ttotal: 3.37s\tremaining: 1.4s\n",
      "212:\tlearn: 1594.9046108\ttotal: 3.39s\tremaining: 1.38s\n",
      "213:\tlearn: 1594.1791206\ttotal: 3.4s\tremaining: 1.37s\n",
      "214:\tlearn: 1593.8084258\ttotal: 3.42s\tremaining: 1.35s\n",
      "215:\tlearn: 1593.3850049\ttotal: 3.43s\tremaining: 1.33s\n",
      "216:\tlearn: 1593.0282597\ttotal: 3.45s\tremaining: 1.32s\n",
      "217:\tlearn: 1592.6127743\ttotal: 3.46s\tremaining: 1.3s\n",
      "218:\tlearn: 1592.2210393\ttotal: 3.48s\tremaining: 1.29s\n",
      "219:\tlearn: 1591.9144488\ttotal: 3.5s\tremaining: 1.27s\n",
      "220:\tlearn: 1591.5532930\ttotal: 3.51s\tremaining: 1.26s\n",
      "221:\tlearn: 1591.1341565\ttotal: 3.53s\tremaining: 1.24s\n",
      "222:\tlearn: 1590.6364936\ttotal: 3.54s\tremaining: 1.22s\n",
      "223:\tlearn: 1590.3135065\ttotal: 3.56s\tremaining: 1.21s\n",
      "224:\tlearn: 1589.9699521\ttotal: 3.57s\tremaining: 1.19s\n",
      "225:\tlearn: 1589.4909086\ttotal: 3.59s\tremaining: 1.17s\n",
      "226:\tlearn: 1589.2657575\ttotal: 3.6s\tremaining: 1.16s\n",
      "227:\tlearn: 1588.9394840\ttotal: 3.62s\tremaining: 1.14s\n",
      "228:\tlearn: 1588.6605992\ttotal: 3.63s\tremaining: 1.13s\n",
      "229:\tlearn: 1588.2535657\ttotal: 3.65s\tremaining: 1.11s\n",
      "230:\tlearn: 1587.9037060\ttotal: 3.67s\tremaining: 1.09s\n",
      "231:\tlearn: 1587.4294116\ttotal: 3.68s\tremaining: 1.08s\n",
      "232:\tlearn: 1587.1192756\ttotal: 3.7s\tremaining: 1.06s\n",
      "233:\tlearn: 1586.9054035\ttotal: 3.71s\tremaining: 1.05s\n",
      "234:\tlearn: 1586.5930536\ttotal: 3.73s\tremaining: 1.03s\n",
      "235:\tlearn: 1585.9785500\ttotal: 3.74s\tremaining: 1.01s\n",
      "236:\tlearn: 1585.6295917\ttotal: 3.76s\tremaining: 999ms\n",
      "237:\tlearn: 1585.3827337\ttotal: 3.77s\tremaining: 983ms\n",
      "238:\tlearn: 1585.1794276\ttotal: 3.79s\tremaining: 967ms\n",
      "239:\tlearn: 1584.7516156\ttotal: 3.8s\tremaining: 951ms\n",
      "240:\tlearn: 1584.1587621\ttotal: 3.81s\tremaining: 934ms\n",
      "241:\tlearn: 1583.8481500\ttotal: 3.83s\tremaining: 918ms\n",
      "242:\tlearn: 1583.4095976\ttotal: 3.85s\tremaining: 902ms\n",
      "243:\tlearn: 1583.0860992\ttotal: 3.86s\tremaining: 886ms\n",
      "244:\tlearn: 1582.8521470\ttotal: 3.88s\tremaining: 870ms\n",
      "245:\tlearn: 1582.5277181\ttotal: 3.89s\tremaining: 854ms\n",
      "246:\tlearn: 1582.1037538\ttotal: 3.91s\tremaining: 838ms\n",
      "247:\tlearn: 1581.7241530\ttotal: 3.92s\tremaining: 822ms\n",
      "248:\tlearn: 1581.2343890\ttotal: 3.94s\tremaining: 806ms\n",
      "249:\tlearn: 1580.8188734\ttotal: 3.95s\tremaining: 791ms\n",
      "250:\tlearn: 1580.3520173\ttotal: 3.97s\tremaining: 775ms\n",
      "251:\tlearn: 1580.0747969\ttotal: 3.98s\tremaining: 759ms\n",
      "252:\tlearn: 1579.6137639\ttotal: 4s\tremaining: 743ms\n",
      "253:\tlearn: 1579.4144073\ttotal: 4.01s\tremaining: 727ms\n",
      "254:\tlearn: 1578.9302680\ttotal: 4.03s\tremaining: 711ms\n",
      "255:\tlearn: 1578.6705483\ttotal: 4.04s\tremaining: 695ms\n",
      "256:\tlearn: 1578.3823636\ttotal: 4.06s\tremaining: 679ms\n",
      "257:\tlearn: 1577.9804918\ttotal: 4.08s\tremaining: 664ms\n",
      "258:\tlearn: 1577.4056372\ttotal: 4.09s\tremaining: 648ms\n",
      "259:\tlearn: 1577.1613393\ttotal: 4.11s\tremaining: 632ms\n",
      "260:\tlearn: 1576.8609014\ttotal: 4.12s\tremaining: 616ms\n",
      "261:\tlearn: 1576.5972221\ttotal: 4.14s\tremaining: 600ms\n",
      "262:\tlearn: 1576.4249392\ttotal: 4.15s\tremaining: 584ms\n",
      "263:\tlearn: 1576.0495256\ttotal: 4.17s\tremaining: 569ms\n",
      "264:\tlearn: 1575.6300083\ttotal: 4.18s\tremaining: 553ms\n",
      "265:\tlearn: 1575.3531709\ttotal: 4.2s\tremaining: 537ms\n",
      "266:\tlearn: 1575.0895578\ttotal: 4.21s\tremaining: 521ms\n",
      "267:\tlearn: 1574.9197158\ttotal: 4.23s\tremaining: 505ms\n",
      "268:\tlearn: 1574.5503064\ttotal: 4.24s\tremaining: 489ms\n",
      "269:\tlearn: 1574.3630642\ttotal: 4.26s\tremaining: 473ms\n",
      "270:\tlearn: 1573.7972081\ttotal: 4.28s\tremaining: 458ms\n",
      "271:\tlearn: 1573.4041997\ttotal: 4.29s\tremaining: 442ms\n",
      "272:\tlearn: 1573.2125811\ttotal: 4.31s\tremaining: 426ms\n",
      "273:\tlearn: 1572.9034524\ttotal: 4.33s\tremaining: 410ms\n",
      "274:\tlearn: 1572.6773028\ttotal: 4.34s\tremaining: 394ms\n",
      "275:\tlearn: 1572.0153443\ttotal: 4.35s\tremaining: 379ms\n",
      "276:\tlearn: 1571.4167007\ttotal: 4.37s\tremaining: 363ms\n",
      "277:\tlearn: 1571.0007369\ttotal: 4.38s\tremaining: 347ms\n",
      "278:\tlearn: 1570.7058207\ttotal: 4.4s\tremaining: 331ms\n",
      "279:\tlearn: 1570.4166757\ttotal: 4.41s\tremaining: 315ms\n",
      "280:\tlearn: 1570.0619312\ttotal: 4.42s\tremaining: 299ms\n",
      "281:\tlearn: 1569.6964723\ttotal: 4.44s\tremaining: 283ms\n",
      "282:\tlearn: 1569.4229030\ttotal: 4.46s\tremaining: 268ms\n",
      "283:\tlearn: 1569.1457440\ttotal: 4.47s\tremaining: 252ms\n",
      "284:\tlearn: 1568.7320478\ttotal: 4.49s\tremaining: 236ms\n",
      "285:\tlearn: 1568.4616677\ttotal: 4.51s\tremaining: 221ms\n",
      "286:\tlearn: 1568.1883551\ttotal: 4.52s\tremaining: 205ms\n",
      "287:\tlearn: 1567.7672337\ttotal: 4.54s\tremaining: 189ms\n",
      "288:\tlearn: 1567.4925751\ttotal: 4.56s\tremaining: 173ms\n",
      "289:\tlearn: 1567.0341774\ttotal: 4.57s\tremaining: 158ms\n",
      "290:\tlearn: 1566.7672638\ttotal: 4.58s\tremaining: 142ms\n",
      "291:\tlearn: 1566.3912556\ttotal: 4.6s\tremaining: 126ms\n",
      "292:\tlearn: 1566.1035955\ttotal: 4.61s\tremaining: 110ms\n",
      "293:\tlearn: 1565.4215717\ttotal: 4.63s\tremaining: 94.5ms\n",
      "294:\tlearn: 1564.9341938\ttotal: 4.64s\tremaining: 78.7ms\n",
      "295:\tlearn: 1564.4728965\ttotal: 4.66s\tremaining: 63ms\n",
      "296:\tlearn: 1564.2408697\ttotal: 4.68s\tremaining: 47.2ms\n",
      "297:\tlearn: 1564.0018686\ttotal: 4.69s\tremaining: 31.5ms\n",
      "298:\tlearn: 1563.7721004\ttotal: 4.71s\tremaining: 15.7ms\n",
      "299:\tlearn: 1563.5079903\ttotal: 4.72s\tremaining: 0us\n",
      "Best parameters:  {'regressor__learning_rate': 0.1, 'regressor__n_estimators': 300}\n",
      "Best cross-validation score:  1590.8927127894294\n"
     ]
    }
   ],
   "source": [
    "pipe_ct = Pipeline(steps=[\n",
    "    ('preprocessor', preprocessor),\n",
    "    ('regressor', CatBoostRegressor(random_state=RANDOM_STATE))\n",
    "])\n",
    "\n",
    "param_grid = {\n",
    "    'regressor__learning_rate': [0.1, 0,3, 0.01],\n",
    "    'regressor__n_estimators': range(100, 301, 100),\n",
    "}\n",
    "\n",
    "grid_search_cb = GridSearchCV(pipe_ct, param_grid=param_grid, cv=5, scoring='neg_root_mean_squared_error', n_jobs=-1)\n",
    "\n",
    "grid_search_cb.fit(X_train, y_train)\n",
    "\n",
    "print(\"Best parameters: \", grid_search_cb.best_params_)\n",
    "print(\"Best cross-validation score: \", -grid_search_cb.best_score_)"
   ]
  },
  {
   "cell_type": "code",
   "execution_count": 74,
   "metadata": {},
   "outputs": [
    {
     "name": "stdout",
     "output_type": "stream",
     "text": [
      "Среднее время обучения Catboost: 23.025667226314543\n",
      "Среднее время предсказания Catboost: 0.5421404321988424\n"
     ]
    }
   ],
   "source": [
    "cv_results_cb = grid_search_cb.cv_results_\n",
    "print(\"Среднее время обучения Catboost:\", cv_results_cb['mean_fit_time'].mean())\n",
    "print(\"Среднее время предсказания Catboost:\", cv_results_cb['mean_score_time'].mean())"
   ]
  },
  {
   "cell_type": "markdown",
   "metadata": {},
   "source": [
    "**LGBMRegressor**"
   ]
  },
  {
   "cell_type": "code",
   "execution_count": 75,
   "metadata": {},
   "outputs": [
    {
     "name": "stdout",
     "output_type": "stream",
     "text": [
      "[LightGBM] [Warning] Accuracy may be bad since you didn't explicitly set num_leaves OR 2^max_depth > num_leaves. (num_leaves=31).\n",
      "[LightGBM] [Warning] Accuracy may be bad since you didn't explicitly set num_leaves OR 2^max_depth > num_leaves. (num_leaves=31).\n",
      "[LightGBM] [Info] Auto-choosing row-wise multi-threading, the overhead of testing was 0.005044 seconds.\n",
      "You can set `force_row_wise=true` to remove the overhead.\n",
      "And if memory is not enough, you can set `force_col_wise=true`.\n",
      "[LightGBM] [Info] Total Bins 615\n",
      "[LightGBM] [Info] Number of data points in the train set: 218176, number of used features: 9\n",
      "[LightGBM] [Info] Start training from score 4836.314815\n",
      "Best parameters:  {'regressor__learning_rate': 0.2, 'regressor__max_depth': 15, 'regressor__n_estimators': 350}\n",
      "Best cross-validation score:  1491.7930733661465\n"
     ]
    }
   ],
   "source": [
    "pipe_lgbm = Pipeline(steps=[\n",
    "    ('preprocessor', preprocessor),\n",
    "    ('regressor', LGBMRegressor(random_state=RANDOM_STATE))\n",
    "])\n",
    "\n",
    "param_grid = {\n",
    "    'regressor__learning_rate': [0.1, 0.2],\n",
    "    'regressor__n_estimators' : range(100, 400, 50),\n",
    "    'regressor__max_depth' : range(10, 16 , 5),\n",
    "}\n",
    "\n",
    "grid_search_lgbm = GridSearchCV(pipe_lgbm, param_grid=param_grid, cv=5, scoring='neg_root_mean_squared_error', n_jobs=-1)\n",
    "\n",
    "grid_search_lgbm.fit(X_train, y_train)\n",
    "\n",
    "print(\"Best parameters: \", grid_search_lgbm.best_params_)\n",
    "print(\"Best cross-validation score: \", -grid_search_lgbm.best_score_)"
   ]
  },
  {
   "cell_type": "code",
   "execution_count": 76,
   "metadata": {},
   "outputs": [
    {
     "name": "stdout",
     "output_type": "stream",
     "text": [
      "Среднее время обучения LGBM: 28.02156527042389\n",
      "Среднее время предсказания LGBM: 0.33748795191446934\n"
     ]
    }
   ],
   "source": [
    "cv_results_lgbm = grid_search_lgbm.cv_results_\n",
    "print(\"Среднее время обучения LGBM:\", cv_results_lgbm['mean_fit_time'].mean())\n",
    "print(\"Среднее время предсказания LGBM:\", cv_results_lgbm['mean_score_time'].mean())"
   ]
  },
  {
   "cell_type": "code",
   "execution_count": 77,
   "metadata": {},
   "outputs": [
    {
     "name": "stdout",
     "output_type": "stream",
     "text": [
      "Best parameters:  {'regressor__alpha': 0.1}\n",
      "Best cross-validation score:  2619.918100228254\n"
     ]
    }
   ],
   "source": [
    "pipe_rg = Pipeline(steps=[\n",
    "    ('preprocessor', preprocessor),\n",
    "    ('regressor', Ridge(random_state=RANDOM_STATE))\n",
    "])\n",
    "\n",
    "param_grid = {'regressor__alpha': [.1, 1, 10]}\n",
    "\n",
    "grid_search_rg = GridSearchCV(pipe_rg, param_grid=param_grid, cv=5, scoring='neg_root_mean_squared_error', n_jobs=-1)\n",
    "\n",
    "grid_search_rg.fit(X_train, y_train)\n",
    "\n",
    "print(\"Best parameters: \", grid_search_rg.best_params_)\n",
    "print(\"Best cross-validation score: \", -grid_search_rg.best_score_)"
   ]
  },
  {
   "cell_type": "code",
   "execution_count": 78,
   "metadata": {},
   "outputs": [
    {
     "name": "stdout",
     "output_type": "stream",
     "text": [
      "Среднее время обучения Ridge: 2.1389007091522214\n",
      "Среднее время предсказания Ridge: 0.18780361811319987\n"
     ]
    }
   ],
   "source": [
    "cv_results_rg = grid_search_rg.cv_results_\n",
    "print(\"Среднее время обучения Ridge:\", cv_results_rg['mean_fit_time'].mean())\n",
    "print(\"Среднее время предсказания Ridge:\", cv_results_rg['mean_score_time'].mean())"
   ]
  },
  {
   "cell_type": "markdown",
   "metadata": {},
   "source": [
    "На этом этапе мы обучили и протестировали модели:  \n",
    "\n",
    "LinearRegression  \n",
    "LGBMRegressor  \n",
    "CatBoostRegressor  \n",
    "Ridge  \n",
    "\n",
    "Подобрали гиперпараметры при помощи GridSearchCV.  \n",
    "\n",
    "По результатам тестирования моделей:  \n",
    "На первом месте по RMSE LGBMRegressor, показавший неплохое время на подбор гиперпараметров и обучение  \n",
    "На втором месте по RMSE CatBoostRegressor.\n",
    "Проведем бэггинг и анализ моделей по лучшим моделям.\n",
    "Остальные модели не отвечают нашим критериям  "
   ]
  },
  {
   "cell_type": "markdown",
   "metadata": {},
   "source": [
    "## Анализ моделей"
   ]
  },
  {
   "cell_type": "markdown",
   "metadata": {},
   "source": [
    "Создадим бэггинг из лучших моделей"
   ]
  },
  {
   "cell_type": "markdown",
   "metadata": {},
   "source": [
    "**LGBMRegressor & CatBoostRegression Bagging**"
   ]
  },
  {
   "cell_type": "code",
   "execution_count": 79,
   "metadata": {},
   "outputs": [
    {
     "name": "stdout",
     "output_type": "stream",
     "text": [
      "[LightGBM] [Warning] Accuracy may be bad since you didn't explicitly set num_leaves OR 2^max_depth > num_leaves. (num_leaves=31).\n",
      "[LightGBM] [Warning] Accuracy may be bad since you didn't explicitly set num_leaves OR 2^max_depth > num_leaves. (num_leaves=31).\n",
      "[LightGBM] [Info] Auto-choosing row-wise multi-threading, the overhead of testing was 0.004477 seconds.\n",
      "You can set `force_row_wise=true` to remove the overhead.\n",
      "And if memory is not enough, you can set `force_col_wise=true`.\n",
      "[LightGBM] [Info] Total Bins 616\n",
      "[LightGBM] [Info] Number of data points in the train set: 218176, number of used features: 9\n",
      "[LightGBM] [Info] Start training from score 4840.554937\n",
      "[LightGBM] [Warning] Accuracy may be bad since you didn't explicitly set num_leaves OR 2^max_depth > num_leaves. (num_leaves=31).\n",
      "[LightGBM] [Warning] Accuracy may be bad since you didn't explicitly set num_leaves OR 2^max_depth > num_leaves. (num_leaves=31).\n",
      "[LightGBM] [Info] Auto-choosing row-wise multi-threading, the overhead of testing was 0.005255 seconds.\n",
      "You can set `force_row_wise=true` to remove the overhead.\n",
      "And if memory is not enough, you can set `force_col_wise=true`.\n",
      "[LightGBM] [Info] Total Bins 616\n",
      "[LightGBM] [Info] Number of data points in the train set: 218176, number of used features: 9\n",
      "[LightGBM] [Info] Start training from score 4838.089024\n",
      "[LightGBM] [Warning] Accuracy may be bad since you didn't explicitly set num_leaves OR 2^max_depth > num_leaves. (num_leaves=31).\n",
      "[LightGBM] [Warning] Accuracy may be bad since you didn't explicitly set num_leaves OR 2^max_depth > num_leaves. (num_leaves=31).\n",
      "[LightGBM] [Info] Auto-choosing row-wise multi-threading, the overhead of testing was 0.004008 seconds.\n",
      "You can set `force_row_wise=true` to remove the overhead.\n",
      "And if memory is not enough, you can set `force_col_wise=true`.\n",
      "[LightGBM] [Info] Total Bins 617\n",
      "[LightGBM] [Info] Number of data points in the train set: 218176, number of used features: 9\n",
      "[LightGBM] [Info] Start training from score 4823.854407\n",
      "[LightGBM] [Warning] Accuracy may be bad since you didn't explicitly set num_leaves OR 2^max_depth > num_leaves. (num_leaves=31).\n",
      "[LightGBM] [Warning] Accuracy may be bad since you didn't explicitly set num_leaves OR 2^max_depth > num_leaves. (num_leaves=31).\n",
      "[LightGBM] [Info] Auto-choosing row-wise multi-threading, the overhead of testing was 0.005332 seconds.\n",
      "You can set `force_row_wise=true` to remove the overhead.\n",
      "And if memory is not enough, you can set `force_col_wise=true`.\n",
      "[LightGBM] [Info] Total Bins 615\n",
      "[LightGBM] [Info] Number of data points in the train set: 218176, number of used features: 9\n",
      "[LightGBM] [Info] Start training from score 4837.797274\n",
      "[LightGBM] [Warning] Accuracy may be bad since you didn't explicitly set num_leaves OR 2^max_depth > num_leaves. (num_leaves=31).\n",
      "[LightGBM] [Warning] Accuracy may be bad since you didn't explicitly set num_leaves OR 2^max_depth > num_leaves. (num_leaves=31).\n",
      "[LightGBM] [Info] Auto-choosing row-wise multi-threading, the overhead of testing was 0.005312 seconds.\n",
      "You can set `force_row_wise=true` to remove the overhead.\n",
      "And if memory is not enough, you can set `force_col_wise=true`.\n",
      "[LightGBM] [Info] Total Bins 615\n",
      "[LightGBM] [Info] Number of data points in the train set: 218176, number of used features: 9\n",
      "[LightGBM] [Info] Start training from score 4843.203886\n",
      "[LightGBM] [Warning] Accuracy may be bad since you didn't explicitly set num_leaves OR 2^max_depth > num_leaves. (num_leaves=31).\n",
      "[LightGBM] [Warning] Accuracy may be bad since you didn't explicitly set num_leaves OR 2^max_depth > num_leaves. (num_leaves=31).\n",
      "[LightGBM] [Info] Auto-choosing row-wise multi-threading, the overhead of testing was 0.005068 seconds.\n",
      "You can set `force_row_wise=true` to remove the overhead.\n",
      "And if memory is not enough, you can set `force_col_wise=true`.\n",
      "[LightGBM] [Info] Total Bins 617\n",
      "[LightGBM] [Info] Number of data points in the train set: 218176, number of used features: 9\n",
      "[LightGBM] [Info] Start training from score 4831.578542\n",
      "Best cross-validation score:  1480.3673573118638\n"
     ]
    }
   ],
   "source": [
    "#создадим базовые модели\n",
    "catboost = CatBoostRegressor(learning_rate=0.1, n_estimators=300, random_state=RANDOM_STATE)\n",
    "lgbm = LGBMRegressor(learning_rate=0.2, max_depth=15, n_estimators=350, random_state=RANDOM_STATE)\n",
    "\n",
    "#создадим бэггинг-модель\n",
    "bagging = BaggingRegressor(base_estimator=lgbm, n_estimators=6)\n",
    "\n",
    "pipeline = Pipeline([\n",
    "    ('preprocessor', preprocessor),\n",
    "    ('bagging', bagging)\n",
    "])\n",
    "\n",
    "param_grid = { }\n",
    "\n",
    "search_bagging = GridSearchCV(pipeline, param_grid=param_grid, cv=5, scoring='neg_root_mean_squared_error', n_jobs=-1, refit=True)\n",
    "\n",
    "search_bagging.fit(X_train, y_train)\n",
    "\n",
    "print(\"Best cross-validation score: \", -search_bagging.best_score_)"
   ]
  },
  {
   "cell_type": "code",
   "execution_count": 80,
   "metadata": {},
   "outputs": [
    {
     "name": "stdout",
     "output_type": "stream",
     "text": [
      "Среднее время обучения Bagging: 37.19268174171448\n",
      "Среднее время предсказания Bagging: 1.0474422931671143\n"
     ]
    }
   ],
   "source": [
    "cv_results_bagging = search_bagging.cv_results_\n",
    "print(\"Среднее время обучения Bagging:\", cv_results_bagging['mean_fit_time'].mean())\n",
    "print(\"Среднее время предсказания Bagging:\", cv_results_bagging['mean_score_time'].mean())"
   ]
  },
  {
   "cell_type": "markdown",
   "metadata": {},
   "source": [
    "Создадим константную модель для проверки адекватности наших моделей"
   ]
  },
  {
   "cell_type": "code",
   "execution_count": 81,
   "metadata": {},
   "outputs": [
    {
     "name": "stdout",
     "output_type": "stream",
     "text": [
      "RMSE DummyRegressor равен: 4607.65\n"
     ]
    }
   ],
   "source": [
    "dummy = Pipeline(steps=[\n",
    "    ('preprocessor', preprocessor),\n",
    "    ('regressor',DummyRegressor(strategy=\"mean\"))\n",
    "])\n",
    "\n",
    "dummy.fit(X_train, y_train)\n",
    "\n",
    "test_model = dummy.predict(X_test)\n",
    "\n",
    "RMSE = mean_squared_error(y_test, test_model, squared=False)\n",
    "\n",
    "print('RMSE DummyRegressor равен:', round(RMSE, 2))"
   ]
  },
  {
   "cell_type": "markdown",
   "metadata": {},
   "source": [
    "Проверим **LGBMRegressor** на тестовой выборке"
   ]
  },
  {
   "cell_type": "code",
   "execution_count": 82,
   "metadata": {},
   "outputs": [
    {
     "name": "stdout",
     "output_type": "stream",
     "text": [
      "[LightGBM] [Warning] Accuracy may be bad since you didn't explicitly set num_leaves OR 2^max_depth > num_leaves. (num_leaves=31).\n",
      "[LightGBM] [Warning] Accuracy may be bad since you didn't explicitly set num_leaves OR 2^max_depth > num_leaves. (num_leaves=31).\n",
      "[LightGBM] [Warning] Accuracy may be bad since you didn't explicitly set num_leaves OR 2^max_depth > num_leaves. (num_leaves=31).\n",
      "[LightGBM] [Warning] Accuracy may be bad since you didn't explicitly set num_leaves OR 2^max_depth > num_leaves. (num_leaves=31).\n",
      "[LightGBM] [Warning] Accuracy may be bad since you didn't explicitly set num_leaves OR 2^max_depth > num_leaves. (num_leaves=31).\n",
      "[LightGBM] [Warning] Accuracy may be bad since you didn't explicitly set num_leaves OR 2^max_depth > num_leaves. (num_leaves=31).\n",
      "RMSE bagging тест равен: 1494.53\n",
      "Wall time: 1.21 s\n"
     ]
    }
   ],
   "source": [
    "%%time\n",
    "bg_test = search_bagging.best_estimator_.predict(X_test)\n",
    "RMSE = mean_squared_error(y_test, bg_test, squared=False)\n",
    "print('RMSE bagging тест равен:', round(RMSE, 2))"
   ]
  },
  {
   "cell_type": "code",
   "execution_count": 83,
   "metadata": {},
   "outputs": [
    {
     "name": "stdout",
     "output_type": "stream",
     "text": [
      "[LightGBM] [Warning] Accuracy may be bad since you didn't explicitly set num_leaves OR 2^max_depth > num_leaves. (num_leaves=31).\n",
      "RMSE LGBM тест равен: 1504.01\n",
      "Wall time: 508 ms\n"
     ]
    }
   ],
   "source": [
    "%%time\n",
    "test_lg = grid_search_lgbm.best_estimator_.predict(X_test)\n",
    "RMSE = mean_squared_error(y_test, test_lg, squared=False)\n",
    "print('RMSE LGBM тест равен:', round(RMSE, 2))"
   ]
  },
  {
   "cell_type": "markdown",
   "metadata": {},
   "source": [
    "Выбранные модели точно адекватны по сравнению с константной."
   ]
  },
  {
   "cell_type": "markdown",
   "metadata": {},
   "source": [
    "**Вывод**   \n",
    "В процессе работы над проектом:\n",
    "\n",
    "- Загрузили и изучили данные     \n",
    "- Заполнили пропущенные значения и обработать аномалии в признаках. Удалили неинформативные признаки  \n",
    "- Подготовили выборки для обучения моделей \n",
    "- Обучили модели:  \n",
    "  линейные: LinearRegression и Ridge    \n",
    "  бустинги: LGBMRegressor, CatBoostRegressor  \n",
    "- Проанализировали время обучения, время предсказания и качество моделей.  \n",
    "Лучше всего себя себя показал LGBMRegressor:    \n",
    "На тренировочной выборке: RMSE: 1491.8, Время обучения: 8.38с, время предсказания L: 1.11с.  \n",
    "На тестовой выборке: RMSE: 1504.01, Время предсказания: 1.89с.  \n",
    "Опираясь на критерии заказчика, можно рекомендовать сервису «Не бит, не крашен» обученую модель LGBMRegressor."
   ]
  }
 ],
 "metadata": {
  "ExecuteTimeLog": [
   {
    "duration": 1477,
    "start_time": "2023-10-08T19:49:06.180Z"
   },
   {
    "duration": 92,
    "start_time": "2023-10-08T19:50:00.153Z"
   },
   {
    "duration": 141,
    "start_time": "2023-10-08T19:50:11.528Z"
   },
   {
    "duration": 88,
    "start_time": "2023-10-08T19:50:21.966Z"
   },
   {
    "duration": 1086,
    "start_time": "2023-10-08T19:50:33.782Z"
   },
   {
    "duration": 4252,
    "start_time": "2023-10-08T19:51:06.691Z"
   },
   {
    "duration": 4198,
    "start_time": "2023-10-08T19:51:30.870Z"
   },
   {
    "duration": 20,
    "start_time": "2023-10-08T19:52:41.296Z"
   },
   {
    "duration": 79,
    "start_time": "2023-10-08T19:52:52.584Z"
   },
   {
    "duration": 811,
    "start_time": "2023-10-08T19:54:19.769Z"
   },
   {
    "duration": 11,
    "start_time": "2023-10-08T19:54:20.582Z"
   },
   {
    "duration": 9,
    "start_time": "2023-10-08T19:54:50.679Z"
   },
   {
    "duration": 5,
    "start_time": "2023-10-08T19:54:55.656Z"
   },
   {
    "duration": 789,
    "start_time": "2023-10-08T19:54:57.031Z"
   },
   {
    "duration": 10,
    "start_time": "2023-10-08T19:54:57.822Z"
   },
   {
    "duration": 15,
    "start_time": "2023-10-08T19:57:35.394Z"
   },
   {
    "duration": 12,
    "start_time": "2023-10-08T19:58:00.593Z"
   },
   {
    "duration": 1483,
    "start_time": "2023-10-08T19:58:22.710Z"
   },
   {
    "duration": 832,
    "start_time": "2023-10-08T19:58:24.195Z"
   },
   {
    "duration": 109,
    "start_time": "2023-10-08T19:58:25.378Z"
   },
   {
    "duration": 135,
    "start_time": "2023-10-08T19:58:29.942Z"
   },
   {
    "duration": 2109,
    "start_time": "2023-10-09T17:26:28.483Z"
   },
   {
    "duration": 3802,
    "start_time": "2023-10-09T17:26:30.594Z"
   },
   {
    "duration": 5,
    "start_time": "2023-10-09T17:26:34.398Z"
   },
   {
    "duration": 1103,
    "start_time": "2023-10-09T17:26:34.406Z"
   },
   {
    "duration": 10,
    "start_time": "2023-10-09T17:34:08.683Z"
   },
   {
    "duration": 48,
    "start_time": "2023-10-09T17:34:11.386Z"
   },
   {
    "duration": 8,
    "start_time": "2023-10-09T17:34:13.653Z"
   },
   {
    "duration": 1873,
    "start_time": "2023-10-09T17:34:24.261Z"
   },
   {
    "duration": 3313,
    "start_time": "2023-10-09T17:34:26.136Z"
   },
   {
    "duration": 5,
    "start_time": "2023-10-09T17:34:29.451Z"
   },
   {
    "duration": 1109,
    "start_time": "2023-10-09T17:34:29.458Z"
   },
   {
    "duration": 2014,
    "start_time": "2023-10-09T17:37:57.967Z"
   },
   {
    "duration": 1212,
    "start_time": "2023-10-09T17:37:59.983Z"
   },
   {
    "duration": 5,
    "start_time": "2023-10-09T17:38:01.196Z"
   },
   {
    "duration": 1273,
    "start_time": "2023-10-09T17:38:01.203Z"
   },
   {
    "duration": 3,
    "start_time": "2023-10-09T17:38:02.478Z"
   },
   {
    "duration": 340,
    "start_time": "2023-10-09T17:38:02.483Z"
   },
   {
    "duration": 0,
    "start_time": "2023-10-09T17:38:02.828Z"
   },
   {
    "duration": 0,
    "start_time": "2023-10-09T17:38:02.830Z"
   },
   {
    "duration": 0,
    "start_time": "2023-10-09T17:38:02.831Z"
   },
   {
    "duration": 0,
    "start_time": "2023-10-09T17:38:02.832Z"
   },
   {
    "duration": 0,
    "start_time": "2023-10-09T17:38:02.833Z"
   },
   {
    "duration": 0,
    "start_time": "2023-10-09T17:38:02.834Z"
   },
   {
    "duration": 0,
    "start_time": "2023-10-09T17:38:02.835Z"
   },
   {
    "duration": 0,
    "start_time": "2023-10-09T17:38:02.837Z"
   },
   {
    "duration": 0,
    "start_time": "2023-10-09T17:38:02.839Z"
   },
   {
    "duration": 0,
    "start_time": "2023-10-09T17:38:02.840Z"
   },
   {
    "duration": 0,
    "start_time": "2023-10-09T17:38:02.842Z"
   },
   {
    "duration": 0,
    "start_time": "2023-10-09T17:38:02.862Z"
   },
   {
    "duration": 0,
    "start_time": "2023-10-09T17:38:02.863Z"
   },
   {
    "duration": 0,
    "start_time": "2023-10-09T17:38:02.868Z"
   },
   {
    "duration": 0,
    "start_time": "2023-10-09T17:38:02.869Z"
   },
   {
    "duration": 0,
    "start_time": "2023-10-09T17:38:02.872Z"
   },
   {
    "duration": 0,
    "start_time": "2023-10-09T17:38:02.874Z"
   },
   {
    "duration": 0,
    "start_time": "2023-10-09T17:38:02.875Z"
   },
   {
    "duration": 0,
    "start_time": "2023-10-09T17:38:02.876Z"
   },
   {
    "duration": 0,
    "start_time": "2023-10-09T17:38:02.876Z"
   },
   {
    "duration": 0,
    "start_time": "2023-10-09T17:38:02.879Z"
   },
   {
    "duration": 0,
    "start_time": "2023-10-09T17:38:02.880Z"
   },
   {
    "duration": 0,
    "start_time": "2023-10-09T17:38:02.882Z"
   },
   {
    "duration": 0,
    "start_time": "2023-10-09T17:38:02.883Z"
   },
   {
    "duration": 0,
    "start_time": "2023-10-09T17:38:02.884Z"
   },
   {
    "duration": 0,
    "start_time": "2023-10-09T17:38:02.885Z"
   },
   {
    "duration": 0,
    "start_time": "2023-10-09T17:38:02.887Z"
   },
   {
    "duration": 0,
    "start_time": "2023-10-09T17:38:02.888Z"
   },
   {
    "duration": 0,
    "start_time": "2023-10-09T17:38:02.889Z"
   },
   {
    "duration": 0,
    "start_time": "2023-10-09T17:38:02.890Z"
   },
   {
    "duration": 0,
    "start_time": "2023-10-09T17:38:02.892Z"
   },
   {
    "duration": 0,
    "start_time": "2023-10-09T17:38:02.893Z"
   },
   {
    "duration": 0,
    "start_time": "2023-10-09T17:38:02.894Z"
   },
   {
    "duration": 0,
    "start_time": "2023-10-09T17:38:02.895Z"
   },
   {
    "duration": 0,
    "start_time": "2023-10-09T17:38:02.896Z"
   },
   {
    "duration": 0,
    "start_time": "2023-10-09T17:38:02.897Z"
   },
   {
    "duration": 0,
    "start_time": "2023-10-09T17:38:02.898Z"
   },
   {
    "duration": 0,
    "start_time": "2023-10-09T17:38:02.899Z"
   },
   {
    "duration": 0,
    "start_time": "2023-10-09T17:38:02.900Z"
   },
   {
    "duration": 0,
    "start_time": "2023-10-09T17:38:02.901Z"
   },
   {
    "duration": 0,
    "start_time": "2023-10-09T17:38:02.902Z"
   },
   {
    "duration": 0,
    "start_time": "2023-10-09T17:38:02.903Z"
   },
   {
    "duration": 0,
    "start_time": "2023-10-09T17:38:02.960Z"
   },
   {
    "duration": 0,
    "start_time": "2023-10-09T17:38:02.961Z"
   },
   {
    "duration": 0,
    "start_time": "2023-10-09T17:38:02.962Z"
   },
   {
    "duration": 0,
    "start_time": "2023-10-09T17:38:02.963Z"
   },
   {
    "duration": 0,
    "start_time": "2023-10-09T17:38:02.963Z"
   },
   {
    "duration": 0,
    "start_time": "2023-10-09T17:38:02.966Z"
   },
   {
    "duration": 0,
    "start_time": "2023-10-09T17:38:02.971Z"
   },
   {
    "duration": 0,
    "start_time": "2023-10-09T17:38:02.974Z"
   },
   {
    "duration": 0,
    "start_time": "2023-10-09T17:38:02.976Z"
   },
   {
    "duration": 0,
    "start_time": "2023-10-09T17:38:02.977Z"
   },
   {
    "duration": 0,
    "start_time": "2023-10-09T17:38:02.978Z"
   },
   {
    "duration": 0,
    "start_time": "2023-10-09T17:38:02.979Z"
   },
   {
    "duration": 0,
    "start_time": "2023-10-09T17:38:02.980Z"
   },
   {
    "duration": 3211,
    "start_time": "2023-10-09T17:38:20.310Z"
   },
   {
    "duration": 1757,
    "start_time": "2023-10-09T17:40:36.802Z"
   },
   {
    "duration": 1149,
    "start_time": "2023-10-09T17:40:38.561Z"
   },
   {
    "duration": 4,
    "start_time": "2023-10-09T17:40:39.712Z"
   },
   {
    "duration": 1105,
    "start_time": "2023-10-09T17:40:39.718Z"
   },
   {
    "duration": 116,
    "start_time": "2023-10-09T17:40:40.825Z"
   },
   {
    "duration": 0,
    "start_time": "2023-10-09T17:40:40.944Z"
   },
   {
    "duration": 0,
    "start_time": "2023-10-09T17:40:40.945Z"
   },
   {
    "duration": 0,
    "start_time": "2023-10-09T17:40:40.946Z"
   },
   {
    "duration": 0,
    "start_time": "2023-10-09T17:40:40.947Z"
   },
   {
    "duration": 0,
    "start_time": "2023-10-09T17:40:40.948Z"
   },
   {
    "duration": 0,
    "start_time": "2023-10-09T17:40:40.949Z"
   },
   {
    "duration": 0,
    "start_time": "2023-10-09T17:40:40.950Z"
   },
   {
    "duration": 0,
    "start_time": "2023-10-09T17:40:40.951Z"
   },
   {
    "duration": 0,
    "start_time": "2023-10-09T17:40:40.952Z"
   },
   {
    "duration": 0,
    "start_time": "2023-10-09T17:40:40.953Z"
   },
   {
    "duration": 0,
    "start_time": "2023-10-09T17:40:40.954Z"
   },
   {
    "duration": 0,
    "start_time": "2023-10-09T17:40:40.955Z"
   },
   {
    "duration": 0,
    "start_time": "2023-10-09T17:40:40.956Z"
   },
   {
    "duration": 0,
    "start_time": "2023-10-09T17:40:40.958Z"
   },
   {
    "duration": 0,
    "start_time": "2023-10-09T17:40:40.959Z"
   },
   {
    "duration": 0,
    "start_time": "2023-10-09T17:40:40.960Z"
   },
   {
    "duration": 0,
    "start_time": "2023-10-09T17:40:40.961Z"
   },
   {
    "duration": 0,
    "start_time": "2023-10-09T17:40:40.963Z"
   },
   {
    "duration": 0,
    "start_time": "2023-10-09T17:40:40.964Z"
   },
   {
    "duration": 0,
    "start_time": "2023-10-09T17:40:40.965Z"
   },
   {
    "duration": 0,
    "start_time": "2023-10-09T17:40:40.966Z"
   },
   {
    "duration": 0,
    "start_time": "2023-10-09T17:40:40.967Z"
   },
   {
    "duration": 0,
    "start_time": "2023-10-09T17:40:40.968Z"
   },
   {
    "duration": 0,
    "start_time": "2023-10-09T17:40:40.969Z"
   },
   {
    "duration": 0,
    "start_time": "2023-10-09T17:40:40.971Z"
   },
   {
    "duration": 0,
    "start_time": "2023-10-09T17:40:40.971Z"
   },
   {
    "duration": 0,
    "start_time": "2023-10-09T17:40:40.973Z"
   },
   {
    "duration": 0,
    "start_time": "2023-10-09T17:40:40.974Z"
   },
   {
    "duration": 0,
    "start_time": "2023-10-09T17:40:40.975Z"
   },
   {
    "duration": 0,
    "start_time": "2023-10-09T17:40:40.976Z"
   },
   {
    "duration": 0,
    "start_time": "2023-10-09T17:40:40.977Z"
   },
   {
    "duration": 0,
    "start_time": "2023-10-09T17:40:40.978Z"
   },
   {
    "duration": 0,
    "start_time": "2023-10-09T17:40:40.979Z"
   },
   {
    "duration": 0,
    "start_time": "2023-10-09T17:40:40.980Z"
   },
   {
    "duration": 0,
    "start_time": "2023-10-09T17:40:40.981Z"
   },
   {
    "duration": 0,
    "start_time": "2023-10-09T17:40:40.982Z"
   },
   {
    "duration": 0,
    "start_time": "2023-10-09T17:40:40.983Z"
   },
   {
    "duration": 0,
    "start_time": "2023-10-09T17:40:40.984Z"
   },
   {
    "duration": 0,
    "start_time": "2023-10-09T17:40:40.985Z"
   },
   {
    "duration": 0,
    "start_time": "2023-10-09T17:40:40.986Z"
   },
   {
    "duration": 0,
    "start_time": "2023-10-09T17:40:40.987Z"
   },
   {
    "duration": 0,
    "start_time": "2023-10-09T17:40:40.988Z"
   },
   {
    "duration": 0,
    "start_time": "2023-10-09T17:40:40.989Z"
   },
   {
    "duration": 0,
    "start_time": "2023-10-09T17:40:40.990Z"
   },
   {
    "duration": 0,
    "start_time": "2023-10-09T17:40:40.991Z"
   },
   {
    "duration": 0,
    "start_time": "2023-10-09T17:40:40.992Z"
   },
   {
    "duration": 0,
    "start_time": "2023-10-09T17:40:40.993Z"
   },
   {
    "duration": 0,
    "start_time": "2023-10-09T17:40:40.994Z"
   },
   {
    "duration": 0,
    "start_time": "2023-10-09T17:40:41.057Z"
   },
   {
    "duration": 0,
    "start_time": "2023-10-09T17:40:41.058Z"
   },
   {
    "duration": 0,
    "start_time": "2023-10-09T17:40:41.059Z"
   },
   {
    "duration": 0,
    "start_time": "2023-10-09T17:40:41.061Z"
   },
   {
    "duration": 0,
    "start_time": "2023-10-09T17:40:41.062Z"
   },
   {
    "duration": 0,
    "start_time": "2023-10-09T17:40:41.063Z"
   },
   {
    "duration": 0,
    "start_time": "2023-10-09T17:40:41.064Z"
   },
   {
    "duration": 0,
    "start_time": "2023-10-09T17:40:41.066Z"
   },
   {
    "duration": 115,
    "start_time": "2023-10-09T17:42:21.767Z"
   },
   {
    "duration": 107,
    "start_time": "2023-10-09T17:42:44.485Z"
   },
   {
    "duration": 1376,
    "start_time": "2023-10-09T17:43:55.359Z"
   },
   {
    "duration": 1137,
    "start_time": "2023-10-09T17:46:53.533Z"
   },
   {
    "duration": 5,
    "start_time": "2023-10-09T17:52:36.479Z"
   },
   {
    "duration": 1101,
    "start_time": "2023-10-09T17:52:37.489Z"
   },
   {
    "duration": 3,
    "start_time": "2023-10-09T17:56:13.765Z"
   },
   {
    "duration": 3033,
    "start_time": "2023-10-09T17:56:15.785Z"
   },
   {
    "duration": 46,
    "start_time": "2023-10-09T18:03:10.989Z"
   },
   {
    "duration": 6,
    "start_time": "2023-10-09T18:07:12.625Z"
   },
   {
    "duration": 7,
    "start_time": "2023-10-09T18:07:32.221Z"
   },
   {
    "duration": 4074,
    "start_time": "2023-10-09T18:15:56.536Z"
   },
   {
    "duration": 125,
    "start_time": "2023-10-09T18:21:24.302Z"
   },
   {
    "duration": 6,
    "start_time": "2023-10-09T18:21:48.124Z"
   },
   {
    "duration": 6,
    "start_time": "2023-10-09T18:22:08.170Z"
   },
   {
    "duration": 1850,
    "start_time": "2023-10-09T18:22:12.897Z"
   },
   {
    "duration": 6,
    "start_time": "2023-10-09T18:22:44.764Z"
   },
   {
    "duration": 6,
    "start_time": "2023-10-09T18:23:21.258Z"
   },
   {
    "duration": 6,
    "start_time": "2023-10-09T18:23:52.260Z"
   },
   {
    "duration": 4477,
    "start_time": "2023-10-09T18:23:56.995Z"
   },
   {
    "duration": 6,
    "start_time": "2023-10-09T18:27:13.659Z"
   },
   {
    "duration": 5,
    "start_time": "2023-10-09T18:27:26.889Z"
   },
   {
    "duration": 964,
    "start_time": "2023-10-09T18:27:27.717Z"
   },
   {
    "duration": 5,
    "start_time": "2023-10-09T18:34:31.979Z"
   },
   {
    "duration": 838,
    "start_time": "2023-10-09T18:34:33.638Z"
   },
   {
    "duration": 6,
    "start_time": "2023-10-09T18:34:48.604Z"
   },
   {
    "duration": 1257,
    "start_time": "2023-10-09T18:34:50.498Z"
   },
   {
    "duration": 13,
    "start_time": "2023-10-09T18:38:44.830Z"
   },
   {
    "duration": 24,
    "start_time": "2023-10-09T18:39:08.400Z"
   },
   {
    "duration": 698,
    "start_time": "2023-10-09T18:41:29.307Z"
   },
   {
    "duration": 15,
    "start_time": "2023-10-09T18:43:33.997Z"
   },
   {
    "duration": 14,
    "start_time": "2023-10-09T18:45:05.547Z"
   },
   {
    "duration": 1751,
    "start_time": "2023-10-09T18:45:54.576Z"
   },
   {
    "duration": 1021,
    "start_time": "2023-10-09T18:45:56.330Z"
   },
   {
    "duration": 5,
    "start_time": "2023-10-09T18:45:57.355Z"
   },
   {
    "duration": 1099,
    "start_time": "2023-10-09T18:45:57.362Z"
   },
   {
    "duration": 3275,
    "start_time": "2023-10-09T18:45:58.463Z"
   },
   {
    "duration": 3,
    "start_time": "2023-10-09T18:46:01.740Z"
   },
   {
    "duration": 88,
    "start_time": "2023-10-09T18:46:01.757Z"
   },
   {
    "duration": 31,
    "start_time": "2023-10-09T18:46:01.848Z"
   },
   {
    "duration": 1604,
    "start_time": "2023-10-09T18:46:04.806Z"
   },
   {
    "duration": 23,
    "start_time": "2023-10-09T18:46:09.606Z"
   },
   {
    "duration": 500,
    "start_time": "2023-10-09T18:46:13.465Z"
   },
   {
    "duration": 374,
    "start_time": "2023-10-09T18:47:01.259Z"
   },
   {
    "duration": 8,
    "start_time": "2023-10-09T18:52:32.197Z"
   },
   {
    "duration": 2107,
    "start_time": "2023-10-09T18:52:46.772Z"
   },
   {
    "duration": 17,
    "start_time": "2023-10-09T18:55:00.150Z"
   },
   {
    "duration": 12,
    "start_time": "2023-10-09T19:02:20.661Z"
   },
   {
    "duration": 145,
    "start_time": "2023-10-09T19:06:04.188Z"
   },
   {
    "duration": 20,
    "start_time": "2023-10-09T19:08:59.086Z"
   },
   {
    "duration": 5,
    "start_time": "2023-10-09T19:10:33.768Z"
   },
   {
    "duration": 476,
    "start_time": "2023-10-09T19:11:48.826Z"
   },
   {
    "duration": 12,
    "start_time": "2023-10-09T19:15:13.796Z"
   },
   {
    "duration": 123,
    "start_time": "2023-10-09T19:15:15.188Z"
   },
   {
    "duration": 121,
    "start_time": "2023-10-09T19:15:27.719Z"
   },
   {
    "duration": 17,
    "start_time": "2023-10-09T19:16:46.513Z"
   },
   {
    "duration": 418,
    "start_time": "2023-10-09T19:18:04.345Z"
   },
   {
    "duration": 9,
    "start_time": "2023-10-09T19:18:16.934Z"
   },
   {
    "duration": 11,
    "start_time": "2023-10-09T19:32:09.726Z"
   },
   {
    "duration": 4,
    "start_time": "2023-10-09T19:32:31.490Z"
   },
   {
    "duration": 392,
    "start_time": "2023-10-09T19:35:33.715Z"
   },
   {
    "duration": 137,
    "start_time": "2023-10-09T19:46:24.991Z"
   },
   {
    "duration": 12,
    "start_time": "2023-10-09T19:47:46.402Z"
   },
   {
    "duration": 1179,
    "start_time": "2023-10-09T19:47:54.961Z"
   },
   {
    "duration": 194,
    "start_time": "2023-10-09T19:51:41.714Z"
   },
   {
    "duration": 166,
    "start_time": "2023-10-09T19:53:53.400Z"
   },
   {
    "duration": 142,
    "start_time": "2023-10-09T19:56:46.779Z"
   },
   {
    "duration": 10,
    "start_time": "2023-10-09T19:58:22.218Z"
   },
   {
    "duration": 53,
    "start_time": "2023-10-09T19:58:28.679Z"
   },
   {
    "duration": 1726,
    "start_time": "2023-10-09T19:59:19.653Z"
   },
   {
    "duration": 939,
    "start_time": "2023-10-09T19:59:21.380Z"
   },
   {
    "duration": 6,
    "start_time": "2023-10-09T19:59:22.321Z"
   },
   {
    "duration": 1354,
    "start_time": "2023-10-09T19:59:22.328Z"
   },
   {
    "duration": 2948,
    "start_time": "2023-10-09T19:59:23.683Z"
   },
   {
    "duration": 3,
    "start_time": "2023-10-09T19:59:26.632Z"
   },
   {
    "duration": 56,
    "start_time": "2023-10-09T19:59:26.637Z"
   },
   {
    "duration": 6,
    "start_time": "2023-10-09T19:59:26.695Z"
   },
   {
    "duration": 1615,
    "start_time": "2023-10-09T19:59:26.703Z"
   },
   {
    "duration": 34,
    "start_time": "2023-10-09T19:59:28.321Z"
   },
   {
    "duration": 447,
    "start_time": "2023-10-09T19:59:28.358Z"
   },
   {
    "duration": 10,
    "start_time": "2023-10-09T19:59:28.807Z"
   },
   {
    "duration": 195,
    "start_time": "2023-10-09T19:59:28.819Z"
   },
   {
    "duration": 21,
    "start_time": "2023-10-09T19:59:29.016Z"
   },
   {
    "duration": 17,
    "start_time": "2023-10-09T19:59:29.039Z"
   },
   {
    "duration": 391,
    "start_time": "2023-10-09T19:59:29.059Z"
   },
   {
    "duration": 12,
    "start_time": "2023-10-09T19:59:29.451Z"
   },
   {
    "duration": 131,
    "start_time": "2023-10-09T19:59:29.464Z"
   },
   {
    "duration": 391,
    "start_time": "2023-10-09T19:59:29.597Z"
   },
   {
    "duration": 7,
    "start_time": "2023-10-09T19:59:29.989Z"
   },
   {
    "duration": 4,
    "start_time": "2023-10-09T19:59:29.998Z"
   },
   {
    "duration": 1213,
    "start_time": "2023-10-09T19:59:30.004Z"
   },
   {
    "duration": 182,
    "start_time": "2023-10-09T19:59:31.218Z"
   },
   {
    "duration": 61,
    "start_time": "2023-10-09T19:59:31.402Z"
   },
   {
    "duration": 147,
    "start_time": "2023-10-09T20:00:59.213Z"
   },
   {
    "duration": 141,
    "start_time": "2023-10-09T20:01:05.453Z"
   },
   {
    "duration": 418,
    "start_time": "2023-10-09T20:01:52.004Z"
   },
   {
    "duration": 165,
    "start_time": "2023-10-09T20:02:26.991Z"
   },
   {
    "duration": 174,
    "start_time": "2023-10-09T20:02:44.194Z"
   },
   {
    "duration": 444,
    "start_time": "2023-10-09T20:03:23.413Z"
   },
   {
    "duration": 743,
    "start_time": "2023-10-09T20:03:41.223Z"
   },
   {
    "duration": 10,
    "start_time": "2023-10-09T20:05:06.202Z"
   },
   {
    "duration": 6,
    "start_time": "2023-10-09T20:05:17.001Z"
   },
   {
    "duration": 135,
    "start_time": "2023-10-09T20:06:36.532Z"
   },
   {
    "duration": 89,
    "start_time": "2023-10-09T20:07:13.916Z"
   },
   {
    "duration": 121,
    "start_time": "2023-10-09T20:07:24.904Z"
   },
   {
    "duration": 9,
    "start_time": "2023-10-09T20:08:13.241Z"
   },
   {
    "duration": 6,
    "start_time": "2023-10-09T20:08:38.790Z"
   },
   {
    "duration": 212,
    "start_time": "2023-10-09T20:08:59.249Z"
   },
   {
    "duration": 114,
    "start_time": "2023-10-09T20:12:49.942Z"
   },
   {
    "duration": 242,
    "start_time": "2023-10-09T20:12:51.439Z"
   },
   {
    "duration": 11,
    "start_time": "2023-10-09T20:13:00.496Z"
   },
   {
    "duration": 5,
    "start_time": "2023-10-09T20:13:11.878Z"
   },
   {
    "duration": 7,
    "start_time": "2023-10-09T20:14:25.849Z"
   },
   {
    "duration": 6,
    "start_time": "2023-10-09T20:14:31.114Z"
   },
   {
    "duration": 4,
    "start_time": "2023-10-09T20:14:53.079Z"
   },
   {
    "duration": 5,
    "start_time": "2023-10-09T20:15:48.786Z"
   },
   {
    "duration": 8,
    "start_time": "2023-10-09T20:16:09.533Z"
   },
   {
    "duration": 5,
    "start_time": "2023-10-09T20:19:00.822Z"
   },
   {
    "duration": 5,
    "start_time": "2023-10-09T20:19:27.413Z"
   },
   {
    "duration": 1726,
    "start_time": "2023-10-09T20:19:28.311Z"
   },
   {
    "duration": 5,
    "start_time": "2023-10-09T20:19:45.233Z"
   },
   {
    "duration": 1925,
    "start_time": "2023-10-09T20:19:46.151Z"
   },
   {
    "duration": 5,
    "start_time": "2023-10-09T20:20:02.453Z"
   },
   {
    "duration": 385,
    "start_time": "2023-10-09T20:20:03.246Z"
   },
   {
    "duration": 5,
    "start_time": "2023-10-09T20:20:20.316Z"
   },
   {
    "duration": 651,
    "start_time": "2023-10-09T20:20:21.182Z"
   },
   {
    "duration": 635,
    "start_time": "2023-10-09T20:22:14.516Z"
   },
   {
    "duration": 23,
    "start_time": "2023-10-09T20:22:19.941Z"
   },
   {
    "duration": 116,
    "start_time": "2023-10-09T20:23:17.391Z"
   },
   {
    "duration": 109,
    "start_time": "2023-10-09T20:23:35.103Z"
   },
   {
    "duration": 10,
    "start_time": "2023-10-09T20:23:36.150Z"
   },
   {
    "duration": 261,
    "start_time": "2023-10-09T20:23:45.812Z"
   },
   {
    "duration": 11,
    "start_time": "2023-10-09T20:23:51.491Z"
   },
   {
    "duration": 4,
    "start_time": "2023-10-09T20:24:08.238Z"
   },
   {
    "duration": 114,
    "start_time": "2023-10-09T20:26:22.375Z"
   },
   {
    "duration": 351,
    "start_time": "2023-10-09T20:28:03.834Z"
   },
   {
    "duration": 3,
    "start_time": "2023-10-09T20:28:06.215Z"
   },
   {
    "duration": 11,
    "start_time": "2023-10-09T20:28:07.891Z"
   },
   {
    "duration": 13,
    "start_time": "2023-10-09T20:28:51.619Z"
   },
   {
    "duration": 4921,
    "start_time": "2023-10-09T20:29:18.111Z"
   },
   {
    "duration": 14,
    "start_time": "2023-10-09T20:37:08.703Z"
   },
   {
    "duration": 4,
    "start_time": "2023-10-09T20:37:26.275Z"
   },
   {
    "duration": 4,
    "start_time": "2023-10-09T20:37:32.908Z"
   },
   {
    "duration": 6,
    "start_time": "2023-10-09T20:37:35.230Z"
   },
   {
    "duration": 7,
    "start_time": "2023-10-09T20:37:38.905Z"
   },
   {
    "duration": 12,
    "start_time": "2023-10-09T20:37:45.069Z"
   },
   {
    "duration": 152,
    "start_time": "2023-10-09T20:38:53.518Z"
   },
   {
    "duration": 113820,
    "start_time": "2023-10-09T20:39:13.246Z"
   },
   {
    "duration": 3,
    "start_time": "2023-10-09T20:51:13.093Z"
   },
   {
    "duration": 4,
    "start_time": "2023-10-09T20:51:16.080Z"
   },
   {
    "duration": 3,
    "start_time": "2023-10-09T20:51:17.328Z"
   },
   {
    "duration": 6,
    "start_time": "2023-10-09T20:51:18.767Z"
   },
   {
    "duration": 8,
    "start_time": "2023-10-09T20:51:20.431Z"
   },
   {
    "duration": 115311,
    "start_time": "2023-10-09T20:51:22.571Z"
   },
   {
    "duration": 179,
    "start_time": "2023-10-09T20:59:18.972Z"
   },
   {
    "duration": 1860,
    "start_time": "2023-10-11T12:39:18.504Z"
   },
   {
    "duration": 2955,
    "start_time": "2023-10-11T12:39:20.367Z"
   },
   {
    "duration": 8,
    "start_time": "2023-10-11T12:39:23.324Z"
   },
   {
    "duration": 1243,
    "start_time": "2023-10-11T12:39:23.334Z"
   },
   {
    "duration": 2541,
    "start_time": "2023-10-11T12:39:24.578Z"
   },
   {
    "duration": 2,
    "start_time": "2023-10-11T12:39:27.121Z"
   },
   {
    "duration": 75,
    "start_time": "2023-10-11T12:39:27.125Z"
   },
   {
    "duration": 7,
    "start_time": "2023-10-11T12:39:27.202Z"
   },
   {
    "duration": 157,
    "start_time": "2023-10-11T12:39:27.211Z"
   },
   {
    "duration": 0,
    "start_time": "2023-10-11T12:39:27.371Z"
   },
   {
    "duration": 0,
    "start_time": "2023-10-11T12:39:27.372Z"
   },
   {
    "duration": 0,
    "start_time": "2023-10-11T12:39:27.373Z"
   },
   {
    "duration": 0,
    "start_time": "2023-10-11T12:39:27.374Z"
   },
   {
    "duration": 0,
    "start_time": "2023-10-11T12:39:27.375Z"
   },
   {
    "duration": 0,
    "start_time": "2023-10-11T12:39:27.377Z"
   },
   {
    "duration": 0,
    "start_time": "2023-10-11T12:39:27.378Z"
   },
   {
    "duration": 0,
    "start_time": "2023-10-11T12:39:27.379Z"
   },
   {
    "duration": 0,
    "start_time": "2023-10-11T12:39:27.380Z"
   },
   {
    "duration": 0,
    "start_time": "2023-10-11T12:39:27.381Z"
   },
   {
    "duration": 0,
    "start_time": "2023-10-11T12:39:27.382Z"
   },
   {
    "duration": 0,
    "start_time": "2023-10-11T12:39:27.383Z"
   },
   {
    "duration": 0,
    "start_time": "2023-10-11T12:39:27.385Z"
   },
   {
    "duration": 0,
    "start_time": "2023-10-11T12:39:27.386Z"
   },
   {
    "duration": 0,
    "start_time": "2023-10-11T12:39:27.387Z"
   },
   {
    "duration": 0,
    "start_time": "2023-10-11T12:39:27.387Z"
   },
   {
    "duration": 0,
    "start_time": "2023-10-11T12:39:27.389Z"
   },
   {
    "duration": 0,
    "start_time": "2023-10-11T12:39:27.391Z"
   },
   {
    "duration": 0,
    "start_time": "2023-10-11T12:39:27.392Z"
   },
   {
    "duration": 0,
    "start_time": "2023-10-11T12:39:27.393Z"
   },
   {
    "duration": 0,
    "start_time": "2023-10-11T12:39:27.395Z"
   },
   {
    "duration": 0,
    "start_time": "2023-10-11T12:39:27.395Z"
   },
   {
    "duration": 0,
    "start_time": "2023-10-11T12:39:27.444Z"
   },
   {
    "duration": 0,
    "start_time": "2023-10-11T12:39:27.445Z"
   },
   {
    "duration": 0,
    "start_time": "2023-10-11T12:39:27.446Z"
   },
   {
    "duration": 0,
    "start_time": "2023-10-11T12:39:27.448Z"
   },
   {
    "duration": 1,
    "start_time": "2023-10-11T12:39:27.448Z"
   },
   {
    "duration": 0,
    "start_time": "2023-10-11T12:39:27.449Z"
   },
   {
    "duration": 0,
    "start_time": "2023-10-11T12:39:27.450Z"
   },
   {
    "duration": 0,
    "start_time": "2023-10-11T12:39:27.451Z"
   },
   {
    "duration": 0,
    "start_time": "2023-10-11T12:39:27.452Z"
   },
   {
    "duration": 0,
    "start_time": "2023-10-11T12:39:27.454Z"
   },
   {
    "duration": 0,
    "start_time": "2023-10-11T12:39:27.455Z"
   },
   {
    "duration": 0,
    "start_time": "2023-10-11T12:39:27.456Z"
   },
   {
    "duration": 0,
    "start_time": "2023-10-11T12:39:27.457Z"
   },
   {
    "duration": 0,
    "start_time": "2023-10-11T12:39:27.458Z"
   },
   {
    "duration": 0,
    "start_time": "2023-10-11T12:39:27.459Z"
   },
   {
    "duration": 0,
    "start_time": "2023-10-11T12:39:27.460Z"
   },
   {
    "duration": 0,
    "start_time": "2023-10-11T12:39:27.460Z"
   },
   {
    "duration": 0,
    "start_time": "2023-10-11T12:39:27.462Z"
   },
   {
    "duration": 0,
    "start_time": "2023-10-11T12:39:27.463Z"
   },
   {
    "duration": 0,
    "start_time": "2023-10-11T12:39:27.464Z"
   },
   {
    "duration": 0,
    "start_time": "2023-10-11T12:39:27.465Z"
   },
   {
    "duration": 0,
    "start_time": "2023-10-11T12:39:27.466Z"
   },
   {
    "duration": 0,
    "start_time": "2023-10-11T12:39:27.467Z"
   },
   {
    "duration": 0,
    "start_time": "2023-10-11T12:39:27.469Z"
   },
   {
    "duration": 0,
    "start_time": "2023-10-11T12:39:27.470Z"
   },
   {
    "duration": 0,
    "start_time": "2023-10-11T12:39:27.471Z"
   },
   {
    "duration": 0,
    "start_time": "2023-10-11T12:39:27.472Z"
   },
   {
    "duration": 0,
    "start_time": "2023-10-11T12:39:27.473Z"
   },
   {
    "duration": 0,
    "start_time": "2023-10-11T12:39:27.474Z"
   },
   {
    "duration": 0,
    "start_time": "2023-10-11T12:39:27.475Z"
   },
   {
    "duration": 0,
    "start_time": "2023-10-11T12:39:27.476Z"
   },
   {
    "duration": 0,
    "start_time": "2023-10-11T12:39:27.476Z"
   },
   {
    "duration": 0,
    "start_time": "2023-10-11T12:39:27.478Z"
   },
   {
    "duration": 0,
    "start_time": "2023-10-11T12:39:27.478Z"
   },
   {
    "duration": 0,
    "start_time": "2023-10-11T12:39:27.479Z"
   },
   {
    "duration": 0,
    "start_time": "2023-10-11T12:39:27.544Z"
   },
   {
    "duration": 0,
    "start_time": "2023-10-11T12:39:27.545Z"
   },
   {
    "duration": 0,
    "start_time": "2023-10-11T12:39:27.547Z"
   },
   {
    "duration": 0,
    "start_time": "2023-10-11T12:39:27.548Z"
   },
   {
    "duration": 1,
    "start_time": "2023-10-11T12:39:27.549Z"
   },
   {
    "duration": 0,
    "start_time": "2023-10-11T12:39:27.551Z"
   },
   {
    "duration": 1,
    "start_time": "2023-10-11T12:39:27.552Z"
   },
   {
    "duration": 0,
    "start_time": "2023-10-11T12:39:27.554Z"
   },
   {
    "duration": 0,
    "start_time": "2023-10-11T12:39:27.556Z"
   },
   {
    "duration": 93,
    "start_time": "2023-10-11T12:40:02.381Z"
   },
   {
    "duration": 5,
    "start_time": "2023-10-11T12:40:50.517Z"
   },
   {
    "duration": 7,
    "start_time": "2023-10-11T12:40:51.740Z"
   },
   {
    "duration": 1674,
    "start_time": "2023-10-11T12:41:36.400Z"
   },
   {
    "duration": 900,
    "start_time": "2023-10-11T12:41:39.245Z"
   },
   {
    "duration": 7,
    "start_time": "2023-10-11T12:41:42.510Z"
   },
   {
    "duration": 1414,
    "start_time": "2023-10-11T12:41:43.455Z"
   },
   {
    "duration": 2638,
    "start_time": "2023-10-11T12:41:49.761Z"
   },
   {
    "duration": 3,
    "start_time": "2023-10-11T12:41:55.827Z"
   },
   {
    "duration": 40,
    "start_time": "2023-10-11T12:41:57.087Z"
   },
   {
    "duration": 7,
    "start_time": "2023-10-11T12:41:59.032Z"
   },
   {
    "duration": 134,
    "start_time": "2023-10-11T12:42:00.403Z"
   },
   {
    "duration": 5,
    "start_time": "2023-10-11T12:42:41.885Z"
   },
   {
    "duration": 1482,
    "start_time": "2023-10-11T12:42:42.649Z"
   },
   {
    "duration": 19,
    "start_time": "2023-10-11T12:42:47.516Z"
   },
   {
    "duration": 357,
    "start_time": "2023-10-11T12:42:52.364Z"
   },
   {
    "duration": 6,
    "start_time": "2023-10-11T12:42:55.110Z"
   },
   {
    "duration": 123,
    "start_time": "2023-10-11T12:42:59.678Z"
   },
   {
    "duration": 19,
    "start_time": "2023-10-11T12:43:02.310Z"
   },
   {
    "duration": 5,
    "start_time": "2023-10-11T12:43:25.193Z"
   },
   {
    "duration": 340,
    "start_time": "2023-10-11T12:43:26.450Z"
   },
   {
    "duration": 13,
    "start_time": "2023-10-11T12:44:31.186Z"
   },
   {
    "duration": 146,
    "start_time": "2023-10-11T12:44:32.098Z"
   },
   {
    "duration": 515,
    "start_time": "2023-10-11T12:44:35.857Z"
   },
   {
    "duration": 9,
    "start_time": "2023-10-11T12:44:40.804Z"
   },
   {
    "duration": 89,
    "start_time": "2023-10-11T12:44:45.386Z"
   },
   {
    "duration": 5,
    "start_time": "2023-10-11T12:44:46.890Z"
   },
   {
    "duration": 145,
    "start_time": "2023-10-11T12:44:52.450Z"
   },
   {
    "duration": 70,
    "start_time": "2023-10-11T12:44:56.458Z"
   },
   {
    "duration": 13,
    "start_time": "2023-10-11T12:44:58.086Z"
   },
   {
    "duration": 92,
    "start_time": "2023-10-11T12:45:13.257Z"
   },
   {
    "duration": 127,
    "start_time": "2023-10-11T12:45:17.120Z"
   },
   {
    "duration": 1168,
    "start_time": "2023-10-11T12:45:32.123Z"
   },
   {
    "duration": 141,
    "start_time": "2023-10-11T12:45:38.350Z"
   },
   {
    "duration": 47,
    "start_time": "2023-10-11T12:45:39.597Z"
   },
   {
    "duration": 124,
    "start_time": "2023-10-11T12:45:50.736Z"
   },
   {
    "duration": 337,
    "start_time": "2023-10-11T12:45:54.784Z"
   },
   {
    "duration": 142,
    "start_time": "2023-10-11T12:46:01.817Z"
   },
   {
    "duration": 138,
    "start_time": "2023-10-11T12:46:18.986Z"
   },
   {
    "duration": 615,
    "start_time": "2023-10-11T12:46:25.884Z"
   },
   {
    "duration": 3,
    "start_time": "2023-10-11T12:46:29.506Z"
   },
   {
    "duration": 138,
    "start_time": "2023-10-11T12:46:37.384Z"
   },
   {
    "duration": 132,
    "start_time": "2023-10-11T12:46:49.963Z"
   },
   {
    "duration": 111,
    "start_time": "2023-10-11T12:46:55.025Z"
   },
   {
    "duration": 8,
    "start_time": "2023-10-11T12:46:58.948Z"
   },
   {
    "duration": 4,
    "start_time": "2023-10-11T12:47:15.604Z"
   },
   {
    "duration": 202,
    "start_time": "2023-10-11T12:47:17.532Z"
   },
   {
    "duration": 111,
    "start_time": "2023-10-11T12:51:01.470Z"
   },
   {
    "duration": 124,
    "start_time": "2023-10-11T12:51:14.450Z"
   },
   {
    "duration": 15,
    "start_time": "2023-10-11T12:51:24.645Z"
   },
   {
    "duration": 5,
    "start_time": "2023-10-11T12:51:45.552Z"
   },
   {
    "duration": 5,
    "start_time": "2023-10-11T12:52:57.088Z"
   },
   {
    "duration": 6,
    "start_time": "2023-10-11T12:53:33.048Z"
   },
   {
    "duration": 8,
    "start_time": "2023-10-11T12:53:42.588Z"
   },
   {
    "duration": 5,
    "start_time": "2023-10-11T12:53:56.112Z"
   },
   {
    "duration": 17,
    "start_time": "2023-10-11T13:01:34.236Z"
   },
   {
    "duration": 38,
    "start_time": "2023-10-11T13:01:49.522Z"
   },
   {
    "duration": 36,
    "start_time": "2023-10-11T13:03:13.650Z"
   },
   {
    "duration": 33,
    "start_time": "2023-10-11T13:03:39.210Z"
   },
   {
    "duration": 193,
    "start_time": "2023-10-11T13:04:01.811Z"
   },
   {
    "duration": 250,
    "start_time": "2023-10-11T13:04:56.157Z"
   },
   {
    "duration": 198,
    "start_time": "2023-10-11T13:05:05.093Z"
   },
   {
    "duration": 23,
    "start_time": "2023-10-11T13:10:12.555Z"
   },
   {
    "duration": 20,
    "start_time": "2023-10-11T13:10:27.295Z"
   },
   {
    "duration": 219,
    "start_time": "2023-10-11T13:11:23.869Z"
   },
   {
    "duration": 111,
    "start_time": "2023-10-11T13:14:25.561Z"
   },
   {
    "duration": 15,
    "start_time": "2023-10-11T13:14:34.032Z"
   },
   {
    "duration": 11,
    "start_time": "2023-10-11T13:15:00.455Z"
   },
   {
    "duration": 11,
    "start_time": "2023-10-11T13:15:21.306Z"
   },
   {
    "duration": 11,
    "start_time": "2023-10-11T13:16:13.271Z"
   },
   {
    "duration": 12,
    "start_time": "2023-10-11T13:16:23.457Z"
   },
   {
    "duration": 12,
    "start_time": "2023-10-11T13:19:00.480Z"
   },
   {
    "duration": 16,
    "start_time": "2023-10-11T13:19:14.020Z"
   },
   {
    "duration": 17,
    "start_time": "2023-10-11T13:19:15.269Z"
   },
   {
    "duration": 17,
    "start_time": "2023-10-11T13:19:22.753Z"
   },
   {
    "duration": 104,
    "start_time": "2023-10-11T13:22:46.216Z"
   },
   {
    "duration": 229,
    "start_time": "2023-10-11T13:22:47.116Z"
   },
   {
    "duration": 4,
    "start_time": "2023-10-11T13:22:50.395Z"
   },
   {
    "duration": 9,
    "start_time": "2023-10-11T13:22:55.208Z"
   },
   {
    "duration": 6,
    "start_time": "2023-10-11T13:22:57.606Z"
   },
   {
    "duration": 682,
    "start_time": "2023-10-11T13:23:39.154Z"
   },
   {
    "duration": 10,
    "start_time": "2023-10-11T13:23:49.403Z"
   },
   {
    "duration": 718,
    "start_time": "2023-10-11T13:24:03.150Z"
   },
   {
    "duration": 18,
    "start_time": "2023-10-11T13:24:06.394Z"
   },
   {
    "duration": 118,
    "start_time": "2023-10-11T13:24:08.921Z"
   },
   {
    "duration": 100,
    "start_time": "2023-10-11T13:24:18.324Z"
   },
   {
    "duration": 238,
    "start_time": "2023-10-11T13:24:22.813Z"
   },
   {
    "duration": 4,
    "start_time": "2023-10-11T13:24:26.547Z"
   },
   {
    "duration": 11,
    "start_time": "2023-10-11T13:24:28.267Z"
   },
   {
    "duration": 12,
    "start_time": "2023-10-11T13:24:45.930Z"
   },
   {
    "duration": 203,
    "start_time": "2023-10-11T13:24:54.730Z"
   },
   {
    "duration": 234,
    "start_time": "2023-10-11T13:24:56.461Z"
   },
   {
    "duration": 88,
    "start_time": "2023-10-11T13:25:01.498Z"
   },
   {
    "duration": 3,
    "start_time": "2023-10-11T13:25:06.199Z"
   },
   {
    "duration": 107,
    "start_time": "2023-10-11T13:25:08.511Z"
   },
   {
    "duration": 10,
    "start_time": "2023-10-11T13:25:13.743Z"
   },
   {
    "duration": 5311,
    "start_time": "2023-10-11T13:26:07.197Z"
   },
   {
    "duration": 4,
    "start_time": "2023-10-11T13:26:35.890Z"
   },
   {
    "duration": 26107,
    "start_time": "2023-10-11T13:27:48.550Z"
   },
   {
    "duration": 7175,
    "start_time": "2023-10-11T13:46:16.820Z"
   },
   {
    "duration": 1193,
    "start_time": "2023-10-11T13:46:23.997Z"
   },
   {
    "duration": 7,
    "start_time": "2023-10-11T13:46:25.192Z"
   },
   {
    "duration": 1419,
    "start_time": "2023-10-11T13:46:25.202Z"
   },
   {
    "duration": 3023,
    "start_time": "2023-10-11T13:46:26.623Z"
   },
   {
    "duration": 7,
    "start_time": "2023-10-11T13:46:29.648Z"
   },
   {
    "duration": 47,
    "start_time": "2023-10-11T13:46:29.657Z"
   },
   {
    "duration": 8,
    "start_time": "2023-10-11T13:46:29.707Z"
   },
   {
    "duration": 1616,
    "start_time": "2023-10-11T13:46:29.716Z"
   },
   {
    "duration": 32,
    "start_time": "2023-10-11T13:46:31.335Z"
   },
   {
    "duration": 437,
    "start_time": "2023-10-11T13:46:31.369Z"
   },
   {
    "duration": 6,
    "start_time": "2023-10-11T13:46:31.808Z"
   },
   {
    "duration": 224,
    "start_time": "2023-10-11T13:46:31.815Z"
   },
   {
    "duration": 26,
    "start_time": "2023-10-11T13:46:32.043Z"
   },
   {
    "duration": 43,
    "start_time": "2023-10-11T13:46:32.071Z"
   },
   {
    "duration": 539,
    "start_time": "2023-10-11T13:46:32.116Z"
   },
   {
    "duration": 13,
    "start_time": "2023-10-11T13:46:32.657Z"
   },
   {
    "duration": 160,
    "start_time": "2023-10-11T13:46:32.673Z"
   },
   {
    "duration": 468,
    "start_time": "2023-10-11T13:46:32.835Z"
   },
   {
    "duration": 8,
    "start_time": "2023-10-11T13:46:33.305Z"
   },
   {
    "duration": 139,
    "start_time": "2023-10-11T13:46:33.315Z"
   },
   {
    "duration": 10,
    "start_time": "2023-10-11T13:46:33.456Z"
   },
   {
    "duration": 144,
    "start_time": "2023-10-11T13:46:33.468Z"
   },
   {
    "duration": 77,
    "start_time": "2023-10-11T13:46:33.614Z"
   },
   {
    "duration": 111,
    "start_time": "2023-10-11T13:46:33.693Z"
   },
   {
    "duration": 168,
    "start_time": "2023-10-11T13:46:33.807Z"
   },
   {
    "duration": 1325,
    "start_time": "2023-10-11T13:46:33.978Z"
   },
   {
    "duration": 196,
    "start_time": "2023-10-11T13:46:35.308Z"
   },
   {
    "duration": 64,
    "start_time": "2023-10-11T13:46:35.506Z"
   },
   {
    "duration": 197,
    "start_time": "2023-10-11T13:46:35.572Z"
   },
   {
    "duration": 360,
    "start_time": "2023-10-11T13:46:35.771Z"
   },
   {
    "duration": 165,
    "start_time": "2023-10-11T13:46:36.133Z"
   },
   {
    "duration": 691,
    "start_time": "2023-10-11T13:46:36.301Z"
   },
   {
    "duration": 5,
    "start_time": "2023-10-11T13:46:36.994Z"
   },
   {
    "duration": 161,
    "start_time": "2023-10-11T13:46:37.001Z"
   },
   {
    "duration": 130,
    "start_time": "2023-10-11T13:46:37.164Z"
   },
   {
    "duration": 9,
    "start_time": "2023-10-11T13:46:37.296Z"
   },
   {
    "duration": 53,
    "start_time": "2023-10-11T13:46:37.306Z"
   },
   {
    "duration": 278,
    "start_time": "2023-10-11T13:46:37.362Z"
   },
   {
    "duration": 32,
    "start_time": "2023-10-11T13:46:37.644Z"
   },
   {
    "duration": 42,
    "start_time": "2023-10-11T13:46:37.678Z"
   },
   {
    "duration": 44,
    "start_time": "2023-10-11T13:46:37.722Z"
   },
   {
    "duration": 109,
    "start_time": "2023-10-11T13:46:37.768Z"
   },
   {
    "duration": 298,
    "start_time": "2023-10-11T13:46:37.879Z"
   },
   {
    "duration": 4,
    "start_time": "2023-10-11T13:46:38.179Z"
   },
   {
    "duration": 19,
    "start_time": "2023-10-11T13:46:38.185Z"
   },
   {
    "duration": 12,
    "start_time": "2023-10-11T13:46:38.206Z"
   },
   {
    "duration": 788,
    "start_time": "2023-10-11T13:46:38.220Z"
   },
   {
    "duration": 10,
    "start_time": "2023-10-11T13:46:39.010Z"
   },
   {
    "duration": 849,
    "start_time": "2023-10-11T13:46:39.022Z"
   },
   {
    "duration": 23,
    "start_time": "2023-10-11T13:46:39.872Z"
   },
   {
    "duration": 157,
    "start_time": "2023-10-11T13:46:39.897Z"
   },
   {
    "duration": 267,
    "start_time": "2023-10-11T13:46:40.056Z"
   },
   {
    "duration": 21,
    "start_time": "2023-10-11T13:46:40.325Z"
   },
   {
    "duration": 304,
    "start_time": "2023-10-11T13:46:40.349Z"
   },
   {
    "duration": 75,
    "start_time": "2023-10-11T13:46:40.655Z"
   },
   {
    "duration": 14,
    "start_time": "2023-10-11T13:46:40.745Z"
   },
   {
    "duration": 7,
    "start_time": "2023-10-11T13:46:40.761Z"
   },
   {
    "duration": 28906,
    "start_time": "2023-10-11T13:46:40.771Z"
   },
   {
    "duration": 669308,
    "start_time": "2023-10-11T13:47:09.679Z"
   },
   {
    "duration": 168467,
    "start_time": "2023-10-11T13:58:18.989Z"
   },
   {
    "duration": 26099,
    "start_time": "2023-10-11T14:01:07.461Z"
   },
   {
    "duration": 32997,
    "start_time": "2023-10-11T14:01:33.561Z"
   },
   {
    "duration": 4,
    "start_time": "2023-10-11T14:02:06.561Z"
   },
   {
    "duration": 607024,
    "start_time": "2023-10-11T14:02:06.567Z"
   },
   {
    "duration": 4,
    "start_time": "2023-10-11T14:12:13.593Z"
   },
   {
    "duration": 6133,
    "start_time": "2023-10-11T15:07:22.118Z"
   },
   {
    "duration": 1016,
    "start_time": "2023-10-11T15:07:28.252Z"
   },
   {
    "duration": 6,
    "start_time": "2023-10-11T15:07:29.270Z"
   },
   {
    "duration": 1296,
    "start_time": "2023-10-11T15:07:29.278Z"
   },
   {
    "duration": 2674,
    "start_time": "2023-10-11T15:07:30.576Z"
   },
   {
    "duration": 2,
    "start_time": "2023-10-11T15:07:33.252Z"
   },
   {
    "duration": 46,
    "start_time": "2023-10-11T15:07:33.256Z"
   },
   {
    "duration": 5,
    "start_time": "2023-10-11T15:07:33.304Z"
   },
   {
    "duration": 1537,
    "start_time": "2023-10-11T15:07:33.310Z"
   },
   {
    "duration": 16,
    "start_time": "2023-10-11T15:07:34.849Z"
   },
   {
    "duration": 388,
    "start_time": "2023-10-11T15:07:34.866Z"
   },
   {
    "duration": 6,
    "start_time": "2023-10-11T15:07:35.256Z"
   },
   {
    "duration": 133,
    "start_time": "2023-10-11T15:07:35.264Z"
   },
   {
    "duration": 16,
    "start_time": "2023-10-11T15:07:35.399Z"
   },
   {
    "duration": 5,
    "start_time": "2023-10-11T15:07:35.417Z"
   },
   {
    "duration": 394,
    "start_time": "2023-10-11T15:07:35.423Z"
   },
   {
    "duration": 11,
    "start_time": "2023-10-11T15:07:35.818Z"
   },
   {
    "duration": 138,
    "start_time": "2023-10-11T15:07:35.830Z"
   },
   {
    "duration": 409,
    "start_time": "2023-10-11T15:07:35.970Z"
   },
   {
    "duration": 7,
    "start_time": "2023-10-11T15:07:36.380Z"
   },
   {
    "duration": 125,
    "start_time": "2023-10-11T15:07:36.389Z"
   },
   {
    "duration": 4,
    "start_time": "2023-10-11T15:07:36.516Z"
   },
   {
    "duration": 132,
    "start_time": "2023-10-11T15:07:36.521Z"
   },
   {
    "duration": 55,
    "start_time": "2023-10-11T15:07:36.655Z"
   },
   {
    "duration": 105,
    "start_time": "2023-10-11T15:07:36.712Z"
   },
   {
    "duration": 137,
    "start_time": "2023-10-11T15:07:36.818Z"
   },
   {
    "duration": 1087,
    "start_time": "2023-10-11T15:07:36.957Z"
   },
   {
    "duration": 165,
    "start_time": "2023-10-11T15:07:38.048Z"
   },
   {
    "duration": 45,
    "start_time": "2023-10-11T15:07:38.215Z"
   },
   {
    "duration": 131,
    "start_time": "2023-10-11T15:07:38.262Z"
   },
   {
    "duration": 339,
    "start_time": "2023-10-11T15:07:38.396Z"
   },
   {
    "duration": 149,
    "start_time": "2023-10-11T15:07:38.737Z"
   },
   {
    "duration": 601,
    "start_time": "2023-10-11T15:07:38.887Z"
   },
   {
    "duration": 4,
    "start_time": "2023-10-11T15:07:39.490Z"
   },
   {
    "duration": 131,
    "start_time": "2023-10-11T15:07:39.497Z"
   },
   {
    "duration": 115,
    "start_time": "2023-10-11T15:07:39.629Z"
   },
   {
    "duration": 8,
    "start_time": "2023-10-11T15:07:39.746Z"
   },
   {
    "duration": 20,
    "start_time": "2023-10-11T15:07:39.755Z"
   },
   {
    "duration": 217,
    "start_time": "2023-10-11T15:07:39.776Z"
   },
   {
    "duration": 11,
    "start_time": "2023-10-11T15:07:39.994Z"
   },
   {
    "duration": 12,
    "start_time": "2023-10-11T15:07:40.006Z"
   },
   {
    "duration": 28,
    "start_time": "2023-10-11T15:07:40.020Z"
   },
   {
    "duration": 101,
    "start_time": "2023-10-11T15:07:40.050Z"
   },
   {
    "duration": 221,
    "start_time": "2023-10-11T15:07:40.153Z"
   },
   {
    "duration": 3,
    "start_time": "2023-10-11T15:07:40.376Z"
   },
   {
    "duration": 16,
    "start_time": "2023-10-11T15:07:40.380Z"
   },
   {
    "duration": 10,
    "start_time": "2023-10-11T15:07:40.398Z"
   },
   {
    "duration": 669,
    "start_time": "2023-10-11T15:07:40.409Z"
   },
   {
    "duration": 8,
    "start_time": "2023-10-11T15:07:41.079Z"
   },
   {
    "duration": 708,
    "start_time": "2023-10-11T15:07:41.088Z"
   },
   {
    "duration": 18,
    "start_time": "2023-10-11T15:07:41.797Z"
   },
   {
    "duration": 100,
    "start_time": "2023-10-11T15:07:41.817Z"
   },
   {
    "duration": 233,
    "start_time": "2023-10-11T15:07:41.919Z"
   },
   {
    "duration": 4,
    "start_time": "2023-10-11T15:07:42.154Z"
   },
   {
    "duration": 220,
    "start_time": "2023-10-11T15:07:42.159Z"
   },
   {
    "duration": 73,
    "start_time": "2023-10-11T15:07:42.381Z"
   },
   {
    "duration": 10,
    "start_time": "2023-10-11T15:07:42.455Z"
   },
   {
    "duration": 10,
    "start_time": "2023-10-11T15:07:42.466Z"
   },
   {
    "duration": 24570,
    "start_time": "2023-10-11T15:07:42.478Z"
   },
   {
    "duration": 50221,
    "start_time": "2023-10-11T15:08:07.049Z"
   },
   {
    "duration": 148426,
    "start_time": "2023-10-11T15:08:57.272Z"
   },
   {
    "duration": 25060,
    "start_time": "2023-10-11T15:11:25.700Z"
   },
   {
    "duration": 30832,
    "start_time": "2023-10-11T15:11:50.762Z"
   },
   {
    "duration": 3,
    "start_time": "2023-10-11T15:12:21.596Z"
   },
   {
    "duration": 575827,
    "start_time": "2023-10-11T15:12:21.601Z"
   },
   {
    "duration": 6,
    "start_time": "2023-10-11T15:21:57.431Z"
   },
   {
    "duration": 4986606,
    "start_time": "2023-10-11T15:21:57.439Z"
   },
   {
    "duration": 4,
    "start_time": "2023-10-11T16:45:04.046Z"
   },
   {
    "duration": 4,
    "start_time": "2023-10-11T16:54:44.647Z"
   },
   {
    "duration": 5727,
    "start_time": "2023-10-11T16:54:44.653Z"
   },
   {
    "duration": 0,
    "start_time": "2023-10-11T16:54:50.382Z"
   },
   {
    "duration": 0,
    "start_time": "2023-10-11T16:54:50.384Z"
   },
   {
    "duration": 0,
    "start_time": "2023-10-11T16:54:50.385Z"
   },
   {
    "duration": 3347417,
    "start_time": "2023-10-11T18:59:10.043Z"
   },
   {
    "duration": 5,
    "start_time": "2023-10-11T20:58:59.607Z"
   },
   {
    "duration": 634460,
    "start_time": "2023-10-11T21:01:58.285Z"
   },
   {
    "duration": 79145,
    "start_time": "2023-10-11T21:12:32.747Z"
   },
   {
    "duration": 5,
    "start_time": "2023-10-11T21:13:51.894Z"
   },
   {
    "duration": 5836,
    "start_time": "2023-10-11T21:17:35.883Z"
   },
   {
    "duration": 8217,
    "start_time": "2023-10-11T21:17:53.355Z"
   },
   {
    "duration": 1901,
    "start_time": "2023-10-11T21:18:01.645Z"
   },
   {
    "duration": 114,
    "start_time": "2023-10-11T21:20:09.830Z"
   },
   {
    "duration": 6067,
    "start_time": "2023-10-11T21:26:22.812Z"
   },
   {
    "duration": 888,
    "start_time": "2023-10-11T21:26:28.882Z"
   },
   {
    "duration": 6,
    "start_time": "2023-10-11T21:26:29.771Z"
   },
   {
    "duration": 1233,
    "start_time": "2023-10-11T21:26:29.779Z"
   },
   {
    "duration": 2836,
    "start_time": "2023-10-11T21:26:31.014Z"
   },
   {
    "duration": 6,
    "start_time": "2023-10-11T21:26:33.852Z"
   },
   {
    "duration": 49,
    "start_time": "2023-10-11T21:26:33.859Z"
   },
   {
    "duration": 5,
    "start_time": "2023-10-11T21:26:33.910Z"
   },
   {
    "duration": 1488,
    "start_time": "2023-10-11T21:26:33.917Z"
   },
   {
    "duration": 17,
    "start_time": "2023-10-11T21:26:35.408Z"
   },
   {
    "duration": 413,
    "start_time": "2023-10-11T21:26:35.426Z"
   },
   {
    "duration": 17,
    "start_time": "2023-10-11T21:26:35.841Z"
   },
   {
    "duration": 151,
    "start_time": "2023-10-11T21:26:35.860Z"
   },
   {
    "duration": 18,
    "start_time": "2023-10-11T21:26:36.013Z"
   },
   {
    "duration": 20,
    "start_time": "2023-10-11T21:26:36.033Z"
   },
   {
    "duration": 442,
    "start_time": "2023-10-11T21:26:36.060Z"
   },
   {
    "duration": 11,
    "start_time": "2023-10-11T21:26:36.504Z"
   },
   {
    "duration": 136,
    "start_time": "2023-10-11T21:26:36.517Z"
   },
   {
    "duration": 395,
    "start_time": "2023-10-11T21:26:36.656Z"
   },
   {
    "duration": 11,
    "start_time": "2023-10-11T21:26:37.056Z"
   },
   {
    "duration": 103,
    "start_time": "2023-10-11T21:26:37.070Z"
   },
   {
    "duration": 4,
    "start_time": "2023-10-11T21:26:37.174Z"
   },
   {
    "duration": 125,
    "start_time": "2023-10-11T21:26:37.179Z"
   },
   {
    "duration": 73,
    "start_time": "2023-10-11T21:26:37.306Z"
   },
   {
    "duration": 103,
    "start_time": "2023-10-11T21:26:37.381Z"
   },
   {
    "duration": 176,
    "start_time": "2023-10-11T21:26:37.486Z"
   },
   {
    "duration": 1172,
    "start_time": "2023-10-11T21:26:37.663Z"
   },
   {
    "duration": 169,
    "start_time": "2023-10-11T21:26:38.839Z"
   },
   {
    "duration": 57,
    "start_time": "2023-10-11T21:26:39.010Z"
   },
   {
    "duration": 158,
    "start_time": "2023-10-11T21:26:39.069Z"
   },
   {
    "duration": 357,
    "start_time": "2023-10-11T21:26:39.229Z"
   },
   {
    "duration": 139,
    "start_time": "2023-10-11T21:26:39.588Z"
   },
   {
    "duration": 633,
    "start_time": "2023-10-11T21:26:39.728Z"
   },
   {
    "duration": 4,
    "start_time": "2023-10-11T21:26:40.362Z"
   },
   {
    "duration": 138,
    "start_time": "2023-10-11T21:26:40.368Z"
   },
   {
    "duration": 121,
    "start_time": "2023-10-11T21:26:40.508Z"
   },
   {
    "duration": 26,
    "start_time": "2023-10-11T21:26:40.631Z"
   },
   {
    "duration": 4,
    "start_time": "2023-10-11T21:26:40.658Z"
   },
   {
    "duration": 225,
    "start_time": "2023-10-11T21:26:40.664Z"
   },
   {
    "duration": 10,
    "start_time": "2023-10-11T21:26:40.890Z"
   },
   {
    "duration": 35,
    "start_time": "2023-10-11T21:26:40.901Z"
   },
   {
    "duration": 27,
    "start_time": "2023-10-11T21:26:40.938Z"
   },
   {
    "duration": 113,
    "start_time": "2023-10-11T21:26:40.966Z"
   },
   {
    "duration": 234,
    "start_time": "2023-10-11T21:26:41.081Z"
   },
   {
    "duration": 3,
    "start_time": "2023-10-11T21:26:41.316Z"
   },
   {
    "duration": 22,
    "start_time": "2023-10-11T21:26:41.321Z"
   },
   {
    "duration": 14,
    "start_time": "2023-10-11T21:26:41.345Z"
   },
   {
    "duration": 671,
    "start_time": "2023-10-11T21:26:41.361Z"
   },
   {
    "duration": 23,
    "start_time": "2023-10-11T21:26:42.034Z"
   },
   {
    "duration": 701,
    "start_time": "2023-10-11T21:26:42.059Z"
   },
   {
    "duration": 19,
    "start_time": "2023-10-11T21:26:42.762Z"
   },
   {
    "duration": 104,
    "start_time": "2023-10-11T21:26:42.783Z"
   },
   {
    "duration": 243,
    "start_time": "2023-10-11T21:26:42.889Z"
   },
   {
    "duration": 24,
    "start_time": "2023-10-11T21:26:43.133Z"
   },
   {
    "duration": 219,
    "start_time": "2023-10-11T21:26:43.158Z"
   },
   {
    "duration": 83,
    "start_time": "2023-10-11T21:26:43.379Z"
   },
   {
    "duration": 3,
    "start_time": "2023-10-11T21:26:43.464Z"
   },
   {
    "duration": 6,
    "start_time": "2023-10-11T21:26:43.468Z"
   },
   {
    "duration": 26383,
    "start_time": "2023-10-11T21:26:43.475Z"
   },
   {
    "duration": 197810,
    "start_time": "2023-10-11T21:27:09.860Z"
   },
   {
    "duration": 101,
    "start_time": "2023-10-12T06:22:08.917Z"
   },
   {
    "duration": 125,
    "start_time": "2023-10-12T06:25:03.239Z"
   },
   {
    "duration": 99,
    "start_time": "2023-10-12T06:25:26.897Z"
   },
   {
    "duration": 84,
    "start_time": "2023-10-12T06:26:47.963Z"
   }
  ],
  "kernelspec": {
   "display_name": "Python 3 (ipykernel)",
   "language": "python",
   "name": "python3"
  },
  "language_info": {
   "codemirror_mode": {
    "name": "ipython",
    "version": 3
   },
   "file_extension": ".py",
   "mimetype": "text/x-python",
   "name": "python",
   "nbconvert_exporter": "python",
   "pygments_lexer": "ipython3",
   "version": "3.9.13"
  },
  "toc": {
   "base_numbering": 1,
   "nav_menu": {},
   "number_sections": true,
   "sideBar": true,
   "skip_h1_title": true,
   "title_cell": "Table of Contents",
   "title_sidebar": "Contents",
   "toc_cell": false,
   "toc_position": {},
   "toc_section_display": true,
   "toc_window_display": false
  }
 },
 "nbformat": 4,
 "nbformat_minor": 2
}
